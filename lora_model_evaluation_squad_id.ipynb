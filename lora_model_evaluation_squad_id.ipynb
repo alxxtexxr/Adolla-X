{
 "cells": [
  {
   "cell_type": "markdown",
   "metadata": {},
   "source": [
    "# Libraries"
   ]
  },
  {
   "cell_type": "code",
   "execution_count": null,
   "metadata": {},
   "outputs": [],
   "source": [
    "import json\n",
    "import torch\n",
    "from datasets import Dataset\n",
    "from evaluate import evaluator"
   ]
  },
  {
   "cell_type": "markdown",
   "metadata": {},
   "source": [
    "# Configuration"
   ]
  },
  {
   "cell_type": "code",
   "execution_count": null,
   "metadata": {},
   "outputs": [],
   "source": [
    "test_size = 1000\n",
    "model = 'unsloth/Meta-Llama-3.1-8B'"
   ]
  },
  {
   "cell_type": "markdown",
   "metadata": {},
   "source": [
    "# Data"
   ]
  },
  {
   "cell_type": "code",
   "execution_count": null,
   "metadata": {},
   "outputs": [],
   "source": [
    "# Download the Indonesian SQuAD dataset\n",
    "!mkdir data\n",
    "!cd data && wget https://raw.githubusercontent.com/Wikidepia/SQuAD-id/refs/heads/master/data/train-SQuAD-id.json"
   ]
  },
  {
   "cell_type": "code",
   "execution_count": null,
   "metadata": {},
   "outputs": [],
   "source": [
    "# Load and convert data to Huggingface format\n",
    "# Source: https://github.com/Wikidepia/indonesian_datasets/blob/master/question-answering/squad/convert_huggingface.py\n",
    "\n",
    "with open('data/train-SQuAD-id.json', 'r') as f:\n",
    "    content = json.load(f)\n",
    "\n",
    "hf_data = []\n",
    "for data in content[\"data\"]:\n",
    "    title = data[\"title\"]\n",
    "    for paragraph in data[\"paragraphs\"]:\n",
    "        context = paragraph[\"context\"]\n",
    "        for qa in paragraph[\"qas\"]:\n",
    "            fill = {\n",
    "                \"id\":  qa[\"id\"],\n",
    "                \"title\": title,\n",
    "                \"context\": context,\n",
    "                \"question\": qa[\"question\"],\n",
    "                \"answers\": {\"answer_start\": [], \"text\": []}\n",
    "            }\n",
    "            if qa[\"is_impossible\"]:\n",
    "                answers = qa[\"plausible_answers\"]\n",
    "            else:\n",
    "                answers = qa[\"answers\"]\n",
    "            for answer in answers:\n",
    "                fill[\"answers\"][\"answer_start\"].append(answer[\"answer_start\"])\n",
    "                fill[\"answers\"][\"text\"].append(answer[\"text\"])\n",
    "            hf_data.append(fill)"
   ]
  },
  {
   "cell_type": "code",
   "execution_count": null,
   "metadata": {},
   "outputs": [],
   "source": [
    "# Create Huggingface dataset\n",
    "data = Dataset.from_list(hf_data[:test_size])\n",
    "print(data)"
   ]
  },
  {
   "cell_type": "markdown",
   "metadata": {},
   "source": [
    "# Evaluation"
   ]
  },
  {
   "cell_type": "code",
   "execution_count": null,
   "metadata": {},
   "outputs": [],
   "source": [
    "task_evaluator = evaluator('question-answering')\n",
    "eval_results = task_evaluator.compute(\n",
    "    model_or_pipeline=model,\n",
    "    data=data,\n",
    "    metric='squad',\n",
    "    strategy='bootstrap',\n",
    "    n_resamples=30,\n",
    "    squad_v2_format=False,  # Whether the dataset follows the format of squad_v2 dataset, \n",
    "                            # where a question may have no answer in the context\n",
    ")"
   ]
  }
 ],
 "metadata": {
  "kernelspec": {
   "display_name": "Python 3 (ipykernel)",
   "language": "python",
   "name": "python3"
  },
  "language_info": {
   "codemirror_mode": {
    "name": "ipython",
    "version": 3
   },
   "file_extension": ".py",
   "mimetype": "text/x-python",
   "name": "python",
   "nbconvert_exporter": "python",
   "pygments_lexer": "ipython3",
   "version": "3.11.13"
  }
 },
 "nbformat": 4,
 "nbformat_minor": 2
}
