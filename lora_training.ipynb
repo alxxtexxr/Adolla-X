{
 "cells": [
  {
   "cell_type": "code",
   "execution_count": null,
   "metadata": {},
   "outputs": [],
   "source": [
    "# # Kill all processess on GPU\n",
    "!fuser -v /dev/nvidia* -k"
   ]
  },
  {
   "cell_type": "markdown",
   "metadata": {},
   "source": [
    "# Libraries"
   ]
  },
  {
   "cell_type": "code",
   "execution_count": 4,
   "metadata": {},
   "outputs": [],
   "source": [
    "%%capture\n",
    "import os\n",
    "if 'COLAB_' not in ''.join(os.environ.keys()):\n",
    "    %pip install unsloth\n",
    "else:\n",
    "    # Do this only in Colab notebooks and Kaggle notebooks!\n",
    "    %pip install --no-deps bitsandbytes accelerate xformers==0.0.29 peft trl triton\n",
    "    %pip install --no-deps cut_cross_entropy unsloth_zoo\n",
    "    %pip install sentencepiece protobuf datasets huggingface_hub hf_transfer\n",
    "    %pip install --no-deps unsloth"
   ]
  },
  {
   "cell_type": "code",
   "execution_count": null,
   "metadata": {},
   "outputs": [],
   "source": [
    "import torch\n",
    "from datetime import datetime\n",
    "from datasets import load_dataset\n",
    "from unsloth import FastLanguageModel, UnslothTrainer, UnslothTrainingArguments, is_bf16_supported\n",
    "from trl import SFTTrainer\n",
    "from transformers import TrainingArguments"
   ]
  },
  {
   "cell_type": "markdown",
   "metadata": {},
   "source": [
    "# Config"
   ]
  },
  {
   "cell_type": "code",
   "execution_count": 12,
   "metadata": {},
   "outputs": [
    {
     "data": {
      "application/vnd.jupyter.widget-view+json": {
       "model_id": "1415c18506a64a53b0ebf8920e0c969d",
       "version_major": 2,
       "version_minor": 0
      },
      "text/plain": [
       "Fetching 239 files:   0%|          | 0/239 [00:00<?, ?it/s]"
      ]
     },
     "metadata": {},
     "output_type": "display_data"
    },
    {
     "data": {
      "application/vnd.jupyter.widget-view+json": {
       "model_id": "1ed984909e7945789404ee89cbcec0f9",
       "version_major": 2,
       "version_minor": 0
      },
      "text/plain": [
       "adapter_model.safetensors:   0%|          | 0.00/83.9M [00:00<?, ?B/s]"
      ]
     },
     "metadata": {},
     "output_type": "display_data"
    },
    {
     "data": {
      "application/vnd.jupyter.widget-view+json": {
       "model_id": "c18242bd25ff4be9be4e0a4c6b9597e0",
       "version_major": 2,
       "version_minor": 0
      },
      "text/plain": [
       "adapter_model.safetensors:   0%|          | 0.00/83.9M [00:00<?, ?B/s]"
      ]
     },
     "metadata": {},
     "output_type": "display_data"
    },
    {
     "data": {
      "application/vnd.jupyter.widget-view+json": {
       "model_id": "27fbb75d79164973904ec648882b7a04",
       "version_major": 2,
       "version_minor": 0
      },
      "text/plain": [
       "rng_state.pth:   0%|          | 0.00/14.2k [00:00<?, ?B/s]"
      ]
     },
     "metadata": {},
     "output_type": "display_data"
    },
    {
     "data": {
      "application/vnd.jupyter.widget-view+json": {
       "model_id": "9aea0f3182ab47178c1df51fc4db5803",
       "version_major": 2,
       "version_minor": 0
      },
      "text/plain": [
       "optimizer.pt:   0%|          | 0.00/43.1M [00:00<?, ?B/s]"
      ]
     },
     "metadata": {},
     "output_type": "display_data"
    },
    {
     "data": {
      "application/vnd.jupyter.widget-view+json": {
       "model_id": "fffc962c63944afdb471ce9ec43091ce",
       "version_major": 2,
       "version_minor": 0
      },
      "text/plain": [
       "README.md:   0%|          | 0.00/5.12k [00:00<?, ?B/s]"
      ]
     },
     "metadata": {},
     "output_type": "display_data"
    },
    {
     "data": {
      "application/vnd.jupyter.widget-view+json": {
       "model_id": "ba0662e120394a279c207f53ef488ba0",
       "version_major": 2,
       "version_minor": 0
      },
      "text/plain": [
       "adapter_config.json:   0%|          | 0.00/812 [00:00<?, ?B/s]"
      ]
     },
     "metadata": {},
     "output_type": "display_data"
    },
    {
     "data": {
      "application/vnd.jupyter.widget-view+json": {
       "model_id": "12abc34d61cf4290a4da4b16b2e1e6cb",
       "version_major": 2,
       "version_minor": 0
      },
      "text/plain": [
       "adapter_config.json:   0%|          | 0.00/812 [00:00<?, ?B/s]"
      ]
     },
     "metadata": {},
     "output_type": "display_data"
    },
    {
     "data": {
      "application/vnd.jupyter.widget-view+json": {
       "model_id": "0545d334facb44f686bafa3cfba36f51",
       "version_major": 2,
       "version_minor": 0
      },
      "text/plain": [
       ".gitattributes:   0%|          | 0.00/1.57k [00:00<?, ?B/s]"
      ]
     },
     "metadata": {},
     "output_type": "display_data"
    },
    {
     "data": {
      "application/vnd.jupyter.widget-view+json": {
       "model_id": "fc86144e90b848dfabafd1429b9ddf29",
       "version_major": 2,
       "version_minor": 0
      },
      "text/plain": [
       "scheduler.pt:   0%|          | 0.00/1.06k [00:00<?, ?B/s]"
      ]
     },
     "metadata": {},
     "output_type": "display_data"
    },
    {
     "data": {
      "application/vnd.jupyter.widget-view+json": {
       "model_id": "1ba8e307b507427aa881fd36fc7c5a9e",
       "version_major": 2,
       "version_minor": 0
      },
      "text/plain": [
       "tokenizer.json:   0%|          | 0.00/17.2M [00:00<?, ?B/s]"
      ]
     },
     "metadata": {},
     "output_type": "display_data"
    },
    {
     "data": {
      "application/vnd.jupyter.widget-view+json": {
       "model_id": "e7122e36383d46859a0f2c0deee3d1a0",
       "version_major": 2,
       "version_minor": 0
      },
      "text/plain": [
       "training_args.bin:   0%|          | 0.00/5.75k [00:00<?, ?B/s]"
      ]
     },
     "metadata": {},
     "output_type": "display_data"
    },
    {
     "data": {
      "application/vnd.jupyter.widget-view+json": {
       "model_id": "68195d3cf60c40a2b3bafc7e74b1aac6",
       "version_major": 2,
       "version_minor": 0
      },
      "text/plain": [
       "tokenizer_config.json:   0%|          | 0.00/50.6k [00:00<?, ?B/s]"
      ]
     },
     "metadata": {},
     "output_type": "display_data"
    },
    {
     "data": {
      "application/vnd.jupyter.widget-view+json": {
       "model_id": "891143be4e244942b769068ce2c8bcf7",
       "version_major": 2,
       "version_minor": 0
      },
      "text/plain": [
       "special_tokens_map.json:   0%|          | 0.00/459 [00:00<?, ?B/s]"
      ]
     },
     "metadata": {},
     "output_type": "display_data"
    },
    {
     "data": {
      "application/vnd.jupyter.widget-view+json": {
       "model_id": "79de6f9536ce472fb6300ed4b4d75ca3",
       "version_major": 2,
       "version_minor": 0
      },
      "text/plain": [
       "trainer_state.json:   0%|          | 0.00/2.33k [00:00<?, ?B/s]"
      ]
     },
     "metadata": {},
     "output_type": "display_data"
    },
    {
     "data": {
      "application/vnd.jupyter.widget-view+json": {
       "model_id": "9c8568b69e9b4788aceab8e6c4d21987",
       "version_major": 2,
       "version_minor": 0
      },
      "text/plain": [
       "README.md:   0%|          | 0.00/5.12k [00:00<?, ?B/s]"
      ]
     },
     "metadata": {},
     "output_type": "display_data"
    },
    {
     "data": {
      "application/vnd.jupyter.widget-view+json": {
       "model_id": "7e498b3b81b041dfb097e73339c70e05",
       "version_major": 2,
       "version_minor": 0
      },
      "text/plain": [
       "adapter_model.safetensors:   0%|          | 0.00/83.9M [00:00<?, ?B/s]"
      ]
     },
     "metadata": {},
     "output_type": "display_data"
    },
    {
     "data": {
      "application/vnd.jupyter.widget-view+json": {
       "model_id": "c7d371a7636441cfb961e1e82df8c412",
       "version_major": 2,
       "version_minor": 0
      },
      "text/plain": [
       "optimizer.pt:   0%|          | 0.00/43.1M [00:00<?, ?B/s]"
      ]
     },
     "metadata": {},
     "output_type": "display_data"
    },
    {
     "data": {
      "application/vnd.jupyter.widget-view+json": {
       "model_id": "74511596c41548b9994dc4c6f36458cd",
       "version_major": 2,
       "version_minor": 0
      },
      "text/plain": [
       "rng_state.pth:   0%|          | 0.00/14.2k [00:00<?, ?B/s]"
      ]
     },
     "metadata": {},
     "output_type": "display_data"
    },
    {
     "data": {
      "application/vnd.jupyter.widget-view+json": {
       "model_id": "babfbbc3080f46139d17819237995ff7",
       "version_major": 2,
       "version_minor": 0
      },
      "text/plain": [
       "adapter_config.json:   0%|          | 0.00/812 [00:00<?, ?B/s]"
      ]
     },
     "metadata": {},
     "output_type": "display_data"
    },
    {
     "data": {
      "application/vnd.jupyter.widget-view+json": {
       "model_id": "32206926537c4539a5f58cb362c18300",
       "version_major": 2,
       "version_minor": 0
      },
      "text/plain": [
       "scheduler.pt:   0%|          | 0.00/1.06k [00:00<?, ?B/s]"
      ]
     },
     "metadata": {},
     "output_type": "display_data"
    },
    {
     "data": {
      "application/vnd.jupyter.widget-view+json": {
       "model_id": "050fb480318d48e6965a3725399d0ee6",
       "version_major": 2,
       "version_minor": 0
      },
      "text/plain": [
       "tokenizer.json:   0%|          | 0.00/17.2M [00:00<?, ?B/s]"
      ]
     },
     "metadata": {},
     "output_type": "display_data"
    },
    {
     "data": {
      "application/vnd.jupyter.widget-view+json": {
       "model_id": "7539c9f74d13451cad56f17835780405",
       "version_major": 2,
       "version_minor": 0
      },
      "text/plain": [
       "special_tokens_map.json:   0%|          | 0.00/459 [00:00<?, ?B/s]"
      ]
     },
     "metadata": {},
     "output_type": "display_data"
    },
    {
     "data": {
      "application/vnd.jupyter.widget-view+json": {
       "model_id": "041debd18b1f4b47a06f687aff223294",
       "version_major": 2,
       "version_minor": 0
      },
      "text/plain": [
       "tokenizer_config.json:   0%|          | 0.00/50.6k [00:00<?, ?B/s]"
      ]
     },
     "metadata": {},
     "output_type": "display_data"
    },
    {
     "data": {
      "application/vnd.jupyter.widget-view+json": {
       "model_id": "4b85e9d521b941ff8225b7c4a2402452",
       "version_major": 2,
       "version_minor": 0
      },
      "text/plain": [
       "training_args.bin:   0%|          | 0.00/5.75k [00:00<?, ?B/s]"
      ]
     },
     "metadata": {},
     "output_type": "display_data"
    },
    {
     "data": {
      "application/vnd.jupyter.widget-view+json": {
       "model_id": "7995dda15b044a3dac42bf29e02f024d",
       "version_major": 2,
       "version_minor": 0
      },
      "text/plain": [
       "trainer_state.json:   0%|          | 0.00/16.7k [00:00<?, ?B/s]"
      ]
     },
     "metadata": {},
     "output_type": "display_data"
    },
    {
     "data": {
      "application/vnd.jupyter.widget-view+json": {
       "model_id": "a8a703d9278b465a997c46bba21e02b2",
       "version_major": 2,
       "version_minor": 0
      },
      "text/plain": [
       "README.md:   0%|          | 0.00/5.12k [00:00<?, ?B/s]"
      ]
     },
     "metadata": {},
     "output_type": "display_data"
    },
    {
     "data": {
      "application/vnd.jupyter.widget-view+json": {
       "model_id": "b785d01c0a4e438986c8b6e85098ee03",
       "version_major": 2,
       "version_minor": 0
      },
      "text/plain": [
       "rng_state.pth:   0%|          | 0.00/14.2k [00:00<?, ?B/s]"
      ]
     },
     "metadata": {},
     "output_type": "display_data"
    },
    {
     "data": {
      "application/vnd.jupyter.widget-view+json": {
       "model_id": "1b06ec990d474792b950f27f3ac7020a",
       "version_major": 2,
       "version_minor": 0
      },
      "text/plain": [
       "adapter_model.safetensors:   0%|          | 0.00/83.9M [00:00<?, ?B/s]"
      ]
     },
     "metadata": {},
     "output_type": "display_data"
    },
    {
     "data": {
      "application/vnd.jupyter.widget-view+json": {
       "model_id": "7c5785420aa84790ae816a02a562a0aa",
       "version_major": 2,
       "version_minor": 0
      },
      "text/plain": [
       "optimizer.pt:   0%|          | 0.00/43.1M [00:00<?, ?B/s]"
      ]
     },
     "metadata": {},
     "output_type": "display_data"
    },
    {
     "data": {
      "application/vnd.jupyter.widget-view+json": {
       "model_id": "03ebd63e23844c2082080e6fd73adc41",
       "version_major": 2,
       "version_minor": 0
      },
      "text/plain": [
       "scheduler.pt:   0%|          | 0.00/1.06k [00:00<?, ?B/s]"
      ]
     },
     "metadata": {},
     "output_type": "display_data"
    },
    {
     "data": {
      "application/vnd.jupyter.widget-view+json": {
       "model_id": "da40546ce1a3473fbd9d27baa2377ac9",
       "version_major": 2,
       "version_minor": 0
      },
      "text/plain": [
       "tokenizer.json:   0%|          | 0.00/17.2M [00:00<?, ?B/s]"
      ]
     },
     "metadata": {},
     "output_type": "display_data"
    },
    {
     "data": {
      "application/vnd.jupyter.widget-view+json": {
       "model_id": "1a444f977dd14d7680d073c75f8c4540",
       "version_major": 2,
       "version_minor": 0
      },
      "text/plain": [
       "adapter_config.json:   0%|          | 0.00/812 [00:00<?, ?B/s]"
      ]
     },
     "metadata": {},
     "output_type": "display_data"
    },
    {
     "data": {
      "application/vnd.jupyter.widget-view+json": {
       "model_id": "b8e2f1f50648403280cf3971f873020b",
       "version_major": 2,
       "version_minor": 0
      },
      "text/plain": [
       "special_tokens_map.json:   0%|          | 0.00/459 [00:00<?, ?B/s]"
      ]
     },
     "metadata": {},
     "output_type": "display_data"
    },
    {
     "data": {
      "application/vnd.jupyter.widget-view+json": {
       "model_id": "2dd6680fbd7d4d96a03a57672054aee5",
       "version_major": 2,
       "version_minor": 0
      },
      "text/plain": [
       "training_args.bin:   0%|          | 0.00/5.75k [00:00<?, ?B/s]"
      ]
     },
     "metadata": {},
     "output_type": "display_data"
    },
    {
     "data": {
      "application/vnd.jupyter.widget-view+json": {
       "model_id": "6ef9d102ee4443c9b5cf5904f2156874",
       "version_major": 2,
       "version_minor": 0
      },
      "text/plain": [
       "tokenizer_config.json:   0%|          | 0.00/50.6k [00:00<?, ?B/s]"
      ]
     },
     "metadata": {},
     "output_type": "display_data"
    },
    {
     "data": {
      "application/vnd.jupyter.widget-view+json": {
       "model_id": "485a9164e547439e84f09353bf1727d0",
       "version_major": 2,
       "version_minor": 0
      },
      "text/plain": [
       "trainer_state.json:   0%|          | 0.00/18.3k [00:00<?, ?B/s]"
      ]
     },
     "metadata": {},
     "output_type": "display_data"
    },
    {
     "data": {
      "application/vnd.jupyter.widget-view+json": {
       "model_id": "29129a76efa4458e986c3ecd8961d1c3",
       "version_major": 2,
       "version_minor": 0
      },
      "text/plain": [
       "adapter_model.safetensors:   0%|          | 0.00/83.9M [00:00<?, ?B/s]"
      ]
     },
     "metadata": {},
     "output_type": "display_data"
    },
    {
     "data": {
      "application/vnd.jupyter.widget-view+json": {
       "model_id": "f3e664f0d750483a8ac88b3d4fb3e0a0",
       "version_major": 2,
       "version_minor": 0
      },
      "text/plain": [
       "optimizer.pt:   0%|          | 0.00/43.1M [00:00<?, ?B/s]"
      ]
     },
     "metadata": {},
     "output_type": "display_data"
    },
    {
     "data": {
      "application/vnd.jupyter.widget-view+json": {
       "model_id": "f78d9a4eed7e4afeab78675414a6d9c0",
       "version_major": 2,
       "version_minor": 0
      },
      "text/plain": [
       "README.md:   0%|          | 0.00/5.12k [00:00<?, ?B/s]"
      ]
     },
     "metadata": {},
     "output_type": "display_data"
    },
    {
     "data": {
      "application/vnd.jupyter.widget-view+json": {
       "model_id": "e0a7001f0d7f4ed38dbff541abe109a4",
       "version_major": 2,
       "version_minor": 0
      },
      "text/plain": [
       "rng_state.pth:   0%|          | 0.00/14.2k [00:00<?, ?B/s]"
      ]
     },
     "metadata": {},
     "output_type": "display_data"
    },
    {
     "data": {
      "application/vnd.jupyter.widget-view+json": {
       "model_id": "9987f8b3b4ae4feea77b6b880d804f3b",
       "version_major": 2,
       "version_minor": 0
      },
      "text/plain": [
       "scheduler.pt:   0%|          | 0.00/1.06k [00:00<?, ?B/s]"
      ]
     },
     "metadata": {},
     "output_type": "display_data"
    },
    {
     "data": {
      "application/vnd.jupyter.widget-view+json": {
       "model_id": "baca4aed5872453e92f945645392646a",
       "version_major": 2,
       "version_minor": 0
      },
      "text/plain": [
       "adapter_config.json:   0%|          | 0.00/812 [00:00<?, ?B/s]"
      ]
     },
     "metadata": {},
     "output_type": "display_data"
    },
    {
     "data": {
      "application/vnd.jupyter.widget-view+json": {
       "model_id": "1238dae8e6404aedac45683024d99240",
       "version_major": 2,
       "version_minor": 0
      },
      "text/plain": [
       "tokenizer.json:   0%|          | 0.00/17.2M [00:00<?, ?B/s]"
      ]
     },
     "metadata": {},
     "output_type": "display_data"
    },
    {
     "data": {
      "application/vnd.jupyter.widget-view+json": {
       "model_id": "ce22ce7cd24647b19379f17b2486c3de",
       "version_major": 2,
       "version_minor": 0
      },
      "text/plain": [
       "special_tokens_map.json:   0%|          | 0.00/459 [00:00<?, ?B/s]"
      ]
     },
     "metadata": {},
     "output_type": "display_data"
    },
    {
     "data": {
      "application/vnd.jupyter.widget-view+json": {
       "model_id": "74d815dcec624df6865d761b1d0ec1e4",
       "version_major": 2,
       "version_minor": 0
      },
      "text/plain": [
       "training_args.bin:   0%|          | 0.00/5.75k [00:00<?, ?B/s]"
      ]
     },
     "metadata": {},
     "output_type": "display_data"
    },
    {
     "data": {
      "application/vnd.jupyter.widget-view+json": {
       "model_id": "71bb4afbe2ce4b24a09ff0e4dbb87dc8",
       "version_major": 2,
       "version_minor": 0
      },
      "text/plain": [
       "trainer_state.json:   0%|          | 0.00/19.9k [00:00<?, ?B/s]"
      ]
     },
     "metadata": {},
     "output_type": "display_data"
    },
    {
     "data": {
      "application/vnd.jupyter.widget-view+json": {
       "model_id": "e81325a911284235aea8d73547b8c62d",
       "version_major": 2,
       "version_minor": 0
      },
      "text/plain": [
       "adapter_model.safetensors:   0%|          | 0.00/83.9M [00:00<?, ?B/s]"
      ]
     },
     "metadata": {},
     "output_type": "display_data"
    },
    {
     "data": {
      "application/vnd.jupyter.widget-view+json": {
       "model_id": "64f477b24f9f4c51ab5c590b7e71b62d",
       "version_major": 2,
       "version_minor": 0
      },
      "text/plain": [
       "tokenizer_config.json:   0%|          | 0.00/50.6k [00:00<?, ?B/s]"
      ]
     },
     "metadata": {},
     "output_type": "display_data"
    },
    {
     "data": {
      "application/vnd.jupyter.widget-view+json": {
       "model_id": "717bfbd5147848b1870c5c61f9495f5c",
       "version_major": 2,
       "version_minor": 0
      },
      "text/plain": [
       "README.md:   0%|          | 0.00/5.12k [00:00<?, ?B/s]"
      ]
     },
     "metadata": {},
     "output_type": "display_data"
    },
    {
     "data": {
      "application/vnd.jupyter.widget-view+json": {
       "model_id": "b866454db2cd427d98547f487a5c4c40",
       "version_major": 2,
       "version_minor": 0
      },
      "text/plain": [
       "adapter_config.json:   0%|          | 0.00/812 [00:00<?, ?B/s]"
      ]
     },
     "metadata": {},
     "output_type": "display_data"
    },
    {
     "data": {
      "application/vnd.jupyter.widget-view+json": {
       "model_id": "4fe59e9ecfb04f98a4c602cc9809bca6",
       "version_major": 2,
       "version_minor": 0
      },
      "text/plain": [
       "optimizer.pt:   0%|          | 0.00/43.1M [00:00<?, ?B/s]"
      ]
     },
     "metadata": {},
     "output_type": "display_data"
    },
    {
     "data": {
      "application/vnd.jupyter.widget-view+json": {
       "model_id": "be6e1824a56144fd83641baa82835df8",
       "version_major": 2,
       "version_minor": 0
      },
      "text/plain": [
       "scheduler.pt:   0%|          | 0.00/1.06k [00:00<?, ?B/s]"
      ]
     },
     "metadata": {},
     "output_type": "display_data"
    },
    {
     "data": {
      "application/vnd.jupyter.widget-view+json": {
       "model_id": "e3ca80c5bc844ee090e639fc2fc6c48e",
       "version_major": 2,
       "version_minor": 0
      },
      "text/plain": [
       "rng_state.pth:   0%|          | 0.00/14.2k [00:00<?, ?B/s]"
      ]
     },
     "metadata": {},
     "output_type": "display_data"
    },
    {
     "data": {
      "application/vnd.jupyter.widget-view+json": {
       "model_id": "0e02a8d5ea3e4d48a14a2cd1c3fc59d2",
       "version_major": 2,
       "version_minor": 0
      },
      "text/plain": [
       "tokenizer.json:   0%|          | 0.00/17.2M [00:00<?, ?B/s]"
      ]
     },
     "metadata": {},
     "output_type": "display_data"
    },
    {
     "data": {
      "application/vnd.jupyter.widget-view+json": {
       "model_id": "d75d5185a59e4d6790ef0ea73db744df",
       "version_major": 2,
       "version_minor": 0
      },
      "text/plain": [
       "special_tokens_map.json:   0%|          | 0.00/459 [00:00<?, ?B/s]"
      ]
     },
     "metadata": {},
     "output_type": "display_data"
    },
    {
     "data": {
      "application/vnd.jupyter.widget-view+json": {
       "model_id": "48533018dc984106a36bfdc027243589",
       "version_major": 2,
       "version_minor": 0
      },
      "text/plain": [
       "tokenizer_config.json:   0%|          | 0.00/50.6k [00:00<?, ?B/s]"
      ]
     },
     "metadata": {},
     "output_type": "display_data"
    },
    {
     "data": {
      "application/vnd.jupyter.widget-view+json": {
       "model_id": "34730171e47a4fcab8ea561f46e3a3fa",
       "version_major": 2,
       "version_minor": 0
      },
      "text/plain": [
       "trainer_state.json:   0%|          | 0.00/21.5k [00:00<?, ?B/s]"
      ]
     },
     "metadata": {},
     "output_type": "display_data"
    },
    {
     "data": {
      "application/vnd.jupyter.widget-view+json": {
       "model_id": "09f3575347d045a8807c48c615b0c71f",
       "version_major": 2,
       "version_minor": 0
      },
      "text/plain": [
       "training_args.bin:   0%|          | 0.00/5.75k [00:00<?, ?B/s]"
      ]
     },
     "metadata": {},
     "output_type": "display_data"
    },
    {
     "data": {
      "application/vnd.jupyter.widget-view+json": {
       "model_id": "9c291fcefca04cc6974fbeca236c9720",
       "version_major": 2,
       "version_minor": 0
      },
      "text/plain": [
       "README.md:   0%|          | 0.00/5.12k [00:00<?, ?B/s]"
      ]
     },
     "metadata": {},
     "output_type": "display_data"
    },
    {
     "data": {
      "application/vnd.jupyter.widget-view+json": {
       "model_id": "bb8344be1760456aa171d5100dbc7b18",
       "version_major": 2,
       "version_minor": 0
      },
      "text/plain": [
       "adapter_config.json:   0%|          | 0.00/812 [00:00<?, ?B/s]"
      ]
     },
     "metadata": {},
     "output_type": "display_data"
    },
    {
     "data": {
      "application/vnd.jupyter.widget-view+json": {
       "model_id": "ee03f9b66da04c1189e87a80596661eb",
       "version_major": 2,
       "version_minor": 0
      },
      "text/plain": [
       "adapter_model.safetensors:   0%|          | 0.00/83.9M [00:00<?, ?B/s]"
      ]
     },
     "metadata": {},
     "output_type": "display_data"
    },
    {
     "data": {
      "application/vnd.jupyter.widget-view+json": {
       "model_id": "da42b4640f7d43b492d432a40f449915",
       "version_major": 2,
       "version_minor": 0
      },
      "text/plain": [
       "optimizer.pt:   0%|          | 0.00/43.1M [00:00<?, ?B/s]"
      ]
     },
     "metadata": {},
     "output_type": "display_data"
    },
    {
     "data": {
      "application/vnd.jupyter.widget-view+json": {
       "model_id": "a308575553354178bb6be1221f836666",
       "version_major": 2,
       "version_minor": 0
      },
      "text/plain": [
       "rng_state.pth:   0%|          | 0.00/14.2k [00:00<?, ?B/s]"
      ]
     },
     "metadata": {},
     "output_type": "display_data"
    },
    {
     "data": {
      "application/vnd.jupyter.widget-view+json": {
       "model_id": "18a55df8dc53477e8295fd5ed8f5921b",
       "version_major": 2,
       "version_minor": 0
      },
      "text/plain": [
       "scheduler.pt:   0%|          | 0.00/1.06k [00:00<?, ?B/s]"
      ]
     },
     "metadata": {},
     "output_type": "display_data"
    },
    {
     "data": {
      "application/vnd.jupyter.widget-view+json": {
       "model_id": "e7d8edc037eb45ffb75a7a18f18180b4",
       "version_major": 2,
       "version_minor": 0
      },
      "text/plain": [
       "tokenizer.json:   0%|          | 0.00/17.2M [00:00<?, ?B/s]"
      ]
     },
     "metadata": {},
     "output_type": "display_data"
    },
    {
     "data": {
      "application/vnd.jupyter.widget-view+json": {
       "model_id": "74a351853b184183bd259ef09ef924d8",
       "version_major": 2,
       "version_minor": 0
      },
      "text/plain": [
       "special_tokens_map.json:   0%|          | 0.00/459 [00:00<?, ?B/s]"
      ]
     },
     "metadata": {},
     "output_type": "display_data"
    },
    {
     "data": {
      "application/vnd.jupyter.widget-view+json": {
       "model_id": "9589e6de08cf4571949ded9930bf9718",
       "version_major": 2,
       "version_minor": 0
      },
      "text/plain": [
       "tokenizer_config.json:   0%|          | 0.00/50.6k [00:00<?, ?B/s]"
      ]
     },
     "metadata": {},
     "output_type": "display_data"
    },
    {
     "data": {
      "application/vnd.jupyter.widget-view+json": {
       "model_id": "afc4ce3b34a04f77ad3b9354dfe0f5a2",
       "version_major": 2,
       "version_minor": 0
      },
      "text/plain": [
       "training_args.bin:   0%|          | 0.00/5.75k [00:00<?, ?B/s]"
      ]
     },
     "metadata": {},
     "output_type": "display_data"
    },
    {
     "data": {
      "application/vnd.jupyter.widget-view+json": {
       "model_id": "ae0b0fc8407c45a987920660fe19ac45",
       "version_major": 2,
       "version_minor": 0
      },
      "text/plain": [
       "trainer_state.json:   0%|          | 0.00/23.1k [00:00<?, ?B/s]"
      ]
     },
     "metadata": {},
     "output_type": "display_data"
    },
    {
     "data": {
      "application/vnd.jupyter.widget-view+json": {
       "model_id": "e5b2bc6542554229849cd35d97149d84",
       "version_major": 2,
       "version_minor": 0
      },
      "text/plain": [
       "adapter_model.safetensors:   0%|          | 0.00/83.9M [00:00<?, ?B/s]"
      ]
     },
     "metadata": {},
     "output_type": "display_data"
    },
    {
     "data": {
      "application/vnd.jupyter.widget-view+json": {
       "model_id": "b8219d73209f42409eb2a4733cd67b6e",
       "version_major": 2,
       "version_minor": 0
      },
      "text/plain": [
       "optimizer.pt:   0%|          | 0.00/43.1M [00:00<?, ?B/s]"
      ]
     },
     "metadata": {},
     "output_type": "display_data"
    },
    {
     "data": {
      "application/vnd.jupyter.widget-view+json": {
       "model_id": "01623e0c08994b0a8f43ad706db29672",
       "version_major": 2,
       "version_minor": 0
      },
      "text/plain": [
       "rng_state.pth:   0%|          | 0.00/14.2k [00:00<?, ?B/s]"
      ]
     },
     "metadata": {},
     "output_type": "display_data"
    },
    {
     "data": {
      "application/vnd.jupyter.widget-view+json": {
       "model_id": "f37d97ad3672424081dded5e5c5751f7",
       "version_major": 2,
       "version_minor": 0
      },
      "text/plain": [
       "scheduler.pt:   0%|          | 0.00/1.06k [00:00<?, ?B/s]"
      ]
     },
     "metadata": {},
     "output_type": "display_data"
    },
    {
     "data": {
      "application/vnd.jupyter.widget-view+json": {
       "model_id": "c16b71c65012453ca18d331dd81edd87",
       "version_major": 2,
       "version_minor": 0
      },
      "text/plain": [
       "README.md:   0%|          | 0.00/5.12k [00:00<?, ?B/s]"
      ]
     },
     "metadata": {},
     "output_type": "display_data"
    },
    {
     "data": {
      "application/vnd.jupyter.widget-view+json": {
       "model_id": "cd2ad089e38143c8802df0d9946e658b",
       "version_major": 2,
       "version_minor": 0
      },
      "text/plain": [
       "adapter_config.json:   0%|          | 0.00/812 [00:00<?, ?B/s]"
      ]
     },
     "metadata": {},
     "output_type": "display_data"
    },
    {
     "data": {
      "application/vnd.jupyter.widget-view+json": {
       "model_id": "3819a32110874f5b90ffb5d0a30f6a27",
       "version_major": 2,
       "version_minor": 0
      },
      "text/plain": [
       "tokenizer.json:   0%|          | 0.00/17.2M [00:00<?, ?B/s]"
      ]
     },
     "metadata": {},
     "output_type": "display_data"
    },
    {
     "data": {
      "application/vnd.jupyter.widget-view+json": {
       "model_id": "d70551f7e34748b5b92010c973eeac94",
       "version_major": 2,
       "version_minor": 0
      },
      "text/plain": [
       "special_tokens_map.json:   0%|          | 0.00/459 [00:00<?, ?B/s]"
      ]
     },
     "metadata": {},
     "output_type": "display_data"
    },
    {
     "data": {
      "application/vnd.jupyter.widget-view+json": {
       "model_id": "ecde73783b19434a86d7ed7d49bf0e66",
       "version_major": 2,
       "version_minor": 0
      },
      "text/plain": [
       "training_args.bin:   0%|          | 0.00/5.75k [00:00<?, ?B/s]"
      ]
     },
     "metadata": {},
     "output_type": "display_data"
    },
    {
     "data": {
      "application/vnd.jupyter.widget-view+json": {
       "model_id": "585c53971b334965bed42c2f711733cd",
       "version_major": 2,
       "version_minor": 0
      },
      "text/plain": [
       "tokenizer_config.json:   0%|          | 0.00/50.6k [00:00<?, ?B/s]"
      ]
     },
     "metadata": {},
     "output_type": "display_data"
    },
    {
     "data": {
      "application/vnd.jupyter.widget-view+json": {
       "model_id": "1d568c6445e7410cad6d5c5646cb90a7",
       "version_major": 2,
       "version_minor": 0
      },
      "text/plain": [
       "adapter_model.safetensors:   0%|          | 0.00/83.9M [00:00<?, ?B/s]"
      ]
     },
     "metadata": {},
     "output_type": "display_data"
    },
    {
     "data": {
      "application/vnd.jupyter.widget-view+json": {
       "model_id": "4b27e8aca1974e2cb44cd5b579d9bc26",
       "version_major": 2,
       "version_minor": 0
      },
      "text/plain": [
       "trainer_state.json:   0%|          | 0.00/24.7k [00:00<?, ?B/s]"
      ]
     },
     "metadata": {},
     "output_type": "display_data"
    },
    {
     "data": {
      "application/vnd.jupyter.widget-view+json": {
       "model_id": "f4b3654c8cf74a2ba7be228feba15a64",
       "version_major": 2,
       "version_minor": 0
      },
      "text/plain": [
       "README.md:   0%|          | 0.00/5.12k [00:00<?, ?B/s]"
      ]
     },
     "metadata": {},
     "output_type": "display_data"
    },
    {
     "data": {
      "application/vnd.jupyter.widget-view+json": {
       "model_id": "07a2dd3218c840cba2f55266d6f373da",
       "version_major": 2,
       "version_minor": 0
      },
      "text/plain": [
       "optimizer.pt:   0%|          | 0.00/43.1M [00:00<?, ?B/s]"
      ]
     },
     "metadata": {},
     "output_type": "display_data"
    },
    {
     "data": {
      "application/vnd.jupyter.widget-view+json": {
       "model_id": "58b91f298e7441c1b197896e881cba6d",
       "version_major": 2,
       "version_minor": 0
      },
      "text/plain": [
       "rng_state.pth:   0%|          | 0.00/14.2k [00:00<?, ?B/s]"
      ]
     },
     "metadata": {},
     "output_type": "display_data"
    },
    {
     "data": {
      "application/vnd.jupyter.widget-view+json": {
       "model_id": "f1cc5c9938c049d5b609cdcc38fc5608",
       "version_major": 2,
       "version_minor": 0
      },
      "text/plain": [
       "adapter_config.json:   0%|          | 0.00/812 [00:00<?, ?B/s]"
      ]
     },
     "metadata": {},
     "output_type": "display_data"
    },
    {
     "data": {
      "application/vnd.jupyter.widget-view+json": {
       "model_id": "890ea3dcd858449f969e3c4fb8107117",
       "version_major": 2,
       "version_minor": 0
      },
      "text/plain": [
       "scheduler.pt:   0%|          | 0.00/1.06k [00:00<?, ?B/s]"
      ]
     },
     "metadata": {},
     "output_type": "display_data"
    },
    {
     "data": {
      "application/vnd.jupyter.widget-view+json": {
       "model_id": "a45a389f94b04f6dbdc48e44d9b2856e",
       "version_major": 2,
       "version_minor": 0
      },
      "text/plain": [
       "tokenizer.json:   0%|          | 0.00/17.2M [00:00<?, ?B/s]"
      ]
     },
     "metadata": {},
     "output_type": "display_data"
    },
    {
     "data": {
      "application/vnd.jupyter.widget-view+json": {
       "model_id": "28ee4f456e314889ac74e24f7efccb45",
       "version_major": 2,
       "version_minor": 0
      },
      "text/plain": [
       "training_args.bin:   0%|          | 0.00/5.75k [00:00<?, ?B/s]"
      ]
     },
     "metadata": {},
     "output_type": "display_data"
    },
    {
     "data": {
      "application/vnd.jupyter.widget-view+json": {
       "model_id": "be315393ae5946c59f8f62a2ee0d0034",
       "version_major": 2,
       "version_minor": 0
      },
      "text/plain": [
       "special_tokens_map.json:   0%|          | 0.00/459 [00:00<?, ?B/s]"
      ]
     },
     "metadata": {},
     "output_type": "display_data"
    },
    {
     "data": {
      "application/vnd.jupyter.widget-view+json": {
       "model_id": "86c0fe88b6aa4982b0c78d89e2cb18dc",
       "version_major": 2,
       "version_minor": 0
      },
      "text/plain": [
       "tokenizer_config.json:   0%|          | 0.00/50.6k [00:00<?, ?B/s]"
      ]
     },
     "metadata": {},
     "output_type": "display_data"
    },
    {
     "data": {
      "application/vnd.jupyter.widget-view+json": {
       "model_id": "a1a090c3b4ec46319c7815c037709ca7",
       "version_major": 2,
       "version_minor": 0
      },
      "text/plain": [
       "trainer_state.json:   0%|          | 0.00/26.3k [00:00<?, ?B/s]"
      ]
     },
     "metadata": {},
     "output_type": "display_data"
    },
    {
     "data": {
      "application/vnd.jupyter.widget-view+json": {
       "model_id": "383d04dca27d4fdf961d84ab9eb005cf",
       "version_major": 2,
       "version_minor": 0
      },
      "text/plain": [
       "adapter_model.safetensors:   0%|          | 0.00/83.9M [00:00<?, ?B/s]"
      ]
     },
     "metadata": {},
     "output_type": "display_data"
    },
    {
     "data": {
      "application/vnd.jupyter.widget-view+json": {
       "model_id": "428ded7f77164b319565a6b391ecd5d6",
       "version_major": 2,
       "version_minor": 0
      },
      "text/plain": [
       "optimizer.pt:   0%|          | 0.00/43.1M [00:00<?, ?B/s]"
      ]
     },
     "metadata": {},
     "output_type": "display_data"
    },
    {
     "data": {
      "application/vnd.jupyter.widget-view+json": {
       "model_id": "dce257bc4f7e47c7bd45bac21c4631c7",
       "version_major": 2,
       "version_minor": 0
      },
      "text/plain": [
       "rng_state.pth:   0%|          | 0.00/14.2k [00:00<?, ?B/s]"
      ]
     },
     "metadata": {},
     "output_type": "display_data"
    },
    {
     "data": {
      "application/vnd.jupyter.widget-view+json": {
       "model_id": "abb7211980094d30a28d6dda8b2fce3c",
       "version_major": 2,
       "version_minor": 0
      },
      "text/plain": [
       "adapter_config.json:   0%|          | 0.00/812 [00:00<?, ?B/s]"
      ]
     },
     "metadata": {},
     "output_type": "display_data"
    },
    {
     "data": {
      "application/vnd.jupyter.widget-view+json": {
       "model_id": "67611d13824544d0b06c4a334217521d",
       "version_major": 2,
       "version_minor": 0
      },
      "text/plain": [
       "README.md:   0%|          | 0.00/5.12k [00:00<?, ?B/s]"
      ]
     },
     "metadata": {},
     "output_type": "display_data"
    },
    {
     "data": {
      "application/vnd.jupyter.widget-view+json": {
       "model_id": "b6533980749b4b6bbd53ee15c1af20f4",
       "version_major": 2,
       "version_minor": 0
      },
      "text/plain": [
       "scheduler.pt:   0%|          | 0.00/1.06k [00:00<?, ?B/s]"
      ]
     },
     "metadata": {},
     "output_type": "display_data"
    },
    {
     "data": {
      "application/vnd.jupyter.widget-view+json": {
       "model_id": "49251cad9fe44e6cacec5ac54a089d7b",
       "version_major": 2,
       "version_minor": 0
      },
      "text/plain": [
       "tokenizer.json:   0%|          | 0.00/17.2M [00:00<?, ?B/s]"
      ]
     },
     "metadata": {},
     "output_type": "display_data"
    },
    {
     "data": {
      "application/vnd.jupyter.widget-view+json": {
       "model_id": "546113686cc241f2b92c55c46f8f23a1",
       "version_major": 2,
       "version_minor": 0
      },
      "text/plain": [
       "special_tokens_map.json:   0%|          | 0.00/459 [00:00<?, ?B/s]"
      ]
     },
     "metadata": {},
     "output_type": "display_data"
    },
    {
     "data": {
      "application/vnd.jupyter.widget-view+json": {
       "model_id": "612c8c13d0d946fbba38d950ab3fd93e",
       "version_major": 2,
       "version_minor": 0
      },
      "text/plain": [
       "trainer_state.json:   0%|          | 0.00/27.9k [00:00<?, ?B/s]"
      ]
     },
     "metadata": {},
     "output_type": "display_data"
    },
    {
     "data": {
      "application/vnd.jupyter.widget-view+json": {
       "model_id": "86f34c5cf4ce4ceb8f8846d83d553123",
       "version_major": 2,
       "version_minor": 0
      },
      "text/plain": [
       "tokenizer_config.json:   0%|          | 0.00/50.6k [00:00<?, ?B/s]"
      ]
     },
     "metadata": {},
     "output_type": "display_data"
    },
    {
     "data": {
      "application/vnd.jupyter.widget-view+json": {
       "model_id": "99910099d71b436e8c47dff8623cb178",
       "version_major": 2,
       "version_minor": 0
      },
      "text/plain": [
       "training_args.bin:   0%|          | 0.00/5.75k [00:00<?, ?B/s]"
      ]
     },
     "metadata": {},
     "output_type": "display_data"
    },
    {
     "data": {
      "application/vnd.jupyter.widget-view+json": {
       "model_id": "73be0acff97447e7a078849d9b9686cf",
       "version_major": 2,
       "version_minor": 0
      },
      "text/plain": [
       "adapter_model.safetensors:   0%|          | 0.00/83.9M [00:00<?, ?B/s]"
      ]
     },
     "metadata": {},
     "output_type": "display_data"
    },
    {
     "data": {
      "application/vnd.jupyter.widget-view+json": {
       "model_id": "b51abd8db3d24c2eb08b5f61dc73192b",
       "version_major": 2,
       "version_minor": 0
      },
      "text/plain": [
       "adapter_config.json:   0%|          | 0.00/812 [00:00<?, ?B/s]"
      ]
     },
     "metadata": {},
     "output_type": "display_data"
    },
    {
     "data": {
      "application/vnd.jupyter.widget-view+json": {
       "model_id": "cd6fa58c3cf246028aa8793b9a0fa2e9",
       "version_major": 2,
       "version_minor": 0
      },
      "text/plain": [
       "README.md:   0%|          | 0.00/5.12k [00:00<?, ?B/s]"
      ]
     },
     "metadata": {},
     "output_type": "display_data"
    },
    {
     "data": {
      "application/vnd.jupyter.widget-view+json": {
       "model_id": "43dc5a151c7a42e989a13be0cc30b095",
       "version_major": 2,
       "version_minor": 0
      },
      "text/plain": [
       "optimizer.pt:   0%|          | 0.00/43.1M [00:00<?, ?B/s]"
      ]
     },
     "metadata": {},
     "output_type": "display_data"
    },
    {
     "data": {
      "application/vnd.jupyter.widget-view+json": {
       "model_id": "adb5b27dabe543ad8eec1548aede22e8",
       "version_major": 2,
       "version_minor": 0
      },
      "text/plain": [
       "rng_state.pth:   0%|          | 0.00/14.2k [00:00<?, ?B/s]"
      ]
     },
     "metadata": {},
     "output_type": "display_data"
    },
    {
     "data": {
      "application/vnd.jupyter.widget-view+json": {
       "model_id": "f2f50e0252114ca1a24949a95750bbdf",
       "version_major": 2,
       "version_minor": 0
      },
      "text/plain": [
       "scheduler.pt:   0%|          | 0.00/1.06k [00:00<?, ?B/s]"
      ]
     },
     "metadata": {},
     "output_type": "display_data"
    },
    {
     "data": {
      "application/vnd.jupyter.widget-view+json": {
       "model_id": "1847bfa8612444dfa54104d977909309",
       "version_major": 2,
       "version_minor": 0
      },
      "text/plain": [
       "tokenizer.json:   0%|          | 0.00/17.2M [00:00<?, ?B/s]"
      ]
     },
     "metadata": {},
     "output_type": "display_data"
    },
    {
     "data": {
      "application/vnd.jupyter.widget-view+json": {
       "model_id": "557e9ab4ee384e03a94ecf04c44c278c",
       "version_major": 2,
       "version_minor": 0
      },
      "text/plain": [
       "training_args.bin:   0%|          | 0.00/5.75k [00:00<?, ?B/s]"
      ]
     },
     "metadata": {},
     "output_type": "display_data"
    },
    {
     "data": {
      "application/vnd.jupyter.widget-view+json": {
       "model_id": "a661e1da3f414e769cb93f242d07bf8d",
       "version_major": 2,
       "version_minor": 0
      },
      "text/plain": [
       "special_tokens_map.json:   0%|          | 0.00/459 [00:00<?, ?B/s]"
      ]
     },
     "metadata": {},
     "output_type": "display_data"
    },
    {
     "data": {
      "application/vnd.jupyter.widget-view+json": {
       "model_id": "d00a5d856dae43efb68326dae3d6a640",
       "version_major": 2,
       "version_minor": 0
      },
      "text/plain": [
       "tokenizer_config.json:   0%|          | 0.00/50.6k [00:00<?, ?B/s]"
      ]
     },
     "metadata": {},
     "output_type": "display_data"
    },
    {
     "data": {
      "application/vnd.jupyter.widget-view+json": {
       "model_id": "95b8017d26f6417c923717a20d688183",
       "version_major": 2,
       "version_minor": 0
      },
      "text/plain": [
       "trainer_state.json:   0%|          | 0.00/29.5k [00:00<?, ?B/s]"
      ]
     },
     "metadata": {},
     "output_type": "display_data"
    },
    {
     "data": {
      "application/vnd.jupyter.widget-view+json": {
       "model_id": "92c3626cab174049b6312832148f0b5b",
       "version_major": 2,
       "version_minor": 0
      },
      "text/plain": [
       "adapter_model.safetensors:   0%|          | 0.00/83.9M [00:00<?, ?B/s]"
      ]
     },
     "metadata": {},
     "output_type": "display_data"
    },
    {
     "data": {
      "application/vnd.jupyter.widget-view+json": {
       "model_id": "0ef526c7f6054f1d9f604dd2a872b4d7",
       "version_major": 2,
       "version_minor": 0
      },
      "text/plain": [
       "optimizer.pt:   0%|          | 0.00/43.1M [00:00<?, ?B/s]"
      ]
     },
     "metadata": {},
     "output_type": "display_data"
    },
    {
     "data": {
      "application/vnd.jupyter.widget-view+json": {
       "model_id": "1f828735614f4334b81f0ae32a73a2b0",
       "version_major": 2,
       "version_minor": 0
      },
      "text/plain": [
       "rng_state.pth:   0%|          | 0.00/14.2k [00:00<?, ?B/s]"
      ]
     },
     "metadata": {},
     "output_type": "display_data"
    },
    {
     "data": {
      "application/vnd.jupyter.widget-view+json": {
       "model_id": "77e1353d185e427c93f6c25e3014b042",
       "version_major": 2,
       "version_minor": 0
      },
      "text/plain": [
       "tokenizer.json:   0%|          | 0.00/17.2M [00:00<?, ?B/s]"
      ]
     },
     "metadata": {},
     "output_type": "display_data"
    },
    {
     "data": {
      "application/vnd.jupyter.widget-view+json": {
       "model_id": "cea818b993c24bd1b1592b3483d24947",
       "version_major": 2,
       "version_minor": 0
      },
      "text/plain": [
       "scheduler.pt:   0%|          | 0.00/1.06k [00:00<?, ?B/s]"
      ]
     },
     "metadata": {},
     "output_type": "display_data"
    },
    {
     "data": {
      "application/vnd.jupyter.widget-view+json": {
       "model_id": "60d3b7fcfdcc40048cb173080838aa95",
       "version_major": 2,
       "version_minor": 0
      },
      "text/plain": [
       "README.md:   0%|          | 0.00/5.12k [00:00<?, ?B/s]"
      ]
     },
     "metadata": {},
     "output_type": "display_data"
    },
    {
     "data": {
      "application/vnd.jupyter.widget-view+json": {
       "model_id": "fb79b11fc9b04571afb50acdf3760e05",
       "version_major": 2,
       "version_minor": 0
      },
      "text/plain": [
       "adapter_config.json:   0%|          | 0.00/812 [00:00<?, ?B/s]"
      ]
     },
     "metadata": {},
     "output_type": "display_data"
    },
    {
     "data": {
      "application/vnd.jupyter.widget-view+json": {
       "model_id": "0cadb1d05885480daf40240bc44c1e54",
       "version_major": 2,
       "version_minor": 0
      },
      "text/plain": [
       "special_tokens_map.json:   0%|          | 0.00/459 [00:00<?, ?B/s]"
      ]
     },
     "metadata": {},
     "output_type": "display_data"
    },
    {
     "data": {
      "application/vnd.jupyter.widget-view+json": {
       "model_id": "fc490b2be80946d7a3956c265291c178",
       "version_major": 2,
       "version_minor": 0
      },
      "text/plain": [
       "training_args.bin:   0%|          | 0.00/5.75k [00:00<?, ?B/s]"
      ]
     },
     "metadata": {},
     "output_type": "display_data"
    },
    {
     "data": {
      "application/vnd.jupyter.widget-view+json": {
       "model_id": "b4433a5352944a8380df0d74c0894f6c",
       "version_major": 2,
       "version_minor": 0
      },
      "text/plain": [
       "tokenizer_config.json:   0%|          | 0.00/50.6k [00:00<?, ?B/s]"
      ]
     },
     "metadata": {},
     "output_type": "display_data"
    },
    {
     "data": {
      "application/vnd.jupyter.widget-view+json": {
       "model_id": "e006f0826f1c4ba28ca87be030eaec00",
       "version_major": 2,
       "version_minor": 0
      },
      "text/plain": [
       "adapter_model.safetensors:   0%|          | 0.00/83.9M [00:00<?, ?B/s]"
      ]
     },
     "metadata": {},
     "output_type": "display_data"
    },
    {
     "data": {
      "application/vnd.jupyter.widget-view+json": {
       "model_id": "c238e1f5c5a7442781111c131306dc23",
       "version_major": 2,
       "version_minor": 0
      },
      "text/plain": [
       "trainer_state.json:   0%|          | 0.00/31.1k [00:00<?, ?B/s]"
      ]
     },
     "metadata": {},
     "output_type": "display_data"
    },
    {
     "data": {
      "application/vnd.jupyter.widget-view+json": {
       "model_id": "4f6616c24f7048048bd495c18543eae9",
       "version_major": 2,
       "version_minor": 0
      },
      "text/plain": [
       "optimizer.pt:   0%|          | 0.00/43.1M [00:00<?, ?B/s]"
      ]
     },
     "metadata": {},
     "output_type": "display_data"
    },
    {
     "data": {
      "application/vnd.jupyter.widget-view+json": {
       "model_id": "00b589d155ec4368a0a388a62051cb2a",
       "version_major": 2,
       "version_minor": 0
      },
      "text/plain": [
       "README.md:   0%|          | 0.00/5.12k [00:00<?, ?B/s]"
      ]
     },
     "metadata": {},
     "output_type": "display_data"
    },
    {
     "data": {
      "application/vnd.jupyter.widget-view+json": {
       "model_id": "5882308f2473491389e681741c4203f8",
       "version_major": 2,
       "version_minor": 0
      },
      "text/plain": [
       "rng_state.pth:   0%|          | 0.00/14.2k [00:00<?, ?B/s]"
      ]
     },
     "metadata": {},
     "output_type": "display_data"
    },
    {
     "data": {
      "application/vnd.jupyter.widget-view+json": {
       "model_id": "54db0a71bcb84d3791f30678c8abc196",
       "version_major": 2,
       "version_minor": 0
      },
      "text/plain": [
       "adapter_config.json:   0%|          | 0.00/812 [00:00<?, ?B/s]"
      ]
     },
     "metadata": {},
     "output_type": "display_data"
    },
    {
     "data": {
      "application/vnd.jupyter.widget-view+json": {
       "model_id": "ede9663e34734930b7149a67815fd427",
       "version_major": 2,
       "version_minor": 0
      },
      "text/plain": [
       "scheduler.pt:   0%|          | 0.00/1.06k [00:00<?, ?B/s]"
      ]
     },
     "metadata": {},
     "output_type": "display_data"
    },
    {
     "data": {
      "application/vnd.jupyter.widget-view+json": {
       "model_id": "be3561eb86834739b11f4de0693335ac",
       "version_major": 2,
       "version_minor": 0
      },
      "text/plain": [
       "tokenizer.json:   0%|          | 0.00/17.2M [00:00<?, ?B/s]"
      ]
     },
     "metadata": {},
     "output_type": "display_data"
    },
    {
     "data": {
      "application/vnd.jupyter.widget-view+json": {
       "model_id": "1947581cc90c41169000bb4280075206",
       "version_major": 2,
       "version_minor": 0
      },
      "text/plain": [
       "training_args.bin:   0%|          | 0.00/5.75k [00:00<?, ?B/s]"
      ]
     },
     "metadata": {},
     "output_type": "display_data"
    },
    {
     "data": {
      "application/vnd.jupyter.widget-view+json": {
       "model_id": "2b06af329d254058aec2c0ea6e715cd4",
       "version_major": 2,
       "version_minor": 0
      },
      "text/plain": [
       "special_tokens_map.json:   0%|          | 0.00/459 [00:00<?, ?B/s]"
      ]
     },
     "metadata": {},
     "output_type": "display_data"
    },
    {
     "data": {
      "application/vnd.jupyter.widget-view+json": {
       "model_id": "10829e5c068249edaa148cd8d815e89f",
       "version_major": 2,
       "version_minor": 0
      },
      "text/plain": [
       "tokenizer_config.json:   0%|          | 0.00/50.6k [00:00<?, ?B/s]"
      ]
     },
     "metadata": {},
     "output_type": "display_data"
    },
    {
     "data": {
      "application/vnd.jupyter.widget-view+json": {
       "model_id": "f841dd3dfcdb4b9290065ac3c067893c",
       "version_major": 2,
       "version_minor": 0
      },
      "text/plain": [
       "trainer_state.json:   0%|          | 0.00/3.91k [00:00<?, ?B/s]"
      ]
     },
     "metadata": {},
     "output_type": "display_data"
    },
    {
     "data": {
      "application/vnd.jupyter.widget-view+json": {
       "model_id": "ab92a23c7f6e44c4a035cea5bee9223d",
       "version_major": 2,
       "version_minor": 0
      },
      "text/plain": [
       "README.md:   0%|          | 0.00/5.12k [00:00<?, ?B/s]"
      ]
     },
     "metadata": {},
     "output_type": "display_data"
    },
    {
     "data": {
      "application/vnd.jupyter.widget-view+json": {
       "model_id": "c9de82f15ac74f048c583ec9377b7f20",
       "version_major": 2,
       "version_minor": 0
      },
      "text/plain": [
       "adapter_model.safetensors:   0%|          | 0.00/83.9M [00:00<?, ?B/s]"
      ]
     },
     "metadata": {},
     "output_type": "display_data"
    },
    {
     "data": {
      "application/vnd.jupyter.widget-view+json": {
       "model_id": "2073a5be82154d56a87a3481be80be0c",
       "version_major": 2,
       "version_minor": 0
      },
      "text/plain": [
       "optimizer.pt:   0%|          | 0.00/43.1M [00:00<?, ?B/s]"
      ]
     },
     "metadata": {},
     "output_type": "display_data"
    },
    {
     "data": {
      "application/vnd.jupyter.widget-view+json": {
       "model_id": "0a4d72007f694f32bec9742b28348248",
       "version_major": 2,
       "version_minor": 0
      },
      "text/plain": [
       "adapter_config.json:   0%|          | 0.00/812 [00:00<?, ?B/s]"
      ]
     },
     "metadata": {},
     "output_type": "display_data"
    },
    {
     "data": {
      "application/vnd.jupyter.widget-view+json": {
       "model_id": "a1c7690192ea4580a2de8a16e0d57228",
       "version_major": 2,
       "version_minor": 0
      },
      "text/plain": [
       "rng_state.pth:   0%|          | 0.00/14.2k [00:00<?, ?B/s]"
      ]
     },
     "metadata": {},
     "output_type": "display_data"
    },
    {
     "data": {
      "application/vnd.jupyter.widget-view+json": {
       "model_id": "80925eb5b6f5432ca9d243b118f8f98d",
       "version_major": 2,
       "version_minor": 0
      },
      "text/plain": [
       "scheduler.pt:   0%|          | 0.00/1.06k [00:00<?, ?B/s]"
      ]
     },
     "metadata": {},
     "output_type": "display_data"
    },
    {
     "data": {
      "application/vnd.jupyter.widget-view+json": {
       "model_id": "a1c98b4acad04640b3e5365439278c8b",
       "version_major": 2,
       "version_minor": 0
      },
      "text/plain": [
       "tokenizer.json:   0%|          | 0.00/17.2M [00:00<?, ?B/s]"
      ]
     },
     "metadata": {},
     "output_type": "display_data"
    },
    {
     "data": {
      "application/vnd.jupyter.widget-view+json": {
       "model_id": "06b683d387d84a938780bcd637f0728e",
       "version_major": 2,
       "version_minor": 0
      },
      "text/plain": [
       "special_tokens_map.json:   0%|          | 0.00/459 [00:00<?, ?B/s]"
      ]
     },
     "metadata": {},
     "output_type": "display_data"
    },
    {
     "data": {
      "application/vnd.jupyter.widget-view+json": {
       "model_id": "5adfd0eecbef41bfa1903bd7dd147d17",
       "version_major": 2,
       "version_minor": 0
      },
      "text/plain": [
       "tokenizer_config.json:   0%|          | 0.00/50.6k [00:00<?, ?B/s]"
      ]
     },
     "metadata": {},
     "output_type": "display_data"
    },
    {
     "data": {
      "application/vnd.jupyter.widget-view+json": {
       "model_id": "798f6ac61c3942ef8eb0c962cf796a18",
       "version_major": 2,
       "version_minor": 0
      },
      "text/plain": [
       "training_args.bin:   0%|          | 0.00/5.75k [00:00<?, ?B/s]"
      ]
     },
     "metadata": {},
     "output_type": "display_data"
    },
    {
     "data": {
      "application/vnd.jupyter.widget-view+json": {
       "model_id": "c010fca3a0304acc8d7de08a497e7ad3",
       "version_major": 2,
       "version_minor": 0
      },
      "text/plain": [
       "trainer_state.json:   0%|          | 0.00/32.7k [00:00<?, ?B/s]"
      ]
     },
     "metadata": {},
     "output_type": "display_data"
    },
    {
     "data": {
      "application/vnd.jupyter.widget-view+json": {
       "model_id": "c2c02a6d2a2a4fa290772e47576104b5",
       "version_major": 2,
       "version_minor": 0
      },
      "text/plain": [
       "README.md:   0%|          | 0.00/5.12k [00:00<?, ?B/s]"
      ]
     },
     "metadata": {},
     "output_type": "display_data"
    },
    {
     "data": {
      "application/vnd.jupyter.widget-view+json": {
       "model_id": "9607600a3a294c859783b103a8f1dc44",
       "version_major": 2,
       "version_minor": 0
      },
      "text/plain": [
       "adapter_config.json:   0%|          | 0.00/812 [00:00<?, ?B/s]"
      ]
     },
     "metadata": {},
     "output_type": "display_data"
    },
    {
     "data": {
      "application/vnd.jupyter.widget-view+json": {
       "model_id": "d0cbffbc21f644b6a5fbb4e02582fc03",
       "version_major": 2,
       "version_minor": 0
      },
      "text/plain": [
       "optimizer.pt:   0%|          | 0.00/43.1M [00:00<?, ?B/s]"
      ]
     },
     "metadata": {},
     "output_type": "display_data"
    },
    {
     "data": {
      "application/vnd.jupyter.widget-view+json": {
       "model_id": "c1782a43378b4df39ca7bcd7846bd406",
       "version_major": 2,
       "version_minor": 0
      },
      "text/plain": [
       "rng_state.pth:   0%|          | 0.00/14.2k [00:00<?, ?B/s]"
      ]
     },
     "metadata": {},
     "output_type": "display_data"
    },
    {
     "data": {
      "application/vnd.jupyter.widget-view+json": {
       "model_id": "581b536b50344bb494f91a39bb6059f7",
       "version_major": 2,
       "version_minor": 0
      },
      "text/plain": [
       "scheduler.pt:   0%|          | 0.00/1.06k [00:00<?, ?B/s]"
      ]
     },
     "metadata": {},
     "output_type": "display_data"
    },
    {
     "data": {
      "application/vnd.jupyter.widget-view+json": {
       "model_id": "76ba35343b7c4ef38877243014109582",
       "version_major": 2,
       "version_minor": 0
      },
      "text/plain": [
       "adapter_model.safetensors:   0%|          | 0.00/83.9M [00:00<?, ?B/s]"
      ]
     },
     "metadata": {},
     "output_type": "display_data"
    },
    {
     "data": {
      "application/vnd.jupyter.widget-view+json": {
       "model_id": "aa42c129977d43d294bd67a13614c254",
       "version_major": 2,
       "version_minor": 0
      },
      "text/plain": [
       "tokenizer.json:   0%|          | 0.00/17.2M [00:00<?, ?B/s]"
      ]
     },
     "metadata": {},
     "output_type": "display_data"
    },
    {
     "data": {
      "application/vnd.jupyter.widget-view+json": {
       "model_id": "74ffd335d35c405dae23e9f5d56a0be5",
       "version_major": 2,
       "version_minor": 0
      },
      "text/plain": [
       "special_tokens_map.json:   0%|          | 0.00/459 [00:00<?, ?B/s]"
      ]
     },
     "metadata": {},
     "output_type": "display_data"
    },
    {
     "data": {
      "application/vnd.jupyter.widget-view+json": {
       "model_id": "d791262930c344d6aec98a23f8017b14",
       "version_major": 2,
       "version_minor": 0
      },
      "text/plain": [
       "tokenizer_config.json:   0%|          | 0.00/50.6k [00:00<?, ?B/s]"
      ]
     },
     "metadata": {},
     "output_type": "display_data"
    },
    {
     "data": {
      "application/vnd.jupyter.widget-view+json": {
       "model_id": "33827814813944ceb335e9730139af21",
       "version_major": 2,
       "version_minor": 0
      },
      "text/plain": [
       "training_args.bin:   0%|          | 0.00/5.75k [00:00<?, ?B/s]"
      ]
     },
     "metadata": {},
     "output_type": "display_data"
    },
    {
     "data": {
      "application/vnd.jupyter.widget-view+json": {
       "model_id": "b6e3a2bef7964f9d857c864825294a3c",
       "version_major": 2,
       "version_minor": 0
      },
      "text/plain": [
       "trainer_state.json:   0%|          | 0.00/34.3k [00:00<?, ?B/s]"
      ]
     },
     "metadata": {},
     "output_type": "display_data"
    },
    {
     "data": {
      "application/vnd.jupyter.widget-view+json": {
       "model_id": "8f49bae7deb04f7891f3b11f9f6a8d08",
       "version_major": 2,
       "version_minor": 0
      },
      "text/plain": [
       "adapter_model.safetensors:   0%|          | 0.00/83.9M [00:00<?, ?B/s]"
      ]
     },
     "metadata": {},
     "output_type": "display_data"
    },
    {
     "data": {
      "application/vnd.jupyter.widget-view+json": {
       "model_id": "f7bc00ef398443018813684e0b0a390e",
       "version_major": 2,
       "version_minor": 0
      },
      "text/plain": [
       "rng_state.pth:   0%|          | 0.00/14.2k [00:00<?, ?B/s]"
      ]
     },
     "metadata": {},
     "output_type": "display_data"
    },
    {
     "data": {
      "application/vnd.jupyter.widget-view+json": {
       "model_id": "f102915d427b4223aca29bdeee4727f5",
       "version_major": 2,
       "version_minor": 0
      },
      "text/plain": [
       "optimizer.pt:   0%|          | 0.00/43.1M [00:00<?, ?B/s]"
      ]
     },
     "metadata": {},
     "output_type": "display_data"
    },
    {
     "data": {
      "application/vnd.jupyter.widget-view+json": {
       "model_id": "b9902230931e48b584ba9a34f44408d2",
       "version_major": 2,
       "version_minor": 0
      },
      "text/plain": [
       "README.md:   0%|          | 0.00/5.12k [00:00<?, ?B/s]"
      ]
     },
     "metadata": {},
     "output_type": "display_data"
    },
    {
     "data": {
      "application/vnd.jupyter.widget-view+json": {
       "model_id": "afd348ac4a0f49829a6dc6338ee8b93e",
       "version_major": 2,
       "version_minor": 0
      },
      "text/plain": [
       "tokenizer.json:   0%|          | 0.00/17.2M [00:00<?, ?B/s]"
      ]
     },
     "metadata": {},
     "output_type": "display_data"
    },
    {
     "data": {
      "application/vnd.jupyter.widget-view+json": {
       "model_id": "b7f604d90c35448cb77cdbf647f51982",
       "version_major": 2,
       "version_minor": 0
      },
      "text/plain": [
       "adapter_config.json:   0%|          | 0.00/812 [00:00<?, ?B/s]"
      ]
     },
     "metadata": {},
     "output_type": "display_data"
    },
    {
     "data": {
      "application/vnd.jupyter.widget-view+json": {
       "model_id": "7e084d4fa8cc4a38a176b1a81e003e95",
       "version_major": 2,
       "version_minor": 0
      },
      "text/plain": [
       "special_tokens_map.json:   0%|          | 0.00/459 [00:00<?, ?B/s]"
      ]
     },
     "metadata": {},
     "output_type": "display_data"
    },
    {
     "data": {
      "application/vnd.jupyter.widget-view+json": {
       "model_id": "8c4e2a13e2e248c6b7b4c8b18f84d6d1",
       "version_major": 2,
       "version_minor": 0
      },
      "text/plain": [
       "tokenizer_config.json:   0%|          | 0.00/50.6k [00:00<?, ?B/s]"
      ]
     },
     "metadata": {},
     "output_type": "display_data"
    },
    {
     "data": {
      "application/vnd.jupyter.widget-view+json": {
       "model_id": "de0f5fe505fe425f9ad9c63a4a719252",
       "version_major": 2,
       "version_minor": 0
      },
      "text/plain": [
       "trainer_state.json:   0%|          | 0.00/5.51k [00:00<?, ?B/s]"
      ]
     },
     "metadata": {},
     "output_type": "display_data"
    },
    {
     "data": {
      "application/vnd.jupyter.widget-view+json": {
       "model_id": "f8430f340da4491e9f6d0e33693f4824",
       "version_major": 2,
       "version_minor": 0
      },
      "text/plain": [
       "training_args.bin:   0%|          | 0.00/5.75k [00:00<?, ?B/s]"
      ]
     },
     "metadata": {},
     "output_type": "display_data"
    },
    {
     "data": {
      "application/vnd.jupyter.widget-view+json": {
       "model_id": "24e323a8fce1424ba3bfa9603c4a7693",
       "version_major": 2,
       "version_minor": 0
      },
      "text/plain": [
       "optimizer.pt:   0%|          | 0.00/43.1M [00:00<?, ?B/s]"
      ]
     },
     "metadata": {},
     "output_type": "display_data"
    },
    {
     "data": {
      "application/vnd.jupyter.widget-view+json": {
       "model_id": "0f7a89b3a67541d1849f38e2b602ecd1",
       "version_major": 2,
       "version_minor": 0
      },
      "text/plain": [
       "adapter_model.safetensors:   0%|          | 0.00/83.9M [00:00<?, ?B/s]"
      ]
     },
     "metadata": {},
     "output_type": "display_data"
    },
    {
     "data": {
      "application/vnd.jupyter.widget-view+json": {
       "model_id": "756d72741b83426889a65c70e682d629",
       "version_major": 2,
       "version_minor": 0
      },
      "text/plain": [
       "README.md:   0%|          | 0.00/5.12k [00:00<?, ?B/s]"
      ]
     },
     "metadata": {},
     "output_type": "display_data"
    },
    {
     "data": {
      "application/vnd.jupyter.widget-view+json": {
       "model_id": "28671ded714145b897ade2e3ca877667",
       "version_major": 2,
       "version_minor": 0
      },
      "text/plain": [
       "rng_state.pth:   0%|          | 0.00/14.2k [00:00<?, ?B/s]"
      ]
     },
     "metadata": {},
     "output_type": "display_data"
    },
    {
     "data": {
      "application/vnd.jupyter.widget-view+json": {
       "model_id": "12272d0fe5e14e81bdf3aaf1f36c4fd7",
       "version_major": 2,
       "version_minor": 0
      },
      "text/plain": [
       "adapter_config.json:   0%|          | 0.00/812 [00:00<?, ?B/s]"
      ]
     },
     "metadata": {},
     "output_type": "display_data"
    },
    {
     "data": {
      "application/vnd.jupyter.widget-view+json": {
       "model_id": "142baac95de24fed9d84605460e605ca",
       "version_major": 2,
       "version_minor": 0
      },
      "text/plain": [
       "scheduler.pt:   0%|          | 0.00/1.06k [00:00<?, ?B/s]"
      ]
     },
     "metadata": {},
     "output_type": "display_data"
    },
    {
     "data": {
      "application/vnd.jupyter.widget-view+json": {
       "model_id": "e5f2f74b639949ea8d23db30621ad326",
       "version_major": 2,
       "version_minor": 0
      },
      "text/plain": [
       "special_tokens_map.json:   0%|          | 0.00/459 [00:00<?, ?B/s]"
      ]
     },
     "metadata": {},
     "output_type": "display_data"
    },
    {
     "data": {
      "application/vnd.jupyter.widget-view+json": {
       "model_id": "71345525f5034606832555fa1d35c837",
       "version_major": 2,
       "version_minor": 0
      },
      "text/plain": [
       "tokenizer.json:   0%|          | 0.00/17.2M [00:00<?, ?B/s]"
      ]
     },
     "metadata": {},
     "output_type": "display_data"
    },
    {
     "data": {
      "application/vnd.jupyter.widget-view+json": {
       "model_id": "7a8b1e06e27f4b7cb4bf9796db304ce5",
       "version_major": 2,
       "version_minor": 0
      },
      "text/plain": [
       "training_args.bin:   0%|          | 0.00/5.75k [00:00<?, ?B/s]"
      ]
     },
     "metadata": {},
     "output_type": "display_data"
    },
    {
     "data": {
      "application/vnd.jupyter.widget-view+json": {
       "model_id": "26bdaebac3174ba2b8ad968d2f29aebc",
       "version_major": 2,
       "version_minor": 0
      },
      "text/plain": [
       "tokenizer_config.json:   0%|          | 0.00/50.6k [00:00<?, ?B/s]"
      ]
     },
     "metadata": {},
     "output_type": "display_data"
    },
    {
     "data": {
      "application/vnd.jupyter.widget-view+json": {
       "model_id": "7fe3719fb1ab4cfd8666766c1a1f7385",
       "version_major": 2,
       "version_minor": 0
      },
      "text/plain": [
       "trainer_state.json:   0%|          | 0.00/7.08k [00:00<?, ?B/s]"
      ]
     },
     "metadata": {},
     "output_type": "display_data"
    },
    {
     "data": {
      "application/vnd.jupyter.widget-view+json": {
       "model_id": "4b7887d4696a467ca11bc88ab78ffdf3",
       "version_major": 2,
       "version_minor": 0
      },
      "text/plain": [
       "adapter_model.safetensors:   0%|          | 0.00/83.9M [00:00<?, ?B/s]"
      ]
     },
     "metadata": {},
     "output_type": "display_data"
    },
    {
     "data": {
      "application/vnd.jupyter.widget-view+json": {
       "model_id": "841b50bc105e47079d6895e3104a05d1",
       "version_major": 2,
       "version_minor": 0
      },
      "text/plain": [
       "README.md:   0%|          | 0.00/5.12k [00:00<?, ?B/s]"
      ]
     },
     "metadata": {},
     "output_type": "display_data"
    },
    {
     "data": {
      "application/vnd.jupyter.widget-view+json": {
       "model_id": "45ae277782de478f947b54c84347b3b7",
       "version_major": 2,
       "version_minor": 0
      },
      "text/plain": [
       "adapter_config.json:   0%|          | 0.00/812 [00:00<?, ?B/s]"
      ]
     },
     "metadata": {},
     "output_type": "display_data"
    },
    {
     "data": {
      "application/vnd.jupyter.widget-view+json": {
       "model_id": "5072dd8eedd44585a643a61bdf5d282f",
       "version_major": 2,
       "version_minor": 0
      },
      "text/plain": [
       "rng_state.pth:   0%|          | 0.00/14.2k [00:00<?, ?B/s]"
      ]
     },
     "metadata": {},
     "output_type": "display_data"
    },
    {
     "data": {
      "application/vnd.jupyter.widget-view+json": {
       "model_id": "bfbbb168597c4fdd888adb8c36b1a87d",
       "version_major": 2,
       "version_minor": 0
      },
      "text/plain": [
       "optimizer.pt:   0%|          | 0.00/43.1M [00:00<?, ?B/s]"
      ]
     },
     "metadata": {},
     "output_type": "display_data"
    },
    {
     "data": {
      "application/vnd.jupyter.widget-view+json": {
       "model_id": "c4b9a78c9ab3472c9b7a93575ade964a",
       "version_major": 2,
       "version_minor": 0
      },
      "text/plain": [
       "scheduler.pt:   0%|          | 0.00/1.06k [00:00<?, ?B/s]"
      ]
     },
     "metadata": {},
     "output_type": "display_data"
    },
    {
     "data": {
      "application/vnd.jupyter.widget-view+json": {
       "model_id": "c2315ba5910b4d1fa3d4f6fab98b3c8f",
       "version_major": 2,
       "version_minor": 0
      },
      "text/plain": [
       "tokenizer.json:   0%|          | 0.00/17.2M [00:00<?, ?B/s]"
      ]
     },
     "metadata": {},
     "output_type": "display_data"
    },
    {
     "data": {
      "application/vnd.jupyter.widget-view+json": {
       "model_id": "1a87b9f9e0be4ccbb340504a234e1890",
       "version_major": 2,
       "version_minor": 0
      },
      "text/plain": [
       "training_args.bin:   0%|          | 0.00/5.75k [00:00<?, ?B/s]"
      ]
     },
     "metadata": {},
     "output_type": "display_data"
    },
    {
     "data": {
      "application/vnd.jupyter.widget-view+json": {
       "model_id": "6816a8ee081d4c538618206e5f89d175",
       "version_major": 2,
       "version_minor": 0
      },
      "text/plain": [
       "special_tokens_map.json:   0%|          | 0.00/459 [00:00<?, ?B/s]"
      ]
     },
     "metadata": {},
     "output_type": "display_data"
    },
    {
     "data": {
      "application/vnd.jupyter.widget-view+json": {
       "model_id": "f30c9ae279ea43a2940fcdfca7dbe31e",
       "version_major": 2,
       "version_minor": 0
      },
      "text/plain": [
       "tokenizer_config.json:   0%|          | 0.00/50.6k [00:00<?, ?B/s]"
      ]
     },
     "metadata": {},
     "output_type": "display_data"
    },
    {
     "data": {
      "application/vnd.jupyter.widget-view+json": {
       "model_id": "2f6722674912434db49663593f38b3f8",
       "version_major": 2,
       "version_minor": 0
      },
      "text/plain": [
       "trainer_state.json:   0%|          | 0.00/8.67k [00:00<?, ?B/s]"
      ]
     },
     "metadata": {},
     "output_type": "display_data"
    },
    {
     "data": {
      "application/vnd.jupyter.widget-view+json": {
       "model_id": "aec29ed017144a299d548b47bb9000fd",
       "version_major": 2,
       "version_minor": 0
      },
      "text/plain": [
       "adapter_model.safetensors:   0%|          | 0.00/83.9M [00:00<?, ?B/s]"
      ]
     },
     "metadata": {},
     "output_type": "display_data"
    },
    {
     "data": {
      "application/vnd.jupyter.widget-view+json": {
       "model_id": "8b13d09147a4489eab72c0493c7b089a",
       "version_major": 2,
       "version_minor": 0
      },
      "text/plain": [
       "optimizer.pt:   0%|          | 0.00/43.1M [00:00<?, ?B/s]"
      ]
     },
     "metadata": {},
     "output_type": "display_data"
    },
    {
     "data": {
      "application/vnd.jupyter.widget-view+json": {
       "model_id": "3277cf15e8684a92a4fb1b6e564865dc",
       "version_major": 2,
       "version_minor": 0
      },
      "text/plain": [
       "adapter_config.json:   0%|          | 0.00/812 [00:00<?, ?B/s]"
      ]
     },
     "metadata": {},
     "output_type": "display_data"
    },
    {
     "data": {
      "application/vnd.jupyter.widget-view+json": {
       "model_id": "59cff693033f4db3889e1b6fbbcfb733",
       "version_major": 2,
       "version_minor": 0
      },
      "text/plain": [
       "README.md:   0%|          | 0.00/5.12k [00:00<?, ?B/s]"
      ]
     },
     "metadata": {},
     "output_type": "display_data"
    },
    {
     "data": {
      "application/vnd.jupyter.widget-view+json": {
       "model_id": "0802688b8e5649169e67c993c213dc2f",
       "version_major": 2,
       "version_minor": 0
      },
      "text/plain": [
       "rng_state.pth:   0%|          | 0.00/14.2k [00:00<?, ?B/s]"
      ]
     },
     "metadata": {},
     "output_type": "display_data"
    },
    {
     "data": {
      "application/vnd.jupyter.widget-view+json": {
       "model_id": "7808c4440e9a4b3cb26b6ad74b65f827",
       "version_major": 2,
       "version_minor": 0
      },
      "text/plain": [
       "scheduler.pt:   0%|          | 0.00/1.06k [00:00<?, ?B/s]"
      ]
     },
     "metadata": {},
     "output_type": "display_data"
    },
    {
     "data": {
      "application/vnd.jupyter.widget-view+json": {
       "model_id": "d1d4519a4b8547c0bb9dd51eaf9e71da",
       "version_major": 2,
       "version_minor": 0
      },
      "text/plain": [
       "scheduler.pt:   0%|          | 0.00/1.06k [00:00<?, ?B/s]"
      ]
     },
     "metadata": {},
     "output_type": "display_data"
    },
    {
     "data": {
      "application/vnd.jupyter.widget-view+json": {
       "model_id": "36bbcb45e6fa4e7fa6f9d861f68f56db",
       "version_major": 2,
       "version_minor": 0
      },
      "text/plain": [
       "tokenizer.json:   0%|          | 0.00/17.2M [00:00<?, ?B/s]"
      ]
     },
     "metadata": {},
     "output_type": "display_data"
    },
    {
     "data": {
      "application/vnd.jupyter.widget-view+json": {
       "model_id": "7d67e23232364358ad64dc47f04315f0",
       "version_major": 2,
       "version_minor": 0
      },
      "text/plain": [
       "special_tokens_map.json:   0%|          | 0.00/459 [00:00<?, ?B/s]"
      ]
     },
     "metadata": {},
     "output_type": "display_data"
    },
    {
     "data": {
      "application/vnd.jupyter.widget-view+json": {
       "model_id": "ead604f1e9664329b04785d166550ea9",
       "version_major": 2,
       "version_minor": 0
      },
      "text/plain": [
       "tokenizer_config.json:   0%|          | 0.00/50.6k [00:00<?, ?B/s]"
      ]
     },
     "metadata": {},
     "output_type": "display_data"
    },
    {
     "data": {
      "application/vnd.jupyter.widget-view+json": {
       "model_id": "514d5486d3db46a2a6402b96097773e5",
       "version_major": 2,
       "version_minor": 0
      },
      "text/plain": [
       "trainer_state.json:   0%|          | 0.00/10.3k [00:00<?, ?B/s]"
      ]
     },
     "metadata": {},
     "output_type": "display_data"
    },
    {
     "data": {
      "application/vnd.jupyter.widget-view+json": {
       "model_id": "88f7df2943574a109caef8b58a74807f",
       "version_major": 2,
       "version_minor": 0
      },
      "text/plain": [
       "training_args.bin:   0%|          | 0.00/5.75k [00:00<?, ?B/s]"
      ]
     },
     "metadata": {},
     "output_type": "display_data"
    },
    {
     "data": {
      "application/vnd.jupyter.widget-view+json": {
       "model_id": "69d709fd28314132bd47b761d9e3c9bb",
       "version_major": 2,
       "version_minor": 0
      },
      "text/plain": [
       "README.md:   0%|          | 0.00/5.12k [00:00<?, ?B/s]"
      ]
     },
     "metadata": {},
     "output_type": "display_data"
    },
    {
     "data": {
      "application/vnd.jupyter.widget-view+json": {
       "model_id": "6956788a876e40ea853fb60cebb82068",
       "version_major": 2,
       "version_minor": 0
      },
      "text/plain": [
       "adapter_config.json:   0%|          | 0.00/812 [00:00<?, ?B/s]"
      ]
     },
     "metadata": {},
     "output_type": "display_data"
    },
    {
     "data": {
      "application/vnd.jupyter.widget-view+json": {
       "model_id": "0e1ed6b96bf945d0a3cc1f383d142e65",
       "version_major": 2,
       "version_minor": 0
      },
      "text/plain": [
       "adapter_model.safetensors:   0%|          | 0.00/83.9M [00:00<?, ?B/s]"
      ]
     },
     "metadata": {},
     "output_type": "display_data"
    },
    {
     "data": {
      "application/vnd.jupyter.widget-view+json": {
       "model_id": "b0bbabee476c4ed499fba0c6d133e6fb",
       "version_major": 2,
       "version_minor": 0
      },
      "text/plain": [
       "rng_state.pth:   0%|          | 0.00/14.2k [00:00<?, ?B/s]"
      ]
     },
     "metadata": {},
     "output_type": "display_data"
    },
    {
     "data": {
      "application/vnd.jupyter.widget-view+json": {
       "model_id": "00f1dfeca47548e79c99504cbeeae2fd",
       "version_major": 2,
       "version_minor": 0
      },
      "text/plain": [
       "optimizer.pt:   0%|          | 0.00/43.1M [00:00<?, ?B/s]"
      ]
     },
     "metadata": {},
     "output_type": "display_data"
    },
    {
     "data": {
      "application/vnd.jupyter.widget-view+json": {
       "model_id": "a483824089b14693bc0a156c246da1f8",
       "version_major": 2,
       "version_minor": 0
      },
      "text/plain": [
       "scheduler.pt:   0%|          | 0.00/1.06k [00:00<?, ?B/s]"
      ]
     },
     "metadata": {},
     "output_type": "display_data"
    },
    {
     "data": {
      "application/vnd.jupyter.widget-view+json": {
       "model_id": "365e36a2f58b45e0a544084aed0ef4e5",
       "version_major": 2,
       "version_minor": 0
      },
      "text/plain": [
       "tokenizer.json:   0%|          | 0.00/17.2M [00:00<?, ?B/s]"
      ]
     },
     "metadata": {},
     "output_type": "display_data"
    },
    {
     "data": {
      "application/vnd.jupyter.widget-view+json": {
       "model_id": "900def65352845c397e88631b0f7fca1",
       "version_major": 2,
       "version_minor": 0
      },
      "text/plain": [
       "special_tokens_map.json:   0%|          | 0.00/459 [00:00<?, ?B/s]"
      ]
     },
     "metadata": {},
     "output_type": "display_data"
    },
    {
     "data": {
      "application/vnd.jupyter.widget-view+json": {
       "model_id": "67adf2d848884d968385202285e40d43",
       "version_major": 2,
       "version_minor": 0
      },
      "text/plain": [
       "training_args.bin:   0%|          | 0.00/5.75k [00:00<?, ?B/s]"
      ]
     },
     "metadata": {},
     "output_type": "display_data"
    },
    {
     "data": {
      "application/vnd.jupyter.widget-view+json": {
       "model_id": "ddf8f477174e459c93fa46804015d120",
       "version_major": 2,
       "version_minor": 0
      },
      "text/plain": [
       "tokenizer_config.json:   0%|          | 0.00/50.6k [00:00<?, ?B/s]"
      ]
     },
     "metadata": {},
     "output_type": "display_data"
    },
    {
     "data": {
      "application/vnd.jupyter.widget-view+json": {
       "model_id": "78aba1f57eea46f29d615f32279fe2b6",
       "version_major": 2,
       "version_minor": 0
      },
      "text/plain": [
       "trainer_state.json:   0%|          | 0.00/11.9k [00:00<?, ?B/s]"
      ]
     },
     "metadata": {},
     "output_type": "display_data"
    },
    {
     "data": {
      "application/vnd.jupyter.widget-view+json": {
       "model_id": "fb75a166eea745878805c3648690b23d",
       "version_major": 2,
       "version_minor": 0
      },
      "text/plain": [
       "adapter_model.safetensors:   0%|          | 0.00/83.9M [00:00<?, ?B/s]"
      ]
     },
     "metadata": {},
     "output_type": "display_data"
    },
    {
     "data": {
      "application/vnd.jupyter.widget-view+json": {
       "model_id": "344f67f47fe04845bc6439b2c8021498",
       "version_major": 2,
       "version_minor": 0
      },
      "text/plain": [
       "optimizer.pt:   0%|          | 0.00/43.1M [00:00<?, ?B/s]"
      ]
     },
     "metadata": {},
     "output_type": "display_data"
    },
    {
     "data": {
      "application/vnd.jupyter.widget-view+json": {
       "model_id": "f171ce1b473049199ec5c26ecfb87ee9",
       "version_major": 2,
       "version_minor": 0
      },
      "text/plain": [
       "rng_state.pth:   0%|          | 0.00/14.2k [00:00<?, ?B/s]"
      ]
     },
     "metadata": {},
     "output_type": "display_data"
    },
    {
     "data": {
      "application/vnd.jupyter.widget-view+json": {
       "model_id": "d57c6f08324f416085ba560dfa02091d",
       "version_major": 2,
       "version_minor": 0
      },
      "text/plain": [
       "scheduler.pt:   0%|          | 0.00/1.06k [00:00<?, ?B/s]"
      ]
     },
     "metadata": {},
     "output_type": "display_data"
    },
    {
     "data": {
      "application/vnd.jupyter.widget-view+json": {
       "model_id": "079b84d37325426bb1020d12505844b7",
       "version_major": 2,
       "version_minor": 0
      },
      "text/plain": [
       "README.md:   0%|          | 0.00/5.12k [00:00<?, ?B/s]"
      ]
     },
     "metadata": {},
     "output_type": "display_data"
    },
    {
     "data": {
      "application/vnd.jupyter.widget-view+json": {
       "model_id": "aa5a6d8e7ba64052941a5b19209e3333",
       "version_major": 2,
       "version_minor": 0
      },
      "text/plain": [
       "adapter_config.json:   0%|          | 0.00/812 [00:00<?, ?B/s]"
      ]
     },
     "metadata": {},
     "output_type": "display_data"
    },
    {
     "data": {
      "application/vnd.jupyter.widget-view+json": {
       "model_id": "7861d905e043453a84570addb69e4afc",
       "version_major": 2,
       "version_minor": 0
      },
      "text/plain": [
       "tokenizer.json:   0%|          | 0.00/17.2M [00:00<?, ?B/s]"
      ]
     },
     "metadata": {},
     "output_type": "display_data"
    },
    {
     "data": {
      "application/vnd.jupyter.widget-view+json": {
       "model_id": "5c5a16154fec4d81b74666adb2a69cf9",
       "version_major": 2,
       "version_minor": 0
      },
      "text/plain": [
       "special_tokens_map.json:   0%|          | 0.00/459 [00:00<?, ?B/s]"
      ]
     },
     "metadata": {},
     "output_type": "display_data"
    },
    {
     "data": {
      "application/vnd.jupyter.widget-view+json": {
       "model_id": "1ee4ee735dc74fb4abdb40ddddaa7779",
       "version_major": 2,
       "version_minor": 0
      },
      "text/plain": [
       "training_args.bin:   0%|          | 0.00/5.75k [00:00<?, ?B/s]"
      ]
     },
     "metadata": {},
     "output_type": "display_data"
    },
    {
     "data": {
      "application/vnd.jupyter.widget-view+json": {
       "model_id": "6df9f18777fe41c4aad36f8060b86df6",
       "version_major": 2,
       "version_minor": 0
      },
      "text/plain": [
       "trainer_state.json:   0%|          | 0.00/13.5k [00:00<?, ?B/s]"
      ]
     },
     "metadata": {},
     "output_type": "display_data"
    },
    {
     "data": {
      "application/vnd.jupyter.widget-view+json": {
       "model_id": "ca373746a1a445a3a4eb100712336ea0",
       "version_major": 2,
       "version_minor": 0
      },
      "text/plain": [
       "tokenizer_config.json:   0%|          | 0.00/50.6k [00:00<?, ?B/s]"
      ]
     },
     "metadata": {},
     "output_type": "display_data"
    },
    {
     "data": {
      "application/vnd.jupyter.widget-view+json": {
       "model_id": "c666dcb7617644e48f63dce47a62b236",
       "version_major": 2,
       "version_minor": 0
      },
      "text/plain": [
       "README.md:   0%|          | 0.00/5.12k [00:00<?, ?B/s]"
      ]
     },
     "metadata": {},
     "output_type": "display_data"
    },
    {
     "data": {
      "application/vnd.jupyter.widget-view+json": {
       "model_id": "cfa27d108c4c415d9da85d69be071426",
       "version_major": 2,
       "version_minor": 0
      },
      "text/plain": [
       "adapter_model.safetensors:   0%|          | 0.00/83.9M [00:00<?, ?B/s]"
      ]
     },
     "metadata": {},
     "output_type": "display_data"
    },
    {
     "data": {
      "application/vnd.jupyter.widget-view+json": {
       "model_id": "e52e6e15f1834481877819479866b396",
       "version_major": 2,
       "version_minor": 0
      },
      "text/plain": [
       "optimizer.pt:   0%|          | 0.00/43.1M [00:00<?, ?B/s]"
      ]
     },
     "metadata": {},
     "output_type": "display_data"
    },
    {
     "data": {
      "application/vnd.jupyter.widget-view+json": {
       "model_id": "9f3cdad8316649249be45e0b5b1ad207",
       "version_major": 2,
       "version_minor": 0
      },
      "text/plain": [
       "adapter_config.json:   0%|          | 0.00/812 [00:00<?, ?B/s]"
      ]
     },
     "metadata": {},
     "output_type": "display_data"
    },
    {
     "data": {
      "application/vnd.jupyter.widget-view+json": {
       "model_id": "a95d8741af5d4837a2f6128615f5d890",
       "version_major": 2,
       "version_minor": 0
      },
      "text/plain": [
       "rng_state.pth:   0%|          | 0.00/14.2k [00:00<?, ?B/s]"
      ]
     },
     "metadata": {},
     "output_type": "display_data"
    },
    {
     "data": {
      "application/vnd.jupyter.widget-view+json": {
       "model_id": "f67587da27af40ce9c28ad060da77288",
       "version_major": 2,
       "version_minor": 0
      },
      "text/plain": [
       "scheduler.pt:   0%|          | 0.00/1.06k [00:00<?, ?B/s]"
      ]
     },
     "metadata": {},
     "output_type": "display_data"
    },
    {
     "data": {
      "application/vnd.jupyter.widget-view+json": {
       "model_id": "5785584adbaf436092c756d78030bfdf",
       "version_major": 2,
       "version_minor": 0
      },
      "text/plain": [
       "tokenizer.json:   0%|          | 0.00/17.2M [00:00<?, ?B/s]"
      ]
     },
     "metadata": {},
     "output_type": "display_data"
    },
    {
     "data": {
      "application/vnd.jupyter.widget-view+json": {
       "model_id": "16cac7164157467197d86dad9253c242",
       "version_major": 2,
       "version_minor": 0
      },
      "text/plain": [
       "special_tokens_map.json:   0%|          | 0.00/459 [00:00<?, ?B/s]"
      ]
     },
     "metadata": {},
     "output_type": "display_data"
    },
    {
     "data": {
      "application/vnd.jupyter.widget-view+json": {
       "model_id": "6367bb1ce36941fa9fcde89a8ec4008f",
       "version_major": 2,
       "version_minor": 0
      },
      "text/plain": [
       "(…).tfevents.1741182714.5172c9540b89.8159.0:   0%|          | 0.00/50.1k [00:00<?, ?B/s]"
      ]
     },
     "metadata": {},
     "output_type": "display_data"
    },
    {
     "data": {
      "application/vnd.jupyter.widget-view+json": {
       "model_id": "4166fe4815714082a37a57339401d51b",
       "version_major": 2,
       "version_minor": 0
      },
      "text/plain": [
       "tokenizer_config.json:   0%|          | 0.00/50.6k [00:00<?, ?B/s]"
      ]
     },
     "metadata": {},
     "output_type": "display_data"
    },
    {
     "data": {
      "application/vnd.jupyter.widget-view+json": {
       "model_id": "9e4fbbc45c0f4d979dcab9b5fdf6bc61",
       "version_major": 2,
       "version_minor": 0
      },
      "text/plain": [
       "training_args.bin:   0%|          | 0.00/5.75k [00:00<?, ?B/s]"
      ]
     },
     "metadata": {},
     "output_type": "display_data"
    },
    {
     "data": {
      "application/vnd.jupyter.widget-view+json": {
       "model_id": "cb9bf32fad84494c8f34ef70730e58cf",
       "version_major": 2,
       "version_minor": 0
      },
      "text/plain": [
       "trainer_state.json:   0%|          | 0.00/15.1k [00:00<?, ?B/s]"
      ]
     },
     "metadata": {},
     "output_type": "display_data"
    },
    {
     "data": {
      "application/vnd.jupyter.widget-view+json": {
       "model_id": "36f4545194264dd5a6a0005eddc07907",
       "version_major": 2,
       "version_minor": 0
      },
      "text/plain": [
       "tokenizer.json:   0%|          | 0.00/17.2M [00:00<?, ?B/s]"
      ]
     },
     "metadata": {},
     "output_type": "display_data"
    },
    {
     "data": {
      "application/vnd.jupyter.widget-view+json": {
       "model_id": "cac73e2bdfa744c586bf4595e726f59b",
       "version_major": 2,
       "version_minor": 0
      },
      "text/plain": [
       "training_args.bin:   0%|          | 0.00/5.75k [00:00<?, ?B/s]"
      ]
     },
     "metadata": {},
     "output_type": "display_data"
    },
    {
     "data": {
      "application/vnd.jupyter.widget-view+json": {
       "model_id": "117e3ad462704ba38089e68e46193b45",
       "version_major": 2,
       "version_minor": 0
      },
      "text/plain": [
       "special_tokens_map.json:   0%|          | 0.00/459 [00:00<?, ?B/s]"
      ]
     },
     "metadata": {},
     "output_type": "display_data"
    },
    {
     "data": {
      "application/vnd.jupyter.widget-view+json": {
       "model_id": "619e6aa31f0a48ab8484b974bb486650",
       "version_major": 2,
       "version_minor": 0
      },
      "text/plain": [
       "tokenizer_config.json:   0%|          | 0.00/50.6k [00:00<?, ?B/s]"
      ]
     },
     "metadata": {},
     "output_type": "display_data"
    },
    {
     "name": "stdout",
     "output_type": "stream",
     "text": [
      "Resume from checkpoint: True\n",
      "Project name: L3.1-8B-wikipedia-en-v20250305134947\n",
      "Hub model ID: alxxtexxr/L3.1-8B-wikipedia-en-v20250305134947\n"
     ]
    }
   ],
   "source": [
    "# Project configs\n",
    "seed = 69\n",
    "lang = 'en' # 'en' | 'id'\n",
    "task = 'gsm8k' # 'wikipedia' | 'gsm8k'\n",
    "\n",
    "# Data Configs\n",
    "hf_data_id = 'wikimedia/wikipedia'\n",
    "hf_data_dir = '20231101.en'\n",
    "hf_data_split = 'train[:2500]'\n",
    "max_seq_length = 1024\n",
    "\n",
    "# Model configs\n",
    "dtype = None # None for auto detection. Float16 for Tesla T4, V100, Bfloat16 for Ampere+\n",
    "load_in_4bit = True # Use 4bit quantization to reduce memory usage. Can be False.\n",
    "\n",
    "# LoRA configs\n",
    "lora_target_modules = ['q_proj', 'k_proj', 'v_proj', 'o_proj', 'gate_proj', 'up_proj', 'down_proj']\n",
    "lora_r = 8\n",
    "lora_alpha = 16\n",
    "\n",
    "resume_from_checkpoint = True\n",
    "if resume_from_checkpoint:\n",
    "    hub_model_id = ''\n",
    "    project_name = hub_model_id.split('/')[-1]\n",
    "    model_name = project_name\n",
    "\n",
    "    from huggingface_hub import snapshot_download\n",
    "    snapshot_download(repo_id=hub_model_id, local_dir=model_name)\n",
    "else:\n",
    "    model_name = 'unsloth/Meta-Llama-3.1-8B'\n",
    "    project_name = f'L3.1-8B-{task}-{lang}-v{datetime.now().strftime(\"%Y%m%d%H%M%S\")}'\n",
    "    hub_model_id = f'alxxtexxr/{project_name}'\n",
    "print(\"Resume from checkpoint:\", resume_from_checkpoint)\n",
    "print(\"Project name:\", project_name)\n",
    "print(\"Hub model ID:\", hub_model_id)"
   ]
  },
  {
   "cell_type": "markdown",
   "metadata": {},
   "source": [
    "# Model"
   ]
  },
  {
   "cell_type": "code",
   "execution_count": 13,
   "metadata": {},
   "outputs": [
    {
     "name": "stdout",
     "output_type": "stream",
     "text": [
      "==((====))==  Unsloth 2025.3.4: Fast Llama patching. Transformers: 4.48.3.\n",
      "   \\\\   /|    Tesla T4. Num GPUs = 1. Max memory: 14.741 GB. Platform: Linux.\n",
      "O^O/ \\_/ \\    Torch: 2.5.1+cu124. CUDA: 7.5. CUDA Toolkit: 12.4. Triton: 3.1.0\n",
      "\\        /    Bfloat16 = FALSE. FA [Xformers = 0.0.29. FA2 = False]\n",
      " \"-____-\"     Free license: http://github.com/unslothai/unsloth\n",
      "Unsloth: Fast downloading is enabled - ignore downloading bars which are red colored!\n"
     ]
    },
    {
     "data": {
      "application/vnd.jupyter.widget-view+json": {
       "model_id": "138802a349f44672948c8a97eb23b0e0",
       "version_major": 2,
       "version_minor": 0
      },
      "text/plain": [
       "model.safetensors:   0%|          | 0.00/5.96G [00:00<?, ?B/s]"
      ]
     },
     "metadata": {},
     "output_type": "display_data"
    },
    {
     "data": {
      "application/vnd.jupyter.widget-view+json": {
       "model_id": "ea1d7c2486704f0cb39cf4f4fc3af8c4",
       "version_major": 2,
       "version_minor": 0
      },
      "text/plain": [
       "generation_config.json:   0%|          | 0.00/235 [00:00<?, ?B/s]"
      ]
     },
     "metadata": {},
     "output_type": "display_data"
    },
    {
     "name": "stderr",
     "output_type": "stream",
     "text": [
      "Unsloth 2025.3.4 patched 32 layers with 32 QKV layers, 32 O layers and 32 MLP layers.\n"
     ]
    }
   ],
   "source": [
    "model, tokenizer = FastLanguageModel.from_pretrained(\n",
    "    model_name=model_name,\n",
    "    max_seq_length=max_seq_length,\n",
    "    dtype=dtype,\n",
    "    load_in_4bit=load_in_4bit,\n",
    ")"
   ]
  },
  {
   "cell_type": "code",
   "execution_count": 14,
   "metadata": {},
   "outputs": [
    {
     "name": "stderr",
     "output_type": "stream",
     "text": [
      "Unsloth: Already have LoRA adapters! We shall skip this step.\n"
     ]
    }
   ],
   "source": [
    "model = FastLanguageModel.get_peft_model(\n",
    "    model,\n",
    "    random_state=seed,\n",
    "    target_modules=lora_target_modules,\n",
    "    r=lora_r,\n",
    "    lora_alpha=lora_alpha,   \n",
    "    lora_dropout=0, # Supports any, but = 0 is optimized\n",
    "    bias='none',    # Supports any, but = 'none' is optimized\n",
    "    # [NEW] \"unsloth\" uses 30% less VRAM, fits 2x larger batch sizes!\n",
    "    use_gradient_checkpointing=False, # True or 'unsloth' for very long context\n",
    "    use_rslora=False,\n",
    "    loftq_config=None,\n",
    ")"
   ]
  },
  {
   "cell_type": "markdown",
   "metadata": {},
   "source": [
    "# Data"
   ]
  },
  {
   "cell_type": "code",
   "execution_count": 15,
   "metadata": {},
   "outputs": [
    {
     "data": {
      "application/vnd.jupyter.widget-view+json": {
       "model_id": "a9ac1cfbbcad4738a94c91286f3abda8",
       "version_major": 2,
       "version_minor": 0
      },
      "text/plain": [
       "README.md:   0%|          | 0.00/131k [00:00<?, ?B/s]"
      ]
     },
     "metadata": {},
     "output_type": "display_data"
    },
    {
     "data": {
      "application/vnd.jupyter.widget-view+json": {
       "model_id": "4961f8755f74410fbb2b4c2c4241e6a7",
       "version_major": 2,
       "version_minor": 0
      },
      "text/plain": [
       "Resolving data files:   0%|          | 0/41 [00:00<?, ?it/s]"
      ]
     },
     "metadata": {},
     "output_type": "display_data"
    },
    {
     "data": {
      "application/vnd.jupyter.widget-view+json": {
       "model_id": "1f7278e79c774539a6f1928f44bc7a6d",
       "version_major": 2,
       "version_minor": 0
      },
      "text/plain": [
       "Downloading data:   0%|          | 0/41 [00:00<?, ?files/s]"
      ]
     },
     "metadata": {},
     "output_type": "display_data"
    },
    {
     "data": {
      "application/vnd.jupyter.widget-view+json": {
       "model_id": "f83c1ed48379439f958038b4a0bca0a5",
       "version_major": 2,
       "version_minor": 0
      },
      "text/plain": [
       "train-00000-of-00041.parquet:   0%|          | 0.00/420M [00:00<?, ?B/s]"
      ]
     },
     "metadata": {},
     "output_type": "display_data"
    },
    {
     "data": {
      "application/vnd.jupyter.widget-view+json": {
       "model_id": "972a2eaf5b154f88881db6557971bd5f",
       "version_major": 2,
       "version_minor": 0
      },
      "text/plain": [
       "train-00001-of-00041.parquet:   0%|          | 0.00/351M [00:00<?, ?B/s]"
      ]
     },
     "metadata": {},
     "output_type": "display_data"
    },
    {
     "data": {
      "application/vnd.jupyter.widget-view+json": {
       "model_id": "6afd1769ba684bdabb2b145b70396742",
       "version_major": 2,
       "version_minor": 0
      },
      "text/plain": [
       "train-00002-of-00041.parquet:   0%|          | 0.00/329M [00:00<?, ?B/s]"
      ]
     },
     "metadata": {},
     "output_type": "display_data"
    },
    {
     "data": {
      "application/vnd.jupyter.widget-view+json": {
       "model_id": "3a034bd0e8aa4cbeb31155109b02425b",
       "version_major": 2,
       "version_minor": 0
      },
      "text/plain": [
       "train-00003-of-00041.parquet:   0%|          | 0.00/331M [00:00<?, ?B/s]"
      ]
     },
     "metadata": {},
     "output_type": "display_data"
    },
    {
     "data": {
      "application/vnd.jupyter.widget-view+json": {
       "model_id": "4e1b94b6db7547e484f8827a5e18868e",
       "version_major": 2,
       "version_minor": 0
      },
      "text/plain": [
       "train-00004-of-00041.parquet:   0%|          | 0.00/307M [00:00<?, ?B/s]"
      ]
     },
     "metadata": {},
     "output_type": "display_data"
    },
    {
     "data": {
      "application/vnd.jupyter.widget-view+json": {
       "model_id": "4500103040d0475b959248803306dbb9",
       "version_major": 2,
       "version_minor": 0
      },
      "text/plain": [
       "train-00005-of-00041.parquet:   0%|          | 0.00/244M [00:00<?, ?B/s]"
      ]
     },
     "metadata": {},
     "output_type": "display_data"
    },
    {
     "data": {
      "application/vnd.jupyter.widget-view+json": {
       "model_id": "abcead514b8b46109550955e38cebd51",
       "version_major": 2,
       "version_minor": 0
      },
      "text/plain": [
       "train-00006-of-00041.parquet:   0%|          | 0.00/266M [00:00<?, ?B/s]"
      ]
     },
     "metadata": {},
     "output_type": "display_data"
    },
    {
     "data": {
      "application/vnd.jupyter.widget-view+json": {
       "model_id": "4d0afe2ff5654e97b4b0324262232c8a",
       "version_major": 2,
       "version_minor": 0
      },
      "text/plain": [
       "train-00007-of-00041.parquet:   0%|          | 0.00/228M [00:00<?, ?B/s]"
      ]
     },
     "metadata": {},
     "output_type": "display_data"
    },
    {
     "data": {
      "application/vnd.jupyter.widget-view+json": {
       "model_id": "255dcdc1aa8543eabea97805ebfa6728",
       "version_major": 2,
       "version_minor": 0
      },
      "text/plain": [
       "train-00008-of-00041.parquet:   0%|          | 0.00/248M [00:00<?, ?B/s]"
      ]
     },
     "metadata": {},
     "output_type": "display_data"
    },
    {
     "data": {
      "application/vnd.jupyter.widget-view+json": {
       "model_id": "2779b9ed64824a55a5d4424865ee05c1",
       "version_major": 2,
       "version_minor": 0
      },
      "text/plain": [
       "train-00009-of-00041.parquet:   0%|          | 0.00/227M [00:00<?, ?B/s]"
      ]
     },
     "metadata": {},
     "output_type": "display_data"
    },
    {
     "data": {
      "application/vnd.jupyter.widget-view+json": {
       "model_id": "5b24e1304e88447a96dbb95cb378823a",
       "version_major": 2,
       "version_minor": 0
      },
      "text/plain": [
       "train-00010-of-00041.parquet:   0%|          | 0.00/234M [00:00<?, ?B/s]"
      ]
     },
     "metadata": {},
     "output_type": "display_data"
    },
    {
     "data": {
      "application/vnd.jupyter.widget-view+json": {
       "model_id": "7d3f2aa798c04faf96ece540c98634cb",
       "version_major": 2,
       "version_minor": 0
      },
      "text/plain": [
       "train-00011-of-00041.parquet:   0%|          | 0.00/232M [00:00<?, ?B/s]"
      ]
     },
     "metadata": {},
     "output_type": "display_data"
    },
    {
     "data": {
      "application/vnd.jupyter.widget-view+json": {
       "model_id": "26f149492d7a483cbb4057269d03b193",
       "version_major": 2,
       "version_minor": 0
      },
      "text/plain": [
       "train-00012-of-00041.parquet:   0%|          | 0.00/239M [00:00<?, ?B/s]"
      ]
     },
     "metadata": {},
     "output_type": "display_data"
    },
    {
     "data": {
      "application/vnd.jupyter.widget-view+json": {
       "model_id": "e67283f8086c4730a232fd5aa9aab929",
       "version_major": 2,
       "version_minor": 0
      },
      "text/plain": [
       "train-00013-of-00041.parquet:   0%|          | 0.00/241M [00:00<?, ?B/s]"
      ]
     },
     "metadata": {},
     "output_type": "display_data"
    },
    {
     "data": {
      "application/vnd.jupyter.widget-view+json": {
       "model_id": "38de65b23b174589bc0a7e833d6ba0a9",
       "version_major": 2,
       "version_minor": 0
      },
      "text/plain": [
       "train-00014-of-00041.parquet:   0%|          | 0.00/223M [00:00<?, ?B/s]"
      ]
     },
     "metadata": {},
     "output_type": "display_data"
    },
    {
     "data": {
      "application/vnd.jupyter.widget-view+json": {
       "model_id": "6cce3a7302684a69a713e6a97ef7e29b",
       "version_major": 2,
       "version_minor": 0
      },
      "text/plain": [
       "train-00015-of-00041.parquet:   0%|          | 0.00/235M [00:00<?, ?B/s]"
      ]
     },
     "metadata": {},
     "output_type": "display_data"
    },
    {
     "data": {
      "application/vnd.jupyter.widget-view+json": {
       "model_id": "44fc4ba6619844f5a3a3752ca1f48155",
       "version_major": 2,
       "version_minor": 0
      },
      "text/plain": [
       "train-00016-of-00041.parquet:   0%|          | 0.00/503M [00:00<?, ?B/s]"
      ]
     },
     "metadata": {},
     "output_type": "display_data"
    },
    {
     "data": {
      "application/vnd.jupyter.widget-view+json": {
       "model_id": "02c82c74f3364e25bf3f3b5fee988b32",
       "version_major": 2,
       "version_minor": 0
      },
      "text/plain": [
       "train-00017-of-00041.parquet:   0%|          | 0.00/231M [00:00<?, ?B/s]"
      ]
     },
     "metadata": {},
     "output_type": "display_data"
    },
    {
     "data": {
      "application/vnd.jupyter.widget-view+json": {
       "model_id": "9db57547b5e84669854f90afda79dec6",
       "version_major": 2,
       "version_minor": 0
      },
      "text/plain": [
       "train-00018-of-00041.parquet:   0%|          | 0.00/231M [00:00<?, ?B/s]"
      ]
     },
     "metadata": {},
     "output_type": "display_data"
    },
    {
     "data": {
      "application/vnd.jupyter.widget-view+json": {
       "model_id": "4395750393fc46e7b6c195bead62376f",
       "version_major": 2,
       "version_minor": 0
      },
      "text/plain": [
       "train-00019-of-00041.parquet:   0%|          | 0.00/195M [00:00<?, ?B/s]"
      ]
     },
     "metadata": {},
     "output_type": "display_data"
    },
    {
     "data": {
      "application/vnd.jupyter.widget-view+json": {
       "model_id": "a573c2aa52a94fd390804e91d45d3493",
       "version_major": 2,
       "version_minor": 0
      },
      "text/plain": [
       "train-00020-of-00041.parquet:   0%|          | 0.00/225M [00:00<?, ?B/s]"
      ]
     },
     "metadata": {},
     "output_type": "display_data"
    },
    {
     "data": {
      "application/vnd.jupyter.widget-view+json": {
       "model_id": "06fc715c84e14666824c60eb01adfc80",
       "version_major": 2,
       "version_minor": 0
      },
      "text/plain": [
       "train-00021-of-00041.parquet:   0%|          | 0.00/216M [00:00<?, ?B/s]"
      ]
     },
     "metadata": {},
     "output_type": "display_data"
    },
    {
     "data": {
      "application/vnd.jupyter.widget-view+json": {
       "model_id": "315db2d757a74f879f146dca9d591955",
       "version_major": 2,
       "version_minor": 0
      },
      "text/plain": [
       "train-00022-of-00041.parquet:   0%|          | 0.00/202M [00:00<?, ?B/s]"
      ]
     },
     "metadata": {},
     "output_type": "display_data"
    },
    {
     "data": {
      "application/vnd.jupyter.widget-view+json": {
       "model_id": "4afcb16bfccb49438648aa06f857f893",
       "version_major": 2,
       "version_minor": 0
      },
      "text/plain": [
       "train-00023-of-00041.parquet:   0%|          | 0.00/213M [00:00<?, ?B/s]"
      ]
     },
     "metadata": {},
     "output_type": "display_data"
    },
    {
     "data": {
      "application/vnd.jupyter.widget-view+json": {
       "model_id": "0be1bcc4cf114a09a433a6b151101ff8",
       "version_major": 2,
       "version_minor": 0
      },
      "text/plain": [
       "train-00024-of-00041.parquet:   0%|          | 0.00/221M [00:00<?, ?B/s]"
      ]
     },
     "metadata": {},
     "output_type": "display_data"
    },
    {
     "data": {
      "application/vnd.jupyter.widget-view+json": {
       "model_id": "e0842f1e69354ecbaf6498fa35c0e039",
       "version_major": 2,
       "version_minor": 0
      },
      "text/plain": [
       "train-00025-of-00041.parquet:   0%|          | 0.00/221M [00:00<?, ?B/s]"
      ]
     },
     "metadata": {},
     "output_type": "display_data"
    },
    {
     "data": {
      "application/vnd.jupyter.widget-view+json": {
       "model_id": "d1a6d83ba7e64b218fbc57d8c39edd3d",
       "version_major": 2,
       "version_minor": 0
      },
      "text/plain": [
       "train-00026-of-00041.parquet:   0%|          | 0.00/208M [00:00<?, ?B/s]"
      ]
     },
     "metadata": {},
     "output_type": "display_data"
    },
    {
     "data": {
      "application/vnd.jupyter.widget-view+json": {
       "model_id": "839654b175194003ae25c6e1e97c3521",
       "version_major": 2,
       "version_minor": 0
      },
      "text/plain": [
       "train-00027-of-00041.parquet:   0%|          | 0.00/214M [00:00<?, ?B/s]"
      ]
     },
     "metadata": {},
     "output_type": "display_data"
    },
    {
     "data": {
      "application/vnd.jupyter.widget-view+json": {
       "model_id": "ffe37b994e7e49d28d1a7a29357e6ff5",
       "version_major": 2,
       "version_minor": 0
      },
      "text/plain": [
       "train-00028-of-00041.parquet:   0%|          | 0.00/188M [00:00<?, ?B/s]"
      ]
     },
     "metadata": {},
     "output_type": "display_data"
    },
    {
     "data": {
      "application/vnd.jupyter.widget-view+json": {
       "model_id": "37d5dbf18d96466bbafb65bccb088aab",
       "version_major": 2,
       "version_minor": 0
      },
      "text/plain": [
       "train-00029-of-00041.parquet:   0%|          | 0.00/218M [00:00<?, ?B/s]"
      ]
     },
     "metadata": {},
     "output_type": "display_data"
    },
    {
     "data": {
      "application/vnd.jupyter.widget-view+json": {
       "model_id": "cac747df8e46449b8863eb858a8378eb",
       "version_major": 2,
       "version_minor": 0
      },
      "text/plain": [
       "train-00030-of-00041.parquet:   0%|          | 0.00/204M [00:00<?, ?B/s]"
      ]
     },
     "metadata": {},
     "output_type": "display_data"
    },
    {
     "data": {
      "application/vnd.jupyter.widget-view+json": {
       "model_id": "ce5c0f36888d46f5b366a59c2a21df9f",
       "version_major": 2,
       "version_minor": 0
      },
      "text/plain": [
       "train-00031-of-00041.parquet:   0%|          | 0.00/215M [00:00<?, ?B/s]"
      ]
     },
     "metadata": {},
     "output_type": "display_data"
    },
    {
     "data": {
      "application/vnd.jupyter.widget-view+json": {
       "model_id": "89fd862f0ff64e8c8525cd742569a192",
       "version_major": 2,
       "version_minor": 0
      },
      "text/plain": [
       "train-00032-of-00041.parquet:   0%|          | 0.00/214M [00:00<?, ?B/s]"
      ]
     },
     "metadata": {},
     "output_type": "display_data"
    },
    {
     "data": {
      "application/vnd.jupyter.widget-view+json": {
       "model_id": "d3cca7718b3f4a4b9ee0d87acdca2353",
       "version_major": 2,
       "version_minor": 0
      },
      "text/plain": [
       "train-00033-of-00041.parquet:   0%|          | 0.00/203M [00:00<?, ?B/s]"
      ]
     },
     "metadata": {},
     "output_type": "display_data"
    },
    {
     "data": {
      "application/vnd.jupyter.widget-view+json": {
       "model_id": "14fefff959bd40f7a35e3a5c6bb4294f",
       "version_major": 2,
       "version_minor": 0
      },
      "text/plain": [
       "train-00034-of-00041.parquet:   0%|          | 0.00/219M [00:00<?, ?B/s]"
      ]
     },
     "metadata": {},
     "output_type": "display_data"
    },
    {
     "data": {
      "application/vnd.jupyter.widget-view+json": {
       "model_id": "3fcdd0c2e5fa42168689f8a301787bab",
       "version_major": 2,
       "version_minor": 0
      },
      "text/plain": [
       "train-00035-of-00041.parquet:   0%|          | 0.00/224M [00:00<?, ?B/s]"
      ]
     },
     "metadata": {},
     "output_type": "display_data"
    },
    {
     "data": {
      "application/vnd.jupyter.widget-view+json": {
       "model_id": "4ea56ca586c04a44a0a2a59b1d714f65",
       "version_major": 2,
       "version_minor": 0
      },
      "text/plain": [
       "train-00036-of-00041.parquet:   0%|          | 0.00/610M [00:00<?, ?B/s]"
      ]
     },
     "metadata": {},
     "output_type": "display_data"
    },
    {
     "data": {
      "application/vnd.jupyter.widget-view+json": {
       "model_id": "21e227140ffc44f392c25650fb1a5762",
       "version_major": 2,
       "version_minor": 0
      },
      "text/plain": [
       "train-00037-of-00041.parquet:   0%|          | 0.00/674M [00:00<?, ?B/s]"
      ]
     },
     "metadata": {},
     "output_type": "display_data"
    },
    {
     "data": {
      "application/vnd.jupyter.widget-view+json": {
       "model_id": "4eeb8e8c75c44da0a5becde9fb8e2adb",
       "version_major": 2,
       "version_minor": 0
      },
      "text/plain": [
       "train-00038-of-00041.parquet:   0%|          | 0.00/538M [00:00<?, ?B/s]"
      ]
     },
     "metadata": {},
     "output_type": "display_data"
    },
    {
     "data": {
      "application/vnd.jupyter.widget-view+json": {
       "model_id": "85cabe6cdeea48aba852bff8754d08f0",
       "version_major": 2,
       "version_minor": 0
      },
      "text/plain": [
       "train-00039-of-00041.parquet:   0%|          | 0.00/465M [00:00<?, ?B/s]"
      ]
     },
     "metadata": {},
     "output_type": "display_data"
    },
    {
     "data": {
      "application/vnd.jupyter.widget-view+json": {
       "model_id": "f1a30690a1b54a0e9889a8276d04e81c",
       "version_major": 2,
       "version_minor": 0
      },
      "text/plain": [
       "train-00040-of-00041.parquet:   0%|          | 0.00/422M [00:00<?, ?B/s]"
      ]
     },
     "metadata": {},
     "output_type": "display_data"
    },
    {
     "data": {
      "application/vnd.jupyter.widget-view+json": {
       "model_id": "cdd7a45afa3a40bb92fa6cc72d130624",
       "version_major": 2,
       "version_minor": 0
      },
      "text/plain": [
       "Generating train split: 0 examples [00:00, ? examples/s]"
      ]
     },
     "metadata": {},
     "output_type": "display_data"
    },
    {
     "data": {
      "application/vnd.jupyter.widget-view+json": {
       "model_id": "8d597e14e2144fde9acee324decc4bde",
       "version_major": 2,
       "version_minor": 0
      },
      "text/plain": [
       "Map:   0%|          | 0/2500 [00:00<?, ? examples/s]"
      ]
     },
     "metadata": {},
     "output_type": "display_data"
    }
   ],
   "source": [
    "dataset = load_dataset(hf_data_id, data_dir=hf_data_dir, split=hf_data_split)\n",
    "eos_token = tokenizer.eos_token\n",
    "def format_prompts(examples):\n",
    "    return {'text': [example + eos_token for example in examples['text']]}\n",
    "dataset = dataset.map(format_prompts, batched=True)"
   ]
  },
  {
   "cell_type": "code",
   "execution_count": 16,
   "metadata": {},
   "outputs": [
    {
     "name": "stdout",
     "output_type": "stream",
     "text": [
      "DatasetDict({\n",
      "    train: Dataset({\n",
      "        features: ['id', 'url', 'title', 'text'],\n",
      "        num_rows: 2000\n",
      "    })\n",
      "    test: Dataset({\n",
      "        features: ['id', 'url', 'title', 'text'],\n",
      "        num_rows: 500\n",
      "    })\n",
      "})\n"
     ]
    }
   ],
   "source": [
    "dataset_split = dataset.train_test_split(test_size=0.2)\n",
    "print(dataset_split)"
   ]
  },
  {
   "cell_type": "code",
   "execution_count": 17,
   "metadata": {},
   "outputs": [
    {
     "name": "stdout",
     "output_type": "stream",
     "text": [
      "=========================\n",
      "Capricorn (pl. capricorni or capricorns) may refer to:\n",
      "\n",
      "Places\n",
      "Capricorn and Bunker Group, islands of the southern Great Barrier Reef, Australia\n",
      "Capricorn District Municipality, Limpopo province, South Africa\n",
      "\n",
      "Animals\n",
      "Capricorn, an animal from the ibex family, particularly the Alpine ibex\n",
      "Capricornis, a genus of goat-like or antelope-like animals\n",
      "\n",
      "Astronomy and astrology \n",
      " Capricornus, one of the constellations of the zodiac\n",
      " Capricorn (astrology)\n",
      "\n",
      "Arts, entertainment, and media\n",
      "\n",
      "Fictional characters\n",
      "Capricorn (comics), several Marvel Comics characters\n",
      "Capricorn (Inkworld), Inkheart character\n",
      "\n",
      "Music\n",
      "\n",
      "Groups and labels\n",
      " Capricorn Records, an American record label active 1969–1979\n",
      " Capricorn (ensemble), a British chamber ensemble active 1973–2000\n",
      "\n",
      "Albums\n",
      "Capricorn (Jay Chou album), 2008\n",
      "Capricorn (Trevor Powers album), 2020\n",
      "Capricorn (Mike Tramp album), 1997\n",
      "\"Capricorn (A Brand New Name)\", a 2002 single by 30 Seconds to Mars from their self-titled album\n",
      "\n",
      "Songs\n",
      "\"Capricorn\", a song by IQ from their 1997 concept album Subterranea\n",
      "\"Capricorn\", a song by Barclay James Harvest from the album Eyes of the Universe\n",
      "\"Capricorn\", a song by Motörhead from the album Overkill\n",
      "\n",
      "Other uses in arts, entertainment, and media \n",
      " Capricorn, a 1988 manga series created by Johji Manabe\n",
      " Capricorn One, a 1977 thriller\n",
      "\n",
      "Brands and enterprises\n",
      "Capricorn (microprocessor), a family of microprocessors used in the HP series 80 scientific microcomputers\n",
      "Capricorn, one of the names for the Virgin Atlantic GlobalFlyer\n",
      "Capricorn Investment Holdings, an umbrella for the Capricorn group of companies\n",
      "\n",
      "Other uses\n",
      "Capricorn, a ship that on January 28, 1980 collided with and sank the USCGC Blackthorn (WLB-391)\n",
      "Capricorn Africa Society, a pressure group in British African colonies\n",
      "\n",
      "See also\n",
      "Capricornia (disambiguation)\n",
      "Tropic of Capricorn (disambiguation)<|end_of_text|>\n",
      "=========================\n",
      "Ahmad Shah Massoud (Dari/Pashto: , ; September 2, 1953September 9, 2001) was an Afghan politician and military commander. He was a powerful guerrilla commander during the resistance against the Soviet occupation between 1979 and 1989. In the 1990s, he led the government's military wing against rival militias; after the Taliban takeover, he was the leading opposition commander against their regime until his assassination in 2001.\n",
      "\n",
      "Massoud came from an ethnic Tajik, Sunni Muslim background in the Panjshir Valley of Northern Afghanistan. He began studying engineering at Polytechnical University of Kabul in the 1970s, where he became involved with religious anti-communist movements around Burhanuddin Rabbani, a leading Islamist. He participated in a failed uprising against Mohammed Daoud Khan's government. He later joined Rabbani's Jamiat-e Islami party. During the Soviet–Afghan War, his role as a powerful insurgent leader of the Afghan mujahideen earned him the nickname \"Lion of Panjshir\" () among his followers. Supported by Britain's MI6 and to a lesser extent by the U.S. Central Intelligence Agency (CIA), he successfully resisted the Soviets from taking the Panjshir Valley. In 1992, he signed the Peshawar Accord, a peace and power-sharing agreement, in the post-communist Islamic State of Afghanistan. He was appointed the Minister of Defense as well as the government's main military commander. His militia fought to defend Kabul against militias led by Gulbuddin Hekmatyar and other warlords who were bombing the city, as well as later against the Taliban, who laid siege to the capital in January 1995 after the city had seen fierce fighting with at least 60,000 civilians killed.\n",
      "\n",
      "Following the rise of the Taliban in 1996, Massoud, who rejected the Taliban's fundamentalist interpretation of Islam, returned to armed opposition until he was forced to flee to Kulob, Tajikistan, strategically destroying the Salang Tunnel on his way north. He became the military and political leader of the United Islamic Front for the Salvation of Afghanistan or Northern Alliance, which by 2000 controlled only between 5 and 10 percent of the country. In 2001 he visited Europe and urged European Parliament leaders to pressure Pakistan on its support for the Taliban. He also asked for humanitarian aid to combat the Afghan people's gruesome conditions under the Taliban. On September 9, 2001, Massoud was injured in a suicide bombing by two al-Qaeda assassins, ordered personally by the al-Qaeda leader Osama bin Laden himself; he lost his life while en route to a hospital across the border in Tajikistan. Two days later, the September 11 attacks occurred in the United States, which ultimately led to the North Atlantic Treaty Organization invading Afghanistan and allying with Massoud's forces. The Northern Alliance eventually won the two-month-long war in December 2001, removing the Taliban from power.\n",
      "\n",
      "Massoud has been described as one of the greatest guerrilla leaders of the 20th century and has been compared to Josip Broz Tito, Ho Chi Minh and Che Guevara. Massoud was posthumously named \"National Hero\" by the order of President Hamid Karzai after the Taliban were ousted from power. The date of Massoud's death, September 9, was observed as a national holiday known as \"Massoud Day\" until the Taliban takeover in August 2021. His followers call him Amer Sāhib-e Shahīd (), which translates to \"(our) martyred commander\". He has been posthumously honored by a plaque in France in 2021, and in the same year was awarded with the highest honor of Tajikistan.\n",
      "\n",
      "Early life\n",
      "\n",
      "Ahmad Shah Massoud was born in 1953 in the small village of Jangalak, Bazarak in the Panjshir Valley (now administered as part of the Panjshir Province), to a well-to-do family native to the Panjshir Valley. Massoud's name at birth was 'Ahmad Shah' after King Ahamad Shah Durrani, founder of the modern, unified state of Afghanistan, later taking the name 'Massoud' as a nom de guerre in 1974 when he joined the resistance movement against the forces of Daoud Khan. Massoud's father, Dost Mohammad, was a colonel in the Royal Afghan Army; his mother, Bibi Khorshaid has been described as a \"modern-minded\" woman who taught herself to read and write determined to educate her daughters no less than her sons.\n",
      "\n",
      "Moving along with his father's postings, the adolescent Massoud attended primary school in Afghanistan's western city of Herat before his father was dispatched to Kabul. There, Massoud was sent to the renowned Franco-Afghan Lycée Esteqlal (lit. Independence High School) where he attained his proficiency in French. Massoud's experience at Lycée would be formative and, as he would later remark, was the happiest period of his life. At Lycée his classes were taught by French and Afghan tutors educated in France and the students donned Western jackets, neckties, trousers, skirts, scarves, and stockings. Although his knowledge of the French language would earn him greater affinity among French journalists and politicians, later conservative Islamist opponents such as Gulbuddin Hekmatyar and the Taliban would derogatorily dub him \"The Frenchmen\" or \"The Parisian\" suggestive of his sympathies to Western culture.\n",
      "\n",
      "While at the Lycée, Massoud was described as an intellectually-gifted student, hard-working, religiously devout, and mature for his age with a particular interest in ethics, politics, universal justice. Friends and family recall an instance where Massoud, returning from school, came to the defense of a younger boy leaving the three bullies knocked-out on the pavement. More formatively, Massoud followed closely reports of the 1967 Six-Day War and the defiant statements of Arab leaders like Egyptian President Gamal Abdel Nasser. He later told researcher Peter DeNeufville that, at fourteen, the war left him determined to be a soldier and gave him a new regard for Pan-Islamism after hearing the stories told by Jordanian, Egyptian, and Syrian soldiers defending their homelands. Massoud refused repeated suggestions to apply for a scholarship to study in France expressing his desire to remain in Afghanistan and apply to the nation's military academy in Kabul.\n",
      "\n",
      "By protest of his father and eldest brother, Massoud enrolled at Kabul Polytechnic Institute, then Kabul University's newest and most prestigious addition founded, financed, and operated by the Soviet Union. Massoud studied engineering and architecture but never attempted to learn Russian. There he found interest in politics, political Islam, and anti-Communism which often put him and his pious peers at odds with communist-inspired students.\n",
      "\n",
      "1975 rebellion in Panjshir\n",
      "In 1973, former Prime Minister Mohammed Daoud Khan was brought to power in a coup d'état backed by the People's Democratic Party of Afghanistan, and the Republic of Afghanistan was established. These developments gave rise to an Islamist movement opposed to the increasing communist and Soviet influence over Afghanistan. During that time, while studying at Kabul University, Massoud became involved with the Muslim Youth (Sazman-i Jawanan-i Musulman), the student branch of the Jamiat-e Islami (Islamic Society), whose chairman then was the professor Burhanuddin Rabbani. Kabul University was a center for political debate and activism during that time.\n",
      "\n",
      "Infuriated by the arrogance of his communist peers and Russian professors, a physical altercation between Massoud and his Russian professor led Massoud to walk out of the university, and shortly after, Kabul. Two days later, Massoud and a number of fellow militant students traveled to Pakistan where, goaded by another trainee of the Pakistani Inter-Services Intelligence (ISI), Gulbaddin Hekmatyar, Massoud agreed to take part in a coup against Daoud with his forces rising up in the Panjshir and Hekmatyar's elsewhere. In July 1975, Massoud, with help from the Pakistani intelligence, led the first rebellion of Panjshir residents against the government of Daoud Khan. While the uprising in the Panjshir began saw initial success, even taking the military garrison in Rokha, the promised support from Kabul never came and the rebellion was suppressed by Daoud Khan's forces sending Massoud back into Pakistan (after a day hiding in Jangalak) where he would attend a secret, paramilitary ISI training center in Cherat. Dissatisfied, Massoud left the center and returned to Peshawar where he committed himself to personal military studies. Massoud read Mao Tse-tung's writings on the Long March, of Che Guevara's career, the memoirs of General de Gualle, General Võ Nguyên Giáp, Sun Tzu's Art of War, and an unnamed handbook on counterterrorism by an American general which Massoud called \"the most instructive of all\".\n",
      "\n",
      "After this failure, a \"profound and long-lasting schism\" within the Islamist movement began to emerge. The Islamic Society split between supporters of the more moderate forces around Massoud and Rabbani, who led the Jamiat-i Islami, and more radical Islamist elements surrounding Gulbuddin Hekmatyar, who founded the Hezb-i Islami. The conflict reached such a point that Hekmatyar reportedly tried to kill Massoud, then 22 years old.\n",
      "\n",
      "Resistance against communism\n",
      "\n",
      "Resistance against the PDPA (1978)\n",
      "\n",
      "The government of Mohammed Daoud Khan tried to scale back the communist People's Democratic Party of Afghanistan's influence, dismissing PDPA members from their government posts, appointing conservatives to replace them, and finally dissolved the PDPA, with the arrests of senior party members. On April 27, 1978, the PDPA and military units loyal to it killed Daoud Khan, his immediate family, and bodyguards in a violent coup, and seized control of the capital Kabul declaring the new Democratic Republic of Afghanistan (DRA). The new communist government, led by a revolutionary council, did not enjoy the support of the masses. It implemented a doctrine hostile to political dissent, whether inside or outside the party. The PDPA started reforms along Marxist–Leninist and Soviet lines. The reforms and the PDPA's affinity to the Soviet Union were met with strong resistance by the population, especially as the government attempted to enforce its Marxist policies by arresting or executing those who resisted. Between 50,000 and 100,000 people were estimated to have been arrested and killed by communist troops in the countryside alone. Due to the repression, large parts of the country, especially the rural areas, organized into open revolt against the PDPA government. By spring 1979, unrest had reached 24 out of 28 Afghan provinces, including major urban areas. Over half of the Afghan army either deserted or joined the insurrection.\n",
      "\n",
      "With religious elders declaring a jihad against the government, in May 1979 Massoud prepared in Peshawar to oppose the new communist government in Panjshir. Along with twenty-four of his friends, Massoud took a bus to Bajaur and, with arms-smuggling Pashtun tribesmen, marched on foot into the Panjshir Valley. Massoud's group seized control over a number of government outposts in the Valley, entered the Shomali Plain to capture Gulbahar, and cut off the Salang Highway, the main supply route between Kabul and the Soviet border raising alarm in both Kabul and Moscow which brought upon Massoud and his group a government counterattack.\n",
      "\n",
      "Believing that an uprising against the Soviet-backed communists would be supported by the people, Massoud, on July 6, 1979, started an insurrection in the Panjshir, which initially failed. Massoud decided to avoid conventional confrontation with the larger government forces and to wage a guerrilla war. He subsequently took full control of Panjshir, pushing out Afghan communist troops. Oliver Roy writes that in the following period, Massoud's \"personal prestige and the efficiency of his military organization persuaded many local commanders to come and learn from him.\"\n",
      "\n",
      "Resistance against the Soviet Union (1979–1989)\n",
      "\n",
      "Following the 1979 Soviet invasion and occupation of Afghanistan, Massoud devised a strategic plan for expelling the invaders and overthrowing the communist regime. The first task was to establish a popularly based resistance force that had the loyalty of the people. The second phase was \"active defense\" of the Panjshir stronghold, while carrying out asymmetric warfare. In the third phase, the \"strategic offensive\", Massoud's forces would gain control of large parts of Northern Afghanistan. The fourth phase was the \"general application\" of Massoud's principles to the whole country, and the defeat of the Afghan communist government.\n",
      "\n",
      "Massoud's mujahideen attacked the occupying Soviet forces, ambushing Soviet and Afghan communist convoys travelling through the Salang Pass, and causing fuel shortages in Kabul. The Soviets mounted a series of offensives against the Panjshir. Between 1980 and 1985, these offensives were conducted twice a year. Despite engaging more men and hardware on each occasion, the Soviets were unable to defeat Massoud's forces. In 1982, the Soviets began deploying major combat units in the Panjshir, numbering up to 30,000 men. Massoud pulled his troops back into subsidiary valleys, where they occupied fortified positions. When the Soviet columns advanced onto these positions, they fell into ambushes. When the Soviets withdrew, Afghan army garrisons took over their positions. Massoud and his mujahideen forces attacked and recaptured them one by one.\n",
      "\n",
      "In 1983, the Soviets offered Massoud a temporary truce, which he accepted in order to rebuild his own forces and give the civilian population a break from Soviet attacks. He put the respite to good use. In this time he created the Shura-e Nazar (Supervisory Council), which subsequently united 130 commanders from 12 Afghan provinces in their fight against the Soviet army. This council existed outside the Peshawar parties, which were prone to internecine rivalry and bickering, and served to smooth out differences between resistance groups, due to political and ethnic divisions. It was the predecessor of what could have become a unified Islamic Afghan army.\n",
      "\n",
      "Relations with the party headquarters in Peshawar were often strained, as Rabbani insisted on giving Massoud no more weapons and supplies than to other Jamiat commanders, even those who did little fighting. To compensate for this deficiency, Massoud relied on revenues drawn from exports of emeralds and lapis lazuli, that are traditionally exploited in Northern Afghanistan.\n",
      "\n",
      "Regarding infighting among different mujahideen factions, following a Soviet truce, Massoud said in an interview:\n",
      "\n",
      "Britain's MI6 having activated long-established networks of contacts in Pakistan were able to support Massoud, and soon became their key ally. MI6 sent an annual mission of two of their officers as well as military instructors to Massoud and his fighters. They also gave supplies to Massoud which included sniper rifles with silencers and mortars. As well as training Massoud's junior commanders, MI6 team's most important contribution was help with organisation and communication via radio equipment which was highly useful for Massoud to coordinate his forces and be warned of any impending Soviet attacks. The United States however provided Massoud with comparatively less support than other factions. Part of the reason was that it permitted its funding and arms distribution to be administered by Pakistan, which favored the rival mujahideen leader Gulbuddin Hekmatyar. In an interview, Massoud said, \"We thought the CIA knew everything. But they didn't. They supported some bad people [meaning Hekmatyar].\" Primary advocates for supporting Massoud were the US State Department's Edmund McWilliams and Peter Tomsen, who were on the ground in Afghanistan and Pakistan. Others included two Heritage Foundation foreign policy analysts, Michael Johns and James A. Phillips, both of whom championed Massoud as the Afghan resistance leader most worthy of U.S. support under the Reagan Doctrine. Thousands of foreign Islamic volunteers entered Afghanistan to fight with the mujahideen against the Soviet troops.\n",
      "\n",
      "To organize support for the mujahideen, Massoud established an administrative system that enforced law and order (nazm) in areas under his control. The Panjshir was divided into 22 bases (qarargah) governed by a military commander and a civilian administrator, and each had a judge, a prosecutor and a public defender. Massoud's policies were implemented by different committees: an economic committee was charged with funding the war effort. The health committee provided health services, assisted by volunteers from foreign humanitarian non-governmental organizations, such as Aide médicale internationale. An education committee was charged with the training of the military and administrative cadre. A culture committee and a judiciary committee were also created.\n",
      "\n",
      "This expansion prompted Babrak Karmal to demand that the Red Army resume their offensives, in order to crush the Panjshir groups. However, Massoud had received warning of the attack through Britain's GCHQ intelligence and he evacuated all 130,000 inhabitants from the valley into the Hindukush mountains, leaving the Soviet bombings to fall on empty ground and the Soviet battalions to face the mountains.\n",
      "\n",
      "With the defeat of the Soviet-Afghan attacks, Massoud carried out the next phase of his strategic plan, expanding the resistance movement and liberating the northern provinces of Afghanistan. In August 1986, he captured Farkhar in Takhar Province. In November 1986, his forces overran the headquarters of the government's 20th division at Nahrin in Baghlan Province, scoring an important victory for the resistance. This expansion was also carried out through diplomatic means, as more mujahideen commanders were persuaded to adopt the Panjshir military system.\n",
      "\n",
      "Despite almost constant attacks by the Red Army and the Afghan army, Massoud increased his military strength. Starting in 1980 with a force of less than 1,000 ill-equipped guerrillas, the Panjshir valley mujahideen grew to a 5,000-strong force by 1984. After expanding his influence outside the valley, Massoud increased his resistance forces to 13,000 fighters by 1989. The junior commanders were trained by Britain's SAS as well as private military contractors, some being sent as far as Oman and even SAS training grounds in the Scottish Highlands. These forces were divided into different types of units: the locals (mahalli) were tasked with static defense of villages and fortified positions. The best of the mahalli were formed into units called grup-i zarbati (shock troops), semi-mobile groups that acted as reserve forces for the defense of several strongholds. A different type of unit was the mobile group (grup-i-mutaharek), a lightly equipped commando-like formation numbering 33 men, whose mission was to carry out hit-and-run attacks outside the Panjshir, sometimes as far as 100 km from their base. These men were professional soldiers, well-paid and trained, and, from 1983 on, they provided an effective strike force against government outposts. Uniquely among the mujahideen, these groups wore uniforms, and their use of the pakul made this headwear emblematic of the Afghan resistance.\n",
      "\n",
      "Massoud's military organization was an effective compromise between the traditional Afghan method of warfare and the modern principles of guerrilla warfare which he had learned from the works of Mao Zedong and Che Guevara. His forces were considered the most effective of all the various Afghan resistance movements.\n",
      "\n",
      "The Soviet army and the Afghan communist army were mainly defeated by Massoud and his mujahideen in numerous small engagements between 1984 and 1988. After describing the Soviet Union's military engagement in Afghanistan as \"a bleeding wound\" in 1986, Soviet General Secretary Mikhail Gorbachev began a withdrawal of Soviet troops from the nation in May 1988. On February 15, 1989, in what was depicted as an improbable victory for the mujahideen, the last Soviet soldier left the nation.\n",
      "\n",
      "Fall of the Afghan communist regime (1992)\n",
      "\n",
      "After the departure of Soviet troops in 1989, the People's Democratic Party of Afghanistan regime, then headed by Mohammad Najibullah, held its own against the mujahideen. Backed by a massive influx of weapons from the Soviet Union, the Afghan armed forces reached a level of performance they had never reached under direct Soviet tutelage. They maintained control over all of Afghanistan's major cities. During late 1990, helped by hundreds of mujahideen forces, Massoud targeted the Tajik Supreme Soviet, trying to oust communism from the neighboring Tajikistan to further destabilize the dying Soviet Union, which would also impact the Afghan government. At that time, as per Asad Durrani, the director-general of the ISI during this period, Massoud's base camp was in Garam Chashma, in Pakistan. By 1992, after the collapse of the Soviet Union, the Afghan regime eventually began to crumble. Food and fuel shortages undermined the capacities of the government's army, and a resurgence of factionalism split the regime between Khalq and Parcham supporters.\n",
      "\n",
      "A few days after Najibullah had lost control of the nation, his army commanders and governors arranged to turn over authority to resistance commanders and local warlords throughout the country. Joint councils (shuras) were immediately established for local government, in which civil and military officials of the former government were usually included. In many cases, prior arrangements for transferring regional and local authority had been made between foes.\n",
      "\n",
      "Collusions between military leaders quickly brought down the Kabul government. In mid-January 1992, within three weeks of the demise of the Soviet Union, Massoud was aware of conflict within the government's northern command. General Abdul Momim, in charge of the Hairatan border crossing at the northern end of Kabul's supply highway, and other non-Pashtun generals based in Mazar-i-Sharif, feared removal by Najibullah and replacement by Pashtun officers. When the generals rebelled, Abdul Rashid Dostum, who held general rank as head of the Jowzjani militia, also based in Mazar-i-Sharif, took over.\n",
      "\n",
      "He and Massoud reached a political agreement, together with another major militia leader, Sayyed Mansour, of the Ismaili community based in Baghlan Province. These northern allies consolidated their position in Mazar-i-Sharif on March 21. Their coalition covered nine provinces in the north and northeast. As turmoil developed within the government in Kabul, no government force stood between the northern allies and the major air force base at Bagram, some seventy kilometers north of Kabul. By mid-April 1992, the Afghan air force command at Bagram had capitulated to Massoud. On March 18, 1992, Najibullah decided to resign. On April 17, as his government fell, he tried to escape but was stopped at Kabul Airport by Dostum's forces. He took refuge at the United Nations mission, where he remained unharmed until 1996, while Massoud controlled the area surrounding the mission.\n",
      "\n",
      "Senior communist generals and officials of the Najibullah administration acted as a transitional authority to transfer power to Ahmad Shah Massoud's alliance. The Kabul interim authority invited Massoud to enter Kabul as the new Head of State, but he held back. Massoud ordered his forces, positioned to the north of Kabul, not to enter the capital until a political solution was in place. He called on all the senior Afghan party leaders, many then based in exile in Peshawar, to work out a political settlement acceptable to all sides and parties.\n",
      "\n",
      "War in Afghanistan (1992–2001)\n",
      "\n",
      "War in Kabul and other parts of the country (1992–1996)\n",
      "\n",
      "Peace and power-sharing agreement (1992)\n",
      "With United Nations support, most Afghan political parties decided to appoint a legitimate national government to succeed communist rule, through an elite settlement. While the external Afghan party leaders were residing in Peshawar, the military situation around Kabul involving the internal commanders was tense. A 1991 UN peace process brought about some negotiations, but the attempted elite settlement did not develop. In April 1992, resistance leaders in Peshawar tried to negotiate a settlement. Massoud supported the Peshawar process of establishing a broad coalition government inclusive of all resistance parties, but Hekmatyar sought to become the sole ruler of Afghanistan, stating, \"In our country coalition government is impossible because, this way or another, it is going to be weak and incapable of stabilizing the situation in Afghanistan.\"\n",
      "\n",
      "Massoud wrote:\n",
      "\n",
      "All the parties had participated in the war, in jihad in Afghanistan, so they had to have their share in the government, and in the formation of the government. Afghanistan is made up of different nationalities. We were worried about a national conflict between different tribes and different nationalities. In order to give everybody their own rights and also to avoid bloodshed in Kabul, we left the word to the parties so they should decide about the country as a whole. We talked about it for a temporary stage and then after that the ground should be prepared for a general election.\n",
      "\n",
      "A recorded radio communication between the two leaders showed the divide as Massoud asked Hekmatyar:\n",
      "\n",
      "The Kabul regime is ready to surrender, so instead of the fighting we should gather. ... The leaders are meeting in Peshawar. ... The troops should not enter Kabul, they should enter later on as part of the government.\n",
      "\n",
      "Hekmatyar's response:\n",
      "\n",
      "We will march into Kabul with our naked sword. No one can stop us. ... Why should we meet the leaders?\"\n",
      "\n",
      "Massoud answered:\n",
      "\n",
      "\"It seems to me that you don't want to join the leaders in Peshawar nor stop your threat, and you are planning to enter Kabul ... in that case I must defend the people.\n",
      "\n",
      "At that point Osama bin Laden, trying to mediate, urged Hekmatyar to \"go back with your brothers\" and to accept a compromise. Bin Laden reportedly \"hated Ahmad Shah Massoud\". Bin Laden was involved in ideological and personal disputes with Massoud and had sided with Gulbuddin Hekmatyar against Massoud in the inner-Afghan conflict since the late 1980s. But Hekmatyar refused to accept a compromise, confident that he would be able to gain sole power in Afghanistan.\n",
      "\n",
      "On April 24, 1992, the leaders in Peshawar agreed on and signed the Peshawar Accord, establishing the post-communist Islamic State of Afghanistan – which was a stillborn 'state' with a paralyzed 'government' right from its inception, until its final succumbing in September 1996. The creation of the Islamic State was welcomed though by the General Assembly of the United Nations and the Islamic State of Afghanistan was recognized as the legitimate entity representing Afghanistan until June 2002, when its successor, the Islamic Republic of Afghanistan, was established under the interim government of Hamid Karzai. Under the 1992 Peshawar Accord, the Defense Ministry was given to Massoud while the Prime Ministership was given to Hekmatyar. Hekmatyar refused to sign. With the exception of Hekmatyar's Hezb-e Islami, all of the other Peshawar resistance parties were unified under this peace and power-sharing accord in April 1992.\n",
      "\n",
      "Escalating war over Kabul (1992)\n",
      "Although repeatedly offered the position of prime minister, Gulbuddin Hekmatyar refused to recognize the peace and power-sharing agreement. His Hezb-e Islami militia initiated a massive bombardment campaign against the Islamic State and the capital city Kabul. Gulbuddin Hekmatyar received operational, financial and military support from neighboring Pakistan. The Director of the Centre for Arab and Islamic Studies at the Australian National University, Amin Saikal, writes in Modern Afghanistan: A History of Struggle and Survival that without Pakistan's support, Hekmatyar \"would not have been able to target and destroy half of Kabul.\" Saikal states that Pakistan wanted to install a favorable regime under Hekmatyar in Kabul so that it could use Afghan territory for access to Central Asia.\n",
      "\n",
      "Hekmatyar's rocket bombardments and the parallel escalation of violent conflict between two militias, Ittihad and Wahdat, which had entered some suburbs of Kabul, led to a breakdown in law and order. Shia Iran and Sunni Wahabbi Saudi Arabia, as competitors for regional hegemony, encouraged conflict between the Ittihad and Wahdat factions. On the one side was the Shia Hazara Hezb-i Wahdat of Abdul Ali Mazari and on the other side, the Sunni Pashtun Ittihad-i Islami of Abdul Rasul Sayyaf.\n",
      "\n",
      "According to Human Rights Watch, Iran was strongly supporting the Hezb-i Wahdat forces, with Iranian intelligence officials providing direct orders, while Saudi Arabia supported Sayyaf and his Ittihad-i Islami faction to maximize Wahhabi influence. Kabul descended into lawlessness and chaos, as described in reports by Human Rights Watch and the Afghanistan Justice Project. Massoud's Jamiat commanders, the interim government, and the International Committee of the Red Cross (ICRC) repeatedly tried to negotiate ceasefires, which broke down in only a few days. Another militia, the Junbish-i Milli of former communist general Abdul Rashid Dostum, was backed by Uzbekistan. Uzbek president Islam Karimov was keen to see Dostum controlling as much of Afghanistan as possible, especially in the north. Dostum repeatedly changed allegiances.\n",
      "\n",
      "The Afghanistan Justice Project (AJP) says, that \"while [Hekmatyar's anti-government] Hizb-i Islami is frequently named as foremost among the factions responsible for the deaths and destruction in the bombardment of Kabul, it was not the only perpetrator of these violations.\" According to the AJP, \"the scale of the bombardment and kinds of weapons used represented disproportionate use of force\" in a capital city with primarily residential areas by all the factions involved – including the government forces. Crimes were committed by individuals within the different armed factions. Gulbuddin Hekmatyar released 10,000 dangerous criminals from the main prisons into the streets of Kabul to destabilize the city and cut off Kabul from water, food and energy supplies. The Iran-controlled Wahdat of Abdul Ali Mazari, as well as the Ittihad of Abdul Rasul Sayyaf supported by Saudi Arabia, targeted civilians of the 'opposite side' in systematic atrocities. Abdul Rashid Dostum allowed crimes as a perceived payment for his troops.\n",
      "\n",
      "Afshar operation (February 1993) \n",
      "\"The major criticism of Massoud's human rights record\" is the escalation of the Afshar military operation in 1993. A report by the Afghanistan Justice Project describes Massoud as failing to prevent atrocities carried out by his forces and those of their factional ally, Ittihad-i Islami, against civilians on taking the suburb of Afshar during a military operation against an anti-state militia allied to Gulbuddin Hekmatyar. They shelled residential areas in the capital city in February 1993. Critics said that Massoud should have foreseen these problems. A meeting convened by Massoud on the next day ordered a halt to killing and looting, but it failed to stop abuses. Human Rights Watch, in a report based largely on the material collected by the Afghanistan Justice Project, concurs that Massoud's Jamiat forces bear a share of the responsibility for human rights abuses throughout the war, including the indiscriminate targeting of civilians in Afshar, and that Massoud was personally implicated in some of these abuses. Roy Gutman has argued that the witness reports about Afshar cited in the AJP report implicated only the Ittihad forces, and that these had not been under Massoud's direct command.\n",
      "\n",
      "Anthony Davis, who studied and observed Massoud's forces from 1981 to 2001, reported that during the observed period, there was \"no pattern of repeated killings of enemy civilians or military prisoners\" by Massoud's forces. Edward Girardet, who covered Afghanistan for over three decades, was also in Kabul during the war. He states that while Massoud was able to control most of his commanders well during the anti-Soviet and anti-Taliban resistance, he was not able to control every commander in Kabul. According to this and similar testimonies, this was due to a breakdown of law and order in Kabul and a war on multiple fronts, which they say, Massoud personally had done all in his power to prevent:\n",
      "\n",
      "Further war over Kabul (March–December 1993) \n",
      "In 1993, Massoud created the Cooperative Mohammad Ghazali Culture Foundation (Bonyad-e Farhangi wa Ta'wani Mohammad-e Ghazali) to further humanitarian assistance and politically independent Afghan culture. The Ghazali Foundation provided free medical services during some days of the week to residents of Kabul who were unable to pay for medical treatment. The Ghazali Foundation's department for distribution of auxiliary goods was the first partner of the Red Cross. The Ghazali Foundation's department of family consultation was a free advisory board, which was accessible seven days a week for the indigent. Although Massoud was responsible for the financing of the foundation, he did not interfere with its cultural work. A council led the foundation and a jury, consisting of impartial university lecturers, decided on the works of artists. The Ghazali foundation enabled Afghan artists to exhibit their works at different places in Kabul, and numerous artists and authors were honoured for their works; some of them neither proponents of Massoud nor the Islamic State government.\n",
      "\n",
      "In March 1993, Massoud resigned his government position in exchange for peace, as requested by Hekmatyar, who considered him as a personal rival. According to the Islamabad Accord, Burhanuddin Rabbani, belonging to the same party as Massoud, remained president, while Gulbuddin Hekmatyar took the long-offered position of prime minister. Two days after the Islamabad Accord was put into effect, however, Hekmatyar's allies of Hezb-e Wahdat renewed rocket attacks in Kabul.\n",
      "\n",
      "Both the Wahhabi Pashtun Ittehad-i Islami of Abdul Rasul Sayyaf backed by Saudi Arabia and the Shia Hazara Hezb-e Wahdat supported by Iran remained involved in heavy fighting against each other. Hekmatyar was afraid to enter Kabul proper, and chaired only one cabinet meeting. The author Roy Gutman of the United States Institute of Peace wrote in How We Missed the Story: Osama bin Laden, the Taliban, and the Hijacking of Afghanistan:\n",
      "\n",
      "Hekmatyar had become prime minister ... But after chairing one cabinet meeting, Hekmatyar never returned to the capital, fearing, perhaps, a lynching by Kabulis infuriated over his role in destroying their city. Even his close aides were embarrassed. Hekmatyar spokesman Qutbuddin Helal was still setting up shop in the prime minister's palace when the city came under Hezb[-i Islami] rocket fire late that month. \"We are here in Kabul and he is rocketing us. Now we have to leave. We can't do anything,\" he told Massoud aides.\n",
      "\n",
      "Hekmatyar, who was generally opposed to coalition government and struggled for undisputed power, had conflicts with other parties over the selection of cabinet members. His forces started major attacks against Kabul for one month. The President, Burhanuddin Rabbani, was attacked when he attempted to meet Hekmatyar. Massoud resumed his responsibilities as minister of defense.\n",
      "\n",
      "In May 1993, a new effort was made to reinstate the Islamabad Accord. In August, Massoud reached out to Hekmatyar in an attempt to broaden the government. By the end of 1993, however, Hekmatyar and the former communist general and militia leader, Abdul Rashid Dostum, were involved in secret negotiations encouraged by Pakistan's secret Inter-Services Intelligence, Iran's intelligence service, and Uzbekistan's Karimov administration. They planned a coup to oust the Rabbani administration and to attack Massoud in his northern areas.\n",
      "\n",
      "War in Kabul, Taliban arise in the south (1994) \n",
      "In January 1994, Hekmatyar and Dostum mounted a bombardment campaign against the capital and attacked Massoud's core areas in the northeast. Amin Saikal writes, Hekmatyar had the following objectives in all his operations:\n",
      "\n",
      "The first was to make sure that Rabbani and Massoud were not allowed to consolidate power, build a credible administration, or expand their territorial control, so that the country would remain divided into small fiefdoms, run by various Muajhideen leaders and local warlords or a council of such elements, with only some of them allied to Kabul. The second was to ensure the Rabbani government acquired no capacity to dispense patronage, and to dissuade the Kabul population from giving more than limited support to the government. The third was to make Kabul an unsafe city for representatives of the international community and to prevent the Rabbani government from attracting the international support needed to begin the post-war reconstruction of Afghanistan and generate a level of economic activity which would enhance its credibility and popularity.\n",
      "\n",
      "By mid-1994, Hekmatyar and Dostum were on the defensive in Kabul against Islamic State forces led by Massoud. Southern Afghanistan had been neither under the control of foreign-backed militias nor of the government in Kabul, but was ruled by local Pashtun leaders, such as Gul Agha Sherzai, and their militias. In 1994, the Taliban (a movement originating from Jamiat Ulema-e-Islam-run religious schools for Afghan refugees in Pakistan) also developed in Afghanistan as a politico-religious force, reportedly in opposition to the tyranny of the local governor. When the Taliban took control of Kandahar in 1994, they forced the surrender of dozens of local Pashtun leaders who had presided over a situation of complete lawlessness and atrocities. In 1994, the Taliban took power in several provinces in southern and central Afghanistan.\n",
      "\n",
      "Taliban siege of Kabul (1995–1996)\n",
      "Hizb-i Islami had bombarded Kabul from January 1994 until February 1995 when the Taliban expelled Hizb from its Charasiab headquarters, after which the Taliban relaunched the bombardment of Kabul and started to besiege the town.\n",
      "\n",
      "By early 1995, Massoud initiated a nationwide political process with the goal of national consolidation and democratic elections. He arranged a conference in three parts uniting political and cultural personalities, governors, commanders, clergymen and representatives, in order to reach a lasting agreement. Massoud's favourite for candidacy to the presidency was Dr. Mohammad Yusuf, the first democratic prime minister under Zahir Shah, the former king. In the first meeting representatives from 15 different Afghan provinces met, in the second meeting there were already 25 provinces participating.\n",
      "\n",
      "Massoud also invited the Taliban to join the peace process wanting them to be a partner in providing stability to Afghanistan during such a process. But the Taliban, which had emerged over the course of 1994 in southern Afghanistan, were already at the doors of the capital city. Against the advice of his security personnel, Massoud went to talk to some Taliban leaders in Maidan Shar, Taliban territory. The Taliban declined to join the peace process leading towards general elections. When Massoud returned to Kabul unharmed, the Taliban leader who had received him as his guest paid with his life: he was killed by other senior Taliban for failing to assassinate Massoud while the possibility had presented itself. The Taliban, placing Kabul under a two-year siege and bombardment campaign from early 1995 onwards, in later years committed massacres against civilians, compared by United Nations observers to those that happened during the War in Bosnia.\n",
      "\n",
      "Neighboring Pakistan exerted strong influence over the Taliban. A publication with the George Washington University describes: \"Initially, the Pakistanis supported ... Gulbuddin Hekmatyar ... When Hekmatyar failed to deliver for Pakistan, the administration began to support a new movement of religious students known as the Taliban.\" Many analysts like Amin Saikal describe the Taliban as developing into a proxy force for Pakistan's regional interests. The Taliban started shelling Kabul in early 1995 but were defeated by forces of the Islamic State government under Ahmad Shah Massoud. Amnesty International, referring to the Taliban offensive, wrote in a 1995 report:\n",
      "\n",
      "The Taliban's early victories in 1994 were followed by a series of defeats that resulted in heavy losses. The Taliban's first major offensive against the important western city of Herat, under the rule of Islamic state ally Ismail Khan, in February 1995 was defeated when Massoud airlifted 2,000 of his own core forces from Kabul to help defend Herat. Ahmed Rashid writes: \"The Taliban had now been decisively pushed back on two fronts by the government and their political and military leadership was in disarray. Their image as potential peacemakers was badly dented, for in the eyes of many Afghans they had become nothing more than just another warlord party.\" International observers already speculated that the Taliban as a country-wide organization might have \"run its course\".\n",
      "\n",
      "Mullah Omar, however, consolidated his control of the Taliban and with foreign help rebuilt and re-equipped his forces. Pakistan increased its support to the Taliban. Its military advisers oversaw the restructuring of Taliban forces. The country provided armored pick-up trucks and other military equipment. Saudi Arabia provided the funding. Furthermore, there was a massive influx of 25,000 new Taliban fighters, many of them recruited in Pakistan. This enabled the Taliban to capture Herat to the west of Kabul in a surprise attack against the forces of Ismail Khan in September 1995. A nearly one-year siege and bombardment campaign against Kabul, however, was again defeated by Massoud's forces.\n",
      "\n",
      "Massoud and Rabbani meanwhile kept working on an internal Afghan peace process – successfully. By February 1996, all of Afghanistan's armed factions – except for the Taliban – had agreed to take part in the peace process and to set up a peace council to elect a new interim president. Many Pashtun areas under Taliban control had representatives also advocating for a peace agreement with the Islamic State government. But Taliban leader Mullah Omar and the Kandaharis surrounding him wanted to expand the war. At that point the Taliban leadership and their foreign supporters decided they needed to act quickly before the government could consolidate the new understanding between the parties. The Taliban moved against Jalalabad, under the control of the Pashtun Jalalabad Shura, to the east of Kabul. Part of the Jalalabad Shura was bribed with millions of dollars by the Taliban's foreign sponsors, especially Saudi Arabia, to vacate their positions. The Taliban's battle for Jalalabad was directed by Pakistani military advisers. Hundreds of Taliban crossed the Afghan-Pakistani border moving on Jalalabad from Pakistan and thereby suddenly placed to the east of Kabul. This left the capital city Kabul \"wide open\" to many sides as Ismail Khan had been defeated to the west, Gulbuddin Hekmatyar had vacated his positions to the south and the fall and surrender of Jalalabad had suddenly opened a new front to the east.\n",
      "\n",
      "At that point Massoud decided to conduct a strategic retreat through a northern corridor, according to Ahmed Rashid, \"knowing he could not defend [Kabul] from attacks coming from all four points of the compass. Nor did he want to lose the support of Kabul's population by fighting for the city and causing more bloodshed.\" On September 26, 1996, as the Taliban with military support by Pakistan and financial support by Saudi Arabia prepared for another major offensive, Massoud ordered a full retreat from Kabul. The Taliban marched into Kabul on September 27, 1996, and established the Islamic Emirate of Afghanistan. Massoud and his troops retreated to the northeast of Afghanistan which became the base for the still internationally recognized Islamic State of Afghanistan.\n",
      "\n",
      "Resistance against the Taliban (1996–2001)\n",
      "\n",
      "United Front against the Taliban\n",
      "Ahmad Shah Massoud created the United Front (Northern Alliance) against the Taliban advance. The United Front included forces and leaders from different political backgrounds as well as from all ethnicities of Afghanistan. From the Taliban conquest in 1996 until November 2001, the United Front controlled territory in which roughly 30% of Afghanistan's population was living, in provinces such as Badakhshan, Kapisa, Takhar and parts of Parwan, Kunar, Nuristan, Laghman, Samangan, Kunduz, Ghōr and Bamyan.\n",
      "\n",
      "Meanwhile, the Taliban imposed their repressive regime in the parts of Afghanistan under their control. Hundreds of thousands of people fled to Northern Alliance territory, Pakistan and Iran. Massoud's soldiers held some 1,200 Taliban prisoners in the Panjshir Valley, 122 of them foreign Muslims who had come to Afghanistan to fight a jihad. In 1998, after the defeat of Abdul Rashid Dostum's faction in Mazar-i-Sharif, Ahmad Shah Massoud remained the only main leader of the United Front in Afghanistan and the only leader who was able to defend vast parts of his area against the Taliban. Most major leaders including the Islamic State's President Burhanuddin Rabbani, Abdul Rashid Dostum, and others, were living in exile. During this time, commentators remarked that \"The only thing standing in the way of future Taliban massacres is Ahmad Shah Massoud.\"\n",
      "\n",
      "Massoud stated that the Taliban repeatedly offered him a position of power to make him stop his resistance. He declined, declaring the differences between their ideology and his own pro-democratic outlook on society to be insurmountable.\n",
      "\n",
      "Massoud wanted to convince the Taliban to join a political process leading towards democratic elections in a foreseeable future. He also predicted that without assistance from Pakistan and external extremist groups, the Taliban would lose their hold on power.\n",
      "\n",
      "In early 2001, the United Front employed a new strategy of local military pressure and global political appeals. Resentment was increasingly gathering against Taliban rule from the bottom of Afghan society including the Pashtun areas. At the same time, Massoud was very wary not to revive the failed Kabul government of the early 1990s. Already in 1999 the United Front leadership ordered the training of police forces specifically to keep order and protect the civilian population in case the United Front would be successful.\n",
      "\n",
      "Cross-factional negotiations\n",
      "\n",
      "From 1999 onwards, a renewed process was set into motion by the Tajik Ahmad Shah Massoud and the Pashtun Abdul Haq to unite all the ethnicities of Afghanistan. Massoud united the Tajiks, Hazara and Uzbeks as well as several Pashtun commanders under his United Front. Besides meeting with Pashtun tribal leaders and acting as a point of reference, Abdul Haq received increasing numbers of Pashtun Taliban themselves who were secretly approaching him. Some commanders who had worked for the Taliban military apparatus agreed to the plan to topple the Taliban regime as the Taliban lost support even among the Pashtuns. Senior diplomat and Afghanistan expert Peter Tomsen wrote that \"[t]he 'Lion of Kabul' [Abdul Haq] and the 'Lion of Panjshir' [Ahmad Shah Massoud] would make a formidable anti-Taliban team if they combined forces. Haq, Massoud, and Karzai, Afghanistan's three leading moderates, could transcend the Pashtun – non-Pashtun, north-south divide.\" Steve Coll referred to this plan as a \"grand Pashtun-Tajik alliance\". The senior Hazara and Uzbek leaders took part in the process just like later Afghan president Hamid Karzai. They agreed to work under the banner of the exiled Afghan king Zahir Shah in Rome.\n",
      "\n",
      "In November 2000, leaders from all ethnic groups were brought together in Massoud's headquarters in northern Afghanistan, travelling from other parts of Afghanistan, Europe, the United States, Pakistan and India to discuss a Loya Jirga for a settlement of Afghanistan's problems and to discuss the establishment of a post-Taliban government. In September 2001, an international official who met with representatives of the alliance remarked, \"It's crazy that you have this today ... Pashtuns, Tajiks, Uzbeks, Hazara ... They were all ready to buy in to the process\".\n",
      "\n",
      "In early 2001, Ahmad Shah Massoud with leaders from all ethnicities of Afghanistan addressed the European Parliament in Brussels, asking the international community to provide humanitarian aid to the people of Afghanistan. He stated that the Taliban and al-Qaeda had introduced \"a very wrong perception of Islam\" and that without the support of Pakistan and Bin Laden the Taliban would not be able to sustain their military campaign for up to a year. On that visit to Europe, he also warned the U.S. about Bin Laden.\n",
      "\n",
      "The areas of Massoud\n",
      "Life in the areas under direct control of Massoud was different from the life in the areas under Taliban or Dostum's control. In contrast to the time of chaos in which all structures had collapsed in Kabul, Massoud was able to control most of the troops under his direct command well during the period starting in late 1996. Massoud always controlled the Panjshir, Takhar, parts of Parwan and Badakhshan during the war. Some other provinces (notably Kunduz, Baghlan, Nuristan and the north of Kabul) were captured by his forces from the Taliban and lost again from time to time as the frontlines varied.\n",
      "\n",
      "Massoud created democratic institutions which were structured into several committees: political, health, education and economic. Still, many people came to him personally when they had a dispute or problem and asked him to solve their problems.\n",
      "\n",
      "In September 2000, Massoud signed the Declaration of the Essential Rights of Afghan Women drafted by Afghan women. The declaration established gender equality in front of the law and the right of women to political participation, education, work, freedom of movement and speech. In the areas of Massoud, women and girls did not have to wear the Afghan burqa by law. They were allowed to work and to go to school. Although it was a time of war, girls' schools were operating in some districts. In at least two known instances, Massoud personally intervened against cases of forced marriage in favour of the women to make their own choice.\n",
      "\n",
      "While it was Massoud's stated personal conviction that men and women are equal and should enjoy the same rights, he also had to deal with Afghan traditions which he said would need a generation or more to overcome. In his opinion, that could only be achieved through education. Author Pepe Escobar wrote in Asia Times:\n",
      "\n",
      "Humayun Tandar, who took part as an Afghan diplomat in the 2001 International Conference on Afghanistan in Bonn, said that \"strictures of language, ethnicity, region were [also] stifling for Massoud. That is why ... he wanted to create a unity which could surpass the situation in which we found ourselves and still find ourselves to this day.\" This applied also to strictures of religion. Jean-José Puig describes how Massoud often led prayers before a meal or at times asked his fellow Muslims to lead the prayer but also did not hesitate to ask the Jewish Princeton Professor Michael Barry or his Christian friend Jean-José Puig: \"Jean-José, we believe in the same God. Please, tell us the prayer before lunch or dinner in your own language.\"\n",
      "\n",
      "International relations\n",
      "U.S. policy regarding Massoud, the Taliban and Afghanistan remained ambiguous and differed between the various U.S. government agencies.\n",
      "\n",
      "In 1997, U.S. State Department's Robin Raphel suggested to Massoud he should surrender to the Taliban. He soundly rejected the proposal.\n",
      "\n",
      "At one point in the war, in 1997, two top foreign policy officials in the Clinton administration flew to northern Afghanistan in an attempt to convince Massoud not to take advantage of a strategic opportunity to make crucial gains against the Taliban.\n",
      "\n",
      "In 1998, a U.S. Defense Intelligence Agency analyst, Julie Sirrs, visited Massoud's territories privately, having previously been denied official permission to do so by her agency. She reported that Massoud had conveyed warnings about strengthened ties between the Taliban and foreign Islamist terrorists. Returning home, she was sacked from her agency for insubordination, because at that time the U.S. administration had no trust in Massoud.\n",
      "\n",
      "In the meantime, the only collaboration between Massoud and another U.S. intelligence service, the Central Intelligence Agency (CIA), consisted of an effort to trace Osama bin Laden following the 1998 embassy bombings. The U.S. and the European Union provided no support to Massoud for the fight against the Taliban.\n",
      "\n",
      "A change of policy, lobbied for by CIA officers on the ground who had visited the area of Massoud, regarding support to Massoud, was underway in the course of 2001. According to Steve Coll's book Ghost Wars (who won the 2005 Pulitzer Prize for General Non-Fiction):\n",
      "\n",
      "U.S. Congressman Dana Rohrabacher also recalled:\n",
      "\n",
      "[B]etween Bush's inauguration and 9/11, I met with the new national security staff on 3 occasions, including one meeting with Condoleezza Rice to discuss Afghanistan. There were, in fact, signs noted in an overview story in The Washington Post about a month ago that some steps were being made to break away from the previous administration's Afghan policy.\n",
      "\n",
      "CIA lawyers, working with officers in the Near East Division and Counterterrorist Center, began to draft a formal, legal presidential finding for Bush's signature authorizing a new covert action program in Afghanistan, the first in a decade that sought to influence the course of the Afghan war in favour of Massoud. This change in policy was finalized in August 2001 when it was too late.\n",
      "\n",
      "After Pakistan had funded, directed and supported the Taliban's rise to power in Afghanistan, Massoud and the United Front received some assistance from India. The assistance provided by India was extensive, including uniforms, ordnance, mortars, small armaments, refurbished Kalashnikovs, combat and winter clothes, as well as funds.  India was particularly concerned about Pakistan's Taliban strategy and the Islamic militancy in its neighborhood; it provided U.S.$70 million in aid including two Mi-17 helicopters, three additional helicopters in 2000 and US$8 million worth of high-altitude equipment in 2001. Also In the 1990s, India had run a field hospital at Farkor on the Tajik-Afghan border to treat wounded fighters from the then Northern Alliance that was battling the Taliban regime in Afghanistan.\n",
      "It was at the very same hospital that the Northern Alliance leader Ahmed Shah Masood was pronounced dead after being assassinated just two days before the 9/11 terror strikes in 2001. Furthermore, the alliance supposedly also received minor aid from Tajikistan, Russia and Iran because of their opposition to the Taliban and the Pakistani control over the Taliban's Emirate. Their support, however, remained limited to the most needed things. Meanwhile, Pakistan engaged up to 28,000 Pakistani nationals and regular Pakistani army troops to fight alongside the Taliban and Al Qaeda forces against Massoud.\n",
      "\n",
      "In April 2001, the president of the European Parliament, Nicole Fontaine (who called Massoud the \"pole of liberty in Afghanistan\"), invited Massoud with the support of French and Belgian politicians to address the European Parliament in Brussels, Belgium. In his speech, he asked for humanitarian aid for the people of Afghanistan. Massoud further went on to warn that his intelligence agents had gained limited knowledge about a large-scale terrorist attack on U.S. soil being imminent.\n",
      "\n",
      "Assassination\n",
      "\n",
      "Massoud, then aged 48, was the target of an assassination plot in Khwājah Bahā ud Dīn (Khvājeh Bahāuḏḏīn), Takhar Province in northeastern Afghanistan on September 9, 2001. The attackers' names were alternately given as Dahmane Abd al-Sattar, husband of Malika El Aroud, and Bouraoui el-Ouaer; or 34-year-old Karim Touzani and 26-year-old Kacem Bakkali.\n",
      "\n",
      "The attackers claimed to be Belgians originally from Morocco. According to Le Monde they transited through the municipality of Molenbeek. Their passports turned out to be stolen and their nationality was later determined to be Tunisian. Waiting for almost three weeks (during which they also interviewed Burhanuddin Rabbani and Abdul Rasul Sayyaf) for an interview opportunity, on September 8, 2001, an aide to Massoud recalls the would-be suicide attackers \"were so worried\" and threatened to leave if the interview did not happen in the next 24 hours (until September 10, 2001). They were finally granted an interview. During the interview, they set off a bomb composed of explosives hidden in the camera and in a battery-pack belt. Massoud died in a helicopter that was taking him to an Indian military field hospital at Farkhor in nearby Tajikistan. The explosion also killed Mohammed Asim Suhail, a United Front official, while Mohammad Fahim Dashty and Massoud Khalili were injured. One of the suicide attackers, Bouraoui, was killed by the explosion, while Dahmane Abd al-Sattar was captured and shot while trying to escape.\n",
      "\n",
      "Despite initial denials by the United Front, news of Massoud's death was reported almost immediately, appearing on the BBC, and in European and North American newspapers on September 10, 2001. On September 16, the United Front officially announced that Massoud had died of injuries in the suicide attack. Massoud was buried in his home village of Bazarak in the Panjshir Valley. The funeral, although in a remote rural area, was attended by hundreds of thousands of people.\n",
      "\n",
      "Massoud had survived assassination attempts over a period of 26 years, including attempts made by al-Qaeda, the Taliban, the Pakistani ISI and before them the Soviet KGB, the Afghan communist KHAD and Hekmatyar. The first attempt on Massoud's life was carried out by Hekmatyar and two Pakistani ISI agents in 1975 when Massoud was 22 years old. In early 2001, al-Qaeda would-be assassins were captured by Massoud's forces while trying to enter his territory.\n",
      "\n",
      "Connection to September 11, 2001\n",
      "The assassination of Massoud is considered to have a strong connection to the September 11 attacks in 2001 on U.S. soil, which killed nearly 3,000 people. It appeared to have been the major terrorist attack which Massoud had warned against in his speech to the European Parliament several months earlier.\n",
      "\n",
      "In late 2001, a computer was seized that was stolen from an office used by al-Qaeda immediately after the fall of Kabul in November. This computer was mainly used by Aiman al-Zawahri and contained the letter with the interview request for Massoud. The two assassins had completed military training in training camps in Afghanistan at the end of 2000 and were selected for the suicide mission in the spring or early summer of the following year. The Afghan publicist Waheed Muzhda, who worked for the Taliban in the Foreign Ministry, confirmed the two assassins met with al-Qaeda officials in Kandahar and bin Laden and al-Zawahri saw them off when they left. Following the assassination, bin Laden had an emissary deliver Dahmane Abd al-Sattar's widow a letter with $500 in an envelope to settle a debt. An al-Qaeda magazine in Saudi Arabia later published a biography of Youssef al-Aayyiri, who headed al-Qaeda's operations in Saudi Arabia from 2002, which described al-Qaeda's involvement in Massoud's assassination. Osama bin Laden commissioned the assassination attempt to appease the Taliban because of the imminent terrorist attacks in the US, which would cause serious problems for the Taliban.\n",
      "\n",
      "The Taliban denied any involvement in Massoud's assassination, and it is very unlikely that they were privy to the assassination plans. There were a few minor attacks by the Taliban after the attack, but no major offensive.\n",
      "\n",
      "Investigative commission\n",
      "\n",
      "In April 2003, the Karzai administration created a commission to investigate the assassination of Massoud. In 2003, French investigators and the FBI were able to trace the provenance of the camera used in the assassination, which had been stolen in France some time earlier.\n",
      "\n",
      "Legacy\n",
      "\n",
      "National Hero of Afghanistan\n",
      "\n",
      "Massoud was the only chief Afghan leader who never left Afghanistan in the fight against the Soviet Union and later in the fight against the Taliban Emirate. In the areas under his direct control, such as Panjshir, some parts of Parwan and Takhar, Massoud established democratic institutions. One refugee who cramped his family of 27 into an old jeep to flee from the Taliban to the area of Massoud described Massoud's territory in 1997 as \"the last tolerant corner of Afghanistan\".\n",
      " In 2001, the Afghan interim government under president Hamid Karzai officially awarded Massoud the title of \"Hero of the Afghan Nation\". One analyst in 2004 said:\n",
      "\n",
      "One man holds a greater political punch than all 18 living [Afghan] presidential candidates combined. Though already dead for three years.... Since his death on September 9, 2001 at the hands of two al Qaeda-linked Islamic radicals, Massoud has been transformed from mujahedin to national heroif not saint. Pictures of Massoud, the Afghan mujahedin who battled the Soviets, other warlords, and the Taliban for more than 20 years, vastly outnumber those of any other Afghan including those of Karzai.\n",
      "\n",
      "Today Panjshir, the home of Massoud,\n",
      "\n",
      "is arguably the most peaceful place in the entire country. A small US military reconstruction team is based here, but there are none of the signs of foreign occupation that exist elsewhere. Even Afghan soldiers are few and far between. Instead, the people like to boast about how they keep their own security.\n",
      " A Massoud Foundation was established in 2003, to provide humanitarian assistance to Afghans, especially in the fields of health care and education. It also runs programs in the fields of culture, construction, agriculture and welfare.\n",
      " A major road in Kabul was named Great Massoud Road.\n",
      " A monument to Massoud was installed outside the US Embassy.\n",
      " A street in New Delhi, India, is named after Ahmad Shah Massoud. It is the first time that such an honour has been extended to a leader from that country as part of close ties between Afghanistan and India.\n",
      " Magpul Massoud was a 7.62 NATO rifle produced by Magpul which was named after himself.\n",
      "\n",
      "The road near the Afghanistan Embassy is a \"symbol of ties\" that binds the two nations that have always \"enjoyed excellent relations\".\n",
      "\n",
      "His friend Abdullah Abdullah said that Massoud was different from the other guerilla leaders. \"He is a hero who led a clear struggle for the values of the people\".\n",
      "\n",
      "In a 2001 mourning ceremony at Moscow to honour the memory of Ahmad Shah Massoud, one-time foe Colonel Abdul Qadir stated: \"Though Massoud and I used to be enemies, I am sure he deserves great respect as an outstanding military leader and, first of all, as a patriot of his country\".\n",
      "\n",
      "Lion of Panjshir\n",
      "Massoud's byname, \"Lion of Panjshir\" (, \"Shir-e-Panjshir\"), earned for his role during the Soviet occupation, is a rhyming play on words in Persian, as the name of the valley means \"five lions\".\n",
      "\n",
      "The Wall Street Journal referred to Massoud as \"The Afghan Who Won the Cold War\", referring to the global significance of the Soviet defeat in Afghanistan for the subsequent collapse of the Eastern Bloc.\n",
      "\n",
      "Honors outside Afghanistan\n",
      "In 2007, the government of India decided to name a road in New Delhi's Chanakyapuri district after Massoud.\n",
      "\n",
      "In February 2021, the Council of Paris in France honored Massoud by installing a plaque in the 8th arrondissement of Paris. The decision reflected Massoud's unique connections with France. In March 2021, the Mayor of Paris named a pathway in the Champs-Élysées gardens after Massoud. The ceremony was attended by Massoud's son and former president Hamid Karzai.\n",
      "\n",
      "Civilian orders\n",
      " Tajikistan: Order of Ismoili Somoni – posthumously awarded on September 2, 2021.\n",
      "\n",
      "Views on Pakistan and potential al-Qaeda attacks\n",
      "\n",
      "Although Pakistan were supporting the mujahideen groups during the Soviet-Afghan War, Ahmad Shah Massoud increasingly distrusted the Pakistanis and eventually kept his distance from them. In a 1999 interview, Massoud says \"They [Pakistan] are trying to turn us into a colony. Without them there would be no war\".\n",
      "\n",
      "In the spring 2001, Ahmad Shah Massoud addressed the European Parliament in Brussels, saying that Pakistan was behind the situation in Afghanistan. He also said that he believed that, without the support of Pakistan, Osama bin Laden, and Saudi Arabia, the Taliban would not be able to sustain their military campaign for up to a year. He said the Afghan population was ready to rise against them. Addressing the United States specifically, he warned that should the U.S. not work for peace in Afghanistan and put pressure on Pakistan to cease their support to the Taliban, the problems of Afghanistan would soon become the problems of the U.S. and the world.\n",
      "\n",
      "Declassified Defense Intelligence Agency (DIA) documents from November 2001 show that Massoud had gained \"limited knowledge... regarding the intentions of al-Qaeda to perform a terrorist act against the U.S. on a scale larger than the 1998 bombing of the U.S. embassies in Kenya and Tanzania.\" They noted that he warned about such attacks.\n",
      "\n",
      "Succession and resistance to Taliban by his son \n",
      "In September 2019, his son Ahmad Massoud was declared as his successor. Following the 2021 Taliban offensive and the Fall of Kabul, Massoud allied with self-proclaimed acting president Amrullah Saleh and established the National Resistance Front of Afghanistan to the Taliban in the Panjshir Valley. Massoud called for West's support to resist the Taliban.\n",
      "\n",
      "Personal life\n",
      "\n",
      "Massoud was married to Sediqa Massoud. They had one son, Ahmad Massoud (born in 1989) and five daughters (Fatima born in 1992, Mariam born in 1993, Ayesha born in 1995, Zohra born in 1996 and Nasrine born in 1998). In 2005 Sediqa Massoud published a personal account on her life with Massoud (co-authored by two women's rights activists and friends of Sediqa Massoud, Chékéba Hachemi and ) called \"Pour l'amour de Massoud\" (For the love of Massoud), in which she describes a decent and loving husband.\n",
      "\n",
      "Massoud liked reading and had a library of 3,000 books at his home in Panjshir. He used to read the works of revolutionaries Mao Zedong and Che Guevara, and was a great admirer of Charles de Gaulle, founder of the French Fifth Republic. Massoud said his favorite author was Victor Hugo and he was also a fan of classical Persian poetry, including the works of Bidel and Hafez. He was keen at playing football and chess.\n",
      "\n",
      "Massoud's reputation for fearlessness is illustrated by a story about him told in Afghanistan, which cannot be confirmed. Once, while inspecting the front lines with a deputy, Massoud's driver had become lost and driven into the middle of a Taliban encampment. In tremendous peril, since he was recognized immediately, Massoud demanded to see the Taliban commander, making polite conversation for just long enough to bluff that he had arrived intentionally and not accidentally. The confused Taliban allowed him to leave.\n",
      "\n",
      "Massoud's family since his death have had a great deal of prestige in the politics of Afghanistan. One of his six brothers, Ahmad Zia Massoud, was the Vice President of Afghanistan from 2004 until 2009 under the first democratically elected government of Afghanistan. Unsuccessful attempts have been made on the life of Ahmad Zia Massoud in 2004 and late 2009. The Associated Press reported that eight Afghans died in the attempt on Ahmad Zia Massoud's life. Ahmad Zia Massoud leads the National Front of Afghanistan (a United Front group). Another brother, Ahmad Wali Massoud, was Afghanistan's Ambassador to the United Kingdom from 2002 to 2006. He was a member of Abdullah Abdullah's National Coalition of Afghanistan (another United Front group).\n",
      "\n",
      "In literature\n",
      "\n",
      "Essay\n",
      " Sebastian Junger, one of the last Western journalists to interview Massoud in depth, featured him in an essay in his 2002 collection, Fire.\n",
      "\n",
      "Fiction\n",
      " Massoud is the subject of Ken Follett's 1986 novel Lie Down With Lions, about the Soviet-Afghan War.\n",
      " He also is featured as a historical figure in James McGee's 1989 thriller, Crow's War.\n",
      " Massoud is the subject of Olivier Weber's novel Massoud's Confession, about the Islam of Enlightenment and the need to reform religious practices.\n",
      " Massoud is played by Mido Hamada in the 2006 miniseries The Path to 9/11.\n",
      "\n",
      "Notes\n",
      "\n",
      "References\n",
      "\n",
      "Further reading\n",
      " Sandy Gall (2021): Afghan Napoleon: The Life of Ahmad Shah Massoud. London: Haus Publishing. ISBN 978-1-913368-22-7.\n",
      " Marcela Grad (2009): Massoud: An Intimate Portrait of the Legendary Afghan Leader; Webster University Press, 310pp\n",
      " Sediqa Massoud with Chékéba Hachemi and Marie-Francoise Colombani (2005): Pour l'amour de Massoud; Document XO Editions, 265pp (in French)\n",
      " Amin Saikal (2006): Modern Afghanistan: A History of Struggle and Survival; I. B. Tauris, 352pp  (\"One of the \"Five Best\" Books on Afghanistan\" – The Wall Street Journal)\n",
      " Roy Gutman (2008): How We Missed the Story: Osama Bin Laden, the Taliban and the Hijacking of Afghanistan; United States Institute of Peace Press, 304pp\n",
      " Coll, Steve (2004): Ghost Wars: The Secret History of the CIA, Afghanistan and Bin Laden, from the Soviet Invasion to September 9, 2001; Penguin Press, 695pp, . (won the 2005 Pulitzer Prize for General Non-Fiction)\n",
      " Stephen Tanner: Afghanistan: A Military History from Alexander the Great to the Fall of the Taliban\n",
      " Christophe de Ponfilly (2001): Massoud l'Afghan; Gallimard, 437pp (in French)\n",
      " Gary W. Bowersox (2004): The Gem Hunter-True Adventures of an American in Afghanistan; Geovision, Inc. (January 22, 2004), .\n",
      " Olivier Weber (2001): Le Faucon afghan; Robert Laffont\n",
      " Olivier Weber (2001, with Reza): Afghan eternities; Le Chene/ UNESCO\n",
      " Gary C. Schroen (2005): 'First In' An Insiders Account of How The CIA Spearheaded the War on Terror in Afghanistan; New York: Presidio Press/Ballantine Books, .\n",
      " Peter Bergen: Holy War, Inc.\n",
      " Ahmed Rashid: TALIBAN – The Story of the Afghan Warlords; .\n",
      " A. R. Rowan: On The Trail Of A Lion: Ahmed Shah Massoud, Oil Politics and Terror\n",
      " MaryAnn T. Beverly (2007): From That Flame; Kallisti Publishing\n",
      " Roger Plunk: The Wandering Peacemaker\n",
      " References to Massoud appear in the book \"A Thousand Splendid Suns\" by Khaled Hosseini.\n",
      " References to Massoud appear in the book \"Sulla rotta dei ribelli\" by Emilio Lonardo; .\n",
      " Kara Kush, London: William Collins Sons and Co., Ltd., 1986.  The novel Kara Kush by Idries Shah is rumored to be loosely based on the exploits of Massoud during the Afghan-Soviet War\n",
      " Olivier Weber (2013): Massoud's Confession; Flammarion.\n",
      "\n",
      "External links\n",
      "\n",
      "Interviews\n",
      "  The Last Interview with Ahmad Shah Massoud Piotr Balcerowicz, early August 2001\n",
      "\n",
      "Obituaries and articles\n",
      " \n",
      " Remembering Massoud, a fighter for peace, The New York Times, September 10, 2002\n",
      " 60 Years of Asian Heroes: Ahmad Shah Massoud Time, 2006\n",
      " Profile: Afghanistan's 'Lion Of Panjshir' Radio Free Europe/Radio Liberty, September 5, 2006\n",
      " Afghan Commander Massoud, Killed on Eve of 9/11 Attacks, is a National Hero by The LA Times, September 22, 2010\n",
      "\n",
      "Documentaries/Panegyrics\n",
      " An 18-minute video, 'Starving to Death', about Massoud defending Kabul against the Taliban siege in March 1996. With horrifying pictures of civilian war victims. By Journeyman Pictures/Journeyman.tv. Retrieved on YouTube, June 27, 2018.\n",
      " Reza and Olivier Weber on Massoud, National Geographic\n",
      " 'Afghanistan Revealed' (2000) | SnagFilms . A portrait of Massoud by National Geographic photographer Reza Deghati, cinematographer Stephen Cocklin, and writer Sebastian Junger\n",
      " [Dead link, on National Geographic:] A Film Screening and Panel Discussion Focusing on the Middle East and Afghanistan\n",
      "\n",
      "1953 births\n",
      "2001 deaths\n",
      "Afghan guerrillas\n",
      "Afghan guerrillas killed in action\n",
      "Afghan politicians\n",
      "Afghan Sunni Muslims\n",
      "Afghan Tajik people\n",
      "Assassinated Afghan politicians\n",
      "Assassinated military personnel\n",
      "Deaths by suicide bomber\n",
      "Defence ministers of Afghanistan\n",
      "Guerrilla warfare theorists\n",
      "Military personnel killed in action\n",
      "Mujahideen members of the Soviet–Afghan War\n",
      "People killed by al-Qaeda\n",
      "People murdered in Afghanistan\n",
      "2000s assassinated politicians in Asia<|end_of_text|>\n",
      "=========================\n",
      "An alloy is a mixture of chemical elements of which at least one is a metal. Unlike chemical compounds with metallic bases, an alloy will retain all the properties of a metal in the resulting material, such as electrical conductivity, ductility, opacity, and luster, but may have properties that differ from those of the pure metals, such as increased strength or hardness. In some cases, an alloy may reduce the overall cost of the material while preserving important properties. In other cases, the mixture imparts synergistic properties to the constituent metal elements such as corrosion resistance or mechanical strength.\n",
      "\n",
      "In an alloy, the atoms are joined by metallic bonding rather than by covalent bonds typically found in chemical compounds. The alloy constituents are usually measured by mass percentage for practical applications, and in atomic fraction for basic science studies. Alloys are usually classified as substitutional or interstitial alloys, depending on the atomic arrangement that forms the alloy. They can be further classified as homogeneous (consisting of a single phase), or heterogeneous (consisting of two or more phases) or intermetallic. An alloy may be a solid solution of metal elements (a single phase, where all metallic grains (crystals) are of the same composition) or a mixture of metallic phases (two or more solutions, forming a microstructure of different crystals within the metal).\n",
      "\n",
      "Examples of alloys include red gold (gold and copper), white gold (gold and silver), sterling silver (silver and copper), steel or silicon steel (iron with non-metallic carbon or silicon respectively), solder, brass, pewter, duralumin, bronze, and amalgams.\n",
      "\n",
      "Alloys are used in a wide variety of applications, from the steel alloys, used in everything from buildings to automobiles to surgical tools, to exotic titanium alloys used in the aerospace industry, to beryllium-copper alloys for non-sparking tools.\n",
      "\n",
      "Characteristics \n",
      "\n",
      "An alloy is a mixture of chemical elements, which forms an impure substance (admixture) that retains the characteristics of a metal. An alloy is distinct from an impure metal in that, with an alloy, the added elements are well controlled to produce desirable properties, while impure metals such as wrought iron are less controlled, but are often considered useful. Alloys are made by mixing two or more elements, at least one of which is a metal. This is usually called the primary metal or the base metal, and the name of this metal may also be the name of the alloy. The other constituents may or may not be metals but, when mixed with the molten base, they will be soluble and dissolve into the mixture.\n",
      "The mechanical properties of alloys will often be quite different from those of its individual constituents. A metal that is normally very soft (malleable), such as aluminium, can be altered by alloying it with another soft metal, such as copper. Although both metals are very soft and ductile, the resulting aluminium alloy will have much greater strength. Adding a small amount of non-metallic carbon to iron trades its great ductility for the greater strength of an alloy called steel. Due to its very-high strength, but still substantial toughness, and its ability to be greatly altered by heat treatment, steel is one of the most useful and common alloys in modern use. By adding chromium to steel, its resistance to corrosion can be enhanced, creating stainless steel, while adding silicon will alter its electrical characteristics, producing silicon steel.\n",
      "\n",
      "Like oil and water, a molten metal may not always mix with another element. For example, pure iron is almost completely insoluble with copper. Even when the constituents are soluble, each will usually have a saturation point, beyond which no more of the constituent can be added. Iron, for example, can hold a maximum of 6.67% carbon. Although the elements of an alloy usually must be soluble in the liquid state, they may not always be soluble in the solid state. If the metals remain soluble when solid, the alloy forms a solid solution, becoming a homogeneous structure consisting of identical crystals, called a phase. If as the mixture cools the constituents become insoluble, they may separate to form two or more different types of crystals, creating a heterogeneous microstructure of different phases, some with more of one constituent than the other. However, in other alloys, the insoluble elements may not separate until after crystallization occurs. If cooled very quickly, they first crystallize as a homogeneous phase, but they are supersaturated with the secondary constituents. As time passes, the atoms of these supersaturated alloys can separate from the crystal lattice, becoming more stable, and forming a second phase that serves to reinforce the crystals internally.\n",
      "\n",
      "Some alloys, such as electrum—an alloy of silver and gold—occur naturally. Meteorites are sometimes made of naturally occurring alloys of iron and nickel, but are not native to the Earth. One of the first alloys made by humans was bronze, which is a mixture of the metals tin and copper. Bronze was an extremely useful alloy to the ancients, because it is much stronger and harder than either of its components. Steel was another common alloy. However, in ancient times, it could only be created as an accidental byproduct from the heating of iron ore in fires (smelting) during the manufacture of iron. Other ancient alloys include pewter, brass and pig iron. In the modern age, steel can be created in many forms. Carbon steel can be made by varying only the carbon content, producing soft alloys like mild steel or hard alloys like spring steel. Alloy steels can be made by adding other elements, such as chromium, molybdenum, vanadium or nickel, resulting in alloys such as high-speed steel or tool steel. Small amounts of manganese are usually alloyed with most modern steels because of its ability to remove unwanted impurities, like phosphorus, sulfur and oxygen, which can have detrimental effects on the alloy. However, most alloys were not created until the 1900s, such as various aluminium, titanium, nickel, and magnesium alloys. Some modern superalloys, such as incoloy, inconel, and hastelloy, may consist of a multitude of different elements.\n",
      "\n",
      "An alloy is technically an impure metal, but when referring to alloys, the term impurities usually denotes undesirable elements. Such impurities are introduced from the base metals and alloying elements, but are removed during processing. For instance, sulfur is a common impurity in steel. Sulfur combines readily with iron to form iron sulfide, which is very brittle, creating weak spots in the steel. Lithium, sodium and calcium are common impurities in aluminium alloys, which can have adverse effects on the structural integrity of castings. Conversely, otherwise pure-metals that contain unwanted impurities are often called \"impure metals\" and are not usually referred to as alloys. Oxygen, present in the air, readily combines with most metals to form metal oxides; especially at higher temperatures encountered during alloying. Great care is often taken during the alloying process to remove excess impurities, using fluxes, chemical additives, or other methods of extractive metallurgy.\n",
      "\n",
      "Theory \n",
      "\n",
      "Alloying a metal is done by combining it with one or more other elements. The most common and oldest alloying process is performed by heating the base metal beyond its melting point and then dissolving the solutes into the molten liquid, which may be possible even if the melting point of the solute is far greater than that of the base. For example, in its liquid state, titanium is a very strong solvent capable of dissolving most metals and elements. In addition, it readily absorbs gases like oxygen and burns in the presence of nitrogen. This increases the chance of contamination from any contacting surface, and so must be melted in vacuum induction-heating and special, water-cooled, copper crucibles. However, some metals and solutes, such as iron and carbon, have very high melting-points and were impossible for ancient people to melt. Thus, alloying (in particular, interstitial alloying) may also be performed with one or more constituents in a gaseous state, such as found in a blast furnace to make pig iron (liquid-gas), nitriding, carbonitriding or other forms of case hardening (solid-gas), or the cementation process used to make blister steel (solid-gas). It may also be done with one, more, or all of the constituents in the solid state, such as found in ancient methods of pattern welding (solid-solid), shear steel (solid-solid), or crucible steel production (solid-liquid), mixing the elements via solid-state diffusion.\n",
      "\n",
      "By adding another element to a metal, differences in the size of the atoms create internal stresses in the lattice of the metallic crystals; stresses that often enhance its properties. For example, the combination of carbon with iron produces steel, which is stronger than iron, its primary element. The electrical and thermal conductivity of alloys is usually lower than that of the pure metals. The physical properties, such as density, reactivity, Young's modulus of an alloy may not differ greatly from those of its base element, but engineering properties such as tensile strength, ductility, and shear strength may be substantially different from those of the constituent materials. This is sometimes a result of the sizes of the atoms in the alloy, because larger atoms exert a compressive force on neighboring atoms, and smaller atoms exert a tensile force on their neighbors, helping the alloy resist deformation. Sometimes alloys may exhibit marked differences in behavior even when small amounts of one element are present. For example, impurities in semiconducting ferromagnetic alloys lead to different properties, as first predicted by White, Hogan, Suhl, Tian Abrie and Nakamura.\n",
      "\n",
      "Unlike pure metals, most alloys do not have a single melting point, but a melting range during which the material is a mixture of solid and liquid phases (a slush). The temperature at which melting begins is called the solidus, and the temperature when melting is just complete is called the liquidus. For many alloys there is a particular alloy proportion (in some cases more than one), called either a eutectic mixture or a peritectic composition, which gives the alloy a unique and low melting point, and no liquid/solid slush transition.\n",
      "\n",
      "Heat treatment \n",
      "\n",
      "Alloying elements are added to a base metal, to induce hardness, toughness, ductility, or other desired properties. Most metals and alloys can be work hardened by creating defects in their crystal structure. These defects are created during plastic deformation by hammering, bending, extruding, et cetera, and are permanent unless the metal is recrystallized. Otherwise, some alloys can also have their properties altered by heat treatment. Nearly all metals can be softened by annealing, which recrystallizes the alloy and repairs the defects, but not as many can be hardened by controlled heating and cooling. Many alloys of aluminium, copper, magnesium, titanium, and nickel can be strengthened to some degree by some method of heat treatment, but few respond to this to the same degree as does steel.\n",
      "\n",
      "The base metal iron of the iron-carbon alloy known as steel, undergoes a change in the arrangement (allotropy) of the atoms of its crystal matrix at a certain temperature (usually between  and , depending on carbon content). This allows the smaller carbon atoms to enter the interstices of the iron crystal. When this diffusion happens, the carbon atoms are said to be in solution in the iron, forming a particular single, homogeneous, crystalline phase called austenite. If the steel is cooled slowly, the carbon can diffuse out of the iron and it will gradually revert to its low temperature allotrope. During slow cooling, the carbon atoms will no longer be as soluble with the iron, and will be forced to precipitate out of solution, nucleating into a more concentrated form of iron carbide (Fe3C) in the spaces between the pure iron crystals. The steel then becomes heterogeneous, as it is formed of two phases, the iron-carbon phase called cementite (or carbide), and pure iron ferrite. Such a heat treatment produces a steel that is rather soft. If the steel is cooled quickly, however, the carbon atoms will not have time to diffuse and precipitate out as carbide, but will be trapped within the iron crystals. When rapidly cooled, a diffusionless (martensite) transformation occurs, in which the carbon atoms become trapped in solution. This causes the iron crystals to deform as the crystal structure tries to change to its low temperature state, leaving those crystals very hard but much less ductile (more brittle).\n",
      "\n",
      "While the high strength of steel results when diffusion and precipitation is prevented (forming martensite), most heat-treatable alloys are precipitation hardening alloys, that depend on the diffusion of alloying elements to achieve their strength. When heated to form a solution and then cooled quickly, these alloys become much softer than normal, during the diffusionless transformation, but then harden as they age. The solutes in these alloys will precipitate over time, forming intermetallic phases, which are difficult to discern from the base metal. Unlike steel, in which the solid solution separates into different crystal phases (carbide and ferrite), precipitation hardening alloys form different phases within the same crystal. These intermetallic alloys appear homogeneous in crystal structure, but tend to behave heterogeneously, becoming hard and somewhat brittle.\n",
      "\n",
      "In 1906, precipitation hardening alloys were discovered by Alfred Wilm. Precipitation hardening alloys, such as certain alloys of aluminium, titanium, and copper, are heat-treatable alloys that soften when quenched (cooled quickly), and then harden over time. Wilm had been searching for a way to harden aluminium alloys for use in machine-gun cartridge cases. Knowing that aluminium-copper alloys were heat-treatable to some degree, Wilm tried quenching a ternary alloy of aluminium, copper, and the addition of magnesium, but was initially disappointed with the results. However, when Wilm retested it the next day he discovered that the alloy increased in hardness when left to age at room temperature, and far exceeded his expectations. Although an explanation for the phenomenon was not provided until 1919, duralumin was one of the first \"age hardening\" alloys used, becoming the primary building material for the first Zeppelins, and was soon followed by many others. Because they often exhibit a combination of high strength and low weight, these alloys became widely used in many forms of industry, including the construction of modern aircraft.\n",
      "\n",
      "Mechanisms \n",
      "\n",
      "When a molten metal is mixed with another substance, there are two mechanisms that can cause an alloy to form, called atom exchange and the interstitial mechanism. The relative size of each element in the mix plays a primary role in determining which mechanism will occur. When the atoms are relatively similar in size, the atom exchange method usually happens, where some of the atoms composing the metallic crystals are substituted with atoms of the other constituent. This is called a substitutional alloy. Examples of substitutional alloys include bronze and brass, in which some of the copper atoms are substituted with either tin or zinc atoms respectively.\n",
      "\n",
      "In the case of the interstitial mechanism, one atom is usually much smaller than the other and  can not successfully substitute for the other type of atom in the crystals of the base metal. Instead, the smaller atoms become trapped in the interstitial sites between the atoms of the crystal matrix. This is referred to as an interstitial alloy. Steel is an example of an interstitial alloy, because the very small carbon atoms fit into interstices of the iron matrix.\n",
      "\n",
      "Stainless steel is an example of a combination of interstitial and substitutional alloys, because the carbon atoms fit into the interstices, but some of the iron atoms are substituted by nickel and chromium atoms.\n",
      "\n",
      "History and examples\n",
      "\n",
      "Meteoric iron \n",
      "\n",
      "The use of alloys by humans started with the use of meteoric iron, a naturally occurring alloy of nickel and iron. It is the main constituent of iron meteorites. As no metallurgic processes were used to separate iron from nickel, the alloy was used as it was. Meteoric iron could be forged from a red heat to make objects such as tools, weapons, and nails. In many cultures it was shaped by cold hammering into knives and arrowheads. They were often used as anvils. Meteoric iron was very rare and valuable, and difficult for ancient people to work.\n",
      "\n",
      "Bronze and brass \n",
      "\n",
      "Iron is usually found as iron ore on Earth, except for one deposit of native iron in Greenland, which was used by the Inuit. Native copper, however, was found worldwide, along with silver, gold, and platinum, which were also used to make tools, jewelry, and other objects since Neolithic times. Copper was the hardest of these metals, and the most widely distributed. It became one of the most important metals to the ancients. Around 10,000 years ago in the highlands of Anatolia (Turkey), humans learned to smelt metals such as copper and tin from ore. Around 2500 BC, people began alloying the two metals to form bronze, which was much harder than its ingredients. Tin was rare, however, being found mostly in Great Britain. In the Middle East, people began alloying copper with zinc to form brass. Ancient civilizations took into account the mixture and the various properties it produced, such as hardness, toughness and melting point, under various conditions of temperature and work hardening, developing much of the information contained in modern alloy phase diagrams. For example, arrowheads from the Chinese Qin dynasty (around 200 BC) were often constructed with a hard bronze-head, but a softer bronze-tang, combining the alloys to prevent both dulling and breaking during use.\n",
      "\n",
      "Amalgams \n",
      "\n",
      "Mercury has been smelted from cinnabar for thousands of years. Mercury dissolves many metals, such as gold, silver, and tin, to form amalgams (an alloy in a soft paste or liquid form at ambient temperature). Amalgams have been used since 200 BC in China for gilding objects such as armor and mirrors with precious metals. The ancient Romans often used mercury-tin amalgams for gilding their armor. The amalgam was applied as a paste and then heated until the mercury vaporized, leaving the gold, silver, or tin behind. Mercury was often used in mining, to extract precious metals like gold and silver from their ores.\n",
      "\n",
      "Precious metals \n",
      "\n",
      "Many ancient civilizations alloyed metals for purely aesthetic purposes. In ancient Egypt and Mycenae, gold was often alloyed with copper to produce red-gold, or iron to produce a bright burgundy-gold. Gold was often found alloyed with silver or other metals to produce various types of colored gold. These metals were also used to strengthen each other, for more practical purposes. Copper was often added to silver to make sterling silver, increasing its strength for use in dishes, silverware, and other practical items. Quite often, precious metals were alloyed with less valuable substances as a means to deceive buyers. Around 250 BC, Archimedes was commissioned by the King of Syracuse to find a way to check the purity of the gold in a crown, leading to the famous bath-house shouting of \"Eureka!\" upon the discovery of Archimedes' principle.\n",
      "\n",
      "Pewter \n",
      "\n",
      "The term pewter covers a variety of alloys consisting primarily of tin. As a pure metal, tin is much too soft to use for most practical purposes. However, during the Bronze Age, tin was a rare metal in many parts of Europe and the Mediterranean, so it was often valued higher than gold. To make jewellery, cutlery, or other objects from tin, workers usually alloyed it with other metals to increase strength and hardness. These metals were typically lead, antimony, bismuth or copper. These solutes were sometimes added individually in varying amounts, or added together, making a wide variety of objects, ranging from practical items such as dishes, surgical tools, candlesticks or funnels, to decorative items like ear rings and hair clips.\n",
      "\n",
      "The earliest examples of pewter come from ancient Egypt, around 1450 BC. The use of pewter was widespread across Europe, from France to Norway and Britain (where most of the ancient tin was mined) to the Near East. The alloy was also used in China and the Far East, arriving in Japan around 800 AD, where it was used for making objects like ceremonial vessels, tea canisters, or chalices used in shinto shrines.\n",
      "\n",
      "Iron \n",
      "\n",
      "The first known smelting of iron began in Anatolia, around 1800 BC. Called the bloomery process, it produced very soft but ductile wrought iron. By 800 BC, iron-making technology had spread to Europe, arriving in Japan around 700 AD. Pig iron, a very hard but brittle alloy of iron and carbon, was being produced in China as early as 1200 BC, but did not arrive in Europe until the Middle Ages. Pig iron has a lower melting point than iron, and was used for making cast-iron. However, these metals found little practical use until the introduction of crucible steel around 300 BC. These steels were of poor quality, and the introduction of pattern welding, around the 1st century AD, sought to balance the extreme properties of the alloys by laminating them, to create a tougher metal. Around 700 AD, the Japanese began folding bloomery-steel and cast-iron in alternating layers to increase the strength of their swords, using clay fluxes to remove slag and impurities. This method of Japanese swordsmithing produced one of the purest steel-alloys of the ancient world.\n",
      "\n",
      "While the use of iron started to become more widespread around 1200 BC, mainly because of interruptions in the trade routes for tin, the metal was much softer than bronze. However, very small amounts of steel, (an alloy of iron and around 1% carbon), was always a byproduct of the bloomery process. The ability to modify the hardness of steel by heat treatment had been known since 1100 BC, and the rare material was valued for the manufacture of tools and weapons. Because the ancients could not produce temperatures high enough to melt iron fully, the production of steel in decent quantities did not occur until the introduction of blister steel during the Middle Ages. This method introduced carbon by heating wrought iron in charcoal for long periods of time, but the absorption of carbon in this manner is extremely slow thus the penetration was not very deep, so the alloy was not homogeneous. In 1740, Benjamin Huntsman began melting blister steel in a crucible to even out the carbon content, creating the first process for the mass production of tool steel. Huntsman's process was used for manufacturing tool steel until the early 1900s.\n",
      "\n",
      "The introduction of the blast furnace to Europe in the Middle Ages meant that people could produce pig iron in much higher volumes than wrought iron. Because pig iron could be melted, people began to develop processes to reduce carbon in liquid pig iron to create steel. Puddling had been used in China since the first century, and was introduced in Europe during the 1700s, where molten pig iron was stirred while exposed to the air, to remove the carbon by oxidation. In 1858, Henry Bessemer developed a process of steel-making by blowing hot air through liquid pig iron to reduce the carbon content. The Bessemer process led to the first large scale manufacture of steel.\n",
      "\n",
      "Steel is an alloy of iron and carbon, but the term alloy steel usually only refers to steels that contain other elements— like vanadium, molybdenum, or cobalt—in amounts sufficient to alter the properties of the base steel. Since ancient times, when steel was used primarily for tools and weapons, the methods of producing and working the metal were often closely guarded secrets. Even long after the Age of reason, the steel industry was very competitive and manufacturers went through great lengths to keep their processes confidential, resisting any attempts to scientifically analyze the material for fear it would reveal their methods. For example, the people of Sheffield, a center of steel production in England, were known to routinely bar visitors and tourists from entering town to deter industrial espionage. Thus, almost no metallurgical information existed about steel until 1860. Because of this lack of understanding, steel was not generally considered an alloy until the decades between 1930 and 1970 (primarily due to the work of scientists like William Chandler Roberts-Austen, Adolf Martens, and Edgar Bain), so \"alloy steel\" became the popular term for ternary and quaternary steel-alloys.\n",
      "\n",
      "After Benjamin Huntsman developed his crucible steel in 1740, he began experimenting with the addition of elements like manganese (in the form of a high-manganese pig-iron called spiegeleisen), which helped remove impurities such as phosphorus and oxygen; a process adopted by Bessemer and still used in modern steels (albeit in concentrations low enough to still be considered carbon steel). Afterward, many people began experimenting with various alloys of steel without much success. However, in 1882, Robert Hadfield, being a pioneer in steel metallurgy, took an interest and produced a steel alloy containing around 12% manganese. Called mangalloy, it exhibited extreme hardness and toughness, becoming the first commercially viable alloy-steel. Afterward, he created silicon steel, launching the search for other possible alloys of steel.\n",
      "\n",
      "Robert Forester Mushet found that by adding tungsten to steel it could produce a very hard edge that would resist losing its hardness at high temperatures. \"R. Mushet's special steel\" (RMS) became the first high-speed steel. Mushet's steel was quickly replaced by tungsten carbide steel, developed by Taylor and White in 1900, in which they doubled the tungsten content and added small amounts of chromium and vanadium, producing a superior steel for use in lathes and machining tools. In 1903, the Wright brothers used a chromium-nickel steel to make the crankshaft for their airplane engine, while in 1908 Henry Ford began using vanadium steels for parts like crankshafts and valves in his Model T Ford, due to their higher strength and resistance to high temperatures. In 1912, the Krupp Ironworks in Germany developed a rust-resistant steel by adding 21% chromium and 7% nickel, producing the first stainless steel.\n",
      "\n",
      "Others \n",
      "\n",
      "Due to their high reactivity, most metals were not discovered until the 19th century. A method for extracting aluminium from bauxite was proposed by Humphry Davy in 1807, using an electric arc. Although his attempts were unsuccessful, by 1855 the first sales of pure aluminium reached the market. However, as extractive metallurgy was still in its infancy, most aluminium extraction-processes produced unintended alloys contaminated with other elements found in the ore; the most abundant of which was copper. These aluminium-copper alloys (at the time termed \"aluminum bronze\") preceded pure aluminium, offering greater strength and hardness over the soft, pure metal, and to a slight degree were found to be heat treatable. However, due to their softness and limited hardenability these alloys found little practical use, and were more of a novelty, until the Wright brothers used an aluminium alloy to construct the first airplane engine in 1903. During the time between 1865 and 1910, processes for extracting many other metals were discovered, such as chromium, vanadium, tungsten, iridium, cobalt, and molybdenum, and various alloys were developed.\n",
      "\n",
      "Prior to 1910, research mainly consisted of private individuals tinkering in their own laboratories. However, as the aircraft and automotive industries began growing, research into alloys became an industrial effort in the years following 1910, as new magnesium alloys were developed for pistons and wheels in cars, and pot metal for levers and knobs, and aluminium alloys developed for airframes and aircraft skins were put into use.\n",
      "\n",
      "See also \n",
      "\n",
      " Alloy broadening\n",
      " CALPHAD\n",
      " Ideal mixture\n",
      " List of alloys\n",
      "\n",
      "References\n",
      "\n",
      "Bibliography\n",
      "\n",
      "External links \n",
      "\n",
      " \n",
      " \n",
      "\n",
      " \n",
      "Metallurgy\n",
      "Chemistry<|end_of_text|>\n"
     ]
    }
   ],
   "source": [
    "# Sanity check\n",
    "for row in dataset_split['train'][:3][\"text\"]:\n",
    "    print(\"=========================\")\n",
    "    print(row)"
   ]
  },
  {
   "cell_type": "markdown",
   "metadata": {},
   "source": [
    "# Training"
   ]
  },
  {
   "cell_type": "code",
   "execution_count": 18,
   "metadata": {},
   "outputs": [
    {
     "data": {
      "application/vnd.jupyter.widget-view+json": {
       "model_id": "f6596191d34044a18d9a8999b22fc279",
       "version_major": 2,
       "version_minor": 0
      },
      "text/plain": [
       "Tokenizing to [\"text\"] (num_proc=8):   0%|          | 0/2000 [00:00<?, ? examples/s]"
      ]
     },
     "metadata": {},
     "output_type": "display_data"
    }
   ],
   "source": [
    "trainer = UnslothTrainer(\n",
    "    model=model,\n",
    "    tokenizer=tokenizer,\n",
    "    train_dataset=dataset_split['train'],\n",
    "    # eval_dataset=dataset_split['test'],\n",
    "    dataset_text_field='text',\n",
    "    max_seq_length=max_seq_length,\n",
    "    dataset_num_proc=8,\n",
    "\n",
    "    args=TrainingArguments(\n",
    "        seed=seed,\n",
    "        per_device_train_batch_size=4,\n",
    "        gradient_accumulation_steps=2,\n",
    "        num_train_epochs=3,\n",
    "        # max_steps=3, # For debugging\n",
    "        warmup_ratio=0.05,\n",
    "        learning_rate=2e-4,\n",
    "        lr_scheduler_type='cosine',\n",
    "        optim='paged_adamw_8bit', # 'paged_adamw_8bit' | 'adamw_8bit'\n",
    "        weight_decay=0.00,\n",
    "        max_grad_norm=0.3,\n",
    "        fp16=(not is_bf16_supported()),\n",
    "        bf16=is_bf16_supported(),\n",
    "\n",
    "        # Eval arguments\n",
    "        # eval_strategy='steps',\n",
    "        # eval_steps=10,\n",
    "        \n",
    "        # Logging arguments\n",
    "        logging_strategy='steps',\n",
    "        logging_steps=1,\n",
    "        # logging_first_step=True,\n",
    "        report_to=['tensorboard', 'wandb'],\n",
    "\n",
    "        # Saving arguments\n",
    "        save_strategy='steps',\n",
    "        save_steps=50,\n",
    "        # save_steps=1, # For debugging\n",
    "        save_total_limit=5, # 1 best + 4 recent checkpoints. Warning: It doesn't work\n",
    "        \n",
    "        # With load_best_model_at_end=True, your save_strategy will be ignored and default to eval_strategy.\n",
    "        # So you will find one checkpoint at the end of each epoch.\n",
    "        # https://discuss.huggingface.co/t/trainer-not-saving-after-save-steps/5464\n",
    "        # load_best_model_at_end=True, \n",
    "\n",
    "        output_dir=project_name,\n",
    "        hub_model_id=hub_model_id,\n",
    "        push_to_hub=True,\n",
    "\n",
    "        hub_strategy='all_checkpoints',\n",
    "        hub_always_push=True,\n",
    "    ),\n",
    ")"
   ]
  },
  {
   "cell_type": "code",
   "execution_count": 19,
   "metadata": {},
   "outputs": [
    {
     "name": "stdout",
     "output_type": "stream",
     "text": [
      "GPU = Tesla T4. Max memory = 14.741 GB.\n",
      "5.746 GB of memory reserved.\n"
     ]
    }
   ],
   "source": [
    "#@title Show current memory stats\n",
    "gpu_stats = torch.cuda.get_device_properties(0)\n",
    "start_gpu_memory = round(torch.cuda.max_memory_reserved() / 1024 / 1024 / 1024, 3)\n",
    "max_memory = round(gpu_stats.total_memory / 1024 / 1024 / 1024, 3)\n",
    "print(f\"GPU = {gpu_stats.name}. Max memory = {max_memory} GB.\")\n",
    "print(f\"{start_gpu_memory} GB of memory reserved.\")"
   ]
  },
  {
   "cell_type": "code",
   "execution_count": null,
   "metadata": {},
   "outputs": [],
   "source": [
    "trainer_stats = trainer.train(resume_from_checkpoint=resume_from_checkpoint)"
   ]
  }
 ],
 "metadata": {
  "kernelspec": {
   "display_name": "Python 3 (ipykernel)",
   "language": "python",
   "name": "python3"
  }
 },
 "nbformat": 4,
 "nbformat_minor": 2
}
