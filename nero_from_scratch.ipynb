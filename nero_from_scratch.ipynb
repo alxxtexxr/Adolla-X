{
 "cells": [
  {
   "cell_type": "code",
   "execution_count": 1,
   "metadata": {},
   "outputs": [],
   "source": [
    "# Kill all processess on GPU\n",
    "# !fuser -v /dev/nvidia* -k"
   ]
  },
  {
   "cell_type": "markdown",
   "metadata": {},
   "source": [
    "# Libraries"
   ]
  },
  {
   "cell_type": "code",
   "execution_count": 2,
   "metadata": {},
   "outputs": [],
   "source": [
    "%%capture\n",
    "import os\n",
    "if 'COLAB_' not in ''.join(os.environ.keys()):\n",
    "    %pip install unsloth\n",
    "else:\n",
    "    # Do this only in Colab notebooks and Kaggle notebooks!\n",
    "    %pip install --no-deps bitsandbytes accelerate xformers==0.0.29 peft trl triton\n",
    "    %pip install --no-deps cut_cross_entropy unsloth_zoo\n",
    "    %pip install sentencepiece protobuf datasets huggingface_hub hf_transfer\n",
    "    %pip install --no-deps unsloth"
   ]
  },
  {
   "cell_type": "code",
   "execution_count": 2,
   "metadata": {},
   "outputs": [
    {
     "name": "stdout",
     "output_type": "stream",
     "text": [
      "🦥 Unsloth: Will patch your computer to enable 2x faster free finetuning.\n"
     ]
    },
    {
     "name": "stderr",
     "output_type": "stream",
     "text": [
      "WARNING:xformers:WARNING[XFORMERS]: xFormers can't load C++/CUDA extensions. xFormers was built for:\n",
      "    PyTorch 2.5.1+cu121 with CUDA 1201 (you have 2.6.0+cu124)\n",
      "    Python  3.11.11 (you have 3.11.11)\n",
      "  Please reinstall xformers (see https://github.com/facebookresearch/xformers#installing-xformers)\n",
      "  Memory-efficient attention, SwiGLU, sparse and more won't be available.\n",
      "  Set XFORMERS_MORE_DETAILS=1 for more details\n"
     ]
    },
    {
     "name": "stdout",
     "output_type": "stream",
     "text": [
      "🦥 Unsloth Zoo will now patch everything to make training faster!\n"
     ]
    }
   ],
   "source": [
    "import os\n",
    "import torch\n",
    "import torch.nn as nn\n",
    "import torch.nn.functional as F\n",
    "from copy import deepcopy\n",
    "from unsloth import FastLanguageModel\n",
    "from transformers import TrainingArguments \n",
    "from trl import SFTTrainer\n",
    "from peft import LoraConfig\n",
    "from huggingface_hub import snapshot_download\n",
    "from safetensors.torch import load_file\n",
    "from pprint import pprint"
   ]
  },
  {
   "cell_type": "markdown",
   "metadata": {},
   "source": [
    "# Config"
   ]
  },
  {
   "cell_type": "code",
   "execution_count": 3,
   "metadata": {},
   "outputs": [],
   "source": [
    "# Project config\n",
    "seed = 69 # Nice.\n",
    "\n",
    "# Model config\n",
    "max_seq_length = 1024\n",
    "dtype = None # None for auto detection. Float16 for Tesla T4, V100, Bfloat16 for Ampere+\n",
    "load_in_4bit = True # Use 4bit quantization to reduce memory usage. Can be False.\n",
    "\n",
    "# LoRA config\n",
    "hf_lora_id = 'alxxtexxr/L3.1-8B-wikipedia-en-LoRA-v20250305134947'\n",
    "lora_dir = hf_lora_id.split('/')[-1]"
   ]
  },
  {
   "cell_type": "code",
   "execution_count": 5,
   "metadata": {},
   "outputs": [
    {
     "data": {
      "application/vnd.jupyter.widget-view+json": {
       "model_id": "11fac354863642c68088531a022d1c0c",
       "version_major": 2,
       "version_minor": 0
      },
      "text/plain": [
       ".gitattributes:   0%|          | 0.00/1.57k [00:00<?, ?B/s]"
      ]
     },
     "metadata": {},
     "output_type": "display_data"
    },
    {
     "data": {
      "application/vnd.jupyter.widget-view+json": {
       "model_id": "cf1a18a736b64f00a56a426b477c64d7",
       "version_major": 2,
       "version_minor": 0
      },
      "text/plain": [
       "adapter_config.json:   0%|          | 0.00/812 [00:00<?, ?B/s]"
      ]
     },
     "metadata": {},
     "output_type": "display_data"
    },
    {
     "data": {
      "application/vnd.jupyter.widget-view+json": {
       "model_id": "48a21cefc05048ba99347cd098c1136a",
       "version_major": 2,
       "version_minor": 0
      },
      "text/plain": [
       "adapter_model.safetensors:   0%|          | 0.00/83.9M [00:00<?, ?B/s]"
      ]
     },
     "metadata": {},
     "output_type": "display_data"
    },
    {
     "data": {
      "application/vnd.jupyter.widget-view+json": {
       "model_id": "3d4c7a1b6d9040ce818c02d36ad18a07",
       "version_major": 2,
       "version_minor": 0
      },
      "text/plain": [
       "README.md:   0%|          | 0.00/5.12k [00:00<?, ?B/s]"
      ]
     },
     "metadata": {},
     "output_type": "display_data"
    },
    {
     "data": {
      "application/vnd.jupyter.widget-view+json": {
       "model_id": "53521b0b8cbf433b872e25ef58296075",
       "version_major": 2,
       "version_minor": 0
      },
      "text/plain": [
       "adapter_config.json:   0%|          | 0.00/812 [00:00<?, ?B/s]"
      ]
     },
     "metadata": {},
     "output_type": "display_data"
    },
    {
     "data": {
      "application/vnd.jupyter.widget-view+json": {
       "model_id": "aea6ef77b3c44a27933865d1092bdf51",
       "version_major": 2,
       "version_minor": 0
      },
      "text/plain": [
       "adapter_model.safetensors:   0%|          | 0.00/83.9M [00:00<?, ?B/s]"
      ]
     },
     "metadata": {},
     "output_type": "display_data"
    },
    {
     "data": {
      "application/vnd.jupyter.widget-view+json": {
       "model_id": "945942b924404cae9148eee0646b9d20",
       "version_major": 2,
       "version_minor": 0
      },
      "text/plain": [
       "optimizer.pt:   0%|          | 0.00/43.1M [00:00<?, ?B/s]"
      ]
     },
     "metadata": {},
     "output_type": "display_data"
    },
    {
     "data": {
      "application/vnd.jupyter.widget-view+json": {
       "model_id": "c5a208a5ff5e44f0be14f82acfb4ea40",
       "version_major": 2,
       "version_minor": 0
      },
      "text/plain": [
       "rng_state.pth:   0%|          | 0.00/14.2k [00:00<?, ?B/s]"
      ]
     },
     "metadata": {},
     "output_type": "display_data"
    },
    {
     "data": {
      "application/vnd.jupyter.widget-view+json": {
       "model_id": "80ce7fca48a549a098af929819f62da4",
       "version_major": 2,
       "version_minor": 0
      },
      "text/plain": [
       "scheduler.pt:   0%|          | 0.00/1.06k [00:00<?, ?B/s]"
      ]
     },
     "metadata": {},
     "output_type": "display_data"
    },
    {
     "data": {
      "application/vnd.jupyter.widget-view+json": {
       "model_id": "f75358a7c88e405190b21cedaedaa83e",
       "version_major": 2,
       "version_minor": 0
      },
      "text/plain": [
       "special_tokens_map.json:   0%|          | 0.00/459 [00:00<?, ?B/s]"
      ]
     },
     "metadata": {},
     "output_type": "display_data"
    },
    {
     "data": {
      "application/vnd.jupyter.widget-view+json": {
       "model_id": "f0129b9e6da04490b852ecd08df97399",
       "version_major": 2,
       "version_minor": 0
      },
      "text/plain": [
       "tokenizer.json:   0%|          | 0.00/17.2M [00:00<?, ?B/s]"
      ]
     },
     "metadata": {},
     "output_type": "display_data"
    },
    {
     "data": {
      "application/vnd.jupyter.widget-view+json": {
       "model_id": "66e657c672f041c5860299f3f9e438d0",
       "version_major": 2,
       "version_minor": 0
      },
      "text/plain": [
       "tokenizer_config.json:   0%|          | 0.00/50.6k [00:00<?, ?B/s]"
      ]
     },
     "metadata": {},
     "output_type": "display_data"
    },
    {
     "data": {
      "application/vnd.jupyter.widget-view+json": {
       "model_id": "74834c4f73c147a6bfff4a8d85bfd41c",
       "version_major": 2,
       "version_minor": 0
      },
      "text/plain": [
       "trainer_state.json:   0%|          | 0.00/16.7k [00:00<?, ?B/s]"
      ]
     },
     "metadata": {},
     "output_type": "display_data"
    },
    {
     "data": {
      "application/vnd.jupyter.widget-view+json": {
       "model_id": "35c30b2541814cd6819af5ecb1601004",
       "version_major": 2,
       "version_minor": 0
      },
      "text/plain": [
       "training_args.bin:   0%|          | 0.00/5.75k [00:00<?, ?B/s]"
      ]
     },
     "metadata": {},
     "output_type": "display_data"
    },
    {
     "data": {
      "application/vnd.jupyter.widget-view+json": {
       "model_id": "6e0c9290b58e49ecb4d938c73ebd0b3c",
       "version_major": 2,
       "version_minor": 0
      },
      "text/plain": [
       "README.md:   0%|          | 0.00/5.12k [00:00<?, ?B/s]"
      ]
     },
     "metadata": {},
     "output_type": "display_data"
    },
    {
     "data": {
      "application/vnd.jupyter.widget-view+json": {
       "model_id": "c4cb4ea1398c40248bba9a6b537712b2",
       "version_major": 2,
       "version_minor": 0
      },
      "text/plain": [
       "adapter_config.json:   0%|          | 0.00/812 [00:00<?, ?B/s]"
      ]
     },
     "metadata": {},
     "output_type": "display_data"
    },
    {
     "data": {
      "application/vnd.jupyter.widget-view+json": {
       "model_id": "eed623c7c2a741438a2a7d6ddb1ea613",
       "version_major": 2,
       "version_minor": 0
      },
      "text/plain": [
       "adapter_model.safetensors:   0%|          | 0.00/83.9M [00:00<?, ?B/s]"
      ]
     },
     "metadata": {},
     "output_type": "display_data"
    },
    {
     "data": {
      "application/vnd.jupyter.widget-view+json": {
       "model_id": "13a979462e9b44ac9ad5d638c7842f9c",
       "version_major": 2,
       "version_minor": 0
      },
      "text/plain": [
       "optimizer.pt:   0%|          | 0.00/43.1M [00:00<?, ?B/s]"
      ]
     },
     "metadata": {},
     "output_type": "display_data"
    },
    {
     "data": {
      "application/vnd.jupyter.widget-view+json": {
       "model_id": "383213c6837f48039949ad0f8fb47e5a",
       "version_major": 2,
       "version_minor": 0
      },
      "text/plain": [
       "rng_state.pth:   0%|          | 0.00/14.2k [00:00<?, ?B/s]"
      ]
     },
     "metadata": {},
     "output_type": "display_data"
    },
    {
     "data": {
      "application/vnd.jupyter.widget-view+json": {
       "model_id": "82b4a88e7a86498a91c2e99c5a163453",
       "version_major": 2,
       "version_minor": 0
      },
      "text/plain": [
       "scheduler.pt:   0%|          | 0.00/1.06k [00:00<?, ?B/s]"
      ]
     },
     "metadata": {},
     "output_type": "display_data"
    },
    {
     "data": {
      "application/vnd.jupyter.widget-view+json": {
       "model_id": "85bf8c7f80fd4043bb20bc49835740fa",
       "version_major": 2,
       "version_minor": 0
      },
      "text/plain": [
       "special_tokens_map.json:   0%|          | 0.00/459 [00:00<?, ?B/s]"
      ]
     },
     "metadata": {},
     "output_type": "display_data"
    },
    {
     "data": {
      "application/vnd.jupyter.widget-view+json": {
       "model_id": "cea5c0c30f984165baf9fa2254daf554",
       "version_major": 2,
       "version_minor": 0
      },
      "text/plain": [
       "tokenizer.json:   0%|          | 0.00/17.2M [00:00<?, ?B/s]"
      ]
     },
     "metadata": {},
     "output_type": "display_data"
    },
    {
     "data": {
      "application/vnd.jupyter.widget-view+json": {
       "model_id": "40c6cf191cd84befa4a402d7a4ff553f",
       "version_major": 2,
       "version_minor": 0
      },
      "text/plain": [
       "tokenizer_config.json:   0%|          | 0.00/50.6k [00:00<?, ?B/s]"
      ]
     },
     "metadata": {},
     "output_type": "display_data"
    },
    {
     "data": {
      "application/vnd.jupyter.widget-view+json": {
       "model_id": "2eb39f4d94ec441f85a181959fbf7655",
       "version_major": 2,
       "version_minor": 0
      },
      "text/plain": [
       "trainer_state.json:   0%|          | 0.00/32.7k [00:00<?, ?B/s]"
      ]
     },
     "metadata": {},
     "output_type": "display_data"
    },
    {
     "data": {
      "application/vnd.jupyter.widget-view+json": {
       "model_id": "fe70d42168be499b9d17cc58acba14ca",
       "version_major": 2,
       "version_minor": 0
      },
      "text/plain": [
       "training_args.bin:   0%|          | 0.00/5.75k [00:00<?, ?B/s]"
      ]
     },
     "metadata": {},
     "output_type": "display_data"
    },
    {
     "data": {
      "application/vnd.jupyter.widget-view+json": {
       "model_id": "e065772968374f5b9f3ee3cd5758cb47",
       "version_major": 2,
       "version_minor": 0
      },
      "text/plain": [
       "README.md:   0%|          | 0.00/5.12k [00:00<?, ?B/s]"
      ]
     },
     "metadata": {},
     "output_type": "display_data"
    },
    {
     "data": {
      "application/vnd.jupyter.widget-view+json": {
       "model_id": "c869f490338540458141950929340494",
       "version_major": 2,
       "version_minor": 0
      },
      "text/plain": [
       "adapter_config.json:   0%|          | 0.00/812 [00:00<?, ?B/s]"
      ]
     },
     "metadata": {},
     "output_type": "display_data"
    },
    {
     "data": {
      "application/vnd.jupyter.widget-view+json": {
       "model_id": "ba123692b14c44cf86f8a78d49d73f35",
       "version_major": 2,
       "version_minor": 0
      },
      "text/plain": [
       "adapter_model.safetensors:   0%|          | 0.00/83.9M [00:00<?, ?B/s]"
      ]
     },
     "metadata": {},
     "output_type": "display_data"
    },
    {
     "data": {
      "application/vnd.jupyter.widget-view+json": {
       "model_id": "c98471e8383a4675ba4419693dee94a4",
       "version_major": 2,
       "version_minor": 0
      },
      "text/plain": [
       "optimizer.pt:   0%|          | 0.00/44.3M [00:00<?, ?B/s]"
      ]
     },
     "metadata": {},
     "output_type": "display_data"
    },
    {
     "data": {
      "application/vnd.jupyter.widget-view+json": {
       "model_id": "16d513afb0b9453ca38ddc52226b619e",
       "version_major": 2,
       "version_minor": 0
      },
      "text/plain": [
       "rng_state.pth:   0%|          | 0.00/14.2k [00:00<?, ?B/s]"
      ]
     },
     "metadata": {},
     "output_type": "display_data"
    },
    {
     "data": {
      "application/vnd.jupyter.widget-view+json": {
       "model_id": "e9587763a2964a30b03c75086db444e4",
       "version_major": 2,
       "version_minor": 0
      },
      "text/plain": [
       "scheduler.pt:   0%|          | 0.00/1.06k [00:00<?, ?B/s]"
      ]
     },
     "metadata": {},
     "output_type": "display_data"
    },
    {
     "data": {
      "application/vnd.jupyter.widget-view+json": {
       "model_id": "ee369810be1b499ead9284c5c29f6786",
       "version_major": 2,
       "version_minor": 0
      },
      "text/plain": [
       "special_tokens_map.json:   0%|          | 0.00/459 [00:00<?, ?B/s]"
      ]
     },
     "metadata": {},
     "output_type": "display_data"
    },
    {
     "data": {
      "application/vnd.jupyter.widget-view+json": {
       "model_id": "fc4c598031dc4346bff12276f24517de",
       "version_major": 2,
       "version_minor": 0
      },
      "text/plain": [
       "tokenizer.json:   0%|          | 0.00/17.2M [00:00<?, ?B/s]"
      ]
     },
     "metadata": {},
     "output_type": "display_data"
    },
    {
     "data": {
      "application/vnd.jupyter.widget-view+json": {
       "model_id": "8877c9f285c04096bac9f830a393a546",
       "version_major": 2,
       "version_minor": 0
      },
      "text/plain": [
       "tokenizer_config.json:   0%|          | 0.00/50.6k [00:00<?, ?B/s]"
      ]
     },
     "metadata": {},
     "output_type": "display_data"
    },
    {
     "data": {
      "application/vnd.jupyter.widget-view+json": {
       "model_id": "7c7269804f144c7c95b4d8933c198fb0",
       "version_major": 2,
       "version_minor": 0
      },
      "text/plain": [
       "trainer_state.json:   0%|          | 0.00/48.9k [00:00<?, ?B/s]"
      ]
     },
     "metadata": {},
     "output_type": "display_data"
    },
    {
     "data": {
      "application/vnd.jupyter.widget-view+json": {
       "model_id": "b0b5c5589c4a434789ad74a9c42a4d08",
       "version_major": 2,
       "version_minor": 0
      },
      "text/plain": [
       "training_args.bin:   0%|          | 0.00/5.75k [00:00<?, ?B/s]"
      ]
     },
     "metadata": {},
     "output_type": "display_data"
    },
    {
     "data": {
      "application/vnd.jupyter.widget-view+json": {
       "model_id": "940fd2b760424204826886d7a5c87806",
       "version_major": 2,
       "version_minor": 0
      },
      "text/plain": [
       "README.md:   0%|          | 0.00/5.12k [00:00<?, ?B/s]"
      ]
     },
     "metadata": {},
     "output_type": "display_data"
    },
    {
     "data": {
      "application/vnd.jupyter.widget-view+json": {
       "model_id": "d64a829fe6e744b48ce3b31ab597d7b2",
       "version_major": 2,
       "version_minor": 0
      },
      "text/plain": [
       "adapter_config.json:   0%|          | 0.00/812 [00:00<?, ?B/s]"
      ]
     },
     "metadata": {},
     "output_type": "display_data"
    },
    {
     "data": {
      "application/vnd.jupyter.widget-view+json": {
       "model_id": "dfadfbe1bde74f43877fb13e469ae12b",
       "version_major": 2,
       "version_minor": 0
      },
      "text/plain": [
       "adapter_model.safetensors:   0%|          | 0.00/83.9M [00:00<?, ?B/s]"
      ]
     },
     "metadata": {},
     "output_type": "display_data"
    },
    {
     "data": {
      "application/vnd.jupyter.widget-view+json": {
       "model_id": "0794abe972e349a584405849101eca92",
       "version_major": 2,
       "version_minor": 0
      },
      "text/plain": [
       "optimizer.pt:   0%|          | 0.00/44.3M [00:00<?, ?B/s]"
      ]
     },
     "metadata": {},
     "output_type": "display_data"
    },
    {
     "data": {
      "application/vnd.jupyter.widget-view+json": {
       "model_id": "89a1fb3d9b7e40e2a7e09ad0b82aca0b",
       "version_major": 2,
       "version_minor": 0
      },
      "text/plain": [
       "rng_state.pth:   0%|          | 0.00/14.2k [00:00<?, ?B/s]"
      ]
     },
     "metadata": {},
     "output_type": "display_data"
    },
    {
     "data": {
      "application/vnd.jupyter.widget-view+json": {
       "model_id": "ac82424fe48d40b098d5cfb36da2ce5d",
       "version_major": 2,
       "version_minor": 0
      },
      "text/plain": [
       "scheduler.pt:   0%|          | 0.00/1.06k [00:00<?, ?B/s]"
      ]
     },
     "metadata": {},
     "output_type": "display_data"
    },
    {
     "data": {
      "application/vnd.jupyter.widget-view+json": {
       "model_id": "236784d038a0469eaf7414390d73de32",
       "version_major": 2,
       "version_minor": 0
      },
      "text/plain": [
       "special_tokens_map.json:   0%|          | 0.00/459 [00:00<?, ?B/s]"
      ]
     },
     "metadata": {},
     "output_type": "display_data"
    },
    {
     "data": {
      "application/vnd.jupyter.widget-view+json": {
       "model_id": "f2de36b6477546c2a99aca9f2c12a034",
       "version_major": 2,
       "version_minor": 0
      },
      "text/plain": [
       "tokenizer.json:   0%|          | 0.00/17.2M [00:00<?, ?B/s]"
      ]
     },
     "metadata": {},
     "output_type": "display_data"
    },
    {
     "data": {
      "application/vnd.jupyter.widget-view+json": {
       "model_id": "605f0225c57949c0b11da633189f7c97",
       "version_major": 2,
       "version_minor": 0
      },
      "text/plain": [
       "tokenizer_config.json:   0%|          | 0.00/50.6k [00:00<?, ?B/s]"
      ]
     },
     "metadata": {},
     "output_type": "display_data"
    },
    {
     "data": {
      "application/vnd.jupyter.widget-view+json": {
       "model_id": "e9fc9e5b74394290b68c859d7b3add08",
       "version_major": 2,
       "version_minor": 0
      },
      "text/plain": [
       "trainer_state.json:   0%|          | 0.00/65.0k [00:00<?, ?B/s]"
      ]
     },
     "metadata": {},
     "output_type": "display_data"
    },
    {
     "data": {
      "application/vnd.jupyter.widget-view+json": {
       "model_id": "b04d2b8252f441fd9215410a34383f92",
       "version_major": 2,
       "version_minor": 0
      },
      "text/plain": [
       "training_args.bin:   0%|          | 0.00/5.75k [00:00<?, ?B/s]"
      ]
     },
     "metadata": {},
     "output_type": "display_data"
    },
    {
     "data": {
      "application/vnd.jupyter.widget-view+json": {
       "model_id": "67945adae9a74ecfb8e7a36d4d6be5f1",
       "version_major": 2,
       "version_minor": 0
      },
      "text/plain": [
       "README.md:   0%|          | 0.00/5.12k [00:00<?, ?B/s]"
      ]
     },
     "metadata": {},
     "output_type": "display_data"
    },
    {
     "data": {
      "application/vnd.jupyter.widget-view+json": {
       "model_id": "18c7cbe493c5434a9b23a5656cd518fb",
       "version_major": 2,
       "version_minor": 0
      },
      "text/plain": [
       "adapter_config.json:   0%|          | 0.00/812 [00:00<?, ?B/s]"
      ]
     },
     "metadata": {},
     "output_type": "display_data"
    },
    {
     "data": {
      "application/vnd.jupyter.widget-view+json": {
       "model_id": "06b20452a322434f8f118a498a32b848",
       "version_major": 2,
       "version_minor": 0
      },
      "text/plain": [
       "adapter_model.safetensors:   0%|          | 0.00/83.9M [00:00<?, ?B/s]"
      ]
     },
     "metadata": {},
     "output_type": "display_data"
    },
    {
     "data": {
      "application/vnd.jupyter.widget-view+json": {
       "model_id": "139ffd8090294e0baeea4df8b2bb39bd",
       "version_major": 2,
       "version_minor": 0
      },
      "text/plain": [
       "optimizer.pt:   0%|          | 0.00/44.3M [00:00<?, ?B/s]"
      ]
     },
     "metadata": {},
     "output_type": "display_data"
    },
    {
     "data": {
      "application/vnd.jupyter.widget-view+json": {
       "model_id": "ff724e4ca03648f9962526e4377f7c34",
       "version_major": 2,
       "version_minor": 0
      },
      "text/plain": [
       "rng_state.pth:   0%|          | 0.00/14.2k [00:00<?, ?B/s]"
      ]
     },
     "metadata": {},
     "output_type": "display_data"
    },
    {
     "data": {
      "application/vnd.jupyter.widget-view+json": {
       "model_id": "a48bdda71a60475d90db1c10da29e321",
       "version_major": 2,
       "version_minor": 0
      },
      "text/plain": [
       "scheduler.pt:   0%|          | 0.00/1.06k [00:00<?, ?B/s]"
      ]
     },
     "metadata": {},
     "output_type": "display_data"
    },
    {
     "data": {
      "application/vnd.jupyter.widget-view+json": {
       "model_id": "456cc44634d94461a735c5e70d0f11e4",
       "version_major": 2,
       "version_minor": 0
      },
      "text/plain": [
       "special_tokens_map.json:   0%|          | 0.00/459 [00:00<?, ?B/s]"
      ]
     },
     "metadata": {},
     "output_type": "display_data"
    },
    {
     "data": {
      "application/vnd.jupyter.widget-view+json": {
       "model_id": "408df15ecc7a4e04947086c288ea0e57",
       "version_major": 2,
       "version_minor": 0
      },
      "text/plain": [
       "tokenizer.json:   0%|          | 0.00/17.2M [00:00<?, ?B/s]"
      ]
     },
     "metadata": {},
     "output_type": "display_data"
    },
    {
     "data": {
      "application/vnd.jupyter.widget-view+json": {
       "model_id": "c7821c6fa4c84ec9a47852abdd14156d",
       "version_major": 2,
       "version_minor": 0
      },
      "text/plain": [
       "tokenizer_config.json:   0%|          | 0.00/50.6k [00:00<?, ?B/s]"
      ]
     },
     "metadata": {},
     "output_type": "display_data"
    },
    {
     "data": {
      "application/vnd.jupyter.widget-view+json": {
       "model_id": "017cde0010a14b3a800139d9cf948478",
       "version_major": 2,
       "version_minor": 0
      },
      "text/plain": [
       "trainer_state.json:   0%|          | 0.00/81.4k [00:00<?, ?B/s]"
      ]
     },
     "metadata": {},
     "output_type": "display_data"
    },
    {
     "data": {
      "application/vnd.jupyter.widget-view+json": {
       "model_id": "1fbff3aee8ef4d31b0e9ce0d259af42f",
       "version_major": 2,
       "version_minor": 0
      },
      "text/plain": [
       "training_args.bin:   0%|          | 0.00/5.75k [00:00<?, ?B/s]"
      ]
     },
     "metadata": {},
     "output_type": "display_data"
    },
    {
     "data": {
      "application/vnd.jupyter.widget-view+json": {
       "model_id": "a3495741baed45d9ab9ab4a247d7888f",
       "version_major": 2,
       "version_minor": 0
      },
      "text/plain": [
       "README.md:   0%|          | 0.00/5.12k [00:00<?, ?B/s]"
      ]
     },
     "metadata": {},
     "output_type": "display_data"
    },
    {
     "data": {
      "application/vnd.jupyter.widget-view+json": {
       "model_id": "f356582bef504e1d980479dbd6413493",
       "version_major": 2,
       "version_minor": 0
      },
      "text/plain": [
       "adapter_config.json:   0%|          | 0.00/812 [00:00<?, ?B/s]"
      ]
     },
     "metadata": {},
     "output_type": "display_data"
    },
    {
     "data": {
      "application/vnd.jupyter.widget-view+json": {
       "model_id": "b8feace0dcc540d5a5b97d5174d1d2be",
       "version_major": 2,
       "version_minor": 0
      },
      "text/plain": [
       "adapter_model.safetensors:   0%|          | 0.00/83.9M [00:00<?, ?B/s]"
      ]
     },
     "metadata": {},
     "output_type": "display_data"
    },
    {
     "data": {
      "application/vnd.jupyter.widget-view+json": {
       "model_id": "d0bb6f4f38ff446d9ff7662b49f2f0e3",
       "version_major": 2,
       "version_minor": 0
      },
      "text/plain": [
       "optimizer.pt:   0%|          | 0.00/44.3M [00:00<?, ?B/s]"
      ]
     },
     "metadata": {},
     "output_type": "display_data"
    },
    {
     "data": {
      "application/vnd.jupyter.widget-view+json": {
       "model_id": "13251fcdc7a5475b88b95503b964e152",
       "version_major": 2,
       "version_minor": 0
      },
      "text/plain": [
       "rng_state.pth:   0%|          | 0.00/14.2k [00:00<?, ?B/s]"
      ]
     },
     "metadata": {},
     "output_type": "display_data"
    },
    {
     "data": {
      "application/vnd.jupyter.widget-view+json": {
       "model_id": "db82ac370c1444bca65a600ad6d803fc",
       "version_major": 2,
       "version_minor": 0
      },
      "text/plain": [
       "scheduler.pt:   0%|          | 0.00/1.06k [00:00<?, ?B/s]"
      ]
     },
     "metadata": {},
     "output_type": "display_data"
    },
    {
     "data": {
      "application/vnd.jupyter.widget-view+json": {
       "model_id": "5357c7f0570747bdb0e6103127538522",
       "version_major": 2,
       "version_minor": 0
      },
      "text/plain": [
       "special_tokens_map.json:   0%|          | 0.00/459 [00:00<?, ?B/s]"
      ]
     },
     "metadata": {},
     "output_type": "display_data"
    },
    {
     "data": {
      "application/vnd.jupyter.widget-view+json": {
       "model_id": "d0d5281480e54fa59fa394a5bde966ea",
       "version_major": 2,
       "version_minor": 0
      },
      "text/plain": [
       "tokenizer.json:   0%|          | 0.00/17.2M [00:00<?, ?B/s]"
      ]
     },
     "metadata": {},
     "output_type": "display_data"
    },
    {
     "data": {
      "application/vnd.jupyter.widget-view+json": {
       "model_id": "345ae8ee7a0c439aa4fc3cb9673b1b6b",
       "version_major": 2,
       "version_minor": 0
      },
      "text/plain": [
       "tokenizer_config.json:   0%|          | 0.00/50.6k [00:00<?, ?B/s]"
      ]
     },
     "metadata": {},
     "output_type": "display_data"
    },
    {
     "data": {
      "application/vnd.jupyter.widget-view+json": {
       "model_id": "1d283f609fed47f0ac4f706dd91c92c3",
       "version_major": 2,
       "version_minor": 0
      },
      "text/plain": [
       "trainer_state.json:   0%|          | 0.00/97.5k [00:00<?, ?B/s]"
      ]
     },
     "metadata": {},
     "output_type": "display_data"
    },
    {
     "data": {
      "application/vnd.jupyter.widget-view+json": {
       "model_id": "38568f8d7c37406dbc8f03f72338651e",
       "version_major": 2,
       "version_minor": 0
      },
      "text/plain": [
       "training_args.bin:   0%|          | 0.00/5.75k [00:00<?, ?B/s]"
      ]
     },
     "metadata": {},
     "output_type": "display_data"
    },
    {
     "data": {
      "application/vnd.jupyter.widget-view+json": {
       "model_id": "90727bc04215458cafde270ad98c7fc3",
       "version_major": 2,
       "version_minor": 0
      },
      "text/plain": [
       "README.md:   0%|          | 0.00/5.12k [00:00<?, ?B/s]"
      ]
     },
     "metadata": {},
     "output_type": "display_data"
    },
    {
     "data": {
      "application/vnd.jupyter.widget-view+json": {
       "model_id": "5027654dcc6a4e64b0e7d576790280a3",
       "version_major": 2,
       "version_minor": 0
      },
      "text/plain": [
       "adapter_config.json:   0%|          | 0.00/812 [00:00<?, ?B/s]"
      ]
     },
     "metadata": {},
     "output_type": "display_data"
    },
    {
     "data": {
      "application/vnd.jupyter.widget-view+json": {
       "model_id": "804a12073d9a48e5a5c6c51caf79eb1b",
       "version_major": 2,
       "version_minor": 0
      },
      "text/plain": [
       "adapter_model.safetensors:   0%|          | 0.00/83.9M [00:00<?, ?B/s]"
      ]
     },
     "metadata": {},
     "output_type": "display_data"
    },
    {
     "data": {
      "application/vnd.jupyter.widget-view+json": {
       "model_id": "bdb247e040204968aa01a7a4bac751fb",
       "version_major": 2,
       "version_minor": 0
      },
      "text/plain": [
       "optimizer.pt:   0%|          | 0.00/44.3M [00:00<?, ?B/s]"
      ]
     },
     "metadata": {},
     "output_type": "display_data"
    },
    {
     "data": {
      "application/vnd.jupyter.widget-view+json": {
       "model_id": "a89b437aada54293b0178feb4c237d26",
       "version_major": 2,
       "version_minor": 0
      },
      "text/plain": [
       "rng_state.pth:   0%|          | 0.00/14.2k [00:00<?, ?B/s]"
      ]
     },
     "metadata": {},
     "output_type": "display_data"
    },
    {
     "data": {
      "application/vnd.jupyter.widget-view+json": {
       "model_id": "cffcb50d79dd4624b2e638ec825fc1a6",
       "version_major": 2,
       "version_minor": 0
      },
      "text/plain": [
       "scheduler.pt:   0%|          | 0.00/1.06k [00:00<?, ?B/s]"
      ]
     },
     "metadata": {},
     "output_type": "display_data"
    },
    {
     "data": {
      "application/vnd.jupyter.widget-view+json": {
       "model_id": "027810aee04840aeb74487d30bf6452a",
       "version_major": 2,
       "version_minor": 0
      },
      "text/plain": [
       "special_tokens_map.json:   0%|          | 0.00/459 [00:00<?, ?B/s]"
      ]
     },
     "metadata": {},
     "output_type": "display_data"
    },
    {
     "data": {
      "application/vnd.jupyter.widget-view+json": {
       "model_id": "c0f8444fa0104589aa37305c93630a96",
       "version_major": 2,
       "version_minor": 0
      },
      "text/plain": [
       "tokenizer.json:   0%|          | 0.00/17.2M [00:00<?, ?B/s]"
      ]
     },
     "metadata": {},
     "output_type": "display_data"
    },
    {
     "data": {
      "application/vnd.jupyter.widget-view+json": {
       "model_id": "fd73843a32da4edbb3c1ef70cd2d4585",
       "version_major": 2,
       "version_minor": 0
      },
      "text/plain": [
       "tokenizer_config.json:   0%|          | 0.00/50.6k [00:00<?, ?B/s]"
      ]
     },
     "metadata": {},
     "output_type": "display_data"
    },
    {
     "data": {
      "application/vnd.jupyter.widget-view+json": {
       "model_id": "1ab96c3ea67c4bc8bb349a7658ba8869",
       "version_major": 2,
       "version_minor": 0
      },
      "text/plain": [
       "trainer_state.json:   0%|          | 0.00/114k [00:00<?, ?B/s]"
      ]
     },
     "metadata": {},
     "output_type": "display_data"
    },
    {
     "data": {
      "application/vnd.jupyter.widget-view+json": {
       "model_id": "5074c810befe4bd99a59c457c8f14aa9",
       "version_major": 2,
       "version_minor": 0
      },
      "text/plain": [
       "training_args.bin:   0%|          | 0.00/5.75k [00:00<?, ?B/s]"
      ]
     },
     "metadata": {},
     "output_type": "display_data"
    },
    {
     "data": {
      "application/vnd.jupyter.widget-view+json": {
       "model_id": "f706b7acfb074f8586c95b843765b71d",
       "version_major": 2,
       "version_minor": 0
      },
      "text/plain": [
       "README.md:   0%|          | 0.00/5.12k [00:00<?, ?B/s]"
      ]
     },
     "metadata": {},
     "output_type": "display_data"
    },
    {
     "data": {
      "application/vnd.jupyter.widget-view+json": {
       "model_id": "54e7ff81ae7749a5ba9fe574759b2f65",
       "version_major": 2,
       "version_minor": 0
      },
      "text/plain": [
       "adapter_config.json:   0%|          | 0.00/812 [00:00<?, ?B/s]"
      ]
     },
     "metadata": {},
     "output_type": "display_data"
    },
    {
     "data": {
      "application/vnd.jupyter.widget-view+json": {
       "model_id": "b21885b8f7984522840cc9a6d2451bd8",
       "version_major": 2,
       "version_minor": 0
      },
      "text/plain": [
       "adapter_model.safetensors:   0%|          | 0.00/83.9M [00:00<?, ?B/s]"
      ]
     },
     "metadata": {},
     "output_type": "display_data"
    },
    {
     "data": {
      "application/vnd.jupyter.widget-view+json": {
       "model_id": "6ca054a8f3394e34b0fba8d2a5ff9abc",
       "version_major": 2,
       "version_minor": 0
      },
      "text/plain": [
       "optimizer.pt:   0%|          | 0.00/44.3M [00:00<?, ?B/s]"
      ]
     },
     "metadata": {},
     "output_type": "display_data"
    },
    {
     "data": {
      "application/vnd.jupyter.widget-view+json": {
       "model_id": "8b5c06746ba94ea0afe43210b0251dce",
       "version_major": 2,
       "version_minor": 0
      },
      "text/plain": [
       "rng_state.pth:   0%|          | 0.00/14.2k [00:00<?, ?B/s]"
      ]
     },
     "metadata": {},
     "output_type": "display_data"
    },
    {
     "data": {
      "application/vnd.jupyter.widget-view+json": {
       "model_id": "ede0aa7247ad403aa14179bbffca99aa",
       "version_major": 2,
       "version_minor": 0
      },
      "text/plain": [
       "scheduler.pt:   0%|          | 0.00/1.06k [00:00<?, ?B/s]"
      ]
     },
     "metadata": {},
     "output_type": "display_data"
    },
    {
     "data": {
      "application/vnd.jupyter.widget-view+json": {
       "model_id": "bf449c44ef514308af586fbacbb508c7",
       "version_major": 2,
       "version_minor": 0
      },
      "text/plain": [
       "special_tokens_map.json:   0%|          | 0.00/459 [00:00<?, ?B/s]"
      ]
     },
     "metadata": {},
     "output_type": "display_data"
    },
    {
     "data": {
      "application/vnd.jupyter.widget-view+json": {
       "model_id": "eebf16fe4cb0422082359b001ee6ab0f",
       "version_major": 2,
       "version_minor": 0
      },
      "text/plain": [
       "tokenizer.json:   0%|          | 0.00/17.2M [00:00<?, ?B/s]"
      ]
     },
     "metadata": {},
     "output_type": "display_data"
    },
    {
     "data": {
      "application/vnd.jupyter.widget-view+json": {
       "model_id": "f91b5b5cb5134aa3958179b77223a5bc",
       "version_major": 2,
       "version_minor": 0
      },
      "text/plain": [
       "tokenizer_config.json:   0%|          | 0.00/50.6k [00:00<?, ?B/s]"
      ]
     },
     "metadata": {},
     "output_type": "display_data"
    },
    {
     "data": {
      "application/vnd.jupyter.widget-view+json": {
       "model_id": "fd47958c465b4bf2bb14638550d8c104",
       "version_major": 2,
       "version_minor": 0
      },
      "text/plain": [
       "trainer_state.json:   0%|          | 0.00/122k [00:00<?, ?B/s]"
      ]
     },
     "metadata": {},
     "output_type": "display_data"
    },
    {
     "data": {
      "application/vnd.jupyter.widget-view+json": {
       "model_id": "60031ea788064012b5911f77b258b3f4",
       "version_major": 2,
       "version_minor": 0
      },
      "text/plain": [
       "training_args.bin:   0%|          | 0.00/5.75k [00:00<?, ?B/s]"
      ]
     },
     "metadata": {},
     "output_type": "display_data"
    },
    {
     "data": {
      "application/vnd.jupyter.widget-view+json": {
       "model_id": "7d571754cd444adc97eba9730b817bee",
       "version_major": 2,
       "version_minor": 0
      },
      "text/plain": [
       "(…).tfevents.1741182714.5172c9540b89.8159.0:   0%|          | 0.00/50.1k [00:00<?, ?B/s]"
      ]
     },
     "metadata": {},
     "output_type": "display_data"
    },
    {
     "data": {
      "application/vnd.jupyter.widget-view+json": {
       "model_id": "929e896a89f6479bb4c3f61c2a7a2996",
       "version_major": 2,
       "version_minor": 0
      },
      "text/plain": [
       "(…).tfevents.1741192136.40cd2355fd32.1061.0:   0%|          | 0.00/29.5k [00:00<?, ?B/s]"
      ]
     },
     "metadata": {},
     "output_type": "display_data"
    },
    {
     "data": {
      "application/vnd.jupyter.widget-view+json": {
       "model_id": "6621a078b4c2466e9413631eac10cd39",
       "version_major": 2,
       "version_minor": 0
      },
      "text/plain": [
       "(…).tfevents.1741219006.8da8ca61af90.1084.0:   0%|          | 0.00/29.5k [00:00<?, ?B/s]"
      ]
     },
     "metadata": {},
     "output_type": "display_data"
    },
    {
     "data": {
      "application/vnd.jupyter.widget-view+json": {
       "model_id": "d907d8b1c9bf420283fbd5d87ac9aab2",
       "version_major": 2,
       "version_minor": 0
      },
      "text/plain": [
       "(…).tfevents.1741232833.506a328f2d3f.1088.0:   0%|          | 0.00/74.1k [00:00<?, ?B/s]"
      ]
     },
     "metadata": {},
     "output_type": "display_data"
    },
    {
     "data": {
      "application/vnd.jupyter.widget-view+json": {
       "model_id": "0bb3c408695a4354a6ce828c6f2e4dbf",
       "version_major": 2,
       "version_minor": 0
      },
      "text/plain": [
       "special_tokens_map.json:   0%|          | 0.00/459 [00:00<?, ?B/s]"
      ]
     },
     "metadata": {},
     "output_type": "display_data"
    },
    {
     "data": {
      "application/vnd.jupyter.widget-view+json": {
       "model_id": "679aaed1675d414f9f00d8d27a1dfa87",
       "version_major": 2,
       "version_minor": 0
      },
      "text/plain": [
       "tokenizer.json:   0%|          | 0.00/17.2M [00:00<?, ?B/s]"
      ]
     },
     "metadata": {},
     "output_type": "display_data"
    },
    {
     "data": {
      "application/vnd.jupyter.widget-view+json": {
       "model_id": "83d8eafe35ea40a99ddefe4e96d17987",
       "version_major": 2,
       "version_minor": 0
      },
      "text/plain": [
       "tokenizer_config.json:   0%|          | 0.00/50.6k [00:00<?, ?B/s]"
      ]
     },
     "metadata": {},
     "output_type": "display_data"
    },
    {
     "data": {
      "application/vnd.jupyter.widget-view+json": {
       "model_id": "1da9815a967c4be98fbca5dbcec672ac",
       "version_major": 2,
       "version_minor": 0
      },
      "text/plain": [
       "training_args.bin:   0%|          | 0.00/5.75k [00:00<?, ?B/s]"
      ]
     },
     "metadata": {},
     "output_type": "display_data"
    },
    {
     "data": {
      "application/vnd.google.colaboratory.intrinsic+json": {
       "type": "string"
      },
      "text/plain": [
       "'/content/L3.1-8B-wikipedia-en-LoRA-v20250305134947'"
      ]
     },
     "execution_count": 5,
     "metadata": {},
     "output_type": "execute_result"
    }
   ],
   "source": [
    "# Download trained LoRA\n",
    "snapshot_download(\n",
    "    repo_id=hf_lora_id, \n",
    "    local_dir=lora_dir, \n",
    "    # ignore_patterns='checkpoint-*/*',\n",
    ")"
   ]
  },
  {
   "cell_type": "markdown",
   "metadata": {},
   "source": [
    "# Model"
   ]
  },
  {
   "cell_type": "code",
   "execution_count": 4,
   "metadata": {},
   "outputs": [
    {
     "name": "stdout",
     "output_type": "stream",
     "text": [
      "==((====))==  Unsloth 2025.3.15: Fast Llama patching. Transformers: 4.48.3.\n",
      "   \\\\   /|    Tesla T4. Num GPUs = 1. Max memory: 14.741 GB. Platform: Linux.\n",
      "O^O/ \\_/ \\    Torch: 2.6.0+cu124. CUDA: 7.5. CUDA Toolkit: 12.4. Triton: 3.2.0\n",
      "\\        /    Bfloat16 = FALSE. FA [Xformers = None. FA2 = False]\n",
      " \"-____-\"     Free license: http://github.com/unslothai/unsloth\n",
      "Unsloth: Fast downloading is enabled - ignore downloading bars which are red colored!\n",
      "LlamaForCausalLM(\n",
      "  (model): LlamaModel(\n",
      "    (embed_tokens): Embedding(128256, 4096, padding_idx=128004)\n",
      "    (layers): ModuleList(\n",
      "      (0): LlamaDecoderLayer(\n",
      "        (self_attn): LlamaAttention(\n",
      "          (q_proj): Linear4bit(in_features=4096, out_features=4096, bias=False)\n",
      "          (k_proj): Linear4bit(in_features=4096, out_features=1024, bias=False)\n",
      "          (v_proj): Linear4bit(in_features=4096, out_features=1024, bias=False)\n",
      "          (o_proj): Linear4bit(in_features=4096, out_features=4096, bias=False)\n",
      "          (rotary_emb): LlamaRotaryEmbedding()\n",
      "        )\n",
      "        (mlp): LlamaMLP(\n",
      "          (gate_proj): Linear4bit(in_features=4096, out_features=14336, bias=False)\n",
      "          (up_proj): Linear4bit(in_features=4096, out_features=14336, bias=False)\n",
      "          (down_proj): Linear4bit(in_features=14336, out_features=4096, bias=False)\n",
      "          (act_fn): SiLU()\n",
      "        )\n",
      "        (input_layernorm): LlamaRMSNorm((4096,), eps=1e-05)\n",
      "        (post_attention_layernorm): LlamaRMSNorm((4096,), eps=1e-05)\n",
      "      )\n",
      "      (1): LlamaDecoderLayer(\n",
      "        (self_attn): LlamaAttention(\n",
      "          (q_proj): Linear4bit(in_features=4096, out_features=4096, bias=False)\n",
      "          (k_proj): Linear4bit(in_features=4096, out_features=1024, bias=False)\n",
      "          (v_proj): Linear4bit(in_features=4096, out_features=1024, bias=False)\n",
      "          (o_proj): Linear4bit(in_features=4096, out_features=4096, bias=False)\n",
      "          (rotary_emb): LlamaRotaryEmbedding()\n",
      "        )\n",
      "        (mlp): LlamaMLP(\n",
      "          (gate_proj): Linear(in_features=4096, out_features=14336, bias=False)\n",
      "          (up_proj): Linear(in_features=4096, out_features=14336, bias=False)\n",
      "          (down_proj): Linear(in_features=14336, out_features=4096, bias=False)\n",
      "          (act_fn): SiLU()\n",
      "        )\n",
      "        (input_layernorm): LlamaRMSNorm((4096,), eps=1e-05)\n",
      "        (post_attention_layernorm): LlamaRMSNorm((4096,), eps=1e-05)\n",
      "      )\n",
      "      (2-31): 30 x LlamaDecoderLayer(\n",
      "        (self_attn): LlamaAttention(\n",
      "          (q_proj): Linear4bit(in_features=4096, out_features=4096, bias=False)\n",
      "          (k_proj): Linear4bit(in_features=4096, out_features=1024, bias=False)\n",
      "          (v_proj): Linear4bit(in_features=4096, out_features=1024, bias=False)\n",
      "          (o_proj): Linear4bit(in_features=4096, out_features=4096, bias=False)\n",
      "          (rotary_emb): LlamaRotaryEmbedding()\n",
      "        )\n",
      "        (mlp): LlamaMLP(\n",
      "          (gate_proj): Linear4bit(in_features=4096, out_features=14336, bias=False)\n",
      "          (up_proj): Linear4bit(in_features=4096, out_features=14336, bias=False)\n",
      "          (down_proj): Linear4bit(in_features=14336, out_features=4096, bias=False)\n",
      "          (act_fn): SiLU()\n",
      "        )\n",
      "        (input_layernorm): LlamaRMSNorm((4096,), eps=1e-05)\n",
      "        (post_attention_layernorm): LlamaRMSNorm((4096,), eps=1e-05)\n",
      "      )\n",
      "    )\n",
      "    (norm): LlamaRMSNorm((4096,), eps=1e-05)\n",
      "    (rotary_emb): LlamaRotaryEmbedding()\n",
      "  )\n",
      "  (lm_head): Linear(in_features=4096, out_features=128256, bias=False)\n",
      ")\n"
     ]
    }
   ],
   "source": [
    "base_model, tokenizer = FastLanguageModel.from_pretrained(\n",
    "    model_name='unsloth/Meta-Llama-3.1-8B',\n",
    "    max_seq_length=max_seq_length,\n",
    "    dtype=dtype,\n",
    "    load_in_4bit=load_in_4bit,\n",
    ")\n",
    "print(base_model)"
   ]
  },
  {
   "cell_type": "code",
   "execution_count": 5,
   "metadata": {},
   "outputs": [],
   "source": [
    "base_model_copy = deepcopy(base_model)"
   ]
  },
  {
   "cell_type": "code",
   "execution_count": 6,
   "metadata": {},
   "outputs": [
    {
     "name": "stdout",
     "output_type": "stream",
     "text": [
      "{'_custom_modules': None,\n",
      " 'alpha_pattern': {},\n",
      " 'auto_mapping': None,\n",
      " 'base_model_name_or_path': 'unsloth/meta-llama-3.1-8b-unsloth-bnb-4bit',\n",
      " 'bias': 'none',\n",
      " 'eva_config': None,\n",
      " 'exclude_modules': None,\n",
      " 'fan_in_fan_out': False,\n",
      " 'inference_mode': True,\n",
      " 'init_lora_weights': True,\n",
      " 'layer_replication': None,\n",
      " 'layers_pattern': None,\n",
      " 'layers_to_transform': None,\n",
      " 'loftq_config': {},\n",
      " 'lora_alpha': 16,\n",
      " 'lora_bias': False,\n",
      " 'lora_dropout': 0,\n",
      " 'megatron_config': None,\n",
      " 'megatron_core': 'megatron.core',\n",
      " 'modules_to_save': None,\n",
      " 'peft_type': <PeftType.LORA: 'LORA'>,\n",
      " 'r': 8,\n",
      " 'rank_pattern': {},\n",
      " 'revision': None,\n",
      " 'runtime_config': LoraRuntimeConfig(ephemeral_gpu_offload=False),\n",
      " 'target_modules': {'down_proj',\n",
      "                    'gate_proj',\n",
      "                    'k_proj',\n",
      "                    'o_proj',\n",
      "                    'q_proj',\n",
      "                    'up_proj',\n",
      "                    'v_proj'},\n",
      " 'task_type': 'CAUSAL_LM',\n",
      " 'use_dora': False,\n",
      " 'use_rslora': False}\n"
     ]
    }
   ],
   "source": [
    "lora_config = LoraConfig.from_pretrained(lora_dir)\n",
    "pprint(lora_config.__dict__)"
   ]
  },
  {
   "cell_type": "code",
   "execution_count": 7,
   "metadata": {},
   "outputs": [
    {
     "name": "stdout",
     "output_type": "stream",
     "text": [
      "NeroModel(\n",
      "  (base_model): LlamaForCausalLM(\n",
      "    (model): LlamaModel(\n",
      "      (embed_tokens): Embedding(128256, 4096, padding_idx=128004)\n",
      "      (layers): ModuleList(\n",
      "        (0): LlamaDecoderLayer(\n",
      "          (self_attn): LlamaAttention(\n",
      "            (q_proj): NeroLayer(\n",
      "              (base_layer): Linear4bit(in_features=4096, out_features=4096, bias=False)\n",
      "              (lora_A): Linear(in_features=4096, out_features=8, bias=False)\n",
      "              (lora_B): Linear(in_features=8, out_features=4096, bias=False)\n",
      "              (nero_A): Linear(in_features=4096, out_features=8, bias=True)\n",
      "              (nero_B): Linear(in_features=8, out_features=4096, bias=True)\n",
      "            )\n",
      "            (k_proj): NeroLayer(\n",
      "              (base_layer): Linear4bit(in_features=4096, out_features=1024, bias=False)\n",
      "              (lora_A): Linear(in_features=4096, out_features=8, bias=False)\n",
      "              (lora_B): Linear(in_features=8, out_features=1024, bias=False)\n",
      "              (nero_A): Linear(in_features=1024, out_features=8, bias=True)\n",
      "              (nero_B): Linear(in_features=8, out_features=1024, bias=True)\n",
      "            )\n",
      "            (v_proj): NeroLayer(\n",
      "              (base_layer): Linear4bit(in_features=4096, out_features=1024, bias=False)\n",
      "              (lora_A): Linear(in_features=4096, out_features=8, bias=False)\n",
      "              (lora_B): Linear(in_features=8, out_features=1024, bias=False)\n",
      "              (nero_A): Linear(in_features=1024, out_features=8, bias=True)\n",
      "              (nero_B): Linear(in_features=8, out_features=1024, bias=True)\n",
      "            )\n",
      "            (o_proj): NeroLayer(\n",
      "              (base_layer): Linear4bit(in_features=4096, out_features=4096, bias=False)\n",
      "              (lora_A): Linear(in_features=4096, out_features=8, bias=False)\n",
      "              (lora_B): Linear(in_features=8, out_features=4096, bias=False)\n",
      "              (nero_A): Linear(in_features=4096, out_features=8, bias=True)\n",
      "              (nero_B): Linear(in_features=8, out_features=4096, bias=True)\n",
      "            )\n",
      "            (rotary_emb): LlamaRotaryEmbedding()\n",
      "          )\n",
      "          (mlp): LlamaMLP(\n",
      "            (gate_proj): NeroLayer(\n",
      "              (base_layer): Linear4bit(in_features=4096, out_features=14336, bias=False)\n",
      "              (lora_A): Linear(in_features=4096, out_features=8, bias=False)\n",
      "              (lora_B): Linear(in_features=8, out_features=14336, bias=False)\n",
      "              (nero_A): Linear(in_features=14336, out_features=8, bias=True)\n",
      "              (nero_B): Linear(in_features=8, out_features=14336, bias=True)\n",
      "            )\n",
      "            (up_proj): NeroLayer(\n",
      "              (base_layer): Linear4bit(in_features=4096, out_features=14336, bias=False)\n",
      "              (lora_A): Linear(in_features=4096, out_features=8, bias=False)\n",
      "              (lora_B): Linear(in_features=8, out_features=14336, bias=False)\n",
      "              (nero_A): Linear(in_features=14336, out_features=8, bias=True)\n",
      "              (nero_B): Linear(in_features=8, out_features=14336, bias=True)\n",
      "            )\n",
      "            (down_proj): NeroLayer(\n",
      "              (base_layer): Linear4bit(in_features=14336, out_features=4096, bias=False)\n",
      "              (lora_A): Linear(in_features=14336, out_features=8, bias=False)\n",
      "              (lora_B): Linear(in_features=8, out_features=4096, bias=False)\n",
      "              (nero_A): Linear(in_features=4096, out_features=8, bias=True)\n",
      "              (nero_B): Linear(in_features=8, out_features=4096, bias=True)\n",
      "            )\n",
      "            (act_fn): SiLU()\n",
      "          )\n",
      "          (input_layernorm): LlamaRMSNorm((4096,), eps=1e-05)\n",
      "          (post_attention_layernorm): LlamaRMSNorm((4096,), eps=1e-05)\n",
      "        )\n",
      "        (1): LlamaDecoderLayer(\n",
      "          (self_attn): LlamaAttention(\n",
      "            (q_proj): NeroLayer(\n",
      "              (base_layer): Linear4bit(in_features=4096, out_features=4096, bias=False)\n",
      "              (lora_A): Linear(in_features=4096, out_features=8, bias=False)\n",
      "              (lora_B): Linear(in_features=8, out_features=4096, bias=False)\n",
      "              (nero_A): Linear(in_features=4096, out_features=8, bias=True)\n",
      "              (nero_B): Linear(in_features=8, out_features=4096, bias=True)\n",
      "            )\n",
      "            (k_proj): NeroLayer(\n",
      "              (base_layer): Linear4bit(in_features=4096, out_features=1024, bias=False)\n",
      "              (lora_A): Linear(in_features=4096, out_features=8, bias=False)\n",
      "              (lora_B): Linear(in_features=8, out_features=1024, bias=False)\n",
      "              (nero_A): Linear(in_features=1024, out_features=8, bias=True)\n",
      "              (nero_B): Linear(in_features=8, out_features=1024, bias=True)\n",
      "            )\n",
      "            (v_proj): NeroLayer(\n",
      "              (base_layer): Linear4bit(in_features=4096, out_features=1024, bias=False)\n",
      "              (lora_A): Linear(in_features=4096, out_features=8, bias=False)\n",
      "              (lora_B): Linear(in_features=8, out_features=1024, bias=False)\n",
      "              (nero_A): Linear(in_features=1024, out_features=8, bias=True)\n",
      "              (nero_B): Linear(in_features=8, out_features=1024, bias=True)\n",
      "            )\n",
      "            (o_proj): NeroLayer(\n",
      "              (base_layer): Linear4bit(in_features=4096, out_features=4096, bias=False)\n",
      "              (lora_A): Linear(in_features=4096, out_features=8, bias=False)\n",
      "              (lora_B): Linear(in_features=8, out_features=4096, bias=False)\n",
      "              (nero_A): Linear(in_features=4096, out_features=8, bias=True)\n",
      "              (nero_B): Linear(in_features=8, out_features=4096, bias=True)\n",
      "            )\n",
      "            (rotary_emb): LlamaRotaryEmbedding()\n",
      "          )\n",
      "          (mlp): LlamaMLP(\n",
      "            (gate_proj): NeroLayer(\n",
      "              (base_layer): Linear(in_features=4096, out_features=14336, bias=False)\n",
      "              (lora_A): Linear(in_features=4096, out_features=8, bias=False)\n",
      "              (lora_B): Linear(in_features=8, out_features=14336, bias=False)\n",
      "              (nero_A): Linear(in_features=14336, out_features=8, bias=True)\n",
      "              (nero_B): Linear(in_features=8, out_features=14336, bias=True)\n",
      "            )\n",
      "            (up_proj): NeroLayer(\n",
      "              (base_layer): Linear(in_features=4096, out_features=14336, bias=False)\n",
      "              (lora_A): Linear(in_features=4096, out_features=8, bias=False)\n",
      "              (lora_B): Linear(in_features=8, out_features=14336, bias=False)\n",
      "              (nero_A): Linear(in_features=14336, out_features=8, bias=True)\n",
      "              (nero_B): Linear(in_features=8, out_features=14336, bias=True)\n",
      "            )\n",
      "            (down_proj): NeroLayer(\n",
      "              (base_layer): Linear(in_features=14336, out_features=4096, bias=False)\n",
      "              (lora_A): Linear(in_features=14336, out_features=8, bias=False)\n",
      "              (lora_B): Linear(in_features=8, out_features=4096, bias=False)\n",
      "              (nero_A): Linear(in_features=4096, out_features=8, bias=True)\n",
      "              (nero_B): Linear(in_features=8, out_features=4096, bias=True)\n",
      "            )\n",
      "            (act_fn): SiLU()\n",
      "          )\n",
      "          (input_layernorm): LlamaRMSNorm((4096,), eps=1e-05)\n",
      "          (post_attention_layernorm): LlamaRMSNorm((4096,), eps=1e-05)\n",
      "        )\n",
      "        (2-31): 30 x LlamaDecoderLayer(\n",
      "          (self_attn): LlamaAttention(\n",
      "            (q_proj): NeroLayer(\n",
      "              (base_layer): Linear4bit(in_features=4096, out_features=4096, bias=False)\n",
      "              (lora_A): Linear(in_features=4096, out_features=8, bias=False)\n",
      "              (lora_B): Linear(in_features=8, out_features=4096, bias=False)\n",
      "              (nero_A): Linear(in_features=4096, out_features=8, bias=True)\n",
      "              (nero_B): Linear(in_features=8, out_features=4096, bias=True)\n",
      "            )\n",
      "            (k_proj): NeroLayer(\n",
      "              (base_layer): Linear4bit(in_features=4096, out_features=1024, bias=False)\n",
      "              (lora_A): Linear(in_features=4096, out_features=8, bias=False)\n",
      "              (lora_B): Linear(in_features=8, out_features=1024, bias=False)\n",
      "              (nero_A): Linear(in_features=1024, out_features=8, bias=True)\n",
      "              (nero_B): Linear(in_features=8, out_features=1024, bias=True)\n",
      "            )\n",
      "            (v_proj): NeroLayer(\n",
      "              (base_layer): Linear4bit(in_features=4096, out_features=1024, bias=False)\n",
      "              (lora_A): Linear(in_features=4096, out_features=8, bias=False)\n",
      "              (lora_B): Linear(in_features=8, out_features=1024, bias=False)\n",
      "              (nero_A): Linear(in_features=1024, out_features=8, bias=True)\n",
      "              (nero_B): Linear(in_features=8, out_features=1024, bias=True)\n",
      "            )\n",
      "            (o_proj): NeroLayer(\n",
      "              (base_layer): Linear4bit(in_features=4096, out_features=4096, bias=False)\n",
      "              (lora_A): Linear(in_features=4096, out_features=8, bias=False)\n",
      "              (lora_B): Linear(in_features=8, out_features=4096, bias=False)\n",
      "              (nero_A): Linear(in_features=4096, out_features=8, bias=True)\n",
      "              (nero_B): Linear(in_features=8, out_features=4096, bias=True)\n",
      "            )\n",
      "            (rotary_emb): LlamaRotaryEmbedding()\n",
      "          )\n",
      "          (mlp): LlamaMLP(\n",
      "            (gate_proj): NeroLayer(\n",
      "              (base_layer): Linear4bit(in_features=4096, out_features=14336, bias=False)\n",
      "              (lora_A): Linear(in_features=4096, out_features=8, bias=False)\n",
      "              (lora_B): Linear(in_features=8, out_features=14336, bias=False)\n",
      "              (nero_A): Linear(in_features=14336, out_features=8, bias=True)\n",
      "              (nero_B): Linear(in_features=8, out_features=14336, bias=True)\n",
      "            )\n",
      "            (up_proj): NeroLayer(\n",
      "              (base_layer): Linear4bit(in_features=4096, out_features=14336, bias=False)\n",
      "              (lora_A): Linear(in_features=4096, out_features=8, bias=False)\n",
      "              (lora_B): Linear(in_features=8, out_features=14336, bias=False)\n",
      "              (nero_A): Linear(in_features=14336, out_features=8, bias=True)\n",
      "              (nero_B): Linear(in_features=8, out_features=14336, bias=True)\n",
      "            )\n",
      "            (down_proj): NeroLayer(\n",
      "              (base_layer): Linear4bit(in_features=14336, out_features=4096, bias=False)\n",
      "              (lora_A): Linear(in_features=14336, out_features=8, bias=False)\n",
      "              (lora_B): Linear(in_features=8, out_features=4096, bias=False)\n",
      "              (nero_A): Linear(in_features=4096, out_features=8, bias=True)\n",
      "              (nero_B): Linear(in_features=8, out_features=4096, bias=True)\n",
      "            )\n",
      "            (act_fn): SiLU()\n",
      "          )\n",
      "          (input_layernorm): LlamaRMSNorm((4096,), eps=1e-05)\n",
      "          (post_attention_layernorm): LlamaRMSNorm((4096,), eps=1e-05)\n",
      "        )\n",
      "      )\n",
      "      (norm): LlamaRMSNorm((4096,), eps=1e-05)\n",
      "      (rotary_emb): LlamaRotaryEmbedding()\n",
      "    )\n",
      "    (lm_head): Linear(in_features=4096, out_features=128256, bias=False)\n",
      "  )\n",
      "  (nero_layers): ModuleDict(\n",
      "    (layers__DOT__0__DOT__self_attn__DOT__q_proj): NeroLayer(\n",
      "      (base_layer): Linear4bit(in_features=4096, out_features=4096, bias=False)\n",
      "      (lora_A): Linear(in_features=4096, out_features=8, bias=False)\n",
      "      (lora_B): Linear(in_features=8, out_features=4096, bias=False)\n",
      "      (nero_A): Linear(in_features=4096, out_features=8, bias=True)\n",
      "      (nero_B): Linear(in_features=8, out_features=4096, bias=True)\n",
      "    )\n",
      "    (layers__DOT__0__DOT__self_attn__DOT__k_proj): NeroLayer(\n",
      "      (base_layer): Linear4bit(in_features=4096, out_features=1024, bias=False)\n",
      "      (lora_A): Linear(in_features=4096, out_features=8, bias=False)\n",
      "      (lora_B): Linear(in_features=8, out_features=1024, bias=False)\n",
      "      (nero_A): Linear(in_features=1024, out_features=8, bias=True)\n",
      "      (nero_B): Linear(in_features=8, out_features=1024, bias=True)\n",
      "    )\n",
      "    (layers__DOT__0__DOT__self_attn__DOT__v_proj): NeroLayer(\n",
      "      (base_layer): Linear4bit(in_features=4096, out_features=1024, bias=False)\n",
      "      (lora_A): Linear(in_features=4096, out_features=8, bias=False)\n",
      "      (lora_B): Linear(in_features=8, out_features=1024, bias=False)\n",
      "      (nero_A): Linear(in_features=1024, out_features=8, bias=True)\n",
      "      (nero_B): Linear(in_features=8, out_features=1024, bias=True)\n",
      "    )\n",
      "    (layers__DOT__0__DOT__self_attn__DOT__o_proj): NeroLayer(\n",
      "      (base_layer): Linear4bit(in_features=4096, out_features=4096, bias=False)\n",
      "      (lora_A): Linear(in_features=4096, out_features=8, bias=False)\n",
      "      (lora_B): Linear(in_features=8, out_features=4096, bias=False)\n",
      "      (nero_A): Linear(in_features=4096, out_features=8, bias=True)\n",
      "      (nero_B): Linear(in_features=8, out_features=4096, bias=True)\n",
      "    )\n",
      "    (layers__DOT__0__DOT__mlp__DOT__gate_proj): NeroLayer(\n",
      "      (base_layer): Linear4bit(in_features=4096, out_features=14336, bias=False)\n",
      "      (lora_A): Linear(in_features=4096, out_features=8, bias=False)\n",
      "      (lora_B): Linear(in_features=8, out_features=14336, bias=False)\n",
      "      (nero_A): Linear(in_features=14336, out_features=8, bias=True)\n",
      "      (nero_B): Linear(in_features=8, out_features=14336, bias=True)\n",
      "    )\n",
      "    (layers__DOT__0__DOT__mlp__DOT__up_proj): NeroLayer(\n",
      "      (base_layer): Linear4bit(in_features=4096, out_features=14336, bias=False)\n",
      "      (lora_A): Linear(in_features=4096, out_features=8, bias=False)\n",
      "      (lora_B): Linear(in_features=8, out_features=14336, bias=False)\n",
      "      (nero_A): Linear(in_features=14336, out_features=8, bias=True)\n",
      "      (nero_B): Linear(in_features=8, out_features=14336, bias=True)\n",
      "    )\n",
      "    (layers__DOT__0__DOT__mlp__DOT__down_proj): NeroLayer(\n",
      "      (base_layer): Linear4bit(in_features=14336, out_features=4096, bias=False)\n",
      "      (lora_A): Linear(in_features=14336, out_features=8, bias=False)\n",
      "      (lora_B): Linear(in_features=8, out_features=4096, bias=False)\n",
      "      (nero_A): Linear(in_features=4096, out_features=8, bias=True)\n",
      "      (nero_B): Linear(in_features=8, out_features=4096, bias=True)\n",
      "    )\n",
      "    (layers__DOT__1__DOT__self_attn__DOT__q_proj): NeroLayer(\n",
      "      (base_layer): Linear4bit(in_features=4096, out_features=4096, bias=False)\n",
      "      (lora_A): Linear(in_features=4096, out_features=8, bias=False)\n",
      "      (lora_B): Linear(in_features=8, out_features=4096, bias=False)\n",
      "      (nero_A): Linear(in_features=4096, out_features=8, bias=True)\n",
      "      (nero_B): Linear(in_features=8, out_features=4096, bias=True)\n",
      "    )\n",
      "    (layers__DOT__1__DOT__self_attn__DOT__k_proj): NeroLayer(\n",
      "      (base_layer): Linear4bit(in_features=4096, out_features=1024, bias=False)\n",
      "      (lora_A): Linear(in_features=4096, out_features=8, bias=False)\n",
      "      (lora_B): Linear(in_features=8, out_features=1024, bias=False)\n",
      "      (nero_A): Linear(in_features=1024, out_features=8, bias=True)\n",
      "      (nero_B): Linear(in_features=8, out_features=1024, bias=True)\n",
      "    )\n",
      "    (layers__DOT__1__DOT__self_attn__DOT__v_proj): NeroLayer(\n",
      "      (base_layer): Linear4bit(in_features=4096, out_features=1024, bias=False)\n",
      "      (lora_A): Linear(in_features=4096, out_features=8, bias=False)\n",
      "      (lora_B): Linear(in_features=8, out_features=1024, bias=False)\n",
      "      (nero_A): Linear(in_features=1024, out_features=8, bias=True)\n",
      "      (nero_B): Linear(in_features=8, out_features=1024, bias=True)\n",
      "    )\n",
      "    (layers__DOT__1__DOT__self_attn__DOT__o_proj): NeroLayer(\n",
      "      (base_layer): Linear4bit(in_features=4096, out_features=4096, bias=False)\n",
      "      (lora_A): Linear(in_features=4096, out_features=8, bias=False)\n",
      "      (lora_B): Linear(in_features=8, out_features=4096, bias=False)\n",
      "      (nero_A): Linear(in_features=4096, out_features=8, bias=True)\n",
      "      (nero_B): Linear(in_features=8, out_features=4096, bias=True)\n",
      "    )\n",
      "    (layers__DOT__1__DOT__mlp__DOT__gate_proj): NeroLayer(\n",
      "      (base_layer): Linear(in_features=4096, out_features=14336, bias=False)\n",
      "      (lora_A): Linear(in_features=4096, out_features=8, bias=False)\n",
      "      (lora_B): Linear(in_features=8, out_features=14336, bias=False)\n",
      "      (nero_A): Linear(in_features=14336, out_features=8, bias=True)\n",
      "      (nero_B): Linear(in_features=8, out_features=14336, bias=True)\n",
      "    )\n",
      "    (layers__DOT__1__DOT__mlp__DOT__up_proj): NeroLayer(\n",
      "      (base_layer): Linear(in_features=4096, out_features=14336, bias=False)\n",
      "      (lora_A): Linear(in_features=4096, out_features=8, bias=False)\n",
      "      (lora_B): Linear(in_features=8, out_features=14336, bias=False)\n",
      "      (nero_A): Linear(in_features=14336, out_features=8, bias=True)\n",
      "      (nero_B): Linear(in_features=8, out_features=14336, bias=True)\n",
      "    )\n",
      "    (layers__DOT__1__DOT__mlp__DOT__down_proj): NeroLayer(\n",
      "      (base_layer): Linear(in_features=14336, out_features=4096, bias=False)\n",
      "      (lora_A): Linear(in_features=14336, out_features=8, bias=False)\n",
      "      (lora_B): Linear(in_features=8, out_features=4096, bias=False)\n",
      "      (nero_A): Linear(in_features=4096, out_features=8, bias=True)\n",
      "      (nero_B): Linear(in_features=8, out_features=4096, bias=True)\n",
      "    )\n",
      "    (layers__DOT__2__DOT__self_attn__DOT__q_proj): NeroLayer(\n",
      "      (base_layer): Linear4bit(in_features=4096, out_features=4096, bias=False)\n",
      "      (lora_A): Linear(in_features=4096, out_features=8, bias=False)\n",
      "      (lora_B): Linear(in_features=8, out_features=4096, bias=False)\n",
      "      (nero_A): Linear(in_features=4096, out_features=8, bias=True)\n",
      "      (nero_B): Linear(in_features=8, out_features=4096, bias=True)\n",
      "    )\n",
      "    (layers__DOT__2__DOT__self_attn__DOT__k_proj): NeroLayer(\n",
      "      (base_layer): Linear4bit(in_features=4096, out_features=1024, bias=False)\n",
      "      (lora_A): Linear(in_features=4096, out_features=8, bias=False)\n",
      "      (lora_B): Linear(in_features=8, out_features=1024, bias=False)\n",
      "      (nero_A): Linear(in_features=1024, out_features=8, bias=True)\n",
      "      (nero_B): Linear(in_features=8, out_features=1024, bias=True)\n",
      "    )\n",
      "    (layers__DOT__2__DOT__self_attn__DOT__v_proj): NeroLayer(\n",
      "      (base_layer): Linear4bit(in_features=4096, out_features=1024, bias=False)\n",
      "      (lora_A): Linear(in_features=4096, out_features=8, bias=False)\n",
      "      (lora_B): Linear(in_features=8, out_features=1024, bias=False)\n",
      "      (nero_A): Linear(in_features=1024, out_features=8, bias=True)\n",
      "      (nero_B): Linear(in_features=8, out_features=1024, bias=True)\n",
      "    )\n",
      "    (layers__DOT__2__DOT__self_attn__DOT__o_proj): NeroLayer(\n",
      "      (base_layer): Linear4bit(in_features=4096, out_features=4096, bias=False)\n",
      "      (lora_A): Linear(in_features=4096, out_features=8, bias=False)\n",
      "      (lora_B): Linear(in_features=8, out_features=4096, bias=False)\n",
      "      (nero_A): Linear(in_features=4096, out_features=8, bias=True)\n",
      "      (nero_B): Linear(in_features=8, out_features=4096, bias=True)\n",
      "    )\n",
      "    (layers__DOT__2__DOT__mlp__DOT__gate_proj): NeroLayer(\n",
      "      (base_layer): Linear4bit(in_features=4096, out_features=14336, bias=False)\n",
      "      (lora_A): Linear(in_features=4096, out_features=8, bias=False)\n",
      "      (lora_B): Linear(in_features=8, out_features=14336, bias=False)\n",
      "      (nero_A): Linear(in_features=14336, out_features=8, bias=True)\n",
      "      (nero_B): Linear(in_features=8, out_features=14336, bias=True)\n",
      "    )\n",
      "    (layers__DOT__2__DOT__mlp__DOT__up_proj): NeroLayer(\n",
      "      (base_layer): Linear4bit(in_features=4096, out_features=14336, bias=False)\n",
      "      (lora_A): Linear(in_features=4096, out_features=8, bias=False)\n",
      "      (lora_B): Linear(in_features=8, out_features=14336, bias=False)\n",
      "      (nero_A): Linear(in_features=14336, out_features=8, bias=True)\n",
      "      (nero_B): Linear(in_features=8, out_features=14336, bias=True)\n",
      "    )\n",
      "    (layers__DOT__2__DOT__mlp__DOT__down_proj): NeroLayer(\n",
      "      (base_layer): Linear4bit(in_features=14336, out_features=4096, bias=False)\n",
      "      (lora_A): Linear(in_features=14336, out_features=8, bias=False)\n",
      "      (lora_B): Linear(in_features=8, out_features=4096, bias=False)\n",
      "      (nero_A): Linear(in_features=4096, out_features=8, bias=True)\n",
      "      (nero_B): Linear(in_features=8, out_features=4096, bias=True)\n",
      "    )\n",
      "    (layers__DOT__3__DOT__self_attn__DOT__q_proj): NeroLayer(\n",
      "      (base_layer): Linear4bit(in_features=4096, out_features=4096, bias=False)\n",
      "      (lora_A): Linear(in_features=4096, out_features=8, bias=False)\n",
      "      (lora_B): Linear(in_features=8, out_features=4096, bias=False)\n",
      "      (nero_A): Linear(in_features=4096, out_features=8, bias=True)\n",
      "      (nero_B): Linear(in_features=8, out_features=4096, bias=True)\n",
      "    )\n",
      "    (layers__DOT__3__DOT__self_attn__DOT__k_proj): NeroLayer(\n",
      "      (base_layer): Linear4bit(in_features=4096, out_features=1024, bias=False)\n",
      "      (lora_A): Linear(in_features=4096, out_features=8, bias=False)\n",
      "      (lora_B): Linear(in_features=8, out_features=1024, bias=False)\n",
      "      (nero_A): Linear(in_features=1024, out_features=8, bias=True)\n",
      "      (nero_B): Linear(in_features=8, out_features=1024, bias=True)\n",
      "    )\n",
      "    (layers__DOT__3__DOT__self_attn__DOT__v_proj): NeroLayer(\n",
      "      (base_layer): Linear4bit(in_features=4096, out_features=1024, bias=False)\n",
      "      (lora_A): Linear(in_features=4096, out_features=8, bias=False)\n",
      "      (lora_B): Linear(in_features=8, out_features=1024, bias=False)\n",
      "      (nero_A): Linear(in_features=1024, out_features=8, bias=True)\n",
      "      (nero_B): Linear(in_features=8, out_features=1024, bias=True)\n",
      "    )\n",
      "    (layers__DOT__3__DOT__self_attn__DOT__o_proj): NeroLayer(\n",
      "      (base_layer): Linear4bit(in_features=4096, out_features=4096, bias=False)\n",
      "      (lora_A): Linear(in_features=4096, out_features=8, bias=False)\n",
      "      (lora_B): Linear(in_features=8, out_features=4096, bias=False)\n",
      "      (nero_A): Linear(in_features=4096, out_features=8, bias=True)\n",
      "      (nero_B): Linear(in_features=8, out_features=4096, bias=True)\n",
      "    )\n",
      "    (layers__DOT__3__DOT__mlp__DOT__gate_proj): NeroLayer(\n",
      "      (base_layer): Linear4bit(in_features=4096, out_features=14336, bias=False)\n",
      "      (lora_A): Linear(in_features=4096, out_features=8, bias=False)\n",
      "      (lora_B): Linear(in_features=8, out_features=14336, bias=False)\n",
      "      (nero_A): Linear(in_features=14336, out_features=8, bias=True)\n",
      "      (nero_B): Linear(in_features=8, out_features=14336, bias=True)\n",
      "    )\n",
      "    (layers__DOT__3__DOT__mlp__DOT__up_proj): NeroLayer(\n",
      "      (base_layer): Linear4bit(in_features=4096, out_features=14336, bias=False)\n",
      "      (lora_A): Linear(in_features=4096, out_features=8, bias=False)\n",
      "      (lora_B): Linear(in_features=8, out_features=14336, bias=False)\n",
      "      (nero_A): Linear(in_features=14336, out_features=8, bias=True)\n",
      "      (nero_B): Linear(in_features=8, out_features=14336, bias=True)\n",
      "    )\n",
      "    (layers__DOT__3__DOT__mlp__DOT__down_proj): NeroLayer(\n",
      "      (base_layer): Linear4bit(in_features=14336, out_features=4096, bias=False)\n",
      "      (lora_A): Linear(in_features=14336, out_features=8, bias=False)\n",
      "      (lora_B): Linear(in_features=8, out_features=4096, bias=False)\n",
      "      (nero_A): Linear(in_features=4096, out_features=8, bias=True)\n",
      "      (nero_B): Linear(in_features=8, out_features=4096, bias=True)\n",
      "    )\n",
      "    (layers__DOT__4__DOT__self_attn__DOT__q_proj): NeroLayer(\n",
      "      (base_layer): Linear4bit(in_features=4096, out_features=4096, bias=False)\n",
      "      (lora_A): Linear(in_features=4096, out_features=8, bias=False)\n",
      "      (lora_B): Linear(in_features=8, out_features=4096, bias=False)\n",
      "      (nero_A): Linear(in_features=4096, out_features=8, bias=True)\n",
      "      (nero_B): Linear(in_features=8, out_features=4096, bias=True)\n",
      "    )\n",
      "    (layers__DOT__4__DOT__self_attn__DOT__k_proj): NeroLayer(\n",
      "      (base_layer): Linear4bit(in_features=4096, out_features=1024, bias=False)\n",
      "      (lora_A): Linear(in_features=4096, out_features=8, bias=False)\n",
      "      (lora_B): Linear(in_features=8, out_features=1024, bias=False)\n",
      "      (nero_A): Linear(in_features=1024, out_features=8, bias=True)\n",
      "      (nero_B): Linear(in_features=8, out_features=1024, bias=True)\n",
      "    )\n",
      "    (layers__DOT__4__DOT__self_attn__DOT__v_proj): NeroLayer(\n",
      "      (base_layer): Linear4bit(in_features=4096, out_features=1024, bias=False)\n",
      "      (lora_A): Linear(in_features=4096, out_features=8, bias=False)\n",
      "      (lora_B): Linear(in_features=8, out_features=1024, bias=False)\n",
      "      (nero_A): Linear(in_features=1024, out_features=8, bias=True)\n",
      "      (nero_B): Linear(in_features=8, out_features=1024, bias=True)\n",
      "    )\n",
      "    (layers__DOT__4__DOT__self_attn__DOT__o_proj): NeroLayer(\n",
      "      (base_layer): Linear4bit(in_features=4096, out_features=4096, bias=False)\n",
      "      (lora_A): Linear(in_features=4096, out_features=8, bias=False)\n",
      "      (lora_B): Linear(in_features=8, out_features=4096, bias=False)\n",
      "      (nero_A): Linear(in_features=4096, out_features=8, bias=True)\n",
      "      (nero_B): Linear(in_features=8, out_features=4096, bias=True)\n",
      "    )\n",
      "    (layers__DOT__4__DOT__mlp__DOT__gate_proj): NeroLayer(\n",
      "      (base_layer): Linear4bit(in_features=4096, out_features=14336, bias=False)\n",
      "      (lora_A): Linear(in_features=4096, out_features=8, bias=False)\n",
      "      (lora_B): Linear(in_features=8, out_features=14336, bias=False)\n",
      "      (nero_A): Linear(in_features=14336, out_features=8, bias=True)\n",
      "      (nero_B): Linear(in_features=8, out_features=14336, bias=True)\n",
      "    )\n",
      "    (layers__DOT__4__DOT__mlp__DOT__up_proj): NeroLayer(\n",
      "      (base_layer): Linear4bit(in_features=4096, out_features=14336, bias=False)\n",
      "      (lora_A): Linear(in_features=4096, out_features=8, bias=False)\n",
      "      (lora_B): Linear(in_features=8, out_features=14336, bias=False)\n",
      "      (nero_A): Linear(in_features=14336, out_features=8, bias=True)\n",
      "      (nero_B): Linear(in_features=8, out_features=14336, bias=True)\n",
      "    )\n",
      "    (layers__DOT__4__DOT__mlp__DOT__down_proj): NeroLayer(\n",
      "      (base_layer): Linear4bit(in_features=14336, out_features=4096, bias=False)\n",
      "      (lora_A): Linear(in_features=14336, out_features=8, bias=False)\n",
      "      (lora_B): Linear(in_features=8, out_features=4096, bias=False)\n",
      "      (nero_A): Linear(in_features=4096, out_features=8, bias=True)\n",
      "      (nero_B): Linear(in_features=8, out_features=4096, bias=True)\n",
      "    )\n",
      "    (layers__DOT__5__DOT__self_attn__DOT__q_proj): NeroLayer(\n",
      "      (base_layer): Linear4bit(in_features=4096, out_features=4096, bias=False)\n",
      "      (lora_A): Linear(in_features=4096, out_features=8, bias=False)\n",
      "      (lora_B): Linear(in_features=8, out_features=4096, bias=False)\n",
      "      (nero_A): Linear(in_features=4096, out_features=8, bias=True)\n",
      "      (nero_B): Linear(in_features=8, out_features=4096, bias=True)\n",
      "    )\n",
      "    (layers__DOT__5__DOT__self_attn__DOT__k_proj): NeroLayer(\n",
      "      (base_layer): Linear4bit(in_features=4096, out_features=1024, bias=False)\n",
      "      (lora_A): Linear(in_features=4096, out_features=8, bias=False)\n",
      "      (lora_B): Linear(in_features=8, out_features=1024, bias=False)\n",
      "      (nero_A): Linear(in_features=1024, out_features=8, bias=True)\n",
      "      (nero_B): Linear(in_features=8, out_features=1024, bias=True)\n",
      "    )\n",
      "    (layers__DOT__5__DOT__self_attn__DOT__v_proj): NeroLayer(\n",
      "      (base_layer): Linear4bit(in_features=4096, out_features=1024, bias=False)\n",
      "      (lora_A): Linear(in_features=4096, out_features=8, bias=False)\n",
      "      (lora_B): Linear(in_features=8, out_features=1024, bias=False)\n",
      "      (nero_A): Linear(in_features=1024, out_features=8, bias=True)\n",
      "      (nero_B): Linear(in_features=8, out_features=1024, bias=True)\n",
      "    )\n",
      "    (layers__DOT__5__DOT__self_attn__DOT__o_proj): NeroLayer(\n",
      "      (base_layer): Linear4bit(in_features=4096, out_features=4096, bias=False)\n",
      "      (lora_A): Linear(in_features=4096, out_features=8, bias=False)\n",
      "      (lora_B): Linear(in_features=8, out_features=4096, bias=False)\n",
      "      (nero_A): Linear(in_features=4096, out_features=8, bias=True)\n",
      "      (nero_B): Linear(in_features=8, out_features=4096, bias=True)\n",
      "    )\n",
      "    (layers__DOT__5__DOT__mlp__DOT__gate_proj): NeroLayer(\n",
      "      (base_layer): Linear4bit(in_features=4096, out_features=14336, bias=False)\n",
      "      (lora_A): Linear(in_features=4096, out_features=8, bias=False)\n",
      "      (lora_B): Linear(in_features=8, out_features=14336, bias=False)\n",
      "      (nero_A): Linear(in_features=14336, out_features=8, bias=True)\n",
      "      (nero_B): Linear(in_features=8, out_features=14336, bias=True)\n",
      "    )\n",
      "    (layers__DOT__5__DOT__mlp__DOT__up_proj): NeroLayer(\n",
      "      (base_layer): Linear4bit(in_features=4096, out_features=14336, bias=False)\n",
      "      (lora_A): Linear(in_features=4096, out_features=8, bias=False)\n",
      "      (lora_B): Linear(in_features=8, out_features=14336, bias=False)\n",
      "      (nero_A): Linear(in_features=14336, out_features=8, bias=True)\n",
      "      (nero_B): Linear(in_features=8, out_features=14336, bias=True)\n",
      "    )\n",
      "    (layers__DOT__5__DOT__mlp__DOT__down_proj): NeroLayer(\n",
      "      (base_layer): Linear4bit(in_features=14336, out_features=4096, bias=False)\n",
      "      (lora_A): Linear(in_features=14336, out_features=8, bias=False)\n",
      "      (lora_B): Linear(in_features=8, out_features=4096, bias=False)\n",
      "      (nero_A): Linear(in_features=4096, out_features=8, bias=True)\n",
      "      (nero_B): Linear(in_features=8, out_features=4096, bias=True)\n",
      "    )\n",
      "    (layers__DOT__6__DOT__self_attn__DOT__q_proj): NeroLayer(\n",
      "      (base_layer): Linear4bit(in_features=4096, out_features=4096, bias=False)\n",
      "      (lora_A): Linear(in_features=4096, out_features=8, bias=False)\n",
      "      (lora_B): Linear(in_features=8, out_features=4096, bias=False)\n",
      "      (nero_A): Linear(in_features=4096, out_features=8, bias=True)\n",
      "      (nero_B): Linear(in_features=8, out_features=4096, bias=True)\n",
      "    )\n",
      "    (layers__DOT__6__DOT__self_attn__DOT__k_proj): NeroLayer(\n",
      "      (base_layer): Linear4bit(in_features=4096, out_features=1024, bias=False)\n",
      "      (lora_A): Linear(in_features=4096, out_features=8, bias=False)\n",
      "      (lora_B): Linear(in_features=8, out_features=1024, bias=False)\n",
      "      (nero_A): Linear(in_features=1024, out_features=8, bias=True)\n",
      "      (nero_B): Linear(in_features=8, out_features=1024, bias=True)\n",
      "    )\n",
      "    (layers__DOT__6__DOT__self_attn__DOT__v_proj): NeroLayer(\n",
      "      (base_layer): Linear4bit(in_features=4096, out_features=1024, bias=False)\n",
      "      (lora_A): Linear(in_features=4096, out_features=8, bias=False)\n",
      "      (lora_B): Linear(in_features=8, out_features=1024, bias=False)\n",
      "      (nero_A): Linear(in_features=1024, out_features=8, bias=True)\n",
      "      (nero_B): Linear(in_features=8, out_features=1024, bias=True)\n",
      "    )\n",
      "    (layers__DOT__6__DOT__self_attn__DOT__o_proj): NeroLayer(\n",
      "      (base_layer): Linear4bit(in_features=4096, out_features=4096, bias=False)\n",
      "      (lora_A): Linear(in_features=4096, out_features=8, bias=False)\n",
      "      (lora_B): Linear(in_features=8, out_features=4096, bias=False)\n",
      "      (nero_A): Linear(in_features=4096, out_features=8, bias=True)\n",
      "      (nero_B): Linear(in_features=8, out_features=4096, bias=True)\n",
      "    )\n",
      "    (layers__DOT__6__DOT__mlp__DOT__gate_proj): NeroLayer(\n",
      "      (base_layer): Linear4bit(in_features=4096, out_features=14336, bias=False)\n",
      "      (lora_A): Linear(in_features=4096, out_features=8, bias=False)\n",
      "      (lora_B): Linear(in_features=8, out_features=14336, bias=False)\n",
      "      (nero_A): Linear(in_features=14336, out_features=8, bias=True)\n",
      "      (nero_B): Linear(in_features=8, out_features=14336, bias=True)\n",
      "    )\n",
      "    (layers__DOT__6__DOT__mlp__DOT__up_proj): NeroLayer(\n",
      "      (base_layer): Linear4bit(in_features=4096, out_features=14336, bias=False)\n",
      "      (lora_A): Linear(in_features=4096, out_features=8, bias=False)\n",
      "      (lora_B): Linear(in_features=8, out_features=14336, bias=False)\n",
      "      (nero_A): Linear(in_features=14336, out_features=8, bias=True)\n",
      "      (nero_B): Linear(in_features=8, out_features=14336, bias=True)\n",
      "    )\n",
      "    (layers__DOT__6__DOT__mlp__DOT__down_proj): NeroLayer(\n",
      "      (base_layer): Linear4bit(in_features=14336, out_features=4096, bias=False)\n",
      "      (lora_A): Linear(in_features=14336, out_features=8, bias=False)\n",
      "      (lora_B): Linear(in_features=8, out_features=4096, bias=False)\n",
      "      (nero_A): Linear(in_features=4096, out_features=8, bias=True)\n",
      "      (nero_B): Linear(in_features=8, out_features=4096, bias=True)\n",
      "    )\n",
      "    (layers__DOT__7__DOT__self_attn__DOT__q_proj): NeroLayer(\n",
      "      (base_layer): Linear4bit(in_features=4096, out_features=4096, bias=False)\n",
      "      (lora_A): Linear(in_features=4096, out_features=8, bias=False)\n",
      "      (lora_B): Linear(in_features=8, out_features=4096, bias=False)\n",
      "      (nero_A): Linear(in_features=4096, out_features=8, bias=True)\n",
      "      (nero_B): Linear(in_features=8, out_features=4096, bias=True)\n",
      "    )\n",
      "    (layers__DOT__7__DOT__self_attn__DOT__k_proj): NeroLayer(\n",
      "      (base_layer): Linear4bit(in_features=4096, out_features=1024, bias=False)\n",
      "      (lora_A): Linear(in_features=4096, out_features=8, bias=False)\n",
      "      (lora_B): Linear(in_features=8, out_features=1024, bias=False)\n",
      "      (nero_A): Linear(in_features=1024, out_features=8, bias=True)\n",
      "      (nero_B): Linear(in_features=8, out_features=1024, bias=True)\n",
      "    )\n",
      "    (layers__DOT__7__DOT__self_attn__DOT__v_proj): NeroLayer(\n",
      "      (base_layer): Linear4bit(in_features=4096, out_features=1024, bias=False)\n",
      "      (lora_A): Linear(in_features=4096, out_features=8, bias=False)\n",
      "      (lora_B): Linear(in_features=8, out_features=1024, bias=False)\n",
      "      (nero_A): Linear(in_features=1024, out_features=8, bias=True)\n",
      "      (nero_B): Linear(in_features=8, out_features=1024, bias=True)\n",
      "    )\n",
      "    (layers__DOT__7__DOT__self_attn__DOT__o_proj): NeroLayer(\n",
      "      (base_layer): Linear4bit(in_features=4096, out_features=4096, bias=False)\n",
      "      (lora_A): Linear(in_features=4096, out_features=8, bias=False)\n",
      "      (lora_B): Linear(in_features=8, out_features=4096, bias=False)\n",
      "      (nero_A): Linear(in_features=4096, out_features=8, bias=True)\n",
      "      (nero_B): Linear(in_features=8, out_features=4096, bias=True)\n",
      "    )\n",
      "    (layers__DOT__7__DOT__mlp__DOT__gate_proj): NeroLayer(\n",
      "      (base_layer): Linear4bit(in_features=4096, out_features=14336, bias=False)\n",
      "      (lora_A): Linear(in_features=4096, out_features=8, bias=False)\n",
      "      (lora_B): Linear(in_features=8, out_features=14336, bias=False)\n",
      "      (nero_A): Linear(in_features=14336, out_features=8, bias=True)\n",
      "      (nero_B): Linear(in_features=8, out_features=14336, bias=True)\n",
      "    )\n",
      "    (layers__DOT__7__DOT__mlp__DOT__up_proj): NeroLayer(\n",
      "      (base_layer): Linear4bit(in_features=4096, out_features=14336, bias=False)\n",
      "      (lora_A): Linear(in_features=4096, out_features=8, bias=False)\n",
      "      (lora_B): Linear(in_features=8, out_features=14336, bias=False)\n",
      "      (nero_A): Linear(in_features=14336, out_features=8, bias=True)\n",
      "      (nero_B): Linear(in_features=8, out_features=14336, bias=True)\n",
      "    )\n",
      "    (layers__DOT__7__DOT__mlp__DOT__down_proj): NeroLayer(\n",
      "      (base_layer): Linear4bit(in_features=14336, out_features=4096, bias=False)\n",
      "      (lora_A): Linear(in_features=14336, out_features=8, bias=False)\n",
      "      (lora_B): Linear(in_features=8, out_features=4096, bias=False)\n",
      "      (nero_A): Linear(in_features=4096, out_features=8, bias=True)\n",
      "      (nero_B): Linear(in_features=8, out_features=4096, bias=True)\n",
      "    )\n",
      "    (layers__DOT__8__DOT__self_attn__DOT__q_proj): NeroLayer(\n",
      "      (base_layer): Linear4bit(in_features=4096, out_features=4096, bias=False)\n",
      "      (lora_A): Linear(in_features=4096, out_features=8, bias=False)\n",
      "      (lora_B): Linear(in_features=8, out_features=4096, bias=False)\n",
      "      (nero_A): Linear(in_features=4096, out_features=8, bias=True)\n",
      "      (nero_B): Linear(in_features=8, out_features=4096, bias=True)\n",
      "    )\n",
      "    (layers__DOT__8__DOT__self_attn__DOT__k_proj): NeroLayer(\n",
      "      (base_layer): Linear4bit(in_features=4096, out_features=1024, bias=False)\n",
      "      (lora_A): Linear(in_features=4096, out_features=8, bias=False)\n",
      "      (lora_B): Linear(in_features=8, out_features=1024, bias=False)\n",
      "      (nero_A): Linear(in_features=1024, out_features=8, bias=True)\n",
      "      (nero_B): Linear(in_features=8, out_features=1024, bias=True)\n",
      "    )\n",
      "    (layers__DOT__8__DOT__self_attn__DOT__v_proj): NeroLayer(\n",
      "      (base_layer): Linear4bit(in_features=4096, out_features=1024, bias=False)\n",
      "      (lora_A): Linear(in_features=4096, out_features=8, bias=False)\n",
      "      (lora_B): Linear(in_features=8, out_features=1024, bias=False)\n",
      "      (nero_A): Linear(in_features=1024, out_features=8, bias=True)\n",
      "      (nero_B): Linear(in_features=8, out_features=1024, bias=True)\n",
      "    )\n",
      "    (layers__DOT__8__DOT__self_attn__DOT__o_proj): NeroLayer(\n",
      "      (base_layer): Linear4bit(in_features=4096, out_features=4096, bias=False)\n",
      "      (lora_A): Linear(in_features=4096, out_features=8, bias=False)\n",
      "      (lora_B): Linear(in_features=8, out_features=4096, bias=False)\n",
      "      (nero_A): Linear(in_features=4096, out_features=8, bias=True)\n",
      "      (nero_B): Linear(in_features=8, out_features=4096, bias=True)\n",
      "    )\n",
      "    (layers__DOT__8__DOT__mlp__DOT__gate_proj): NeroLayer(\n",
      "      (base_layer): Linear4bit(in_features=4096, out_features=14336, bias=False)\n",
      "      (lora_A): Linear(in_features=4096, out_features=8, bias=False)\n",
      "      (lora_B): Linear(in_features=8, out_features=14336, bias=False)\n",
      "      (nero_A): Linear(in_features=14336, out_features=8, bias=True)\n",
      "      (nero_B): Linear(in_features=8, out_features=14336, bias=True)\n",
      "    )\n",
      "    (layers__DOT__8__DOT__mlp__DOT__up_proj): NeroLayer(\n",
      "      (base_layer): Linear4bit(in_features=4096, out_features=14336, bias=False)\n",
      "      (lora_A): Linear(in_features=4096, out_features=8, bias=False)\n",
      "      (lora_B): Linear(in_features=8, out_features=14336, bias=False)\n",
      "      (nero_A): Linear(in_features=14336, out_features=8, bias=True)\n",
      "      (nero_B): Linear(in_features=8, out_features=14336, bias=True)\n",
      "    )\n",
      "    (layers__DOT__8__DOT__mlp__DOT__down_proj): NeroLayer(\n",
      "      (base_layer): Linear4bit(in_features=14336, out_features=4096, bias=False)\n",
      "      (lora_A): Linear(in_features=14336, out_features=8, bias=False)\n",
      "      (lora_B): Linear(in_features=8, out_features=4096, bias=False)\n",
      "      (nero_A): Linear(in_features=4096, out_features=8, bias=True)\n",
      "      (nero_B): Linear(in_features=8, out_features=4096, bias=True)\n",
      "    )\n",
      "    (layers__DOT__9__DOT__self_attn__DOT__q_proj): NeroLayer(\n",
      "      (base_layer): Linear4bit(in_features=4096, out_features=4096, bias=False)\n",
      "      (lora_A): Linear(in_features=4096, out_features=8, bias=False)\n",
      "      (lora_B): Linear(in_features=8, out_features=4096, bias=False)\n",
      "      (nero_A): Linear(in_features=4096, out_features=8, bias=True)\n",
      "      (nero_B): Linear(in_features=8, out_features=4096, bias=True)\n",
      "    )\n",
      "    (layers__DOT__9__DOT__self_attn__DOT__k_proj): NeroLayer(\n",
      "      (base_layer): Linear4bit(in_features=4096, out_features=1024, bias=False)\n",
      "      (lora_A): Linear(in_features=4096, out_features=8, bias=False)\n",
      "      (lora_B): Linear(in_features=8, out_features=1024, bias=False)\n",
      "      (nero_A): Linear(in_features=1024, out_features=8, bias=True)\n",
      "      (nero_B): Linear(in_features=8, out_features=1024, bias=True)\n",
      "    )\n",
      "    (layers__DOT__9__DOT__self_attn__DOT__v_proj): NeroLayer(\n",
      "      (base_layer): Linear4bit(in_features=4096, out_features=1024, bias=False)\n",
      "      (lora_A): Linear(in_features=4096, out_features=8, bias=False)\n",
      "      (lora_B): Linear(in_features=8, out_features=1024, bias=False)\n",
      "      (nero_A): Linear(in_features=1024, out_features=8, bias=True)\n",
      "      (nero_B): Linear(in_features=8, out_features=1024, bias=True)\n",
      "    )\n",
      "    (layers__DOT__9__DOT__self_attn__DOT__o_proj): NeroLayer(\n",
      "      (base_layer): Linear4bit(in_features=4096, out_features=4096, bias=False)\n",
      "      (lora_A): Linear(in_features=4096, out_features=8, bias=False)\n",
      "      (lora_B): Linear(in_features=8, out_features=4096, bias=False)\n",
      "      (nero_A): Linear(in_features=4096, out_features=8, bias=True)\n",
      "      (nero_B): Linear(in_features=8, out_features=4096, bias=True)\n",
      "    )\n",
      "    (layers__DOT__9__DOT__mlp__DOT__gate_proj): NeroLayer(\n",
      "      (base_layer): Linear4bit(in_features=4096, out_features=14336, bias=False)\n",
      "      (lora_A): Linear(in_features=4096, out_features=8, bias=False)\n",
      "      (lora_B): Linear(in_features=8, out_features=14336, bias=False)\n",
      "      (nero_A): Linear(in_features=14336, out_features=8, bias=True)\n",
      "      (nero_B): Linear(in_features=8, out_features=14336, bias=True)\n",
      "    )\n",
      "    (layers__DOT__9__DOT__mlp__DOT__up_proj): NeroLayer(\n",
      "      (base_layer): Linear4bit(in_features=4096, out_features=14336, bias=False)\n",
      "      (lora_A): Linear(in_features=4096, out_features=8, bias=False)\n",
      "      (lora_B): Linear(in_features=8, out_features=14336, bias=False)\n",
      "      (nero_A): Linear(in_features=14336, out_features=8, bias=True)\n",
      "      (nero_B): Linear(in_features=8, out_features=14336, bias=True)\n",
      "    )\n",
      "    (layers__DOT__9__DOT__mlp__DOT__down_proj): NeroLayer(\n",
      "      (base_layer): Linear4bit(in_features=14336, out_features=4096, bias=False)\n",
      "      (lora_A): Linear(in_features=14336, out_features=8, bias=False)\n",
      "      (lora_B): Linear(in_features=8, out_features=4096, bias=False)\n",
      "      (nero_A): Linear(in_features=4096, out_features=8, bias=True)\n",
      "      (nero_B): Linear(in_features=8, out_features=4096, bias=True)\n",
      "    )\n",
      "    (layers__DOT__10__DOT__self_attn__DOT__q_proj): NeroLayer(\n",
      "      (base_layer): Linear4bit(in_features=4096, out_features=4096, bias=False)\n",
      "      (lora_A): Linear(in_features=4096, out_features=8, bias=False)\n",
      "      (lora_B): Linear(in_features=8, out_features=4096, bias=False)\n",
      "      (nero_A): Linear(in_features=4096, out_features=8, bias=True)\n",
      "      (nero_B): Linear(in_features=8, out_features=4096, bias=True)\n",
      "    )\n",
      "    (layers__DOT__10__DOT__self_attn__DOT__k_proj): NeroLayer(\n",
      "      (base_layer): Linear4bit(in_features=4096, out_features=1024, bias=False)\n",
      "      (lora_A): Linear(in_features=4096, out_features=8, bias=False)\n",
      "      (lora_B): Linear(in_features=8, out_features=1024, bias=False)\n",
      "      (nero_A): Linear(in_features=1024, out_features=8, bias=True)\n",
      "      (nero_B): Linear(in_features=8, out_features=1024, bias=True)\n",
      "    )\n",
      "    (layers__DOT__10__DOT__self_attn__DOT__v_proj): NeroLayer(\n",
      "      (base_layer): Linear4bit(in_features=4096, out_features=1024, bias=False)\n",
      "      (lora_A): Linear(in_features=4096, out_features=8, bias=False)\n",
      "      (lora_B): Linear(in_features=8, out_features=1024, bias=False)\n",
      "      (nero_A): Linear(in_features=1024, out_features=8, bias=True)\n",
      "      (nero_B): Linear(in_features=8, out_features=1024, bias=True)\n",
      "    )\n",
      "    (layers__DOT__10__DOT__self_attn__DOT__o_proj): NeroLayer(\n",
      "      (base_layer): Linear4bit(in_features=4096, out_features=4096, bias=False)\n",
      "      (lora_A): Linear(in_features=4096, out_features=8, bias=False)\n",
      "      (lora_B): Linear(in_features=8, out_features=4096, bias=False)\n",
      "      (nero_A): Linear(in_features=4096, out_features=8, bias=True)\n",
      "      (nero_B): Linear(in_features=8, out_features=4096, bias=True)\n",
      "    )\n",
      "    (layers__DOT__10__DOT__mlp__DOT__gate_proj): NeroLayer(\n",
      "      (base_layer): Linear4bit(in_features=4096, out_features=14336, bias=False)\n",
      "      (lora_A): Linear(in_features=4096, out_features=8, bias=False)\n",
      "      (lora_B): Linear(in_features=8, out_features=14336, bias=False)\n",
      "      (nero_A): Linear(in_features=14336, out_features=8, bias=True)\n",
      "      (nero_B): Linear(in_features=8, out_features=14336, bias=True)\n",
      "    )\n",
      "    (layers__DOT__10__DOT__mlp__DOT__up_proj): NeroLayer(\n",
      "      (base_layer): Linear4bit(in_features=4096, out_features=14336, bias=False)\n",
      "      (lora_A): Linear(in_features=4096, out_features=8, bias=False)\n",
      "      (lora_B): Linear(in_features=8, out_features=14336, bias=False)\n",
      "      (nero_A): Linear(in_features=14336, out_features=8, bias=True)\n",
      "      (nero_B): Linear(in_features=8, out_features=14336, bias=True)\n",
      "    )\n",
      "    (layers__DOT__10__DOT__mlp__DOT__down_proj): NeroLayer(\n",
      "      (base_layer): Linear4bit(in_features=14336, out_features=4096, bias=False)\n",
      "      (lora_A): Linear(in_features=14336, out_features=8, bias=False)\n",
      "      (lora_B): Linear(in_features=8, out_features=4096, bias=False)\n",
      "      (nero_A): Linear(in_features=4096, out_features=8, bias=True)\n",
      "      (nero_B): Linear(in_features=8, out_features=4096, bias=True)\n",
      "    )\n",
      "    (layers__DOT__11__DOT__self_attn__DOT__q_proj): NeroLayer(\n",
      "      (base_layer): Linear4bit(in_features=4096, out_features=4096, bias=False)\n",
      "      (lora_A): Linear(in_features=4096, out_features=8, bias=False)\n",
      "      (lora_B): Linear(in_features=8, out_features=4096, bias=False)\n",
      "      (nero_A): Linear(in_features=4096, out_features=8, bias=True)\n",
      "      (nero_B): Linear(in_features=8, out_features=4096, bias=True)\n",
      "    )\n",
      "    (layers__DOT__11__DOT__self_attn__DOT__k_proj): NeroLayer(\n",
      "      (base_layer): Linear4bit(in_features=4096, out_features=1024, bias=False)\n",
      "      (lora_A): Linear(in_features=4096, out_features=8, bias=False)\n",
      "      (lora_B): Linear(in_features=8, out_features=1024, bias=False)\n",
      "      (nero_A): Linear(in_features=1024, out_features=8, bias=True)\n",
      "      (nero_B): Linear(in_features=8, out_features=1024, bias=True)\n",
      "    )\n",
      "    (layers__DOT__11__DOT__self_attn__DOT__v_proj): NeroLayer(\n",
      "      (base_layer): Linear4bit(in_features=4096, out_features=1024, bias=False)\n",
      "      (lora_A): Linear(in_features=4096, out_features=8, bias=False)\n",
      "      (lora_B): Linear(in_features=8, out_features=1024, bias=False)\n",
      "      (nero_A): Linear(in_features=1024, out_features=8, bias=True)\n",
      "      (nero_B): Linear(in_features=8, out_features=1024, bias=True)\n",
      "    )\n",
      "    (layers__DOT__11__DOT__self_attn__DOT__o_proj): NeroLayer(\n",
      "      (base_layer): Linear4bit(in_features=4096, out_features=4096, bias=False)\n",
      "      (lora_A): Linear(in_features=4096, out_features=8, bias=False)\n",
      "      (lora_B): Linear(in_features=8, out_features=4096, bias=False)\n",
      "      (nero_A): Linear(in_features=4096, out_features=8, bias=True)\n",
      "      (nero_B): Linear(in_features=8, out_features=4096, bias=True)\n",
      "    )\n",
      "    (layers__DOT__11__DOT__mlp__DOT__gate_proj): NeroLayer(\n",
      "      (base_layer): Linear4bit(in_features=4096, out_features=14336, bias=False)\n",
      "      (lora_A): Linear(in_features=4096, out_features=8, bias=False)\n",
      "      (lora_B): Linear(in_features=8, out_features=14336, bias=False)\n",
      "      (nero_A): Linear(in_features=14336, out_features=8, bias=True)\n",
      "      (nero_B): Linear(in_features=8, out_features=14336, bias=True)\n",
      "    )\n",
      "    (layers__DOT__11__DOT__mlp__DOT__up_proj): NeroLayer(\n",
      "      (base_layer): Linear4bit(in_features=4096, out_features=14336, bias=False)\n",
      "      (lora_A): Linear(in_features=4096, out_features=8, bias=False)\n",
      "      (lora_B): Linear(in_features=8, out_features=14336, bias=False)\n",
      "      (nero_A): Linear(in_features=14336, out_features=8, bias=True)\n",
      "      (nero_B): Linear(in_features=8, out_features=14336, bias=True)\n",
      "    )\n",
      "    (layers__DOT__11__DOT__mlp__DOT__down_proj): NeroLayer(\n",
      "      (base_layer): Linear4bit(in_features=14336, out_features=4096, bias=False)\n",
      "      (lora_A): Linear(in_features=14336, out_features=8, bias=False)\n",
      "      (lora_B): Linear(in_features=8, out_features=4096, bias=False)\n",
      "      (nero_A): Linear(in_features=4096, out_features=8, bias=True)\n",
      "      (nero_B): Linear(in_features=8, out_features=4096, bias=True)\n",
      "    )\n",
      "    (layers__DOT__12__DOT__self_attn__DOT__q_proj): NeroLayer(\n",
      "      (base_layer): Linear4bit(in_features=4096, out_features=4096, bias=False)\n",
      "      (lora_A): Linear(in_features=4096, out_features=8, bias=False)\n",
      "      (lora_B): Linear(in_features=8, out_features=4096, bias=False)\n",
      "      (nero_A): Linear(in_features=4096, out_features=8, bias=True)\n",
      "      (nero_B): Linear(in_features=8, out_features=4096, bias=True)\n",
      "    )\n",
      "    (layers__DOT__12__DOT__self_attn__DOT__k_proj): NeroLayer(\n",
      "      (base_layer): Linear4bit(in_features=4096, out_features=1024, bias=False)\n",
      "      (lora_A): Linear(in_features=4096, out_features=8, bias=False)\n",
      "      (lora_B): Linear(in_features=8, out_features=1024, bias=False)\n",
      "      (nero_A): Linear(in_features=1024, out_features=8, bias=True)\n",
      "      (nero_B): Linear(in_features=8, out_features=1024, bias=True)\n",
      "    )\n",
      "    (layers__DOT__12__DOT__self_attn__DOT__v_proj): NeroLayer(\n",
      "      (base_layer): Linear4bit(in_features=4096, out_features=1024, bias=False)\n",
      "      (lora_A): Linear(in_features=4096, out_features=8, bias=False)\n",
      "      (lora_B): Linear(in_features=8, out_features=1024, bias=False)\n",
      "      (nero_A): Linear(in_features=1024, out_features=8, bias=True)\n",
      "      (nero_B): Linear(in_features=8, out_features=1024, bias=True)\n",
      "    )\n",
      "    (layers__DOT__12__DOT__self_attn__DOT__o_proj): NeroLayer(\n",
      "      (base_layer): Linear4bit(in_features=4096, out_features=4096, bias=False)\n",
      "      (lora_A): Linear(in_features=4096, out_features=8, bias=False)\n",
      "      (lora_B): Linear(in_features=8, out_features=4096, bias=False)\n",
      "      (nero_A): Linear(in_features=4096, out_features=8, bias=True)\n",
      "      (nero_B): Linear(in_features=8, out_features=4096, bias=True)\n",
      "    )\n",
      "    (layers__DOT__12__DOT__mlp__DOT__gate_proj): NeroLayer(\n",
      "      (base_layer): Linear4bit(in_features=4096, out_features=14336, bias=False)\n",
      "      (lora_A): Linear(in_features=4096, out_features=8, bias=False)\n",
      "      (lora_B): Linear(in_features=8, out_features=14336, bias=False)\n",
      "      (nero_A): Linear(in_features=14336, out_features=8, bias=True)\n",
      "      (nero_B): Linear(in_features=8, out_features=14336, bias=True)\n",
      "    )\n",
      "    (layers__DOT__12__DOT__mlp__DOT__up_proj): NeroLayer(\n",
      "      (base_layer): Linear4bit(in_features=4096, out_features=14336, bias=False)\n",
      "      (lora_A): Linear(in_features=4096, out_features=8, bias=False)\n",
      "      (lora_B): Linear(in_features=8, out_features=14336, bias=False)\n",
      "      (nero_A): Linear(in_features=14336, out_features=8, bias=True)\n",
      "      (nero_B): Linear(in_features=8, out_features=14336, bias=True)\n",
      "    )\n",
      "    (layers__DOT__12__DOT__mlp__DOT__down_proj): NeroLayer(\n",
      "      (base_layer): Linear4bit(in_features=14336, out_features=4096, bias=False)\n",
      "      (lora_A): Linear(in_features=14336, out_features=8, bias=False)\n",
      "      (lora_B): Linear(in_features=8, out_features=4096, bias=False)\n",
      "      (nero_A): Linear(in_features=4096, out_features=8, bias=True)\n",
      "      (nero_B): Linear(in_features=8, out_features=4096, bias=True)\n",
      "    )\n",
      "    (layers__DOT__13__DOT__self_attn__DOT__q_proj): NeroLayer(\n",
      "      (base_layer): Linear4bit(in_features=4096, out_features=4096, bias=False)\n",
      "      (lora_A): Linear(in_features=4096, out_features=8, bias=False)\n",
      "      (lora_B): Linear(in_features=8, out_features=4096, bias=False)\n",
      "      (nero_A): Linear(in_features=4096, out_features=8, bias=True)\n",
      "      (nero_B): Linear(in_features=8, out_features=4096, bias=True)\n",
      "    )\n",
      "    (layers__DOT__13__DOT__self_attn__DOT__k_proj): NeroLayer(\n",
      "      (base_layer): Linear4bit(in_features=4096, out_features=1024, bias=False)\n",
      "      (lora_A): Linear(in_features=4096, out_features=8, bias=False)\n",
      "      (lora_B): Linear(in_features=8, out_features=1024, bias=False)\n",
      "      (nero_A): Linear(in_features=1024, out_features=8, bias=True)\n",
      "      (nero_B): Linear(in_features=8, out_features=1024, bias=True)\n",
      "    )\n",
      "    (layers__DOT__13__DOT__self_attn__DOT__v_proj): NeroLayer(\n",
      "      (base_layer): Linear4bit(in_features=4096, out_features=1024, bias=False)\n",
      "      (lora_A): Linear(in_features=4096, out_features=8, bias=False)\n",
      "      (lora_B): Linear(in_features=8, out_features=1024, bias=False)\n",
      "      (nero_A): Linear(in_features=1024, out_features=8, bias=True)\n",
      "      (nero_B): Linear(in_features=8, out_features=1024, bias=True)\n",
      "    )\n",
      "    (layers__DOT__13__DOT__self_attn__DOT__o_proj): NeroLayer(\n",
      "      (base_layer): Linear4bit(in_features=4096, out_features=4096, bias=False)\n",
      "      (lora_A): Linear(in_features=4096, out_features=8, bias=False)\n",
      "      (lora_B): Linear(in_features=8, out_features=4096, bias=False)\n",
      "      (nero_A): Linear(in_features=4096, out_features=8, bias=True)\n",
      "      (nero_B): Linear(in_features=8, out_features=4096, bias=True)\n",
      "    )\n",
      "    (layers__DOT__13__DOT__mlp__DOT__gate_proj): NeroLayer(\n",
      "      (base_layer): Linear4bit(in_features=4096, out_features=14336, bias=False)\n",
      "      (lora_A): Linear(in_features=4096, out_features=8, bias=False)\n",
      "      (lora_B): Linear(in_features=8, out_features=14336, bias=False)\n",
      "      (nero_A): Linear(in_features=14336, out_features=8, bias=True)\n",
      "      (nero_B): Linear(in_features=8, out_features=14336, bias=True)\n",
      "    )\n",
      "    (layers__DOT__13__DOT__mlp__DOT__up_proj): NeroLayer(\n",
      "      (base_layer): Linear4bit(in_features=4096, out_features=14336, bias=False)\n",
      "      (lora_A): Linear(in_features=4096, out_features=8, bias=False)\n",
      "      (lora_B): Linear(in_features=8, out_features=14336, bias=False)\n",
      "      (nero_A): Linear(in_features=14336, out_features=8, bias=True)\n",
      "      (nero_B): Linear(in_features=8, out_features=14336, bias=True)\n",
      "    )\n",
      "    (layers__DOT__13__DOT__mlp__DOT__down_proj): NeroLayer(\n",
      "      (base_layer): Linear4bit(in_features=14336, out_features=4096, bias=False)\n",
      "      (lora_A): Linear(in_features=14336, out_features=8, bias=False)\n",
      "      (lora_B): Linear(in_features=8, out_features=4096, bias=False)\n",
      "      (nero_A): Linear(in_features=4096, out_features=8, bias=True)\n",
      "      (nero_B): Linear(in_features=8, out_features=4096, bias=True)\n",
      "    )\n",
      "    (layers__DOT__14__DOT__self_attn__DOT__q_proj): NeroLayer(\n",
      "      (base_layer): Linear4bit(in_features=4096, out_features=4096, bias=False)\n",
      "      (lora_A): Linear(in_features=4096, out_features=8, bias=False)\n",
      "      (lora_B): Linear(in_features=8, out_features=4096, bias=False)\n",
      "      (nero_A): Linear(in_features=4096, out_features=8, bias=True)\n",
      "      (nero_B): Linear(in_features=8, out_features=4096, bias=True)\n",
      "    )\n",
      "    (layers__DOT__14__DOT__self_attn__DOT__k_proj): NeroLayer(\n",
      "      (base_layer): Linear4bit(in_features=4096, out_features=1024, bias=False)\n",
      "      (lora_A): Linear(in_features=4096, out_features=8, bias=False)\n",
      "      (lora_B): Linear(in_features=8, out_features=1024, bias=False)\n",
      "      (nero_A): Linear(in_features=1024, out_features=8, bias=True)\n",
      "      (nero_B): Linear(in_features=8, out_features=1024, bias=True)\n",
      "    )\n",
      "    (layers__DOT__14__DOT__self_attn__DOT__v_proj): NeroLayer(\n",
      "      (base_layer): Linear4bit(in_features=4096, out_features=1024, bias=False)\n",
      "      (lora_A): Linear(in_features=4096, out_features=8, bias=False)\n",
      "      (lora_B): Linear(in_features=8, out_features=1024, bias=False)\n",
      "      (nero_A): Linear(in_features=1024, out_features=8, bias=True)\n",
      "      (nero_B): Linear(in_features=8, out_features=1024, bias=True)\n",
      "    )\n",
      "    (layers__DOT__14__DOT__self_attn__DOT__o_proj): NeroLayer(\n",
      "      (base_layer): Linear4bit(in_features=4096, out_features=4096, bias=False)\n",
      "      (lora_A): Linear(in_features=4096, out_features=8, bias=False)\n",
      "      (lora_B): Linear(in_features=8, out_features=4096, bias=False)\n",
      "      (nero_A): Linear(in_features=4096, out_features=8, bias=True)\n",
      "      (nero_B): Linear(in_features=8, out_features=4096, bias=True)\n",
      "    )\n",
      "    (layers__DOT__14__DOT__mlp__DOT__gate_proj): NeroLayer(\n",
      "      (base_layer): Linear4bit(in_features=4096, out_features=14336, bias=False)\n",
      "      (lora_A): Linear(in_features=4096, out_features=8, bias=False)\n",
      "      (lora_B): Linear(in_features=8, out_features=14336, bias=False)\n",
      "      (nero_A): Linear(in_features=14336, out_features=8, bias=True)\n",
      "      (nero_B): Linear(in_features=8, out_features=14336, bias=True)\n",
      "    )\n",
      "    (layers__DOT__14__DOT__mlp__DOT__up_proj): NeroLayer(\n",
      "      (base_layer): Linear4bit(in_features=4096, out_features=14336, bias=False)\n",
      "      (lora_A): Linear(in_features=4096, out_features=8, bias=False)\n",
      "      (lora_B): Linear(in_features=8, out_features=14336, bias=False)\n",
      "      (nero_A): Linear(in_features=14336, out_features=8, bias=True)\n",
      "      (nero_B): Linear(in_features=8, out_features=14336, bias=True)\n",
      "    )\n",
      "    (layers__DOT__14__DOT__mlp__DOT__down_proj): NeroLayer(\n",
      "      (base_layer): Linear4bit(in_features=14336, out_features=4096, bias=False)\n",
      "      (lora_A): Linear(in_features=14336, out_features=8, bias=False)\n",
      "      (lora_B): Linear(in_features=8, out_features=4096, bias=False)\n",
      "      (nero_A): Linear(in_features=4096, out_features=8, bias=True)\n",
      "      (nero_B): Linear(in_features=8, out_features=4096, bias=True)\n",
      "    )\n",
      "    (layers__DOT__15__DOT__self_attn__DOT__q_proj): NeroLayer(\n",
      "      (base_layer): Linear4bit(in_features=4096, out_features=4096, bias=False)\n",
      "      (lora_A): Linear(in_features=4096, out_features=8, bias=False)\n",
      "      (lora_B): Linear(in_features=8, out_features=4096, bias=False)\n",
      "      (nero_A): Linear(in_features=4096, out_features=8, bias=True)\n",
      "      (nero_B): Linear(in_features=8, out_features=4096, bias=True)\n",
      "    )\n",
      "    (layers__DOT__15__DOT__self_attn__DOT__k_proj): NeroLayer(\n",
      "      (base_layer): Linear4bit(in_features=4096, out_features=1024, bias=False)\n",
      "      (lora_A): Linear(in_features=4096, out_features=8, bias=False)\n",
      "      (lora_B): Linear(in_features=8, out_features=1024, bias=False)\n",
      "      (nero_A): Linear(in_features=1024, out_features=8, bias=True)\n",
      "      (nero_B): Linear(in_features=8, out_features=1024, bias=True)\n",
      "    )\n",
      "    (layers__DOT__15__DOT__self_attn__DOT__v_proj): NeroLayer(\n",
      "      (base_layer): Linear4bit(in_features=4096, out_features=1024, bias=False)\n",
      "      (lora_A): Linear(in_features=4096, out_features=8, bias=False)\n",
      "      (lora_B): Linear(in_features=8, out_features=1024, bias=False)\n",
      "      (nero_A): Linear(in_features=1024, out_features=8, bias=True)\n",
      "      (nero_B): Linear(in_features=8, out_features=1024, bias=True)\n",
      "    )\n",
      "    (layers__DOT__15__DOT__self_attn__DOT__o_proj): NeroLayer(\n",
      "      (base_layer): Linear4bit(in_features=4096, out_features=4096, bias=False)\n",
      "      (lora_A): Linear(in_features=4096, out_features=8, bias=False)\n",
      "      (lora_B): Linear(in_features=8, out_features=4096, bias=False)\n",
      "      (nero_A): Linear(in_features=4096, out_features=8, bias=True)\n",
      "      (nero_B): Linear(in_features=8, out_features=4096, bias=True)\n",
      "    )\n",
      "    (layers__DOT__15__DOT__mlp__DOT__gate_proj): NeroLayer(\n",
      "      (base_layer): Linear4bit(in_features=4096, out_features=14336, bias=False)\n",
      "      (lora_A): Linear(in_features=4096, out_features=8, bias=False)\n",
      "      (lora_B): Linear(in_features=8, out_features=14336, bias=False)\n",
      "      (nero_A): Linear(in_features=14336, out_features=8, bias=True)\n",
      "      (nero_B): Linear(in_features=8, out_features=14336, bias=True)\n",
      "    )\n",
      "    (layers__DOT__15__DOT__mlp__DOT__up_proj): NeroLayer(\n",
      "      (base_layer): Linear4bit(in_features=4096, out_features=14336, bias=False)\n",
      "      (lora_A): Linear(in_features=4096, out_features=8, bias=False)\n",
      "      (lora_B): Linear(in_features=8, out_features=14336, bias=False)\n",
      "      (nero_A): Linear(in_features=14336, out_features=8, bias=True)\n",
      "      (nero_B): Linear(in_features=8, out_features=14336, bias=True)\n",
      "    )\n",
      "    (layers__DOT__15__DOT__mlp__DOT__down_proj): NeroLayer(\n",
      "      (base_layer): Linear4bit(in_features=14336, out_features=4096, bias=False)\n",
      "      (lora_A): Linear(in_features=14336, out_features=8, bias=False)\n",
      "      (lora_B): Linear(in_features=8, out_features=4096, bias=False)\n",
      "      (nero_A): Linear(in_features=4096, out_features=8, bias=True)\n",
      "      (nero_B): Linear(in_features=8, out_features=4096, bias=True)\n",
      "    )\n",
      "    (layers__DOT__16__DOT__self_attn__DOT__q_proj): NeroLayer(\n",
      "      (base_layer): Linear4bit(in_features=4096, out_features=4096, bias=False)\n",
      "      (lora_A): Linear(in_features=4096, out_features=8, bias=False)\n",
      "      (lora_B): Linear(in_features=8, out_features=4096, bias=False)\n",
      "      (nero_A): Linear(in_features=4096, out_features=8, bias=True)\n",
      "      (nero_B): Linear(in_features=8, out_features=4096, bias=True)\n",
      "    )\n",
      "    (layers__DOT__16__DOT__self_attn__DOT__k_proj): NeroLayer(\n",
      "      (base_layer): Linear4bit(in_features=4096, out_features=1024, bias=False)\n",
      "      (lora_A): Linear(in_features=4096, out_features=8, bias=False)\n",
      "      (lora_B): Linear(in_features=8, out_features=1024, bias=False)\n",
      "      (nero_A): Linear(in_features=1024, out_features=8, bias=True)\n",
      "      (nero_B): Linear(in_features=8, out_features=1024, bias=True)\n",
      "    )\n",
      "    (layers__DOT__16__DOT__self_attn__DOT__v_proj): NeroLayer(\n",
      "      (base_layer): Linear4bit(in_features=4096, out_features=1024, bias=False)\n",
      "      (lora_A): Linear(in_features=4096, out_features=8, bias=False)\n",
      "      (lora_B): Linear(in_features=8, out_features=1024, bias=False)\n",
      "      (nero_A): Linear(in_features=1024, out_features=8, bias=True)\n",
      "      (nero_B): Linear(in_features=8, out_features=1024, bias=True)\n",
      "    )\n",
      "    (layers__DOT__16__DOT__self_attn__DOT__o_proj): NeroLayer(\n",
      "      (base_layer): Linear4bit(in_features=4096, out_features=4096, bias=False)\n",
      "      (lora_A): Linear(in_features=4096, out_features=8, bias=False)\n",
      "      (lora_B): Linear(in_features=8, out_features=4096, bias=False)\n",
      "      (nero_A): Linear(in_features=4096, out_features=8, bias=True)\n",
      "      (nero_B): Linear(in_features=8, out_features=4096, bias=True)\n",
      "    )\n",
      "    (layers__DOT__16__DOT__mlp__DOT__gate_proj): NeroLayer(\n",
      "      (base_layer): Linear4bit(in_features=4096, out_features=14336, bias=False)\n",
      "      (lora_A): Linear(in_features=4096, out_features=8, bias=False)\n",
      "      (lora_B): Linear(in_features=8, out_features=14336, bias=False)\n",
      "      (nero_A): Linear(in_features=14336, out_features=8, bias=True)\n",
      "      (nero_B): Linear(in_features=8, out_features=14336, bias=True)\n",
      "    )\n",
      "    (layers__DOT__16__DOT__mlp__DOT__up_proj): NeroLayer(\n",
      "      (base_layer): Linear4bit(in_features=4096, out_features=14336, bias=False)\n",
      "      (lora_A): Linear(in_features=4096, out_features=8, bias=False)\n",
      "      (lora_B): Linear(in_features=8, out_features=14336, bias=False)\n",
      "      (nero_A): Linear(in_features=14336, out_features=8, bias=True)\n",
      "      (nero_B): Linear(in_features=8, out_features=14336, bias=True)\n",
      "    )\n",
      "    (layers__DOT__16__DOT__mlp__DOT__down_proj): NeroLayer(\n",
      "      (base_layer): Linear4bit(in_features=14336, out_features=4096, bias=False)\n",
      "      (lora_A): Linear(in_features=14336, out_features=8, bias=False)\n",
      "      (lora_B): Linear(in_features=8, out_features=4096, bias=False)\n",
      "      (nero_A): Linear(in_features=4096, out_features=8, bias=True)\n",
      "      (nero_B): Linear(in_features=8, out_features=4096, bias=True)\n",
      "    )\n",
      "    (layers__DOT__17__DOT__self_attn__DOT__q_proj): NeroLayer(\n",
      "      (base_layer): Linear4bit(in_features=4096, out_features=4096, bias=False)\n",
      "      (lora_A): Linear(in_features=4096, out_features=8, bias=False)\n",
      "      (lora_B): Linear(in_features=8, out_features=4096, bias=False)\n",
      "      (nero_A): Linear(in_features=4096, out_features=8, bias=True)\n",
      "      (nero_B): Linear(in_features=8, out_features=4096, bias=True)\n",
      "    )\n",
      "    (layers__DOT__17__DOT__self_attn__DOT__k_proj): NeroLayer(\n",
      "      (base_layer): Linear4bit(in_features=4096, out_features=1024, bias=False)\n",
      "      (lora_A): Linear(in_features=4096, out_features=8, bias=False)\n",
      "      (lora_B): Linear(in_features=8, out_features=1024, bias=False)\n",
      "      (nero_A): Linear(in_features=1024, out_features=8, bias=True)\n",
      "      (nero_B): Linear(in_features=8, out_features=1024, bias=True)\n",
      "    )\n",
      "    (layers__DOT__17__DOT__self_attn__DOT__v_proj): NeroLayer(\n",
      "      (base_layer): Linear4bit(in_features=4096, out_features=1024, bias=False)\n",
      "      (lora_A): Linear(in_features=4096, out_features=8, bias=False)\n",
      "      (lora_B): Linear(in_features=8, out_features=1024, bias=False)\n",
      "      (nero_A): Linear(in_features=1024, out_features=8, bias=True)\n",
      "      (nero_B): Linear(in_features=8, out_features=1024, bias=True)\n",
      "    )\n",
      "    (layers__DOT__17__DOT__self_attn__DOT__o_proj): NeroLayer(\n",
      "      (base_layer): Linear4bit(in_features=4096, out_features=4096, bias=False)\n",
      "      (lora_A): Linear(in_features=4096, out_features=8, bias=False)\n",
      "      (lora_B): Linear(in_features=8, out_features=4096, bias=False)\n",
      "      (nero_A): Linear(in_features=4096, out_features=8, bias=True)\n",
      "      (nero_B): Linear(in_features=8, out_features=4096, bias=True)\n",
      "    )\n",
      "    (layers__DOT__17__DOT__mlp__DOT__gate_proj): NeroLayer(\n",
      "      (base_layer): Linear4bit(in_features=4096, out_features=14336, bias=False)\n",
      "      (lora_A): Linear(in_features=4096, out_features=8, bias=False)\n",
      "      (lora_B): Linear(in_features=8, out_features=14336, bias=False)\n",
      "      (nero_A): Linear(in_features=14336, out_features=8, bias=True)\n",
      "      (nero_B): Linear(in_features=8, out_features=14336, bias=True)\n",
      "    )\n",
      "    (layers__DOT__17__DOT__mlp__DOT__up_proj): NeroLayer(\n",
      "      (base_layer): Linear4bit(in_features=4096, out_features=14336, bias=False)\n",
      "      (lora_A): Linear(in_features=4096, out_features=8, bias=False)\n",
      "      (lora_B): Linear(in_features=8, out_features=14336, bias=False)\n",
      "      (nero_A): Linear(in_features=14336, out_features=8, bias=True)\n",
      "      (nero_B): Linear(in_features=8, out_features=14336, bias=True)\n",
      "    )\n",
      "    (layers__DOT__17__DOT__mlp__DOT__down_proj): NeroLayer(\n",
      "      (base_layer): Linear4bit(in_features=14336, out_features=4096, bias=False)\n",
      "      (lora_A): Linear(in_features=14336, out_features=8, bias=False)\n",
      "      (lora_B): Linear(in_features=8, out_features=4096, bias=False)\n",
      "      (nero_A): Linear(in_features=4096, out_features=8, bias=True)\n",
      "      (nero_B): Linear(in_features=8, out_features=4096, bias=True)\n",
      "    )\n",
      "    (layers__DOT__18__DOT__self_attn__DOT__q_proj): NeroLayer(\n",
      "      (base_layer): Linear4bit(in_features=4096, out_features=4096, bias=False)\n",
      "      (lora_A): Linear(in_features=4096, out_features=8, bias=False)\n",
      "      (lora_B): Linear(in_features=8, out_features=4096, bias=False)\n",
      "      (nero_A): Linear(in_features=4096, out_features=8, bias=True)\n",
      "      (nero_B): Linear(in_features=8, out_features=4096, bias=True)\n",
      "    )\n",
      "    (layers__DOT__18__DOT__self_attn__DOT__k_proj): NeroLayer(\n",
      "      (base_layer): Linear4bit(in_features=4096, out_features=1024, bias=False)\n",
      "      (lora_A): Linear(in_features=4096, out_features=8, bias=False)\n",
      "      (lora_B): Linear(in_features=8, out_features=1024, bias=False)\n",
      "      (nero_A): Linear(in_features=1024, out_features=8, bias=True)\n",
      "      (nero_B): Linear(in_features=8, out_features=1024, bias=True)\n",
      "    )\n",
      "    (layers__DOT__18__DOT__self_attn__DOT__v_proj): NeroLayer(\n",
      "      (base_layer): Linear4bit(in_features=4096, out_features=1024, bias=False)\n",
      "      (lora_A): Linear(in_features=4096, out_features=8, bias=False)\n",
      "      (lora_B): Linear(in_features=8, out_features=1024, bias=False)\n",
      "      (nero_A): Linear(in_features=1024, out_features=8, bias=True)\n",
      "      (nero_B): Linear(in_features=8, out_features=1024, bias=True)\n",
      "    )\n",
      "    (layers__DOT__18__DOT__self_attn__DOT__o_proj): NeroLayer(\n",
      "      (base_layer): Linear4bit(in_features=4096, out_features=4096, bias=False)\n",
      "      (lora_A): Linear(in_features=4096, out_features=8, bias=False)\n",
      "      (lora_B): Linear(in_features=8, out_features=4096, bias=False)\n",
      "      (nero_A): Linear(in_features=4096, out_features=8, bias=True)\n",
      "      (nero_B): Linear(in_features=8, out_features=4096, bias=True)\n",
      "    )\n",
      "    (layers__DOT__18__DOT__mlp__DOT__gate_proj): NeroLayer(\n",
      "      (base_layer): Linear4bit(in_features=4096, out_features=14336, bias=False)\n",
      "      (lora_A): Linear(in_features=4096, out_features=8, bias=False)\n",
      "      (lora_B): Linear(in_features=8, out_features=14336, bias=False)\n",
      "      (nero_A): Linear(in_features=14336, out_features=8, bias=True)\n",
      "      (nero_B): Linear(in_features=8, out_features=14336, bias=True)\n",
      "    )\n",
      "    (layers__DOT__18__DOT__mlp__DOT__up_proj): NeroLayer(\n",
      "      (base_layer): Linear4bit(in_features=4096, out_features=14336, bias=False)\n",
      "      (lora_A): Linear(in_features=4096, out_features=8, bias=False)\n",
      "      (lora_B): Linear(in_features=8, out_features=14336, bias=False)\n",
      "      (nero_A): Linear(in_features=14336, out_features=8, bias=True)\n",
      "      (nero_B): Linear(in_features=8, out_features=14336, bias=True)\n",
      "    )\n",
      "    (layers__DOT__18__DOT__mlp__DOT__down_proj): NeroLayer(\n",
      "      (base_layer): Linear4bit(in_features=14336, out_features=4096, bias=False)\n",
      "      (lora_A): Linear(in_features=14336, out_features=8, bias=False)\n",
      "      (lora_B): Linear(in_features=8, out_features=4096, bias=False)\n",
      "      (nero_A): Linear(in_features=4096, out_features=8, bias=True)\n",
      "      (nero_B): Linear(in_features=8, out_features=4096, bias=True)\n",
      "    )\n",
      "    (layers__DOT__19__DOT__self_attn__DOT__q_proj): NeroLayer(\n",
      "      (base_layer): Linear4bit(in_features=4096, out_features=4096, bias=False)\n",
      "      (lora_A): Linear(in_features=4096, out_features=8, bias=False)\n",
      "      (lora_B): Linear(in_features=8, out_features=4096, bias=False)\n",
      "      (nero_A): Linear(in_features=4096, out_features=8, bias=True)\n",
      "      (nero_B): Linear(in_features=8, out_features=4096, bias=True)\n",
      "    )\n",
      "    (layers__DOT__19__DOT__self_attn__DOT__k_proj): NeroLayer(\n",
      "      (base_layer): Linear4bit(in_features=4096, out_features=1024, bias=False)\n",
      "      (lora_A): Linear(in_features=4096, out_features=8, bias=False)\n",
      "      (lora_B): Linear(in_features=8, out_features=1024, bias=False)\n",
      "      (nero_A): Linear(in_features=1024, out_features=8, bias=True)\n",
      "      (nero_B): Linear(in_features=8, out_features=1024, bias=True)\n",
      "    )\n",
      "    (layers__DOT__19__DOT__self_attn__DOT__v_proj): NeroLayer(\n",
      "      (base_layer): Linear4bit(in_features=4096, out_features=1024, bias=False)\n",
      "      (lora_A): Linear(in_features=4096, out_features=8, bias=False)\n",
      "      (lora_B): Linear(in_features=8, out_features=1024, bias=False)\n",
      "      (nero_A): Linear(in_features=1024, out_features=8, bias=True)\n",
      "      (nero_B): Linear(in_features=8, out_features=1024, bias=True)\n",
      "    )\n",
      "    (layers__DOT__19__DOT__self_attn__DOT__o_proj): NeroLayer(\n",
      "      (base_layer): Linear4bit(in_features=4096, out_features=4096, bias=False)\n",
      "      (lora_A): Linear(in_features=4096, out_features=8, bias=False)\n",
      "      (lora_B): Linear(in_features=8, out_features=4096, bias=False)\n",
      "      (nero_A): Linear(in_features=4096, out_features=8, bias=True)\n",
      "      (nero_B): Linear(in_features=8, out_features=4096, bias=True)\n",
      "    )\n",
      "    (layers__DOT__19__DOT__mlp__DOT__gate_proj): NeroLayer(\n",
      "      (base_layer): Linear4bit(in_features=4096, out_features=14336, bias=False)\n",
      "      (lora_A): Linear(in_features=4096, out_features=8, bias=False)\n",
      "      (lora_B): Linear(in_features=8, out_features=14336, bias=False)\n",
      "      (nero_A): Linear(in_features=14336, out_features=8, bias=True)\n",
      "      (nero_B): Linear(in_features=8, out_features=14336, bias=True)\n",
      "    )\n",
      "    (layers__DOT__19__DOT__mlp__DOT__up_proj): NeroLayer(\n",
      "      (base_layer): Linear4bit(in_features=4096, out_features=14336, bias=False)\n",
      "      (lora_A): Linear(in_features=4096, out_features=8, bias=False)\n",
      "      (lora_B): Linear(in_features=8, out_features=14336, bias=False)\n",
      "      (nero_A): Linear(in_features=14336, out_features=8, bias=True)\n",
      "      (nero_B): Linear(in_features=8, out_features=14336, bias=True)\n",
      "    )\n",
      "    (layers__DOT__19__DOT__mlp__DOT__down_proj): NeroLayer(\n",
      "      (base_layer): Linear4bit(in_features=14336, out_features=4096, bias=False)\n",
      "      (lora_A): Linear(in_features=14336, out_features=8, bias=False)\n",
      "      (lora_B): Linear(in_features=8, out_features=4096, bias=False)\n",
      "      (nero_A): Linear(in_features=4096, out_features=8, bias=True)\n",
      "      (nero_B): Linear(in_features=8, out_features=4096, bias=True)\n",
      "    )\n",
      "    (layers__DOT__20__DOT__self_attn__DOT__q_proj): NeroLayer(\n",
      "      (base_layer): Linear4bit(in_features=4096, out_features=4096, bias=False)\n",
      "      (lora_A): Linear(in_features=4096, out_features=8, bias=False)\n",
      "      (lora_B): Linear(in_features=8, out_features=4096, bias=False)\n",
      "      (nero_A): Linear(in_features=4096, out_features=8, bias=True)\n",
      "      (nero_B): Linear(in_features=8, out_features=4096, bias=True)\n",
      "    )\n",
      "    (layers__DOT__20__DOT__self_attn__DOT__k_proj): NeroLayer(\n",
      "      (base_layer): Linear4bit(in_features=4096, out_features=1024, bias=False)\n",
      "      (lora_A): Linear(in_features=4096, out_features=8, bias=False)\n",
      "      (lora_B): Linear(in_features=8, out_features=1024, bias=False)\n",
      "      (nero_A): Linear(in_features=1024, out_features=8, bias=True)\n",
      "      (nero_B): Linear(in_features=8, out_features=1024, bias=True)\n",
      "    )\n",
      "    (layers__DOT__20__DOT__self_attn__DOT__v_proj): NeroLayer(\n",
      "      (base_layer): Linear4bit(in_features=4096, out_features=1024, bias=False)\n",
      "      (lora_A): Linear(in_features=4096, out_features=8, bias=False)\n",
      "      (lora_B): Linear(in_features=8, out_features=1024, bias=False)\n",
      "      (nero_A): Linear(in_features=1024, out_features=8, bias=True)\n",
      "      (nero_B): Linear(in_features=8, out_features=1024, bias=True)\n",
      "    )\n",
      "    (layers__DOT__20__DOT__self_attn__DOT__o_proj): NeroLayer(\n",
      "      (base_layer): Linear4bit(in_features=4096, out_features=4096, bias=False)\n",
      "      (lora_A): Linear(in_features=4096, out_features=8, bias=False)\n",
      "      (lora_B): Linear(in_features=8, out_features=4096, bias=False)\n",
      "      (nero_A): Linear(in_features=4096, out_features=8, bias=True)\n",
      "      (nero_B): Linear(in_features=8, out_features=4096, bias=True)\n",
      "    )\n",
      "    (layers__DOT__20__DOT__mlp__DOT__gate_proj): NeroLayer(\n",
      "      (base_layer): Linear4bit(in_features=4096, out_features=14336, bias=False)\n",
      "      (lora_A): Linear(in_features=4096, out_features=8, bias=False)\n",
      "      (lora_B): Linear(in_features=8, out_features=14336, bias=False)\n",
      "      (nero_A): Linear(in_features=14336, out_features=8, bias=True)\n",
      "      (nero_B): Linear(in_features=8, out_features=14336, bias=True)\n",
      "    )\n",
      "    (layers__DOT__20__DOT__mlp__DOT__up_proj): NeroLayer(\n",
      "      (base_layer): Linear4bit(in_features=4096, out_features=14336, bias=False)\n",
      "      (lora_A): Linear(in_features=4096, out_features=8, bias=False)\n",
      "      (lora_B): Linear(in_features=8, out_features=14336, bias=False)\n",
      "      (nero_A): Linear(in_features=14336, out_features=8, bias=True)\n",
      "      (nero_B): Linear(in_features=8, out_features=14336, bias=True)\n",
      "    )\n",
      "    (layers__DOT__20__DOT__mlp__DOT__down_proj): NeroLayer(\n",
      "      (base_layer): Linear4bit(in_features=14336, out_features=4096, bias=False)\n",
      "      (lora_A): Linear(in_features=14336, out_features=8, bias=False)\n",
      "      (lora_B): Linear(in_features=8, out_features=4096, bias=False)\n",
      "      (nero_A): Linear(in_features=4096, out_features=8, bias=True)\n",
      "      (nero_B): Linear(in_features=8, out_features=4096, bias=True)\n",
      "    )\n",
      "    (layers__DOT__21__DOT__self_attn__DOT__q_proj): NeroLayer(\n",
      "      (base_layer): Linear4bit(in_features=4096, out_features=4096, bias=False)\n",
      "      (lora_A): Linear(in_features=4096, out_features=8, bias=False)\n",
      "      (lora_B): Linear(in_features=8, out_features=4096, bias=False)\n",
      "      (nero_A): Linear(in_features=4096, out_features=8, bias=True)\n",
      "      (nero_B): Linear(in_features=8, out_features=4096, bias=True)\n",
      "    )\n",
      "    (layers__DOT__21__DOT__self_attn__DOT__k_proj): NeroLayer(\n",
      "      (base_layer): Linear4bit(in_features=4096, out_features=1024, bias=False)\n",
      "      (lora_A): Linear(in_features=4096, out_features=8, bias=False)\n",
      "      (lora_B): Linear(in_features=8, out_features=1024, bias=False)\n",
      "      (nero_A): Linear(in_features=1024, out_features=8, bias=True)\n",
      "      (nero_B): Linear(in_features=8, out_features=1024, bias=True)\n",
      "    )\n",
      "    (layers__DOT__21__DOT__self_attn__DOT__v_proj): NeroLayer(\n",
      "      (base_layer): Linear4bit(in_features=4096, out_features=1024, bias=False)\n",
      "      (lora_A): Linear(in_features=4096, out_features=8, bias=False)\n",
      "      (lora_B): Linear(in_features=8, out_features=1024, bias=False)\n",
      "      (nero_A): Linear(in_features=1024, out_features=8, bias=True)\n",
      "      (nero_B): Linear(in_features=8, out_features=1024, bias=True)\n",
      "    )\n",
      "    (layers__DOT__21__DOT__self_attn__DOT__o_proj): NeroLayer(\n",
      "      (base_layer): Linear4bit(in_features=4096, out_features=4096, bias=False)\n",
      "      (lora_A): Linear(in_features=4096, out_features=8, bias=False)\n",
      "      (lora_B): Linear(in_features=8, out_features=4096, bias=False)\n",
      "      (nero_A): Linear(in_features=4096, out_features=8, bias=True)\n",
      "      (nero_B): Linear(in_features=8, out_features=4096, bias=True)\n",
      "    )\n",
      "    (layers__DOT__21__DOT__mlp__DOT__gate_proj): NeroLayer(\n",
      "      (base_layer): Linear4bit(in_features=4096, out_features=14336, bias=False)\n",
      "      (lora_A): Linear(in_features=4096, out_features=8, bias=False)\n",
      "      (lora_B): Linear(in_features=8, out_features=14336, bias=False)\n",
      "      (nero_A): Linear(in_features=14336, out_features=8, bias=True)\n",
      "      (nero_B): Linear(in_features=8, out_features=14336, bias=True)\n",
      "    )\n",
      "    (layers__DOT__21__DOT__mlp__DOT__up_proj): NeroLayer(\n",
      "      (base_layer): Linear4bit(in_features=4096, out_features=14336, bias=False)\n",
      "      (lora_A): Linear(in_features=4096, out_features=8, bias=False)\n",
      "      (lora_B): Linear(in_features=8, out_features=14336, bias=False)\n",
      "      (nero_A): Linear(in_features=14336, out_features=8, bias=True)\n",
      "      (nero_B): Linear(in_features=8, out_features=14336, bias=True)\n",
      "    )\n",
      "    (layers__DOT__21__DOT__mlp__DOT__down_proj): NeroLayer(\n",
      "      (base_layer): Linear4bit(in_features=14336, out_features=4096, bias=False)\n",
      "      (lora_A): Linear(in_features=14336, out_features=8, bias=False)\n",
      "      (lora_B): Linear(in_features=8, out_features=4096, bias=False)\n",
      "      (nero_A): Linear(in_features=4096, out_features=8, bias=True)\n",
      "      (nero_B): Linear(in_features=8, out_features=4096, bias=True)\n",
      "    )\n",
      "    (layers__DOT__22__DOT__self_attn__DOT__q_proj): NeroLayer(\n",
      "      (base_layer): Linear4bit(in_features=4096, out_features=4096, bias=False)\n",
      "      (lora_A): Linear(in_features=4096, out_features=8, bias=False)\n",
      "      (lora_B): Linear(in_features=8, out_features=4096, bias=False)\n",
      "      (nero_A): Linear(in_features=4096, out_features=8, bias=True)\n",
      "      (nero_B): Linear(in_features=8, out_features=4096, bias=True)\n",
      "    )\n",
      "    (layers__DOT__22__DOT__self_attn__DOT__k_proj): NeroLayer(\n",
      "      (base_layer): Linear4bit(in_features=4096, out_features=1024, bias=False)\n",
      "      (lora_A): Linear(in_features=4096, out_features=8, bias=False)\n",
      "      (lora_B): Linear(in_features=8, out_features=1024, bias=False)\n",
      "      (nero_A): Linear(in_features=1024, out_features=8, bias=True)\n",
      "      (nero_B): Linear(in_features=8, out_features=1024, bias=True)\n",
      "    )\n",
      "    (layers__DOT__22__DOT__self_attn__DOT__v_proj): NeroLayer(\n",
      "      (base_layer): Linear4bit(in_features=4096, out_features=1024, bias=False)\n",
      "      (lora_A): Linear(in_features=4096, out_features=8, bias=False)\n",
      "      (lora_B): Linear(in_features=8, out_features=1024, bias=False)\n",
      "      (nero_A): Linear(in_features=1024, out_features=8, bias=True)\n",
      "      (nero_B): Linear(in_features=8, out_features=1024, bias=True)\n",
      "    )\n",
      "    (layers__DOT__22__DOT__self_attn__DOT__o_proj): NeroLayer(\n",
      "      (base_layer): Linear4bit(in_features=4096, out_features=4096, bias=False)\n",
      "      (lora_A): Linear(in_features=4096, out_features=8, bias=False)\n",
      "      (lora_B): Linear(in_features=8, out_features=4096, bias=False)\n",
      "      (nero_A): Linear(in_features=4096, out_features=8, bias=True)\n",
      "      (nero_B): Linear(in_features=8, out_features=4096, bias=True)\n",
      "    )\n",
      "    (layers__DOT__22__DOT__mlp__DOT__gate_proj): NeroLayer(\n",
      "      (base_layer): Linear4bit(in_features=4096, out_features=14336, bias=False)\n",
      "      (lora_A): Linear(in_features=4096, out_features=8, bias=False)\n",
      "      (lora_B): Linear(in_features=8, out_features=14336, bias=False)\n",
      "      (nero_A): Linear(in_features=14336, out_features=8, bias=True)\n",
      "      (nero_B): Linear(in_features=8, out_features=14336, bias=True)\n",
      "    )\n",
      "    (layers__DOT__22__DOT__mlp__DOT__up_proj): NeroLayer(\n",
      "      (base_layer): Linear4bit(in_features=4096, out_features=14336, bias=False)\n",
      "      (lora_A): Linear(in_features=4096, out_features=8, bias=False)\n",
      "      (lora_B): Linear(in_features=8, out_features=14336, bias=False)\n",
      "      (nero_A): Linear(in_features=14336, out_features=8, bias=True)\n",
      "      (nero_B): Linear(in_features=8, out_features=14336, bias=True)\n",
      "    )\n",
      "    (layers__DOT__22__DOT__mlp__DOT__down_proj): NeroLayer(\n",
      "      (base_layer): Linear4bit(in_features=14336, out_features=4096, bias=False)\n",
      "      (lora_A): Linear(in_features=14336, out_features=8, bias=False)\n",
      "      (lora_B): Linear(in_features=8, out_features=4096, bias=False)\n",
      "      (nero_A): Linear(in_features=4096, out_features=8, bias=True)\n",
      "      (nero_B): Linear(in_features=8, out_features=4096, bias=True)\n",
      "    )\n",
      "    (layers__DOT__23__DOT__self_attn__DOT__q_proj): NeroLayer(\n",
      "      (base_layer): Linear4bit(in_features=4096, out_features=4096, bias=False)\n",
      "      (lora_A): Linear(in_features=4096, out_features=8, bias=False)\n",
      "      (lora_B): Linear(in_features=8, out_features=4096, bias=False)\n",
      "      (nero_A): Linear(in_features=4096, out_features=8, bias=True)\n",
      "      (nero_B): Linear(in_features=8, out_features=4096, bias=True)\n",
      "    )\n",
      "    (layers__DOT__23__DOT__self_attn__DOT__k_proj): NeroLayer(\n",
      "      (base_layer): Linear4bit(in_features=4096, out_features=1024, bias=False)\n",
      "      (lora_A): Linear(in_features=4096, out_features=8, bias=False)\n",
      "      (lora_B): Linear(in_features=8, out_features=1024, bias=False)\n",
      "      (nero_A): Linear(in_features=1024, out_features=8, bias=True)\n",
      "      (nero_B): Linear(in_features=8, out_features=1024, bias=True)\n",
      "    )\n",
      "    (layers__DOT__23__DOT__self_attn__DOT__v_proj): NeroLayer(\n",
      "      (base_layer): Linear4bit(in_features=4096, out_features=1024, bias=False)\n",
      "      (lora_A): Linear(in_features=4096, out_features=8, bias=False)\n",
      "      (lora_B): Linear(in_features=8, out_features=1024, bias=False)\n",
      "      (nero_A): Linear(in_features=1024, out_features=8, bias=True)\n",
      "      (nero_B): Linear(in_features=8, out_features=1024, bias=True)\n",
      "    )\n",
      "    (layers__DOT__23__DOT__self_attn__DOT__o_proj): NeroLayer(\n",
      "      (base_layer): Linear4bit(in_features=4096, out_features=4096, bias=False)\n",
      "      (lora_A): Linear(in_features=4096, out_features=8, bias=False)\n",
      "      (lora_B): Linear(in_features=8, out_features=4096, bias=False)\n",
      "      (nero_A): Linear(in_features=4096, out_features=8, bias=True)\n",
      "      (nero_B): Linear(in_features=8, out_features=4096, bias=True)\n",
      "    )\n",
      "    (layers__DOT__23__DOT__mlp__DOT__gate_proj): NeroLayer(\n",
      "      (base_layer): Linear4bit(in_features=4096, out_features=14336, bias=False)\n",
      "      (lora_A): Linear(in_features=4096, out_features=8, bias=False)\n",
      "      (lora_B): Linear(in_features=8, out_features=14336, bias=False)\n",
      "      (nero_A): Linear(in_features=14336, out_features=8, bias=True)\n",
      "      (nero_B): Linear(in_features=8, out_features=14336, bias=True)\n",
      "    )\n",
      "    (layers__DOT__23__DOT__mlp__DOT__up_proj): NeroLayer(\n",
      "      (base_layer): Linear4bit(in_features=4096, out_features=14336, bias=False)\n",
      "      (lora_A): Linear(in_features=4096, out_features=8, bias=False)\n",
      "      (lora_B): Linear(in_features=8, out_features=14336, bias=False)\n",
      "      (nero_A): Linear(in_features=14336, out_features=8, bias=True)\n",
      "      (nero_B): Linear(in_features=8, out_features=14336, bias=True)\n",
      "    )\n",
      "    (layers__DOT__23__DOT__mlp__DOT__down_proj): NeroLayer(\n",
      "      (base_layer): Linear4bit(in_features=14336, out_features=4096, bias=False)\n",
      "      (lora_A): Linear(in_features=14336, out_features=8, bias=False)\n",
      "      (lora_B): Linear(in_features=8, out_features=4096, bias=False)\n",
      "      (nero_A): Linear(in_features=4096, out_features=8, bias=True)\n",
      "      (nero_B): Linear(in_features=8, out_features=4096, bias=True)\n",
      "    )\n",
      "    (layers__DOT__24__DOT__self_attn__DOT__q_proj): NeroLayer(\n",
      "      (base_layer): Linear4bit(in_features=4096, out_features=4096, bias=False)\n",
      "      (lora_A): Linear(in_features=4096, out_features=8, bias=False)\n",
      "      (lora_B): Linear(in_features=8, out_features=4096, bias=False)\n",
      "      (nero_A): Linear(in_features=4096, out_features=8, bias=True)\n",
      "      (nero_B): Linear(in_features=8, out_features=4096, bias=True)\n",
      "    )\n",
      "    (layers__DOT__24__DOT__self_attn__DOT__k_proj): NeroLayer(\n",
      "      (base_layer): Linear4bit(in_features=4096, out_features=1024, bias=False)\n",
      "      (lora_A): Linear(in_features=4096, out_features=8, bias=False)\n",
      "      (lora_B): Linear(in_features=8, out_features=1024, bias=False)\n",
      "      (nero_A): Linear(in_features=1024, out_features=8, bias=True)\n",
      "      (nero_B): Linear(in_features=8, out_features=1024, bias=True)\n",
      "    )\n",
      "    (layers__DOT__24__DOT__self_attn__DOT__v_proj): NeroLayer(\n",
      "      (base_layer): Linear4bit(in_features=4096, out_features=1024, bias=False)\n",
      "      (lora_A): Linear(in_features=4096, out_features=8, bias=False)\n",
      "      (lora_B): Linear(in_features=8, out_features=1024, bias=False)\n",
      "      (nero_A): Linear(in_features=1024, out_features=8, bias=True)\n",
      "      (nero_B): Linear(in_features=8, out_features=1024, bias=True)\n",
      "    )\n",
      "    (layers__DOT__24__DOT__self_attn__DOT__o_proj): NeroLayer(\n",
      "      (base_layer): Linear4bit(in_features=4096, out_features=4096, bias=False)\n",
      "      (lora_A): Linear(in_features=4096, out_features=8, bias=False)\n",
      "      (lora_B): Linear(in_features=8, out_features=4096, bias=False)\n",
      "      (nero_A): Linear(in_features=4096, out_features=8, bias=True)\n",
      "      (nero_B): Linear(in_features=8, out_features=4096, bias=True)\n",
      "    )\n",
      "    (layers__DOT__24__DOT__mlp__DOT__gate_proj): NeroLayer(\n",
      "      (base_layer): Linear4bit(in_features=4096, out_features=14336, bias=False)\n",
      "      (lora_A): Linear(in_features=4096, out_features=8, bias=False)\n",
      "      (lora_B): Linear(in_features=8, out_features=14336, bias=False)\n",
      "      (nero_A): Linear(in_features=14336, out_features=8, bias=True)\n",
      "      (nero_B): Linear(in_features=8, out_features=14336, bias=True)\n",
      "    )\n",
      "    (layers__DOT__24__DOT__mlp__DOT__up_proj): NeroLayer(\n",
      "      (base_layer): Linear4bit(in_features=4096, out_features=14336, bias=False)\n",
      "      (lora_A): Linear(in_features=4096, out_features=8, bias=False)\n",
      "      (lora_B): Linear(in_features=8, out_features=14336, bias=False)\n",
      "      (nero_A): Linear(in_features=14336, out_features=8, bias=True)\n",
      "      (nero_B): Linear(in_features=8, out_features=14336, bias=True)\n",
      "    )\n",
      "    (layers__DOT__24__DOT__mlp__DOT__down_proj): NeroLayer(\n",
      "      (base_layer): Linear4bit(in_features=14336, out_features=4096, bias=False)\n",
      "      (lora_A): Linear(in_features=14336, out_features=8, bias=False)\n",
      "      (lora_B): Linear(in_features=8, out_features=4096, bias=False)\n",
      "      (nero_A): Linear(in_features=4096, out_features=8, bias=True)\n",
      "      (nero_B): Linear(in_features=8, out_features=4096, bias=True)\n",
      "    )\n",
      "    (layers__DOT__25__DOT__self_attn__DOT__q_proj): NeroLayer(\n",
      "      (base_layer): Linear4bit(in_features=4096, out_features=4096, bias=False)\n",
      "      (lora_A): Linear(in_features=4096, out_features=8, bias=False)\n",
      "      (lora_B): Linear(in_features=8, out_features=4096, bias=False)\n",
      "      (nero_A): Linear(in_features=4096, out_features=8, bias=True)\n",
      "      (nero_B): Linear(in_features=8, out_features=4096, bias=True)\n",
      "    )\n",
      "    (layers__DOT__25__DOT__self_attn__DOT__k_proj): NeroLayer(\n",
      "      (base_layer): Linear4bit(in_features=4096, out_features=1024, bias=False)\n",
      "      (lora_A): Linear(in_features=4096, out_features=8, bias=False)\n",
      "      (lora_B): Linear(in_features=8, out_features=1024, bias=False)\n",
      "      (nero_A): Linear(in_features=1024, out_features=8, bias=True)\n",
      "      (nero_B): Linear(in_features=8, out_features=1024, bias=True)\n",
      "    )\n",
      "    (layers__DOT__25__DOT__self_attn__DOT__v_proj): NeroLayer(\n",
      "      (base_layer): Linear4bit(in_features=4096, out_features=1024, bias=False)\n",
      "      (lora_A): Linear(in_features=4096, out_features=8, bias=False)\n",
      "      (lora_B): Linear(in_features=8, out_features=1024, bias=False)\n",
      "      (nero_A): Linear(in_features=1024, out_features=8, bias=True)\n",
      "      (nero_B): Linear(in_features=8, out_features=1024, bias=True)\n",
      "    )\n",
      "    (layers__DOT__25__DOT__self_attn__DOT__o_proj): NeroLayer(\n",
      "      (base_layer): Linear4bit(in_features=4096, out_features=4096, bias=False)\n",
      "      (lora_A): Linear(in_features=4096, out_features=8, bias=False)\n",
      "      (lora_B): Linear(in_features=8, out_features=4096, bias=False)\n",
      "      (nero_A): Linear(in_features=4096, out_features=8, bias=True)\n",
      "      (nero_B): Linear(in_features=8, out_features=4096, bias=True)\n",
      "    )\n",
      "    (layers__DOT__25__DOT__mlp__DOT__gate_proj): NeroLayer(\n",
      "      (base_layer): Linear4bit(in_features=4096, out_features=14336, bias=False)\n",
      "      (lora_A): Linear(in_features=4096, out_features=8, bias=False)\n",
      "      (lora_B): Linear(in_features=8, out_features=14336, bias=False)\n",
      "      (nero_A): Linear(in_features=14336, out_features=8, bias=True)\n",
      "      (nero_B): Linear(in_features=8, out_features=14336, bias=True)\n",
      "    )\n",
      "    (layers__DOT__25__DOT__mlp__DOT__up_proj): NeroLayer(\n",
      "      (base_layer): Linear4bit(in_features=4096, out_features=14336, bias=False)\n",
      "      (lora_A): Linear(in_features=4096, out_features=8, bias=False)\n",
      "      (lora_B): Linear(in_features=8, out_features=14336, bias=False)\n",
      "      (nero_A): Linear(in_features=14336, out_features=8, bias=True)\n",
      "      (nero_B): Linear(in_features=8, out_features=14336, bias=True)\n",
      "    )\n",
      "    (layers__DOT__25__DOT__mlp__DOT__down_proj): NeroLayer(\n",
      "      (base_layer): Linear4bit(in_features=14336, out_features=4096, bias=False)\n",
      "      (lora_A): Linear(in_features=14336, out_features=8, bias=False)\n",
      "      (lora_B): Linear(in_features=8, out_features=4096, bias=False)\n",
      "      (nero_A): Linear(in_features=4096, out_features=8, bias=True)\n",
      "      (nero_B): Linear(in_features=8, out_features=4096, bias=True)\n",
      "    )\n",
      "    (layers__DOT__26__DOT__self_attn__DOT__q_proj): NeroLayer(\n",
      "      (base_layer): Linear4bit(in_features=4096, out_features=4096, bias=False)\n",
      "      (lora_A): Linear(in_features=4096, out_features=8, bias=False)\n",
      "      (lora_B): Linear(in_features=8, out_features=4096, bias=False)\n",
      "      (nero_A): Linear(in_features=4096, out_features=8, bias=True)\n",
      "      (nero_B): Linear(in_features=8, out_features=4096, bias=True)\n",
      "    )\n",
      "    (layers__DOT__26__DOT__self_attn__DOT__k_proj): NeroLayer(\n",
      "      (base_layer): Linear4bit(in_features=4096, out_features=1024, bias=False)\n",
      "      (lora_A): Linear(in_features=4096, out_features=8, bias=False)\n",
      "      (lora_B): Linear(in_features=8, out_features=1024, bias=False)\n",
      "      (nero_A): Linear(in_features=1024, out_features=8, bias=True)\n",
      "      (nero_B): Linear(in_features=8, out_features=1024, bias=True)\n",
      "    )\n",
      "    (layers__DOT__26__DOT__self_attn__DOT__v_proj): NeroLayer(\n",
      "      (base_layer): Linear4bit(in_features=4096, out_features=1024, bias=False)\n",
      "      (lora_A): Linear(in_features=4096, out_features=8, bias=False)\n",
      "      (lora_B): Linear(in_features=8, out_features=1024, bias=False)\n",
      "      (nero_A): Linear(in_features=1024, out_features=8, bias=True)\n",
      "      (nero_B): Linear(in_features=8, out_features=1024, bias=True)\n",
      "    )\n",
      "    (layers__DOT__26__DOT__self_attn__DOT__o_proj): NeroLayer(\n",
      "      (base_layer): Linear4bit(in_features=4096, out_features=4096, bias=False)\n",
      "      (lora_A): Linear(in_features=4096, out_features=8, bias=False)\n",
      "      (lora_B): Linear(in_features=8, out_features=4096, bias=False)\n",
      "      (nero_A): Linear(in_features=4096, out_features=8, bias=True)\n",
      "      (nero_B): Linear(in_features=8, out_features=4096, bias=True)\n",
      "    )\n",
      "    (layers__DOT__26__DOT__mlp__DOT__gate_proj): NeroLayer(\n",
      "      (base_layer): Linear4bit(in_features=4096, out_features=14336, bias=False)\n",
      "      (lora_A): Linear(in_features=4096, out_features=8, bias=False)\n",
      "      (lora_B): Linear(in_features=8, out_features=14336, bias=False)\n",
      "      (nero_A): Linear(in_features=14336, out_features=8, bias=True)\n",
      "      (nero_B): Linear(in_features=8, out_features=14336, bias=True)\n",
      "    )\n",
      "    (layers__DOT__26__DOT__mlp__DOT__up_proj): NeroLayer(\n",
      "      (base_layer): Linear4bit(in_features=4096, out_features=14336, bias=False)\n",
      "      (lora_A): Linear(in_features=4096, out_features=8, bias=False)\n",
      "      (lora_B): Linear(in_features=8, out_features=14336, bias=False)\n",
      "      (nero_A): Linear(in_features=14336, out_features=8, bias=True)\n",
      "      (nero_B): Linear(in_features=8, out_features=14336, bias=True)\n",
      "    )\n",
      "    (layers__DOT__26__DOT__mlp__DOT__down_proj): NeroLayer(\n",
      "      (base_layer): Linear4bit(in_features=14336, out_features=4096, bias=False)\n",
      "      (lora_A): Linear(in_features=14336, out_features=8, bias=False)\n",
      "      (lora_B): Linear(in_features=8, out_features=4096, bias=False)\n",
      "      (nero_A): Linear(in_features=4096, out_features=8, bias=True)\n",
      "      (nero_B): Linear(in_features=8, out_features=4096, bias=True)\n",
      "    )\n",
      "    (layers__DOT__27__DOT__self_attn__DOT__q_proj): NeroLayer(\n",
      "      (base_layer): Linear4bit(in_features=4096, out_features=4096, bias=False)\n",
      "      (lora_A): Linear(in_features=4096, out_features=8, bias=False)\n",
      "      (lora_B): Linear(in_features=8, out_features=4096, bias=False)\n",
      "      (nero_A): Linear(in_features=4096, out_features=8, bias=True)\n",
      "      (nero_B): Linear(in_features=8, out_features=4096, bias=True)\n",
      "    )\n",
      "    (layers__DOT__27__DOT__self_attn__DOT__k_proj): NeroLayer(\n",
      "      (base_layer): Linear4bit(in_features=4096, out_features=1024, bias=False)\n",
      "      (lora_A): Linear(in_features=4096, out_features=8, bias=False)\n",
      "      (lora_B): Linear(in_features=8, out_features=1024, bias=False)\n",
      "      (nero_A): Linear(in_features=1024, out_features=8, bias=True)\n",
      "      (nero_B): Linear(in_features=8, out_features=1024, bias=True)\n",
      "    )\n",
      "    (layers__DOT__27__DOT__self_attn__DOT__v_proj): NeroLayer(\n",
      "      (base_layer): Linear4bit(in_features=4096, out_features=1024, bias=False)\n",
      "      (lora_A): Linear(in_features=4096, out_features=8, bias=False)\n",
      "      (lora_B): Linear(in_features=8, out_features=1024, bias=False)\n",
      "      (nero_A): Linear(in_features=1024, out_features=8, bias=True)\n",
      "      (nero_B): Linear(in_features=8, out_features=1024, bias=True)\n",
      "    )\n",
      "    (layers__DOT__27__DOT__self_attn__DOT__o_proj): NeroLayer(\n",
      "      (base_layer): Linear4bit(in_features=4096, out_features=4096, bias=False)\n",
      "      (lora_A): Linear(in_features=4096, out_features=8, bias=False)\n",
      "      (lora_B): Linear(in_features=8, out_features=4096, bias=False)\n",
      "      (nero_A): Linear(in_features=4096, out_features=8, bias=True)\n",
      "      (nero_B): Linear(in_features=8, out_features=4096, bias=True)\n",
      "    )\n",
      "    (layers__DOT__27__DOT__mlp__DOT__gate_proj): NeroLayer(\n",
      "      (base_layer): Linear4bit(in_features=4096, out_features=14336, bias=False)\n",
      "      (lora_A): Linear(in_features=4096, out_features=8, bias=False)\n",
      "      (lora_B): Linear(in_features=8, out_features=14336, bias=False)\n",
      "      (nero_A): Linear(in_features=14336, out_features=8, bias=True)\n",
      "      (nero_B): Linear(in_features=8, out_features=14336, bias=True)\n",
      "    )\n",
      "    (layers__DOT__27__DOT__mlp__DOT__up_proj): NeroLayer(\n",
      "      (base_layer): Linear4bit(in_features=4096, out_features=14336, bias=False)\n",
      "      (lora_A): Linear(in_features=4096, out_features=8, bias=False)\n",
      "      (lora_B): Linear(in_features=8, out_features=14336, bias=False)\n",
      "      (nero_A): Linear(in_features=14336, out_features=8, bias=True)\n",
      "      (nero_B): Linear(in_features=8, out_features=14336, bias=True)\n",
      "    )\n",
      "    (layers__DOT__27__DOT__mlp__DOT__down_proj): NeroLayer(\n",
      "      (base_layer): Linear4bit(in_features=14336, out_features=4096, bias=False)\n",
      "      (lora_A): Linear(in_features=14336, out_features=8, bias=False)\n",
      "      (lora_B): Linear(in_features=8, out_features=4096, bias=False)\n",
      "      (nero_A): Linear(in_features=4096, out_features=8, bias=True)\n",
      "      (nero_B): Linear(in_features=8, out_features=4096, bias=True)\n",
      "    )\n",
      "    (layers__DOT__28__DOT__self_attn__DOT__q_proj): NeroLayer(\n",
      "      (base_layer): Linear4bit(in_features=4096, out_features=4096, bias=False)\n",
      "      (lora_A): Linear(in_features=4096, out_features=8, bias=False)\n",
      "      (lora_B): Linear(in_features=8, out_features=4096, bias=False)\n",
      "      (nero_A): Linear(in_features=4096, out_features=8, bias=True)\n",
      "      (nero_B): Linear(in_features=8, out_features=4096, bias=True)\n",
      "    )\n",
      "    (layers__DOT__28__DOT__self_attn__DOT__k_proj): NeroLayer(\n",
      "      (base_layer): Linear4bit(in_features=4096, out_features=1024, bias=False)\n",
      "      (lora_A): Linear(in_features=4096, out_features=8, bias=False)\n",
      "      (lora_B): Linear(in_features=8, out_features=1024, bias=False)\n",
      "      (nero_A): Linear(in_features=1024, out_features=8, bias=True)\n",
      "      (nero_B): Linear(in_features=8, out_features=1024, bias=True)\n",
      "    )\n",
      "    (layers__DOT__28__DOT__self_attn__DOT__v_proj): NeroLayer(\n",
      "      (base_layer): Linear4bit(in_features=4096, out_features=1024, bias=False)\n",
      "      (lora_A): Linear(in_features=4096, out_features=8, bias=False)\n",
      "      (lora_B): Linear(in_features=8, out_features=1024, bias=False)\n",
      "      (nero_A): Linear(in_features=1024, out_features=8, bias=True)\n",
      "      (nero_B): Linear(in_features=8, out_features=1024, bias=True)\n",
      "    )\n",
      "    (layers__DOT__28__DOT__self_attn__DOT__o_proj): NeroLayer(\n",
      "      (base_layer): Linear4bit(in_features=4096, out_features=4096, bias=False)\n",
      "      (lora_A): Linear(in_features=4096, out_features=8, bias=False)\n",
      "      (lora_B): Linear(in_features=8, out_features=4096, bias=False)\n",
      "      (nero_A): Linear(in_features=4096, out_features=8, bias=True)\n",
      "      (nero_B): Linear(in_features=8, out_features=4096, bias=True)\n",
      "    )\n",
      "    (layers__DOT__28__DOT__mlp__DOT__gate_proj): NeroLayer(\n",
      "      (base_layer): Linear4bit(in_features=4096, out_features=14336, bias=False)\n",
      "      (lora_A): Linear(in_features=4096, out_features=8, bias=False)\n",
      "      (lora_B): Linear(in_features=8, out_features=14336, bias=False)\n",
      "      (nero_A): Linear(in_features=14336, out_features=8, bias=True)\n",
      "      (nero_B): Linear(in_features=8, out_features=14336, bias=True)\n",
      "    )\n",
      "    (layers__DOT__28__DOT__mlp__DOT__up_proj): NeroLayer(\n",
      "      (base_layer): Linear4bit(in_features=4096, out_features=14336, bias=False)\n",
      "      (lora_A): Linear(in_features=4096, out_features=8, bias=False)\n",
      "      (lora_B): Linear(in_features=8, out_features=14336, bias=False)\n",
      "      (nero_A): Linear(in_features=14336, out_features=8, bias=True)\n",
      "      (nero_B): Linear(in_features=8, out_features=14336, bias=True)\n",
      "    )\n",
      "    (layers__DOT__28__DOT__mlp__DOT__down_proj): NeroLayer(\n",
      "      (base_layer): Linear4bit(in_features=14336, out_features=4096, bias=False)\n",
      "      (lora_A): Linear(in_features=14336, out_features=8, bias=False)\n",
      "      (lora_B): Linear(in_features=8, out_features=4096, bias=False)\n",
      "      (nero_A): Linear(in_features=4096, out_features=8, bias=True)\n",
      "      (nero_B): Linear(in_features=8, out_features=4096, bias=True)\n",
      "    )\n",
      "    (layers__DOT__29__DOT__self_attn__DOT__q_proj): NeroLayer(\n",
      "      (base_layer): Linear4bit(in_features=4096, out_features=4096, bias=False)\n",
      "      (lora_A): Linear(in_features=4096, out_features=8, bias=False)\n",
      "      (lora_B): Linear(in_features=8, out_features=4096, bias=False)\n",
      "      (nero_A): Linear(in_features=4096, out_features=8, bias=True)\n",
      "      (nero_B): Linear(in_features=8, out_features=4096, bias=True)\n",
      "    )\n",
      "    (layers__DOT__29__DOT__self_attn__DOT__k_proj): NeroLayer(\n",
      "      (base_layer): Linear4bit(in_features=4096, out_features=1024, bias=False)\n",
      "      (lora_A): Linear(in_features=4096, out_features=8, bias=False)\n",
      "      (lora_B): Linear(in_features=8, out_features=1024, bias=False)\n",
      "      (nero_A): Linear(in_features=1024, out_features=8, bias=True)\n",
      "      (nero_B): Linear(in_features=8, out_features=1024, bias=True)\n",
      "    )\n",
      "    (layers__DOT__29__DOT__self_attn__DOT__v_proj): NeroLayer(\n",
      "      (base_layer): Linear4bit(in_features=4096, out_features=1024, bias=False)\n",
      "      (lora_A): Linear(in_features=4096, out_features=8, bias=False)\n",
      "      (lora_B): Linear(in_features=8, out_features=1024, bias=False)\n",
      "      (nero_A): Linear(in_features=1024, out_features=8, bias=True)\n",
      "      (nero_B): Linear(in_features=8, out_features=1024, bias=True)\n",
      "    )\n",
      "    (layers__DOT__29__DOT__self_attn__DOT__o_proj): NeroLayer(\n",
      "      (base_layer): Linear4bit(in_features=4096, out_features=4096, bias=False)\n",
      "      (lora_A): Linear(in_features=4096, out_features=8, bias=False)\n",
      "      (lora_B): Linear(in_features=8, out_features=4096, bias=False)\n",
      "      (nero_A): Linear(in_features=4096, out_features=8, bias=True)\n",
      "      (nero_B): Linear(in_features=8, out_features=4096, bias=True)\n",
      "    )\n",
      "    (layers__DOT__29__DOT__mlp__DOT__gate_proj): NeroLayer(\n",
      "      (base_layer): Linear4bit(in_features=4096, out_features=14336, bias=False)\n",
      "      (lora_A): Linear(in_features=4096, out_features=8, bias=False)\n",
      "      (lora_B): Linear(in_features=8, out_features=14336, bias=False)\n",
      "      (nero_A): Linear(in_features=14336, out_features=8, bias=True)\n",
      "      (nero_B): Linear(in_features=8, out_features=14336, bias=True)\n",
      "    )\n",
      "    (layers__DOT__29__DOT__mlp__DOT__up_proj): NeroLayer(\n",
      "      (base_layer): Linear4bit(in_features=4096, out_features=14336, bias=False)\n",
      "      (lora_A): Linear(in_features=4096, out_features=8, bias=False)\n",
      "      (lora_B): Linear(in_features=8, out_features=14336, bias=False)\n",
      "      (nero_A): Linear(in_features=14336, out_features=8, bias=True)\n",
      "      (nero_B): Linear(in_features=8, out_features=14336, bias=True)\n",
      "    )\n",
      "    (layers__DOT__29__DOT__mlp__DOT__down_proj): NeroLayer(\n",
      "      (base_layer): Linear4bit(in_features=14336, out_features=4096, bias=False)\n",
      "      (lora_A): Linear(in_features=14336, out_features=8, bias=False)\n",
      "      (lora_B): Linear(in_features=8, out_features=4096, bias=False)\n",
      "      (nero_A): Linear(in_features=4096, out_features=8, bias=True)\n",
      "      (nero_B): Linear(in_features=8, out_features=4096, bias=True)\n",
      "    )\n",
      "    (layers__DOT__30__DOT__self_attn__DOT__q_proj): NeroLayer(\n",
      "      (base_layer): Linear4bit(in_features=4096, out_features=4096, bias=False)\n",
      "      (lora_A): Linear(in_features=4096, out_features=8, bias=False)\n",
      "      (lora_B): Linear(in_features=8, out_features=4096, bias=False)\n",
      "      (nero_A): Linear(in_features=4096, out_features=8, bias=True)\n",
      "      (nero_B): Linear(in_features=8, out_features=4096, bias=True)\n",
      "    )\n",
      "    (layers__DOT__30__DOT__self_attn__DOT__k_proj): NeroLayer(\n",
      "      (base_layer): Linear4bit(in_features=4096, out_features=1024, bias=False)\n",
      "      (lora_A): Linear(in_features=4096, out_features=8, bias=False)\n",
      "      (lora_B): Linear(in_features=8, out_features=1024, bias=False)\n",
      "      (nero_A): Linear(in_features=1024, out_features=8, bias=True)\n",
      "      (nero_B): Linear(in_features=8, out_features=1024, bias=True)\n",
      "    )\n",
      "    (layers__DOT__30__DOT__self_attn__DOT__v_proj): NeroLayer(\n",
      "      (base_layer): Linear4bit(in_features=4096, out_features=1024, bias=False)\n",
      "      (lora_A): Linear(in_features=4096, out_features=8, bias=False)\n",
      "      (lora_B): Linear(in_features=8, out_features=1024, bias=False)\n",
      "      (nero_A): Linear(in_features=1024, out_features=8, bias=True)\n",
      "      (nero_B): Linear(in_features=8, out_features=1024, bias=True)\n",
      "    )\n",
      "    (layers__DOT__30__DOT__self_attn__DOT__o_proj): NeroLayer(\n",
      "      (base_layer): Linear4bit(in_features=4096, out_features=4096, bias=False)\n",
      "      (lora_A): Linear(in_features=4096, out_features=8, bias=False)\n",
      "      (lora_B): Linear(in_features=8, out_features=4096, bias=False)\n",
      "      (nero_A): Linear(in_features=4096, out_features=8, bias=True)\n",
      "      (nero_B): Linear(in_features=8, out_features=4096, bias=True)\n",
      "    )\n",
      "    (layers__DOT__30__DOT__mlp__DOT__gate_proj): NeroLayer(\n",
      "      (base_layer): Linear4bit(in_features=4096, out_features=14336, bias=False)\n",
      "      (lora_A): Linear(in_features=4096, out_features=8, bias=False)\n",
      "      (lora_B): Linear(in_features=8, out_features=14336, bias=False)\n",
      "      (nero_A): Linear(in_features=14336, out_features=8, bias=True)\n",
      "      (nero_B): Linear(in_features=8, out_features=14336, bias=True)\n",
      "    )\n",
      "    (layers__DOT__30__DOT__mlp__DOT__up_proj): NeroLayer(\n",
      "      (base_layer): Linear4bit(in_features=4096, out_features=14336, bias=False)\n",
      "      (lora_A): Linear(in_features=4096, out_features=8, bias=False)\n",
      "      (lora_B): Linear(in_features=8, out_features=14336, bias=False)\n",
      "      (nero_A): Linear(in_features=14336, out_features=8, bias=True)\n",
      "      (nero_B): Linear(in_features=8, out_features=14336, bias=True)\n",
      "    )\n",
      "    (layers__DOT__30__DOT__mlp__DOT__down_proj): NeroLayer(\n",
      "      (base_layer): Linear4bit(in_features=14336, out_features=4096, bias=False)\n",
      "      (lora_A): Linear(in_features=14336, out_features=8, bias=False)\n",
      "      (lora_B): Linear(in_features=8, out_features=4096, bias=False)\n",
      "      (nero_A): Linear(in_features=4096, out_features=8, bias=True)\n",
      "      (nero_B): Linear(in_features=8, out_features=4096, bias=True)\n",
      "    )\n",
      "    (layers__DOT__31__DOT__self_attn__DOT__q_proj): NeroLayer(\n",
      "      (base_layer): Linear4bit(in_features=4096, out_features=4096, bias=False)\n",
      "      (lora_A): Linear(in_features=4096, out_features=8, bias=False)\n",
      "      (lora_B): Linear(in_features=8, out_features=4096, bias=False)\n",
      "      (nero_A): Linear(in_features=4096, out_features=8, bias=True)\n",
      "      (nero_B): Linear(in_features=8, out_features=4096, bias=True)\n",
      "    )\n",
      "    (layers__DOT__31__DOT__self_attn__DOT__k_proj): NeroLayer(\n",
      "      (base_layer): Linear4bit(in_features=4096, out_features=1024, bias=False)\n",
      "      (lora_A): Linear(in_features=4096, out_features=8, bias=False)\n",
      "      (lora_B): Linear(in_features=8, out_features=1024, bias=False)\n",
      "      (nero_A): Linear(in_features=1024, out_features=8, bias=True)\n",
      "      (nero_B): Linear(in_features=8, out_features=1024, bias=True)\n",
      "    )\n",
      "    (layers__DOT__31__DOT__self_attn__DOT__v_proj): NeroLayer(\n",
      "      (base_layer): Linear4bit(in_features=4096, out_features=1024, bias=False)\n",
      "      (lora_A): Linear(in_features=4096, out_features=8, bias=False)\n",
      "      (lora_B): Linear(in_features=8, out_features=1024, bias=False)\n",
      "      (nero_A): Linear(in_features=1024, out_features=8, bias=True)\n",
      "      (nero_B): Linear(in_features=8, out_features=1024, bias=True)\n",
      "    )\n",
      "    (layers__DOT__31__DOT__self_attn__DOT__o_proj): NeroLayer(\n",
      "      (base_layer): Linear4bit(in_features=4096, out_features=4096, bias=False)\n",
      "      (lora_A): Linear(in_features=4096, out_features=8, bias=False)\n",
      "      (lora_B): Linear(in_features=8, out_features=4096, bias=False)\n",
      "      (nero_A): Linear(in_features=4096, out_features=8, bias=True)\n",
      "      (nero_B): Linear(in_features=8, out_features=4096, bias=True)\n",
      "    )\n",
      "    (layers__DOT__31__DOT__mlp__DOT__gate_proj): NeroLayer(\n",
      "      (base_layer): Linear4bit(in_features=4096, out_features=14336, bias=False)\n",
      "      (lora_A): Linear(in_features=4096, out_features=8, bias=False)\n",
      "      (lora_B): Linear(in_features=8, out_features=14336, bias=False)\n",
      "      (nero_A): Linear(in_features=14336, out_features=8, bias=True)\n",
      "      (nero_B): Linear(in_features=8, out_features=14336, bias=True)\n",
      "    )\n",
      "    (layers__DOT__31__DOT__mlp__DOT__up_proj): NeroLayer(\n",
      "      (base_layer): Linear4bit(in_features=4096, out_features=14336, bias=False)\n",
      "      (lora_A): Linear(in_features=4096, out_features=8, bias=False)\n",
      "      (lora_B): Linear(in_features=8, out_features=14336, bias=False)\n",
      "      (nero_A): Linear(in_features=14336, out_features=8, bias=True)\n",
      "      (nero_B): Linear(in_features=8, out_features=14336, bias=True)\n",
      "    )\n",
      "    (layers__DOT__31__DOT__mlp__DOT__down_proj): NeroLayer(\n",
      "      (base_layer): Linear4bit(in_features=14336, out_features=4096, bias=False)\n",
      "      (lora_A): Linear(in_features=14336, out_features=8, bias=False)\n",
      "      (lora_B): Linear(in_features=8, out_features=4096, bias=False)\n",
      "      (nero_A): Linear(in_features=4096, out_features=8, bias=True)\n",
      "      (nero_B): Linear(in_features=8, out_features=4096, bias=True)\n",
      "    )\n",
      "  )\n",
      ")\n"
     ]
    }
   ],
   "source": [
    "class NeroLayer(nn.Module):\n",
    "    def __init__(self, base_layer, rank, alpha, lora_bias, nero_bias=False):\n",
    "        super().__init__()\n",
    "        self.base_layer = base_layer\n",
    "        self.alpha = alpha\n",
    "        self.lora_bias = lora_bias\n",
    "        self.device = base_layer.weight.device\n",
    "\n",
    "        # Extract input and output features from the base layer\n",
    "        in_features = getattr(base_layer, 'in_features', None)\n",
    "        out_features = getattr(base_layer, 'out_features', None)\n",
    "\n",
    "        if in_features is None or out_features is None:\n",
    "            raise ValueError(f\"Cannot determine in_features or out_features from {base_layer}\")\n",
    "        \n",
    "        # LoRA decomposition: A (down-projection) and B (up-projection)\n",
    "        self.lora_A = nn.Linear(in_features, rank, bias=lora_bias).to(dtype=torch.float16, device=self.device)  # Projects down\n",
    "        self.lora_B = nn.Linear(rank, out_features, bias=lora_bias).to(dtype=torch.float16, device=self.device) # Projects up\n",
    "\n",
    "        # Initialize LoRA matrices: A ~ N(0, 1/rank), B initialized to 0\n",
    "        std = 1 / torch.sqrt(torch.tensor(rank).float())\n",
    "        nn.init.normal_(self.lora_A.weight, mean=0.0, std=std)\n",
    "        nn.init.zeros_(self.lora_B.weight)\n",
    "\n",
    "        # Nero decomposition: additional transformation applied to LoRA output\n",
    "        self.nero_A = nn.Linear(out_features, rank, bias=nero_bias).to(dtype=torch.float16, device=self.device)\n",
    "        self.nero_B = nn.Linear(rank, out_features, bias=nero_bias).to(dtype=torch.float16, device=self.device)\n",
    "\n",
    "        # Initialize Nero matrices similarly\n",
    "        nn.init.normal_(self.nero_A.weight, mean=0.0, std=std)\n",
    "        nn.init.zeros_(self.nero_B.weight)\n",
    "        \n",
    "    def forward(self, x):\n",
    "        # Forward through base layer\n",
    "        base_out = self.base_layer(x)\n",
    "\n",
    "        # LoRA transformation\n",
    "        # print(f'{x.dtype=}')\n",
    "        lora_A_out = self.lora_A(x)\n",
    "        # print(f'{lora_A_out.dtype=}')\n",
    "        lora_B_out = self.lora_B(lora_A_out)\n",
    "        # print(f'{lora_B_out.dtype=}')\n",
    "        lora_out = self.alpha * lora_B_out\n",
    "        # print(f'{lora_out.dtype=}')\n",
    "\n",
    "        # Nero transformation (applied on top of LoRA output)\n",
    "        nero_A_out = self.nero_A(lora_out)\n",
    "        nero_B_out = self.nero_B(nero_A_out)\n",
    "        nero_out = F.relu(self.alpha * nero_B_out)\n",
    "        \n",
    "        return base_out + nero_out, nero_out\n",
    "\n",
    "    def load_lora_weights(self, state_dict, prefix):\n",
    "        self.lora_A.weight.data = state_dict[f'{prefix}.lora_A.weight'].to(dtype=torch.float16, device=self.device)\n",
    "        self.lora_B.weight.data = state_dict[f'{prefix}.lora_B.weight'].to(dtype=torch.float16, device=self.device)\n",
    "        if self.lora_bias:\n",
    "            self.lora_A.bias.data = state_dict[f'{prefix}.lora_A.bias'].to(dtype=torch.float16, device=self.device)\n",
    "            self.lora_B.bias.data = state_dict[f'{prefix}.lora_B.bias'].to(dtype=torch.float16, device=self.device)\n",
    "    \n",
    "class NeroModel(nn.Module):\n",
    "    def __init__(self, base_model: nn.Module, lora_config: LoraConfig, nero_bias: bool=False):\n",
    "        super().__init__()\n",
    "        self.base_model = base_model\n",
    "        self.nero_bias = nero_bias\n",
    "        self.nero_layers = nn.ModuleDict()\n",
    "\n",
    "        # Wrap target layers with NeroLayer\n",
    "        self._wrap_target_layers(lora_config)\n",
    "        \n",
    "        # Freeze all parameters except Nero-specific weights\n",
    "        self.freeze_except_nero()\n",
    "    \n",
    "    def _wrap_target_layers(self, lora_config):\n",
    "        for module_name, module in self.base_model.named_modules():\n",
    "            if isinstance(module, NeroLayer):\n",
    "                # Convert module name format and store reference\n",
    "                module_name = module_name.rsplit('model.', 1)[-1]\n",
    "                module_name = module_name.replace('.', '__DOT__')\n",
    "                self.nero_layers[module_name] = module\n",
    "                continue\n",
    "\n",
    "            if any(module_name.endswith(target_module) for target_module in lora_config.target_modules) and isinstance(module, nn.Linear):    \n",
    "                parent_module, child_name = self._get_parent_module(module_name)\n",
    "                lora_layer = NeroLayer(module, lora_config.r, lora_config.lora_alpha, lora_config.lora_bias, nero_bias=self.nero_bias)\n",
    "                setattr(parent_module, child_name, lora_layer)\n",
    "\n",
    "                # Store LoRA layers for weight loading\n",
    "                module_name = module_name.rsplit('model.', 1)[-1]\n",
    "                module_name = module_name.replace('.', '__DOT__')\n",
    "                self.nero_layers[module_name] = lora_layer\n",
    "    \n",
    "    def _get_parent_module(self, module_name):\n",
    "        parts = module_name.split('.')\n",
    "        parent_module = self.base_model\n",
    "        for part in parts[:-1]:\n",
    "            parent_module = getattr(parent_module, part)\n",
    "        return parent_module, parts[-1]\n",
    "\n",
    "    def freeze_except_nero(self):\n",
    "        for param in self.base_model.parameters():\n",
    "            param.requires_grad = False\n",
    "        \n",
    "        for nero_layer in self.nero_layers.values():\n",
    "            for param_name, param in nero_layer.named_parameters():\n",
    "                if 'nero_A' in param_name or 'nero_B' in param_name:\n",
    "                    param.requires_grad = True\n",
    "                else:\n",
    "                    param.requires_grad = False\n",
    "    \n",
    "    def unfreeze_all(self):\n",
    "        for param in self.base_model.parameters():\n",
    "            param.requires_grad = True\n",
    "        \n",
    "        for nero_layer in self.nero_layers.values():\n",
    "            for param in nero_layer.parameters():\n",
    "                param.requires_grad = True\n",
    "    \n",
    "    def load_lora_weights(self, lora_path):\n",
    "        state_dict = load_file(lora_path)\n",
    "        prefix = list(state_dict.keys())[0].rsplit('model.', 1)[0] + 'model.'\n",
    "        for nero_layer_name, nero_layer in self.nero_layers.items():\n",
    "            nero_layer_name = nero_layer_name.replace('__DOT__', '.')\n",
    "            nero_layer_name = prefix + nero_layer_name\n",
    "            if f'{nero_layer_name}.lora_A.weight' in state_dict and f'{nero_layer_name}.lora_B.weight' in state_dict:\n",
    "                nero_layer.load_lora_weights(state_dict, nero_layer_name)\n",
    "            else:\n",
    "                # TODO: Print a warning message\n",
    "                pass\n",
    "        print(\"LoRA weights loaded successfully!\")\n",
    "    \n",
    "    def forward(self, input_ids, attention_mask=None):\n",
    "        nero_outs = {}\n",
    "        \n",
    "        def _hook_fn(module, _in, _out):\n",
    "            layer_name = module._name # Assume each layer has a unique name\n",
    "            if isinstance(_out, tuple) and len(_out) == 2:\n",
    "                layer_out, nero_out = _out\n",
    "                nero_outs[layer_name] = nero_out # Store nero_out separately\n",
    "                return layer_out # Return only layer_out to avoid breaking model flow\n",
    "\n",
    "        # Register hooks to extract nero_out during forward pass\n",
    "        hooks = []\n",
    "        for layer_name, layer in self.nero_layers.items():\n",
    "            layer._name = layer_name # Assign unique name to each layer\n",
    "            hook = layer.register_forward_hook(_hook_fn)\n",
    "            hooks.append(hook)\n",
    "        \n",
    "        # Run forward pass\n",
    "        out = self.base_model(input_ids, attention_mask=attention_mask)\n",
    "\n",
    "        # Remove hooks after forward pass\n",
    "        for hook in hooks:\n",
    "            hook.remove()\n",
    "\n",
    "        return out, nero_outs # Return both main output and collected nero_outs\n",
    "\n",
    "nero_model = NeroModel(base_model_copy, lora_config, nero_bias=True)\n",
    "print(nero_model)"
   ]
  },
  {
   "cell_type": "code",
   "execution_count": 8,
   "metadata": {},
   "outputs": [
    {
     "name": "stdout",
     "output_type": "stream",
     "text": [
      "Check LoRA parameters:\n",
      "Name: base_model.model.layers.0.self_attn.q_proj.lora_A.weight\n",
      "Mean: -0.0005979537963867188\n"
     ]
    }
   ],
   "source": [
    "@torch.no_grad()\n",
    "def check_lora_parameters(model):\n",
    "    print(\"Check LoRA parameters:\")\n",
    "    for module_name, module in model.named_parameters():\n",
    "        if 'lora' in module_name:\n",
    "            print(\"Layer:\", module_name)\n",
    "            print(\"Mean:\", module.mean().item())\n",
    "            break\n",
    "\n",
    "check_lora_parameters(nero_model)"
   ]
  },
  {
   "cell_type": "code",
   "execution_count": 10,
   "metadata": {},
   "outputs": [
    {
     "name": "stdout",
     "output_type": "stream",
     "text": [
      "LoRA weights loaded successfully!\n",
      "Check LoRA parameters:\n",
      "Name: base_model.model.layers.0.self_attn.q_proj.lora_A.weight\n",
      "Mean: 4.935264587402344e-05\n"
     ]
    }
   ],
   "source": [
    "lora_path = os.path.join(lora_dir, 'adapter_model.safetensors')\n",
    "nero_model.load_lora_weights(lora_path)\n",
    "check_lora_parameters(nero_model)"
   ]
  },
  {
   "cell_type": "code",
   "execution_count": 27,
   "metadata": {},
   "outputs": [
    {
     "name": "stdout",
     "output_type": "stream",
     "text": [
      "x.dtype=torch.float16\n",
      "lora_A_out.dtype=torch.float16\n",
      "lora_B_out.dtype=torch.float16\n",
      "lora_out.dtype=torch.float16\n",
      "x.dtype=torch.float16\n",
      "lora_A_out.dtype=torch.float16\n",
      "lora_B_out.dtype=torch.float16\n",
      "lora_out.dtype=torch.float16\n",
      "x.dtype=torch.float16\n",
      "lora_A_out.dtype=torch.float16\n",
      "lora_B_out.dtype=torch.float16\n",
      "lora_out.dtype=torch.float16\n",
      "x.dtype=torch.float16\n",
      "lora_A_out.dtype=torch.float16\n",
      "lora_B_out.dtype=torch.float16\n",
      "lora_out.dtype=torch.float16\n",
      "x.dtype=torch.float16\n",
      "lora_A_out.dtype=torch.float16\n",
      "lora_B_out.dtype=torch.float16\n",
      "lora_out.dtype=torch.float16\n",
      "x.dtype=torch.float16\n",
      "lora_A_out.dtype=torch.float16\n",
      "lora_B_out.dtype=torch.float16\n",
      "lora_out.dtype=torch.float16\n",
      "x.dtype=torch.float16\n",
      "lora_A_out.dtype=torch.float16\n",
      "lora_B_out.dtype=torch.float16\n",
      "lora_out.dtype=torch.float16\n",
      "x.dtype=torch.float16\n",
      "lora_A_out.dtype=torch.float16\n",
      "lora_B_out.dtype=torch.float16\n",
      "lora_out.dtype=torch.float16\n",
      "x.dtype=torch.float16\n",
      "lora_A_out.dtype=torch.float16\n",
      "lora_B_out.dtype=torch.float16\n",
      "lora_out.dtype=torch.float16\n",
      "x.dtype=torch.float16\n",
      "lora_A_out.dtype=torch.float16\n",
      "lora_B_out.dtype=torch.float16\n",
      "lora_out.dtype=torch.float16\n",
      "x.dtype=torch.float16\n",
      "lora_A_out.dtype=torch.float16\n",
      "lora_B_out.dtype=torch.float16\n",
      "lora_out.dtype=torch.float16\n",
      "x.dtype=torch.float16\n",
      "lora_A_out.dtype=torch.float16\n",
      "lora_B_out.dtype=torch.float16\n",
      "lora_out.dtype=torch.float16\n",
      "x.dtype=torch.float16\n",
      "lora_A_out.dtype=torch.float16\n",
      "lora_B_out.dtype=torch.float16\n",
      "lora_out.dtype=torch.float16\n",
      "x.dtype=torch.float16\n",
      "lora_A_out.dtype=torch.float16\n",
      "lora_B_out.dtype=torch.float16\n",
      "lora_out.dtype=torch.float16\n",
      "x.dtype=torch.float16\n",
      "lora_A_out.dtype=torch.float16\n",
      "lora_B_out.dtype=torch.float16\n",
      "lora_out.dtype=torch.float16\n",
      "x.dtype=torch.float16\n",
      "lora_A_out.dtype=torch.float16\n",
      "lora_B_out.dtype=torch.float16\n",
      "lora_out.dtype=torch.float16\n",
      "x.dtype=torch.float16\n",
      "lora_A_out.dtype=torch.float16\n",
      "lora_B_out.dtype=torch.float16\n",
      "lora_out.dtype=torch.float16\n",
      "x.dtype=torch.float16\n",
      "lora_A_out.dtype=torch.float16\n",
      "lora_B_out.dtype=torch.float16\n",
      "lora_out.dtype=torch.float16\n",
      "x.dtype=torch.float16\n",
      "lora_A_out.dtype=torch.float16\n",
      "lora_B_out.dtype=torch.float16\n",
      "lora_out.dtype=torch.float16\n",
      "x.dtype=torch.float16\n",
      "lora_A_out.dtype=torch.float16\n",
      "lora_B_out.dtype=torch.float16\n",
      "lora_out.dtype=torch.float16\n",
      "x.dtype=torch.float16\n",
      "lora_A_out.dtype=torch.float16\n",
      "lora_B_out.dtype=torch.float16\n",
      "lora_out.dtype=torch.float16\n",
      "x.dtype=torch.float16\n",
      "lora_A_out.dtype=torch.float16\n",
      "lora_B_out.dtype=torch.float16\n",
      "lora_out.dtype=torch.float16\n",
      "x.dtype=torch.float16\n",
      "lora_A_out.dtype=torch.float16\n",
      "lora_B_out.dtype=torch.float16\n",
      "lora_out.dtype=torch.float16\n",
      "x.dtype=torch.float16\n",
      "lora_A_out.dtype=torch.float16\n",
      "lora_B_out.dtype=torch.float16\n",
      "lora_out.dtype=torch.float16\n",
      "x.dtype=torch.float16\n",
      "lora_A_out.dtype=torch.float16\n",
      "lora_B_out.dtype=torch.float16\n",
      "lora_out.dtype=torch.float16\n",
      "x.dtype=torch.float16\n",
      "lora_A_out.dtype=torch.float16\n",
      "lora_B_out.dtype=torch.float16\n",
      "lora_out.dtype=torch.float16\n",
      "x.dtype=torch.float16\n",
      "lora_A_out.dtype=torch.float16\n",
      "lora_B_out.dtype=torch.float16\n",
      "lora_out.dtype=torch.float16\n",
      "x.dtype=torch.float16\n",
      "lora_A_out.dtype=torch.float16\n",
      "lora_B_out.dtype=torch.float16\n",
      "lora_out.dtype=torch.float16\n",
      "x.dtype=torch.float16\n",
      "lora_A_out.dtype=torch.float16\n",
      "lora_B_out.dtype=torch.float16\n",
      "lora_out.dtype=torch.float16\n",
      "x.dtype=torch.float16\n",
      "lora_A_out.dtype=torch.float16\n",
      "lora_B_out.dtype=torch.float16\n",
      "lora_out.dtype=torch.float16\n",
      "x.dtype=torch.float16\n",
      "lora_A_out.dtype=torch.float16\n",
      "lora_B_out.dtype=torch.float16\n",
      "lora_out.dtype=torch.float16\n",
      "x.dtype=torch.float16\n",
      "lora_A_out.dtype=torch.float16\n",
      "lora_B_out.dtype=torch.float16\n",
      "lora_out.dtype=torch.float16\n",
      "x.dtype=torch.float16\n",
      "lora_A_out.dtype=torch.float16\n",
      "lora_B_out.dtype=torch.float16\n",
      "lora_out.dtype=torch.float16\n",
      "x.dtype=torch.float16\n",
      "lora_A_out.dtype=torch.float16\n",
      "lora_B_out.dtype=torch.float16\n",
      "lora_out.dtype=torch.float16\n",
      "x.dtype=torch.float16\n",
      "lora_A_out.dtype=torch.float16\n",
      "lora_B_out.dtype=torch.float16\n",
      "lora_out.dtype=torch.float16\n",
      "x.dtype=torch.float16\n",
      "lora_A_out.dtype=torch.float16\n",
      "lora_B_out.dtype=torch.float16\n",
      "lora_out.dtype=torch.float16\n",
      "x.dtype=torch.float16\n",
      "lora_A_out.dtype=torch.float16\n",
      "lora_B_out.dtype=torch.float16\n",
      "lora_out.dtype=torch.float16\n",
      "x.dtype=torch.float16\n",
      "lora_A_out.dtype=torch.float16\n",
      "lora_B_out.dtype=torch.float16\n",
      "lora_out.dtype=torch.float16\n",
      "x.dtype=torch.float16\n",
      "lora_A_out.dtype=torch.float16\n",
      "lora_B_out.dtype=torch.float16\n",
      "lora_out.dtype=torch.float16\n",
      "x.dtype=torch.float16\n",
      "lora_A_out.dtype=torch.float16\n",
      "lora_B_out.dtype=torch.float16\n",
      "lora_out.dtype=torch.float16\n",
      "x.dtype=torch.float16\n",
      "lora_A_out.dtype=torch.float16\n",
      "lora_B_out.dtype=torch.float16\n",
      "lora_out.dtype=torch.float16\n",
      "x.dtype=torch.float16\n",
      "lora_A_out.dtype=torch.float16\n",
      "lora_B_out.dtype=torch.float16\n",
      "lora_out.dtype=torch.float16\n",
      "x.dtype=torch.float16\n",
      "lora_A_out.dtype=torch.float16\n",
      "lora_B_out.dtype=torch.float16\n",
      "lora_out.dtype=torch.float16\n",
      "x.dtype=torch.float16\n",
      "lora_A_out.dtype=torch.float16\n",
      "lora_B_out.dtype=torch.float16\n",
      "lora_out.dtype=torch.float16\n",
      "x.dtype=torch.float16\n",
      "lora_A_out.dtype=torch.float16\n",
      "lora_B_out.dtype=torch.float16\n",
      "lora_out.dtype=torch.float16\n",
      "x.dtype=torch.float16\n",
      "lora_A_out.dtype=torch.float16\n",
      "lora_B_out.dtype=torch.float16\n",
      "lora_out.dtype=torch.float16\n",
      "x.dtype=torch.float16\n",
      "lora_A_out.dtype=torch.float16\n",
      "lora_B_out.dtype=torch.float16\n",
      "lora_out.dtype=torch.float16\n",
      "x.dtype=torch.float16\n",
      "lora_A_out.dtype=torch.float16\n",
      "lora_B_out.dtype=torch.float16\n",
      "lora_out.dtype=torch.float16\n",
      "x.dtype=torch.float16\n",
      "lora_A_out.dtype=torch.float16\n",
      "lora_B_out.dtype=torch.float16\n",
      "lora_out.dtype=torch.float16\n",
      "x.dtype=torch.float16\n",
      "lora_A_out.dtype=torch.float16\n",
      "lora_B_out.dtype=torch.float16\n",
      "lora_out.dtype=torch.float16\n",
      "x.dtype=torch.float16\n",
      "lora_A_out.dtype=torch.float16\n",
      "lora_B_out.dtype=torch.float16\n",
      "lora_out.dtype=torch.float16\n",
      "x.dtype=torch.float16\n",
      "lora_A_out.dtype=torch.float16\n",
      "lora_B_out.dtype=torch.float16\n",
      "lora_out.dtype=torch.float16\n",
      "x.dtype=torch.float16\n",
      "lora_A_out.dtype=torch.float16\n",
      "lora_B_out.dtype=torch.float16\n",
      "lora_out.dtype=torch.float16\n",
      "x.dtype=torch.float16\n",
      "lora_A_out.dtype=torch.float16\n",
      "lora_B_out.dtype=torch.float16\n",
      "lora_out.dtype=torch.float16\n",
      "x.dtype=torch.float16\n",
      "lora_A_out.dtype=torch.float16\n",
      "lora_B_out.dtype=torch.float16\n",
      "lora_out.dtype=torch.float16\n",
      "x.dtype=torch.float16\n",
      "lora_A_out.dtype=torch.float16\n",
      "lora_B_out.dtype=torch.float16\n",
      "lora_out.dtype=torch.float16\n",
      "x.dtype=torch.float16\n",
      "lora_A_out.dtype=torch.float16\n",
      "lora_B_out.dtype=torch.float16\n",
      "lora_out.dtype=torch.float16\n",
      "x.dtype=torch.float16\n",
      "lora_A_out.dtype=torch.float16\n",
      "lora_B_out.dtype=torch.float16\n",
      "lora_out.dtype=torch.float16\n",
      "x.dtype=torch.float16\n",
      "lora_A_out.dtype=torch.float16\n",
      "lora_B_out.dtype=torch.float16\n",
      "lora_out.dtype=torch.float16\n",
      "x.dtype=torch.float16\n",
      "lora_A_out.dtype=torch.float16\n",
      "lora_B_out.dtype=torch.float16\n",
      "lora_out.dtype=torch.float16\n",
      "x.dtype=torch.float16\n",
      "lora_A_out.dtype=torch.float16\n",
      "lora_B_out.dtype=torch.float16\n",
      "lora_out.dtype=torch.float16\n",
      "x.dtype=torch.float16\n",
      "lora_A_out.dtype=torch.float16\n",
      "lora_B_out.dtype=torch.float16\n",
      "lora_out.dtype=torch.float16\n",
      "x.dtype=torch.float16\n",
      "lora_A_out.dtype=torch.float16\n",
      "lora_B_out.dtype=torch.float16\n",
      "lora_out.dtype=torch.float16\n",
      "x.dtype=torch.float16\n",
      "lora_A_out.dtype=torch.float16\n",
      "lora_B_out.dtype=torch.float16\n",
      "lora_out.dtype=torch.float16\n",
      "x.dtype=torch.float16\n",
      "lora_A_out.dtype=torch.float16\n",
      "lora_B_out.dtype=torch.float16\n",
      "lora_out.dtype=torch.float16\n",
      "x.dtype=torch.float16\n",
      "lora_A_out.dtype=torch.float16\n",
      "lora_B_out.dtype=torch.float16\n",
      "lora_out.dtype=torch.float16\n",
      "x.dtype=torch.float16\n",
      "lora_A_out.dtype=torch.float16\n",
      "lora_B_out.dtype=torch.float16\n",
      "lora_out.dtype=torch.float16\n",
      "x.dtype=torch.float16\n",
      "lora_A_out.dtype=torch.float16\n",
      "lora_B_out.dtype=torch.float16\n",
      "lora_out.dtype=torch.float16\n",
      "x.dtype=torch.float16\n",
      "lora_A_out.dtype=torch.float16\n",
      "lora_B_out.dtype=torch.float16\n",
      "lora_out.dtype=torch.float16\n",
      "x.dtype=torch.float16\n",
      "lora_A_out.dtype=torch.float16\n",
      "lora_B_out.dtype=torch.float16\n",
      "lora_out.dtype=torch.float16\n",
      "x.dtype=torch.float16\n",
      "lora_A_out.dtype=torch.float16\n",
      "lora_B_out.dtype=torch.float16\n",
      "lora_out.dtype=torch.float16\n",
      "x.dtype=torch.float16\n",
      "lora_A_out.dtype=torch.float16\n",
      "lora_B_out.dtype=torch.float16\n",
      "lora_out.dtype=torch.float16\n",
      "x.dtype=torch.float16\n",
      "lora_A_out.dtype=torch.float16\n",
      "lora_B_out.dtype=torch.float16\n",
      "lora_out.dtype=torch.float16\n",
      "x.dtype=torch.float16\n",
      "lora_A_out.dtype=torch.float16\n",
      "lora_B_out.dtype=torch.float16\n",
      "lora_out.dtype=torch.float16\n",
      "x.dtype=torch.float16\n",
      "lora_A_out.dtype=torch.float16\n",
      "lora_B_out.dtype=torch.float16\n",
      "lora_out.dtype=torch.float16\n",
      "x.dtype=torch.float16\n",
      "lora_A_out.dtype=torch.float16\n",
      "lora_B_out.dtype=torch.float16\n",
      "lora_out.dtype=torch.float16\n",
      "x.dtype=torch.float16\n",
      "lora_A_out.dtype=torch.float16\n",
      "lora_B_out.dtype=torch.float16\n",
      "lora_out.dtype=torch.float16\n",
      "x.dtype=torch.float16\n",
      "lora_A_out.dtype=torch.float16\n",
      "lora_B_out.dtype=torch.float16\n",
      "lora_out.dtype=torch.float16\n",
      "x.dtype=torch.float16\n",
      "lora_A_out.dtype=torch.float16\n",
      "lora_B_out.dtype=torch.float16\n",
      "lora_out.dtype=torch.float16\n",
      "x.dtype=torch.float16\n",
      "lora_A_out.dtype=torch.float16\n",
      "lora_B_out.dtype=torch.float16\n",
      "lora_out.dtype=torch.float16\n",
      "x.dtype=torch.float16\n",
      "lora_A_out.dtype=torch.float16\n",
      "lora_B_out.dtype=torch.float16\n",
      "lora_out.dtype=torch.float16\n",
      "x.dtype=torch.float16\n",
      "lora_A_out.dtype=torch.float16\n",
      "lora_B_out.dtype=torch.float16\n",
      "lora_out.dtype=torch.float16\n",
      "x.dtype=torch.float16\n",
      "lora_A_out.dtype=torch.float16\n",
      "lora_B_out.dtype=torch.float16\n",
      "lora_out.dtype=torch.float16\n",
      "x.dtype=torch.float16\n",
      "lora_A_out.dtype=torch.float16\n",
      "lora_B_out.dtype=torch.float16\n",
      "lora_out.dtype=torch.float16\n",
      "x.dtype=torch.float16\n",
      "lora_A_out.dtype=torch.float16\n",
      "lora_B_out.dtype=torch.float16\n",
      "lora_out.dtype=torch.float16\n",
      "x.dtype=torch.float16\n",
      "lora_A_out.dtype=torch.float16\n",
      "lora_B_out.dtype=torch.float16\n",
      "lora_out.dtype=torch.float16\n",
      "x.dtype=torch.float16\n",
      "lora_A_out.dtype=torch.float16\n",
      "lora_B_out.dtype=torch.float16\n",
      "lora_out.dtype=torch.float16\n",
      "x.dtype=torch.float16\n",
      "lora_A_out.dtype=torch.float16\n",
      "lora_B_out.dtype=torch.float16\n",
      "lora_out.dtype=torch.float16\n",
      "x.dtype=torch.float16\n",
      "lora_A_out.dtype=torch.float16\n",
      "lora_B_out.dtype=torch.float16\n",
      "lora_out.dtype=torch.float16\n",
      "x.dtype=torch.float16\n",
      "lora_A_out.dtype=torch.float16\n",
      "lora_B_out.dtype=torch.float16\n",
      "lora_out.dtype=torch.float16\n",
      "x.dtype=torch.float16\n",
      "lora_A_out.dtype=torch.float16\n",
      "lora_B_out.dtype=torch.float16\n",
      "lora_out.dtype=torch.float16\n",
      "x.dtype=torch.float16\n",
      "lora_A_out.dtype=torch.float16\n",
      "lora_B_out.dtype=torch.float16\n",
      "lora_out.dtype=torch.float16\n",
      "x.dtype=torch.float16\n",
      "lora_A_out.dtype=torch.float16\n",
      "lora_B_out.dtype=torch.float16\n",
      "lora_out.dtype=torch.float16\n",
      "x.dtype=torch.float16\n",
      "lora_A_out.dtype=torch.float16\n",
      "lora_B_out.dtype=torch.float16\n",
      "lora_out.dtype=torch.float16\n",
      "x.dtype=torch.float16\n",
      "lora_A_out.dtype=torch.float16\n",
      "lora_B_out.dtype=torch.float16\n",
      "lora_out.dtype=torch.float16\n",
      "x.dtype=torch.float16\n",
      "lora_A_out.dtype=torch.float16\n",
      "lora_B_out.dtype=torch.float16\n",
      "lora_out.dtype=torch.float16\n",
      "x.dtype=torch.float16\n",
      "lora_A_out.dtype=torch.float16\n",
      "lora_B_out.dtype=torch.float16\n",
      "lora_out.dtype=torch.float16\n",
      "x.dtype=torch.float16\n",
      "lora_A_out.dtype=torch.float16\n",
      "lora_B_out.dtype=torch.float16\n",
      "lora_out.dtype=torch.float16\n",
      "x.dtype=torch.float16\n",
      "lora_A_out.dtype=torch.float16\n",
      "lora_B_out.dtype=torch.float16\n",
      "lora_out.dtype=torch.float16\n",
      "x.dtype=torch.float16\n",
      "lora_A_out.dtype=torch.float16\n",
      "lora_B_out.dtype=torch.float16\n",
      "lora_out.dtype=torch.float16\n",
      "x.dtype=torch.float16\n",
      "lora_A_out.dtype=torch.float16\n",
      "lora_B_out.dtype=torch.float16\n",
      "lora_out.dtype=torch.float16\n",
      "x.dtype=torch.float16\n",
      "lora_A_out.dtype=torch.float16\n",
      "lora_B_out.dtype=torch.float16\n",
      "lora_out.dtype=torch.float16\n",
      "x.dtype=torch.float16\n",
      "lora_A_out.dtype=torch.float16\n",
      "lora_B_out.dtype=torch.float16\n",
      "lora_out.dtype=torch.float16\n",
      "x.dtype=torch.float16\n",
      "lora_A_out.dtype=torch.float16\n",
      "lora_B_out.dtype=torch.float16\n",
      "lora_out.dtype=torch.float16\n",
      "x.dtype=torch.float16\n",
      "lora_A_out.dtype=torch.float16\n",
      "lora_B_out.dtype=torch.float16\n",
      "lora_out.dtype=torch.float16\n",
      "x.dtype=torch.float16\n",
      "lora_A_out.dtype=torch.float16\n",
      "lora_B_out.dtype=torch.float16\n",
      "lora_out.dtype=torch.float16\n",
      "x.dtype=torch.float16\n",
      "lora_A_out.dtype=torch.float16\n",
      "lora_B_out.dtype=torch.float16\n",
      "lora_out.dtype=torch.float16\n",
      "x.dtype=torch.float16\n",
      "lora_A_out.dtype=torch.float16\n",
      "lora_B_out.dtype=torch.float16\n",
      "lora_out.dtype=torch.float16\n",
      "x.dtype=torch.float16\n",
      "lora_A_out.dtype=torch.float16\n",
      "lora_B_out.dtype=torch.float16\n",
      "lora_out.dtype=torch.float16\n",
      "x.dtype=torch.float16\n",
      "lora_A_out.dtype=torch.float16\n",
      "lora_B_out.dtype=torch.float16\n",
      "lora_out.dtype=torch.float16\n",
      "x.dtype=torch.float16\n",
      "lora_A_out.dtype=torch.float16\n",
      "lora_B_out.dtype=torch.float16\n",
      "lora_out.dtype=torch.float16\n",
      "x.dtype=torch.float16\n",
      "lora_A_out.dtype=torch.float16\n",
      "lora_B_out.dtype=torch.float16\n",
      "lora_out.dtype=torch.float16\n",
      "x.dtype=torch.float16\n",
      "lora_A_out.dtype=torch.float16\n",
      "lora_B_out.dtype=torch.float16\n",
      "lora_out.dtype=torch.float16\n",
      "x.dtype=torch.float16\n",
      "lora_A_out.dtype=torch.float16\n",
      "lora_B_out.dtype=torch.float16\n",
      "lora_out.dtype=torch.float16\n",
      "x.dtype=torch.float16\n",
      "lora_A_out.dtype=torch.float16\n",
      "lora_B_out.dtype=torch.float16\n",
      "lora_out.dtype=torch.float16\n",
      "x.dtype=torch.float16\n",
      "lora_A_out.dtype=torch.float16\n",
      "lora_B_out.dtype=torch.float16\n",
      "lora_out.dtype=torch.float16\n",
      "x.dtype=torch.float16\n",
      "lora_A_out.dtype=torch.float16\n",
      "lora_B_out.dtype=torch.float16\n",
      "lora_out.dtype=torch.float16\n",
      "x.dtype=torch.float16\n",
      "lora_A_out.dtype=torch.float16\n",
      "lora_B_out.dtype=torch.float16\n",
      "lora_out.dtype=torch.float16\n",
      "x.dtype=torch.float16\n",
      "lora_A_out.dtype=torch.float16\n",
      "lora_B_out.dtype=torch.float16\n",
      "lora_out.dtype=torch.float16\n",
      "x.dtype=torch.float16\n",
      "lora_A_out.dtype=torch.float16\n",
      "lora_B_out.dtype=torch.float16\n",
      "lora_out.dtype=torch.float16\n",
      "x.dtype=torch.float16\n",
      "lora_A_out.dtype=torch.float16\n",
      "lora_B_out.dtype=torch.float16\n",
      "lora_out.dtype=torch.float16\n",
      "x.dtype=torch.float16\n",
      "lora_A_out.dtype=torch.float16\n",
      "lora_B_out.dtype=torch.float16\n",
      "lora_out.dtype=torch.float16\n",
      "x.dtype=torch.float16\n",
      "lora_A_out.dtype=torch.float16\n",
      "lora_B_out.dtype=torch.float16\n",
      "lora_out.dtype=torch.float16\n",
      "x.dtype=torch.float16\n",
      "lora_A_out.dtype=torch.float16\n",
      "lora_B_out.dtype=torch.float16\n",
      "lora_out.dtype=torch.float16\n",
      "x.dtype=torch.float16\n",
      "lora_A_out.dtype=torch.float16\n",
      "lora_B_out.dtype=torch.float16\n",
      "lora_out.dtype=torch.float16\n",
      "x.dtype=torch.float16\n",
      "lora_A_out.dtype=torch.float16\n",
      "lora_B_out.dtype=torch.float16\n",
      "lora_out.dtype=torch.float16\n",
      "x.dtype=torch.float16\n",
      "lora_A_out.dtype=torch.float16\n",
      "lora_B_out.dtype=torch.float16\n",
      "lora_out.dtype=torch.float16\n",
      "x.dtype=torch.float16\n",
      "lora_A_out.dtype=torch.float16\n",
      "lora_B_out.dtype=torch.float16\n",
      "lora_out.dtype=torch.float16\n",
      "x.dtype=torch.float16\n",
      "lora_A_out.dtype=torch.float16\n",
      "lora_B_out.dtype=torch.float16\n",
      "lora_out.dtype=torch.float16\n",
      "x.dtype=torch.float16\n",
      "lora_A_out.dtype=torch.float16\n",
      "lora_B_out.dtype=torch.float16\n",
      "lora_out.dtype=torch.float16\n",
      "x.dtype=torch.float16\n",
      "lora_A_out.dtype=torch.float16\n",
      "lora_B_out.dtype=torch.float16\n",
      "lora_out.dtype=torch.float16\n",
      "x.dtype=torch.float16\n",
      "lora_A_out.dtype=torch.float16\n",
      "lora_B_out.dtype=torch.float16\n",
      "lora_out.dtype=torch.float16\n",
      "x.dtype=torch.float16\n",
      "lora_A_out.dtype=torch.float16\n",
      "lora_B_out.dtype=torch.float16\n",
      "lora_out.dtype=torch.float16\n",
      "x.dtype=torch.float16\n",
      "lora_A_out.dtype=torch.float16\n",
      "lora_B_out.dtype=torch.float16\n",
      "lora_out.dtype=torch.float16\n",
      "x.dtype=torch.float16\n",
      "lora_A_out.dtype=torch.float16\n",
      "lora_B_out.dtype=torch.float16\n",
      "lora_out.dtype=torch.float16\n",
      "x.dtype=torch.float16\n",
      "lora_A_out.dtype=torch.float16\n",
      "lora_B_out.dtype=torch.float16\n",
      "lora_out.dtype=torch.float16\n",
      "x.dtype=torch.float16\n",
      "lora_A_out.dtype=torch.float16\n",
      "lora_B_out.dtype=torch.float16\n",
      "lora_out.dtype=torch.float16\n",
      "x.dtype=torch.float16\n",
      "lora_A_out.dtype=torch.float16\n",
      "lora_B_out.dtype=torch.float16\n",
      "lora_out.dtype=torch.float16\n",
      "x.dtype=torch.float16\n",
      "lora_A_out.dtype=torch.float16\n",
      "lora_B_out.dtype=torch.float16\n",
      "lora_out.dtype=torch.float16\n",
      "x.dtype=torch.float16\n",
      "lora_A_out.dtype=torch.float16\n",
      "lora_B_out.dtype=torch.float16\n",
      "lora_out.dtype=torch.float16\n",
      "x.dtype=torch.float16\n",
      "lora_A_out.dtype=torch.float16\n",
      "lora_B_out.dtype=torch.float16\n",
      "lora_out.dtype=torch.float16\n",
      "x.dtype=torch.float16\n",
      "lora_A_out.dtype=torch.float16\n",
      "lora_B_out.dtype=torch.float16\n",
      "lora_out.dtype=torch.float16\n",
      "x.dtype=torch.float16\n",
      "lora_A_out.dtype=torch.float16\n",
      "lora_B_out.dtype=torch.float16\n",
      "lora_out.dtype=torch.float16\n",
      "x.dtype=torch.float16\n",
      "lora_A_out.dtype=torch.float16\n",
      "lora_B_out.dtype=torch.float16\n",
      "lora_out.dtype=torch.float16\n",
      "x.dtype=torch.float16\n",
      "lora_A_out.dtype=torch.float16\n",
      "lora_B_out.dtype=torch.float16\n",
      "lora_out.dtype=torch.float16\n",
      "x.dtype=torch.float16\n",
      "lora_A_out.dtype=torch.float16\n",
      "lora_B_out.dtype=torch.float16\n",
      "lora_out.dtype=torch.float16\n",
      "x.dtype=torch.float16\n",
      "lora_A_out.dtype=torch.float16\n",
      "lora_B_out.dtype=torch.float16\n",
      "lora_out.dtype=torch.float16\n",
      "x.dtype=torch.float16\n",
      "lora_A_out.dtype=torch.float16\n",
      "lora_B_out.dtype=torch.float16\n",
      "lora_out.dtype=torch.float16\n",
      "x.dtype=torch.float16\n",
      "lora_A_out.dtype=torch.float16\n",
      "lora_B_out.dtype=torch.float16\n",
      "lora_out.dtype=torch.float16\n",
      "x.dtype=torch.float16\n",
      "lora_A_out.dtype=torch.float16\n",
      "lora_B_out.dtype=torch.float16\n",
      "lora_out.dtype=torch.float16\n",
      "x.dtype=torch.float16\n",
      "lora_A_out.dtype=torch.float16\n",
      "lora_B_out.dtype=torch.float16\n",
      "lora_out.dtype=torch.float16\n",
      "x.dtype=torch.float16\n",
      "lora_A_out.dtype=torch.float16\n",
      "lora_B_out.dtype=torch.float16\n",
      "lora_out.dtype=torch.float16\n",
      "x.dtype=torch.float16\n",
      "lora_A_out.dtype=torch.float16\n",
      "lora_B_out.dtype=torch.float16\n",
      "lora_out.dtype=torch.float16\n",
      "x.dtype=torch.float16\n",
      "lora_A_out.dtype=torch.float16\n",
      "lora_B_out.dtype=torch.float16\n",
      "lora_out.dtype=torch.float16\n",
      "x.dtype=torch.float16\n",
      "lora_A_out.dtype=torch.float16\n",
      "lora_B_out.dtype=torch.float16\n",
      "lora_out.dtype=torch.float16\n",
      "x.dtype=torch.float16\n",
      "lora_A_out.dtype=torch.float16\n",
      "lora_B_out.dtype=torch.float16\n",
      "lora_out.dtype=torch.float16\n",
      "x.dtype=torch.float16\n",
      "lora_A_out.dtype=torch.float16\n",
      "lora_B_out.dtype=torch.float16\n",
      "lora_out.dtype=torch.float16\n",
      "x.dtype=torch.float16\n",
      "lora_A_out.dtype=torch.float16\n",
      "lora_B_out.dtype=torch.float16\n",
      "lora_out.dtype=torch.float16\n",
      "x.dtype=torch.float16\n",
      "lora_A_out.dtype=torch.float16\n",
      "lora_B_out.dtype=torch.float16\n",
      "lora_out.dtype=torch.float16\n",
      "x.dtype=torch.float16\n",
      "lora_A_out.dtype=torch.float16\n",
      "lora_B_out.dtype=torch.float16\n",
      "lora_out.dtype=torch.float16\n",
      "x.dtype=torch.float16\n",
      "lora_A_out.dtype=torch.float16\n",
      "lora_B_out.dtype=torch.float16\n",
      "lora_out.dtype=torch.float16\n",
      "x.dtype=torch.float16\n",
      "lora_A_out.dtype=torch.float16\n",
      "lora_B_out.dtype=torch.float16\n",
      "lora_out.dtype=torch.float16\n",
      "x.dtype=torch.float16\n",
      "lora_A_out.dtype=torch.float16\n",
      "lora_B_out.dtype=torch.float16\n",
      "lora_out.dtype=torch.float16\n",
      "x.dtype=torch.float16\n",
      "lora_A_out.dtype=torch.float16\n",
      "lora_B_out.dtype=torch.float16\n",
      "lora_out.dtype=torch.float16\n",
      "x.dtype=torch.float16\n",
      "lora_A_out.dtype=torch.float16\n",
      "lora_B_out.dtype=torch.float16\n",
      "lora_out.dtype=torch.float16\n",
      "x.dtype=torch.float16\n",
      "lora_A_out.dtype=torch.float16\n",
      "lora_B_out.dtype=torch.float16\n",
      "lora_out.dtype=torch.float16\n",
      "x.dtype=torch.float16\n",
      "lora_A_out.dtype=torch.float16\n",
      "lora_B_out.dtype=torch.float16\n",
      "lora_out.dtype=torch.float16\n",
      "x.dtype=torch.float16\n",
      "lora_A_out.dtype=torch.float16\n",
      "lora_B_out.dtype=torch.float16\n",
      "lora_out.dtype=torch.float16\n",
      "x.dtype=torch.float16\n",
      "lora_A_out.dtype=torch.float16\n",
      "lora_B_out.dtype=torch.float16\n",
      "lora_out.dtype=torch.float16\n",
      "x.dtype=torch.float16\n",
      "lora_A_out.dtype=torch.float16\n",
      "lora_B_out.dtype=torch.float16\n",
      "lora_out.dtype=torch.float16\n",
      "x.dtype=torch.float16\n",
      "lora_A_out.dtype=torch.float16\n",
      "lora_B_out.dtype=torch.float16\n",
      "lora_out.dtype=torch.float16\n",
      "x.dtype=torch.float16\n",
      "lora_A_out.dtype=torch.float16\n",
      "lora_B_out.dtype=torch.float16\n",
      "lora_out.dtype=torch.float16\n",
      "x.dtype=torch.float16\n",
      "lora_A_out.dtype=torch.float16\n",
      "lora_B_out.dtype=torch.float16\n",
      "lora_out.dtype=torch.float16\n",
      "x.dtype=torch.float16\n",
      "lora_A_out.dtype=torch.float16\n",
      "lora_B_out.dtype=torch.float16\n",
      "lora_out.dtype=torch.float16\n",
      "x.dtype=torch.float16\n",
      "lora_A_out.dtype=torch.float16\n",
      "lora_B_out.dtype=torch.float16\n",
      "lora_out.dtype=torch.float16\n",
      "x.dtype=torch.float16\n",
      "lora_A_out.dtype=torch.float16\n",
      "lora_B_out.dtype=torch.float16\n",
      "lora_out.dtype=torch.float16\n",
      "x.dtype=torch.float16\n",
      "lora_A_out.dtype=torch.float16\n",
      "lora_B_out.dtype=torch.float16\n",
      "lora_out.dtype=torch.float16\n",
      "x.dtype=torch.float16\n",
      "lora_A_out.dtype=torch.float16\n",
      "lora_B_out.dtype=torch.float16\n",
      "lora_out.dtype=torch.float16\n",
      "x.dtype=torch.float16\n",
      "lora_A_out.dtype=torch.float16\n",
      "lora_B_out.dtype=torch.float16\n",
      "lora_out.dtype=torch.float16\n",
      "x.dtype=torch.float16\n",
      "lora_A_out.dtype=torch.float16\n",
      "lora_B_out.dtype=torch.float16\n",
      "lora_out.dtype=torch.float16\n",
      "x.dtype=torch.float16\n",
      "lora_A_out.dtype=torch.float16\n",
      "lora_B_out.dtype=torch.float16\n",
      "lora_out.dtype=torch.float16\n",
      "x.dtype=torch.float16\n",
      "lora_A_out.dtype=torch.float16\n",
      "lora_B_out.dtype=torch.float16\n",
      "lora_out.dtype=torch.float16\n",
      "x.dtype=torch.float16\n",
      "lora_A_out.dtype=torch.float16\n",
      "lora_B_out.dtype=torch.float16\n",
      "lora_out.dtype=torch.float16\n",
      "x.dtype=torch.float16\n",
      "lora_A_out.dtype=torch.float16\n",
      "lora_B_out.dtype=torch.float16\n",
      "lora_out.dtype=torch.float16\n",
      "x.dtype=torch.float16\n",
      "lora_A_out.dtype=torch.float16\n",
      "lora_B_out.dtype=torch.float16\n",
      "lora_out.dtype=torch.float16\n",
      "x.dtype=torch.float16\n",
      "lora_A_out.dtype=torch.float16\n",
      "lora_B_out.dtype=torch.float16\n",
      "lora_out.dtype=torch.float16\n",
      "x.dtype=torch.float16\n",
      "lora_A_out.dtype=torch.float16\n",
      "lora_B_out.dtype=torch.float16\n",
      "lora_out.dtype=torch.float16\n",
      "x.dtype=torch.float16\n",
      "lora_A_out.dtype=torch.float16\n",
      "lora_B_out.dtype=torch.float16\n",
      "lora_out.dtype=torch.float16\n",
      "x.dtype=torch.float16\n",
      "lora_A_out.dtype=torch.float16\n",
      "lora_B_out.dtype=torch.float16\n",
      "lora_out.dtype=torch.float16\n",
      "x.dtype=torch.float16\n",
      "lora_A_out.dtype=torch.float16\n",
      "lora_B_out.dtype=torch.float16\n",
      "lora_out.dtype=torch.float16\n",
      "x.dtype=torch.float16\n",
      "lora_A_out.dtype=torch.float16\n",
      "lora_B_out.dtype=torch.float16\n",
      "lora_out.dtype=torch.float16\n",
      "x.dtype=torch.float16\n",
      "lora_A_out.dtype=torch.float16\n",
      "lora_B_out.dtype=torch.float16\n",
      "lora_out.dtype=torch.float16\n",
      "x.dtype=torch.float16\n",
      "lora_A_out.dtype=torch.float16\n",
      "lora_B_out.dtype=torch.float16\n",
      "lora_out.dtype=torch.float16\n",
      "x.dtype=torch.float16\n",
      "lora_A_out.dtype=torch.float16\n",
      "lora_B_out.dtype=torch.float16\n",
      "lora_out.dtype=torch.float16\n",
      "x.dtype=torch.float16\n",
      "lora_A_out.dtype=torch.float16\n",
      "lora_B_out.dtype=torch.float16\n",
      "lora_out.dtype=torch.float16\n",
      "x.dtype=torch.float16\n",
      "lora_A_out.dtype=torch.float16\n",
      "lora_B_out.dtype=torch.float16\n",
      "lora_out.dtype=torch.float16\n",
      "x.dtype=torch.float16\n",
      "lora_A_out.dtype=torch.float16\n",
      "lora_B_out.dtype=torch.float16\n",
      "lora_out.dtype=torch.float16\n",
      "x.dtype=torch.float16\n",
      "lora_A_out.dtype=torch.float16\n",
      "lora_B_out.dtype=torch.float16\n",
      "lora_out.dtype=torch.float16\n",
      "x.dtype=torch.float16\n",
      "lora_A_out.dtype=torch.float16\n",
      "lora_B_out.dtype=torch.float16\n",
      "lora_out.dtype=torch.float16\n",
      "x.dtype=torch.float16\n",
      "lora_A_out.dtype=torch.float16\n",
      "lora_B_out.dtype=torch.float16\n",
      "lora_out.dtype=torch.float16\n",
      "x.dtype=torch.float16\n",
      "lora_A_out.dtype=torch.float16\n",
      "lora_B_out.dtype=torch.float16\n",
      "lora_out.dtype=torch.float16\n",
      "x.dtype=torch.float16\n",
      "lora_A_out.dtype=torch.float16\n",
      "lora_B_out.dtype=torch.float16\n",
      "lora_out.dtype=torch.float16\n",
      "x.dtype=torch.float16\n",
      "lora_A_out.dtype=torch.float16\n",
      "lora_B_out.dtype=torch.float16\n",
      "lora_out.dtype=torch.float16\n",
      "x.dtype=torch.float16\n",
      "lora_A_out.dtype=torch.float16\n",
      "lora_B_out.dtype=torch.float16\n",
      "lora_out.dtype=torch.float16\n",
      "x.dtype=torch.float16\n",
      "lora_A_out.dtype=torch.float16\n",
      "lora_B_out.dtype=torch.float16\n",
      "lora_out.dtype=torch.float16\n",
      "x.dtype=torch.float16\n",
      "lora_A_out.dtype=torch.float16\n",
      "lora_B_out.dtype=torch.float16\n",
      "lora_out.dtype=torch.float16\n",
      "x.dtype=torch.float16\n",
      "lora_A_out.dtype=torch.float16\n",
      "lora_B_out.dtype=torch.float16\n",
      "lora_out.dtype=torch.float16\n",
      "x.dtype=torch.float16\n",
      "lora_A_out.dtype=torch.float16\n",
      "lora_B_out.dtype=torch.float16\n",
      "lora_out.dtype=torch.float16\n",
      "x.dtype=torch.float16\n",
      "lora_A_out.dtype=torch.float16\n",
      "lora_B_out.dtype=torch.float16\n",
      "lora_out.dtype=torch.float16\n",
      "x.dtype=torch.float16\n",
      "lora_A_out.dtype=torch.float16\n",
      "lora_B_out.dtype=torch.float16\n",
      "lora_out.dtype=torch.float16\n",
      "x.dtype=torch.float16\n",
      "lora_A_out.dtype=torch.float16\n",
      "lora_B_out.dtype=torch.float16\n",
      "lora_out.dtype=torch.float16\n",
      "x.dtype=torch.float16\n",
      "lora_A_out.dtype=torch.float16\n",
      "lora_B_out.dtype=torch.float16\n",
      "lora_out.dtype=torch.float16\n",
      "x.dtype=torch.float16\n",
      "lora_A_out.dtype=torch.float16\n",
      "lora_B_out.dtype=torch.float16\n",
      "lora_out.dtype=torch.float16\n",
      "x.dtype=torch.float16\n",
      "lora_A_out.dtype=torch.float16\n",
      "lora_B_out.dtype=torch.float16\n",
      "lora_out.dtype=torch.float16\n",
      "x.dtype=torch.float16\n",
      "lora_A_out.dtype=torch.float16\n",
      "lora_B_out.dtype=torch.float16\n",
      "lora_out.dtype=torch.float16\n",
      "x.dtype=torch.float16\n",
      "lora_A_out.dtype=torch.float16\n",
      "lora_B_out.dtype=torch.float16\n",
      "lora_out.dtype=torch.float16\n",
      "x.dtype=torch.float16\n",
      "lora_A_out.dtype=torch.float16\n",
      "lora_B_out.dtype=torch.float16\n",
      "lora_out.dtype=torch.float16\n",
      "x.dtype=torch.float16\n",
      "lora_A_out.dtype=torch.float16\n",
      "lora_B_out.dtype=torch.float16\n",
      "lora_out.dtype=torch.float16\n",
      "x.dtype=torch.float16\n",
      "lora_A_out.dtype=torch.float16\n",
      "lora_B_out.dtype=torch.float16\n",
      "lora_out.dtype=torch.float16\n",
      "x.dtype=torch.float16\n",
      "lora_A_out.dtype=torch.float16\n",
      "lora_B_out.dtype=torch.float16\n",
      "lora_out.dtype=torch.float16\n",
      "x.dtype=torch.float16\n",
      "lora_A_out.dtype=torch.float16\n",
      "lora_B_out.dtype=torch.float16\n",
      "lora_out.dtype=torch.float16\n",
      "x.dtype=torch.float16\n",
      "lora_A_out.dtype=torch.float16\n",
      "lora_B_out.dtype=torch.float16\n",
      "lora_out.dtype=torch.float16\n",
      "x.dtype=torch.float16\n",
      "lora_A_out.dtype=torch.float16\n",
      "lora_B_out.dtype=torch.float16\n",
      "lora_out.dtype=torch.float16\n",
      "x.dtype=torch.float16\n",
      "lora_A_out.dtype=torch.float16\n",
      "lora_B_out.dtype=torch.float16\n",
      "lora_out.dtype=torch.float16\n",
      "Generated token:  Rica\n"
     ]
    }
   ],
   "source": [
    "# Encode prompt\n",
    "prompt = \"The future of AI is\"\n",
    "input_ids = tokenizer(prompt, return_tensors='pt').input_ids.to(next(nero_model.parameters()).device)\n",
    "\n",
    "# Generate output\n",
    "with torch.no_grad():\n",
    "    output, nero_out = nero_model(input_ids)\n",
    "\n",
    "# Extract logits and get the most probable next token\n",
    "logits = output.logits[:, -1, :]\n",
    "next_token_id = torch.argmax(logits, dim=-1)\n",
    "\n",
    "# Decode the token to text\n",
    "next_token = tokenizer.decode(next_token_id)\n",
    "print(\"Generated token:\", next_token)"
   ]
  }
 ],
 "metadata": {
  "kernelspec": {
   "display_name": "Python 3 (ipykernel)",
   "language": "python",
   "name": "python3"
  },
  "language_info": {
   "codemirror_mode": {
    "name": "ipython",
    "version": 3
   },
   "file_extension": ".py",
   "mimetype": "text/x-python",
   "name": "python",
   "nbconvert_exporter": "python",
   "pygments_lexer": "ipython3",
   "version": "3.11.11"
  }
 },
 "nbformat": 4,
 "nbformat_minor": 2
}
