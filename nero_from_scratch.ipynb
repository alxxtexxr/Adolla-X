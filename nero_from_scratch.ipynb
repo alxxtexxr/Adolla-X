{
 "cells": [
  {
   "cell_type": "code",
   "execution_count": 2,
   "metadata": {},
   "outputs": [],
   "source": [
    "# Kill all processess on GPU\n",
    "!fuser -v /dev/nvidia* -k"
   ]
  },
  {
   "cell_type": "markdown",
   "metadata": {},
   "source": [
    "# Libraries"
   ]
  },
  {
   "cell_type": "code",
   "execution_count": 2,
   "metadata": {},
   "outputs": [],
   "source": [
    "# Install required libraries (optimized for Colab/Kaggle notebooks)\n",
    "%%capture\n",
    "import os\n",
    "if 'COLAB_' not in ''.join(os.environ.keys()):\n",
    "    %pip install unsloth\n",
    "else:\n",
    "    # Do this only in Colab notebooks and Kaggle notebooks!\n",
    "    %pip install --no-deps bitsandbytes accelerate xformers==0.0.29 peft trl triton\n",
    "    %pip install --no-deps cut_cross_entropy unsloth_zoo\n",
    "    %pip install sentencepiece protobuf datasets huggingface_hub hf_transfer\n",
    "    %pip install --no-deps unsloth"
   ]
  },
  {
   "cell_type": "code",
   "execution_count": 3,
   "metadata": {},
   "outputs": [
    {
     "name": "stdout",
     "output_type": "stream",
     "text": [
      "🦥 Unsloth: Will patch your computer to enable 2x faster free finetuning.\n"
     ]
    },
    {
     "name": "stderr",
     "output_type": "stream",
     "text": [
      "WARNING:xformers:WARNING[XFORMERS]: xFormers can't load C++/CUDA extensions. xFormers was built for:\n",
      "    PyTorch 2.5.1+cu121 with CUDA 1201 (you have 2.6.0+cu124)\n",
      "    Python  3.11.11 (you have 3.11.11)\n",
      "  Please reinstall xformers (see https://github.com/facebookresearch/xformers#installing-xformers)\n",
      "  Memory-efficient attention, SwiGLU, sparse and more won't be available.\n",
      "  Set XFORMERS_MORE_DETAILS=1 for more details\n"
     ]
    },
    {
     "name": "stdout",
     "output_type": "stream",
     "text": [
      "🦥 Unsloth Zoo will now patch everything to make training faster!\n"
     ]
    }
   ],
   "source": [
    "import os\n",
    "import torch\n",
    "import torch.nn as nn\n",
    "import torch.nn.functional as F\n",
    "from unsloth import FastLanguageModel\n",
    "from transformers import TrainingArguments \n",
    "from trl import SFTTrainer\n",
    "from peft import LoraConfig\n",
    "from huggingface_hub import snapshot_download\n",
    "from safetensors.torch import load_file\n",
    "from pprint import pprint"
   ]
  },
  {
   "cell_type": "markdown",
   "metadata": {},
   "source": [
    "# Config"
   ]
  },
  {
   "cell_type": "code",
   "execution_count": 4,
   "metadata": {},
   "outputs": [],
   "source": [
    "# Project config\n",
    "seed = 69\n",
    "device = torch.device('cuda' if torch.cuda.is_available() else 'cpu')\n",
    "\n",
    "# Model config\n",
    "max_seq_length = 1024\n",
    "dtype = None # None for auto detection. Float16 for Tesla T4, V100, Bfloat16 for Ampere+\n",
    "load_in_4bit = True # Use 4bit quantization to reduce memory usage. Can be False.\n",
    "\n",
    "# LoRA config\n",
    "hf_lora_id = 'alxxtexxr/L3.1-8B-wikipedia-en-LoRA-v20250305134947'\n",
    "lora_dir = hf_lora_id.split('/')[-1]"
   ]
  },
  {
   "cell_type": "markdown",
   "metadata": {},
   "source": [
    "# Model"
   ]
  },
  {
   "cell_type": "code",
   "execution_count": 5,
   "metadata": {},
   "outputs": [
    {
     "data": {
      "application/vnd.jupyter.widget-view+json": {
       "model_id": "d17cb90c41864c59b629ecbe0d4431ee",
       "version_major": 2,
       "version_minor": 0
      },
      "text/plain": [
       ".gitattributes:   0%|          | 0.00/1.57k [00:00<?, ?B/s]"
      ]
     },
     "metadata": {},
     "output_type": "display_data"
    },
    {
     "data": {
      "application/vnd.jupyter.widget-view+json": {
       "model_id": "ad10c99f076645ebbfce8e7931964291",
       "version_major": 2,
       "version_minor": 0
      },
      "text/plain": [
       "adapter_config.json:   0%|          | 0.00/812 [00:00<?, ?B/s]"
      ]
     },
     "metadata": {},
     "output_type": "display_data"
    },
    {
     "data": {
      "application/vnd.jupyter.widget-view+json": {
       "model_id": "5fa1c5b2b2564dbb8e243414f62e9a51",
       "version_major": 2,
       "version_minor": 0
      },
      "text/plain": [
       "adapter_model.safetensors:   0%|          | 0.00/83.9M [00:00<?, ?B/s]"
      ]
     },
     "metadata": {},
     "output_type": "display_data"
    },
    {
     "data": {
      "application/vnd.jupyter.widget-view+json": {
       "model_id": "b3b6299e7afb49a9b8bfc416bc62a918",
       "version_major": 2,
       "version_minor": 0
      },
      "text/plain": [
       "README.md:   0%|          | 0.00/5.12k [00:00<?, ?B/s]"
      ]
     },
     "metadata": {},
     "output_type": "display_data"
    },
    {
     "data": {
      "application/vnd.jupyter.widget-view+json": {
       "model_id": "fae0d2ab7fa547faa5b2a0fe20a3d628",
       "version_major": 2,
       "version_minor": 0
      },
      "text/plain": [
       "adapter_config.json:   0%|          | 0.00/812 [00:00<?, ?B/s]"
      ]
     },
     "metadata": {},
     "output_type": "display_data"
    },
    {
     "data": {
      "application/vnd.jupyter.widget-view+json": {
       "model_id": "5936e50d7bd44b8cb9a15a0f083d7ce7",
       "version_major": 2,
       "version_minor": 0
      },
      "text/plain": [
       "adapter_model.safetensors:   0%|          | 0.00/83.9M [00:00<?, ?B/s]"
      ]
     },
     "metadata": {},
     "output_type": "display_data"
    },
    {
     "data": {
      "application/vnd.jupyter.widget-view+json": {
       "model_id": "76cc3b89ca4d4aae927f5af27b7a8fae",
       "version_major": 2,
       "version_minor": 0
      },
      "text/plain": [
       "optimizer.pt:   0%|          | 0.00/43.1M [00:00<?, ?B/s]"
      ]
     },
     "metadata": {},
     "output_type": "display_data"
    },
    {
     "data": {
      "application/vnd.jupyter.widget-view+json": {
       "model_id": "82b13ba934f2444b805d4f4dc8dffa7a",
       "version_major": 2,
       "version_minor": 0
      },
      "text/plain": [
       "rng_state.pth:   0%|          | 0.00/14.2k [00:00<?, ?B/s]"
      ]
     },
     "metadata": {},
     "output_type": "display_data"
    },
    {
     "data": {
      "application/vnd.jupyter.widget-view+json": {
       "model_id": "373dc4d9aa4d44f9893828b1f714e0e3",
       "version_major": 2,
       "version_minor": 0
      },
      "text/plain": [
       "scheduler.pt:   0%|          | 0.00/1.06k [00:00<?, ?B/s]"
      ]
     },
     "metadata": {},
     "output_type": "display_data"
    },
    {
     "data": {
      "application/vnd.jupyter.widget-view+json": {
       "model_id": "4257e1daad4f4c76a7627f0f1f9fed5a",
       "version_major": 2,
       "version_minor": 0
      },
      "text/plain": [
       "special_tokens_map.json:   0%|          | 0.00/459 [00:00<?, ?B/s]"
      ]
     },
     "metadata": {},
     "output_type": "display_data"
    },
    {
     "data": {
      "application/vnd.jupyter.widget-view+json": {
       "model_id": "c5cb6d06157e4754bdcc90ed805ee263",
       "version_major": 2,
       "version_minor": 0
      },
      "text/plain": [
       "tokenizer.json:   0%|          | 0.00/17.2M [00:00<?, ?B/s]"
      ]
     },
     "metadata": {},
     "output_type": "display_data"
    },
    {
     "data": {
      "application/vnd.jupyter.widget-view+json": {
       "model_id": "8fbc9b6000a04504afae54b5c849e1de",
       "version_major": 2,
       "version_minor": 0
      },
      "text/plain": [
       "tokenizer_config.json:   0%|          | 0.00/50.6k [00:00<?, ?B/s]"
      ]
     },
     "metadata": {},
     "output_type": "display_data"
    },
    {
     "data": {
      "application/vnd.jupyter.widget-view+json": {
       "model_id": "1f1890b7203b45fdaad0c2d2ba5d6363",
       "version_major": 2,
       "version_minor": 0
      },
      "text/plain": [
       "trainer_state.json:   0%|          | 0.00/16.7k [00:00<?, ?B/s]"
      ]
     },
     "metadata": {},
     "output_type": "display_data"
    },
    {
     "data": {
      "application/vnd.jupyter.widget-view+json": {
       "model_id": "fc6ca1f033994a9ebdadc666d39aacb9",
       "version_major": 2,
       "version_minor": 0
      },
      "text/plain": [
       "training_args.bin:   0%|          | 0.00/5.75k [00:00<?, ?B/s]"
      ]
     },
     "metadata": {},
     "output_type": "display_data"
    },
    {
     "data": {
      "application/vnd.jupyter.widget-view+json": {
       "model_id": "24113df34ece464287d6e44619b0014a",
       "version_major": 2,
       "version_minor": 0
      },
      "text/plain": [
       "README.md:   0%|          | 0.00/5.12k [00:00<?, ?B/s]"
      ]
     },
     "metadata": {},
     "output_type": "display_data"
    },
    {
     "data": {
      "application/vnd.jupyter.widget-view+json": {
       "model_id": "f3994d6d9a2148c5a892f489ecfabbb4",
       "version_major": 2,
       "version_minor": 0
      },
      "text/plain": [
       "adapter_config.json:   0%|          | 0.00/812 [00:00<?, ?B/s]"
      ]
     },
     "metadata": {},
     "output_type": "display_data"
    },
    {
     "data": {
      "application/vnd.jupyter.widget-view+json": {
       "model_id": "a57c9b928e1b4391bd96ec91ea243e8a",
       "version_major": 2,
       "version_minor": 0
      },
      "text/plain": [
       "adapter_model.safetensors:   0%|          | 0.00/83.9M [00:00<?, ?B/s]"
      ]
     },
     "metadata": {},
     "output_type": "display_data"
    },
    {
     "data": {
      "application/vnd.jupyter.widget-view+json": {
       "model_id": "95afe1d0db2b490c880c6bd21cdb198b",
       "version_major": 2,
       "version_minor": 0
      },
      "text/plain": [
       "optimizer.pt:   0%|          | 0.00/43.1M [00:00<?, ?B/s]"
      ]
     },
     "metadata": {},
     "output_type": "display_data"
    },
    {
     "data": {
      "application/vnd.jupyter.widget-view+json": {
       "model_id": "2016e1ccc1664963b2f72c3b358bc9a7",
       "version_major": 2,
       "version_minor": 0
      },
      "text/plain": [
       "rng_state.pth:   0%|          | 0.00/14.2k [00:00<?, ?B/s]"
      ]
     },
     "metadata": {},
     "output_type": "display_data"
    },
    {
     "data": {
      "application/vnd.jupyter.widget-view+json": {
       "model_id": "a15b3a1533bd45d488b576301cb74004",
       "version_major": 2,
       "version_minor": 0
      },
      "text/plain": [
       "scheduler.pt:   0%|          | 0.00/1.06k [00:00<?, ?B/s]"
      ]
     },
     "metadata": {},
     "output_type": "display_data"
    },
    {
     "data": {
      "application/vnd.jupyter.widget-view+json": {
       "model_id": "2eb24f871f244510a81722ac766e7125",
       "version_major": 2,
       "version_minor": 0
      },
      "text/plain": [
       "special_tokens_map.json:   0%|          | 0.00/459 [00:00<?, ?B/s]"
      ]
     },
     "metadata": {},
     "output_type": "display_data"
    },
    {
     "data": {
      "application/vnd.jupyter.widget-view+json": {
       "model_id": "807f7af885424c43a5e196e1d7804a7f",
       "version_major": 2,
       "version_minor": 0
      },
      "text/plain": [
       "tokenizer.json:   0%|          | 0.00/17.2M [00:00<?, ?B/s]"
      ]
     },
     "metadata": {},
     "output_type": "display_data"
    },
    {
     "data": {
      "application/vnd.jupyter.widget-view+json": {
       "model_id": "60d6caa745b64c60bd34a2b991df3885",
       "version_major": 2,
       "version_minor": 0
      },
      "text/plain": [
       "tokenizer_config.json:   0%|          | 0.00/50.6k [00:00<?, ?B/s]"
      ]
     },
     "metadata": {},
     "output_type": "display_data"
    },
    {
     "data": {
      "application/vnd.jupyter.widget-view+json": {
       "model_id": "8f3086bef88a4a148941b30d563646c6",
       "version_major": 2,
       "version_minor": 0
      },
      "text/plain": [
       "trainer_state.json:   0%|          | 0.00/32.7k [00:00<?, ?B/s]"
      ]
     },
     "metadata": {},
     "output_type": "display_data"
    },
    {
     "data": {
      "application/vnd.jupyter.widget-view+json": {
       "model_id": "b5e2945b9565404baf67b6da925431dc",
       "version_major": 2,
       "version_minor": 0
      },
      "text/plain": [
       "training_args.bin:   0%|          | 0.00/5.75k [00:00<?, ?B/s]"
      ]
     },
     "metadata": {},
     "output_type": "display_data"
    },
    {
     "data": {
      "application/vnd.jupyter.widget-view+json": {
       "model_id": "c435ba8cfd6841b6b422f6b1946fd596",
       "version_major": 2,
       "version_minor": 0
      },
      "text/plain": [
       "README.md:   0%|          | 0.00/5.12k [00:00<?, ?B/s]"
      ]
     },
     "metadata": {},
     "output_type": "display_data"
    },
    {
     "data": {
      "application/vnd.jupyter.widget-view+json": {
       "model_id": "ebeef478afa04807981b41ed5e82629f",
       "version_major": 2,
       "version_minor": 0
      },
      "text/plain": [
       "adapter_config.json:   0%|          | 0.00/812 [00:00<?, ?B/s]"
      ]
     },
     "metadata": {},
     "output_type": "display_data"
    },
    {
     "data": {
      "application/vnd.jupyter.widget-view+json": {
       "model_id": "d221a49318bb4049832e82b495436d4b",
       "version_major": 2,
       "version_minor": 0
      },
      "text/plain": [
       "adapter_model.safetensors:   0%|          | 0.00/83.9M [00:00<?, ?B/s]"
      ]
     },
     "metadata": {},
     "output_type": "display_data"
    },
    {
     "data": {
      "application/vnd.jupyter.widget-view+json": {
       "model_id": "22583f0781f5432687fe25df1eaf0551",
       "version_major": 2,
       "version_minor": 0
      },
      "text/plain": [
       "optimizer.pt:   0%|          | 0.00/44.3M [00:00<?, ?B/s]"
      ]
     },
     "metadata": {},
     "output_type": "display_data"
    },
    {
     "data": {
      "application/vnd.jupyter.widget-view+json": {
       "model_id": "aafc52f6afa14d7c9b4c0d5536408883",
       "version_major": 2,
       "version_minor": 0
      },
      "text/plain": [
       "rng_state.pth:   0%|          | 0.00/14.2k [00:00<?, ?B/s]"
      ]
     },
     "metadata": {},
     "output_type": "display_data"
    },
    {
     "data": {
      "application/vnd.jupyter.widget-view+json": {
       "model_id": "3825e85506ff487283429cca8605a3bd",
       "version_major": 2,
       "version_minor": 0
      },
      "text/plain": [
       "scheduler.pt:   0%|          | 0.00/1.06k [00:00<?, ?B/s]"
      ]
     },
     "metadata": {},
     "output_type": "display_data"
    },
    {
     "data": {
      "application/vnd.jupyter.widget-view+json": {
       "model_id": "50dbd74843d04db1a67f41189562c1d8",
       "version_major": 2,
       "version_minor": 0
      },
      "text/plain": [
       "special_tokens_map.json:   0%|          | 0.00/459 [00:00<?, ?B/s]"
      ]
     },
     "metadata": {},
     "output_type": "display_data"
    },
    {
     "data": {
      "application/vnd.jupyter.widget-view+json": {
       "model_id": "65c03a2fbb43412089796e47d44ce621",
       "version_major": 2,
       "version_minor": 0
      },
      "text/plain": [
       "tokenizer.json:   0%|          | 0.00/17.2M [00:00<?, ?B/s]"
      ]
     },
     "metadata": {},
     "output_type": "display_data"
    },
    {
     "data": {
      "application/vnd.jupyter.widget-view+json": {
       "model_id": "109e87a504d54c39bcaaef726574bd1b",
       "version_major": 2,
       "version_minor": 0
      },
      "text/plain": [
       "tokenizer_config.json:   0%|          | 0.00/50.6k [00:00<?, ?B/s]"
      ]
     },
     "metadata": {},
     "output_type": "display_data"
    },
    {
     "data": {
      "application/vnd.jupyter.widget-view+json": {
       "model_id": "8d2f29dece1147bc90cb7bf749f07cf4",
       "version_major": 2,
       "version_minor": 0
      },
      "text/plain": [
       "trainer_state.json:   0%|          | 0.00/48.9k [00:00<?, ?B/s]"
      ]
     },
     "metadata": {},
     "output_type": "display_data"
    },
    {
     "data": {
      "application/vnd.jupyter.widget-view+json": {
       "model_id": "47f800ba24cf44c4baaec7898e9d8aba",
       "version_major": 2,
       "version_minor": 0
      },
      "text/plain": [
       "training_args.bin:   0%|          | 0.00/5.75k [00:00<?, ?B/s]"
      ]
     },
     "metadata": {},
     "output_type": "display_data"
    },
    {
     "data": {
      "application/vnd.jupyter.widget-view+json": {
       "model_id": "94ebc6eaa78044e496c5e5376078c961",
       "version_major": 2,
       "version_minor": 0
      },
      "text/plain": [
       "README.md:   0%|          | 0.00/5.12k [00:00<?, ?B/s]"
      ]
     },
     "metadata": {},
     "output_type": "display_data"
    },
    {
     "data": {
      "application/vnd.jupyter.widget-view+json": {
       "model_id": "e0fc0ab5846f48068b820b9c087fdc89",
       "version_major": 2,
       "version_minor": 0
      },
      "text/plain": [
       "adapter_config.json:   0%|          | 0.00/812 [00:00<?, ?B/s]"
      ]
     },
     "metadata": {},
     "output_type": "display_data"
    },
    {
     "data": {
      "application/vnd.jupyter.widget-view+json": {
       "model_id": "7402b40fb1b94e9a88a5bf0b62aa46ed",
       "version_major": 2,
       "version_minor": 0
      },
      "text/plain": [
       "adapter_model.safetensors:   0%|          | 0.00/83.9M [00:00<?, ?B/s]"
      ]
     },
     "metadata": {},
     "output_type": "display_data"
    },
    {
     "data": {
      "application/vnd.jupyter.widget-view+json": {
       "model_id": "ef64c33f254748ad9910b0264b929af7",
       "version_major": 2,
       "version_minor": 0
      },
      "text/plain": [
       "optimizer.pt:   0%|          | 0.00/44.3M [00:00<?, ?B/s]"
      ]
     },
     "metadata": {},
     "output_type": "display_data"
    },
    {
     "data": {
      "application/vnd.jupyter.widget-view+json": {
       "model_id": "bfdb9b09125e429491089232a3cc758c",
       "version_major": 2,
       "version_minor": 0
      },
      "text/plain": [
       "rng_state.pth:   0%|          | 0.00/14.2k [00:00<?, ?B/s]"
      ]
     },
     "metadata": {},
     "output_type": "display_data"
    },
    {
     "data": {
      "application/vnd.jupyter.widget-view+json": {
       "model_id": "ffbdc9f8e76c467fb9f8f4c8c341eb58",
       "version_major": 2,
       "version_minor": 0
      },
      "text/plain": [
       "scheduler.pt:   0%|          | 0.00/1.06k [00:00<?, ?B/s]"
      ]
     },
     "metadata": {},
     "output_type": "display_data"
    },
    {
     "data": {
      "application/vnd.jupyter.widget-view+json": {
       "model_id": "89937b8c95954957a158241e7227b7cb",
       "version_major": 2,
       "version_minor": 0
      },
      "text/plain": [
       "special_tokens_map.json:   0%|          | 0.00/459 [00:00<?, ?B/s]"
      ]
     },
     "metadata": {},
     "output_type": "display_data"
    },
    {
     "data": {
      "application/vnd.jupyter.widget-view+json": {
       "model_id": "a4937eaa8dcf47f38e9d72ecbfffd6f9",
       "version_major": 2,
       "version_minor": 0
      },
      "text/plain": [
       "tokenizer.json:   0%|          | 0.00/17.2M [00:00<?, ?B/s]"
      ]
     },
     "metadata": {},
     "output_type": "display_data"
    },
    {
     "data": {
      "application/vnd.jupyter.widget-view+json": {
       "model_id": "7615ffcf33c047349bf22fc1b7546c15",
       "version_major": 2,
       "version_minor": 0
      },
      "text/plain": [
       "tokenizer_config.json:   0%|          | 0.00/50.6k [00:00<?, ?B/s]"
      ]
     },
     "metadata": {},
     "output_type": "display_data"
    },
    {
     "data": {
      "application/vnd.jupyter.widget-view+json": {
       "model_id": "af3f31645e4f482eab2a28ea03a32892",
       "version_major": 2,
       "version_minor": 0
      },
      "text/plain": [
       "trainer_state.json:   0%|          | 0.00/65.0k [00:00<?, ?B/s]"
      ]
     },
     "metadata": {},
     "output_type": "display_data"
    },
    {
     "data": {
      "application/vnd.jupyter.widget-view+json": {
       "model_id": "6ca7b864e73640c188e26358e9786290",
       "version_major": 2,
       "version_minor": 0
      },
      "text/plain": [
       "training_args.bin:   0%|          | 0.00/5.75k [00:00<?, ?B/s]"
      ]
     },
     "metadata": {},
     "output_type": "display_data"
    },
    {
     "data": {
      "application/vnd.jupyter.widget-view+json": {
       "model_id": "cf3a3f15999142fc853b4e8336ae43fb",
       "version_major": 2,
       "version_minor": 0
      },
      "text/plain": [
       "README.md:   0%|          | 0.00/5.12k [00:00<?, ?B/s]"
      ]
     },
     "metadata": {},
     "output_type": "display_data"
    },
    {
     "data": {
      "application/vnd.jupyter.widget-view+json": {
       "model_id": "73e56ba177d642f581cddb6126571421",
       "version_major": 2,
       "version_minor": 0
      },
      "text/plain": [
       "adapter_config.json:   0%|          | 0.00/812 [00:00<?, ?B/s]"
      ]
     },
     "metadata": {},
     "output_type": "display_data"
    },
    {
     "data": {
      "application/vnd.jupyter.widget-view+json": {
       "model_id": "f04b3b1128e340719591240189d384c7",
       "version_major": 2,
       "version_minor": 0
      },
      "text/plain": [
       "adapter_model.safetensors:   0%|          | 0.00/83.9M [00:00<?, ?B/s]"
      ]
     },
     "metadata": {},
     "output_type": "display_data"
    },
    {
     "data": {
      "application/vnd.jupyter.widget-view+json": {
       "model_id": "4c990c9ef5a447348fb3c5301b53e44e",
       "version_major": 2,
       "version_minor": 0
      },
      "text/plain": [
       "optimizer.pt:   0%|          | 0.00/44.3M [00:00<?, ?B/s]"
      ]
     },
     "metadata": {},
     "output_type": "display_data"
    },
    {
     "data": {
      "application/vnd.jupyter.widget-view+json": {
       "model_id": "5499de6c92224d3697a7f6c949d2e8f2",
       "version_major": 2,
       "version_minor": 0
      },
      "text/plain": [
       "rng_state.pth:   0%|          | 0.00/14.2k [00:00<?, ?B/s]"
      ]
     },
     "metadata": {},
     "output_type": "display_data"
    },
    {
     "data": {
      "application/vnd.jupyter.widget-view+json": {
       "model_id": "05eb800541d042e5b0f0ea29489569e2",
       "version_major": 2,
       "version_minor": 0
      },
      "text/plain": [
       "scheduler.pt:   0%|          | 0.00/1.06k [00:00<?, ?B/s]"
      ]
     },
     "metadata": {},
     "output_type": "display_data"
    },
    {
     "data": {
      "application/vnd.jupyter.widget-view+json": {
       "model_id": "40d84ad4e7a64f5f9bd553c707ad5974",
       "version_major": 2,
       "version_minor": 0
      },
      "text/plain": [
       "special_tokens_map.json:   0%|          | 0.00/459 [00:00<?, ?B/s]"
      ]
     },
     "metadata": {},
     "output_type": "display_data"
    },
    {
     "data": {
      "application/vnd.jupyter.widget-view+json": {
       "model_id": "d0877d0f67404149807ef62a9e730313",
       "version_major": 2,
       "version_minor": 0
      },
      "text/plain": [
       "tokenizer.json:   0%|          | 0.00/17.2M [00:00<?, ?B/s]"
      ]
     },
     "metadata": {},
     "output_type": "display_data"
    },
    {
     "data": {
      "application/vnd.jupyter.widget-view+json": {
       "model_id": "ccc2eb73744e405b8dbcc46bdd6f235e",
       "version_major": 2,
       "version_minor": 0
      },
      "text/plain": [
       "tokenizer_config.json:   0%|          | 0.00/50.6k [00:00<?, ?B/s]"
      ]
     },
     "metadata": {},
     "output_type": "display_data"
    },
    {
     "data": {
      "application/vnd.jupyter.widget-view+json": {
       "model_id": "f88b6101a6954ed4bbd8a227455eb18d",
       "version_major": 2,
       "version_minor": 0
      },
      "text/plain": [
       "trainer_state.json:   0%|          | 0.00/81.4k [00:00<?, ?B/s]"
      ]
     },
     "metadata": {},
     "output_type": "display_data"
    },
    {
     "data": {
      "application/vnd.jupyter.widget-view+json": {
       "model_id": "18f9926c95cc4b8084d1e0ed3ffde825",
       "version_major": 2,
       "version_minor": 0
      },
      "text/plain": [
       "training_args.bin:   0%|          | 0.00/5.75k [00:00<?, ?B/s]"
      ]
     },
     "metadata": {},
     "output_type": "display_data"
    },
    {
     "data": {
      "application/vnd.jupyter.widget-view+json": {
       "model_id": "d4dbda3be2764dac8c8da98ed9221475",
       "version_major": 2,
       "version_minor": 0
      },
      "text/plain": [
       "README.md:   0%|          | 0.00/5.12k [00:00<?, ?B/s]"
      ]
     },
     "metadata": {},
     "output_type": "display_data"
    },
    {
     "data": {
      "application/vnd.jupyter.widget-view+json": {
       "model_id": "537d8a0ce75a43a39059614bf46b617b",
       "version_major": 2,
       "version_minor": 0
      },
      "text/plain": [
       "adapter_config.json:   0%|          | 0.00/812 [00:00<?, ?B/s]"
      ]
     },
     "metadata": {},
     "output_type": "display_data"
    },
    {
     "data": {
      "application/vnd.jupyter.widget-view+json": {
       "model_id": "4973f447ef6f47fdb1893b9b78939bfb",
       "version_major": 2,
       "version_minor": 0
      },
      "text/plain": [
       "adapter_model.safetensors:   0%|          | 0.00/83.9M [00:00<?, ?B/s]"
      ]
     },
     "metadata": {},
     "output_type": "display_data"
    },
    {
     "data": {
      "application/vnd.jupyter.widget-view+json": {
       "model_id": "db171429f0894f67aa07a4e420dee9f8",
       "version_major": 2,
       "version_minor": 0
      },
      "text/plain": [
       "optimizer.pt:   0%|          | 0.00/44.3M [00:00<?, ?B/s]"
      ]
     },
     "metadata": {},
     "output_type": "display_data"
    },
    {
     "data": {
      "application/vnd.jupyter.widget-view+json": {
       "model_id": "80b2986addac40c18f8243f7d7e75032",
       "version_major": 2,
       "version_minor": 0
      },
      "text/plain": [
       "rng_state.pth:   0%|          | 0.00/14.2k [00:00<?, ?B/s]"
      ]
     },
     "metadata": {},
     "output_type": "display_data"
    },
    {
     "data": {
      "application/vnd.jupyter.widget-view+json": {
       "model_id": "bc4b0d0827c04e9fab80f5d75294b307",
       "version_major": 2,
       "version_minor": 0
      },
      "text/plain": [
       "scheduler.pt:   0%|          | 0.00/1.06k [00:00<?, ?B/s]"
      ]
     },
     "metadata": {},
     "output_type": "display_data"
    },
    {
     "data": {
      "application/vnd.jupyter.widget-view+json": {
       "model_id": "341e1cc4a65b431bb95364adc762a685",
       "version_major": 2,
       "version_minor": 0
      },
      "text/plain": [
       "special_tokens_map.json:   0%|          | 0.00/459 [00:00<?, ?B/s]"
      ]
     },
     "metadata": {},
     "output_type": "display_data"
    },
    {
     "data": {
      "application/vnd.jupyter.widget-view+json": {
       "model_id": "9cc682385f2f4cf58a6347279de1bd46",
       "version_major": 2,
       "version_minor": 0
      },
      "text/plain": [
       "tokenizer.json:   0%|          | 0.00/17.2M [00:00<?, ?B/s]"
      ]
     },
     "metadata": {},
     "output_type": "display_data"
    },
    {
     "data": {
      "application/vnd.jupyter.widget-view+json": {
       "model_id": "0322a9d852a8439e9f3eda3b280deace",
       "version_major": 2,
       "version_minor": 0
      },
      "text/plain": [
       "tokenizer_config.json:   0%|          | 0.00/50.6k [00:00<?, ?B/s]"
      ]
     },
     "metadata": {},
     "output_type": "display_data"
    },
    {
     "data": {
      "application/vnd.jupyter.widget-view+json": {
       "model_id": "81bf8215a4754191b1fbb2e3604f317f",
       "version_major": 2,
       "version_minor": 0
      },
      "text/plain": [
       "trainer_state.json:   0%|          | 0.00/97.5k [00:00<?, ?B/s]"
      ]
     },
     "metadata": {},
     "output_type": "display_data"
    },
    {
     "data": {
      "application/vnd.jupyter.widget-view+json": {
       "model_id": "6612f53ba4d340b586e26af65dc8b239",
       "version_major": 2,
       "version_minor": 0
      },
      "text/plain": [
       "training_args.bin:   0%|          | 0.00/5.75k [00:00<?, ?B/s]"
      ]
     },
     "metadata": {},
     "output_type": "display_data"
    },
    {
     "data": {
      "application/vnd.jupyter.widget-view+json": {
       "model_id": "c895ae5f4af443419a0d4b91e728dc81",
       "version_major": 2,
       "version_minor": 0
      },
      "text/plain": [
       "README.md:   0%|          | 0.00/5.12k [00:00<?, ?B/s]"
      ]
     },
     "metadata": {},
     "output_type": "display_data"
    },
    {
     "data": {
      "application/vnd.jupyter.widget-view+json": {
       "model_id": "d443c36709844f05a347ae4a349f2178",
       "version_major": 2,
       "version_minor": 0
      },
      "text/plain": [
       "adapter_config.json:   0%|          | 0.00/812 [00:00<?, ?B/s]"
      ]
     },
     "metadata": {},
     "output_type": "display_data"
    },
    {
     "data": {
      "application/vnd.jupyter.widget-view+json": {
       "model_id": "33a6f68abe6342c88c4635629f4581dc",
       "version_major": 2,
       "version_minor": 0
      },
      "text/plain": [
       "adapter_model.safetensors:   0%|          | 0.00/83.9M [00:00<?, ?B/s]"
      ]
     },
     "metadata": {},
     "output_type": "display_data"
    },
    {
     "data": {
      "application/vnd.jupyter.widget-view+json": {
       "model_id": "ab049b16d96f46509d2920fe9fc923ac",
       "version_major": 2,
       "version_minor": 0
      },
      "text/plain": [
       "optimizer.pt:   0%|          | 0.00/44.3M [00:00<?, ?B/s]"
      ]
     },
     "metadata": {},
     "output_type": "display_data"
    },
    {
     "data": {
      "application/vnd.jupyter.widget-view+json": {
       "model_id": "002023c766c44a41b55564d19c744072",
       "version_major": 2,
       "version_minor": 0
      },
      "text/plain": [
       "rng_state.pth:   0%|          | 0.00/14.2k [00:00<?, ?B/s]"
      ]
     },
     "metadata": {},
     "output_type": "display_data"
    },
    {
     "data": {
      "application/vnd.jupyter.widget-view+json": {
       "model_id": "fa1ce6f75d024601afb30185e28a94d2",
       "version_major": 2,
       "version_minor": 0
      },
      "text/plain": [
       "scheduler.pt:   0%|          | 0.00/1.06k [00:00<?, ?B/s]"
      ]
     },
     "metadata": {},
     "output_type": "display_data"
    },
    {
     "data": {
      "application/vnd.jupyter.widget-view+json": {
       "model_id": "5df538bd3567489cb9e3b657fc93d8b4",
       "version_major": 2,
       "version_minor": 0
      },
      "text/plain": [
       "special_tokens_map.json:   0%|          | 0.00/459 [00:00<?, ?B/s]"
      ]
     },
     "metadata": {},
     "output_type": "display_data"
    },
    {
     "data": {
      "application/vnd.jupyter.widget-view+json": {
       "model_id": "ce7f60f449f649bcac55ba34fd7b496c",
       "version_major": 2,
       "version_minor": 0
      },
      "text/plain": [
       "tokenizer.json:   0%|          | 0.00/17.2M [00:00<?, ?B/s]"
      ]
     },
     "metadata": {},
     "output_type": "display_data"
    },
    {
     "data": {
      "application/vnd.jupyter.widget-view+json": {
       "model_id": "ef062773cb344f8f998a92eb9df71cd8",
       "version_major": 2,
       "version_minor": 0
      },
      "text/plain": [
       "tokenizer_config.json:   0%|          | 0.00/50.6k [00:00<?, ?B/s]"
      ]
     },
     "metadata": {},
     "output_type": "display_data"
    },
    {
     "data": {
      "application/vnd.jupyter.widget-view+json": {
       "model_id": "b8b4d23c960e40caa40585e1e21a04aa",
       "version_major": 2,
       "version_minor": 0
      },
      "text/plain": [
       "trainer_state.json:   0%|          | 0.00/114k [00:00<?, ?B/s]"
      ]
     },
     "metadata": {},
     "output_type": "display_data"
    },
    {
     "data": {
      "application/vnd.jupyter.widget-view+json": {
       "model_id": "b774328efdb44034b201efc0508a4126",
       "version_major": 2,
       "version_minor": 0
      },
      "text/plain": [
       "training_args.bin:   0%|          | 0.00/5.75k [00:00<?, ?B/s]"
      ]
     },
     "metadata": {},
     "output_type": "display_data"
    },
    {
     "data": {
      "application/vnd.jupyter.widget-view+json": {
       "model_id": "6d48e8549d18440cb90d90494a16b394",
       "version_major": 2,
       "version_minor": 0
      },
      "text/plain": [
       "README.md:   0%|          | 0.00/5.12k [00:00<?, ?B/s]"
      ]
     },
     "metadata": {},
     "output_type": "display_data"
    },
    {
     "data": {
      "application/vnd.jupyter.widget-view+json": {
       "model_id": "31bc89c18b824de2b952e7ad8d8ae916",
       "version_major": 2,
       "version_minor": 0
      },
      "text/plain": [
       "adapter_config.json:   0%|          | 0.00/812 [00:00<?, ?B/s]"
      ]
     },
     "metadata": {},
     "output_type": "display_data"
    },
    {
     "data": {
      "application/vnd.jupyter.widget-view+json": {
       "model_id": "07ba6efb0c2f49aeb58b02f7a7135492",
       "version_major": 2,
       "version_minor": 0
      },
      "text/plain": [
       "adapter_model.safetensors:   0%|          | 0.00/83.9M [00:00<?, ?B/s]"
      ]
     },
     "metadata": {},
     "output_type": "display_data"
    },
    {
     "data": {
      "application/vnd.jupyter.widget-view+json": {
       "model_id": "912620cabdc04dc7b9da251929a0bd88",
       "version_major": 2,
       "version_minor": 0
      },
      "text/plain": [
       "optimizer.pt:   0%|          | 0.00/44.3M [00:00<?, ?B/s]"
      ]
     },
     "metadata": {},
     "output_type": "display_data"
    },
    {
     "data": {
      "application/vnd.jupyter.widget-view+json": {
       "model_id": "47c5cead804a4763a4bce1c30668ac5f",
       "version_major": 2,
       "version_minor": 0
      },
      "text/plain": [
       "rng_state.pth:   0%|          | 0.00/14.2k [00:00<?, ?B/s]"
      ]
     },
     "metadata": {},
     "output_type": "display_data"
    },
    {
     "data": {
      "application/vnd.jupyter.widget-view+json": {
       "model_id": "2b7ea59aba4b40e081f6ddbd4328b43a",
       "version_major": 2,
       "version_minor": 0
      },
      "text/plain": [
       "scheduler.pt:   0%|          | 0.00/1.06k [00:00<?, ?B/s]"
      ]
     },
     "metadata": {},
     "output_type": "display_data"
    },
    {
     "data": {
      "application/vnd.jupyter.widget-view+json": {
       "model_id": "bd7acadcab854a89a8ea3b4b9def4b6e",
       "version_major": 2,
       "version_minor": 0
      },
      "text/plain": [
       "special_tokens_map.json:   0%|          | 0.00/459 [00:00<?, ?B/s]"
      ]
     },
     "metadata": {},
     "output_type": "display_data"
    },
    {
     "data": {
      "application/vnd.jupyter.widget-view+json": {
       "model_id": "6770b4acf1df45368a21762fb15f999d",
       "version_major": 2,
       "version_minor": 0
      },
      "text/plain": [
       "tokenizer.json:   0%|          | 0.00/17.2M [00:00<?, ?B/s]"
      ]
     },
     "metadata": {},
     "output_type": "display_data"
    },
    {
     "data": {
      "application/vnd.jupyter.widget-view+json": {
       "model_id": "45f63bdd365d417c928a6b68ce70ea0a",
       "version_major": 2,
       "version_minor": 0
      },
      "text/plain": [
       "tokenizer_config.json:   0%|          | 0.00/50.6k [00:00<?, ?B/s]"
      ]
     },
     "metadata": {},
     "output_type": "display_data"
    },
    {
     "data": {
      "application/vnd.jupyter.widget-view+json": {
       "model_id": "20ab52e1c7634e53bbcab05e5027e1d4",
       "version_major": 2,
       "version_minor": 0
      },
      "text/plain": [
       "trainer_state.json:   0%|          | 0.00/122k [00:00<?, ?B/s]"
      ]
     },
     "metadata": {},
     "output_type": "display_data"
    },
    {
     "data": {
      "application/vnd.jupyter.widget-view+json": {
       "model_id": "0f1d20b3b5cf4b7baa8ce3db2d651014",
       "version_major": 2,
       "version_minor": 0
      },
      "text/plain": [
       "training_args.bin:   0%|          | 0.00/5.75k [00:00<?, ?B/s]"
      ]
     },
     "metadata": {},
     "output_type": "display_data"
    },
    {
     "data": {
      "application/vnd.jupyter.widget-view+json": {
       "model_id": "a083d0a4f96b4112a0ab4ee784ad1b54",
       "version_major": 2,
       "version_minor": 0
      },
      "text/plain": [
       "(…).tfevents.1741182714.5172c9540b89.8159.0:   0%|          | 0.00/50.1k [00:00<?, ?B/s]"
      ]
     },
     "metadata": {},
     "output_type": "display_data"
    },
    {
     "data": {
      "application/vnd.jupyter.widget-view+json": {
       "model_id": "5d90612a25944f8499f8bc1a3bf75b5a",
       "version_major": 2,
       "version_minor": 0
      },
      "text/plain": [
       "(…).tfevents.1741192136.40cd2355fd32.1061.0:   0%|          | 0.00/29.5k [00:00<?, ?B/s]"
      ]
     },
     "metadata": {},
     "output_type": "display_data"
    },
    {
     "data": {
      "application/vnd.jupyter.widget-view+json": {
       "model_id": "aac1825ee7074fab9c1eca43fb96fbda",
       "version_major": 2,
       "version_minor": 0
      },
      "text/plain": [
       "(…).tfevents.1741219006.8da8ca61af90.1084.0:   0%|          | 0.00/29.5k [00:00<?, ?B/s]"
      ]
     },
     "metadata": {},
     "output_type": "display_data"
    },
    {
     "data": {
      "application/vnd.jupyter.widget-view+json": {
       "model_id": "9b7ff0c7aa6d48658fa5a1006555181f",
       "version_major": 2,
       "version_minor": 0
      },
      "text/plain": [
       "(…).tfevents.1741232833.506a328f2d3f.1088.0:   0%|          | 0.00/74.1k [00:00<?, ?B/s]"
      ]
     },
     "metadata": {},
     "output_type": "display_data"
    },
    {
     "data": {
      "application/vnd.jupyter.widget-view+json": {
       "model_id": "939cfd351462458b99c9c3f79611dd0e",
       "version_major": 2,
       "version_minor": 0
      },
      "text/plain": [
       "special_tokens_map.json:   0%|          | 0.00/459 [00:00<?, ?B/s]"
      ]
     },
     "metadata": {},
     "output_type": "display_data"
    },
    {
     "data": {
      "application/vnd.jupyter.widget-view+json": {
       "model_id": "fb3abe6b001b42629df988d04e56374f",
       "version_major": 2,
       "version_minor": 0
      },
      "text/plain": [
       "tokenizer.json:   0%|          | 0.00/17.2M [00:00<?, ?B/s]"
      ]
     },
     "metadata": {},
     "output_type": "display_data"
    },
    {
     "data": {
      "application/vnd.jupyter.widget-view+json": {
       "model_id": "0b18ac1a95fd4a1698cee2cea65eeb14",
       "version_major": 2,
       "version_minor": 0
      },
      "text/plain": [
       "tokenizer_config.json:   0%|          | 0.00/50.6k [00:00<?, ?B/s]"
      ]
     },
     "metadata": {},
     "output_type": "display_data"
    },
    {
     "data": {
      "application/vnd.jupyter.widget-view+json": {
       "model_id": "3feb46f8724345d99c64d5d903dff827",
       "version_major": 2,
       "version_minor": 0
      },
      "text/plain": [
       "training_args.bin:   0%|          | 0.00/5.75k [00:00<?, ?B/s]"
      ]
     },
     "metadata": {},
     "output_type": "display_data"
    },
    {
     "data": {
      "application/vnd.google.colaboratory.intrinsic+json": {
       "type": "string"
      },
      "text/plain": [
       "'/content/L3.1-8B-wikipedia-en-LoRA-v20250305134947'"
      ]
     },
     "execution_count": 5,
     "metadata": {},
     "output_type": "execute_result"
    }
   ],
   "source": [
    "# Download the trained LoRA adapter to the local directory\n",
    "snapshot_download(\n",
    "    repo_id=hf_lora_id, \n",
    "    local_dir=lora_dir, \n",
    "    # ignore_patterns='checkpoint-*/*',\n",
    ")"
   ]
  },
  {
   "cell_type": "code",
   "execution_count": 5,
   "metadata": {},
   "outputs": [
    {
     "name": "stdout",
     "output_type": "stream",
     "text": [
      "==((====))==  Unsloth 2025.3.17: Fast Llama patching. Transformers: 4.48.3.\n",
      "   \\\\   /|    Tesla T4. Num GPUs = 1. Max memory: 14.741 GB. Platform: Linux.\n",
      "O^O/ \\_/ \\    Torch: 2.6.0+cu124. CUDA: 7.5. CUDA Toolkit: 12.4. Triton: 3.2.0\n",
      "\\        /    Bfloat16 = FALSE. FA [Xformers = None. FA2 = False]\n",
      " \"-____-\"     Free license: http://github.com/unslothai/unsloth\n",
      "Unsloth: Fast downloading is enabled - ignore downloading bars which are red colored!\n"
     ]
    },
    {
     "data": {
      "text/plain": [
       "LlamaForCausalLM(\n",
       "  (model): LlamaModel(\n",
       "    (embed_tokens): Embedding(128256, 4096, padding_idx=128004)\n",
       "    (layers): ModuleList(\n",
       "      (0): LlamaDecoderLayer(\n",
       "        (self_attn): LlamaAttention(\n",
       "          (q_proj): Linear4bit(in_features=4096, out_features=4096, bias=False)\n",
       "          (k_proj): Linear4bit(in_features=4096, out_features=1024, bias=False)\n",
       "          (v_proj): Linear4bit(in_features=4096, out_features=1024, bias=False)\n",
       "          (o_proj): Linear4bit(in_features=4096, out_features=4096, bias=False)\n",
       "          (rotary_emb): LlamaRotaryEmbedding()\n",
       "        )\n",
       "        (mlp): LlamaMLP(\n",
       "          (gate_proj): Linear4bit(in_features=4096, out_features=14336, bias=False)\n",
       "          (up_proj): Linear4bit(in_features=4096, out_features=14336, bias=False)\n",
       "          (down_proj): Linear4bit(in_features=14336, out_features=4096, bias=False)\n",
       "          (act_fn): SiLU()\n",
       "        )\n",
       "        (input_layernorm): LlamaRMSNorm((4096,), eps=1e-05)\n",
       "        (post_attention_layernorm): LlamaRMSNorm((4096,), eps=1e-05)\n",
       "      )\n",
       "      (1): LlamaDecoderLayer(\n",
       "        (self_attn): LlamaAttention(\n",
       "          (q_proj): Linear4bit(in_features=4096, out_features=4096, bias=False)\n",
       "          (k_proj): Linear4bit(in_features=4096, out_features=1024, bias=False)\n",
       "          (v_proj): Linear4bit(in_features=4096, out_features=1024, bias=False)\n",
       "          (o_proj): Linear4bit(in_features=4096, out_features=4096, bias=False)\n",
       "          (rotary_emb): LlamaRotaryEmbedding()\n",
       "        )\n",
       "        (mlp): LlamaMLP(\n",
       "          (gate_proj): Linear(in_features=4096, out_features=14336, bias=False)\n",
       "          (up_proj): Linear(in_features=4096, out_features=14336, bias=False)\n",
       "          (down_proj): Linear(in_features=14336, out_features=4096, bias=False)\n",
       "          (act_fn): SiLU()\n",
       "        )\n",
       "        (input_layernorm): LlamaRMSNorm((4096,), eps=1e-05)\n",
       "        (post_attention_layernorm): LlamaRMSNorm((4096,), eps=1e-05)\n",
       "      )\n",
       "      (2-31): 30 x LlamaDecoderLayer(\n",
       "        (self_attn): LlamaAttention(\n",
       "          (q_proj): Linear4bit(in_features=4096, out_features=4096, bias=False)\n",
       "          (k_proj): Linear4bit(in_features=4096, out_features=1024, bias=False)\n",
       "          (v_proj): Linear4bit(in_features=4096, out_features=1024, bias=False)\n",
       "          (o_proj): Linear4bit(in_features=4096, out_features=4096, bias=False)\n",
       "          (rotary_emb): LlamaRotaryEmbedding()\n",
       "        )\n",
       "        (mlp): LlamaMLP(\n",
       "          (gate_proj): Linear4bit(in_features=4096, out_features=14336, bias=False)\n",
       "          (up_proj): Linear4bit(in_features=4096, out_features=14336, bias=False)\n",
       "          (down_proj): Linear4bit(in_features=14336, out_features=4096, bias=False)\n",
       "          (act_fn): SiLU()\n",
       "        )\n",
       "        (input_layernorm): LlamaRMSNorm((4096,), eps=1e-05)\n",
       "        (post_attention_layernorm): LlamaRMSNorm((4096,), eps=1e-05)\n",
       "      )\n",
       "    )\n",
       "    (norm): LlamaRMSNorm((4096,), eps=1e-05)\n",
       "    (rotary_emb): LlamaRotaryEmbedding()\n",
       "  )\n",
       "  (lm_head): Linear(in_features=4096, out_features=128256, bias=False)\n",
       ")"
      ]
     },
     "execution_count": 5,
     "metadata": {},
     "output_type": "execute_result"
    }
   ],
   "source": [
    "# Load the base model and tokenizer\n",
    "base_model, tokenizer = FastLanguageModel.from_pretrained(\n",
    "    model_name='unsloth/Meta-Llama-3.1-8B',\n",
    "    max_seq_length=max_seq_length,\n",
    "    dtype=dtype,\n",
    "    load_in_4bit=load_in_4bit,\n",
    ")\n",
    "\n",
    "# base_model = base_model.to(device)\n",
    "base_model.eval()"
   ]
  },
  {
   "cell_type": "code",
   "execution_count": 6,
   "metadata": {},
   "outputs": [
    {
     "name": "stdout",
     "output_type": "stream",
     "text": [
      "{'_custom_modules': None,\n",
      " 'alpha_pattern': {},\n",
      " 'auto_mapping': None,\n",
      " 'base_model_name_or_path': 'unsloth/meta-llama-3.1-8b-unsloth-bnb-4bit',\n",
      " 'bias': 'none',\n",
      " 'eva_config': None,\n",
      " 'exclude_modules': None,\n",
      " 'fan_in_fan_out': False,\n",
      " 'inference_mode': True,\n",
      " 'init_lora_weights': True,\n",
      " 'layer_replication': None,\n",
      " 'layers_pattern': None,\n",
      " 'layers_to_transform': None,\n",
      " 'loftq_config': {},\n",
      " 'lora_alpha': 16,\n",
      " 'lora_bias': False,\n",
      " 'lora_dropout': 0,\n",
      " 'megatron_config': None,\n",
      " 'megatron_core': 'megatron.core',\n",
      " 'modules_to_save': None,\n",
      " 'peft_type': <PeftType.LORA: 'LORA'>,\n",
      " 'r': 8,\n",
      " 'rank_pattern': {},\n",
      " 'revision': None,\n",
      " 'runtime_config': LoraRuntimeConfig(ephemeral_gpu_offload=False),\n",
      " 'target_modules': {'down_proj',\n",
      "                    'gate_proj',\n",
      "                    'k_proj',\n",
      "                    'o_proj',\n",
      "                    'q_proj',\n",
      "                    'up_proj',\n",
      "                    'v_proj'},\n",
      " 'task_type': 'CAUSAL_LM',\n",
      " 'use_dora': False,\n",
      " 'use_rslora': False}\n"
     ]
    }
   ],
   "source": [
    "lora_config = LoraConfig.from_pretrained(lora_dir)\n",
    "pprint(lora_config.__dict__)"
   ]
  },
  {
   "cell_type": "code",
   "execution_count": 7,
   "metadata": {},
   "outputs": [
    {
     "name": "stdout",
     "output_type": "stream",
     "text": [
      "LoraModel(\n",
      "  (base_model): LlamaForCausalLM(\n",
      "    (model): LlamaModel(\n",
      "      (embed_tokens): Embedding(128256, 4096, padding_idx=128004)\n",
      "      (layers): ModuleList(\n",
      "        (0): LlamaDecoderLayer(\n",
      "          (self_attn): LlamaAttention(\n",
      "            (q_proj): LoraLayer(\n",
      "              (base_layer): Linear4bit(in_features=4096, out_features=4096, bias=False)\n",
      "              (lora_A): Linear(in_features=4096, out_features=8, bias=False)\n",
      "              (lora_B): Linear(in_features=8, out_features=4096, bias=False)\n",
      "            )\n",
      "            (k_proj): LoraLayer(\n",
      "              (base_layer): Linear4bit(in_features=4096, out_features=1024, bias=False)\n",
      "              (lora_A): Linear(in_features=4096, out_features=8, bias=False)\n",
      "              (lora_B): Linear(in_features=8, out_features=1024, bias=False)\n",
      "            )\n",
      "            (v_proj): LoraLayer(\n",
      "              (base_layer): Linear4bit(in_features=4096, out_features=1024, bias=False)\n",
      "              (lora_A): Linear(in_features=4096, out_features=8, bias=False)\n",
      "              (lora_B): Linear(in_features=8, out_features=1024, bias=False)\n",
      "            )\n",
      "            (o_proj): LoraLayer(\n",
      "              (base_layer): Linear4bit(in_features=4096, out_features=4096, bias=False)\n",
      "              (lora_A): Linear(in_features=4096, out_features=8, bias=False)\n",
      "              (lora_B): Linear(in_features=8, out_features=4096, bias=False)\n",
      "            )\n",
      "            (rotary_emb): LlamaRotaryEmbedding()\n",
      "          )\n",
      "          (mlp): LlamaMLP(\n",
      "            (gate_proj): LoraLayer(\n",
      "              (base_layer): Linear4bit(in_features=4096, out_features=14336, bias=False)\n",
      "              (lora_A): Linear(in_features=4096, out_features=8, bias=False)\n",
      "              (lora_B): Linear(in_features=8, out_features=14336, bias=False)\n",
      "            )\n",
      "            (up_proj): LoraLayer(\n",
      "              (base_layer): Linear4bit(in_features=4096, out_features=14336, bias=False)\n",
      "              (lora_A): Linear(in_features=4096, out_features=8, bias=False)\n",
      "              (lora_B): Linear(in_features=8, out_features=14336, bias=False)\n",
      "            )\n",
      "            (down_proj): LoraLayer(\n",
      "              (base_layer): Linear4bit(in_features=14336, out_features=4096, bias=False)\n",
      "              (lora_A): Linear(in_features=14336, out_features=8, bias=False)\n",
      "              (lora_B): Linear(in_features=8, out_features=4096, bias=False)\n",
      "            )\n",
      "            (act_fn): SiLU()\n",
      "          )\n",
      "          (input_layernorm): LlamaRMSNorm((4096,), eps=1e-05)\n",
      "          (post_attention_layernorm): LlamaRMSNorm((4096,), eps=1e-05)\n",
      "        )\n",
      "        (1): LlamaDecoderLayer(\n",
      "          (self_attn): LlamaAttention(\n",
      "            (q_proj): LoraLayer(\n",
      "              (base_layer): Linear4bit(in_features=4096, out_features=4096, bias=False)\n",
      "              (lora_A): Linear(in_features=4096, out_features=8, bias=False)\n",
      "              (lora_B): Linear(in_features=8, out_features=4096, bias=False)\n",
      "            )\n",
      "            (k_proj): LoraLayer(\n",
      "              (base_layer): Linear4bit(in_features=4096, out_features=1024, bias=False)\n",
      "              (lora_A): Linear(in_features=4096, out_features=8, bias=False)\n",
      "              (lora_B): Linear(in_features=8, out_features=1024, bias=False)\n",
      "            )\n",
      "            (v_proj): LoraLayer(\n",
      "              (base_layer): Linear4bit(in_features=4096, out_features=1024, bias=False)\n",
      "              (lora_A): Linear(in_features=4096, out_features=8, bias=False)\n",
      "              (lora_B): Linear(in_features=8, out_features=1024, bias=False)\n",
      "            )\n",
      "            (o_proj): LoraLayer(\n",
      "              (base_layer): Linear4bit(in_features=4096, out_features=4096, bias=False)\n",
      "              (lora_A): Linear(in_features=4096, out_features=8, bias=False)\n",
      "              (lora_B): Linear(in_features=8, out_features=4096, bias=False)\n",
      "            )\n",
      "            (rotary_emb): LlamaRotaryEmbedding()\n",
      "          )\n",
      "          (mlp): LlamaMLP(\n",
      "            (gate_proj): LoraLayer(\n",
      "              (base_layer): Linear(in_features=4096, out_features=14336, bias=False)\n",
      "              (lora_A): Linear(in_features=4096, out_features=8, bias=False)\n",
      "              (lora_B): Linear(in_features=8, out_features=14336, bias=False)\n",
      "            )\n",
      "            (up_proj): LoraLayer(\n",
      "              (base_layer): Linear(in_features=4096, out_features=14336, bias=False)\n",
      "              (lora_A): Linear(in_features=4096, out_features=8, bias=False)\n",
      "              (lora_B): Linear(in_features=8, out_features=14336, bias=False)\n",
      "            )\n",
      "            (down_proj): LoraLayer(\n",
      "              (base_layer): Linear(in_features=14336, out_features=4096, bias=False)\n",
      "              (lora_A): Linear(in_features=14336, out_features=8, bias=False)\n",
      "              (lora_B): Linear(in_features=8, out_features=4096, bias=False)\n",
      "            )\n",
      "            (act_fn): SiLU()\n",
      "          )\n",
      "          (input_layernorm): LlamaRMSNorm((4096,), eps=1e-05)\n",
      "          (post_attention_layernorm): LlamaRMSNorm((4096,), eps=1e-05)\n",
      "        )\n",
      "        (2-31): 30 x LlamaDecoderLayer(\n",
      "          (self_attn): LlamaAttention(\n",
      "            (q_proj): LoraLayer(\n",
      "              (base_layer): Linear4bit(in_features=4096, out_features=4096, bias=False)\n",
      "              (lora_A): Linear(in_features=4096, out_features=8, bias=False)\n",
      "              (lora_B): Linear(in_features=8, out_features=4096, bias=False)\n",
      "            )\n",
      "            (k_proj): LoraLayer(\n",
      "              (base_layer): Linear4bit(in_features=4096, out_features=1024, bias=False)\n",
      "              (lora_A): Linear(in_features=4096, out_features=8, bias=False)\n",
      "              (lora_B): Linear(in_features=8, out_features=1024, bias=False)\n",
      "            )\n",
      "            (v_proj): LoraLayer(\n",
      "              (base_layer): Linear4bit(in_features=4096, out_features=1024, bias=False)\n",
      "              (lora_A): Linear(in_features=4096, out_features=8, bias=False)\n",
      "              (lora_B): Linear(in_features=8, out_features=1024, bias=False)\n",
      "            )\n",
      "            (o_proj): LoraLayer(\n",
      "              (base_layer): Linear4bit(in_features=4096, out_features=4096, bias=False)\n",
      "              (lora_A): Linear(in_features=4096, out_features=8, bias=False)\n",
      "              (lora_B): Linear(in_features=8, out_features=4096, bias=False)\n",
      "            )\n",
      "            (rotary_emb): LlamaRotaryEmbedding()\n",
      "          )\n",
      "          (mlp): LlamaMLP(\n",
      "            (gate_proj): LoraLayer(\n",
      "              (base_layer): Linear4bit(in_features=4096, out_features=14336, bias=False)\n",
      "              (lora_A): Linear(in_features=4096, out_features=8, bias=False)\n",
      "              (lora_B): Linear(in_features=8, out_features=14336, bias=False)\n",
      "            )\n",
      "            (up_proj): LoraLayer(\n",
      "              (base_layer): Linear4bit(in_features=4096, out_features=14336, bias=False)\n",
      "              (lora_A): Linear(in_features=4096, out_features=8, bias=False)\n",
      "              (lora_B): Linear(in_features=8, out_features=14336, bias=False)\n",
      "            )\n",
      "            (down_proj): LoraLayer(\n",
      "              (base_layer): Linear4bit(in_features=14336, out_features=4096, bias=False)\n",
      "              (lora_A): Linear(in_features=14336, out_features=8, bias=False)\n",
      "              (lora_B): Linear(in_features=8, out_features=4096, bias=False)\n",
      "            )\n",
      "            (act_fn): SiLU()\n",
      "          )\n",
      "          (input_layernorm): LlamaRMSNorm((4096,), eps=1e-05)\n",
      "          (post_attention_layernorm): LlamaRMSNorm((4096,), eps=1e-05)\n",
      "        )\n",
      "      )\n",
      "      (norm): LlamaRMSNorm((4096,), eps=1e-05)\n",
      "      (rotary_emb): LlamaRotaryEmbedding()\n",
      "    )\n",
      "    (lm_head): Linear(in_features=4096, out_features=128256, bias=False)\n",
      "  )\n",
      "  (lora_layers): ModuleDict(\n",
      "    (layers__DOT__0__DOT__self_attn__DOT__q_proj): LoraLayer(\n",
      "      (base_layer): Linear4bit(in_features=4096, out_features=4096, bias=False)\n",
      "      (lora_A): Linear(in_features=4096, out_features=8, bias=False)\n",
      "      (lora_B): Linear(in_features=8, out_features=4096, bias=False)\n",
      "    )\n",
      "    (layers__DOT__0__DOT__self_attn__DOT__k_proj): LoraLayer(\n",
      "      (base_layer): Linear4bit(in_features=4096, out_features=1024, bias=False)\n",
      "      (lora_A): Linear(in_features=4096, out_features=8, bias=False)\n",
      "      (lora_B): Linear(in_features=8, out_features=1024, bias=False)\n",
      "    )\n",
      "    (layers__DOT__0__DOT__self_attn__DOT__v_proj): LoraLayer(\n",
      "      (base_layer): Linear4bit(in_features=4096, out_features=1024, bias=False)\n",
      "      (lora_A): Linear(in_features=4096, out_features=8, bias=False)\n",
      "      (lora_B): Linear(in_features=8, out_features=1024, bias=False)\n",
      "    )\n",
      "    (layers__DOT__0__DOT__self_attn__DOT__o_proj): LoraLayer(\n",
      "      (base_layer): Linear4bit(in_features=4096, out_features=4096, bias=False)\n",
      "      (lora_A): Linear(in_features=4096, out_features=8, bias=False)\n",
      "      (lora_B): Linear(in_features=8, out_features=4096, bias=False)\n",
      "    )\n",
      "    (layers__DOT__0__DOT__mlp__DOT__gate_proj): LoraLayer(\n",
      "      (base_layer): Linear4bit(in_features=4096, out_features=14336, bias=False)\n",
      "      (lora_A): Linear(in_features=4096, out_features=8, bias=False)\n",
      "      (lora_B): Linear(in_features=8, out_features=14336, bias=False)\n",
      "    )\n",
      "    (layers__DOT__0__DOT__mlp__DOT__up_proj): LoraLayer(\n",
      "      (base_layer): Linear4bit(in_features=4096, out_features=14336, bias=False)\n",
      "      (lora_A): Linear(in_features=4096, out_features=8, bias=False)\n",
      "      (lora_B): Linear(in_features=8, out_features=14336, bias=False)\n",
      "    )\n",
      "    (layers__DOT__0__DOT__mlp__DOT__down_proj): LoraLayer(\n",
      "      (base_layer): Linear4bit(in_features=14336, out_features=4096, bias=False)\n",
      "      (lora_A): Linear(in_features=14336, out_features=8, bias=False)\n",
      "      (lora_B): Linear(in_features=8, out_features=4096, bias=False)\n",
      "    )\n",
      "    (layers__DOT__1__DOT__self_attn__DOT__q_proj): LoraLayer(\n",
      "      (base_layer): Linear4bit(in_features=4096, out_features=4096, bias=False)\n",
      "      (lora_A): Linear(in_features=4096, out_features=8, bias=False)\n",
      "      (lora_B): Linear(in_features=8, out_features=4096, bias=False)\n",
      "    )\n",
      "    (layers__DOT__1__DOT__self_attn__DOT__k_proj): LoraLayer(\n",
      "      (base_layer): Linear4bit(in_features=4096, out_features=1024, bias=False)\n",
      "      (lora_A): Linear(in_features=4096, out_features=8, bias=False)\n",
      "      (lora_B): Linear(in_features=8, out_features=1024, bias=False)\n",
      "    )\n",
      "    (layers__DOT__1__DOT__self_attn__DOT__v_proj): LoraLayer(\n",
      "      (base_layer): Linear4bit(in_features=4096, out_features=1024, bias=False)\n",
      "      (lora_A): Linear(in_features=4096, out_features=8, bias=False)\n",
      "      (lora_B): Linear(in_features=8, out_features=1024, bias=False)\n",
      "    )\n",
      "    (layers__DOT__1__DOT__self_attn__DOT__o_proj): LoraLayer(\n",
      "      (base_layer): Linear4bit(in_features=4096, out_features=4096, bias=False)\n",
      "      (lora_A): Linear(in_features=4096, out_features=8, bias=False)\n",
      "      (lora_B): Linear(in_features=8, out_features=4096, bias=False)\n",
      "    )\n",
      "    (layers__DOT__1__DOT__mlp__DOT__gate_proj): LoraLayer(\n",
      "      (base_layer): Linear(in_features=4096, out_features=14336, bias=False)\n",
      "      (lora_A): Linear(in_features=4096, out_features=8, bias=False)\n",
      "      (lora_B): Linear(in_features=8, out_features=14336, bias=False)\n",
      "    )\n",
      "    (layers__DOT__1__DOT__mlp__DOT__up_proj): LoraLayer(\n",
      "      (base_layer): Linear(in_features=4096, out_features=14336, bias=False)\n",
      "      (lora_A): Linear(in_features=4096, out_features=8, bias=False)\n",
      "      (lora_B): Linear(in_features=8, out_features=14336, bias=False)\n",
      "    )\n",
      "    (layers__DOT__1__DOT__mlp__DOT__down_proj): LoraLayer(\n",
      "      (base_layer): Linear(in_features=14336, out_features=4096, bias=False)\n",
      "      (lora_A): Linear(in_features=14336, out_features=8, bias=False)\n",
      "      (lora_B): Linear(in_features=8, out_features=4096, bias=False)\n",
      "    )\n",
      "    (layers__DOT__2__DOT__self_attn__DOT__q_proj): LoraLayer(\n",
      "      (base_layer): Linear4bit(in_features=4096, out_features=4096, bias=False)\n",
      "      (lora_A): Linear(in_features=4096, out_features=8, bias=False)\n",
      "      (lora_B): Linear(in_features=8, out_features=4096, bias=False)\n",
      "    )\n",
      "    (layers__DOT__2__DOT__self_attn__DOT__k_proj): LoraLayer(\n",
      "      (base_layer): Linear4bit(in_features=4096, out_features=1024, bias=False)\n",
      "      (lora_A): Linear(in_features=4096, out_features=8, bias=False)\n",
      "      (lora_B): Linear(in_features=8, out_features=1024, bias=False)\n",
      "    )\n",
      "    (layers__DOT__2__DOT__self_attn__DOT__v_proj): LoraLayer(\n",
      "      (base_layer): Linear4bit(in_features=4096, out_features=1024, bias=False)\n",
      "      (lora_A): Linear(in_features=4096, out_features=8, bias=False)\n",
      "      (lora_B): Linear(in_features=8, out_features=1024, bias=False)\n",
      "    )\n",
      "    (layers__DOT__2__DOT__self_attn__DOT__o_proj): LoraLayer(\n",
      "      (base_layer): Linear4bit(in_features=4096, out_features=4096, bias=False)\n",
      "      (lora_A): Linear(in_features=4096, out_features=8, bias=False)\n",
      "      (lora_B): Linear(in_features=8, out_features=4096, bias=False)\n",
      "    )\n",
      "    (layers__DOT__2__DOT__mlp__DOT__gate_proj): LoraLayer(\n",
      "      (base_layer): Linear4bit(in_features=4096, out_features=14336, bias=False)\n",
      "      (lora_A): Linear(in_features=4096, out_features=8, bias=False)\n",
      "      (lora_B): Linear(in_features=8, out_features=14336, bias=False)\n",
      "    )\n",
      "    (layers__DOT__2__DOT__mlp__DOT__up_proj): LoraLayer(\n",
      "      (base_layer): Linear4bit(in_features=4096, out_features=14336, bias=False)\n",
      "      (lora_A): Linear(in_features=4096, out_features=8, bias=False)\n",
      "      (lora_B): Linear(in_features=8, out_features=14336, bias=False)\n",
      "    )\n",
      "    (layers__DOT__2__DOT__mlp__DOT__down_proj): LoraLayer(\n",
      "      (base_layer): Linear4bit(in_features=14336, out_features=4096, bias=False)\n",
      "      (lora_A): Linear(in_features=14336, out_features=8, bias=False)\n",
      "      (lora_B): Linear(in_features=8, out_features=4096, bias=False)\n",
      "    )\n",
      "    (layers__DOT__3__DOT__self_attn__DOT__q_proj): LoraLayer(\n",
      "      (base_layer): Linear4bit(in_features=4096, out_features=4096, bias=False)\n",
      "      (lora_A): Linear(in_features=4096, out_features=8, bias=False)\n",
      "      (lora_B): Linear(in_features=8, out_features=4096, bias=False)\n",
      "    )\n",
      "    (layers__DOT__3__DOT__self_attn__DOT__k_proj): LoraLayer(\n",
      "      (base_layer): Linear4bit(in_features=4096, out_features=1024, bias=False)\n",
      "      (lora_A): Linear(in_features=4096, out_features=8, bias=False)\n",
      "      (lora_B): Linear(in_features=8, out_features=1024, bias=False)\n",
      "    )\n",
      "    (layers__DOT__3__DOT__self_attn__DOT__v_proj): LoraLayer(\n",
      "      (base_layer): Linear4bit(in_features=4096, out_features=1024, bias=False)\n",
      "      (lora_A): Linear(in_features=4096, out_features=8, bias=False)\n",
      "      (lora_B): Linear(in_features=8, out_features=1024, bias=False)\n",
      "    )\n",
      "    (layers__DOT__3__DOT__self_attn__DOT__o_proj): LoraLayer(\n",
      "      (base_layer): Linear4bit(in_features=4096, out_features=4096, bias=False)\n",
      "      (lora_A): Linear(in_features=4096, out_features=8, bias=False)\n",
      "      (lora_B): Linear(in_features=8, out_features=4096, bias=False)\n",
      "    )\n",
      "    (layers__DOT__3__DOT__mlp__DOT__gate_proj): LoraLayer(\n",
      "      (base_layer): Linear4bit(in_features=4096, out_features=14336, bias=False)\n",
      "      (lora_A): Linear(in_features=4096, out_features=8, bias=False)\n",
      "      (lora_B): Linear(in_features=8, out_features=14336, bias=False)\n",
      "    )\n",
      "    (layers__DOT__3__DOT__mlp__DOT__up_proj): LoraLayer(\n",
      "      (base_layer): Linear4bit(in_features=4096, out_features=14336, bias=False)\n",
      "      (lora_A): Linear(in_features=4096, out_features=8, bias=False)\n",
      "      (lora_B): Linear(in_features=8, out_features=14336, bias=False)\n",
      "    )\n",
      "    (layers__DOT__3__DOT__mlp__DOT__down_proj): LoraLayer(\n",
      "      (base_layer): Linear4bit(in_features=14336, out_features=4096, bias=False)\n",
      "      (lora_A): Linear(in_features=14336, out_features=8, bias=False)\n",
      "      (lora_B): Linear(in_features=8, out_features=4096, bias=False)\n",
      "    )\n",
      "    (layers__DOT__4__DOT__self_attn__DOT__q_proj): LoraLayer(\n",
      "      (base_layer): Linear4bit(in_features=4096, out_features=4096, bias=False)\n",
      "      (lora_A): Linear(in_features=4096, out_features=8, bias=False)\n",
      "      (lora_B): Linear(in_features=8, out_features=4096, bias=False)\n",
      "    )\n",
      "    (layers__DOT__4__DOT__self_attn__DOT__k_proj): LoraLayer(\n",
      "      (base_layer): Linear4bit(in_features=4096, out_features=1024, bias=False)\n",
      "      (lora_A): Linear(in_features=4096, out_features=8, bias=False)\n",
      "      (lora_B): Linear(in_features=8, out_features=1024, bias=False)\n",
      "    )\n",
      "    (layers__DOT__4__DOT__self_attn__DOT__v_proj): LoraLayer(\n",
      "      (base_layer): Linear4bit(in_features=4096, out_features=1024, bias=False)\n",
      "      (lora_A): Linear(in_features=4096, out_features=8, bias=False)\n",
      "      (lora_B): Linear(in_features=8, out_features=1024, bias=False)\n",
      "    )\n",
      "    (layers__DOT__4__DOT__self_attn__DOT__o_proj): LoraLayer(\n",
      "      (base_layer): Linear4bit(in_features=4096, out_features=4096, bias=False)\n",
      "      (lora_A): Linear(in_features=4096, out_features=8, bias=False)\n",
      "      (lora_B): Linear(in_features=8, out_features=4096, bias=False)\n",
      "    )\n",
      "    (layers__DOT__4__DOT__mlp__DOT__gate_proj): LoraLayer(\n",
      "      (base_layer): Linear4bit(in_features=4096, out_features=14336, bias=False)\n",
      "      (lora_A): Linear(in_features=4096, out_features=8, bias=False)\n",
      "      (lora_B): Linear(in_features=8, out_features=14336, bias=False)\n",
      "    )\n",
      "    (layers__DOT__4__DOT__mlp__DOT__up_proj): LoraLayer(\n",
      "      (base_layer): Linear4bit(in_features=4096, out_features=14336, bias=False)\n",
      "      (lora_A): Linear(in_features=4096, out_features=8, bias=False)\n",
      "      (lora_B): Linear(in_features=8, out_features=14336, bias=False)\n",
      "    )\n",
      "    (layers__DOT__4__DOT__mlp__DOT__down_proj): LoraLayer(\n",
      "      (base_layer): Linear4bit(in_features=14336, out_features=4096, bias=False)\n",
      "      (lora_A): Linear(in_features=14336, out_features=8, bias=False)\n",
      "      (lora_B): Linear(in_features=8, out_features=4096, bias=False)\n",
      "    )\n",
      "    (layers__DOT__5__DOT__self_attn__DOT__q_proj): LoraLayer(\n",
      "      (base_layer): Linear4bit(in_features=4096, out_features=4096, bias=False)\n",
      "      (lora_A): Linear(in_features=4096, out_features=8, bias=False)\n",
      "      (lora_B): Linear(in_features=8, out_features=4096, bias=False)\n",
      "    )\n",
      "    (layers__DOT__5__DOT__self_attn__DOT__k_proj): LoraLayer(\n",
      "      (base_layer): Linear4bit(in_features=4096, out_features=1024, bias=False)\n",
      "      (lora_A): Linear(in_features=4096, out_features=8, bias=False)\n",
      "      (lora_B): Linear(in_features=8, out_features=1024, bias=False)\n",
      "    )\n",
      "    (layers__DOT__5__DOT__self_attn__DOT__v_proj): LoraLayer(\n",
      "      (base_layer): Linear4bit(in_features=4096, out_features=1024, bias=False)\n",
      "      (lora_A): Linear(in_features=4096, out_features=8, bias=False)\n",
      "      (lora_B): Linear(in_features=8, out_features=1024, bias=False)\n",
      "    )\n",
      "    (layers__DOT__5__DOT__self_attn__DOT__o_proj): LoraLayer(\n",
      "      (base_layer): Linear4bit(in_features=4096, out_features=4096, bias=False)\n",
      "      (lora_A): Linear(in_features=4096, out_features=8, bias=False)\n",
      "      (lora_B): Linear(in_features=8, out_features=4096, bias=False)\n",
      "    )\n",
      "    (layers__DOT__5__DOT__mlp__DOT__gate_proj): LoraLayer(\n",
      "      (base_layer): Linear4bit(in_features=4096, out_features=14336, bias=False)\n",
      "      (lora_A): Linear(in_features=4096, out_features=8, bias=False)\n",
      "      (lora_B): Linear(in_features=8, out_features=14336, bias=False)\n",
      "    )\n",
      "    (layers__DOT__5__DOT__mlp__DOT__up_proj): LoraLayer(\n",
      "      (base_layer): Linear4bit(in_features=4096, out_features=14336, bias=False)\n",
      "      (lora_A): Linear(in_features=4096, out_features=8, bias=False)\n",
      "      (lora_B): Linear(in_features=8, out_features=14336, bias=False)\n",
      "    )\n",
      "    (layers__DOT__5__DOT__mlp__DOT__down_proj): LoraLayer(\n",
      "      (base_layer): Linear4bit(in_features=14336, out_features=4096, bias=False)\n",
      "      (lora_A): Linear(in_features=14336, out_features=8, bias=False)\n",
      "      (lora_B): Linear(in_features=8, out_features=4096, bias=False)\n",
      "    )\n",
      "    (layers__DOT__6__DOT__self_attn__DOT__q_proj): LoraLayer(\n",
      "      (base_layer): Linear4bit(in_features=4096, out_features=4096, bias=False)\n",
      "      (lora_A): Linear(in_features=4096, out_features=8, bias=False)\n",
      "      (lora_B): Linear(in_features=8, out_features=4096, bias=False)\n",
      "    )\n",
      "    (layers__DOT__6__DOT__self_attn__DOT__k_proj): LoraLayer(\n",
      "      (base_layer): Linear4bit(in_features=4096, out_features=1024, bias=False)\n",
      "      (lora_A): Linear(in_features=4096, out_features=8, bias=False)\n",
      "      (lora_B): Linear(in_features=8, out_features=1024, bias=False)\n",
      "    )\n",
      "    (layers__DOT__6__DOT__self_attn__DOT__v_proj): LoraLayer(\n",
      "      (base_layer): Linear4bit(in_features=4096, out_features=1024, bias=False)\n",
      "      (lora_A): Linear(in_features=4096, out_features=8, bias=False)\n",
      "      (lora_B): Linear(in_features=8, out_features=1024, bias=False)\n",
      "    )\n",
      "    (layers__DOT__6__DOT__self_attn__DOT__o_proj): LoraLayer(\n",
      "      (base_layer): Linear4bit(in_features=4096, out_features=4096, bias=False)\n",
      "      (lora_A): Linear(in_features=4096, out_features=8, bias=False)\n",
      "      (lora_B): Linear(in_features=8, out_features=4096, bias=False)\n",
      "    )\n",
      "    (layers__DOT__6__DOT__mlp__DOT__gate_proj): LoraLayer(\n",
      "      (base_layer): Linear4bit(in_features=4096, out_features=14336, bias=False)\n",
      "      (lora_A): Linear(in_features=4096, out_features=8, bias=False)\n",
      "      (lora_B): Linear(in_features=8, out_features=14336, bias=False)\n",
      "    )\n",
      "    (layers__DOT__6__DOT__mlp__DOT__up_proj): LoraLayer(\n",
      "      (base_layer): Linear4bit(in_features=4096, out_features=14336, bias=False)\n",
      "      (lora_A): Linear(in_features=4096, out_features=8, bias=False)\n",
      "      (lora_B): Linear(in_features=8, out_features=14336, bias=False)\n",
      "    )\n",
      "    (layers__DOT__6__DOT__mlp__DOT__down_proj): LoraLayer(\n",
      "      (base_layer): Linear4bit(in_features=14336, out_features=4096, bias=False)\n",
      "      (lora_A): Linear(in_features=14336, out_features=8, bias=False)\n",
      "      (lora_B): Linear(in_features=8, out_features=4096, bias=False)\n",
      "    )\n",
      "    (layers__DOT__7__DOT__self_attn__DOT__q_proj): LoraLayer(\n",
      "      (base_layer): Linear4bit(in_features=4096, out_features=4096, bias=False)\n",
      "      (lora_A): Linear(in_features=4096, out_features=8, bias=False)\n",
      "      (lora_B): Linear(in_features=8, out_features=4096, bias=False)\n",
      "    )\n",
      "    (layers__DOT__7__DOT__self_attn__DOT__k_proj): LoraLayer(\n",
      "      (base_layer): Linear4bit(in_features=4096, out_features=1024, bias=False)\n",
      "      (lora_A): Linear(in_features=4096, out_features=8, bias=False)\n",
      "      (lora_B): Linear(in_features=8, out_features=1024, bias=False)\n",
      "    )\n",
      "    (layers__DOT__7__DOT__self_attn__DOT__v_proj): LoraLayer(\n",
      "      (base_layer): Linear4bit(in_features=4096, out_features=1024, bias=False)\n",
      "      (lora_A): Linear(in_features=4096, out_features=8, bias=False)\n",
      "      (lora_B): Linear(in_features=8, out_features=1024, bias=False)\n",
      "    )\n",
      "    (layers__DOT__7__DOT__self_attn__DOT__o_proj): LoraLayer(\n",
      "      (base_layer): Linear4bit(in_features=4096, out_features=4096, bias=False)\n",
      "      (lora_A): Linear(in_features=4096, out_features=8, bias=False)\n",
      "      (lora_B): Linear(in_features=8, out_features=4096, bias=False)\n",
      "    )\n",
      "    (layers__DOT__7__DOT__mlp__DOT__gate_proj): LoraLayer(\n",
      "      (base_layer): Linear4bit(in_features=4096, out_features=14336, bias=False)\n",
      "      (lora_A): Linear(in_features=4096, out_features=8, bias=False)\n",
      "      (lora_B): Linear(in_features=8, out_features=14336, bias=False)\n",
      "    )\n",
      "    (layers__DOT__7__DOT__mlp__DOT__up_proj): LoraLayer(\n",
      "      (base_layer): Linear4bit(in_features=4096, out_features=14336, bias=False)\n",
      "      (lora_A): Linear(in_features=4096, out_features=8, bias=False)\n",
      "      (lora_B): Linear(in_features=8, out_features=14336, bias=False)\n",
      "    )\n",
      "    (layers__DOT__7__DOT__mlp__DOT__down_proj): LoraLayer(\n",
      "      (base_layer): Linear4bit(in_features=14336, out_features=4096, bias=False)\n",
      "      (lora_A): Linear(in_features=14336, out_features=8, bias=False)\n",
      "      (lora_B): Linear(in_features=8, out_features=4096, bias=False)\n",
      "    )\n",
      "    (layers__DOT__8__DOT__self_attn__DOT__q_proj): LoraLayer(\n",
      "      (base_layer): Linear4bit(in_features=4096, out_features=4096, bias=False)\n",
      "      (lora_A): Linear(in_features=4096, out_features=8, bias=False)\n",
      "      (lora_B): Linear(in_features=8, out_features=4096, bias=False)\n",
      "    )\n",
      "    (layers__DOT__8__DOT__self_attn__DOT__k_proj): LoraLayer(\n",
      "      (base_layer): Linear4bit(in_features=4096, out_features=1024, bias=False)\n",
      "      (lora_A): Linear(in_features=4096, out_features=8, bias=False)\n",
      "      (lora_B): Linear(in_features=8, out_features=1024, bias=False)\n",
      "    )\n",
      "    (layers__DOT__8__DOT__self_attn__DOT__v_proj): LoraLayer(\n",
      "      (base_layer): Linear4bit(in_features=4096, out_features=1024, bias=False)\n",
      "      (lora_A): Linear(in_features=4096, out_features=8, bias=False)\n",
      "      (lora_B): Linear(in_features=8, out_features=1024, bias=False)\n",
      "    )\n",
      "    (layers__DOT__8__DOT__self_attn__DOT__o_proj): LoraLayer(\n",
      "      (base_layer): Linear4bit(in_features=4096, out_features=4096, bias=False)\n",
      "      (lora_A): Linear(in_features=4096, out_features=8, bias=False)\n",
      "      (lora_B): Linear(in_features=8, out_features=4096, bias=False)\n",
      "    )\n",
      "    (layers__DOT__8__DOT__mlp__DOT__gate_proj): LoraLayer(\n",
      "      (base_layer): Linear4bit(in_features=4096, out_features=14336, bias=False)\n",
      "      (lora_A): Linear(in_features=4096, out_features=8, bias=False)\n",
      "      (lora_B): Linear(in_features=8, out_features=14336, bias=False)\n",
      "    )\n",
      "    (layers__DOT__8__DOT__mlp__DOT__up_proj): LoraLayer(\n",
      "      (base_layer): Linear4bit(in_features=4096, out_features=14336, bias=False)\n",
      "      (lora_A): Linear(in_features=4096, out_features=8, bias=False)\n",
      "      (lora_B): Linear(in_features=8, out_features=14336, bias=False)\n",
      "    )\n",
      "    (layers__DOT__8__DOT__mlp__DOT__down_proj): LoraLayer(\n",
      "      (base_layer): Linear4bit(in_features=14336, out_features=4096, bias=False)\n",
      "      (lora_A): Linear(in_features=14336, out_features=8, bias=False)\n",
      "      (lora_B): Linear(in_features=8, out_features=4096, bias=False)\n",
      "    )\n",
      "    (layers__DOT__9__DOT__self_attn__DOT__q_proj): LoraLayer(\n",
      "      (base_layer): Linear4bit(in_features=4096, out_features=4096, bias=False)\n",
      "      (lora_A): Linear(in_features=4096, out_features=8, bias=False)\n",
      "      (lora_B): Linear(in_features=8, out_features=4096, bias=False)\n",
      "    )\n",
      "    (layers__DOT__9__DOT__self_attn__DOT__k_proj): LoraLayer(\n",
      "      (base_layer): Linear4bit(in_features=4096, out_features=1024, bias=False)\n",
      "      (lora_A): Linear(in_features=4096, out_features=8, bias=False)\n",
      "      (lora_B): Linear(in_features=8, out_features=1024, bias=False)\n",
      "    )\n",
      "    (layers__DOT__9__DOT__self_attn__DOT__v_proj): LoraLayer(\n",
      "      (base_layer): Linear4bit(in_features=4096, out_features=1024, bias=False)\n",
      "      (lora_A): Linear(in_features=4096, out_features=8, bias=False)\n",
      "      (lora_B): Linear(in_features=8, out_features=1024, bias=False)\n",
      "    )\n",
      "    (layers__DOT__9__DOT__self_attn__DOT__o_proj): LoraLayer(\n",
      "      (base_layer): Linear4bit(in_features=4096, out_features=4096, bias=False)\n",
      "      (lora_A): Linear(in_features=4096, out_features=8, bias=False)\n",
      "      (lora_B): Linear(in_features=8, out_features=4096, bias=False)\n",
      "    )\n",
      "    (layers__DOT__9__DOT__mlp__DOT__gate_proj): LoraLayer(\n",
      "      (base_layer): Linear4bit(in_features=4096, out_features=14336, bias=False)\n",
      "      (lora_A): Linear(in_features=4096, out_features=8, bias=False)\n",
      "      (lora_B): Linear(in_features=8, out_features=14336, bias=False)\n",
      "    )\n",
      "    (layers__DOT__9__DOT__mlp__DOT__up_proj): LoraLayer(\n",
      "      (base_layer): Linear4bit(in_features=4096, out_features=14336, bias=False)\n",
      "      (lora_A): Linear(in_features=4096, out_features=8, bias=False)\n",
      "      (lora_B): Linear(in_features=8, out_features=14336, bias=False)\n",
      "    )\n",
      "    (layers__DOT__9__DOT__mlp__DOT__down_proj): LoraLayer(\n",
      "      (base_layer): Linear4bit(in_features=14336, out_features=4096, bias=False)\n",
      "      (lora_A): Linear(in_features=14336, out_features=8, bias=False)\n",
      "      (lora_B): Linear(in_features=8, out_features=4096, bias=False)\n",
      "    )\n",
      "    (layers__DOT__10__DOT__self_attn__DOT__q_proj): LoraLayer(\n",
      "      (base_layer): Linear4bit(in_features=4096, out_features=4096, bias=False)\n",
      "      (lora_A): Linear(in_features=4096, out_features=8, bias=False)\n",
      "      (lora_B): Linear(in_features=8, out_features=4096, bias=False)\n",
      "    )\n",
      "    (layers__DOT__10__DOT__self_attn__DOT__k_proj): LoraLayer(\n",
      "      (base_layer): Linear4bit(in_features=4096, out_features=1024, bias=False)\n",
      "      (lora_A): Linear(in_features=4096, out_features=8, bias=False)\n",
      "      (lora_B): Linear(in_features=8, out_features=1024, bias=False)\n",
      "    )\n",
      "    (layers__DOT__10__DOT__self_attn__DOT__v_proj): LoraLayer(\n",
      "      (base_layer): Linear4bit(in_features=4096, out_features=1024, bias=False)\n",
      "      (lora_A): Linear(in_features=4096, out_features=8, bias=False)\n",
      "      (lora_B): Linear(in_features=8, out_features=1024, bias=False)\n",
      "    )\n",
      "    (layers__DOT__10__DOT__self_attn__DOT__o_proj): LoraLayer(\n",
      "      (base_layer): Linear4bit(in_features=4096, out_features=4096, bias=False)\n",
      "      (lora_A): Linear(in_features=4096, out_features=8, bias=False)\n",
      "      (lora_B): Linear(in_features=8, out_features=4096, bias=False)\n",
      "    )\n",
      "    (layers__DOT__10__DOT__mlp__DOT__gate_proj): LoraLayer(\n",
      "      (base_layer): Linear4bit(in_features=4096, out_features=14336, bias=False)\n",
      "      (lora_A): Linear(in_features=4096, out_features=8, bias=False)\n",
      "      (lora_B): Linear(in_features=8, out_features=14336, bias=False)\n",
      "    )\n",
      "    (layers__DOT__10__DOT__mlp__DOT__up_proj): LoraLayer(\n",
      "      (base_layer): Linear4bit(in_features=4096, out_features=14336, bias=False)\n",
      "      (lora_A): Linear(in_features=4096, out_features=8, bias=False)\n",
      "      (lora_B): Linear(in_features=8, out_features=14336, bias=False)\n",
      "    )\n",
      "    (layers__DOT__10__DOT__mlp__DOT__down_proj): LoraLayer(\n",
      "      (base_layer): Linear4bit(in_features=14336, out_features=4096, bias=False)\n",
      "      (lora_A): Linear(in_features=14336, out_features=8, bias=False)\n",
      "      (lora_B): Linear(in_features=8, out_features=4096, bias=False)\n",
      "    )\n",
      "    (layers__DOT__11__DOT__self_attn__DOT__q_proj): LoraLayer(\n",
      "      (base_layer): Linear4bit(in_features=4096, out_features=4096, bias=False)\n",
      "      (lora_A): Linear(in_features=4096, out_features=8, bias=False)\n",
      "      (lora_B): Linear(in_features=8, out_features=4096, bias=False)\n",
      "    )\n",
      "    (layers__DOT__11__DOT__self_attn__DOT__k_proj): LoraLayer(\n",
      "      (base_layer): Linear4bit(in_features=4096, out_features=1024, bias=False)\n",
      "      (lora_A): Linear(in_features=4096, out_features=8, bias=False)\n",
      "      (lora_B): Linear(in_features=8, out_features=1024, bias=False)\n",
      "    )\n",
      "    (layers__DOT__11__DOT__self_attn__DOT__v_proj): LoraLayer(\n",
      "      (base_layer): Linear4bit(in_features=4096, out_features=1024, bias=False)\n",
      "      (lora_A): Linear(in_features=4096, out_features=8, bias=False)\n",
      "      (lora_B): Linear(in_features=8, out_features=1024, bias=False)\n",
      "    )\n",
      "    (layers__DOT__11__DOT__self_attn__DOT__o_proj): LoraLayer(\n",
      "      (base_layer): Linear4bit(in_features=4096, out_features=4096, bias=False)\n",
      "      (lora_A): Linear(in_features=4096, out_features=8, bias=False)\n",
      "      (lora_B): Linear(in_features=8, out_features=4096, bias=False)\n",
      "    )\n",
      "    (layers__DOT__11__DOT__mlp__DOT__gate_proj): LoraLayer(\n",
      "      (base_layer): Linear4bit(in_features=4096, out_features=14336, bias=False)\n",
      "      (lora_A): Linear(in_features=4096, out_features=8, bias=False)\n",
      "      (lora_B): Linear(in_features=8, out_features=14336, bias=False)\n",
      "    )\n",
      "    (layers__DOT__11__DOT__mlp__DOT__up_proj): LoraLayer(\n",
      "      (base_layer): Linear4bit(in_features=4096, out_features=14336, bias=False)\n",
      "      (lora_A): Linear(in_features=4096, out_features=8, bias=False)\n",
      "      (lora_B): Linear(in_features=8, out_features=14336, bias=False)\n",
      "    )\n",
      "    (layers__DOT__11__DOT__mlp__DOT__down_proj): LoraLayer(\n",
      "      (base_layer): Linear4bit(in_features=14336, out_features=4096, bias=False)\n",
      "      (lora_A): Linear(in_features=14336, out_features=8, bias=False)\n",
      "      (lora_B): Linear(in_features=8, out_features=4096, bias=False)\n",
      "    )\n",
      "    (layers__DOT__12__DOT__self_attn__DOT__q_proj): LoraLayer(\n",
      "      (base_layer): Linear4bit(in_features=4096, out_features=4096, bias=False)\n",
      "      (lora_A): Linear(in_features=4096, out_features=8, bias=False)\n",
      "      (lora_B): Linear(in_features=8, out_features=4096, bias=False)\n",
      "    )\n",
      "    (layers__DOT__12__DOT__self_attn__DOT__k_proj): LoraLayer(\n",
      "      (base_layer): Linear4bit(in_features=4096, out_features=1024, bias=False)\n",
      "      (lora_A): Linear(in_features=4096, out_features=8, bias=False)\n",
      "      (lora_B): Linear(in_features=8, out_features=1024, bias=False)\n",
      "    )\n",
      "    (layers__DOT__12__DOT__self_attn__DOT__v_proj): LoraLayer(\n",
      "      (base_layer): Linear4bit(in_features=4096, out_features=1024, bias=False)\n",
      "      (lora_A): Linear(in_features=4096, out_features=8, bias=False)\n",
      "      (lora_B): Linear(in_features=8, out_features=1024, bias=False)\n",
      "    )\n",
      "    (layers__DOT__12__DOT__self_attn__DOT__o_proj): LoraLayer(\n",
      "      (base_layer): Linear4bit(in_features=4096, out_features=4096, bias=False)\n",
      "      (lora_A): Linear(in_features=4096, out_features=8, bias=False)\n",
      "      (lora_B): Linear(in_features=8, out_features=4096, bias=False)\n",
      "    )\n",
      "    (layers__DOT__12__DOT__mlp__DOT__gate_proj): LoraLayer(\n",
      "      (base_layer): Linear4bit(in_features=4096, out_features=14336, bias=False)\n",
      "      (lora_A): Linear(in_features=4096, out_features=8, bias=False)\n",
      "      (lora_B): Linear(in_features=8, out_features=14336, bias=False)\n",
      "    )\n",
      "    (layers__DOT__12__DOT__mlp__DOT__up_proj): LoraLayer(\n",
      "      (base_layer): Linear4bit(in_features=4096, out_features=14336, bias=False)\n",
      "      (lora_A): Linear(in_features=4096, out_features=8, bias=False)\n",
      "      (lora_B): Linear(in_features=8, out_features=14336, bias=False)\n",
      "    )\n",
      "    (layers__DOT__12__DOT__mlp__DOT__down_proj): LoraLayer(\n",
      "      (base_layer): Linear4bit(in_features=14336, out_features=4096, bias=False)\n",
      "      (lora_A): Linear(in_features=14336, out_features=8, bias=False)\n",
      "      (lora_B): Linear(in_features=8, out_features=4096, bias=False)\n",
      "    )\n",
      "    (layers__DOT__13__DOT__self_attn__DOT__q_proj): LoraLayer(\n",
      "      (base_layer): Linear4bit(in_features=4096, out_features=4096, bias=False)\n",
      "      (lora_A): Linear(in_features=4096, out_features=8, bias=False)\n",
      "      (lora_B): Linear(in_features=8, out_features=4096, bias=False)\n",
      "    )\n",
      "    (layers__DOT__13__DOT__self_attn__DOT__k_proj): LoraLayer(\n",
      "      (base_layer): Linear4bit(in_features=4096, out_features=1024, bias=False)\n",
      "      (lora_A): Linear(in_features=4096, out_features=8, bias=False)\n",
      "      (lora_B): Linear(in_features=8, out_features=1024, bias=False)\n",
      "    )\n",
      "    (layers__DOT__13__DOT__self_attn__DOT__v_proj): LoraLayer(\n",
      "      (base_layer): Linear4bit(in_features=4096, out_features=1024, bias=False)\n",
      "      (lora_A): Linear(in_features=4096, out_features=8, bias=False)\n",
      "      (lora_B): Linear(in_features=8, out_features=1024, bias=False)\n",
      "    )\n",
      "    (layers__DOT__13__DOT__self_attn__DOT__o_proj): LoraLayer(\n",
      "      (base_layer): Linear4bit(in_features=4096, out_features=4096, bias=False)\n",
      "      (lora_A): Linear(in_features=4096, out_features=8, bias=False)\n",
      "      (lora_B): Linear(in_features=8, out_features=4096, bias=False)\n",
      "    )\n",
      "    (layers__DOT__13__DOT__mlp__DOT__gate_proj): LoraLayer(\n",
      "      (base_layer): Linear4bit(in_features=4096, out_features=14336, bias=False)\n",
      "      (lora_A): Linear(in_features=4096, out_features=8, bias=False)\n",
      "      (lora_B): Linear(in_features=8, out_features=14336, bias=False)\n",
      "    )\n",
      "    (layers__DOT__13__DOT__mlp__DOT__up_proj): LoraLayer(\n",
      "      (base_layer): Linear4bit(in_features=4096, out_features=14336, bias=False)\n",
      "      (lora_A): Linear(in_features=4096, out_features=8, bias=False)\n",
      "      (lora_B): Linear(in_features=8, out_features=14336, bias=False)\n",
      "    )\n",
      "    (layers__DOT__13__DOT__mlp__DOT__down_proj): LoraLayer(\n",
      "      (base_layer): Linear4bit(in_features=14336, out_features=4096, bias=False)\n",
      "      (lora_A): Linear(in_features=14336, out_features=8, bias=False)\n",
      "      (lora_B): Linear(in_features=8, out_features=4096, bias=False)\n",
      "    )\n",
      "    (layers__DOT__14__DOT__self_attn__DOT__q_proj): LoraLayer(\n",
      "      (base_layer): Linear4bit(in_features=4096, out_features=4096, bias=False)\n",
      "      (lora_A): Linear(in_features=4096, out_features=8, bias=False)\n",
      "      (lora_B): Linear(in_features=8, out_features=4096, bias=False)\n",
      "    )\n",
      "    (layers__DOT__14__DOT__self_attn__DOT__k_proj): LoraLayer(\n",
      "      (base_layer): Linear4bit(in_features=4096, out_features=1024, bias=False)\n",
      "      (lora_A): Linear(in_features=4096, out_features=8, bias=False)\n",
      "      (lora_B): Linear(in_features=8, out_features=1024, bias=False)\n",
      "    )\n",
      "    (layers__DOT__14__DOT__self_attn__DOT__v_proj): LoraLayer(\n",
      "      (base_layer): Linear4bit(in_features=4096, out_features=1024, bias=False)\n",
      "      (lora_A): Linear(in_features=4096, out_features=8, bias=False)\n",
      "      (lora_B): Linear(in_features=8, out_features=1024, bias=False)\n",
      "    )\n",
      "    (layers__DOT__14__DOT__self_attn__DOT__o_proj): LoraLayer(\n",
      "      (base_layer): Linear4bit(in_features=4096, out_features=4096, bias=False)\n",
      "      (lora_A): Linear(in_features=4096, out_features=8, bias=False)\n",
      "      (lora_B): Linear(in_features=8, out_features=4096, bias=False)\n",
      "    )\n",
      "    (layers__DOT__14__DOT__mlp__DOT__gate_proj): LoraLayer(\n",
      "      (base_layer): Linear4bit(in_features=4096, out_features=14336, bias=False)\n",
      "      (lora_A): Linear(in_features=4096, out_features=8, bias=False)\n",
      "      (lora_B): Linear(in_features=8, out_features=14336, bias=False)\n",
      "    )\n",
      "    (layers__DOT__14__DOT__mlp__DOT__up_proj): LoraLayer(\n",
      "      (base_layer): Linear4bit(in_features=4096, out_features=14336, bias=False)\n",
      "      (lora_A): Linear(in_features=4096, out_features=8, bias=False)\n",
      "      (lora_B): Linear(in_features=8, out_features=14336, bias=False)\n",
      "    )\n",
      "    (layers__DOT__14__DOT__mlp__DOT__down_proj): LoraLayer(\n",
      "      (base_layer): Linear4bit(in_features=14336, out_features=4096, bias=False)\n",
      "      (lora_A): Linear(in_features=14336, out_features=8, bias=False)\n",
      "      (lora_B): Linear(in_features=8, out_features=4096, bias=False)\n",
      "    )\n",
      "    (layers__DOT__15__DOT__self_attn__DOT__q_proj): LoraLayer(\n",
      "      (base_layer): Linear4bit(in_features=4096, out_features=4096, bias=False)\n",
      "      (lora_A): Linear(in_features=4096, out_features=8, bias=False)\n",
      "      (lora_B): Linear(in_features=8, out_features=4096, bias=False)\n",
      "    )\n",
      "    (layers__DOT__15__DOT__self_attn__DOT__k_proj): LoraLayer(\n",
      "      (base_layer): Linear4bit(in_features=4096, out_features=1024, bias=False)\n",
      "      (lora_A): Linear(in_features=4096, out_features=8, bias=False)\n",
      "      (lora_B): Linear(in_features=8, out_features=1024, bias=False)\n",
      "    )\n",
      "    (layers__DOT__15__DOT__self_attn__DOT__v_proj): LoraLayer(\n",
      "      (base_layer): Linear4bit(in_features=4096, out_features=1024, bias=False)\n",
      "      (lora_A): Linear(in_features=4096, out_features=8, bias=False)\n",
      "      (lora_B): Linear(in_features=8, out_features=1024, bias=False)\n",
      "    )\n",
      "    (layers__DOT__15__DOT__self_attn__DOT__o_proj): LoraLayer(\n",
      "      (base_layer): Linear4bit(in_features=4096, out_features=4096, bias=False)\n",
      "      (lora_A): Linear(in_features=4096, out_features=8, bias=False)\n",
      "      (lora_B): Linear(in_features=8, out_features=4096, bias=False)\n",
      "    )\n",
      "    (layers__DOT__15__DOT__mlp__DOT__gate_proj): LoraLayer(\n",
      "      (base_layer): Linear4bit(in_features=4096, out_features=14336, bias=False)\n",
      "      (lora_A): Linear(in_features=4096, out_features=8, bias=False)\n",
      "      (lora_B): Linear(in_features=8, out_features=14336, bias=False)\n",
      "    )\n",
      "    (layers__DOT__15__DOT__mlp__DOT__up_proj): LoraLayer(\n",
      "      (base_layer): Linear4bit(in_features=4096, out_features=14336, bias=False)\n",
      "      (lora_A): Linear(in_features=4096, out_features=8, bias=False)\n",
      "      (lora_B): Linear(in_features=8, out_features=14336, bias=False)\n",
      "    )\n",
      "    (layers__DOT__15__DOT__mlp__DOT__down_proj): LoraLayer(\n",
      "      (base_layer): Linear4bit(in_features=14336, out_features=4096, bias=False)\n",
      "      (lora_A): Linear(in_features=14336, out_features=8, bias=False)\n",
      "      (lora_B): Linear(in_features=8, out_features=4096, bias=False)\n",
      "    )\n",
      "    (layers__DOT__16__DOT__self_attn__DOT__q_proj): LoraLayer(\n",
      "      (base_layer): Linear4bit(in_features=4096, out_features=4096, bias=False)\n",
      "      (lora_A): Linear(in_features=4096, out_features=8, bias=False)\n",
      "      (lora_B): Linear(in_features=8, out_features=4096, bias=False)\n",
      "    )\n",
      "    (layers__DOT__16__DOT__self_attn__DOT__k_proj): LoraLayer(\n",
      "      (base_layer): Linear4bit(in_features=4096, out_features=1024, bias=False)\n",
      "      (lora_A): Linear(in_features=4096, out_features=8, bias=False)\n",
      "      (lora_B): Linear(in_features=8, out_features=1024, bias=False)\n",
      "    )\n",
      "    (layers__DOT__16__DOT__self_attn__DOT__v_proj): LoraLayer(\n",
      "      (base_layer): Linear4bit(in_features=4096, out_features=1024, bias=False)\n",
      "      (lora_A): Linear(in_features=4096, out_features=8, bias=False)\n",
      "      (lora_B): Linear(in_features=8, out_features=1024, bias=False)\n",
      "    )\n",
      "    (layers__DOT__16__DOT__self_attn__DOT__o_proj): LoraLayer(\n",
      "      (base_layer): Linear4bit(in_features=4096, out_features=4096, bias=False)\n",
      "      (lora_A): Linear(in_features=4096, out_features=8, bias=False)\n",
      "      (lora_B): Linear(in_features=8, out_features=4096, bias=False)\n",
      "    )\n",
      "    (layers__DOT__16__DOT__mlp__DOT__gate_proj): LoraLayer(\n",
      "      (base_layer): Linear4bit(in_features=4096, out_features=14336, bias=False)\n",
      "      (lora_A): Linear(in_features=4096, out_features=8, bias=False)\n",
      "      (lora_B): Linear(in_features=8, out_features=14336, bias=False)\n",
      "    )\n",
      "    (layers__DOT__16__DOT__mlp__DOT__up_proj): LoraLayer(\n",
      "      (base_layer): Linear4bit(in_features=4096, out_features=14336, bias=False)\n",
      "      (lora_A): Linear(in_features=4096, out_features=8, bias=False)\n",
      "      (lora_B): Linear(in_features=8, out_features=14336, bias=False)\n",
      "    )\n",
      "    (layers__DOT__16__DOT__mlp__DOT__down_proj): LoraLayer(\n",
      "      (base_layer): Linear4bit(in_features=14336, out_features=4096, bias=False)\n",
      "      (lora_A): Linear(in_features=14336, out_features=8, bias=False)\n",
      "      (lora_B): Linear(in_features=8, out_features=4096, bias=False)\n",
      "    )\n",
      "    (layers__DOT__17__DOT__self_attn__DOT__q_proj): LoraLayer(\n",
      "      (base_layer): Linear4bit(in_features=4096, out_features=4096, bias=False)\n",
      "      (lora_A): Linear(in_features=4096, out_features=8, bias=False)\n",
      "      (lora_B): Linear(in_features=8, out_features=4096, bias=False)\n",
      "    )\n",
      "    (layers__DOT__17__DOT__self_attn__DOT__k_proj): LoraLayer(\n",
      "      (base_layer): Linear4bit(in_features=4096, out_features=1024, bias=False)\n",
      "      (lora_A): Linear(in_features=4096, out_features=8, bias=False)\n",
      "      (lora_B): Linear(in_features=8, out_features=1024, bias=False)\n",
      "    )\n",
      "    (layers__DOT__17__DOT__self_attn__DOT__v_proj): LoraLayer(\n",
      "      (base_layer): Linear4bit(in_features=4096, out_features=1024, bias=False)\n",
      "      (lora_A): Linear(in_features=4096, out_features=8, bias=False)\n",
      "      (lora_B): Linear(in_features=8, out_features=1024, bias=False)\n",
      "    )\n",
      "    (layers__DOT__17__DOT__self_attn__DOT__o_proj): LoraLayer(\n",
      "      (base_layer): Linear4bit(in_features=4096, out_features=4096, bias=False)\n",
      "      (lora_A): Linear(in_features=4096, out_features=8, bias=False)\n",
      "      (lora_B): Linear(in_features=8, out_features=4096, bias=False)\n",
      "    )\n",
      "    (layers__DOT__17__DOT__mlp__DOT__gate_proj): LoraLayer(\n",
      "      (base_layer): Linear4bit(in_features=4096, out_features=14336, bias=False)\n",
      "      (lora_A): Linear(in_features=4096, out_features=8, bias=False)\n",
      "      (lora_B): Linear(in_features=8, out_features=14336, bias=False)\n",
      "    )\n",
      "    (layers__DOT__17__DOT__mlp__DOT__up_proj): LoraLayer(\n",
      "      (base_layer): Linear4bit(in_features=4096, out_features=14336, bias=False)\n",
      "      (lora_A): Linear(in_features=4096, out_features=8, bias=False)\n",
      "      (lora_B): Linear(in_features=8, out_features=14336, bias=False)\n",
      "    )\n",
      "    (layers__DOT__17__DOT__mlp__DOT__down_proj): LoraLayer(\n",
      "      (base_layer): Linear4bit(in_features=14336, out_features=4096, bias=False)\n",
      "      (lora_A): Linear(in_features=14336, out_features=8, bias=False)\n",
      "      (lora_B): Linear(in_features=8, out_features=4096, bias=False)\n",
      "    )\n",
      "    (layers__DOT__18__DOT__self_attn__DOT__q_proj): LoraLayer(\n",
      "      (base_layer): Linear4bit(in_features=4096, out_features=4096, bias=False)\n",
      "      (lora_A): Linear(in_features=4096, out_features=8, bias=False)\n",
      "      (lora_B): Linear(in_features=8, out_features=4096, bias=False)\n",
      "    )\n",
      "    (layers__DOT__18__DOT__self_attn__DOT__k_proj): LoraLayer(\n",
      "      (base_layer): Linear4bit(in_features=4096, out_features=1024, bias=False)\n",
      "      (lora_A): Linear(in_features=4096, out_features=8, bias=False)\n",
      "      (lora_B): Linear(in_features=8, out_features=1024, bias=False)\n",
      "    )\n",
      "    (layers__DOT__18__DOT__self_attn__DOT__v_proj): LoraLayer(\n",
      "      (base_layer): Linear4bit(in_features=4096, out_features=1024, bias=False)\n",
      "      (lora_A): Linear(in_features=4096, out_features=8, bias=False)\n",
      "      (lora_B): Linear(in_features=8, out_features=1024, bias=False)\n",
      "    )\n",
      "    (layers__DOT__18__DOT__self_attn__DOT__o_proj): LoraLayer(\n",
      "      (base_layer): Linear4bit(in_features=4096, out_features=4096, bias=False)\n",
      "      (lora_A): Linear(in_features=4096, out_features=8, bias=False)\n",
      "      (lora_B): Linear(in_features=8, out_features=4096, bias=False)\n",
      "    )\n",
      "    (layers__DOT__18__DOT__mlp__DOT__gate_proj): LoraLayer(\n",
      "      (base_layer): Linear4bit(in_features=4096, out_features=14336, bias=False)\n",
      "      (lora_A): Linear(in_features=4096, out_features=8, bias=False)\n",
      "      (lora_B): Linear(in_features=8, out_features=14336, bias=False)\n",
      "    )\n",
      "    (layers__DOT__18__DOT__mlp__DOT__up_proj): LoraLayer(\n",
      "      (base_layer): Linear4bit(in_features=4096, out_features=14336, bias=False)\n",
      "      (lora_A): Linear(in_features=4096, out_features=8, bias=False)\n",
      "      (lora_B): Linear(in_features=8, out_features=14336, bias=False)\n",
      "    )\n",
      "    (layers__DOT__18__DOT__mlp__DOT__down_proj): LoraLayer(\n",
      "      (base_layer): Linear4bit(in_features=14336, out_features=4096, bias=False)\n",
      "      (lora_A): Linear(in_features=14336, out_features=8, bias=False)\n",
      "      (lora_B): Linear(in_features=8, out_features=4096, bias=False)\n",
      "    )\n",
      "    (layers__DOT__19__DOT__self_attn__DOT__q_proj): LoraLayer(\n",
      "      (base_layer): Linear4bit(in_features=4096, out_features=4096, bias=False)\n",
      "      (lora_A): Linear(in_features=4096, out_features=8, bias=False)\n",
      "      (lora_B): Linear(in_features=8, out_features=4096, bias=False)\n",
      "    )\n",
      "    (layers__DOT__19__DOT__self_attn__DOT__k_proj): LoraLayer(\n",
      "      (base_layer): Linear4bit(in_features=4096, out_features=1024, bias=False)\n",
      "      (lora_A): Linear(in_features=4096, out_features=8, bias=False)\n",
      "      (lora_B): Linear(in_features=8, out_features=1024, bias=False)\n",
      "    )\n",
      "    (layers__DOT__19__DOT__self_attn__DOT__v_proj): LoraLayer(\n",
      "      (base_layer): Linear4bit(in_features=4096, out_features=1024, bias=False)\n",
      "      (lora_A): Linear(in_features=4096, out_features=8, bias=False)\n",
      "      (lora_B): Linear(in_features=8, out_features=1024, bias=False)\n",
      "    )\n",
      "    (layers__DOT__19__DOT__self_attn__DOT__o_proj): LoraLayer(\n",
      "      (base_layer): Linear4bit(in_features=4096, out_features=4096, bias=False)\n",
      "      (lora_A): Linear(in_features=4096, out_features=8, bias=False)\n",
      "      (lora_B): Linear(in_features=8, out_features=4096, bias=False)\n",
      "    )\n",
      "    (layers__DOT__19__DOT__mlp__DOT__gate_proj): LoraLayer(\n",
      "      (base_layer): Linear4bit(in_features=4096, out_features=14336, bias=False)\n",
      "      (lora_A): Linear(in_features=4096, out_features=8, bias=False)\n",
      "      (lora_B): Linear(in_features=8, out_features=14336, bias=False)\n",
      "    )\n",
      "    (layers__DOT__19__DOT__mlp__DOT__up_proj): LoraLayer(\n",
      "      (base_layer): Linear4bit(in_features=4096, out_features=14336, bias=False)\n",
      "      (lora_A): Linear(in_features=4096, out_features=8, bias=False)\n",
      "      (lora_B): Linear(in_features=8, out_features=14336, bias=False)\n",
      "    )\n",
      "    (layers__DOT__19__DOT__mlp__DOT__down_proj): LoraLayer(\n",
      "      (base_layer): Linear4bit(in_features=14336, out_features=4096, bias=False)\n",
      "      (lora_A): Linear(in_features=14336, out_features=8, bias=False)\n",
      "      (lora_B): Linear(in_features=8, out_features=4096, bias=False)\n",
      "    )\n",
      "    (layers__DOT__20__DOT__self_attn__DOT__q_proj): LoraLayer(\n",
      "      (base_layer): Linear4bit(in_features=4096, out_features=4096, bias=False)\n",
      "      (lora_A): Linear(in_features=4096, out_features=8, bias=False)\n",
      "      (lora_B): Linear(in_features=8, out_features=4096, bias=False)\n",
      "    )\n",
      "    (layers__DOT__20__DOT__self_attn__DOT__k_proj): LoraLayer(\n",
      "      (base_layer): Linear4bit(in_features=4096, out_features=1024, bias=False)\n",
      "      (lora_A): Linear(in_features=4096, out_features=8, bias=False)\n",
      "      (lora_B): Linear(in_features=8, out_features=1024, bias=False)\n",
      "    )\n",
      "    (layers__DOT__20__DOT__self_attn__DOT__v_proj): LoraLayer(\n",
      "      (base_layer): Linear4bit(in_features=4096, out_features=1024, bias=False)\n",
      "      (lora_A): Linear(in_features=4096, out_features=8, bias=False)\n",
      "      (lora_B): Linear(in_features=8, out_features=1024, bias=False)\n",
      "    )\n",
      "    (layers__DOT__20__DOT__self_attn__DOT__o_proj): LoraLayer(\n",
      "      (base_layer): Linear4bit(in_features=4096, out_features=4096, bias=False)\n",
      "      (lora_A): Linear(in_features=4096, out_features=8, bias=False)\n",
      "      (lora_B): Linear(in_features=8, out_features=4096, bias=False)\n",
      "    )\n",
      "    (layers__DOT__20__DOT__mlp__DOT__gate_proj): LoraLayer(\n",
      "      (base_layer): Linear4bit(in_features=4096, out_features=14336, bias=False)\n",
      "      (lora_A): Linear(in_features=4096, out_features=8, bias=False)\n",
      "      (lora_B): Linear(in_features=8, out_features=14336, bias=False)\n",
      "    )\n",
      "    (layers__DOT__20__DOT__mlp__DOT__up_proj): LoraLayer(\n",
      "      (base_layer): Linear4bit(in_features=4096, out_features=14336, bias=False)\n",
      "      (lora_A): Linear(in_features=4096, out_features=8, bias=False)\n",
      "      (lora_B): Linear(in_features=8, out_features=14336, bias=False)\n",
      "    )\n",
      "    (layers__DOT__20__DOT__mlp__DOT__down_proj): LoraLayer(\n",
      "      (base_layer): Linear4bit(in_features=14336, out_features=4096, bias=False)\n",
      "      (lora_A): Linear(in_features=14336, out_features=8, bias=False)\n",
      "      (lora_B): Linear(in_features=8, out_features=4096, bias=False)\n",
      "    )\n",
      "    (layers__DOT__21__DOT__self_attn__DOT__q_proj): LoraLayer(\n",
      "      (base_layer): Linear4bit(in_features=4096, out_features=4096, bias=False)\n",
      "      (lora_A): Linear(in_features=4096, out_features=8, bias=False)\n",
      "      (lora_B): Linear(in_features=8, out_features=4096, bias=False)\n",
      "    )\n",
      "    (layers__DOT__21__DOT__self_attn__DOT__k_proj): LoraLayer(\n",
      "      (base_layer): Linear4bit(in_features=4096, out_features=1024, bias=False)\n",
      "      (lora_A): Linear(in_features=4096, out_features=8, bias=False)\n",
      "      (lora_B): Linear(in_features=8, out_features=1024, bias=False)\n",
      "    )\n",
      "    (layers__DOT__21__DOT__self_attn__DOT__v_proj): LoraLayer(\n",
      "      (base_layer): Linear4bit(in_features=4096, out_features=1024, bias=False)\n",
      "      (lora_A): Linear(in_features=4096, out_features=8, bias=False)\n",
      "      (lora_B): Linear(in_features=8, out_features=1024, bias=False)\n",
      "    )\n",
      "    (layers__DOT__21__DOT__self_attn__DOT__o_proj): LoraLayer(\n",
      "      (base_layer): Linear4bit(in_features=4096, out_features=4096, bias=False)\n",
      "      (lora_A): Linear(in_features=4096, out_features=8, bias=False)\n",
      "      (lora_B): Linear(in_features=8, out_features=4096, bias=False)\n",
      "    )\n",
      "    (layers__DOT__21__DOT__mlp__DOT__gate_proj): LoraLayer(\n",
      "      (base_layer): Linear4bit(in_features=4096, out_features=14336, bias=False)\n",
      "      (lora_A): Linear(in_features=4096, out_features=8, bias=False)\n",
      "      (lora_B): Linear(in_features=8, out_features=14336, bias=False)\n",
      "    )\n",
      "    (layers__DOT__21__DOT__mlp__DOT__up_proj): LoraLayer(\n",
      "      (base_layer): Linear4bit(in_features=4096, out_features=14336, bias=False)\n",
      "      (lora_A): Linear(in_features=4096, out_features=8, bias=False)\n",
      "      (lora_B): Linear(in_features=8, out_features=14336, bias=False)\n",
      "    )\n",
      "    (layers__DOT__21__DOT__mlp__DOT__down_proj): LoraLayer(\n",
      "      (base_layer): Linear4bit(in_features=14336, out_features=4096, bias=False)\n",
      "      (lora_A): Linear(in_features=14336, out_features=8, bias=False)\n",
      "      (lora_B): Linear(in_features=8, out_features=4096, bias=False)\n",
      "    )\n",
      "    (layers__DOT__22__DOT__self_attn__DOT__q_proj): LoraLayer(\n",
      "      (base_layer): Linear4bit(in_features=4096, out_features=4096, bias=False)\n",
      "      (lora_A): Linear(in_features=4096, out_features=8, bias=False)\n",
      "      (lora_B): Linear(in_features=8, out_features=4096, bias=False)\n",
      "    )\n",
      "    (layers__DOT__22__DOT__self_attn__DOT__k_proj): LoraLayer(\n",
      "      (base_layer): Linear4bit(in_features=4096, out_features=1024, bias=False)\n",
      "      (lora_A): Linear(in_features=4096, out_features=8, bias=False)\n",
      "      (lora_B): Linear(in_features=8, out_features=1024, bias=False)\n",
      "    )\n",
      "    (layers__DOT__22__DOT__self_attn__DOT__v_proj): LoraLayer(\n",
      "      (base_layer): Linear4bit(in_features=4096, out_features=1024, bias=False)\n",
      "      (lora_A): Linear(in_features=4096, out_features=8, bias=False)\n",
      "      (lora_B): Linear(in_features=8, out_features=1024, bias=False)\n",
      "    )\n",
      "    (layers__DOT__22__DOT__self_attn__DOT__o_proj): LoraLayer(\n",
      "      (base_layer): Linear4bit(in_features=4096, out_features=4096, bias=False)\n",
      "      (lora_A): Linear(in_features=4096, out_features=8, bias=False)\n",
      "      (lora_B): Linear(in_features=8, out_features=4096, bias=False)\n",
      "    )\n",
      "    (layers__DOT__22__DOT__mlp__DOT__gate_proj): LoraLayer(\n",
      "      (base_layer): Linear4bit(in_features=4096, out_features=14336, bias=False)\n",
      "      (lora_A): Linear(in_features=4096, out_features=8, bias=False)\n",
      "      (lora_B): Linear(in_features=8, out_features=14336, bias=False)\n",
      "    )\n",
      "    (layers__DOT__22__DOT__mlp__DOT__up_proj): LoraLayer(\n",
      "      (base_layer): Linear4bit(in_features=4096, out_features=14336, bias=False)\n",
      "      (lora_A): Linear(in_features=4096, out_features=8, bias=False)\n",
      "      (lora_B): Linear(in_features=8, out_features=14336, bias=False)\n",
      "    )\n",
      "    (layers__DOT__22__DOT__mlp__DOT__down_proj): LoraLayer(\n",
      "      (base_layer): Linear4bit(in_features=14336, out_features=4096, bias=False)\n",
      "      (lora_A): Linear(in_features=14336, out_features=8, bias=False)\n",
      "      (lora_B): Linear(in_features=8, out_features=4096, bias=False)\n",
      "    )\n",
      "    (layers__DOT__23__DOT__self_attn__DOT__q_proj): LoraLayer(\n",
      "      (base_layer): Linear4bit(in_features=4096, out_features=4096, bias=False)\n",
      "      (lora_A): Linear(in_features=4096, out_features=8, bias=False)\n",
      "      (lora_B): Linear(in_features=8, out_features=4096, bias=False)\n",
      "    )\n",
      "    (layers__DOT__23__DOT__self_attn__DOT__k_proj): LoraLayer(\n",
      "      (base_layer): Linear4bit(in_features=4096, out_features=1024, bias=False)\n",
      "      (lora_A): Linear(in_features=4096, out_features=8, bias=False)\n",
      "      (lora_B): Linear(in_features=8, out_features=1024, bias=False)\n",
      "    )\n",
      "    (layers__DOT__23__DOT__self_attn__DOT__v_proj): LoraLayer(\n",
      "      (base_layer): Linear4bit(in_features=4096, out_features=1024, bias=False)\n",
      "      (lora_A): Linear(in_features=4096, out_features=8, bias=False)\n",
      "      (lora_B): Linear(in_features=8, out_features=1024, bias=False)\n",
      "    )\n",
      "    (layers__DOT__23__DOT__self_attn__DOT__o_proj): LoraLayer(\n",
      "      (base_layer): Linear4bit(in_features=4096, out_features=4096, bias=False)\n",
      "      (lora_A): Linear(in_features=4096, out_features=8, bias=False)\n",
      "      (lora_B): Linear(in_features=8, out_features=4096, bias=False)\n",
      "    )\n",
      "    (layers__DOT__23__DOT__mlp__DOT__gate_proj): LoraLayer(\n",
      "      (base_layer): Linear4bit(in_features=4096, out_features=14336, bias=False)\n",
      "      (lora_A): Linear(in_features=4096, out_features=8, bias=False)\n",
      "      (lora_B): Linear(in_features=8, out_features=14336, bias=False)\n",
      "    )\n",
      "    (layers__DOT__23__DOT__mlp__DOT__up_proj): LoraLayer(\n",
      "      (base_layer): Linear4bit(in_features=4096, out_features=14336, bias=False)\n",
      "      (lora_A): Linear(in_features=4096, out_features=8, bias=False)\n",
      "      (lora_B): Linear(in_features=8, out_features=14336, bias=False)\n",
      "    )\n",
      "    (layers__DOT__23__DOT__mlp__DOT__down_proj): LoraLayer(\n",
      "      (base_layer): Linear4bit(in_features=14336, out_features=4096, bias=False)\n",
      "      (lora_A): Linear(in_features=14336, out_features=8, bias=False)\n",
      "      (lora_B): Linear(in_features=8, out_features=4096, bias=False)\n",
      "    )\n",
      "    (layers__DOT__24__DOT__self_attn__DOT__q_proj): LoraLayer(\n",
      "      (base_layer): Linear4bit(in_features=4096, out_features=4096, bias=False)\n",
      "      (lora_A): Linear(in_features=4096, out_features=8, bias=False)\n",
      "      (lora_B): Linear(in_features=8, out_features=4096, bias=False)\n",
      "    )\n",
      "    (layers__DOT__24__DOT__self_attn__DOT__k_proj): LoraLayer(\n",
      "      (base_layer): Linear4bit(in_features=4096, out_features=1024, bias=False)\n",
      "      (lora_A): Linear(in_features=4096, out_features=8, bias=False)\n",
      "      (lora_B): Linear(in_features=8, out_features=1024, bias=False)\n",
      "    )\n",
      "    (layers__DOT__24__DOT__self_attn__DOT__v_proj): LoraLayer(\n",
      "      (base_layer): Linear4bit(in_features=4096, out_features=1024, bias=False)\n",
      "      (lora_A): Linear(in_features=4096, out_features=8, bias=False)\n",
      "      (lora_B): Linear(in_features=8, out_features=1024, bias=False)\n",
      "    )\n",
      "    (layers__DOT__24__DOT__self_attn__DOT__o_proj): LoraLayer(\n",
      "      (base_layer): Linear4bit(in_features=4096, out_features=4096, bias=False)\n",
      "      (lora_A): Linear(in_features=4096, out_features=8, bias=False)\n",
      "      (lora_B): Linear(in_features=8, out_features=4096, bias=False)\n",
      "    )\n",
      "    (layers__DOT__24__DOT__mlp__DOT__gate_proj): LoraLayer(\n",
      "      (base_layer): Linear4bit(in_features=4096, out_features=14336, bias=False)\n",
      "      (lora_A): Linear(in_features=4096, out_features=8, bias=False)\n",
      "      (lora_B): Linear(in_features=8, out_features=14336, bias=False)\n",
      "    )\n",
      "    (layers__DOT__24__DOT__mlp__DOT__up_proj): LoraLayer(\n",
      "      (base_layer): Linear4bit(in_features=4096, out_features=14336, bias=False)\n",
      "      (lora_A): Linear(in_features=4096, out_features=8, bias=False)\n",
      "      (lora_B): Linear(in_features=8, out_features=14336, bias=False)\n",
      "    )\n",
      "    (layers__DOT__24__DOT__mlp__DOT__down_proj): LoraLayer(\n",
      "      (base_layer): Linear4bit(in_features=14336, out_features=4096, bias=False)\n",
      "      (lora_A): Linear(in_features=14336, out_features=8, bias=False)\n",
      "      (lora_B): Linear(in_features=8, out_features=4096, bias=False)\n",
      "    )\n",
      "    (layers__DOT__25__DOT__self_attn__DOT__q_proj): LoraLayer(\n",
      "      (base_layer): Linear4bit(in_features=4096, out_features=4096, bias=False)\n",
      "      (lora_A): Linear(in_features=4096, out_features=8, bias=False)\n",
      "      (lora_B): Linear(in_features=8, out_features=4096, bias=False)\n",
      "    )\n",
      "    (layers__DOT__25__DOT__self_attn__DOT__k_proj): LoraLayer(\n",
      "      (base_layer): Linear4bit(in_features=4096, out_features=1024, bias=False)\n",
      "      (lora_A): Linear(in_features=4096, out_features=8, bias=False)\n",
      "      (lora_B): Linear(in_features=8, out_features=1024, bias=False)\n",
      "    )\n",
      "    (layers__DOT__25__DOT__self_attn__DOT__v_proj): LoraLayer(\n",
      "      (base_layer): Linear4bit(in_features=4096, out_features=1024, bias=False)\n",
      "      (lora_A): Linear(in_features=4096, out_features=8, bias=False)\n",
      "      (lora_B): Linear(in_features=8, out_features=1024, bias=False)\n",
      "    )\n",
      "    (layers__DOT__25__DOT__self_attn__DOT__o_proj): LoraLayer(\n",
      "      (base_layer): Linear4bit(in_features=4096, out_features=4096, bias=False)\n",
      "      (lora_A): Linear(in_features=4096, out_features=8, bias=False)\n",
      "      (lora_B): Linear(in_features=8, out_features=4096, bias=False)\n",
      "    )\n",
      "    (layers__DOT__25__DOT__mlp__DOT__gate_proj): LoraLayer(\n",
      "      (base_layer): Linear4bit(in_features=4096, out_features=14336, bias=False)\n",
      "      (lora_A): Linear(in_features=4096, out_features=8, bias=False)\n",
      "      (lora_B): Linear(in_features=8, out_features=14336, bias=False)\n",
      "    )\n",
      "    (layers__DOT__25__DOT__mlp__DOT__up_proj): LoraLayer(\n",
      "      (base_layer): Linear4bit(in_features=4096, out_features=14336, bias=False)\n",
      "      (lora_A): Linear(in_features=4096, out_features=8, bias=False)\n",
      "      (lora_B): Linear(in_features=8, out_features=14336, bias=False)\n",
      "    )\n",
      "    (layers__DOT__25__DOT__mlp__DOT__down_proj): LoraLayer(\n",
      "      (base_layer): Linear4bit(in_features=14336, out_features=4096, bias=False)\n",
      "      (lora_A): Linear(in_features=14336, out_features=8, bias=False)\n",
      "      (lora_B): Linear(in_features=8, out_features=4096, bias=False)\n",
      "    )\n",
      "    (layers__DOT__26__DOT__self_attn__DOT__q_proj): LoraLayer(\n",
      "      (base_layer): Linear4bit(in_features=4096, out_features=4096, bias=False)\n",
      "      (lora_A): Linear(in_features=4096, out_features=8, bias=False)\n",
      "      (lora_B): Linear(in_features=8, out_features=4096, bias=False)\n",
      "    )\n",
      "    (layers__DOT__26__DOT__self_attn__DOT__k_proj): LoraLayer(\n",
      "      (base_layer): Linear4bit(in_features=4096, out_features=1024, bias=False)\n",
      "      (lora_A): Linear(in_features=4096, out_features=8, bias=False)\n",
      "      (lora_B): Linear(in_features=8, out_features=1024, bias=False)\n",
      "    )\n",
      "    (layers__DOT__26__DOT__self_attn__DOT__v_proj): LoraLayer(\n",
      "      (base_layer): Linear4bit(in_features=4096, out_features=1024, bias=False)\n",
      "      (lora_A): Linear(in_features=4096, out_features=8, bias=False)\n",
      "      (lora_B): Linear(in_features=8, out_features=1024, bias=False)\n",
      "    )\n",
      "    (layers__DOT__26__DOT__self_attn__DOT__o_proj): LoraLayer(\n",
      "      (base_layer): Linear4bit(in_features=4096, out_features=4096, bias=False)\n",
      "      (lora_A): Linear(in_features=4096, out_features=8, bias=False)\n",
      "      (lora_B): Linear(in_features=8, out_features=4096, bias=False)\n",
      "    )\n",
      "    (layers__DOT__26__DOT__mlp__DOT__gate_proj): LoraLayer(\n",
      "      (base_layer): Linear4bit(in_features=4096, out_features=14336, bias=False)\n",
      "      (lora_A): Linear(in_features=4096, out_features=8, bias=False)\n",
      "      (lora_B): Linear(in_features=8, out_features=14336, bias=False)\n",
      "    )\n",
      "    (layers__DOT__26__DOT__mlp__DOT__up_proj): LoraLayer(\n",
      "      (base_layer): Linear4bit(in_features=4096, out_features=14336, bias=False)\n",
      "      (lora_A): Linear(in_features=4096, out_features=8, bias=False)\n",
      "      (lora_B): Linear(in_features=8, out_features=14336, bias=False)\n",
      "    )\n",
      "    (layers__DOT__26__DOT__mlp__DOT__down_proj): LoraLayer(\n",
      "      (base_layer): Linear4bit(in_features=14336, out_features=4096, bias=False)\n",
      "      (lora_A): Linear(in_features=14336, out_features=8, bias=False)\n",
      "      (lora_B): Linear(in_features=8, out_features=4096, bias=False)\n",
      "    )\n",
      "    (layers__DOT__27__DOT__self_attn__DOT__q_proj): LoraLayer(\n",
      "      (base_layer): Linear4bit(in_features=4096, out_features=4096, bias=False)\n",
      "      (lora_A): Linear(in_features=4096, out_features=8, bias=False)\n",
      "      (lora_B): Linear(in_features=8, out_features=4096, bias=False)\n",
      "    )\n",
      "    (layers__DOT__27__DOT__self_attn__DOT__k_proj): LoraLayer(\n",
      "      (base_layer): Linear4bit(in_features=4096, out_features=1024, bias=False)\n",
      "      (lora_A): Linear(in_features=4096, out_features=8, bias=False)\n",
      "      (lora_B): Linear(in_features=8, out_features=1024, bias=False)\n",
      "    )\n",
      "    (layers__DOT__27__DOT__self_attn__DOT__v_proj): LoraLayer(\n",
      "      (base_layer): Linear4bit(in_features=4096, out_features=1024, bias=False)\n",
      "      (lora_A): Linear(in_features=4096, out_features=8, bias=False)\n",
      "      (lora_B): Linear(in_features=8, out_features=1024, bias=False)\n",
      "    )\n",
      "    (layers__DOT__27__DOT__self_attn__DOT__o_proj): LoraLayer(\n",
      "      (base_layer): Linear4bit(in_features=4096, out_features=4096, bias=False)\n",
      "      (lora_A): Linear(in_features=4096, out_features=8, bias=False)\n",
      "      (lora_B): Linear(in_features=8, out_features=4096, bias=False)\n",
      "    )\n",
      "    (layers__DOT__27__DOT__mlp__DOT__gate_proj): LoraLayer(\n",
      "      (base_layer): Linear4bit(in_features=4096, out_features=14336, bias=False)\n",
      "      (lora_A): Linear(in_features=4096, out_features=8, bias=False)\n",
      "      (lora_B): Linear(in_features=8, out_features=14336, bias=False)\n",
      "    )\n",
      "    (layers__DOT__27__DOT__mlp__DOT__up_proj): LoraLayer(\n",
      "      (base_layer): Linear4bit(in_features=4096, out_features=14336, bias=False)\n",
      "      (lora_A): Linear(in_features=4096, out_features=8, bias=False)\n",
      "      (lora_B): Linear(in_features=8, out_features=14336, bias=False)\n",
      "    )\n",
      "    (layers__DOT__27__DOT__mlp__DOT__down_proj): LoraLayer(\n",
      "      (base_layer): Linear4bit(in_features=14336, out_features=4096, bias=False)\n",
      "      (lora_A): Linear(in_features=14336, out_features=8, bias=False)\n",
      "      (lora_B): Linear(in_features=8, out_features=4096, bias=False)\n",
      "    )\n",
      "    (layers__DOT__28__DOT__self_attn__DOT__q_proj): LoraLayer(\n",
      "      (base_layer): Linear4bit(in_features=4096, out_features=4096, bias=False)\n",
      "      (lora_A): Linear(in_features=4096, out_features=8, bias=False)\n",
      "      (lora_B): Linear(in_features=8, out_features=4096, bias=False)\n",
      "    )\n",
      "    (layers__DOT__28__DOT__self_attn__DOT__k_proj): LoraLayer(\n",
      "      (base_layer): Linear4bit(in_features=4096, out_features=1024, bias=False)\n",
      "      (lora_A): Linear(in_features=4096, out_features=8, bias=False)\n",
      "      (lora_B): Linear(in_features=8, out_features=1024, bias=False)\n",
      "    )\n",
      "    (layers__DOT__28__DOT__self_attn__DOT__v_proj): LoraLayer(\n",
      "      (base_layer): Linear4bit(in_features=4096, out_features=1024, bias=False)\n",
      "      (lora_A): Linear(in_features=4096, out_features=8, bias=False)\n",
      "      (lora_B): Linear(in_features=8, out_features=1024, bias=False)\n",
      "    )\n",
      "    (layers__DOT__28__DOT__self_attn__DOT__o_proj): LoraLayer(\n",
      "      (base_layer): Linear4bit(in_features=4096, out_features=4096, bias=False)\n",
      "      (lora_A): Linear(in_features=4096, out_features=8, bias=False)\n",
      "      (lora_B): Linear(in_features=8, out_features=4096, bias=False)\n",
      "    )\n",
      "    (layers__DOT__28__DOT__mlp__DOT__gate_proj): LoraLayer(\n",
      "      (base_layer): Linear4bit(in_features=4096, out_features=14336, bias=False)\n",
      "      (lora_A): Linear(in_features=4096, out_features=8, bias=False)\n",
      "      (lora_B): Linear(in_features=8, out_features=14336, bias=False)\n",
      "    )\n",
      "    (layers__DOT__28__DOT__mlp__DOT__up_proj): LoraLayer(\n",
      "      (base_layer): Linear4bit(in_features=4096, out_features=14336, bias=False)\n",
      "      (lora_A): Linear(in_features=4096, out_features=8, bias=False)\n",
      "      (lora_B): Linear(in_features=8, out_features=14336, bias=False)\n",
      "    )\n",
      "    (layers__DOT__28__DOT__mlp__DOT__down_proj): LoraLayer(\n",
      "      (base_layer): Linear4bit(in_features=14336, out_features=4096, bias=False)\n",
      "      (lora_A): Linear(in_features=14336, out_features=8, bias=False)\n",
      "      (lora_B): Linear(in_features=8, out_features=4096, bias=False)\n",
      "    )\n",
      "    (layers__DOT__29__DOT__self_attn__DOT__q_proj): LoraLayer(\n",
      "      (base_layer): Linear4bit(in_features=4096, out_features=4096, bias=False)\n",
      "      (lora_A): Linear(in_features=4096, out_features=8, bias=False)\n",
      "      (lora_B): Linear(in_features=8, out_features=4096, bias=False)\n",
      "    )\n",
      "    (layers__DOT__29__DOT__self_attn__DOT__k_proj): LoraLayer(\n",
      "      (base_layer): Linear4bit(in_features=4096, out_features=1024, bias=False)\n",
      "      (lora_A): Linear(in_features=4096, out_features=8, bias=False)\n",
      "      (lora_B): Linear(in_features=8, out_features=1024, bias=False)\n",
      "    )\n",
      "    (layers__DOT__29__DOT__self_attn__DOT__v_proj): LoraLayer(\n",
      "      (base_layer): Linear4bit(in_features=4096, out_features=1024, bias=False)\n",
      "      (lora_A): Linear(in_features=4096, out_features=8, bias=False)\n",
      "      (lora_B): Linear(in_features=8, out_features=1024, bias=False)\n",
      "    )\n",
      "    (layers__DOT__29__DOT__self_attn__DOT__o_proj): LoraLayer(\n",
      "      (base_layer): Linear4bit(in_features=4096, out_features=4096, bias=False)\n",
      "      (lora_A): Linear(in_features=4096, out_features=8, bias=False)\n",
      "      (lora_B): Linear(in_features=8, out_features=4096, bias=False)\n",
      "    )\n",
      "    (layers__DOT__29__DOT__mlp__DOT__gate_proj): LoraLayer(\n",
      "      (base_layer): Linear4bit(in_features=4096, out_features=14336, bias=False)\n",
      "      (lora_A): Linear(in_features=4096, out_features=8, bias=False)\n",
      "      (lora_B): Linear(in_features=8, out_features=14336, bias=False)\n",
      "    )\n",
      "    (layers__DOT__29__DOT__mlp__DOT__up_proj): LoraLayer(\n",
      "      (base_layer): Linear4bit(in_features=4096, out_features=14336, bias=False)\n",
      "      (lora_A): Linear(in_features=4096, out_features=8, bias=False)\n",
      "      (lora_B): Linear(in_features=8, out_features=14336, bias=False)\n",
      "    )\n",
      "    (layers__DOT__29__DOT__mlp__DOT__down_proj): LoraLayer(\n",
      "      (base_layer): Linear4bit(in_features=14336, out_features=4096, bias=False)\n",
      "      (lora_A): Linear(in_features=14336, out_features=8, bias=False)\n",
      "      (lora_B): Linear(in_features=8, out_features=4096, bias=False)\n",
      "    )\n",
      "    (layers__DOT__30__DOT__self_attn__DOT__q_proj): LoraLayer(\n",
      "      (base_layer): Linear4bit(in_features=4096, out_features=4096, bias=False)\n",
      "      (lora_A): Linear(in_features=4096, out_features=8, bias=False)\n",
      "      (lora_B): Linear(in_features=8, out_features=4096, bias=False)\n",
      "    )\n",
      "    (layers__DOT__30__DOT__self_attn__DOT__k_proj): LoraLayer(\n",
      "      (base_layer): Linear4bit(in_features=4096, out_features=1024, bias=False)\n",
      "      (lora_A): Linear(in_features=4096, out_features=8, bias=False)\n",
      "      (lora_B): Linear(in_features=8, out_features=1024, bias=False)\n",
      "    )\n",
      "    (layers__DOT__30__DOT__self_attn__DOT__v_proj): LoraLayer(\n",
      "      (base_layer): Linear4bit(in_features=4096, out_features=1024, bias=False)\n",
      "      (lora_A): Linear(in_features=4096, out_features=8, bias=False)\n",
      "      (lora_B): Linear(in_features=8, out_features=1024, bias=False)\n",
      "    )\n",
      "    (layers__DOT__30__DOT__self_attn__DOT__o_proj): LoraLayer(\n",
      "      (base_layer): Linear4bit(in_features=4096, out_features=4096, bias=False)\n",
      "      (lora_A): Linear(in_features=4096, out_features=8, bias=False)\n",
      "      (lora_B): Linear(in_features=8, out_features=4096, bias=False)\n",
      "    )\n",
      "    (layers__DOT__30__DOT__mlp__DOT__gate_proj): LoraLayer(\n",
      "      (base_layer): Linear4bit(in_features=4096, out_features=14336, bias=False)\n",
      "      (lora_A): Linear(in_features=4096, out_features=8, bias=False)\n",
      "      (lora_B): Linear(in_features=8, out_features=14336, bias=False)\n",
      "    )\n",
      "    (layers__DOT__30__DOT__mlp__DOT__up_proj): LoraLayer(\n",
      "      (base_layer): Linear4bit(in_features=4096, out_features=14336, bias=False)\n",
      "      (lora_A): Linear(in_features=4096, out_features=8, bias=False)\n",
      "      (lora_B): Linear(in_features=8, out_features=14336, bias=False)\n",
      "    )\n",
      "    (layers__DOT__30__DOT__mlp__DOT__down_proj): LoraLayer(\n",
      "      (base_layer): Linear4bit(in_features=14336, out_features=4096, bias=False)\n",
      "      (lora_A): Linear(in_features=14336, out_features=8, bias=False)\n",
      "      (lora_B): Linear(in_features=8, out_features=4096, bias=False)\n",
      "    )\n",
      "    (layers__DOT__31__DOT__self_attn__DOT__q_proj): LoraLayer(\n",
      "      (base_layer): Linear4bit(in_features=4096, out_features=4096, bias=False)\n",
      "      (lora_A): Linear(in_features=4096, out_features=8, bias=False)\n",
      "      (lora_B): Linear(in_features=8, out_features=4096, bias=False)\n",
      "    )\n",
      "    (layers__DOT__31__DOT__self_attn__DOT__k_proj): LoraLayer(\n",
      "      (base_layer): Linear4bit(in_features=4096, out_features=1024, bias=False)\n",
      "      (lora_A): Linear(in_features=4096, out_features=8, bias=False)\n",
      "      (lora_B): Linear(in_features=8, out_features=1024, bias=False)\n",
      "    )\n",
      "    (layers__DOT__31__DOT__self_attn__DOT__v_proj): LoraLayer(\n",
      "      (base_layer): Linear4bit(in_features=4096, out_features=1024, bias=False)\n",
      "      (lora_A): Linear(in_features=4096, out_features=8, bias=False)\n",
      "      (lora_B): Linear(in_features=8, out_features=1024, bias=False)\n",
      "    )\n",
      "    (layers__DOT__31__DOT__self_attn__DOT__o_proj): LoraLayer(\n",
      "      (base_layer): Linear4bit(in_features=4096, out_features=4096, bias=False)\n",
      "      (lora_A): Linear(in_features=4096, out_features=8, bias=False)\n",
      "      (lora_B): Linear(in_features=8, out_features=4096, bias=False)\n",
      "    )\n",
      "    (layers__DOT__31__DOT__mlp__DOT__gate_proj): LoraLayer(\n",
      "      (base_layer): Linear4bit(in_features=4096, out_features=14336, bias=False)\n",
      "      (lora_A): Linear(in_features=4096, out_features=8, bias=False)\n",
      "      (lora_B): Linear(in_features=8, out_features=14336, bias=False)\n",
      "    )\n",
      "    (layers__DOT__31__DOT__mlp__DOT__up_proj): LoraLayer(\n",
      "      (base_layer): Linear4bit(in_features=4096, out_features=14336, bias=False)\n",
      "      (lora_A): Linear(in_features=4096, out_features=8, bias=False)\n",
      "      (lora_B): Linear(in_features=8, out_features=14336, bias=False)\n",
      "    )\n",
      "    (layers__DOT__31__DOT__mlp__DOT__down_proj): LoraLayer(\n",
      "      (base_layer): Linear4bit(in_features=14336, out_features=4096, bias=False)\n",
      "      (lora_A): Linear(in_features=14336, out_features=8, bias=False)\n",
      "      (lora_B): Linear(in_features=8, out_features=4096, bias=False)\n",
      "    )\n",
      "  )\n",
      ")\n"
     ]
    }
   ],
   "source": [
    "class LoraLayer(nn.Module):\n",
    "    def __init__(self, base_layer, rank, alpha, lora_bias):\n",
    "        super().__init__()\n",
    "        self.base_layer = base_layer\n",
    "        self.alpha = alpha\n",
    "        self.lora_bias = lora_bias\n",
    "        self.device = base_layer.weight.device\n",
    "\n",
    "        # Extract input and output features from the base layer\n",
    "        in_features = getattr(base_layer, 'in_features', None)\n",
    "        out_features = getattr(base_layer, 'out_features', None)\n",
    "\n",
    "        if in_features is None or out_features is None:\n",
    "            raise ValueError(f\"Cannot determine in_features or out_features from {base_layer}\")\n",
    "        \n",
    "        # LoRA decomposition: A (down-projection) and B (up-projection)\n",
    "        self.lora_A = nn.Linear(in_features, rank, bias=lora_bias).to(self.device)  # Projects down\n",
    "        self.lora_B = nn.Linear(rank, out_features, bias=lora_bias).to(self.device) # Projects up\n",
    "\n",
    "        # Initialize LoRA matrices: A ~ N(0, 1/rank), B initialized to 0\n",
    "        std = 1 / torch.sqrt(torch.tensor(rank).float())\n",
    "        nn.init.normal_(self.lora_A.weight, mean=0.0, std=std)\n",
    "        nn.init.zeros_(self.lora_B.weight)\n",
    "        \n",
    "    def forward(self, x):\n",
    "        # Forward through base layer\n",
    "        base_out = self.base_layer(x)\n",
    "\n",
    "        # LoRA transformation\n",
    "        # TODO: Check if autocast is enabled first\n",
    "        x = x.to(self.lora_A.weight.dtype)\n",
    "        lora_A_out = self.lora_A(x)\n",
    "        lora_B_out = self.lora_B(lora_A_out)\n",
    "        lora_out = self.alpha * lora_B_out\n",
    "        lora_out = lora_out.to(base_out.dtype)\n",
    "\n",
    "        return base_out + lora_out\n",
    "\n",
    "    def load_lora_weights(self, state_dict, prefix):\n",
    "        self.lora_A.weight.data = state_dict[f'{prefix}.lora_A.weight'].to(self.device)\n",
    "        self.lora_B.weight.data = state_dict[f'{prefix}.lora_B.weight'].to(self.device)\n",
    "        if self.lora_bias:\n",
    "            self.lora_A.bias.data = state_dict[f'{prefix}.lora_A.bias'].to(self.device)\n",
    "            self.lora_B.bias.data = state_dict[f'{prefix}.lora_B.bias'].to(self.device)\n",
    "    \n",
    "class LoraModel(nn.Module):\n",
    "    def __init__(self, base_model: nn.Module, lora_config: LoraConfig):\n",
    "        super().__init__()\n",
    "        self.base_model = base_model\n",
    "        self.lora_layers = nn.ModuleDict()\n",
    "\n",
    "        # Wrap target layers with NeroLayer\n",
    "        self._wrap_target_layers(lora_config)\n",
    "        \n",
    "        # Freeze all parameters except Nero-specific weights\n",
    "        self.freeze_except_nero()\n",
    "    \n",
    "    def _wrap_target_layers(self, lora_config):\n",
    "        for module_name, module in self.base_model.named_modules():\n",
    "            if isinstance(module, LoraLayer):\n",
    "                # Convert module name format and store reference\n",
    "                module_name = module_name.rsplit('model.', 1)[-1]\n",
    "                module_name = module_name.replace('.', '__DOT__')\n",
    "                self.lora_layers[module_name] = module\n",
    "                continue\n",
    "\n",
    "            if any(module_name.endswith(target_module) for target_module in lora_config.target_modules) and isinstance(module, nn.Linear):    \n",
    "                parent_module, child_name = self._get_parent_module(module_name)\n",
    "                lora_layer = LoraLayer(module, lora_config.r, lora_config.lora_alpha, lora_config.lora_bias)\n",
    "                setattr(parent_module, child_name, lora_layer)\n",
    "\n",
    "                # Store LoRA layers for weight loading\n",
    "                module_name = module_name.rsplit('model.', 1)[-1]\n",
    "                module_name = module_name.replace('.', '__DOT__')\n",
    "                self.lora_layers[module_name] = lora_layer\n",
    "    \n",
    "    def _get_parent_module(self, module_name):\n",
    "        parts = module_name.split('.')\n",
    "        parent_module = self.base_model\n",
    "        for part in parts[:-1]:\n",
    "            parent_module = getattr(parent_module, part)\n",
    "        return parent_module, parts[-1]\n",
    "\n",
    "    def freeze_except_nero(self):\n",
    "        for param in self.base_model.parameters():\n",
    "            param.requires_grad = False\n",
    "        \n",
    "        for lora_layer in self.lora_layers.values():\n",
    "            for param_name, param in lora_layer.named_parameters():\n",
    "                if 'lora_A' in param_name or 'lora_B' in param_name:\n",
    "                    param.requires_grad = True\n",
    "                else:\n",
    "                    param.requires_grad = False\n",
    "    \n",
    "    def unfreeze_all(self):\n",
    "        for param in self.base_model.parameters():\n",
    "            param.requires_grad = True\n",
    "        \n",
    "        for lora_layer in self.lora_layers.values():\n",
    "            for param in lora_layer.parameters():\n",
    "                param.requires_grad = True\n",
    "    \n",
    "    def load_lora_weights(self, lora_path):\n",
    "        state_dict = load_file(lora_path)\n",
    "        prefix = list(state_dict.keys())[0].rsplit('model.', 1)[0] + 'model.'\n",
    "        for lora_layer_name, lora_layer in self.lora_layers.items():\n",
    "            lora_layer_name = lora_layer_name.replace('__DOT__', '.')\n",
    "            lora_layer_name = prefix + lora_layer_name\n",
    "            if f'{lora_layer_name}.lora_A.weight' in state_dict and f'{lora_layer_name}.lora_B.weight' in state_dict:\n",
    "                lora_layer.load_lora_weights(state_dict, lora_layer_name)\n",
    "            else:\n",
    "                # TODO: Print a warning message\n",
    "                pass\n",
    "        print(\"LoRA weights loaded successfully!\")\n",
    "    \n",
    "    def forward(self, input_ids, attention_mask=None):\n",
    "        # Run forward pass\n",
    "        out = self.base_model(input_ids, attention_mask=attention_mask)\n",
    "        return out\n",
    "    \n",
    "    def __getattr__(self, name):\n",
    "        try:\n",
    "            return super().__getattr__(name) # Try getting attribute from self\n",
    "        except AttributeError:\n",
    "            return getattr(self.base_model, name) # Fallback to base_model\n",
    "\n",
    "lora_model = LoraModel(base_model, lora_config)\n",
    "print(lora_model)"
   ]
  },
  {
   "cell_type": "code",
   "execution_count": 39,
   "metadata": {},
   "outputs": [
    {
     "name": "stdout",
     "output_type": "stream",
     "text": [
      "NeroModel(\n",
      "  (base_model): LlamaForCausalLM(\n",
      "    (model): LlamaModel(\n",
      "      (embed_tokens): Embedding(128256, 4096, padding_idx=128004)\n",
      "      (layers): ModuleList(\n",
      "        (0): LlamaDecoderLayer(\n",
      "          (self_attn): LlamaAttention(\n",
      "            (q_proj): LoraLayer(\n",
      "              (base_layer): Linear4bit(in_features=4096, out_features=4096, bias=False)\n",
      "              (lora_A): Linear(in_features=4096, out_features=8, bias=False)\n",
      "              (lora_B): Linear(in_features=8, out_features=4096, bias=False)\n",
      "            )\n",
      "            (k_proj): LoraLayer(\n",
      "              (base_layer): Linear4bit(in_features=4096, out_features=1024, bias=False)\n",
      "              (lora_A): Linear(in_features=4096, out_features=8, bias=False)\n",
      "              (lora_B): Linear(in_features=8, out_features=1024, bias=False)\n",
      "            )\n",
      "            (v_proj): LoraLayer(\n",
      "              (base_layer): Linear4bit(in_features=4096, out_features=1024, bias=False)\n",
      "              (lora_A): Linear(in_features=4096, out_features=8, bias=False)\n",
      "              (lora_B): Linear(in_features=8, out_features=1024, bias=False)\n",
      "            )\n",
      "            (o_proj): LoraLayer(\n",
      "              (base_layer): Linear4bit(in_features=4096, out_features=4096, bias=False)\n",
      "              (lora_A): Linear(in_features=4096, out_features=8, bias=False)\n",
      "              (lora_B): Linear(in_features=8, out_features=4096, bias=False)\n",
      "            )\n",
      "            (rotary_emb): LlamaRotaryEmbedding()\n",
      "          )\n",
      "          (mlp): LlamaMLP(\n",
      "            (gate_proj): LoraLayer(\n",
      "              (base_layer): Linear4bit(in_features=4096, out_features=14336, bias=False)\n",
      "              (lora_A): Linear(in_features=4096, out_features=8, bias=False)\n",
      "              (lora_B): Linear(in_features=8, out_features=14336, bias=False)\n",
      "            )\n",
      "            (up_proj): LoraLayer(\n",
      "              (base_layer): Linear4bit(in_features=4096, out_features=14336, bias=False)\n",
      "              (lora_A): Linear(in_features=4096, out_features=8, bias=False)\n",
      "              (lora_B): Linear(in_features=8, out_features=14336, bias=False)\n",
      "            )\n",
      "            (down_proj): LoraLayer(\n",
      "              (base_layer): Linear4bit(in_features=14336, out_features=4096, bias=False)\n",
      "              (lora_A): Linear(in_features=14336, out_features=8, bias=False)\n",
      "              (lora_B): Linear(in_features=8, out_features=4096, bias=False)\n",
      "            )\n",
      "            (act_fn): SiLU()\n",
      "          )\n",
      "          (input_layernorm): LlamaRMSNorm((4096,), eps=1e-05)\n",
      "          (post_attention_layernorm): LlamaRMSNorm((4096,), eps=1e-05)\n",
      "        )\n",
      "        (1): LlamaDecoderLayer(\n",
      "          (self_attn): LlamaAttention(\n",
      "            (q_proj): LoraLayer(\n",
      "              (base_layer): Linear4bit(in_features=4096, out_features=4096, bias=False)\n",
      "              (lora_A): Linear(in_features=4096, out_features=8, bias=False)\n",
      "              (lora_B): Linear(in_features=8, out_features=4096, bias=False)\n",
      "            )\n",
      "            (k_proj): LoraLayer(\n",
      "              (base_layer): Linear4bit(in_features=4096, out_features=1024, bias=False)\n",
      "              (lora_A): Linear(in_features=4096, out_features=8, bias=False)\n",
      "              (lora_B): Linear(in_features=8, out_features=1024, bias=False)\n",
      "            )\n",
      "            (v_proj): LoraLayer(\n",
      "              (base_layer): Linear4bit(in_features=4096, out_features=1024, bias=False)\n",
      "              (lora_A): Linear(in_features=4096, out_features=8, bias=False)\n",
      "              (lora_B): Linear(in_features=8, out_features=1024, bias=False)\n",
      "            )\n",
      "            (o_proj): LoraLayer(\n",
      "              (base_layer): Linear4bit(in_features=4096, out_features=4096, bias=False)\n",
      "              (lora_A): Linear(in_features=4096, out_features=8, bias=False)\n",
      "              (lora_B): Linear(in_features=8, out_features=4096, bias=False)\n",
      "            )\n",
      "            (rotary_emb): LlamaRotaryEmbedding()\n",
      "          )\n",
      "          (mlp): LlamaMLP(\n",
      "            (gate_proj): LoraLayer(\n",
      "              (base_layer): Linear(in_features=4096, out_features=14336, bias=False)\n",
      "              (lora_A): Linear(in_features=4096, out_features=8, bias=False)\n",
      "              (lora_B): Linear(in_features=8, out_features=14336, bias=False)\n",
      "            )\n",
      "            (up_proj): LoraLayer(\n",
      "              (base_layer): Linear(in_features=4096, out_features=14336, bias=False)\n",
      "              (lora_A): Linear(in_features=4096, out_features=8, bias=False)\n",
      "              (lora_B): Linear(in_features=8, out_features=14336, bias=False)\n",
      "            )\n",
      "            (down_proj): LoraLayer(\n",
      "              (base_layer): Linear(in_features=14336, out_features=4096, bias=False)\n",
      "              (lora_A): Linear(in_features=14336, out_features=8, bias=False)\n",
      "              (lora_B): Linear(in_features=8, out_features=4096, bias=False)\n",
      "            )\n",
      "            (act_fn): SiLU()\n",
      "          )\n",
      "          (input_layernorm): LlamaRMSNorm((4096,), eps=1e-05)\n",
      "          (post_attention_layernorm): LlamaRMSNorm((4096,), eps=1e-05)\n",
      "        )\n",
      "        (2-31): 30 x LlamaDecoderLayer(\n",
      "          (self_attn): LlamaAttention(\n",
      "            (q_proj): LoraLayer(\n",
      "              (base_layer): Linear4bit(in_features=4096, out_features=4096, bias=False)\n",
      "              (lora_A): Linear(in_features=4096, out_features=8, bias=False)\n",
      "              (lora_B): Linear(in_features=8, out_features=4096, bias=False)\n",
      "            )\n",
      "            (k_proj): LoraLayer(\n",
      "              (base_layer): Linear4bit(in_features=4096, out_features=1024, bias=False)\n",
      "              (lora_A): Linear(in_features=4096, out_features=8, bias=False)\n",
      "              (lora_B): Linear(in_features=8, out_features=1024, bias=False)\n",
      "            )\n",
      "            (v_proj): LoraLayer(\n",
      "              (base_layer): Linear4bit(in_features=4096, out_features=1024, bias=False)\n",
      "              (lora_A): Linear(in_features=4096, out_features=8, bias=False)\n",
      "              (lora_B): Linear(in_features=8, out_features=1024, bias=False)\n",
      "            )\n",
      "            (o_proj): LoraLayer(\n",
      "              (base_layer): Linear4bit(in_features=4096, out_features=4096, bias=False)\n",
      "              (lora_A): Linear(in_features=4096, out_features=8, bias=False)\n",
      "              (lora_B): Linear(in_features=8, out_features=4096, bias=False)\n",
      "            )\n",
      "            (rotary_emb): LlamaRotaryEmbedding()\n",
      "          )\n",
      "          (mlp): LlamaMLP(\n",
      "            (gate_proj): LoraLayer(\n",
      "              (base_layer): Linear4bit(in_features=4096, out_features=14336, bias=False)\n",
      "              (lora_A): Linear(in_features=4096, out_features=8, bias=False)\n",
      "              (lora_B): Linear(in_features=8, out_features=14336, bias=False)\n",
      "            )\n",
      "            (up_proj): LoraLayer(\n",
      "              (base_layer): Linear4bit(in_features=4096, out_features=14336, bias=False)\n",
      "              (lora_A): Linear(in_features=4096, out_features=8, bias=False)\n",
      "              (lora_B): Linear(in_features=8, out_features=14336, bias=False)\n",
      "            )\n",
      "            (down_proj): LoraLayer(\n",
      "              (base_layer): Linear4bit(in_features=14336, out_features=4096, bias=False)\n",
      "              (lora_A): Linear(in_features=14336, out_features=8, bias=False)\n",
      "              (lora_B): Linear(in_features=8, out_features=4096, bias=False)\n",
      "            )\n",
      "            (act_fn): SiLU()\n",
      "          )\n",
      "          (input_layernorm): LlamaRMSNorm((4096,), eps=1e-05)\n",
      "          (post_attention_layernorm): LlamaRMSNorm((4096,), eps=1e-05)\n",
      "        )\n",
      "      )\n",
      "      (norm): LlamaRMSNorm((4096,), eps=1e-05)\n",
      "      (rotary_emb): LlamaRotaryEmbedding()\n",
      "    )\n",
      "    (lm_head): Linear(in_features=4096, out_features=128256, bias=False)\n",
      "  )\n",
      "  (nero_layers): ModuleDict()\n",
      ")\n"
     ]
    }
   ],
   "source": [
    "class NeroLayer(nn.Module):\n",
    "    def __init__(self, base_layer, rank, alpha, lora_bias, nero_bias=False):\n",
    "        super().__init__()\n",
    "        self.base_layer = base_layer\n",
    "        self.alpha = alpha\n",
    "        self.lora_bias = lora_bias\n",
    "        self.device = base_layer.weight.device\n",
    "\n",
    "        # Extract input and output features from the base layer\n",
    "        in_features = getattr(base_layer, 'in_features', None)\n",
    "        out_features = getattr(base_layer, 'out_features', None)\n",
    "\n",
    "        if in_features is None or out_features is None:\n",
    "            raise ValueError(f\"Cannot determine in_features or out_features from {base_layer}\")\n",
    "        \n",
    "        # LoRA decomposition: A (down-projection) and B (up-projection)\n",
    "        self.lora_A = nn.Linear(in_features, rank, bias=lora_bias).to(dtype=torch.float16, device=self.device)  # Projects down\n",
    "        self.lora_B = nn.Linear(rank, out_features, bias=lora_bias).to(dtype=torch.float16, device=self.device) # Projects up\n",
    "\n",
    "        # Initialize LoRA matrices: A ~ N(0, 1/rank), B initialized to 0\n",
    "        std = 1 / torch.sqrt(torch.tensor(rank).float())\n",
    "        nn.init.normal_(self.lora_A.weight, mean=0.0, std=std)\n",
    "        nn.init.zeros_(self.lora_B.weight)\n",
    "\n",
    "        # Nero decomposition: additional transformation applied to LoRA output\n",
    "        self.nero_A = nn.Linear(out_features, rank, bias=nero_bias).to(dtype=torch.float16, device=self.device)\n",
    "        self.nero_B = nn.Linear(rank, out_features, bias=nero_bias).to(dtype=torch.float16, device=self.device)\n",
    "\n",
    "        # Initialize Nero matrices similarly\n",
    "        nn.init.normal_(self.nero_A.weight, mean=0.0, std=std)\n",
    "        nn.init.zeros_(self.nero_B.weight)\n",
    "        \n",
    "    def forward(self, x):\n",
    "        # Forward through base layer\n",
    "        base_out = self.base_layer(x)\n",
    "\n",
    "        # LoRA transformation\n",
    "        # print(f'{x.dtype=}')\n",
    "        lora_A_out = self.lora_A(x)\n",
    "        # print(f'{lora_A_out.dtype=}')\n",
    "        lora_B_out = self.lora_B(lora_A_out)\n",
    "        # print(f'{lora_B_out.dtype=}')\n",
    "        lora_out = self.alpha * lora_B_out\n",
    "        # print(f'{lora_out.dtype=}')\n",
    "\n",
    "        # Nero transformation (applied on top of LoRA output)\n",
    "        nero_A_out = self.nero_A(lora_out)\n",
    "        nero_B_out = self.nero_B(nero_A_out)\n",
    "        nero_out = F.relu(self.alpha * nero_B_out)\n",
    "        \n",
    "        return base_out + nero_out, nero_out\n",
    "\n",
    "    def load_lora_weights(self, state_dict, prefix):\n",
    "        self.lora_A.weight.data = state_dict[f'{prefix}.lora_A.weight'].to(dtype=torch.float16, device=self.device)\n",
    "        self.lora_B.weight.data = state_dict[f'{prefix}.lora_B.weight'].to(dtype=torch.float16, device=self.device)\n",
    "        if self.lora_bias:\n",
    "            self.lora_A.bias.data = state_dict[f'{prefix}.lora_A.bias'].to(dtype=torch.float16, device=self.device)\n",
    "            self.lora_B.bias.data = state_dict[f'{prefix}.lora_B.bias'].to(dtype=torch.float16, device=self.device)\n",
    "    \n",
    "class NeroModel(nn.Module):\n",
    "    def __init__(self, base_model: nn.Module, lora_config: LoraConfig, nero_bias: bool=False):\n",
    "        super().__init__()\n",
    "        self.base_model = base_model\n",
    "        self.nero_bias = nero_bias\n",
    "        self.nero_layers = nn.ModuleDict()\n",
    "\n",
    "        # Wrap target layers with NeroLayer\n",
    "        self._wrap_target_layers(lora_config)\n",
    "        \n",
    "        # Freeze all parameters except Nero-specific weights\n",
    "        self.freeze_except_nero()\n",
    "    \n",
    "    def _wrap_target_layers(self, lora_config):\n",
    "        for module_name, module in self.base_model.named_modules():\n",
    "            if isinstance(module, NeroLayer):\n",
    "                # Convert module name format and store reference\n",
    "                module_name = module_name.rsplit('model.', 1)[-1]\n",
    "                module_name = module_name.replace('.', '__DOT__')\n",
    "                self.nero_layers[module_name] = module\n",
    "                continue\n",
    "\n",
    "            if any(module_name.endswith(target_module) for target_module in lora_config.target_modules) and isinstance(module, nn.Linear):    \n",
    "                parent_module, child_name = self._get_parent_module(module_name)\n",
    "                nero_layer = NeroLayer(module, lora_config.r, lora_config.lora_alpha, lora_config.lora_bias, nero_bias=self.nero_bias)\n",
    "                setattr(parent_module, child_name, nero_layer)\n",
    "\n",
    "                # Store LoRA layers for weight loading\n",
    "                module_name = module_name.rsplit('model.', 1)[-1]\n",
    "                module_name = module_name.replace('.', '__DOT__')\n",
    "                self.nero_layers[module_name] = nero_layer\n",
    "    \n",
    "    def _get_parent_module(self, module_name):\n",
    "        parts = module_name.split('.')\n",
    "        parent_module = self.base_model\n",
    "        for part in parts[:-1]:\n",
    "            parent_module = getattr(parent_module, part)\n",
    "        return parent_module, parts[-1]\n",
    "\n",
    "    def freeze_except_nero(self):\n",
    "        for param in self.base_model.parameters():\n",
    "            param.requires_grad = False\n",
    "        \n",
    "        for nero_layer in self.nero_layers.values():\n",
    "            for param_name, param in nero_layer.named_parameters():\n",
    "                if 'nero_A' in param_name or 'nero_B' in param_name:\n",
    "                    param.requires_grad = True\n",
    "                else:\n",
    "                    param.requires_grad = False\n",
    "    \n",
    "    def unfreeze_all(self):\n",
    "        for param in self.base_model.parameters():\n",
    "            param.requires_grad = True\n",
    "        \n",
    "        for nero_layer in self.nero_layers.values():\n",
    "            for param in nero_layer.parameters():\n",
    "                param.requires_grad = True\n",
    "    \n",
    "    def load_lora_weights(self, lora_path):\n",
    "        state_dict = load_file(lora_path)\n",
    "        prefix = list(state_dict.keys())[0].rsplit('model.', 1)[0] + 'model.'\n",
    "        for nero_layer_name, nero_layer in self.nero_layers.items():\n",
    "            nero_layer_name = nero_layer_name.replace('__DOT__', '.')\n",
    "            nero_layer_name = prefix + nero_layer_name\n",
    "            if f'{nero_layer_name}.lora_A.weight' in state_dict and f'{nero_layer_name}.lora_B.weight' in state_dict:\n",
    "                nero_layer.load_lora_weights(state_dict, nero_layer_name)\n",
    "            else:\n",
    "                # TODO: Print a warning message\n",
    "                pass\n",
    "        print(\"LoRA weights loaded successfully!\")\n",
    "    \n",
    "    def forward(self, input_ids, attention_mask=None):\n",
    "        nero_outs = {}\n",
    "        \n",
    "        def _hook_fn(module, _in, _out):\n",
    "            layer_name = module._name # Assume each layer has a unique name\n",
    "            if isinstance(_out, tuple) and len(_out) == 2:\n",
    "                layer_out, nero_out = _out\n",
    "                nero_outs[layer_name] = nero_out # Store nero_out separately\n",
    "                return layer_out # Return only layer_out to avoid breaking model flow\n",
    "\n",
    "        # Register hooks to extract nero_out during forward pass\n",
    "        hooks = []\n",
    "        for layer_name, layer in self.nero_layers.items():\n",
    "            layer._name = layer_name # Assign unique name to each layer\n",
    "            hook = layer.register_forward_hook(_hook_fn)\n",
    "            hooks.append(hook)\n",
    "        \n",
    "        # Run forward pass\n",
    "        out = self.base_model(input_ids, attention_mask=attention_mask)\n",
    "\n",
    "        # Remove hooks after forward pass\n",
    "        for hook in hooks:\n",
    "            hook.remove()\n",
    "\n",
    "        return out, nero_outs # Return both main output and collected nero_outs\n",
    "\n",
    "nero_model = NeroModel(base_model, lora_config, nero_bias=True)\n",
    "print(nero_model)"
   ]
  },
  {
   "cell_type": "code",
   "execution_count": 10,
   "metadata": {},
   "outputs": [
    {
     "name": "stdout",
     "output_type": "stream",
     "text": [
      "Check LoRA parameters:\n",
      "Layer: base_model.model.layers.0.self_attn.q_proj.lora_A.weight\n",
      "Mean: -0.003337860107421875\n"
     ]
    }
   ],
   "source": [
    "@torch.no_grad()\n",
    "def check_lora_parameters(model):\n",
    "    print(\"Check LoRA parameters:\")\n",
    "    for module_name, module in model.named_parameters():\n",
    "        if 'lora' in module_name:\n",
    "            print(\"Layer:\", module_name)\n",
    "            print(\"Mean:\", module.mean().item())\n",
    "            break\n",
    "\n",
    "# check_lora_parameters(nero_model)\n",
    "check_lora_parameters(lora_model)"
   ]
  },
  {
   "cell_type": "code",
   "execution_count": 11,
   "metadata": {},
   "outputs": [
    {
     "name": "stdout",
     "output_type": "stream",
     "text": [
      "LoRA weights loaded successfully!\n",
      "Check LoRA parameters:\n",
      "Layer: base_model.model.layers.0.self_attn.q_proj.lora_A.weight\n",
      "Mean: 4.935264587402344e-05\n"
     ]
    }
   ],
   "source": [
    "lora_path = os.path.join(lora_dir, 'adapter_model.safetensors')\n",
    "# nero_model.load_lora_weights(lora_path)\n",
    "# check_lora_parameters(nero_model)\n",
    "lora_model.load_lora_weights(lora_path)\n",
    "check_lora_parameters(lora_model)"
   ]
  },
  {
   "cell_type": "code",
   "execution_count": 37,
   "metadata": {},
   "outputs": [],
   "source": [
    "# def predict(model, prompt=\"Hello\"):\n",
    "#     # Encode prompt\n",
    "#     input_ids = tokenizer(prompt, return_tensors='pt').input_ids.to(next(model.parameters()).device)\n",
    "\n",
    "#     # Generate output\n",
    "#     with torch.no_grad():\n",
    "#         if isinstance(model, NeroModel):\n",
    "#             output, nero_out = model(input_ids)\n",
    "#         else:\n",
    "#             output = model(input_ids)\n",
    "#             # nero_out = None\n",
    "\n",
    "#     # Extract logits and get the most probable next token\n",
    "#     logits = output.logits[:, -1, :]\n",
    "#     next_token_id = torch.argmax(logits, dim=-1)\n",
    "\n",
    "#     # Decode the token to text\n",
    "#     next_token = tokenizer.decode(next_token_id)\n",
    "#     print(\"Generated token:\", next_token)\n",
    "\n",
    "# predict(lora_model, prompt=\"Wikipedia is\")"
   ]
  },
  {
   "cell_type": "code",
   "execution_count": 9,
   "metadata": {},
   "outputs": [
    {
     "name": "stdout",
     "output_type": "stream",
     "text": [
      "<|begin_of_text|>Preheat the oven to 350 degrees and place the cookie dough on a baking sheet. Bake for 15-20 minutes or until the cookies are golden brown and the edges are slightly browned.<|end_of_text|>\n"
     ]
    }
   ],
   "source": [
    "def generate_text(model, prompt, max_new_tokens=50, skip_special_tokens=True):\n",
    "    inputs = tokenizer(prompt, return_tensors='pt')\n",
    "    outputs = model.generate(input_ids=inputs['input_ids'].to(device), max_new_tokens=max_new_tokens)\n",
    "    print(tokenizer.batch_decode(outputs.detach().cpu().numpy(), skip_special_tokens=skip_special_tokens)[0])\n",
    "\n",
    "generate_text(base_model, prompt=\"Preheat the oven to 350 degrees and place the cookie dough\", skip_special_tokens=False)\n",
    "# generate_text(lora_model, prompt=\"Preheat the oven to 350 degrees and place the cookie dough\", skip_special_tokens=False)\n",
    "# generate_text(nero_model, prompt=\"Preheat the oven to 350 degrees and place the cookie dough\", skip_special_tokens=False)"
   ]
  },
  {
   "cell_type": "code",
   "execution_count": 16,
   "metadata": {},
   "outputs": [
    {
     "name": "stdout",
     "output_type": "stream",
     "text": [
      "<|begin_of_text|>Preheat the oven to 350 degrees and place the cookie doughei-ko\n",
      "The 2015-2016 season of the American Football League and the National Football League\n",
      "\n",
      "2015-2016 NFL season\n",
      "2015-2016 AFL season\n",
      "\n",
      "The 2015-2016 NFL and AFL seasons\n"
     ]
    }
   ],
   "source": [
    "generate_text(lora_model, prompt=\"Preheat the oven to 350 degrees and place the cookie dough\", skip_special_tokens=False)"
   ]
  }
 ],
 "metadata": {
  "kernelspec": {
   "display_name": "Python 3 (ipykernel)",
   "language": "python",
   "name": "python3"
  }
 },
 "nbformat": 4,
 "nbformat_minor": 2
}
