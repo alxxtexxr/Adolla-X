{
 "cells": [
  {
   "cell_type": "code",
   "execution_count": 1,
   "metadata": {},
   "outputs": [],
   "source": [
    "# Kill all processess on GPU\n",
    "# !fuser -v /dev/nvidia* -k"
   ]
  },
  {
   "cell_type": "markdown",
   "metadata": {},
   "source": [
    "# Libraries"
   ]
  },
  {
   "cell_type": "code",
   "execution_count": 1,
   "metadata": {},
   "outputs": [],
   "source": [
    "%%capture\n",
    "import os\n",
    "if 'COLAB_' not in ''.join(os.environ.keys()):\n",
    "    %pip install unsloth\n",
    "else:\n",
    "    # Do this only in Colab notebooks and Kaggle notebooks!\n",
    "    %pip install --no-deps bitsandbytes accelerate xformers==0.0.29 peft trl triton\n",
    "    %pip install --no-deps cut_cross_entropy unsloth_zoo\n",
    "    %pip install sentencepiece protobuf datasets huggingface_hub hf_transfer\n",
    "    %pip install --no-deps unsloth"
   ]
  },
  {
   "cell_type": "code",
   "execution_count": 2,
   "metadata": {},
   "outputs": [
    {
     "name": "stdout",
     "output_type": "stream",
     "text": [
      "🦥 Unsloth: Will patch your computer to enable 2x faster free finetuning.\n"
     ]
    },
    {
     "name": "stderr",
     "output_type": "stream",
     "text": [
      "WARNING:xformers:WARNING[XFORMERS]: xFormers can't load C++/CUDA extensions. xFormers was built for:\n",
      "    PyTorch 2.5.1+cu121 with CUDA 1201 (you have 2.6.0+cu124)\n",
      "    Python  3.11.11 (you have 3.11.11)\n",
      "  Please reinstall xformers (see https://github.com/facebookresearch/xformers#installing-xformers)\n",
      "  Memory-efficient attention, SwiGLU, sparse and more won't be available.\n",
      "  Set XFORMERS_MORE_DETAILS=1 for more details\n"
     ]
    },
    {
     "name": "stdout",
     "output_type": "stream",
     "text": [
      "🦥 Unsloth Zoo will now patch everything to make training faster!\n"
     ]
    }
   ],
   "source": [
    "import os\n",
    "import torch # type: ignore\n",
    "import torch.nn as nn # type: ignore\n",
    "import torch.nn.functional as F # type: ignore\n",
    "# from datetime import datetime\n",
    "# from datasets import load_dataset\n",
    "from unsloth import FastLanguageModel # type: ignore\n",
    "from transformers import TrainingArguments  # type: ignore\n",
    "from trl import SFTTrainer  # type: ignore\n",
    "from peft import LoraConfig # type: ignore\n",
    "from huggingface_hub import snapshot_download # type: ignore\n",
    "from safetensors.torch import load_file # type: ignore\n",
    "from pprint import pprint"
   ]
  },
  {
   "cell_type": "markdown",
   "metadata": {},
   "source": [
    "# Config"
   ]
  },
  {
   "cell_type": "code",
   "execution_count": 3,
   "metadata": {},
   "outputs": [],
   "source": [
    "# Project config\n",
    "seed = 69 # Nice.\n",
    "\n",
    "# Model config\n",
    "max_seq_length = 1024\n",
    "dtype = None # None for auto detection. Float16 for Tesla T4, V100, Bfloat16 for Ampere+\n",
    "load_in_4bit = True # Use 4bit quantization to reduce memory usage. Can be False.\n",
    "\n",
    "# LoRA config\n",
    "hf_lora_id = 'alxxtexxr/L3.1-8B-wikipedia-en-LoRA-v20250305134947'\n",
    "lora_dir = hf_lora_id.split('/')[-1]"
   ]
  },
  {
   "cell_type": "code",
   "execution_count": 4,
   "metadata": {},
   "outputs": [
    {
     "data": {
      "application/vnd.jupyter.widget-view+json": {
       "model_id": "5740990f537b4bdc9328ac6ee3a0a3f7",
       "version_major": 2,
       "version_minor": 0
      },
      "text/plain": [
       ".gitattributes:   0%|          | 0.00/1.57k [00:00<?, ?B/s]"
      ]
     },
     "metadata": {},
     "output_type": "display_data"
    },
    {
     "data": {
      "application/vnd.jupyter.widget-view+json": {
       "model_id": "2fd34b17003f45b7b080294f92fdd658",
       "version_major": 2,
       "version_minor": 0
      },
      "text/plain": [
       "adapter_config.json:   0%|          | 0.00/812 [00:00<?, ?B/s]"
      ]
     },
     "metadata": {},
     "output_type": "display_data"
    },
    {
     "data": {
      "application/vnd.jupyter.widget-view+json": {
       "model_id": "969a8196796e457d99355dcc4054d983",
       "version_major": 2,
       "version_minor": 0
      },
      "text/plain": [
       "adapter_model.safetensors:   0%|          | 0.00/83.9M [00:00<?, ?B/s]"
      ]
     },
     "metadata": {},
     "output_type": "display_data"
    },
    {
     "data": {
      "application/vnd.jupyter.widget-view+json": {
       "model_id": "9fa60d0d31da476f8597767dec85f312",
       "version_major": 2,
       "version_minor": 0
      },
      "text/plain": [
       "README.md:   0%|          | 0.00/5.12k [00:00<?, ?B/s]"
      ]
     },
     "metadata": {},
     "output_type": "display_data"
    },
    {
     "data": {
      "application/vnd.jupyter.widget-view+json": {
       "model_id": "2750f200902b4fe6a168dc917ecea504",
       "version_major": 2,
       "version_minor": 0
      },
      "text/plain": [
       "adapter_config.json:   0%|          | 0.00/812 [00:00<?, ?B/s]"
      ]
     },
     "metadata": {},
     "output_type": "display_data"
    },
    {
     "data": {
      "application/vnd.jupyter.widget-view+json": {
       "model_id": "21387641d93541558bcb2744827c2070",
       "version_major": 2,
       "version_minor": 0
      },
      "text/plain": [
       "adapter_model.safetensors:   0%|          | 0.00/83.9M [00:00<?, ?B/s]"
      ]
     },
     "metadata": {},
     "output_type": "display_data"
    },
    {
     "data": {
      "application/vnd.jupyter.widget-view+json": {
       "model_id": "e49ad4c71253467abf40699a91e16d93",
       "version_major": 2,
       "version_minor": 0
      },
      "text/plain": [
       "optimizer.pt:   0%|          | 0.00/43.1M [00:00<?, ?B/s]"
      ]
     },
     "metadata": {},
     "output_type": "display_data"
    },
    {
     "data": {
      "application/vnd.jupyter.widget-view+json": {
       "model_id": "d7d74fa75310475a9d97787d5cd3700c",
       "version_major": 2,
       "version_minor": 0
      },
      "text/plain": [
       "rng_state.pth:   0%|          | 0.00/14.2k [00:00<?, ?B/s]"
      ]
     },
     "metadata": {},
     "output_type": "display_data"
    },
    {
     "data": {
      "application/vnd.jupyter.widget-view+json": {
       "model_id": "7f0e2c43d269435dacaa964b9dde941f",
       "version_major": 2,
       "version_minor": 0
      },
      "text/plain": [
       "scheduler.pt:   0%|          | 0.00/1.06k [00:00<?, ?B/s]"
      ]
     },
     "metadata": {},
     "output_type": "display_data"
    },
    {
     "data": {
      "application/vnd.jupyter.widget-view+json": {
       "model_id": "1e52e7692799437c82ee0005ea109807",
       "version_major": 2,
       "version_minor": 0
      },
      "text/plain": [
       "special_tokens_map.json:   0%|          | 0.00/459 [00:00<?, ?B/s]"
      ]
     },
     "metadata": {},
     "output_type": "display_data"
    },
    {
     "data": {
      "application/vnd.jupyter.widget-view+json": {
       "model_id": "1cab6b74bf144172bca6bc6f7bd54d98",
       "version_major": 2,
       "version_minor": 0
      },
      "text/plain": [
       "tokenizer.json:   0%|          | 0.00/17.2M [00:00<?, ?B/s]"
      ]
     },
     "metadata": {},
     "output_type": "display_data"
    },
    {
     "data": {
      "application/vnd.jupyter.widget-view+json": {
       "model_id": "1b67c762e4554a0fa250238c8d7783e6",
       "version_major": 2,
       "version_minor": 0
      },
      "text/plain": [
       "tokenizer_config.json:   0%|          | 0.00/50.6k [00:00<?, ?B/s]"
      ]
     },
     "metadata": {},
     "output_type": "display_data"
    },
    {
     "data": {
      "application/vnd.jupyter.widget-view+json": {
       "model_id": "29e09d0c6db543c987bf4ec63b2900b3",
       "version_major": 2,
       "version_minor": 0
      },
      "text/plain": [
       "trainer_state.json:   0%|          | 0.00/16.7k [00:00<?, ?B/s]"
      ]
     },
     "metadata": {},
     "output_type": "display_data"
    },
    {
     "data": {
      "application/vnd.jupyter.widget-view+json": {
       "model_id": "778bd53a0d4b40c09ad6d27a5de1e0d4",
       "version_major": 2,
       "version_minor": 0
      },
      "text/plain": [
       "training_args.bin:   0%|          | 0.00/5.75k [00:00<?, ?B/s]"
      ]
     },
     "metadata": {},
     "output_type": "display_data"
    },
    {
     "data": {
      "application/vnd.jupyter.widget-view+json": {
       "model_id": "b0a79ce701e14031b7574f5ea0f90470",
       "version_major": 2,
       "version_minor": 0
      },
      "text/plain": [
       "README.md:   0%|          | 0.00/5.12k [00:00<?, ?B/s]"
      ]
     },
     "metadata": {},
     "output_type": "display_data"
    },
    {
     "data": {
      "application/vnd.jupyter.widget-view+json": {
       "model_id": "e36c35629fd0426a890f7df4a76d1b7f",
       "version_major": 2,
       "version_minor": 0
      },
      "text/plain": [
       "adapter_config.json:   0%|          | 0.00/812 [00:00<?, ?B/s]"
      ]
     },
     "metadata": {},
     "output_type": "display_data"
    },
    {
     "data": {
      "application/vnd.jupyter.widget-view+json": {
       "model_id": "174219b60c5e422c96ab89905f8ad401",
       "version_major": 2,
       "version_minor": 0
      },
      "text/plain": [
       "adapter_model.safetensors:   0%|          | 0.00/83.9M [00:00<?, ?B/s]"
      ]
     },
     "metadata": {},
     "output_type": "display_data"
    },
    {
     "data": {
      "application/vnd.jupyter.widget-view+json": {
       "model_id": "193009d299f94869acff64689554ce1c",
       "version_major": 2,
       "version_minor": 0
      },
      "text/plain": [
       "optimizer.pt:   0%|          | 0.00/43.1M [00:00<?, ?B/s]"
      ]
     },
     "metadata": {},
     "output_type": "display_data"
    },
    {
     "data": {
      "application/vnd.jupyter.widget-view+json": {
       "model_id": "bcfd62b5581d404e95cf85165ffc3342",
       "version_major": 2,
       "version_minor": 0
      },
      "text/plain": [
       "rng_state.pth:   0%|          | 0.00/14.2k [00:00<?, ?B/s]"
      ]
     },
     "metadata": {},
     "output_type": "display_data"
    },
    {
     "data": {
      "application/vnd.jupyter.widget-view+json": {
       "model_id": "ec3c07d971cb46e7a42534af0ce79763",
       "version_major": 2,
       "version_minor": 0
      },
      "text/plain": [
       "scheduler.pt:   0%|          | 0.00/1.06k [00:00<?, ?B/s]"
      ]
     },
     "metadata": {},
     "output_type": "display_data"
    },
    {
     "data": {
      "application/vnd.jupyter.widget-view+json": {
       "model_id": "d542cc89a20647dcbf612548bfe54081",
       "version_major": 2,
       "version_minor": 0
      },
      "text/plain": [
       "special_tokens_map.json:   0%|          | 0.00/459 [00:00<?, ?B/s]"
      ]
     },
     "metadata": {},
     "output_type": "display_data"
    },
    {
     "data": {
      "application/vnd.jupyter.widget-view+json": {
       "model_id": "0957abe74c334e049bd2a6dc16eb8b51",
       "version_major": 2,
       "version_minor": 0
      },
      "text/plain": [
       "tokenizer.json:   0%|          | 0.00/17.2M [00:00<?, ?B/s]"
      ]
     },
     "metadata": {},
     "output_type": "display_data"
    },
    {
     "data": {
      "application/vnd.jupyter.widget-view+json": {
       "model_id": "0ba6e420fc0f4cbab5dc68d1f7bdcc0f",
       "version_major": 2,
       "version_minor": 0
      },
      "text/plain": [
       "tokenizer_config.json:   0%|          | 0.00/50.6k [00:00<?, ?B/s]"
      ]
     },
     "metadata": {},
     "output_type": "display_data"
    },
    {
     "data": {
      "application/vnd.jupyter.widget-view+json": {
       "model_id": "094e988632454cc2a796973532985827",
       "version_major": 2,
       "version_minor": 0
      },
      "text/plain": [
       "trainer_state.json:   0%|          | 0.00/32.7k [00:00<?, ?B/s]"
      ]
     },
     "metadata": {},
     "output_type": "display_data"
    },
    {
     "data": {
      "application/vnd.jupyter.widget-view+json": {
       "model_id": "eeb8322dbbc946408fde2c5ba9f3dfa3",
       "version_major": 2,
       "version_minor": 0
      },
      "text/plain": [
       "training_args.bin:   0%|          | 0.00/5.75k [00:00<?, ?B/s]"
      ]
     },
     "metadata": {},
     "output_type": "display_data"
    },
    {
     "data": {
      "application/vnd.jupyter.widget-view+json": {
       "model_id": "807bfafbb572419b8ac16b994427fef9",
       "version_major": 2,
       "version_minor": 0
      },
      "text/plain": [
       "README.md:   0%|          | 0.00/5.12k [00:00<?, ?B/s]"
      ]
     },
     "metadata": {},
     "output_type": "display_data"
    },
    {
     "data": {
      "application/vnd.jupyter.widget-view+json": {
       "model_id": "3ff3035785db421cbed6f4de0536a3c1",
       "version_major": 2,
       "version_minor": 0
      },
      "text/plain": [
       "adapter_config.json:   0%|          | 0.00/812 [00:00<?, ?B/s]"
      ]
     },
     "metadata": {},
     "output_type": "display_data"
    },
    {
     "data": {
      "application/vnd.jupyter.widget-view+json": {
       "model_id": "611f40eb8b9f4dab85d7104491fc2643",
       "version_major": 2,
       "version_minor": 0
      },
      "text/plain": [
       "adapter_model.safetensors:   0%|          | 0.00/83.9M [00:00<?, ?B/s]"
      ]
     },
     "metadata": {},
     "output_type": "display_data"
    },
    {
     "data": {
      "application/vnd.jupyter.widget-view+json": {
       "model_id": "4a80d82194a645caaaa40961993f6512",
       "version_major": 2,
       "version_minor": 0
      },
      "text/plain": [
       "optimizer.pt:   0%|          | 0.00/44.3M [00:00<?, ?B/s]"
      ]
     },
     "metadata": {},
     "output_type": "display_data"
    },
    {
     "data": {
      "application/vnd.jupyter.widget-view+json": {
       "model_id": "0e6bc4169eb048bdb27a94800ebe910a",
       "version_major": 2,
       "version_minor": 0
      },
      "text/plain": [
       "rng_state.pth:   0%|          | 0.00/14.2k [00:00<?, ?B/s]"
      ]
     },
     "metadata": {},
     "output_type": "display_data"
    },
    {
     "data": {
      "application/vnd.jupyter.widget-view+json": {
       "model_id": "9c3acc477e3e4ed989668ef2d3851f26",
       "version_major": 2,
       "version_minor": 0
      },
      "text/plain": [
       "scheduler.pt:   0%|          | 0.00/1.06k [00:00<?, ?B/s]"
      ]
     },
     "metadata": {},
     "output_type": "display_data"
    },
    {
     "data": {
      "application/vnd.jupyter.widget-view+json": {
       "model_id": "cbab715fe1ab4ba0b069ca4d0d1e1c80",
       "version_major": 2,
       "version_minor": 0
      },
      "text/plain": [
       "special_tokens_map.json:   0%|          | 0.00/459 [00:00<?, ?B/s]"
      ]
     },
     "metadata": {},
     "output_type": "display_data"
    },
    {
     "data": {
      "application/vnd.jupyter.widget-view+json": {
       "model_id": "57dfb044a83e41e4bef006c4dd40d604",
       "version_major": 2,
       "version_minor": 0
      },
      "text/plain": [
       "tokenizer.json:   0%|          | 0.00/17.2M [00:00<?, ?B/s]"
      ]
     },
     "metadata": {},
     "output_type": "display_data"
    },
    {
     "data": {
      "application/vnd.jupyter.widget-view+json": {
       "model_id": "b0fb79327dde4a8fa832b4edaf755fbe",
       "version_major": 2,
       "version_minor": 0
      },
      "text/plain": [
       "tokenizer_config.json:   0%|          | 0.00/50.6k [00:00<?, ?B/s]"
      ]
     },
     "metadata": {},
     "output_type": "display_data"
    },
    {
     "data": {
      "application/vnd.jupyter.widget-view+json": {
       "model_id": "aeb3b67b2d7c47bcb861d974b56fff7e",
       "version_major": 2,
       "version_minor": 0
      },
      "text/plain": [
       "trainer_state.json:   0%|          | 0.00/48.9k [00:00<?, ?B/s]"
      ]
     },
     "metadata": {},
     "output_type": "display_data"
    },
    {
     "data": {
      "application/vnd.jupyter.widget-view+json": {
       "model_id": "7ffade0942fc4616ac3d1bfb54f5de63",
       "version_major": 2,
       "version_minor": 0
      },
      "text/plain": [
       "training_args.bin:   0%|          | 0.00/5.75k [00:00<?, ?B/s]"
      ]
     },
     "metadata": {},
     "output_type": "display_data"
    },
    {
     "data": {
      "application/vnd.jupyter.widget-view+json": {
       "model_id": "45d5064a692148cab6237cc9268630b9",
       "version_major": 2,
       "version_minor": 0
      },
      "text/plain": [
       "README.md:   0%|          | 0.00/5.12k [00:00<?, ?B/s]"
      ]
     },
     "metadata": {},
     "output_type": "display_data"
    },
    {
     "data": {
      "application/vnd.jupyter.widget-view+json": {
       "model_id": "4374fcd7d2e247efac9b8063f16abfab",
       "version_major": 2,
       "version_minor": 0
      },
      "text/plain": [
       "adapter_config.json:   0%|          | 0.00/812 [00:00<?, ?B/s]"
      ]
     },
     "metadata": {},
     "output_type": "display_data"
    },
    {
     "data": {
      "application/vnd.jupyter.widget-view+json": {
       "model_id": "b26fa4956237424ab32c814554c5cae1",
       "version_major": 2,
       "version_minor": 0
      },
      "text/plain": [
       "adapter_model.safetensors:   0%|          | 0.00/83.9M [00:00<?, ?B/s]"
      ]
     },
     "metadata": {},
     "output_type": "display_data"
    },
    {
     "data": {
      "application/vnd.jupyter.widget-view+json": {
       "model_id": "0bebfa6ab96044a192d7a14962958f6a",
       "version_major": 2,
       "version_minor": 0
      },
      "text/plain": [
       "optimizer.pt:   0%|          | 0.00/44.3M [00:00<?, ?B/s]"
      ]
     },
     "metadata": {},
     "output_type": "display_data"
    },
    {
     "data": {
      "application/vnd.jupyter.widget-view+json": {
       "model_id": "3d5512f4a79f4f6faf473dc6642b1ca4",
       "version_major": 2,
       "version_minor": 0
      },
      "text/plain": [
       "rng_state.pth:   0%|          | 0.00/14.2k [00:00<?, ?B/s]"
      ]
     },
     "metadata": {},
     "output_type": "display_data"
    },
    {
     "data": {
      "application/vnd.jupyter.widget-view+json": {
       "model_id": "ff93a58a0fd84e32908672c3f6be7b69",
       "version_major": 2,
       "version_minor": 0
      },
      "text/plain": [
       "scheduler.pt:   0%|          | 0.00/1.06k [00:00<?, ?B/s]"
      ]
     },
     "metadata": {},
     "output_type": "display_data"
    },
    {
     "data": {
      "application/vnd.jupyter.widget-view+json": {
       "model_id": "07320440873a48f3b23498c69a80ccbb",
       "version_major": 2,
       "version_minor": 0
      },
      "text/plain": [
       "special_tokens_map.json:   0%|          | 0.00/459 [00:00<?, ?B/s]"
      ]
     },
     "metadata": {},
     "output_type": "display_data"
    },
    {
     "data": {
      "application/vnd.jupyter.widget-view+json": {
       "model_id": "bec9eababec646649cfcd0e057957341",
       "version_major": 2,
       "version_minor": 0
      },
      "text/plain": [
       "tokenizer.json:   0%|          | 0.00/17.2M [00:00<?, ?B/s]"
      ]
     },
     "metadata": {},
     "output_type": "display_data"
    },
    {
     "data": {
      "application/vnd.jupyter.widget-view+json": {
       "model_id": "e64e0b0597ca41bc9b20150a1553ede0",
       "version_major": 2,
       "version_minor": 0
      },
      "text/plain": [
       "tokenizer_config.json:   0%|          | 0.00/50.6k [00:00<?, ?B/s]"
      ]
     },
     "metadata": {},
     "output_type": "display_data"
    },
    {
     "data": {
      "application/vnd.jupyter.widget-view+json": {
       "model_id": "dbc84ce7692d4344aecfe23842fc284c",
       "version_major": 2,
       "version_minor": 0
      },
      "text/plain": [
       "trainer_state.json:   0%|          | 0.00/65.0k [00:00<?, ?B/s]"
      ]
     },
     "metadata": {},
     "output_type": "display_data"
    },
    {
     "data": {
      "application/vnd.jupyter.widget-view+json": {
       "model_id": "abc70242e99041b7afd84bb385057011",
       "version_major": 2,
       "version_minor": 0
      },
      "text/plain": [
       "training_args.bin:   0%|          | 0.00/5.75k [00:00<?, ?B/s]"
      ]
     },
     "metadata": {},
     "output_type": "display_data"
    },
    {
     "data": {
      "application/vnd.jupyter.widget-view+json": {
       "model_id": "3ae1511a17f54cd992c88004d139942b",
       "version_major": 2,
       "version_minor": 0
      },
      "text/plain": [
       "README.md:   0%|          | 0.00/5.12k [00:00<?, ?B/s]"
      ]
     },
     "metadata": {},
     "output_type": "display_data"
    },
    {
     "data": {
      "application/vnd.jupyter.widget-view+json": {
       "model_id": "3a19dd4181844f05b18c609edd87b920",
       "version_major": 2,
       "version_minor": 0
      },
      "text/plain": [
       "adapter_config.json:   0%|          | 0.00/812 [00:00<?, ?B/s]"
      ]
     },
     "metadata": {},
     "output_type": "display_data"
    },
    {
     "data": {
      "application/vnd.jupyter.widget-view+json": {
       "model_id": "36f125c65b3349afa53307e897fa1137",
       "version_major": 2,
       "version_minor": 0
      },
      "text/plain": [
       "adapter_model.safetensors:   0%|          | 0.00/83.9M [00:00<?, ?B/s]"
      ]
     },
     "metadata": {},
     "output_type": "display_data"
    },
    {
     "data": {
      "application/vnd.jupyter.widget-view+json": {
       "model_id": "c57c8c926bcb44dfbadf0aa8eef0609f",
       "version_major": 2,
       "version_minor": 0
      },
      "text/plain": [
       "optimizer.pt:   0%|          | 0.00/44.3M [00:00<?, ?B/s]"
      ]
     },
     "metadata": {},
     "output_type": "display_data"
    },
    {
     "data": {
      "application/vnd.jupyter.widget-view+json": {
       "model_id": "07a473374c4a423eb491e9d33562934a",
       "version_major": 2,
       "version_minor": 0
      },
      "text/plain": [
       "rng_state.pth:   0%|          | 0.00/14.2k [00:00<?, ?B/s]"
      ]
     },
     "metadata": {},
     "output_type": "display_data"
    },
    {
     "data": {
      "application/vnd.jupyter.widget-view+json": {
       "model_id": "c1334ef66b124c58ae5e146ceafc89f7",
       "version_major": 2,
       "version_minor": 0
      },
      "text/plain": [
       "scheduler.pt:   0%|          | 0.00/1.06k [00:00<?, ?B/s]"
      ]
     },
     "metadata": {},
     "output_type": "display_data"
    },
    {
     "data": {
      "application/vnd.jupyter.widget-view+json": {
       "model_id": "9035030101fd481783bcf6768b187e87",
       "version_major": 2,
       "version_minor": 0
      },
      "text/plain": [
       "special_tokens_map.json:   0%|          | 0.00/459 [00:00<?, ?B/s]"
      ]
     },
     "metadata": {},
     "output_type": "display_data"
    },
    {
     "data": {
      "application/vnd.jupyter.widget-view+json": {
       "model_id": "00c022e8517e4e09b58d47b11b9caa48",
       "version_major": 2,
       "version_minor": 0
      },
      "text/plain": [
       "tokenizer.json:   0%|          | 0.00/17.2M [00:00<?, ?B/s]"
      ]
     },
     "metadata": {},
     "output_type": "display_data"
    },
    {
     "data": {
      "application/vnd.jupyter.widget-view+json": {
       "model_id": "537d9cd173754d5f89362b0ba9d34edd",
       "version_major": 2,
       "version_minor": 0
      },
      "text/plain": [
       "tokenizer_config.json:   0%|          | 0.00/50.6k [00:00<?, ?B/s]"
      ]
     },
     "metadata": {},
     "output_type": "display_data"
    },
    {
     "data": {
      "application/vnd.jupyter.widget-view+json": {
       "model_id": "6a1c5725171648c680b785dd925e43b3",
       "version_major": 2,
       "version_minor": 0
      },
      "text/plain": [
       "trainer_state.json:   0%|          | 0.00/81.4k [00:00<?, ?B/s]"
      ]
     },
     "metadata": {},
     "output_type": "display_data"
    },
    {
     "data": {
      "application/vnd.jupyter.widget-view+json": {
       "model_id": "cd099c5683f8405087f57bb2098943ed",
       "version_major": 2,
       "version_minor": 0
      },
      "text/plain": [
       "training_args.bin:   0%|          | 0.00/5.75k [00:00<?, ?B/s]"
      ]
     },
     "metadata": {},
     "output_type": "display_data"
    },
    {
     "data": {
      "application/vnd.jupyter.widget-view+json": {
       "model_id": "4ae7efbaf6214be7b7a3aa118351e1be",
       "version_major": 2,
       "version_minor": 0
      },
      "text/plain": [
       "README.md:   0%|          | 0.00/5.12k [00:00<?, ?B/s]"
      ]
     },
     "metadata": {},
     "output_type": "display_data"
    },
    {
     "data": {
      "application/vnd.jupyter.widget-view+json": {
       "model_id": "2b79268a199f4d618648018e546e7e05",
       "version_major": 2,
       "version_minor": 0
      },
      "text/plain": [
       "adapter_config.json:   0%|          | 0.00/812 [00:00<?, ?B/s]"
      ]
     },
     "metadata": {},
     "output_type": "display_data"
    },
    {
     "data": {
      "application/vnd.jupyter.widget-view+json": {
       "model_id": "11f33a04d2534644a6b422437ca468a0",
       "version_major": 2,
       "version_minor": 0
      },
      "text/plain": [
       "adapter_model.safetensors:   0%|          | 0.00/83.9M [00:00<?, ?B/s]"
      ]
     },
     "metadata": {},
     "output_type": "display_data"
    },
    {
     "data": {
      "application/vnd.jupyter.widget-view+json": {
       "model_id": "664cf197ab52439880b6cd3e81443ef2",
       "version_major": 2,
       "version_minor": 0
      },
      "text/plain": [
       "optimizer.pt:   0%|          | 0.00/44.3M [00:00<?, ?B/s]"
      ]
     },
     "metadata": {},
     "output_type": "display_data"
    },
    {
     "data": {
      "application/vnd.jupyter.widget-view+json": {
       "model_id": "b60b5b8093fa4e22b6682e521b0a4f85",
       "version_major": 2,
       "version_minor": 0
      },
      "text/plain": [
       "rng_state.pth:   0%|          | 0.00/14.2k [00:00<?, ?B/s]"
      ]
     },
     "metadata": {},
     "output_type": "display_data"
    },
    {
     "data": {
      "application/vnd.jupyter.widget-view+json": {
       "model_id": "e7159e0922884214bea95ce25bbc75d6",
       "version_major": 2,
       "version_minor": 0
      },
      "text/plain": [
       "scheduler.pt:   0%|          | 0.00/1.06k [00:00<?, ?B/s]"
      ]
     },
     "metadata": {},
     "output_type": "display_data"
    },
    {
     "data": {
      "application/vnd.jupyter.widget-view+json": {
       "model_id": "969475e230e3415f90ad19568165a87a",
       "version_major": 2,
       "version_minor": 0
      },
      "text/plain": [
       "special_tokens_map.json:   0%|          | 0.00/459 [00:00<?, ?B/s]"
      ]
     },
     "metadata": {},
     "output_type": "display_data"
    },
    {
     "data": {
      "application/vnd.jupyter.widget-view+json": {
       "model_id": "662dfb7525b84043920b0709873f6283",
       "version_major": 2,
       "version_minor": 0
      },
      "text/plain": [
       "tokenizer.json:   0%|          | 0.00/17.2M [00:00<?, ?B/s]"
      ]
     },
     "metadata": {},
     "output_type": "display_data"
    },
    {
     "data": {
      "application/vnd.jupyter.widget-view+json": {
       "model_id": "c8b5ed2120f84f4eb1ae5cd43d598af9",
       "version_major": 2,
       "version_minor": 0
      },
      "text/plain": [
       "tokenizer_config.json:   0%|          | 0.00/50.6k [00:00<?, ?B/s]"
      ]
     },
     "metadata": {},
     "output_type": "display_data"
    },
    {
     "data": {
      "application/vnd.jupyter.widget-view+json": {
       "model_id": "f87d222e861d483a8ddffc7f65b427dd",
       "version_major": 2,
       "version_minor": 0
      },
      "text/plain": [
       "trainer_state.json:   0%|          | 0.00/97.5k [00:00<?, ?B/s]"
      ]
     },
     "metadata": {},
     "output_type": "display_data"
    },
    {
     "data": {
      "application/vnd.jupyter.widget-view+json": {
       "model_id": "812fbdfb06b940b7ae94bcb692f1f07d",
       "version_major": 2,
       "version_minor": 0
      },
      "text/plain": [
       "training_args.bin:   0%|          | 0.00/5.75k [00:00<?, ?B/s]"
      ]
     },
     "metadata": {},
     "output_type": "display_data"
    },
    {
     "data": {
      "application/vnd.jupyter.widget-view+json": {
       "model_id": "738852bc350e4354962de294ba1a7d43",
       "version_major": 2,
       "version_minor": 0
      },
      "text/plain": [
       "README.md:   0%|          | 0.00/5.12k [00:00<?, ?B/s]"
      ]
     },
     "metadata": {},
     "output_type": "display_data"
    },
    {
     "data": {
      "application/vnd.jupyter.widget-view+json": {
       "model_id": "d32cc27ded9a4aa9a0c9d2fb51c812a6",
       "version_major": 2,
       "version_minor": 0
      },
      "text/plain": [
       "adapter_config.json:   0%|          | 0.00/812 [00:00<?, ?B/s]"
      ]
     },
     "metadata": {},
     "output_type": "display_data"
    },
    {
     "data": {
      "application/vnd.jupyter.widget-view+json": {
       "model_id": "5daa46a53227430e9098ecbabc5fb909",
       "version_major": 2,
       "version_minor": 0
      },
      "text/plain": [
       "adapter_model.safetensors:   0%|          | 0.00/83.9M [00:00<?, ?B/s]"
      ]
     },
     "metadata": {},
     "output_type": "display_data"
    },
    {
     "data": {
      "application/vnd.jupyter.widget-view+json": {
       "model_id": "16c2835efaf54abfbc570f73143ee45e",
       "version_major": 2,
       "version_minor": 0
      },
      "text/plain": [
       "optimizer.pt:   0%|          | 0.00/44.3M [00:00<?, ?B/s]"
      ]
     },
     "metadata": {},
     "output_type": "display_data"
    },
    {
     "data": {
      "application/vnd.jupyter.widget-view+json": {
       "model_id": "902b9f0f7d2e4e85bb2b78c33d7daf21",
       "version_major": 2,
       "version_minor": 0
      },
      "text/plain": [
       "rng_state.pth:   0%|          | 0.00/14.2k [00:00<?, ?B/s]"
      ]
     },
     "metadata": {},
     "output_type": "display_data"
    },
    {
     "data": {
      "application/vnd.jupyter.widget-view+json": {
       "model_id": "c447e35881854161977f9a43dad2ce0d",
       "version_major": 2,
       "version_minor": 0
      },
      "text/plain": [
       "scheduler.pt:   0%|          | 0.00/1.06k [00:00<?, ?B/s]"
      ]
     },
     "metadata": {},
     "output_type": "display_data"
    },
    {
     "data": {
      "application/vnd.jupyter.widget-view+json": {
       "model_id": "54868b1019054136b7e7c0cfbdf261b9",
       "version_major": 2,
       "version_minor": 0
      },
      "text/plain": [
       "special_tokens_map.json:   0%|          | 0.00/459 [00:00<?, ?B/s]"
      ]
     },
     "metadata": {},
     "output_type": "display_data"
    },
    {
     "data": {
      "application/vnd.jupyter.widget-view+json": {
       "model_id": "ea43dd1c68674f8faa4112a2e91ae365",
       "version_major": 2,
       "version_minor": 0
      },
      "text/plain": [
       "tokenizer.json:   0%|          | 0.00/17.2M [00:00<?, ?B/s]"
      ]
     },
     "metadata": {},
     "output_type": "display_data"
    },
    {
     "data": {
      "application/vnd.jupyter.widget-view+json": {
       "model_id": "99643e41c75e4b96b49d22ab67f943dd",
       "version_major": 2,
       "version_minor": 0
      },
      "text/plain": [
       "tokenizer_config.json:   0%|          | 0.00/50.6k [00:00<?, ?B/s]"
      ]
     },
     "metadata": {},
     "output_type": "display_data"
    },
    {
     "data": {
      "application/vnd.jupyter.widget-view+json": {
       "model_id": "3776d726dca6460e8ae99df6124513e6",
       "version_major": 2,
       "version_minor": 0
      },
      "text/plain": [
       "trainer_state.json:   0%|          | 0.00/114k [00:00<?, ?B/s]"
      ]
     },
     "metadata": {},
     "output_type": "display_data"
    },
    {
     "data": {
      "application/vnd.jupyter.widget-view+json": {
       "model_id": "f027c35cbc9a460783e610c2d63122e2",
       "version_major": 2,
       "version_minor": 0
      },
      "text/plain": [
       "training_args.bin:   0%|          | 0.00/5.75k [00:00<?, ?B/s]"
      ]
     },
     "metadata": {},
     "output_type": "display_data"
    },
    {
     "data": {
      "application/vnd.jupyter.widget-view+json": {
       "model_id": "a5cde620ac8f49509a966ade45df4d03",
       "version_major": 2,
       "version_minor": 0
      },
      "text/plain": [
       "README.md:   0%|          | 0.00/5.12k [00:00<?, ?B/s]"
      ]
     },
     "metadata": {},
     "output_type": "display_data"
    },
    {
     "data": {
      "application/vnd.jupyter.widget-view+json": {
       "model_id": "6fc4a841e74a40bcba41e22f90887b08",
       "version_major": 2,
       "version_minor": 0
      },
      "text/plain": [
       "adapter_config.json:   0%|          | 0.00/812 [00:00<?, ?B/s]"
      ]
     },
     "metadata": {},
     "output_type": "display_data"
    },
    {
     "data": {
      "application/vnd.jupyter.widget-view+json": {
       "model_id": "e03cb6230712442585317f9919efd11e",
       "version_major": 2,
       "version_minor": 0
      },
      "text/plain": [
       "adapter_model.safetensors:   0%|          | 0.00/83.9M [00:00<?, ?B/s]"
      ]
     },
     "metadata": {},
     "output_type": "display_data"
    },
    {
     "data": {
      "application/vnd.jupyter.widget-view+json": {
       "model_id": "7c21ae456deb4970add9823593d7a6d6",
       "version_major": 2,
       "version_minor": 0
      },
      "text/plain": [
       "optimizer.pt:   0%|          | 0.00/44.3M [00:00<?, ?B/s]"
      ]
     },
     "metadata": {},
     "output_type": "display_data"
    },
    {
     "data": {
      "application/vnd.jupyter.widget-view+json": {
       "model_id": "f4d2075e40994a7c8970fd9389ac91c0",
       "version_major": 2,
       "version_minor": 0
      },
      "text/plain": [
       "rng_state.pth:   0%|          | 0.00/14.2k [00:00<?, ?B/s]"
      ]
     },
     "metadata": {},
     "output_type": "display_data"
    },
    {
     "data": {
      "application/vnd.jupyter.widget-view+json": {
       "model_id": "ab9ec3210bc74d98877b98e2b90cb172",
       "version_major": 2,
       "version_minor": 0
      },
      "text/plain": [
       "scheduler.pt:   0%|          | 0.00/1.06k [00:00<?, ?B/s]"
      ]
     },
     "metadata": {},
     "output_type": "display_data"
    },
    {
     "data": {
      "application/vnd.jupyter.widget-view+json": {
       "model_id": "f8e72c65aacb4da2aa784b078bb84de3",
       "version_major": 2,
       "version_minor": 0
      },
      "text/plain": [
       "special_tokens_map.json:   0%|          | 0.00/459 [00:00<?, ?B/s]"
      ]
     },
     "metadata": {},
     "output_type": "display_data"
    },
    {
     "data": {
      "application/vnd.jupyter.widget-view+json": {
       "model_id": "e8f481a6a29e4fc2b5bb3171e6597be2",
       "version_major": 2,
       "version_minor": 0
      },
      "text/plain": [
       "tokenizer.json:   0%|          | 0.00/17.2M [00:00<?, ?B/s]"
      ]
     },
     "metadata": {},
     "output_type": "display_data"
    },
    {
     "data": {
      "application/vnd.jupyter.widget-view+json": {
       "model_id": "58680036b61b468e9f15bf1ea1c2f343",
       "version_major": 2,
       "version_minor": 0
      },
      "text/plain": [
       "tokenizer_config.json:   0%|          | 0.00/50.6k [00:00<?, ?B/s]"
      ]
     },
     "metadata": {},
     "output_type": "display_data"
    },
    {
     "data": {
      "application/vnd.jupyter.widget-view+json": {
       "model_id": "5f6a06d69d8d43e1bfa103f4dd1228e5",
       "version_major": 2,
       "version_minor": 0
      },
      "text/plain": [
       "trainer_state.json:   0%|          | 0.00/122k [00:00<?, ?B/s]"
      ]
     },
     "metadata": {},
     "output_type": "display_data"
    },
    {
     "data": {
      "application/vnd.jupyter.widget-view+json": {
       "model_id": "4bd9686f0928414daeb508d6c46295a0",
       "version_major": 2,
       "version_minor": 0
      },
      "text/plain": [
       "training_args.bin:   0%|          | 0.00/5.75k [00:00<?, ?B/s]"
      ]
     },
     "metadata": {},
     "output_type": "display_data"
    },
    {
     "data": {
      "application/vnd.jupyter.widget-view+json": {
       "model_id": "e847094ca9e54a24b34b3161e25b2c0d",
       "version_major": 2,
       "version_minor": 0
      },
      "text/plain": [
       "(…).tfevents.1741182714.5172c9540b89.8159.0:   0%|          | 0.00/50.1k [00:00<?, ?B/s]"
      ]
     },
     "metadata": {},
     "output_type": "display_data"
    },
    {
     "data": {
      "application/vnd.jupyter.widget-view+json": {
       "model_id": "fa88e3c45db54fc7826826e713a5e3dd",
       "version_major": 2,
       "version_minor": 0
      },
      "text/plain": [
       "(…).tfevents.1741192136.40cd2355fd32.1061.0:   0%|          | 0.00/29.5k [00:00<?, ?B/s]"
      ]
     },
     "metadata": {},
     "output_type": "display_data"
    },
    {
     "data": {
      "application/vnd.jupyter.widget-view+json": {
       "model_id": "90022ca914274040b6897eeb2271b739",
       "version_major": 2,
       "version_minor": 0
      },
      "text/plain": [
       "(…).tfevents.1741219006.8da8ca61af90.1084.0:   0%|          | 0.00/29.5k [00:00<?, ?B/s]"
      ]
     },
     "metadata": {},
     "output_type": "display_data"
    },
    {
     "data": {
      "application/vnd.jupyter.widget-view+json": {
       "model_id": "7b8d68cfb2c04dfaab683b7e407fa74b",
       "version_major": 2,
       "version_minor": 0
      },
      "text/plain": [
       "(…).tfevents.1741232833.506a328f2d3f.1088.0:   0%|          | 0.00/74.1k [00:00<?, ?B/s]"
      ]
     },
     "metadata": {},
     "output_type": "display_data"
    },
    {
     "data": {
      "application/vnd.jupyter.widget-view+json": {
       "model_id": "9f79862414aa40e8a4d8ada178cbd7ad",
       "version_major": 2,
       "version_minor": 0
      },
      "text/plain": [
       "special_tokens_map.json:   0%|          | 0.00/459 [00:00<?, ?B/s]"
      ]
     },
     "metadata": {},
     "output_type": "display_data"
    },
    {
     "data": {
      "application/vnd.jupyter.widget-view+json": {
       "model_id": "e4e07f55e99b42838d09c8548965e2c9",
       "version_major": 2,
       "version_minor": 0
      },
      "text/plain": [
       "tokenizer.json:   0%|          | 0.00/17.2M [00:00<?, ?B/s]"
      ]
     },
     "metadata": {},
     "output_type": "display_data"
    },
    {
     "data": {
      "application/vnd.jupyter.widget-view+json": {
       "model_id": "a826cff811f44ed487994f7c74ca1eec",
       "version_major": 2,
       "version_minor": 0
      },
      "text/plain": [
       "tokenizer_config.json:   0%|          | 0.00/50.6k [00:00<?, ?B/s]"
      ]
     },
     "metadata": {},
     "output_type": "display_data"
    },
    {
     "data": {
      "application/vnd.jupyter.widget-view+json": {
       "model_id": "37ad0feb956e451dafd330e144f5fb55",
       "version_major": 2,
       "version_minor": 0
      },
      "text/plain": [
       "training_args.bin:   0%|          | 0.00/5.75k [00:00<?, ?B/s]"
      ]
     },
     "metadata": {},
     "output_type": "display_data"
    },
    {
     "data": {
      "application/vnd.google.colaboratory.intrinsic+json": {
       "type": "string"
      },
      "text/plain": [
       "'/content/L3.1-8B-wikipedia-en-LoRA-v20250305134947'"
      ]
     },
     "execution_count": 4,
     "metadata": {},
     "output_type": "execute_result"
    }
   ],
   "source": [
    "# Download trained LoRA\n",
    "snapshot_download(\n",
    "    repo_id=hf_lora_id, \n",
    "    local_dir=lora_dir, \n",
    "    # ignore_patterns='checkpoint-*/*',\n",
    ")"
   ]
  },
  {
   "cell_type": "markdown",
   "metadata": {},
   "source": [
    "# Model"
   ]
  },
  {
   "cell_type": "code",
   "execution_count": 5,
   "metadata": {},
   "outputs": [
    {
     "name": "stdout",
     "output_type": "stream",
     "text": [
      "==((====))==  Unsloth 2025.3.14: Fast Llama patching. Transformers: 4.48.3.\n",
      "   \\\\   /|    Tesla T4. Num GPUs = 1. Max memory: 14.741 GB. Platform: Linux.\n",
      "O^O/ \\_/ \\    Torch: 2.6.0+cu124. CUDA: 7.5. CUDA Toolkit: 12.4. Triton: 3.2.0\n",
      "\\        /    Bfloat16 = FALSE. FA [Xformers = None. FA2 = False]\n",
      " \"-____-\"     Free license: http://github.com/unslothai/unsloth\n",
      "Unsloth: Fast downloading is enabled - ignore downloading bars which are red colored!\n"
     ]
    },
    {
     "data": {
      "application/vnd.jupyter.widget-view+json": {
       "model_id": "7558d8871e9c4a02ad1f8af7e5d24174",
       "version_major": 2,
       "version_minor": 0
      },
      "text/plain": [
       "model.safetensors:   0%|          | 0.00/5.96G [00:00<?, ?B/s]"
      ]
     },
     "metadata": {},
     "output_type": "display_data"
    },
    {
     "data": {
      "application/vnd.jupyter.widget-view+json": {
       "model_id": "3b96a94ba4fc422ea0a5a4486e26ba25",
       "version_major": 2,
       "version_minor": 0
      },
      "text/plain": [
       "generation_config.json:   0%|          | 0.00/235 [00:00<?, ?B/s]"
      ]
     },
     "metadata": {},
     "output_type": "display_data"
    },
    {
     "data": {
      "application/vnd.jupyter.widget-view+json": {
       "model_id": "12352abd355347c8bdfac32386c7bb96",
       "version_major": 2,
       "version_minor": 0
      },
      "text/plain": [
       "tokenizer_config.json:   0%|          | 0.00/50.6k [00:00<?, ?B/s]"
      ]
     },
     "metadata": {},
     "output_type": "display_data"
    },
    {
     "data": {
      "application/vnd.jupyter.widget-view+json": {
       "model_id": "0cec4bec29e74cc1a221261cf8fe6ad0",
       "version_major": 2,
       "version_minor": 0
      },
      "text/plain": [
       "special_tokens_map.json:   0%|          | 0.00/459 [00:00<?, ?B/s]"
      ]
     },
     "metadata": {},
     "output_type": "display_data"
    },
    {
     "data": {
      "application/vnd.jupyter.widget-view+json": {
       "model_id": "e10c01b55f1246b6805b375e56ba03eb",
       "version_major": 2,
       "version_minor": 0
      },
      "text/plain": [
       "tokenizer.json:   0%|          | 0.00/17.2M [00:00<?, ?B/s]"
      ]
     },
     "metadata": {},
     "output_type": "display_data"
    },
    {
     "name": "stdout",
     "output_type": "stream",
     "text": [
      "LlamaForCausalLM(\n",
      "  (model): LlamaModel(\n",
      "    (embed_tokens): Embedding(128256, 4096, padding_idx=128004)\n",
      "    (layers): ModuleList(\n",
      "      (0): LlamaDecoderLayer(\n",
      "        (self_attn): LlamaAttention(\n",
      "          (q_proj): Linear4bit(in_features=4096, out_features=4096, bias=False)\n",
      "          (k_proj): Linear4bit(in_features=4096, out_features=1024, bias=False)\n",
      "          (v_proj): Linear4bit(in_features=4096, out_features=1024, bias=False)\n",
      "          (o_proj): Linear4bit(in_features=4096, out_features=4096, bias=False)\n",
      "          (rotary_emb): LlamaRotaryEmbedding()\n",
      "        )\n",
      "        (mlp): LlamaMLP(\n",
      "          (gate_proj): Linear4bit(in_features=4096, out_features=14336, bias=False)\n",
      "          (up_proj): Linear4bit(in_features=4096, out_features=14336, bias=False)\n",
      "          (down_proj): Linear4bit(in_features=14336, out_features=4096, bias=False)\n",
      "          (act_fn): SiLU()\n",
      "        )\n",
      "        (input_layernorm): LlamaRMSNorm((4096,), eps=1e-05)\n",
      "        (post_attention_layernorm): LlamaRMSNorm((4096,), eps=1e-05)\n",
      "      )\n",
      "      (1): LlamaDecoderLayer(\n",
      "        (self_attn): LlamaAttention(\n",
      "          (q_proj): Linear4bit(in_features=4096, out_features=4096, bias=False)\n",
      "          (k_proj): Linear4bit(in_features=4096, out_features=1024, bias=False)\n",
      "          (v_proj): Linear4bit(in_features=4096, out_features=1024, bias=False)\n",
      "          (o_proj): Linear4bit(in_features=4096, out_features=4096, bias=False)\n",
      "          (rotary_emb): LlamaRotaryEmbedding()\n",
      "        )\n",
      "        (mlp): LlamaMLP(\n",
      "          (gate_proj): Linear(in_features=4096, out_features=14336, bias=False)\n",
      "          (up_proj): Linear(in_features=4096, out_features=14336, bias=False)\n",
      "          (down_proj): Linear(in_features=14336, out_features=4096, bias=False)\n",
      "          (act_fn): SiLU()\n",
      "        )\n",
      "        (input_layernorm): LlamaRMSNorm((4096,), eps=1e-05)\n",
      "        (post_attention_layernorm): LlamaRMSNorm((4096,), eps=1e-05)\n",
      "      )\n",
      "      (2-31): 30 x LlamaDecoderLayer(\n",
      "        (self_attn): LlamaAttention(\n",
      "          (q_proj): Linear4bit(in_features=4096, out_features=4096, bias=False)\n",
      "          (k_proj): Linear4bit(in_features=4096, out_features=1024, bias=False)\n",
      "          (v_proj): Linear4bit(in_features=4096, out_features=1024, bias=False)\n",
      "          (o_proj): Linear4bit(in_features=4096, out_features=4096, bias=False)\n",
      "          (rotary_emb): LlamaRotaryEmbedding()\n",
      "        )\n",
      "        (mlp): LlamaMLP(\n",
      "          (gate_proj): Linear4bit(in_features=4096, out_features=14336, bias=False)\n",
      "          (up_proj): Linear4bit(in_features=4096, out_features=14336, bias=False)\n",
      "          (down_proj): Linear4bit(in_features=14336, out_features=4096, bias=False)\n",
      "          (act_fn): SiLU()\n",
      "        )\n",
      "        (input_layernorm): LlamaRMSNorm((4096,), eps=1e-05)\n",
      "        (post_attention_layernorm): LlamaRMSNorm((4096,), eps=1e-05)\n",
      "      )\n",
      "    )\n",
      "    (norm): LlamaRMSNorm((4096,), eps=1e-05)\n",
      "    (rotary_emb): LlamaRotaryEmbedding()\n",
      "  )\n",
      "  (lm_head): Linear(in_features=4096, out_features=128256, bias=False)\n",
      ")\n"
     ]
    }
   ],
   "source": [
    "model, tokenizer = FastLanguageModel.from_pretrained(\n",
    "    model_name='unsloth/Meta-Llama-3.1-8B',\n",
    "    max_seq_length=max_seq_length,\n",
    "    dtype=dtype,\n",
    "    load_in_4bit=load_in_4bit,\n",
    ")\n",
    "print(model)"
   ]
  },
  {
   "cell_type": "code",
   "execution_count": 7,
   "metadata": {},
   "outputs": [
    {
     "name": "stdout",
     "output_type": "stream",
     "text": [
      "{'_custom_modules': None,\n",
      " 'alpha_pattern': {},\n",
      " 'auto_mapping': None,\n",
      " 'base_model_name_or_path': 'unsloth/meta-llama-3.1-8b-unsloth-bnb-4bit',\n",
      " 'bias': 'none',\n",
      " 'eva_config': None,\n",
      " 'exclude_modules': None,\n",
      " 'fan_in_fan_out': False,\n",
      " 'inference_mode': True,\n",
      " 'init_lora_weights': True,\n",
      " 'layer_replication': None,\n",
      " 'layers_pattern': None,\n",
      " 'layers_to_transform': None,\n",
      " 'loftq_config': {},\n",
      " 'lora_alpha': 16,\n",
      " 'lora_bias': False,\n",
      " 'lora_dropout': 0,\n",
      " 'megatron_config': None,\n",
      " 'megatron_core': 'megatron.core',\n",
      " 'modules_to_save': None,\n",
      " 'peft_type': <PeftType.LORA: 'LORA'>,\n",
      " 'r': 8,\n",
      " 'rank_pattern': {},\n",
      " 'revision': None,\n",
      " 'runtime_config': LoraRuntimeConfig(ephemeral_gpu_offload=False),\n",
      " 'target_modules': {'down_proj',\n",
      "                    'gate_proj',\n",
      "                    'k_proj',\n",
      "                    'o_proj',\n",
      "                    'q_proj',\n",
      "                    'up_proj',\n",
      "                    'v_proj'},\n",
      " 'task_type': 'CAUSAL_LM',\n",
      " 'use_dora': False,\n",
      " 'use_rslora': False}\n"
     ]
    }
   ],
   "source": [
    "lora_config = LoraConfig.from_pretrained(lora_dir)\n",
    "pprint(lora_config.__dict__)"
   ]
  },
  {
   "cell_type": "code",
   "execution_count": 8,
   "metadata": {},
   "outputs": [
    {
     "name": "stdout",
     "output_type": "stream",
     "text": [
      "NeroModel(\n",
      "  (base_model): LlamaForCausalLM(\n",
      "    (model): LlamaModel(\n",
      "      (embed_tokens): Embedding(128256, 4096, padding_idx=128004)\n",
      "      (layers): ModuleList(\n",
      "        (0): LlamaDecoderLayer(\n",
      "          (self_attn): LlamaAttention(\n",
      "            (q_proj): NeroLayer(\n",
      "              (base_layer): Linear4bit(in_features=4096, out_features=4096, bias=False)\n",
      "              (lora_A): Linear(in_features=4096, out_features=8, bias=False)\n",
      "              (lora_B): Linear(in_features=8, out_features=4096, bias=False)\n",
      "              (nero_A): Linear(in_features=4096, out_features=8, bias=True)\n",
      "              (nero_B): Linear(in_features=8, out_features=4096, bias=True)\n",
      "            )\n",
      "            (k_proj): NeroLayer(\n",
      "              (base_layer): Linear4bit(in_features=4096, out_features=1024, bias=False)\n",
      "              (lora_A): Linear(in_features=4096, out_features=8, bias=False)\n",
      "              (lora_B): Linear(in_features=8, out_features=1024, bias=False)\n",
      "              (nero_A): Linear(in_features=1024, out_features=8, bias=True)\n",
      "              (nero_B): Linear(in_features=8, out_features=1024, bias=True)\n",
      "            )\n",
      "            (v_proj): NeroLayer(\n",
      "              (base_layer): Linear4bit(in_features=4096, out_features=1024, bias=False)\n",
      "              (lora_A): Linear(in_features=4096, out_features=8, bias=False)\n",
      "              (lora_B): Linear(in_features=8, out_features=1024, bias=False)\n",
      "              (nero_A): Linear(in_features=1024, out_features=8, bias=True)\n",
      "              (nero_B): Linear(in_features=8, out_features=1024, bias=True)\n",
      "            )\n",
      "            (o_proj): NeroLayer(\n",
      "              (base_layer): Linear4bit(in_features=4096, out_features=4096, bias=False)\n",
      "              (lora_A): Linear(in_features=4096, out_features=8, bias=False)\n",
      "              (lora_B): Linear(in_features=8, out_features=4096, bias=False)\n",
      "              (nero_A): Linear(in_features=4096, out_features=8, bias=True)\n",
      "              (nero_B): Linear(in_features=8, out_features=4096, bias=True)\n",
      "            )\n",
      "            (rotary_emb): LlamaRotaryEmbedding()\n",
      "          )\n",
      "          (mlp): LlamaMLP(\n",
      "            (gate_proj): NeroLayer(\n",
      "              (base_layer): Linear4bit(in_features=4096, out_features=14336, bias=False)\n",
      "              (lora_A): Linear(in_features=4096, out_features=8, bias=False)\n",
      "              (lora_B): Linear(in_features=8, out_features=14336, bias=False)\n",
      "              (nero_A): Linear(in_features=14336, out_features=8, bias=True)\n",
      "              (nero_B): Linear(in_features=8, out_features=14336, bias=True)\n",
      "            )\n",
      "            (up_proj): NeroLayer(\n",
      "              (base_layer): Linear4bit(in_features=4096, out_features=14336, bias=False)\n",
      "              (lora_A): Linear(in_features=4096, out_features=8, bias=False)\n",
      "              (lora_B): Linear(in_features=8, out_features=14336, bias=False)\n",
      "              (nero_A): Linear(in_features=14336, out_features=8, bias=True)\n",
      "              (nero_B): Linear(in_features=8, out_features=14336, bias=True)\n",
      "            )\n",
      "            (down_proj): NeroLayer(\n",
      "              (base_layer): Linear4bit(in_features=14336, out_features=4096, bias=False)\n",
      "              (lora_A): Linear(in_features=14336, out_features=8, bias=False)\n",
      "              (lora_B): Linear(in_features=8, out_features=4096, bias=False)\n",
      "              (nero_A): Linear(in_features=4096, out_features=8, bias=True)\n",
      "              (nero_B): Linear(in_features=8, out_features=4096, bias=True)\n",
      "            )\n",
      "            (act_fn): SiLU()\n",
      "          )\n",
      "          (input_layernorm): LlamaRMSNorm((4096,), eps=1e-05)\n",
      "          (post_attention_layernorm): LlamaRMSNorm((4096,), eps=1e-05)\n",
      "        )\n",
      "        (1): LlamaDecoderLayer(\n",
      "          (self_attn): LlamaAttention(\n",
      "            (q_proj): NeroLayer(\n",
      "              (base_layer): Linear4bit(in_features=4096, out_features=4096, bias=False)\n",
      "              (lora_A): Linear(in_features=4096, out_features=8, bias=False)\n",
      "              (lora_B): Linear(in_features=8, out_features=4096, bias=False)\n",
      "              (nero_A): Linear(in_features=4096, out_features=8, bias=True)\n",
      "              (nero_B): Linear(in_features=8, out_features=4096, bias=True)\n",
      "            )\n",
      "            (k_proj): NeroLayer(\n",
      "              (base_layer): Linear4bit(in_features=4096, out_features=1024, bias=False)\n",
      "              (lora_A): Linear(in_features=4096, out_features=8, bias=False)\n",
      "              (lora_B): Linear(in_features=8, out_features=1024, bias=False)\n",
      "              (nero_A): Linear(in_features=1024, out_features=8, bias=True)\n",
      "              (nero_B): Linear(in_features=8, out_features=1024, bias=True)\n",
      "            )\n",
      "            (v_proj): NeroLayer(\n",
      "              (base_layer): Linear4bit(in_features=4096, out_features=1024, bias=False)\n",
      "              (lora_A): Linear(in_features=4096, out_features=8, bias=False)\n",
      "              (lora_B): Linear(in_features=8, out_features=1024, bias=False)\n",
      "              (nero_A): Linear(in_features=1024, out_features=8, bias=True)\n",
      "              (nero_B): Linear(in_features=8, out_features=1024, bias=True)\n",
      "            )\n",
      "            (o_proj): NeroLayer(\n",
      "              (base_layer): Linear4bit(in_features=4096, out_features=4096, bias=False)\n",
      "              (lora_A): Linear(in_features=4096, out_features=8, bias=False)\n",
      "              (lora_B): Linear(in_features=8, out_features=4096, bias=False)\n",
      "              (nero_A): Linear(in_features=4096, out_features=8, bias=True)\n",
      "              (nero_B): Linear(in_features=8, out_features=4096, bias=True)\n",
      "            )\n",
      "            (rotary_emb): LlamaRotaryEmbedding()\n",
      "          )\n",
      "          (mlp): LlamaMLP(\n",
      "            (gate_proj): NeroLayer(\n",
      "              (base_layer): Linear(in_features=4096, out_features=14336, bias=False)\n",
      "              (lora_A): Linear(in_features=4096, out_features=8, bias=False)\n",
      "              (lora_B): Linear(in_features=8, out_features=14336, bias=False)\n",
      "              (nero_A): Linear(in_features=14336, out_features=8, bias=True)\n",
      "              (nero_B): Linear(in_features=8, out_features=14336, bias=True)\n",
      "            )\n",
      "            (up_proj): NeroLayer(\n",
      "              (base_layer): Linear(in_features=4096, out_features=14336, bias=False)\n",
      "              (lora_A): Linear(in_features=4096, out_features=8, bias=False)\n",
      "              (lora_B): Linear(in_features=8, out_features=14336, bias=False)\n",
      "              (nero_A): Linear(in_features=14336, out_features=8, bias=True)\n",
      "              (nero_B): Linear(in_features=8, out_features=14336, bias=True)\n",
      "            )\n",
      "            (down_proj): NeroLayer(\n",
      "              (base_layer): Linear(in_features=14336, out_features=4096, bias=False)\n",
      "              (lora_A): Linear(in_features=14336, out_features=8, bias=False)\n",
      "              (lora_B): Linear(in_features=8, out_features=4096, bias=False)\n",
      "              (nero_A): Linear(in_features=4096, out_features=8, bias=True)\n",
      "              (nero_B): Linear(in_features=8, out_features=4096, bias=True)\n",
      "            )\n",
      "            (act_fn): SiLU()\n",
      "          )\n",
      "          (input_layernorm): LlamaRMSNorm((4096,), eps=1e-05)\n",
      "          (post_attention_layernorm): LlamaRMSNorm((4096,), eps=1e-05)\n",
      "        )\n",
      "        (2-31): 30 x LlamaDecoderLayer(\n",
      "          (self_attn): LlamaAttention(\n",
      "            (q_proj): NeroLayer(\n",
      "              (base_layer): Linear4bit(in_features=4096, out_features=4096, bias=False)\n",
      "              (lora_A): Linear(in_features=4096, out_features=8, bias=False)\n",
      "              (lora_B): Linear(in_features=8, out_features=4096, bias=False)\n",
      "              (nero_A): Linear(in_features=4096, out_features=8, bias=True)\n",
      "              (nero_B): Linear(in_features=8, out_features=4096, bias=True)\n",
      "            )\n",
      "            (k_proj): NeroLayer(\n",
      "              (base_layer): Linear4bit(in_features=4096, out_features=1024, bias=False)\n",
      "              (lora_A): Linear(in_features=4096, out_features=8, bias=False)\n",
      "              (lora_B): Linear(in_features=8, out_features=1024, bias=False)\n",
      "              (nero_A): Linear(in_features=1024, out_features=8, bias=True)\n",
      "              (nero_B): Linear(in_features=8, out_features=1024, bias=True)\n",
      "            )\n",
      "            (v_proj): NeroLayer(\n",
      "              (base_layer): Linear4bit(in_features=4096, out_features=1024, bias=False)\n",
      "              (lora_A): Linear(in_features=4096, out_features=8, bias=False)\n",
      "              (lora_B): Linear(in_features=8, out_features=1024, bias=False)\n",
      "              (nero_A): Linear(in_features=1024, out_features=8, bias=True)\n",
      "              (nero_B): Linear(in_features=8, out_features=1024, bias=True)\n",
      "            )\n",
      "            (o_proj): NeroLayer(\n",
      "              (base_layer): Linear4bit(in_features=4096, out_features=4096, bias=False)\n",
      "              (lora_A): Linear(in_features=4096, out_features=8, bias=False)\n",
      "              (lora_B): Linear(in_features=8, out_features=4096, bias=False)\n",
      "              (nero_A): Linear(in_features=4096, out_features=8, bias=True)\n",
      "              (nero_B): Linear(in_features=8, out_features=4096, bias=True)\n",
      "            )\n",
      "            (rotary_emb): LlamaRotaryEmbedding()\n",
      "          )\n",
      "          (mlp): LlamaMLP(\n",
      "            (gate_proj): NeroLayer(\n",
      "              (base_layer): Linear4bit(in_features=4096, out_features=14336, bias=False)\n",
      "              (lora_A): Linear(in_features=4096, out_features=8, bias=False)\n",
      "              (lora_B): Linear(in_features=8, out_features=14336, bias=False)\n",
      "              (nero_A): Linear(in_features=14336, out_features=8, bias=True)\n",
      "              (nero_B): Linear(in_features=8, out_features=14336, bias=True)\n",
      "            )\n",
      "            (up_proj): NeroLayer(\n",
      "              (base_layer): Linear4bit(in_features=4096, out_features=14336, bias=False)\n",
      "              (lora_A): Linear(in_features=4096, out_features=8, bias=False)\n",
      "              (lora_B): Linear(in_features=8, out_features=14336, bias=False)\n",
      "              (nero_A): Linear(in_features=14336, out_features=8, bias=True)\n",
      "              (nero_B): Linear(in_features=8, out_features=14336, bias=True)\n",
      "            )\n",
      "            (down_proj): NeroLayer(\n",
      "              (base_layer): Linear4bit(in_features=14336, out_features=4096, bias=False)\n",
      "              (lora_A): Linear(in_features=14336, out_features=8, bias=False)\n",
      "              (lora_B): Linear(in_features=8, out_features=4096, bias=False)\n",
      "              (nero_A): Linear(in_features=4096, out_features=8, bias=True)\n",
      "              (nero_B): Linear(in_features=8, out_features=4096, bias=True)\n",
      "            )\n",
      "            (act_fn): SiLU()\n",
      "          )\n",
      "          (input_layernorm): LlamaRMSNorm((4096,), eps=1e-05)\n",
      "          (post_attention_layernorm): LlamaRMSNorm((4096,), eps=1e-05)\n",
      "        )\n",
      "      )\n",
      "      (norm): LlamaRMSNorm((4096,), eps=1e-05)\n",
      "      (rotary_emb): LlamaRotaryEmbedding()\n",
      "    )\n",
      "    (lm_head): Linear(in_features=4096, out_features=128256, bias=False)\n",
      "  )\n",
      "  (nero_layers): ModuleDict(\n",
      "    (layers__DOT__0__DOT__self_attn__DOT__q_proj): NeroLayer(\n",
      "      (base_layer): Linear4bit(in_features=4096, out_features=4096, bias=False)\n",
      "      (lora_A): Linear(in_features=4096, out_features=8, bias=False)\n",
      "      (lora_B): Linear(in_features=8, out_features=4096, bias=False)\n",
      "      (nero_A): Linear(in_features=4096, out_features=8, bias=True)\n",
      "      (nero_B): Linear(in_features=8, out_features=4096, bias=True)\n",
      "    )\n",
      "    (layers__DOT__0__DOT__self_attn__DOT__k_proj): NeroLayer(\n",
      "      (base_layer): Linear4bit(in_features=4096, out_features=1024, bias=False)\n",
      "      (lora_A): Linear(in_features=4096, out_features=8, bias=False)\n",
      "      (lora_B): Linear(in_features=8, out_features=1024, bias=False)\n",
      "      (nero_A): Linear(in_features=1024, out_features=8, bias=True)\n",
      "      (nero_B): Linear(in_features=8, out_features=1024, bias=True)\n",
      "    )\n",
      "    (layers__DOT__0__DOT__self_attn__DOT__v_proj): NeroLayer(\n",
      "      (base_layer): Linear4bit(in_features=4096, out_features=1024, bias=False)\n",
      "      (lora_A): Linear(in_features=4096, out_features=8, bias=False)\n",
      "      (lora_B): Linear(in_features=8, out_features=1024, bias=False)\n",
      "      (nero_A): Linear(in_features=1024, out_features=8, bias=True)\n",
      "      (nero_B): Linear(in_features=8, out_features=1024, bias=True)\n",
      "    )\n",
      "    (layers__DOT__0__DOT__self_attn__DOT__o_proj): NeroLayer(\n",
      "      (base_layer): Linear4bit(in_features=4096, out_features=4096, bias=False)\n",
      "      (lora_A): Linear(in_features=4096, out_features=8, bias=False)\n",
      "      (lora_B): Linear(in_features=8, out_features=4096, bias=False)\n",
      "      (nero_A): Linear(in_features=4096, out_features=8, bias=True)\n",
      "      (nero_B): Linear(in_features=8, out_features=4096, bias=True)\n",
      "    )\n",
      "    (layers__DOT__0__DOT__mlp__DOT__gate_proj): NeroLayer(\n",
      "      (base_layer): Linear4bit(in_features=4096, out_features=14336, bias=False)\n",
      "      (lora_A): Linear(in_features=4096, out_features=8, bias=False)\n",
      "      (lora_B): Linear(in_features=8, out_features=14336, bias=False)\n",
      "      (nero_A): Linear(in_features=14336, out_features=8, bias=True)\n",
      "      (nero_B): Linear(in_features=8, out_features=14336, bias=True)\n",
      "    )\n",
      "    (layers__DOT__0__DOT__mlp__DOT__up_proj): NeroLayer(\n",
      "      (base_layer): Linear4bit(in_features=4096, out_features=14336, bias=False)\n",
      "      (lora_A): Linear(in_features=4096, out_features=8, bias=False)\n",
      "      (lora_B): Linear(in_features=8, out_features=14336, bias=False)\n",
      "      (nero_A): Linear(in_features=14336, out_features=8, bias=True)\n",
      "      (nero_B): Linear(in_features=8, out_features=14336, bias=True)\n",
      "    )\n",
      "    (layers__DOT__0__DOT__mlp__DOT__down_proj): NeroLayer(\n",
      "      (base_layer): Linear4bit(in_features=14336, out_features=4096, bias=False)\n",
      "      (lora_A): Linear(in_features=14336, out_features=8, bias=False)\n",
      "      (lora_B): Linear(in_features=8, out_features=4096, bias=False)\n",
      "      (nero_A): Linear(in_features=4096, out_features=8, bias=True)\n",
      "      (nero_B): Linear(in_features=8, out_features=4096, bias=True)\n",
      "    )\n",
      "    (layers__DOT__1__DOT__self_attn__DOT__q_proj): NeroLayer(\n",
      "      (base_layer): Linear4bit(in_features=4096, out_features=4096, bias=False)\n",
      "      (lora_A): Linear(in_features=4096, out_features=8, bias=False)\n",
      "      (lora_B): Linear(in_features=8, out_features=4096, bias=False)\n",
      "      (nero_A): Linear(in_features=4096, out_features=8, bias=True)\n",
      "      (nero_B): Linear(in_features=8, out_features=4096, bias=True)\n",
      "    )\n",
      "    (layers__DOT__1__DOT__self_attn__DOT__k_proj): NeroLayer(\n",
      "      (base_layer): Linear4bit(in_features=4096, out_features=1024, bias=False)\n",
      "      (lora_A): Linear(in_features=4096, out_features=8, bias=False)\n",
      "      (lora_B): Linear(in_features=8, out_features=1024, bias=False)\n",
      "      (nero_A): Linear(in_features=1024, out_features=8, bias=True)\n",
      "      (nero_B): Linear(in_features=8, out_features=1024, bias=True)\n",
      "    )\n",
      "    (layers__DOT__1__DOT__self_attn__DOT__v_proj): NeroLayer(\n",
      "      (base_layer): Linear4bit(in_features=4096, out_features=1024, bias=False)\n",
      "      (lora_A): Linear(in_features=4096, out_features=8, bias=False)\n",
      "      (lora_B): Linear(in_features=8, out_features=1024, bias=False)\n",
      "      (nero_A): Linear(in_features=1024, out_features=8, bias=True)\n",
      "      (nero_B): Linear(in_features=8, out_features=1024, bias=True)\n",
      "    )\n",
      "    (layers__DOT__1__DOT__self_attn__DOT__o_proj): NeroLayer(\n",
      "      (base_layer): Linear4bit(in_features=4096, out_features=4096, bias=False)\n",
      "      (lora_A): Linear(in_features=4096, out_features=8, bias=False)\n",
      "      (lora_B): Linear(in_features=8, out_features=4096, bias=False)\n",
      "      (nero_A): Linear(in_features=4096, out_features=8, bias=True)\n",
      "      (nero_B): Linear(in_features=8, out_features=4096, bias=True)\n",
      "    )\n",
      "    (layers__DOT__1__DOT__mlp__DOT__gate_proj): NeroLayer(\n",
      "      (base_layer): Linear(in_features=4096, out_features=14336, bias=False)\n",
      "      (lora_A): Linear(in_features=4096, out_features=8, bias=False)\n",
      "      (lora_B): Linear(in_features=8, out_features=14336, bias=False)\n",
      "      (nero_A): Linear(in_features=14336, out_features=8, bias=True)\n",
      "      (nero_B): Linear(in_features=8, out_features=14336, bias=True)\n",
      "    )\n",
      "    (layers__DOT__1__DOT__mlp__DOT__up_proj): NeroLayer(\n",
      "      (base_layer): Linear(in_features=4096, out_features=14336, bias=False)\n",
      "      (lora_A): Linear(in_features=4096, out_features=8, bias=False)\n",
      "      (lora_B): Linear(in_features=8, out_features=14336, bias=False)\n",
      "      (nero_A): Linear(in_features=14336, out_features=8, bias=True)\n",
      "      (nero_B): Linear(in_features=8, out_features=14336, bias=True)\n",
      "    )\n",
      "    (layers__DOT__1__DOT__mlp__DOT__down_proj): NeroLayer(\n",
      "      (base_layer): Linear(in_features=14336, out_features=4096, bias=False)\n",
      "      (lora_A): Linear(in_features=14336, out_features=8, bias=False)\n",
      "      (lora_B): Linear(in_features=8, out_features=4096, bias=False)\n",
      "      (nero_A): Linear(in_features=4096, out_features=8, bias=True)\n",
      "      (nero_B): Linear(in_features=8, out_features=4096, bias=True)\n",
      "    )\n",
      "    (layers__DOT__2__DOT__self_attn__DOT__q_proj): NeroLayer(\n",
      "      (base_layer): Linear4bit(in_features=4096, out_features=4096, bias=False)\n",
      "      (lora_A): Linear(in_features=4096, out_features=8, bias=False)\n",
      "      (lora_B): Linear(in_features=8, out_features=4096, bias=False)\n",
      "      (nero_A): Linear(in_features=4096, out_features=8, bias=True)\n",
      "      (nero_B): Linear(in_features=8, out_features=4096, bias=True)\n",
      "    )\n",
      "    (layers__DOT__2__DOT__self_attn__DOT__k_proj): NeroLayer(\n",
      "      (base_layer): Linear4bit(in_features=4096, out_features=1024, bias=False)\n",
      "      (lora_A): Linear(in_features=4096, out_features=8, bias=False)\n",
      "      (lora_B): Linear(in_features=8, out_features=1024, bias=False)\n",
      "      (nero_A): Linear(in_features=1024, out_features=8, bias=True)\n",
      "      (nero_B): Linear(in_features=8, out_features=1024, bias=True)\n",
      "    )\n",
      "    (layers__DOT__2__DOT__self_attn__DOT__v_proj): NeroLayer(\n",
      "      (base_layer): Linear4bit(in_features=4096, out_features=1024, bias=False)\n",
      "      (lora_A): Linear(in_features=4096, out_features=8, bias=False)\n",
      "      (lora_B): Linear(in_features=8, out_features=1024, bias=False)\n",
      "      (nero_A): Linear(in_features=1024, out_features=8, bias=True)\n",
      "      (nero_B): Linear(in_features=8, out_features=1024, bias=True)\n",
      "    )\n",
      "    (layers__DOT__2__DOT__self_attn__DOT__o_proj): NeroLayer(\n",
      "      (base_layer): Linear4bit(in_features=4096, out_features=4096, bias=False)\n",
      "      (lora_A): Linear(in_features=4096, out_features=8, bias=False)\n",
      "      (lora_B): Linear(in_features=8, out_features=4096, bias=False)\n",
      "      (nero_A): Linear(in_features=4096, out_features=8, bias=True)\n",
      "      (nero_B): Linear(in_features=8, out_features=4096, bias=True)\n",
      "    )\n",
      "    (layers__DOT__2__DOT__mlp__DOT__gate_proj): NeroLayer(\n",
      "      (base_layer): Linear4bit(in_features=4096, out_features=14336, bias=False)\n",
      "      (lora_A): Linear(in_features=4096, out_features=8, bias=False)\n",
      "      (lora_B): Linear(in_features=8, out_features=14336, bias=False)\n",
      "      (nero_A): Linear(in_features=14336, out_features=8, bias=True)\n",
      "      (nero_B): Linear(in_features=8, out_features=14336, bias=True)\n",
      "    )\n",
      "    (layers__DOT__2__DOT__mlp__DOT__up_proj): NeroLayer(\n",
      "      (base_layer): Linear4bit(in_features=4096, out_features=14336, bias=False)\n",
      "      (lora_A): Linear(in_features=4096, out_features=8, bias=False)\n",
      "      (lora_B): Linear(in_features=8, out_features=14336, bias=False)\n",
      "      (nero_A): Linear(in_features=14336, out_features=8, bias=True)\n",
      "      (nero_B): Linear(in_features=8, out_features=14336, bias=True)\n",
      "    )\n",
      "    (layers__DOT__2__DOT__mlp__DOT__down_proj): NeroLayer(\n",
      "      (base_layer): Linear4bit(in_features=14336, out_features=4096, bias=False)\n",
      "      (lora_A): Linear(in_features=14336, out_features=8, bias=False)\n",
      "      (lora_B): Linear(in_features=8, out_features=4096, bias=False)\n",
      "      (nero_A): Linear(in_features=4096, out_features=8, bias=True)\n",
      "      (nero_B): Linear(in_features=8, out_features=4096, bias=True)\n",
      "    )\n",
      "    (layers__DOT__3__DOT__self_attn__DOT__q_proj): NeroLayer(\n",
      "      (base_layer): Linear4bit(in_features=4096, out_features=4096, bias=False)\n",
      "      (lora_A): Linear(in_features=4096, out_features=8, bias=False)\n",
      "      (lora_B): Linear(in_features=8, out_features=4096, bias=False)\n",
      "      (nero_A): Linear(in_features=4096, out_features=8, bias=True)\n",
      "      (nero_B): Linear(in_features=8, out_features=4096, bias=True)\n",
      "    )\n",
      "    (layers__DOT__3__DOT__self_attn__DOT__k_proj): NeroLayer(\n",
      "      (base_layer): Linear4bit(in_features=4096, out_features=1024, bias=False)\n",
      "      (lora_A): Linear(in_features=4096, out_features=8, bias=False)\n",
      "      (lora_B): Linear(in_features=8, out_features=1024, bias=False)\n",
      "      (nero_A): Linear(in_features=1024, out_features=8, bias=True)\n",
      "      (nero_B): Linear(in_features=8, out_features=1024, bias=True)\n",
      "    )\n",
      "    (layers__DOT__3__DOT__self_attn__DOT__v_proj): NeroLayer(\n",
      "      (base_layer): Linear4bit(in_features=4096, out_features=1024, bias=False)\n",
      "      (lora_A): Linear(in_features=4096, out_features=8, bias=False)\n",
      "      (lora_B): Linear(in_features=8, out_features=1024, bias=False)\n",
      "      (nero_A): Linear(in_features=1024, out_features=8, bias=True)\n",
      "      (nero_B): Linear(in_features=8, out_features=1024, bias=True)\n",
      "    )\n",
      "    (layers__DOT__3__DOT__self_attn__DOT__o_proj): NeroLayer(\n",
      "      (base_layer): Linear4bit(in_features=4096, out_features=4096, bias=False)\n",
      "      (lora_A): Linear(in_features=4096, out_features=8, bias=False)\n",
      "      (lora_B): Linear(in_features=8, out_features=4096, bias=False)\n",
      "      (nero_A): Linear(in_features=4096, out_features=8, bias=True)\n",
      "      (nero_B): Linear(in_features=8, out_features=4096, bias=True)\n",
      "    )\n",
      "    (layers__DOT__3__DOT__mlp__DOT__gate_proj): NeroLayer(\n",
      "      (base_layer): Linear4bit(in_features=4096, out_features=14336, bias=False)\n",
      "      (lora_A): Linear(in_features=4096, out_features=8, bias=False)\n",
      "      (lora_B): Linear(in_features=8, out_features=14336, bias=False)\n",
      "      (nero_A): Linear(in_features=14336, out_features=8, bias=True)\n",
      "      (nero_B): Linear(in_features=8, out_features=14336, bias=True)\n",
      "    )\n",
      "    (layers__DOT__3__DOT__mlp__DOT__up_proj): NeroLayer(\n",
      "      (base_layer): Linear4bit(in_features=4096, out_features=14336, bias=False)\n",
      "      (lora_A): Linear(in_features=4096, out_features=8, bias=False)\n",
      "      (lora_B): Linear(in_features=8, out_features=14336, bias=False)\n",
      "      (nero_A): Linear(in_features=14336, out_features=8, bias=True)\n",
      "      (nero_B): Linear(in_features=8, out_features=14336, bias=True)\n",
      "    )\n",
      "    (layers__DOT__3__DOT__mlp__DOT__down_proj): NeroLayer(\n",
      "      (base_layer): Linear4bit(in_features=14336, out_features=4096, bias=False)\n",
      "      (lora_A): Linear(in_features=14336, out_features=8, bias=False)\n",
      "      (lora_B): Linear(in_features=8, out_features=4096, bias=False)\n",
      "      (nero_A): Linear(in_features=4096, out_features=8, bias=True)\n",
      "      (nero_B): Linear(in_features=8, out_features=4096, bias=True)\n",
      "    )\n",
      "    (layers__DOT__4__DOT__self_attn__DOT__q_proj): NeroLayer(\n",
      "      (base_layer): Linear4bit(in_features=4096, out_features=4096, bias=False)\n",
      "      (lora_A): Linear(in_features=4096, out_features=8, bias=False)\n",
      "      (lora_B): Linear(in_features=8, out_features=4096, bias=False)\n",
      "      (nero_A): Linear(in_features=4096, out_features=8, bias=True)\n",
      "      (nero_B): Linear(in_features=8, out_features=4096, bias=True)\n",
      "    )\n",
      "    (layers__DOT__4__DOT__self_attn__DOT__k_proj): NeroLayer(\n",
      "      (base_layer): Linear4bit(in_features=4096, out_features=1024, bias=False)\n",
      "      (lora_A): Linear(in_features=4096, out_features=8, bias=False)\n",
      "      (lora_B): Linear(in_features=8, out_features=1024, bias=False)\n",
      "      (nero_A): Linear(in_features=1024, out_features=8, bias=True)\n",
      "      (nero_B): Linear(in_features=8, out_features=1024, bias=True)\n",
      "    )\n",
      "    (layers__DOT__4__DOT__self_attn__DOT__v_proj): NeroLayer(\n",
      "      (base_layer): Linear4bit(in_features=4096, out_features=1024, bias=False)\n",
      "      (lora_A): Linear(in_features=4096, out_features=8, bias=False)\n",
      "      (lora_B): Linear(in_features=8, out_features=1024, bias=False)\n",
      "      (nero_A): Linear(in_features=1024, out_features=8, bias=True)\n",
      "      (nero_B): Linear(in_features=8, out_features=1024, bias=True)\n",
      "    )\n",
      "    (layers__DOT__4__DOT__self_attn__DOT__o_proj): NeroLayer(\n",
      "      (base_layer): Linear4bit(in_features=4096, out_features=4096, bias=False)\n",
      "      (lora_A): Linear(in_features=4096, out_features=8, bias=False)\n",
      "      (lora_B): Linear(in_features=8, out_features=4096, bias=False)\n",
      "      (nero_A): Linear(in_features=4096, out_features=8, bias=True)\n",
      "      (nero_B): Linear(in_features=8, out_features=4096, bias=True)\n",
      "    )\n",
      "    (layers__DOT__4__DOT__mlp__DOT__gate_proj): NeroLayer(\n",
      "      (base_layer): Linear4bit(in_features=4096, out_features=14336, bias=False)\n",
      "      (lora_A): Linear(in_features=4096, out_features=8, bias=False)\n",
      "      (lora_B): Linear(in_features=8, out_features=14336, bias=False)\n",
      "      (nero_A): Linear(in_features=14336, out_features=8, bias=True)\n",
      "      (nero_B): Linear(in_features=8, out_features=14336, bias=True)\n",
      "    )\n",
      "    (layers__DOT__4__DOT__mlp__DOT__up_proj): NeroLayer(\n",
      "      (base_layer): Linear4bit(in_features=4096, out_features=14336, bias=False)\n",
      "      (lora_A): Linear(in_features=4096, out_features=8, bias=False)\n",
      "      (lora_B): Linear(in_features=8, out_features=14336, bias=False)\n",
      "      (nero_A): Linear(in_features=14336, out_features=8, bias=True)\n",
      "      (nero_B): Linear(in_features=8, out_features=14336, bias=True)\n",
      "    )\n",
      "    (layers__DOT__4__DOT__mlp__DOT__down_proj): NeroLayer(\n",
      "      (base_layer): Linear4bit(in_features=14336, out_features=4096, bias=False)\n",
      "      (lora_A): Linear(in_features=14336, out_features=8, bias=False)\n",
      "      (lora_B): Linear(in_features=8, out_features=4096, bias=False)\n",
      "      (nero_A): Linear(in_features=4096, out_features=8, bias=True)\n",
      "      (nero_B): Linear(in_features=8, out_features=4096, bias=True)\n",
      "    )\n",
      "    (layers__DOT__5__DOT__self_attn__DOT__q_proj): NeroLayer(\n",
      "      (base_layer): Linear4bit(in_features=4096, out_features=4096, bias=False)\n",
      "      (lora_A): Linear(in_features=4096, out_features=8, bias=False)\n",
      "      (lora_B): Linear(in_features=8, out_features=4096, bias=False)\n",
      "      (nero_A): Linear(in_features=4096, out_features=8, bias=True)\n",
      "      (nero_B): Linear(in_features=8, out_features=4096, bias=True)\n",
      "    )\n",
      "    (layers__DOT__5__DOT__self_attn__DOT__k_proj): NeroLayer(\n",
      "      (base_layer): Linear4bit(in_features=4096, out_features=1024, bias=False)\n",
      "      (lora_A): Linear(in_features=4096, out_features=8, bias=False)\n",
      "      (lora_B): Linear(in_features=8, out_features=1024, bias=False)\n",
      "      (nero_A): Linear(in_features=1024, out_features=8, bias=True)\n",
      "      (nero_B): Linear(in_features=8, out_features=1024, bias=True)\n",
      "    )\n",
      "    (layers__DOT__5__DOT__self_attn__DOT__v_proj): NeroLayer(\n",
      "      (base_layer): Linear4bit(in_features=4096, out_features=1024, bias=False)\n",
      "      (lora_A): Linear(in_features=4096, out_features=8, bias=False)\n",
      "      (lora_B): Linear(in_features=8, out_features=1024, bias=False)\n",
      "      (nero_A): Linear(in_features=1024, out_features=8, bias=True)\n",
      "      (nero_B): Linear(in_features=8, out_features=1024, bias=True)\n",
      "    )\n",
      "    (layers__DOT__5__DOT__self_attn__DOT__o_proj): NeroLayer(\n",
      "      (base_layer): Linear4bit(in_features=4096, out_features=4096, bias=False)\n",
      "      (lora_A): Linear(in_features=4096, out_features=8, bias=False)\n",
      "      (lora_B): Linear(in_features=8, out_features=4096, bias=False)\n",
      "      (nero_A): Linear(in_features=4096, out_features=8, bias=True)\n",
      "      (nero_B): Linear(in_features=8, out_features=4096, bias=True)\n",
      "    )\n",
      "    (layers__DOT__5__DOT__mlp__DOT__gate_proj): NeroLayer(\n",
      "      (base_layer): Linear4bit(in_features=4096, out_features=14336, bias=False)\n",
      "      (lora_A): Linear(in_features=4096, out_features=8, bias=False)\n",
      "      (lora_B): Linear(in_features=8, out_features=14336, bias=False)\n",
      "      (nero_A): Linear(in_features=14336, out_features=8, bias=True)\n",
      "      (nero_B): Linear(in_features=8, out_features=14336, bias=True)\n",
      "    )\n",
      "    (layers__DOT__5__DOT__mlp__DOT__up_proj): NeroLayer(\n",
      "      (base_layer): Linear4bit(in_features=4096, out_features=14336, bias=False)\n",
      "      (lora_A): Linear(in_features=4096, out_features=8, bias=False)\n",
      "      (lora_B): Linear(in_features=8, out_features=14336, bias=False)\n",
      "      (nero_A): Linear(in_features=14336, out_features=8, bias=True)\n",
      "      (nero_B): Linear(in_features=8, out_features=14336, bias=True)\n",
      "    )\n",
      "    (layers__DOT__5__DOT__mlp__DOT__down_proj): NeroLayer(\n",
      "      (base_layer): Linear4bit(in_features=14336, out_features=4096, bias=False)\n",
      "      (lora_A): Linear(in_features=14336, out_features=8, bias=False)\n",
      "      (lora_B): Linear(in_features=8, out_features=4096, bias=False)\n",
      "      (nero_A): Linear(in_features=4096, out_features=8, bias=True)\n",
      "      (nero_B): Linear(in_features=8, out_features=4096, bias=True)\n",
      "    )\n",
      "    (layers__DOT__6__DOT__self_attn__DOT__q_proj): NeroLayer(\n",
      "      (base_layer): Linear4bit(in_features=4096, out_features=4096, bias=False)\n",
      "      (lora_A): Linear(in_features=4096, out_features=8, bias=False)\n",
      "      (lora_B): Linear(in_features=8, out_features=4096, bias=False)\n",
      "      (nero_A): Linear(in_features=4096, out_features=8, bias=True)\n",
      "      (nero_B): Linear(in_features=8, out_features=4096, bias=True)\n",
      "    )\n",
      "    (layers__DOT__6__DOT__self_attn__DOT__k_proj): NeroLayer(\n",
      "      (base_layer): Linear4bit(in_features=4096, out_features=1024, bias=False)\n",
      "      (lora_A): Linear(in_features=4096, out_features=8, bias=False)\n",
      "      (lora_B): Linear(in_features=8, out_features=1024, bias=False)\n",
      "      (nero_A): Linear(in_features=1024, out_features=8, bias=True)\n",
      "      (nero_B): Linear(in_features=8, out_features=1024, bias=True)\n",
      "    )\n",
      "    (layers__DOT__6__DOT__self_attn__DOT__v_proj): NeroLayer(\n",
      "      (base_layer): Linear4bit(in_features=4096, out_features=1024, bias=False)\n",
      "      (lora_A): Linear(in_features=4096, out_features=8, bias=False)\n",
      "      (lora_B): Linear(in_features=8, out_features=1024, bias=False)\n",
      "      (nero_A): Linear(in_features=1024, out_features=8, bias=True)\n",
      "      (nero_B): Linear(in_features=8, out_features=1024, bias=True)\n",
      "    )\n",
      "    (layers__DOT__6__DOT__self_attn__DOT__o_proj): NeroLayer(\n",
      "      (base_layer): Linear4bit(in_features=4096, out_features=4096, bias=False)\n",
      "      (lora_A): Linear(in_features=4096, out_features=8, bias=False)\n",
      "      (lora_B): Linear(in_features=8, out_features=4096, bias=False)\n",
      "      (nero_A): Linear(in_features=4096, out_features=8, bias=True)\n",
      "      (nero_B): Linear(in_features=8, out_features=4096, bias=True)\n",
      "    )\n",
      "    (layers__DOT__6__DOT__mlp__DOT__gate_proj): NeroLayer(\n",
      "      (base_layer): Linear4bit(in_features=4096, out_features=14336, bias=False)\n",
      "      (lora_A): Linear(in_features=4096, out_features=8, bias=False)\n",
      "      (lora_B): Linear(in_features=8, out_features=14336, bias=False)\n",
      "      (nero_A): Linear(in_features=14336, out_features=8, bias=True)\n",
      "      (nero_B): Linear(in_features=8, out_features=14336, bias=True)\n",
      "    )\n",
      "    (layers__DOT__6__DOT__mlp__DOT__up_proj): NeroLayer(\n",
      "      (base_layer): Linear4bit(in_features=4096, out_features=14336, bias=False)\n",
      "      (lora_A): Linear(in_features=4096, out_features=8, bias=False)\n",
      "      (lora_B): Linear(in_features=8, out_features=14336, bias=False)\n",
      "      (nero_A): Linear(in_features=14336, out_features=8, bias=True)\n",
      "      (nero_B): Linear(in_features=8, out_features=14336, bias=True)\n",
      "    )\n",
      "    (layers__DOT__6__DOT__mlp__DOT__down_proj): NeroLayer(\n",
      "      (base_layer): Linear4bit(in_features=14336, out_features=4096, bias=False)\n",
      "      (lora_A): Linear(in_features=14336, out_features=8, bias=False)\n",
      "      (lora_B): Linear(in_features=8, out_features=4096, bias=False)\n",
      "      (nero_A): Linear(in_features=4096, out_features=8, bias=True)\n",
      "      (nero_B): Linear(in_features=8, out_features=4096, bias=True)\n",
      "    )\n",
      "    (layers__DOT__7__DOT__self_attn__DOT__q_proj): NeroLayer(\n",
      "      (base_layer): Linear4bit(in_features=4096, out_features=4096, bias=False)\n",
      "      (lora_A): Linear(in_features=4096, out_features=8, bias=False)\n",
      "      (lora_B): Linear(in_features=8, out_features=4096, bias=False)\n",
      "      (nero_A): Linear(in_features=4096, out_features=8, bias=True)\n",
      "      (nero_B): Linear(in_features=8, out_features=4096, bias=True)\n",
      "    )\n",
      "    (layers__DOT__7__DOT__self_attn__DOT__k_proj): NeroLayer(\n",
      "      (base_layer): Linear4bit(in_features=4096, out_features=1024, bias=False)\n",
      "      (lora_A): Linear(in_features=4096, out_features=8, bias=False)\n",
      "      (lora_B): Linear(in_features=8, out_features=1024, bias=False)\n",
      "      (nero_A): Linear(in_features=1024, out_features=8, bias=True)\n",
      "      (nero_B): Linear(in_features=8, out_features=1024, bias=True)\n",
      "    )\n",
      "    (layers__DOT__7__DOT__self_attn__DOT__v_proj): NeroLayer(\n",
      "      (base_layer): Linear4bit(in_features=4096, out_features=1024, bias=False)\n",
      "      (lora_A): Linear(in_features=4096, out_features=8, bias=False)\n",
      "      (lora_B): Linear(in_features=8, out_features=1024, bias=False)\n",
      "      (nero_A): Linear(in_features=1024, out_features=8, bias=True)\n",
      "      (nero_B): Linear(in_features=8, out_features=1024, bias=True)\n",
      "    )\n",
      "    (layers__DOT__7__DOT__self_attn__DOT__o_proj): NeroLayer(\n",
      "      (base_layer): Linear4bit(in_features=4096, out_features=4096, bias=False)\n",
      "      (lora_A): Linear(in_features=4096, out_features=8, bias=False)\n",
      "      (lora_B): Linear(in_features=8, out_features=4096, bias=False)\n",
      "      (nero_A): Linear(in_features=4096, out_features=8, bias=True)\n",
      "      (nero_B): Linear(in_features=8, out_features=4096, bias=True)\n",
      "    )\n",
      "    (layers__DOT__7__DOT__mlp__DOT__gate_proj): NeroLayer(\n",
      "      (base_layer): Linear4bit(in_features=4096, out_features=14336, bias=False)\n",
      "      (lora_A): Linear(in_features=4096, out_features=8, bias=False)\n",
      "      (lora_B): Linear(in_features=8, out_features=14336, bias=False)\n",
      "      (nero_A): Linear(in_features=14336, out_features=8, bias=True)\n",
      "      (nero_B): Linear(in_features=8, out_features=14336, bias=True)\n",
      "    )\n",
      "    (layers__DOT__7__DOT__mlp__DOT__up_proj): NeroLayer(\n",
      "      (base_layer): Linear4bit(in_features=4096, out_features=14336, bias=False)\n",
      "      (lora_A): Linear(in_features=4096, out_features=8, bias=False)\n",
      "      (lora_B): Linear(in_features=8, out_features=14336, bias=False)\n",
      "      (nero_A): Linear(in_features=14336, out_features=8, bias=True)\n",
      "      (nero_B): Linear(in_features=8, out_features=14336, bias=True)\n",
      "    )\n",
      "    (layers__DOT__7__DOT__mlp__DOT__down_proj): NeroLayer(\n",
      "      (base_layer): Linear4bit(in_features=14336, out_features=4096, bias=False)\n",
      "      (lora_A): Linear(in_features=14336, out_features=8, bias=False)\n",
      "      (lora_B): Linear(in_features=8, out_features=4096, bias=False)\n",
      "      (nero_A): Linear(in_features=4096, out_features=8, bias=True)\n",
      "      (nero_B): Linear(in_features=8, out_features=4096, bias=True)\n",
      "    )\n",
      "    (layers__DOT__8__DOT__self_attn__DOT__q_proj): NeroLayer(\n",
      "      (base_layer): Linear4bit(in_features=4096, out_features=4096, bias=False)\n",
      "      (lora_A): Linear(in_features=4096, out_features=8, bias=False)\n",
      "      (lora_B): Linear(in_features=8, out_features=4096, bias=False)\n",
      "      (nero_A): Linear(in_features=4096, out_features=8, bias=True)\n",
      "      (nero_B): Linear(in_features=8, out_features=4096, bias=True)\n",
      "    )\n",
      "    (layers__DOT__8__DOT__self_attn__DOT__k_proj): NeroLayer(\n",
      "      (base_layer): Linear4bit(in_features=4096, out_features=1024, bias=False)\n",
      "      (lora_A): Linear(in_features=4096, out_features=8, bias=False)\n",
      "      (lora_B): Linear(in_features=8, out_features=1024, bias=False)\n",
      "      (nero_A): Linear(in_features=1024, out_features=8, bias=True)\n",
      "      (nero_B): Linear(in_features=8, out_features=1024, bias=True)\n",
      "    )\n",
      "    (layers__DOT__8__DOT__self_attn__DOT__v_proj): NeroLayer(\n",
      "      (base_layer): Linear4bit(in_features=4096, out_features=1024, bias=False)\n",
      "      (lora_A): Linear(in_features=4096, out_features=8, bias=False)\n",
      "      (lora_B): Linear(in_features=8, out_features=1024, bias=False)\n",
      "      (nero_A): Linear(in_features=1024, out_features=8, bias=True)\n",
      "      (nero_B): Linear(in_features=8, out_features=1024, bias=True)\n",
      "    )\n",
      "    (layers__DOT__8__DOT__self_attn__DOT__o_proj): NeroLayer(\n",
      "      (base_layer): Linear4bit(in_features=4096, out_features=4096, bias=False)\n",
      "      (lora_A): Linear(in_features=4096, out_features=8, bias=False)\n",
      "      (lora_B): Linear(in_features=8, out_features=4096, bias=False)\n",
      "      (nero_A): Linear(in_features=4096, out_features=8, bias=True)\n",
      "      (nero_B): Linear(in_features=8, out_features=4096, bias=True)\n",
      "    )\n",
      "    (layers__DOT__8__DOT__mlp__DOT__gate_proj): NeroLayer(\n",
      "      (base_layer): Linear4bit(in_features=4096, out_features=14336, bias=False)\n",
      "      (lora_A): Linear(in_features=4096, out_features=8, bias=False)\n",
      "      (lora_B): Linear(in_features=8, out_features=14336, bias=False)\n",
      "      (nero_A): Linear(in_features=14336, out_features=8, bias=True)\n",
      "      (nero_B): Linear(in_features=8, out_features=14336, bias=True)\n",
      "    )\n",
      "    (layers__DOT__8__DOT__mlp__DOT__up_proj): NeroLayer(\n",
      "      (base_layer): Linear4bit(in_features=4096, out_features=14336, bias=False)\n",
      "      (lora_A): Linear(in_features=4096, out_features=8, bias=False)\n",
      "      (lora_B): Linear(in_features=8, out_features=14336, bias=False)\n",
      "      (nero_A): Linear(in_features=14336, out_features=8, bias=True)\n",
      "      (nero_B): Linear(in_features=8, out_features=14336, bias=True)\n",
      "    )\n",
      "    (layers__DOT__8__DOT__mlp__DOT__down_proj): NeroLayer(\n",
      "      (base_layer): Linear4bit(in_features=14336, out_features=4096, bias=False)\n",
      "      (lora_A): Linear(in_features=14336, out_features=8, bias=False)\n",
      "      (lora_B): Linear(in_features=8, out_features=4096, bias=False)\n",
      "      (nero_A): Linear(in_features=4096, out_features=8, bias=True)\n",
      "      (nero_B): Linear(in_features=8, out_features=4096, bias=True)\n",
      "    )\n",
      "    (layers__DOT__9__DOT__self_attn__DOT__q_proj): NeroLayer(\n",
      "      (base_layer): Linear4bit(in_features=4096, out_features=4096, bias=False)\n",
      "      (lora_A): Linear(in_features=4096, out_features=8, bias=False)\n",
      "      (lora_B): Linear(in_features=8, out_features=4096, bias=False)\n",
      "      (nero_A): Linear(in_features=4096, out_features=8, bias=True)\n",
      "      (nero_B): Linear(in_features=8, out_features=4096, bias=True)\n",
      "    )\n",
      "    (layers__DOT__9__DOT__self_attn__DOT__k_proj): NeroLayer(\n",
      "      (base_layer): Linear4bit(in_features=4096, out_features=1024, bias=False)\n",
      "      (lora_A): Linear(in_features=4096, out_features=8, bias=False)\n",
      "      (lora_B): Linear(in_features=8, out_features=1024, bias=False)\n",
      "      (nero_A): Linear(in_features=1024, out_features=8, bias=True)\n",
      "      (nero_B): Linear(in_features=8, out_features=1024, bias=True)\n",
      "    )\n",
      "    (layers__DOT__9__DOT__self_attn__DOT__v_proj): NeroLayer(\n",
      "      (base_layer): Linear4bit(in_features=4096, out_features=1024, bias=False)\n",
      "      (lora_A): Linear(in_features=4096, out_features=8, bias=False)\n",
      "      (lora_B): Linear(in_features=8, out_features=1024, bias=False)\n",
      "      (nero_A): Linear(in_features=1024, out_features=8, bias=True)\n",
      "      (nero_B): Linear(in_features=8, out_features=1024, bias=True)\n",
      "    )\n",
      "    (layers__DOT__9__DOT__self_attn__DOT__o_proj): NeroLayer(\n",
      "      (base_layer): Linear4bit(in_features=4096, out_features=4096, bias=False)\n",
      "      (lora_A): Linear(in_features=4096, out_features=8, bias=False)\n",
      "      (lora_B): Linear(in_features=8, out_features=4096, bias=False)\n",
      "      (nero_A): Linear(in_features=4096, out_features=8, bias=True)\n",
      "      (nero_B): Linear(in_features=8, out_features=4096, bias=True)\n",
      "    )\n",
      "    (layers__DOT__9__DOT__mlp__DOT__gate_proj): NeroLayer(\n",
      "      (base_layer): Linear4bit(in_features=4096, out_features=14336, bias=False)\n",
      "      (lora_A): Linear(in_features=4096, out_features=8, bias=False)\n",
      "      (lora_B): Linear(in_features=8, out_features=14336, bias=False)\n",
      "      (nero_A): Linear(in_features=14336, out_features=8, bias=True)\n",
      "      (nero_B): Linear(in_features=8, out_features=14336, bias=True)\n",
      "    )\n",
      "    (layers__DOT__9__DOT__mlp__DOT__up_proj): NeroLayer(\n",
      "      (base_layer): Linear4bit(in_features=4096, out_features=14336, bias=False)\n",
      "      (lora_A): Linear(in_features=4096, out_features=8, bias=False)\n",
      "      (lora_B): Linear(in_features=8, out_features=14336, bias=False)\n",
      "      (nero_A): Linear(in_features=14336, out_features=8, bias=True)\n",
      "      (nero_B): Linear(in_features=8, out_features=14336, bias=True)\n",
      "    )\n",
      "    (layers__DOT__9__DOT__mlp__DOT__down_proj): NeroLayer(\n",
      "      (base_layer): Linear4bit(in_features=14336, out_features=4096, bias=False)\n",
      "      (lora_A): Linear(in_features=14336, out_features=8, bias=False)\n",
      "      (lora_B): Linear(in_features=8, out_features=4096, bias=False)\n",
      "      (nero_A): Linear(in_features=4096, out_features=8, bias=True)\n",
      "      (nero_B): Linear(in_features=8, out_features=4096, bias=True)\n",
      "    )\n",
      "    (layers__DOT__10__DOT__self_attn__DOT__q_proj): NeroLayer(\n",
      "      (base_layer): Linear4bit(in_features=4096, out_features=4096, bias=False)\n",
      "      (lora_A): Linear(in_features=4096, out_features=8, bias=False)\n",
      "      (lora_B): Linear(in_features=8, out_features=4096, bias=False)\n",
      "      (nero_A): Linear(in_features=4096, out_features=8, bias=True)\n",
      "      (nero_B): Linear(in_features=8, out_features=4096, bias=True)\n",
      "    )\n",
      "    (layers__DOT__10__DOT__self_attn__DOT__k_proj): NeroLayer(\n",
      "      (base_layer): Linear4bit(in_features=4096, out_features=1024, bias=False)\n",
      "      (lora_A): Linear(in_features=4096, out_features=8, bias=False)\n",
      "      (lora_B): Linear(in_features=8, out_features=1024, bias=False)\n",
      "      (nero_A): Linear(in_features=1024, out_features=8, bias=True)\n",
      "      (nero_B): Linear(in_features=8, out_features=1024, bias=True)\n",
      "    )\n",
      "    (layers__DOT__10__DOT__self_attn__DOT__v_proj): NeroLayer(\n",
      "      (base_layer): Linear4bit(in_features=4096, out_features=1024, bias=False)\n",
      "      (lora_A): Linear(in_features=4096, out_features=8, bias=False)\n",
      "      (lora_B): Linear(in_features=8, out_features=1024, bias=False)\n",
      "      (nero_A): Linear(in_features=1024, out_features=8, bias=True)\n",
      "      (nero_B): Linear(in_features=8, out_features=1024, bias=True)\n",
      "    )\n",
      "    (layers__DOT__10__DOT__self_attn__DOT__o_proj): NeroLayer(\n",
      "      (base_layer): Linear4bit(in_features=4096, out_features=4096, bias=False)\n",
      "      (lora_A): Linear(in_features=4096, out_features=8, bias=False)\n",
      "      (lora_B): Linear(in_features=8, out_features=4096, bias=False)\n",
      "      (nero_A): Linear(in_features=4096, out_features=8, bias=True)\n",
      "      (nero_B): Linear(in_features=8, out_features=4096, bias=True)\n",
      "    )\n",
      "    (layers__DOT__10__DOT__mlp__DOT__gate_proj): NeroLayer(\n",
      "      (base_layer): Linear4bit(in_features=4096, out_features=14336, bias=False)\n",
      "      (lora_A): Linear(in_features=4096, out_features=8, bias=False)\n",
      "      (lora_B): Linear(in_features=8, out_features=14336, bias=False)\n",
      "      (nero_A): Linear(in_features=14336, out_features=8, bias=True)\n",
      "      (nero_B): Linear(in_features=8, out_features=14336, bias=True)\n",
      "    )\n",
      "    (layers__DOT__10__DOT__mlp__DOT__up_proj): NeroLayer(\n",
      "      (base_layer): Linear4bit(in_features=4096, out_features=14336, bias=False)\n",
      "      (lora_A): Linear(in_features=4096, out_features=8, bias=False)\n",
      "      (lora_B): Linear(in_features=8, out_features=14336, bias=False)\n",
      "      (nero_A): Linear(in_features=14336, out_features=8, bias=True)\n",
      "      (nero_B): Linear(in_features=8, out_features=14336, bias=True)\n",
      "    )\n",
      "    (layers__DOT__10__DOT__mlp__DOT__down_proj): NeroLayer(\n",
      "      (base_layer): Linear4bit(in_features=14336, out_features=4096, bias=False)\n",
      "      (lora_A): Linear(in_features=14336, out_features=8, bias=False)\n",
      "      (lora_B): Linear(in_features=8, out_features=4096, bias=False)\n",
      "      (nero_A): Linear(in_features=4096, out_features=8, bias=True)\n",
      "      (nero_B): Linear(in_features=8, out_features=4096, bias=True)\n",
      "    )\n",
      "    (layers__DOT__11__DOT__self_attn__DOT__q_proj): NeroLayer(\n",
      "      (base_layer): Linear4bit(in_features=4096, out_features=4096, bias=False)\n",
      "      (lora_A): Linear(in_features=4096, out_features=8, bias=False)\n",
      "      (lora_B): Linear(in_features=8, out_features=4096, bias=False)\n",
      "      (nero_A): Linear(in_features=4096, out_features=8, bias=True)\n",
      "      (nero_B): Linear(in_features=8, out_features=4096, bias=True)\n",
      "    )\n",
      "    (layers__DOT__11__DOT__self_attn__DOT__k_proj): NeroLayer(\n",
      "      (base_layer): Linear4bit(in_features=4096, out_features=1024, bias=False)\n",
      "      (lora_A): Linear(in_features=4096, out_features=8, bias=False)\n",
      "      (lora_B): Linear(in_features=8, out_features=1024, bias=False)\n",
      "      (nero_A): Linear(in_features=1024, out_features=8, bias=True)\n",
      "      (nero_B): Linear(in_features=8, out_features=1024, bias=True)\n",
      "    )\n",
      "    (layers__DOT__11__DOT__self_attn__DOT__v_proj): NeroLayer(\n",
      "      (base_layer): Linear4bit(in_features=4096, out_features=1024, bias=False)\n",
      "      (lora_A): Linear(in_features=4096, out_features=8, bias=False)\n",
      "      (lora_B): Linear(in_features=8, out_features=1024, bias=False)\n",
      "      (nero_A): Linear(in_features=1024, out_features=8, bias=True)\n",
      "      (nero_B): Linear(in_features=8, out_features=1024, bias=True)\n",
      "    )\n",
      "    (layers__DOT__11__DOT__self_attn__DOT__o_proj): NeroLayer(\n",
      "      (base_layer): Linear4bit(in_features=4096, out_features=4096, bias=False)\n",
      "      (lora_A): Linear(in_features=4096, out_features=8, bias=False)\n",
      "      (lora_B): Linear(in_features=8, out_features=4096, bias=False)\n",
      "      (nero_A): Linear(in_features=4096, out_features=8, bias=True)\n",
      "      (nero_B): Linear(in_features=8, out_features=4096, bias=True)\n",
      "    )\n",
      "    (layers__DOT__11__DOT__mlp__DOT__gate_proj): NeroLayer(\n",
      "      (base_layer): Linear4bit(in_features=4096, out_features=14336, bias=False)\n",
      "      (lora_A): Linear(in_features=4096, out_features=8, bias=False)\n",
      "      (lora_B): Linear(in_features=8, out_features=14336, bias=False)\n",
      "      (nero_A): Linear(in_features=14336, out_features=8, bias=True)\n",
      "      (nero_B): Linear(in_features=8, out_features=14336, bias=True)\n",
      "    )\n",
      "    (layers__DOT__11__DOT__mlp__DOT__up_proj): NeroLayer(\n",
      "      (base_layer): Linear4bit(in_features=4096, out_features=14336, bias=False)\n",
      "      (lora_A): Linear(in_features=4096, out_features=8, bias=False)\n",
      "      (lora_B): Linear(in_features=8, out_features=14336, bias=False)\n",
      "      (nero_A): Linear(in_features=14336, out_features=8, bias=True)\n",
      "      (nero_B): Linear(in_features=8, out_features=14336, bias=True)\n",
      "    )\n",
      "    (layers__DOT__11__DOT__mlp__DOT__down_proj): NeroLayer(\n",
      "      (base_layer): Linear4bit(in_features=14336, out_features=4096, bias=False)\n",
      "      (lora_A): Linear(in_features=14336, out_features=8, bias=False)\n",
      "      (lora_B): Linear(in_features=8, out_features=4096, bias=False)\n",
      "      (nero_A): Linear(in_features=4096, out_features=8, bias=True)\n",
      "      (nero_B): Linear(in_features=8, out_features=4096, bias=True)\n",
      "    )\n",
      "    (layers__DOT__12__DOT__self_attn__DOT__q_proj): NeroLayer(\n",
      "      (base_layer): Linear4bit(in_features=4096, out_features=4096, bias=False)\n",
      "      (lora_A): Linear(in_features=4096, out_features=8, bias=False)\n",
      "      (lora_B): Linear(in_features=8, out_features=4096, bias=False)\n",
      "      (nero_A): Linear(in_features=4096, out_features=8, bias=True)\n",
      "      (nero_B): Linear(in_features=8, out_features=4096, bias=True)\n",
      "    )\n",
      "    (layers__DOT__12__DOT__self_attn__DOT__k_proj): NeroLayer(\n",
      "      (base_layer): Linear4bit(in_features=4096, out_features=1024, bias=False)\n",
      "      (lora_A): Linear(in_features=4096, out_features=8, bias=False)\n",
      "      (lora_B): Linear(in_features=8, out_features=1024, bias=False)\n",
      "      (nero_A): Linear(in_features=1024, out_features=8, bias=True)\n",
      "      (nero_B): Linear(in_features=8, out_features=1024, bias=True)\n",
      "    )\n",
      "    (layers__DOT__12__DOT__self_attn__DOT__v_proj): NeroLayer(\n",
      "      (base_layer): Linear4bit(in_features=4096, out_features=1024, bias=False)\n",
      "      (lora_A): Linear(in_features=4096, out_features=8, bias=False)\n",
      "      (lora_B): Linear(in_features=8, out_features=1024, bias=False)\n",
      "      (nero_A): Linear(in_features=1024, out_features=8, bias=True)\n",
      "      (nero_B): Linear(in_features=8, out_features=1024, bias=True)\n",
      "    )\n",
      "    (layers__DOT__12__DOT__self_attn__DOT__o_proj): NeroLayer(\n",
      "      (base_layer): Linear4bit(in_features=4096, out_features=4096, bias=False)\n",
      "      (lora_A): Linear(in_features=4096, out_features=8, bias=False)\n",
      "      (lora_B): Linear(in_features=8, out_features=4096, bias=False)\n",
      "      (nero_A): Linear(in_features=4096, out_features=8, bias=True)\n",
      "      (nero_B): Linear(in_features=8, out_features=4096, bias=True)\n",
      "    )\n",
      "    (layers__DOT__12__DOT__mlp__DOT__gate_proj): NeroLayer(\n",
      "      (base_layer): Linear4bit(in_features=4096, out_features=14336, bias=False)\n",
      "      (lora_A): Linear(in_features=4096, out_features=8, bias=False)\n",
      "      (lora_B): Linear(in_features=8, out_features=14336, bias=False)\n",
      "      (nero_A): Linear(in_features=14336, out_features=8, bias=True)\n",
      "      (nero_B): Linear(in_features=8, out_features=14336, bias=True)\n",
      "    )\n",
      "    (layers__DOT__12__DOT__mlp__DOT__up_proj): NeroLayer(\n",
      "      (base_layer): Linear4bit(in_features=4096, out_features=14336, bias=False)\n",
      "      (lora_A): Linear(in_features=4096, out_features=8, bias=False)\n",
      "      (lora_B): Linear(in_features=8, out_features=14336, bias=False)\n",
      "      (nero_A): Linear(in_features=14336, out_features=8, bias=True)\n",
      "      (nero_B): Linear(in_features=8, out_features=14336, bias=True)\n",
      "    )\n",
      "    (layers__DOT__12__DOT__mlp__DOT__down_proj): NeroLayer(\n",
      "      (base_layer): Linear4bit(in_features=14336, out_features=4096, bias=False)\n",
      "      (lora_A): Linear(in_features=14336, out_features=8, bias=False)\n",
      "      (lora_B): Linear(in_features=8, out_features=4096, bias=False)\n",
      "      (nero_A): Linear(in_features=4096, out_features=8, bias=True)\n",
      "      (nero_B): Linear(in_features=8, out_features=4096, bias=True)\n",
      "    )\n",
      "    (layers__DOT__13__DOT__self_attn__DOT__q_proj): NeroLayer(\n",
      "      (base_layer): Linear4bit(in_features=4096, out_features=4096, bias=False)\n",
      "      (lora_A): Linear(in_features=4096, out_features=8, bias=False)\n",
      "      (lora_B): Linear(in_features=8, out_features=4096, bias=False)\n",
      "      (nero_A): Linear(in_features=4096, out_features=8, bias=True)\n",
      "      (nero_B): Linear(in_features=8, out_features=4096, bias=True)\n",
      "    )\n",
      "    (layers__DOT__13__DOT__self_attn__DOT__k_proj): NeroLayer(\n",
      "      (base_layer): Linear4bit(in_features=4096, out_features=1024, bias=False)\n",
      "      (lora_A): Linear(in_features=4096, out_features=8, bias=False)\n",
      "      (lora_B): Linear(in_features=8, out_features=1024, bias=False)\n",
      "      (nero_A): Linear(in_features=1024, out_features=8, bias=True)\n",
      "      (nero_B): Linear(in_features=8, out_features=1024, bias=True)\n",
      "    )\n",
      "    (layers__DOT__13__DOT__self_attn__DOT__v_proj): NeroLayer(\n",
      "      (base_layer): Linear4bit(in_features=4096, out_features=1024, bias=False)\n",
      "      (lora_A): Linear(in_features=4096, out_features=8, bias=False)\n",
      "      (lora_B): Linear(in_features=8, out_features=1024, bias=False)\n",
      "      (nero_A): Linear(in_features=1024, out_features=8, bias=True)\n",
      "      (nero_B): Linear(in_features=8, out_features=1024, bias=True)\n",
      "    )\n",
      "    (layers__DOT__13__DOT__self_attn__DOT__o_proj): NeroLayer(\n",
      "      (base_layer): Linear4bit(in_features=4096, out_features=4096, bias=False)\n",
      "      (lora_A): Linear(in_features=4096, out_features=8, bias=False)\n",
      "      (lora_B): Linear(in_features=8, out_features=4096, bias=False)\n",
      "      (nero_A): Linear(in_features=4096, out_features=8, bias=True)\n",
      "      (nero_B): Linear(in_features=8, out_features=4096, bias=True)\n",
      "    )\n",
      "    (layers__DOT__13__DOT__mlp__DOT__gate_proj): NeroLayer(\n",
      "      (base_layer): Linear4bit(in_features=4096, out_features=14336, bias=False)\n",
      "      (lora_A): Linear(in_features=4096, out_features=8, bias=False)\n",
      "      (lora_B): Linear(in_features=8, out_features=14336, bias=False)\n",
      "      (nero_A): Linear(in_features=14336, out_features=8, bias=True)\n",
      "      (nero_B): Linear(in_features=8, out_features=14336, bias=True)\n",
      "    )\n",
      "    (layers__DOT__13__DOT__mlp__DOT__up_proj): NeroLayer(\n",
      "      (base_layer): Linear4bit(in_features=4096, out_features=14336, bias=False)\n",
      "      (lora_A): Linear(in_features=4096, out_features=8, bias=False)\n",
      "      (lora_B): Linear(in_features=8, out_features=14336, bias=False)\n",
      "      (nero_A): Linear(in_features=14336, out_features=8, bias=True)\n",
      "      (nero_B): Linear(in_features=8, out_features=14336, bias=True)\n",
      "    )\n",
      "    (layers__DOT__13__DOT__mlp__DOT__down_proj): NeroLayer(\n",
      "      (base_layer): Linear4bit(in_features=14336, out_features=4096, bias=False)\n",
      "      (lora_A): Linear(in_features=14336, out_features=8, bias=False)\n",
      "      (lora_B): Linear(in_features=8, out_features=4096, bias=False)\n",
      "      (nero_A): Linear(in_features=4096, out_features=8, bias=True)\n",
      "      (nero_B): Linear(in_features=8, out_features=4096, bias=True)\n",
      "    )\n",
      "    (layers__DOT__14__DOT__self_attn__DOT__q_proj): NeroLayer(\n",
      "      (base_layer): Linear4bit(in_features=4096, out_features=4096, bias=False)\n",
      "      (lora_A): Linear(in_features=4096, out_features=8, bias=False)\n",
      "      (lora_B): Linear(in_features=8, out_features=4096, bias=False)\n",
      "      (nero_A): Linear(in_features=4096, out_features=8, bias=True)\n",
      "      (nero_B): Linear(in_features=8, out_features=4096, bias=True)\n",
      "    )\n",
      "    (layers__DOT__14__DOT__self_attn__DOT__k_proj): NeroLayer(\n",
      "      (base_layer): Linear4bit(in_features=4096, out_features=1024, bias=False)\n",
      "      (lora_A): Linear(in_features=4096, out_features=8, bias=False)\n",
      "      (lora_B): Linear(in_features=8, out_features=1024, bias=False)\n",
      "      (nero_A): Linear(in_features=1024, out_features=8, bias=True)\n",
      "      (nero_B): Linear(in_features=8, out_features=1024, bias=True)\n",
      "    )\n",
      "    (layers__DOT__14__DOT__self_attn__DOT__v_proj): NeroLayer(\n",
      "      (base_layer): Linear4bit(in_features=4096, out_features=1024, bias=False)\n",
      "      (lora_A): Linear(in_features=4096, out_features=8, bias=False)\n",
      "      (lora_B): Linear(in_features=8, out_features=1024, bias=False)\n",
      "      (nero_A): Linear(in_features=1024, out_features=8, bias=True)\n",
      "      (nero_B): Linear(in_features=8, out_features=1024, bias=True)\n",
      "    )\n",
      "    (layers__DOT__14__DOT__self_attn__DOT__o_proj): NeroLayer(\n",
      "      (base_layer): Linear4bit(in_features=4096, out_features=4096, bias=False)\n",
      "      (lora_A): Linear(in_features=4096, out_features=8, bias=False)\n",
      "      (lora_B): Linear(in_features=8, out_features=4096, bias=False)\n",
      "      (nero_A): Linear(in_features=4096, out_features=8, bias=True)\n",
      "      (nero_B): Linear(in_features=8, out_features=4096, bias=True)\n",
      "    )\n",
      "    (layers__DOT__14__DOT__mlp__DOT__gate_proj): NeroLayer(\n",
      "      (base_layer): Linear4bit(in_features=4096, out_features=14336, bias=False)\n",
      "      (lora_A): Linear(in_features=4096, out_features=8, bias=False)\n",
      "      (lora_B): Linear(in_features=8, out_features=14336, bias=False)\n",
      "      (nero_A): Linear(in_features=14336, out_features=8, bias=True)\n",
      "      (nero_B): Linear(in_features=8, out_features=14336, bias=True)\n",
      "    )\n",
      "    (layers__DOT__14__DOT__mlp__DOT__up_proj): NeroLayer(\n",
      "      (base_layer): Linear4bit(in_features=4096, out_features=14336, bias=False)\n",
      "      (lora_A): Linear(in_features=4096, out_features=8, bias=False)\n",
      "      (lora_B): Linear(in_features=8, out_features=14336, bias=False)\n",
      "      (nero_A): Linear(in_features=14336, out_features=8, bias=True)\n",
      "      (nero_B): Linear(in_features=8, out_features=14336, bias=True)\n",
      "    )\n",
      "    (layers__DOT__14__DOT__mlp__DOT__down_proj): NeroLayer(\n",
      "      (base_layer): Linear4bit(in_features=14336, out_features=4096, bias=False)\n",
      "      (lora_A): Linear(in_features=14336, out_features=8, bias=False)\n",
      "      (lora_B): Linear(in_features=8, out_features=4096, bias=False)\n",
      "      (nero_A): Linear(in_features=4096, out_features=8, bias=True)\n",
      "      (nero_B): Linear(in_features=8, out_features=4096, bias=True)\n",
      "    )\n",
      "    (layers__DOT__15__DOT__self_attn__DOT__q_proj): NeroLayer(\n",
      "      (base_layer): Linear4bit(in_features=4096, out_features=4096, bias=False)\n",
      "      (lora_A): Linear(in_features=4096, out_features=8, bias=False)\n",
      "      (lora_B): Linear(in_features=8, out_features=4096, bias=False)\n",
      "      (nero_A): Linear(in_features=4096, out_features=8, bias=True)\n",
      "      (nero_B): Linear(in_features=8, out_features=4096, bias=True)\n",
      "    )\n",
      "    (layers__DOT__15__DOT__self_attn__DOT__k_proj): NeroLayer(\n",
      "      (base_layer): Linear4bit(in_features=4096, out_features=1024, bias=False)\n",
      "      (lora_A): Linear(in_features=4096, out_features=8, bias=False)\n",
      "      (lora_B): Linear(in_features=8, out_features=1024, bias=False)\n",
      "      (nero_A): Linear(in_features=1024, out_features=8, bias=True)\n",
      "      (nero_B): Linear(in_features=8, out_features=1024, bias=True)\n",
      "    )\n",
      "    (layers__DOT__15__DOT__self_attn__DOT__v_proj): NeroLayer(\n",
      "      (base_layer): Linear4bit(in_features=4096, out_features=1024, bias=False)\n",
      "      (lora_A): Linear(in_features=4096, out_features=8, bias=False)\n",
      "      (lora_B): Linear(in_features=8, out_features=1024, bias=False)\n",
      "      (nero_A): Linear(in_features=1024, out_features=8, bias=True)\n",
      "      (nero_B): Linear(in_features=8, out_features=1024, bias=True)\n",
      "    )\n",
      "    (layers__DOT__15__DOT__self_attn__DOT__o_proj): NeroLayer(\n",
      "      (base_layer): Linear4bit(in_features=4096, out_features=4096, bias=False)\n",
      "      (lora_A): Linear(in_features=4096, out_features=8, bias=False)\n",
      "      (lora_B): Linear(in_features=8, out_features=4096, bias=False)\n",
      "      (nero_A): Linear(in_features=4096, out_features=8, bias=True)\n",
      "      (nero_B): Linear(in_features=8, out_features=4096, bias=True)\n",
      "    )\n",
      "    (layers__DOT__15__DOT__mlp__DOT__gate_proj): NeroLayer(\n",
      "      (base_layer): Linear4bit(in_features=4096, out_features=14336, bias=False)\n",
      "      (lora_A): Linear(in_features=4096, out_features=8, bias=False)\n",
      "      (lora_B): Linear(in_features=8, out_features=14336, bias=False)\n",
      "      (nero_A): Linear(in_features=14336, out_features=8, bias=True)\n",
      "      (nero_B): Linear(in_features=8, out_features=14336, bias=True)\n",
      "    )\n",
      "    (layers__DOT__15__DOT__mlp__DOT__up_proj): NeroLayer(\n",
      "      (base_layer): Linear4bit(in_features=4096, out_features=14336, bias=False)\n",
      "      (lora_A): Linear(in_features=4096, out_features=8, bias=False)\n",
      "      (lora_B): Linear(in_features=8, out_features=14336, bias=False)\n",
      "      (nero_A): Linear(in_features=14336, out_features=8, bias=True)\n",
      "      (nero_B): Linear(in_features=8, out_features=14336, bias=True)\n",
      "    )\n",
      "    (layers__DOT__15__DOT__mlp__DOT__down_proj): NeroLayer(\n",
      "      (base_layer): Linear4bit(in_features=14336, out_features=4096, bias=False)\n",
      "      (lora_A): Linear(in_features=14336, out_features=8, bias=False)\n",
      "      (lora_B): Linear(in_features=8, out_features=4096, bias=False)\n",
      "      (nero_A): Linear(in_features=4096, out_features=8, bias=True)\n",
      "      (nero_B): Linear(in_features=8, out_features=4096, bias=True)\n",
      "    )\n",
      "    (layers__DOT__16__DOT__self_attn__DOT__q_proj): NeroLayer(\n",
      "      (base_layer): Linear4bit(in_features=4096, out_features=4096, bias=False)\n",
      "      (lora_A): Linear(in_features=4096, out_features=8, bias=False)\n",
      "      (lora_B): Linear(in_features=8, out_features=4096, bias=False)\n",
      "      (nero_A): Linear(in_features=4096, out_features=8, bias=True)\n",
      "      (nero_B): Linear(in_features=8, out_features=4096, bias=True)\n",
      "    )\n",
      "    (layers__DOT__16__DOT__self_attn__DOT__k_proj): NeroLayer(\n",
      "      (base_layer): Linear4bit(in_features=4096, out_features=1024, bias=False)\n",
      "      (lora_A): Linear(in_features=4096, out_features=8, bias=False)\n",
      "      (lora_B): Linear(in_features=8, out_features=1024, bias=False)\n",
      "      (nero_A): Linear(in_features=1024, out_features=8, bias=True)\n",
      "      (nero_B): Linear(in_features=8, out_features=1024, bias=True)\n",
      "    )\n",
      "    (layers__DOT__16__DOT__self_attn__DOT__v_proj): NeroLayer(\n",
      "      (base_layer): Linear4bit(in_features=4096, out_features=1024, bias=False)\n",
      "      (lora_A): Linear(in_features=4096, out_features=8, bias=False)\n",
      "      (lora_B): Linear(in_features=8, out_features=1024, bias=False)\n",
      "      (nero_A): Linear(in_features=1024, out_features=8, bias=True)\n",
      "      (nero_B): Linear(in_features=8, out_features=1024, bias=True)\n",
      "    )\n",
      "    (layers__DOT__16__DOT__self_attn__DOT__o_proj): NeroLayer(\n",
      "      (base_layer): Linear4bit(in_features=4096, out_features=4096, bias=False)\n",
      "      (lora_A): Linear(in_features=4096, out_features=8, bias=False)\n",
      "      (lora_B): Linear(in_features=8, out_features=4096, bias=False)\n",
      "      (nero_A): Linear(in_features=4096, out_features=8, bias=True)\n",
      "      (nero_B): Linear(in_features=8, out_features=4096, bias=True)\n",
      "    )\n",
      "    (layers__DOT__16__DOT__mlp__DOT__gate_proj): NeroLayer(\n",
      "      (base_layer): Linear4bit(in_features=4096, out_features=14336, bias=False)\n",
      "      (lora_A): Linear(in_features=4096, out_features=8, bias=False)\n",
      "      (lora_B): Linear(in_features=8, out_features=14336, bias=False)\n",
      "      (nero_A): Linear(in_features=14336, out_features=8, bias=True)\n",
      "      (nero_B): Linear(in_features=8, out_features=14336, bias=True)\n",
      "    )\n",
      "    (layers__DOT__16__DOT__mlp__DOT__up_proj): NeroLayer(\n",
      "      (base_layer): Linear4bit(in_features=4096, out_features=14336, bias=False)\n",
      "      (lora_A): Linear(in_features=4096, out_features=8, bias=False)\n",
      "      (lora_B): Linear(in_features=8, out_features=14336, bias=False)\n",
      "      (nero_A): Linear(in_features=14336, out_features=8, bias=True)\n",
      "      (nero_B): Linear(in_features=8, out_features=14336, bias=True)\n",
      "    )\n",
      "    (layers__DOT__16__DOT__mlp__DOT__down_proj): NeroLayer(\n",
      "      (base_layer): Linear4bit(in_features=14336, out_features=4096, bias=False)\n",
      "      (lora_A): Linear(in_features=14336, out_features=8, bias=False)\n",
      "      (lora_B): Linear(in_features=8, out_features=4096, bias=False)\n",
      "      (nero_A): Linear(in_features=4096, out_features=8, bias=True)\n",
      "      (nero_B): Linear(in_features=8, out_features=4096, bias=True)\n",
      "    )\n",
      "    (layers__DOT__17__DOT__self_attn__DOT__q_proj): NeroLayer(\n",
      "      (base_layer): Linear4bit(in_features=4096, out_features=4096, bias=False)\n",
      "      (lora_A): Linear(in_features=4096, out_features=8, bias=False)\n",
      "      (lora_B): Linear(in_features=8, out_features=4096, bias=False)\n",
      "      (nero_A): Linear(in_features=4096, out_features=8, bias=True)\n",
      "      (nero_B): Linear(in_features=8, out_features=4096, bias=True)\n",
      "    )\n",
      "    (layers__DOT__17__DOT__self_attn__DOT__k_proj): NeroLayer(\n",
      "      (base_layer): Linear4bit(in_features=4096, out_features=1024, bias=False)\n",
      "      (lora_A): Linear(in_features=4096, out_features=8, bias=False)\n",
      "      (lora_B): Linear(in_features=8, out_features=1024, bias=False)\n",
      "      (nero_A): Linear(in_features=1024, out_features=8, bias=True)\n",
      "      (nero_B): Linear(in_features=8, out_features=1024, bias=True)\n",
      "    )\n",
      "    (layers__DOT__17__DOT__self_attn__DOT__v_proj): NeroLayer(\n",
      "      (base_layer): Linear4bit(in_features=4096, out_features=1024, bias=False)\n",
      "      (lora_A): Linear(in_features=4096, out_features=8, bias=False)\n",
      "      (lora_B): Linear(in_features=8, out_features=1024, bias=False)\n",
      "      (nero_A): Linear(in_features=1024, out_features=8, bias=True)\n",
      "      (nero_B): Linear(in_features=8, out_features=1024, bias=True)\n",
      "    )\n",
      "    (layers__DOT__17__DOT__self_attn__DOT__o_proj): NeroLayer(\n",
      "      (base_layer): Linear4bit(in_features=4096, out_features=4096, bias=False)\n",
      "      (lora_A): Linear(in_features=4096, out_features=8, bias=False)\n",
      "      (lora_B): Linear(in_features=8, out_features=4096, bias=False)\n",
      "      (nero_A): Linear(in_features=4096, out_features=8, bias=True)\n",
      "      (nero_B): Linear(in_features=8, out_features=4096, bias=True)\n",
      "    )\n",
      "    (layers__DOT__17__DOT__mlp__DOT__gate_proj): NeroLayer(\n",
      "      (base_layer): Linear4bit(in_features=4096, out_features=14336, bias=False)\n",
      "      (lora_A): Linear(in_features=4096, out_features=8, bias=False)\n",
      "      (lora_B): Linear(in_features=8, out_features=14336, bias=False)\n",
      "      (nero_A): Linear(in_features=14336, out_features=8, bias=True)\n",
      "      (nero_B): Linear(in_features=8, out_features=14336, bias=True)\n",
      "    )\n",
      "    (layers__DOT__17__DOT__mlp__DOT__up_proj): NeroLayer(\n",
      "      (base_layer): Linear4bit(in_features=4096, out_features=14336, bias=False)\n",
      "      (lora_A): Linear(in_features=4096, out_features=8, bias=False)\n",
      "      (lora_B): Linear(in_features=8, out_features=14336, bias=False)\n",
      "      (nero_A): Linear(in_features=14336, out_features=8, bias=True)\n",
      "      (nero_B): Linear(in_features=8, out_features=14336, bias=True)\n",
      "    )\n",
      "    (layers__DOT__17__DOT__mlp__DOT__down_proj): NeroLayer(\n",
      "      (base_layer): Linear4bit(in_features=14336, out_features=4096, bias=False)\n",
      "      (lora_A): Linear(in_features=14336, out_features=8, bias=False)\n",
      "      (lora_B): Linear(in_features=8, out_features=4096, bias=False)\n",
      "      (nero_A): Linear(in_features=4096, out_features=8, bias=True)\n",
      "      (nero_B): Linear(in_features=8, out_features=4096, bias=True)\n",
      "    )\n",
      "    (layers__DOT__18__DOT__self_attn__DOT__q_proj): NeroLayer(\n",
      "      (base_layer): Linear4bit(in_features=4096, out_features=4096, bias=False)\n",
      "      (lora_A): Linear(in_features=4096, out_features=8, bias=False)\n",
      "      (lora_B): Linear(in_features=8, out_features=4096, bias=False)\n",
      "      (nero_A): Linear(in_features=4096, out_features=8, bias=True)\n",
      "      (nero_B): Linear(in_features=8, out_features=4096, bias=True)\n",
      "    )\n",
      "    (layers__DOT__18__DOT__self_attn__DOT__k_proj): NeroLayer(\n",
      "      (base_layer): Linear4bit(in_features=4096, out_features=1024, bias=False)\n",
      "      (lora_A): Linear(in_features=4096, out_features=8, bias=False)\n",
      "      (lora_B): Linear(in_features=8, out_features=1024, bias=False)\n",
      "      (nero_A): Linear(in_features=1024, out_features=8, bias=True)\n",
      "      (nero_B): Linear(in_features=8, out_features=1024, bias=True)\n",
      "    )\n",
      "    (layers__DOT__18__DOT__self_attn__DOT__v_proj): NeroLayer(\n",
      "      (base_layer): Linear4bit(in_features=4096, out_features=1024, bias=False)\n",
      "      (lora_A): Linear(in_features=4096, out_features=8, bias=False)\n",
      "      (lora_B): Linear(in_features=8, out_features=1024, bias=False)\n",
      "      (nero_A): Linear(in_features=1024, out_features=8, bias=True)\n",
      "      (nero_B): Linear(in_features=8, out_features=1024, bias=True)\n",
      "    )\n",
      "    (layers__DOT__18__DOT__self_attn__DOT__o_proj): NeroLayer(\n",
      "      (base_layer): Linear4bit(in_features=4096, out_features=4096, bias=False)\n",
      "      (lora_A): Linear(in_features=4096, out_features=8, bias=False)\n",
      "      (lora_B): Linear(in_features=8, out_features=4096, bias=False)\n",
      "      (nero_A): Linear(in_features=4096, out_features=8, bias=True)\n",
      "      (nero_B): Linear(in_features=8, out_features=4096, bias=True)\n",
      "    )\n",
      "    (layers__DOT__18__DOT__mlp__DOT__gate_proj): NeroLayer(\n",
      "      (base_layer): Linear4bit(in_features=4096, out_features=14336, bias=False)\n",
      "      (lora_A): Linear(in_features=4096, out_features=8, bias=False)\n",
      "      (lora_B): Linear(in_features=8, out_features=14336, bias=False)\n",
      "      (nero_A): Linear(in_features=14336, out_features=8, bias=True)\n",
      "      (nero_B): Linear(in_features=8, out_features=14336, bias=True)\n",
      "    )\n",
      "    (layers__DOT__18__DOT__mlp__DOT__up_proj): NeroLayer(\n",
      "      (base_layer): Linear4bit(in_features=4096, out_features=14336, bias=False)\n",
      "      (lora_A): Linear(in_features=4096, out_features=8, bias=False)\n",
      "      (lora_B): Linear(in_features=8, out_features=14336, bias=False)\n",
      "      (nero_A): Linear(in_features=14336, out_features=8, bias=True)\n",
      "      (nero_B): Linear(in_features=8, out_features=14336, bias=True)\n",
      "    )\n",
      "    (layers__DOT__18__DOT__mlp__DOT__down_proj): NeroLayer(\n",
      "      (base_layer): Linear4bit(in_features=14336, out_features=4096, bias=False)\n",
      "      (lora_A): Linear(in_features=14336, out_features=8, bias=False)\n",
      "      (lora_B): Linear(in_features=8, out_features=4096, bias=False)\n",
      "      (nero_A): Linear(in_features=4096, out_features=8, bias=True)\n",
      "      (nero_B): Linear(in_features=8, out_features=4096, bias=True)\n",
      "    )\n",
      "    (layers__DOT__19__DOT__self_attn__DOT__q_proj): NeroLayer(\n",
      "      (base_layer): Linear4bit(in_features=4096, out_features=4096, bias=False)\n",
      "      (lora_A): Linear(in_features=4096, out_features=8, bias=False)\n",
      "      (lora_B): Linear(in_features=8, out_features=4096, bias=False)\n",
      "      (nero_A): Linear(in_features=4096, out_features=8, bias=True)\n",
      "      (nero_B): Linear(in_features=8, out_features=4096, bias=True)\n",
      "    )\n",
      "    (layers__DOT__19__DOT__self_attn__DOT__k_proj): NeroLayer(\n",
      "      (base_layer): Linear4bit(in_features=4096, out_features=1024, bias=False)\n",
      "      (lora_A): Linear(in_features=4096, out_features=8, bias=False)\n",
      "      (lora_B): Linear(in_features=8, out_features=1024, bias=False)\n",
      "      (nero_A): Linear(in_features=1024, out_features=8, bias=True)\n",
      "      (nero_B): Linear(in_features=8, out_features=1024, bias=True)\n",
      "    )\n",
      "    (layers__DOT__19__DOT__self_attn__DOT__v_proj): NeroLayer(\n",
      "      (base_layer): Linear4bit(in_features=4096, out_features=1024, bias=False)\n",
      "      (lora_A): Linear(in_features=4096, out_features=8, bias=False)\n",
      "      (lora_B): Linear(in_features=8, out_features=1024, bias=False)\n",
      "      (nero_A): Linear(in_features=1024, out_features=8, bias=True)\n",
      "      (nero_B): Linear(in_features=8, out_features=1024, bias=True)\n",
      "    )\n",
      "    (layers__DOT__19__DOT__self_attn__DOT__o_proj): NeroLayer(\n",
      "      (base_layer): Linear4bit(in_features=4096, out_features=4096, bias=False)\n",
      "      (lora_A): Linear(in_features=4096, out_features=8, bias=False)\n",
      "      (lora_B): Linear(in_features=8, out_features=4096, bias=False)\n",
      "      (nero_A): Linear(in_features=4096, out_features=8, bias=True)\n",
      "      (nero_B): Linear(in_features=8, out_features=4096, bias=True)\n",
      "    )\n",
      "    (layers__DOT__19__DOT__mlp__DOT__gate_proj): NeroLayer(\n",
      "      (base_layer): Linear4bit(in_features=4096, out_features=14336, bias=False)\n",
      "      (lora_A): Linear(in_features=4096, out_features=8, bias=False)\n",
      "      (lora_B): Linear(in_features=8, out_features=14336, bias=False)\n",
      "      (nero_A): Linear(in_features=14336, out_features=8, bias=True)\n",
      "      (nero_B): Linear(in_features=8, out_features=14336, bias=True)\n",
      "    )\n",
      "    (layers__DOT__19__DOT__mlp__DOT__up_proj): NeroLayer(\n",
      "      (base_layer): Linear4bit(in_features=4096, out_features=14336, bias=False)\n",
      "      (lora_A): Linear(in_features=4096, out_features=8, bias=False)\n",
      "      (lora_B): Linear(in_features=8, out_features=14336, bias=False)\n",
      "      (nero_A): Linear(in_features=14336, out_features=8, bias=True)\n",
      "      (nero_B): Linear(in_features=8, out_features=14336, bias=True)\n",
      "    )\n",
      "    (layers__DOT__19__DOT__mlp__DOT__down_proj): NeroLayer(\n",
      "      (base_layer): Linear4bit(in_features=14336, out_features=4096, bias=False)\n",
      "      (lora_A): Linear(in_features=14336, out_features=8, bias=False)\n",
      "      (lora_B): Linear(in_features=8, out_features=4096, bias=False)\n",
      "      (nero_A): Linear(in_features=4096, out_features=8, bias=True)\n",
      "      (nero_B): Linear(in_features=8, out_features=4096, bias=True)\n",
      "    )\n",
      "    (layers__DOT__20__DOT__self_attn__DOT__q_proj): NeroLayer(\n",
      "      (base_layer): Linear4bit(in_features=4096, out_features=4096, bias=False)\n",
      "      (lora_A): Linear(in_features=4096, out_features=8, bias=False)\n",
      "      (lora_B): Linear(in_features=8, out_features=4096, bias=False)\n",
      "      (nero_A): Linear(in_features=4096, out_features=8, bias=True)\n",
      "      (nero_B): Linear(in_features=8, out_features=4096, bias=True)\n",
      "    )\n",
      "    (layers__DOT__20__DOT__self_attn__DOT__k_proj): NeroLayer(\n",
      "      (base_layer): Linear4bit(in_features=4096, out_features=1024, bias=False)\n",
      "      (lora_A): Linear(in_features=4096, out_features=8, bias=False)\n",
      "      (lora_B): Linear(in_features=8, out_features=1024, bias=False)\n",
      "      (nero_A): Linear(in_features=1024, out_features=8, bias=True)\n",
      "      (nero_B): Linear(in_features=8, out_features=1024, bias=True)\n",
      "    )\n",
      "    (layers__DOT__20__DOT__self_attn__DOT__v_proj): NeroLayer(\n",
      "      (base_layer): Linear4bit(in_features=4096, out_features=1024, bias=False)\n",
      "      (lora_A): Linear(in_features=4096, out_features=8, bias=False)\n",
      "      (lora_B): Linear(in_features=8, out_features=1024, bias=False)\n",
      "      (nero_A): Linear(in_features=1024, out_features=8, bias=True)\n",
      "      (nero_B): Linear(in_features=8, out_features=1024, bias=True)\n",
      "    )\n",
      "    (layers__DOT__20__DOT__self_attn__DOT__o_proj): NeroLayer(\n",
      "      (base_layer): Linear4bit(in_features=4096, out_features=4096, bias=False)\n",
      "      (lora_A): Linear(in_features=4096, out_features=8, bias=False)\n",
      "      (lora_B): Linear(in_features=8, out_features=4096, bias=False)\n",
      "      (nero_A): Linear(in_features=4096, out_features=8, bias=True)\n",
      "      (nero_B): Linear(in_features=8, out_features=4096, bias=True)\n",
      "    )\n",
      "    (layers__DOT__20__DOT__mlp__DOT__gate_proj): NeroLayer(\n",
      "      (base_layer): Linear4bit(in_features=4096, out_features=14336, bias=False)\n",
      "      (lora_A): Linear(in_features=4096, out_features=8, bias=False)\n",
      "      (lora_B): Linear(in_features=8, out_features=14336, bias=False)\n",
      "      (nero_A): Linear(in_features=14336, out_features=8, bias=True)\n",
      "      (nero_B): Linear(in_features=8, out_features=14336, bias=True)\n",
      "    )\n",
      "    (layers__DOT__20__DOT__mlp__DOT__up_proj): NeroLayer(\n",
      "      (base_layer): Linear4bit(in_features=4096, out_features=14336, bias=False)\n",
      "      (lora_A): Linear(in_features=4096, out_features=8, bias=False)\n",
      "      (lora_B): Linear(in_features=8, out_features=14336, bias=False)\n",
      "      (nero_A): Linear(in_features=14336, out_features=8, bias=True)\n",
      "      (nero_B): Linear(in_features=8, out_features=14336, bias=True)\n",
      "    )\n",
      "    (layers__DOT__20__DOT__mlp__DOT__down_proj): NeroLayer(\n",
      "      (base_layer): Linear4bit(in_features=14336, out_features=4096, bias=False)\n",
      "      (lora_A): Linear(in_features=14336, out_features=8, bias=False)\n",
      "      (lora_B): Linear(in_features=8, out_features=4096, bias=False)\n",
      "      (nero_A): Linear(in_features=4096, out_features=8, bias=True)\n",
      "      (nero_B): Linear(in_features=8, out_features=4096, bias=True)\n",
      "    )\n",
      "    (layers__DOT__21__DOT__self_attn__DOT__q_proj): NeroLayer(\n",
      "      (base_layer): Linear4bit(in_features=4096, out_features=4096, bias=False)\n",
      "      (lora_A): Linear(in_features=4096, out_features=8, bias=False)\n",
      "      (lora_B): Linear(in_features=8, out_features=4096, bias=False)\n",
      "      (nero_A): Linear(in_features=4096, out_features=8, bias=True)\n",
      "      (nero_B): Linear(in_features=8, out_features=4096, bias=True)\n",
      "    )\n",
      "    (layers__DOT__21__DOT__self_attn__DOT__k_proj): NeroLayer(\n",
      "      (base_layer): Linear4bit(in_features=4096, out_features=1024, bias=False)\n",
      "      (lora_A): Linear(in_features=4096, out_features=8, bias=False)\n",
      "      (lora_B): Linear(in_features=8, out_features=1024, bias=False)\n",
      "      (nero_A): Linear(in_features=1024, out_features=8, bias=True)\n",
      "      (nero_B): Linear(in_features=8, out_features=1024, bias=True)\n",
      "    )\n",
      "    (layers__DOT__21__DOT__self_attn__DOT__v_proj): NeroLayer(\n",
      "      (base_layer): Linear4bit(in_features=4096, out_features=1024, bias=False)\n",
      "      (lora_A): Linear(in_features=4096, out_features=8, bias=False)\n",
      "      (lora_B): Linear(in_features=8, out_features=1024, bias=False)\n",
      "      (nero_A): Linear(in_features=1024, out_features=8, bias=True)\n",
      "      (nero_B): Linear(in_features=8, out_features=1024, bias=True)\n",
      "    )\n",
      "    (layers__DOT__21__DOT__self_attn__DOT__o_proj): NeroLayer(\n",
      "      (base_layer): Linear4bit(in_features=4096, out_features=4096, bias=False)\n",
      "      (lora_A): Linear(in_features=4096, out_features=8, bias=False)\n",
      "      (lora_B): Linear(in_features=8, out_features=4096, bias=False)\n",
      "      (nero_A): Linear(in_features=4096, out_features=8, bias=True)\n",
      "      (nero_B): Linear(in_features=8, out_features=4096, bias=True)\n",
      "    )\n",
      "    (layers__DOT__21__DOT__mlp__DOT__gate_proj): NeroLayer(\n",
      "      (base_layer): Linear4bit(in_features=4096, out_features=14336, bias=False)\n",
      "      (lora_A): Linear(in_features=4096, out_features=8, bias=False)\n",
      "      (lora_B): Linear(in_features=8, out_features=14336, bias=False)\n",
      "      (nero_A): Linear(in_features=14336, out_features=8, bias=True)\n",
      "      (nero_B): Linear(in_features=8, out_features=14336, bias=True)\n",
      "    )\n",
      "    (layers__DOT__21__DOT__mlp__DOT__up_proj): NeroLayer(\n",
      "      (base_layer): Linear4bit(in_features=4096, out_features=14336, bias=False)\n",
      "      (lora_A): Linear(in_features=4096, out_features=8, bias=False)\n",
      "      (lora_B): Linear(in_features=8, out_features=14336, bias=False)\n",
      "      (nero_A): Linear(in_features=14336, out_features=8, bias=True)\n",
      "      (nero_B): Linear(in_features=8, out_features=14336, bias=True)\n",
      "    )\n",
      "    (layers__DOT__21__DOT__mlp__DOT__down_proj): NeroLayer(\n",
      "      (base_layer): Linear4bit(in_features=14336, out_features=4096, bias=False)\n",
      "      (lora_A): Linear(in_features=14336, out_features=8, bias=False)\n",
      "      (lora_B): Linear(in_features=8, out_features=4096, bias=False)\n",
      "      (nero_A): Linear(in_features=4096, out_features=8, bias=True)\n",
      "      (nero_B): Linear(in_features=8, out_features=4096, bias=True)\n",
      "    )\n",
      "    (layers__DOT__22__DOT__self_attn__DOT__q_proj): NeroLayer(\n",
      "      (base_layer): Linear4bit(in_features=4096, out_features=4096, bias=False)\n",
      "      (lora_A): Linear(in_features=4096, out_features=8, bias=False)\n",
      "      (lora_B): Linear(in_features=8, out_features=4096, bias=False)\n",
      "      (nero_A): Linear(in_features=4096, out_features=8, bias=True)\n",
      "      (nero_B): Linear(in_features=8, out_features=4096, bias=True)\n",
      "    )\n",
      "    (layers__DOT__22__DOT__self_attn__DOT__k_proj): NeroLayer(\n",
      "      (base_layer): Linear4bit(in_features=4096, out_features=1024, bias=False)\n",
      "      (lora_A): Linear(in_features=4096, out_features=8, bias=False)\n",
      "      (lora_B): Linear(in_features=8, out_features=1024, bias=False)\n",
      "      (nero_A): Linear(in_features=1024, out_features=8, bias=True)\n",
      "      (nero_B): Linear(in_features=8, out_features=1024, bias=True)\n",
      "    )\n",
      "    (layers__DOT__22__DOT__self_attn__DOT__v_proj): NeroLayer(\n",
      "      (base_layer): Linear4bit(in_features=4096, out_features=1024, bias=False)\n",
      "      (lora_A): Linear(in_features=4096, out_features=8, bias=False)\n",
      "      (lora_B): Linear(in_features=8, out_features=1024, bias=False)\n",
      "      (nero_A): Linear(in_features=1024, out_features=8, bias=True)\n",
      "      (nero_B): Linear(in_features=8, out_features=1024, bias=True)\n",
      "    )\n",
      "    (layers__DOT__22__DOT__self_attn__DOT__o_proj): NeroLayer(\n",
      "      (base_layer): Linear4bit(in_features=4096, out_features=4096, bias=False)\n",
      "      (lora_A): Linear(in_features=4096, out_features=8, bias=False)\n",
      "      (lora_B): Linear(in_features=8, out_features=4096, bias=False)\n",
      "      (nero_A): Linear(in_features=4096, out_features=8, bias=True)\n",
      "      (nero_B): Linear(in_features=8, out_features=4096, bias=True)\n",
      "    )\n",
      "    (layers__DOT__22__DOT__mlp__DOT__gate_proj): NeroLayer(\n",
      "      (base_layer): Linear4bit(in_features=4096, out_features=14336, bias=False)\n",
      "      (lora_A): Linear(in_features=4096, out_features=8, bias=False)\n",
      "      (lora_B): Linear(in_features=8, out_features=14336, bias=False)\n",
      "      (nero_A): Linear(in_features=14336, out_features=8, bias=True)\n",
      "      (nero_B): Linear(in_features=8, out_features=14336, bias=True)\n",
      "    )\n",
      "    (layers__DOT__22__DOT__mlp__DOT__up_proj): NeroLayer(\n",
      "      (base_layer): Linear4bit(in_features=4096, out_features=14336, bias=False)\n",
      "      (lora_A): Linear(in_features=4096, out_features=8, bias=False)\n",
      "      (lora_B): Linear(in_features=8, out_features=14336, bias=False)\n",
      "      (nero_A): Linear(in_features=14336, out_features=8, bias=True)\n",
      "      (nero_B): Linear(in_features=8, out_features=14336, bias=True)\n",
      "    )\n",
      "    (layers__DOT__22__DOT__mlp__DOT__down_proj): NeroLayer(\n",
      "      (base_layer): Linear4bit(in_features=14336, out_features=4096, bias=False)\n",
      "      (lora_A): Linear(in_features=14336, out_features=8, bias=False)\n",
      "      (lora_B): Linear(in_features=8, out_features=4096, bias=False)\n",
      "      (nero_A): Linear(in_features=4096, out_features=8, bias=True)\n",
      "      (nero_B): Linear(in_features=8, out_features=4096, bias=True)\n",
      "    )\n",
      "    (layers__DOT__23__DOT__self_attn__DOT__q_proj): NeroLayer(\n",
      "      (base_layer): Linear4bit(in_features=4096, out_features=4096, bias=False)\n",
      "      (lora_A): Linear(in_features=4096, out_features=8, bias=False)\n",
      "      (lora_B): Linear(in_features=8, out_features=4096, bias=False)\n",
      "      (nero_A): Linear(in_features=4096, out_features=8, bias=True)\n",
      "      (nero_B): Linear(in_features=8, out_features=4096, bias=True)\n",
      "    )\n",
      "    (layers__DOT__23__DOT__self_attn__DOT__k_proj): NeroLayer(\n",
      "      (base_layer): Linear4bit(in_features=4096, out_features=1024, bias=False)\n",
      "      (lora_A): Linear(in_features=4096, out_features=8, bias=False)\n",
      "      (lora_B): Linear(in_features=8, out_features=1024, bias=False)\n",
      "      (nero_A): Linear(in_features=1024, out_features=8, bias=True)\n",
      "      (nero_B): Linear(in_features=8, out_features=1024, bias=True)\n",
      "    )\n",
      "    (layers__DOT__23__DOT__self_attn__DOT__v_proj): NeroLayer(\n",
      "      (base_layer): Linear4bit(in_features=4096, out_features=1024, bias=False)\n",
      "      (lora_A): Linear(in_features=4096, out_features=8, bias=False)\n",
      "      (lora_B): Linear(in_features=8, out_features=1024, bias=False)\n",
      "      (nero_A): Linear(in_features=1024, out_features=8, bias=True)\n",
      "      (nero_B): Linear(in_features=8, out_features=1024, bias=True)\n",
      "    )\n",
      "    (layers__DOT__23__DOT__self_attn__DOT__o_proj): NeroLayer(\n",
      "      (base_layer): Linear4bit(in_features=4096, out_features=4096, bias=False)\n",
      "      (lora_A): Linear(in_features=4096, out_features=8, bias=False)\n",
      "      (lora_B): Linear(in_features=8, out_features=4096, bias=False)\n",
      "      (nero_A): Linear(in_features=4096, out_features=8, bias=True)\n",
      "      (nero_B): Linear(in_features=8, out_features=4096, bias=True)\n",
      "    )\n",
      "    (layers__DOT__23__DOT__mlp__DOT__gate_proj): NeroLayer(\n",
      "      (base_layer): Linear4bit(in_features=4096, out_features=14336, bias=False)\n",
      "      (lora_A): Linear(in_features=4096, out_features=8, bias=False)\n",
      "      (lora_B): Linear(in_features=8, out_features=14336, bias=False)\n",
      "      (nero_A): Linear(in_features=14336, out_features=8, bias=True)\n",
      "      (nero_B): Linear(in_features=8, out_features=14336, bias=True)\n",
      "    )\n",
      "    (layers__DOT__23__DOT__mlp__DOT__up_proj): NeroLayer(\n",
      "      (base_layer): Linear4bit(in_features=4096, out_features=14336, bias=False)\n",
      "      (lora_A): Linear(in_features=4096, out_features=8, bias=False)\n",
      "      (lora_B): Linear(in_features=8, out_features=14336, bias=False)\n",
      "      (nero_A): Linear(in_features=14336, out_features=8, bias=True)\n",
      "      (nero_B): Linear(in_features=8, out_features=14336, bias=True)\n",
      "    )\n",
      "    (layers__DOT__23__DOT__mlp__DOT__down_proj): NeroLayer(\n",
      "      (base_layer): Linear4bit(in_features=14336, out_features=4096, bias=False)\n",
      "      (lora_A): Linear(in_features=14336, out_features=8, bias=False)\n",
      "      (lora_B): Linear(in_features=8, out_features=4096, bias=False)\n",
      "      (nero_A): Linear(in_features=4096, out_features=8, bias=True)\n",
      "      (nero_B): Linear(in_features=8, out_features=4096, bias=True)\n",
      "    )\n",
      "    (layers__DOT__24__DOT__self_attn__DOT__q_proj): NeroLayer(\n",
      "      (base_layer): Linear4bit(in_features=4096, out_features=4096, bias=False)\n",
      "      (lora_A): Linear(in_features=4096, out_features=8, bias=False)\n",
      "      (lora_B): Linear(in_features=8, out_features=4096, bias=False)\n",
      "      (nero_A): Linear(in_features=4096, out_features=8, bias=True)\n",
      "      (nero_B): Linear(in_features=8, out_features=4096, bias=True)\n",
      "    )\n",
      "    (layers__DOT__24__DOT__self_attn__DOT__k_proj): NeroLayer(\n",
      "      (base_layer): Linear4bit(in_features=4096, out_features=1024, bias=False)\n",
      "      (lora_A): Linear(in_features=4096, out_features=8, bias=False)\n",
      "      (lora_B): Linear(in_features=8, out_features=1024, bias=False)\n",
      "      (nero_A): Linear(in_features=1024, out_features=8, bias=True)\n",
      "      (nero_B): Linear(in_features=8, out_features=1024, bias=True)\n",
      "    )\n",
      "    (layers__DOT__24__DOT__self_attn__DOT__v_proj): NeroLayer(\n",
      "      (base_layer): Linear4bit(in_features=4096, out_features=1024, bias=False)\n",
      "      (lora_A): Linear(in_features=4096, out_features=8, bias=False)\n",
      "      (lora_B): Linear(in_features=8, out_features=1024, bias=False)\n",
      "      (nero_A): Linear(in_features=1024, out_features=8, bias=True)\n",
      "      (nero_B): Linear(in_features=8, out_features=1024, bias=True)\n",
      "    )\n",
      "    (layers__DOT__24__DOT__self_attn__DOT__o_proj): NeroLayer(\n",
      "      (base_layer): Linear4bit(in_features=4096, out_features=4096, bias=False)\n",
      "      (lora_A): Linear(in_features=4096, out_features=8, bias=False)\n",
      "      (lora_B): Linear(in_features=8, out_features=4096, bias=False)\n",
      "      (nero_A): Linear(in_features=4096, out_features=8, bias=True)\n",
      "      (nero_B): Linear(in_features=8, out_features=4096, bias=True)\n",
      "    )\n",
      "    (layers__DOT__24__DOT__mlp__DOT__gate_proj): NeroLayer(\n",
      "      (base_layer): Linear4bit(in_features=4096, out_features=14336, bias=False)\n",
      "      (lora_A): Linear(in_features=4096, out_features=8, bias=False)\n",
      "      (lora_B): Linear(in_features=8, out_features=14336, bias=False)\n",
      "      (nero_A): Linear(in_features=14336, out_features=8, bias=True)\n",
      "      (nero_B): Linear(in_features=8, out_features=14336, bias=True)\n",
      "    )\n",
      "    (layers__DOT__24__DOT__mlp__DOT__up_proj): NeroLayer(\n",
      "      (base_layer): Linear4bit(in_features=4096, out_features=14336, bias=False)\n",
      "      (lora_A): Linear(in_features=4096, out_features=8, bias=False)\n",
      "      (lora_B): Linear(in_features=8, out_features=14336, bias=False)\n",
      "      (nero_A): Linear(in_features=14336, out_features=8, bias=True)\n",
      "      (nero_B): Linear(in_features=8, out_features=14336, bias=True)\n",
      "    )\n",
      "    (layers__DOT__24__DOT__mlp__DOT__down_proj): NeroLayer(\n",
      "      (base_layer): Linear4bit(in_features=14336, out_features=4096, bias=False)\n",
      "      (lora_A): Linear(in_features=14336, out_features=8, bias=False)\n",
      "      (lora_B): Linear(in_features=8, out_features=4096, bias=False)\n",
      "      (nero_A): Linear(in_features=4096, out_features=8, bias=True)\n",
      "      (nero_B): Linear(in_features=8, out_features=4096, bias=True)\n",
      "    )\n",
      "    (layers__DOT__25__DOT__self_attn__DOT__q_proj): NeroLayer(\n",
      "      (base_layer): Linear4bit(in_features=4096, out_features=4096, bias=False)\n",
      "      (lora_A): Linear(in_features=4096, out_features=8, bias=False)\n",
      "      (lora_B): Linear(in_features=8, out_features=4096, bias=False)\n",
      "      (nero_A): Linear(in_features=4096, out_features=8, bias=True)\n",
      "      (nero_B): Linear(in_features=8, out_features=4096, bias=True)\n",
      "    )\n",
      "    (layers__DOT__25__DOT__self_attn__DOT__k_proj): NeroLayer(\n",
      "      (base_layer): Linear4bit(in_features=4096, out_features=1024, bias=False)\n",
      "      (lora_A): Linear(in_features=4096, out_features=8, bias=False)\n",
      "      (lora_B): Linear(in_features=8, out_features=1024, bias=False)\n",
      "      (nero_A): Linear(in_features=1024, out_features=8, bias=True)\n",
      "      (nero_B): Linear(in_features=8, out_features=1024, bias=True)\n",
      "    )\n",
      "    (layers__DOT__25__DOT__self_attn__DOT__v_proj): NeroLayer(\n",
      "      (base_layer): Linear4bit(in_features=4096, out_features=1024, bias=False)\n",
      "      (lora_A): Linear(in_features=4096, out_features=8, bias=False)\n",
      "      (lora_B): Linear(in_features=8, out_features=1024, bias=False)\n",
      "      (nero_A): Linear(in_features=1024, out_features=8, bias=True)\n",
      "      (nero_B): Linear(in_features=8, out_features=1024, bias=True)\n",
      "    )\n",
      "    (layers__DOT__25__DOT__self_attn__DOT__o_proj): NeroLayer(\n",
      "      (base_layer): Linear4bit(in_features=4096, out_features=4096, bias=False)\n",
      "      (lora_A): Linear(in_features=4096, out_features=8, bias=False)\n",
      "      (lora_B): Linear(in_features=8, out_features=4096, bias=False)\n",
      "      (nero_A): Linear(in_features=4096, out_features=8, bias=True)\n",
      "      (nero_B): Linear(in_features=8, out_features=4096, bias=True)\n",
      "    )\n",
      "    (layers__DOT__25__DOT__mlp__DOT__gate_proj): NeroLayer(\n",
      "      (base_layer): Linear4bit(in_features=4096, out_features=14336, bias=False)\n",
      "      (lora_A): Linear(in_features=4096, out_features=8, bias=False)\n",
      "      (lora_B): Linear(in_features=8, out_features=14336, bias=False)\n",
      "      (nero_A): Linear(in_features=14336, out_features=8, bias=True)\n",
      "      (nero_B): Linear(in_features=8, out_features=14336, bias=True)\n",
      "    )\n",
      "    (layers__DOT__25__DOT__mlp__DOT__up_proj): NeroLayer(\n",
      "      (base_layer): Linear4bit(in_features=4096, out_features=14336, bias=False)\n",
      "      (lora_A): Linear(in_features=4096, out_features=8, bias=False)\n",
      "      (lora_B): Linear(in_features=8, out_features=14336, bias=False)\n",
      "      (nero_A): Linear(in_features=14336, out_features=8, bias=True)\n",
      "      (nero_B): Linear(in_features=8, out_features=14336, bias=True)\n",
      "    )\n",
      "    (layers__DOT__25__DOT__mlp__DOT__down_proj): NeroLayer(\n",
      "      (base_layer): Linear4bit(in_features=14336, out_features=4096, bias=False)\n",
      "      (lora_A): Linear(in_features=14336, out_features=8, bias=False)\n",
      "      (lora_B): Linear(in_features=8, out_features=4096, bias=False)\n",
      "      (nero_A): Linear(in_features=4096, out_features=8, bias=True)\n",
      "      (nero_B): Linear(in_features=8, out_features=4096, bias=True)\n",
      "    )\n",
      "    (layers__DOT__26__DOT__self_attn__DOT__q_proj): NeroLayer(\n",
      "      (base_layer): Linear4bit(in_features=4096, out_features=4096, bias=False)\n",
      "      (lora_A): Linear(in_features=4096, out_features=8, bias=False)\n",
      "      (lora_B): Linear(in_features=8, out_features=4096, bias=False)\n",
      "      (nero_A): Linear(in_features=4096, out_features=8, bias=True)\n",
      "      (nero_B): Linear(in_features=8, out_features=4096, bias=True)\n",
      "    )\n",
      "    (layers__DOT__26__DOT__self_attn__DOT__k_proj): NeroLayer(\n",
      "      (base_layer): Linear4bit(in_features=4096, out_features=1024, bias=False)\n",
      "      (lora_A): Linear(in_features=4096, out_features=8, bias=False)\n",
      "      (lora_B): Linear(in_features=8, out_features=1024, bias=False)\n",
      "      (nero_A): Linear(in_features=1024, out_features=8, bias=True)\n",
      "      (nero_B): Linear(in_features=8, out_features=1024, bias=True)\n",
      "    )\n",
      "    (layers__DOT__26__DOT__self_attn__DOT__v_proj): NeroLayer(\n",
      "      (base_layer): Linear4bit(in_features=4096, out_features=1024, bias=False)\n",
      "      (lora_A): Linear(in_features=4096, out_features=8, bias=False)\n",
      "      (lora_B): Linear(in_features=8, out_features=1024, bias=False)\n",
      "      (nero_A): Linear(in_features=1024, out_features=8, bias=True)\n",
      "      (nero_B): Linear(in_features=8, out_features=1024, bias=True)\n",
      "    )\n",
      "    (layers__DOT__26__DOT__self_attn__DOT__o_proj): NeroLayer(\n",
      "      (base_layer): Linear4bit(in_features=4096, out_features=4096, bias=False)\n",
      "      (lora_A): Linear(in_features=4096, out_features=8, bias=False)\n",
      "      (lora_B): Linear(in_features=8, out_features=4096, bias=False)\n",
      "      (nero_A): Linear(in_features=4096, out_features=8, bias=True)\n",
      "      (nero_B): Linear(in_features=8, out_features=4096, bias=True)\n",
      "    )\n",
      "    (layers__DOT__26__DOT__mlp__DOT__gate_proj): NeroLayer(\n",
      "      (base_layer): Linear4bit(in_features=4096, out_features=14336, bias=False)\n",
      "      (lora_A): Linear(in_features=4096, out_features=8, bias=False)\n",
      "      (lora_B): Linear(in_features=8, out_features=14336, bias=False)\n",
      "      (nero_A): Linear(in_features=14336, out_features=8, bias=True)\n",
      "      (nero_B): Linear(in_features=8, out_features=14336, bias=True)\n",
      "    )\n",
      "    (layers__DOT__26__DOT__mlp__DOT__up_proj): NeroLayer(\n",
      "      (base_layer): Linear4bit(in_features=4096, out_features=14336, bias=False)\n",
      "      (lora_A): Linear(in_features=4096, out_features=8, bias=False)\n",
      "      (lora_B): Linear(in_features=8, out_features=14336, bias=False)\n",
      "      (nero_A): Linear(in_features=14336, out_features=8, bias=True)\n",
      "      (nero_B): Linear(in_features=8, out_features=14336, bias=True)\n",
      "    )\n",
      "    (layers__DOT__26__DOT__mlp__DOT__down_proj): NeroLayer(\n",
      "      (base_layer): Linear4bit(in_features=14336, out_features=4096, bias=False)\n",
      "      (lora_A): Linear(in_features=14336, out_features=8, bias=False)\n",
      "      (lora_B): Linear(in_features=8, out_features=4096, bias=False)\n",
      "      (nero_A): Linear(in_features=4096, out_features=8, bias=True)\n",
      "      (nero_B): Linear(in_features=8, out_features=4096, bias=True)\n",
      "    )\n",
      "    (layers__DOT__27__DOT__self_attn__DOT__q_proj): NeroLayer(\n",
      "      (base_layer): Linear4bit(in_features=4096, out_features=4096, bias=False)\n",
      "      (lora_A): Linear(in_features=4096, out_features=8, bias=False)\n",
      "      (lora_B): Linear(in_features=8, out_features=4096, bias=False)\n",
      "      (nero_A): Linear(in_features=4096, out_features=8, bias=True)\n",
      "      (nero_B): Linear(in_features=8, out_features=4096, bias=True)\n",
      "    )\n",
      "    (layers__DOT__27__DOT__self_attn__DOT__k_proj): NeroLayer(\n",
      "      (base_layer): Linear4bit(in_features=4096, out_features=1024, bias=False)\n",
      "      (lora_A): Linear(in_features=4096, out_features=8, bias=False)\n",
      "      (lora_B): Linear(in_features=8, out_features=1024, bias=False)\n",
      "      (nero_A): Linear(in_features=1024, out_features=8, bias=True)\n",
      "      (nero_B): Linear(in_features=8, out_features=1024, bias=True)\n",
      "    )\n",
      "    (layers__DOT__27__DOT__self_attn__DOT__v_proj): NeroLayer(\n",
      "      (base_layer): Linear4bit(in_features=4096, out_features=1024, bias=False)\n",
      "      (lora_A): Linear(in_features=4096, out_features=8, bias=False)\n",
      "      (lora_B): Linear(in_features=8, out_features=1024, bias=False)\n",
      "      (nero_A): Linear(in_features=1024, out_features=8, bias=True)\n",
      "      (nero_B): Linear(in_features=8, out_features=1024, bias=True)\n",
      "    )\n",
      "    (layers__DOT__27__DOT__self_attn__DOT__o_proj): NeroLayer(\n",
      "      (base_layer): Linear4bit(in_features=4096, out_features=4096, bias=False)\n",
      "      (lora_A): Linear(in_features=4096, out_features=8, bias=False)\n",
      "      (lora_B): Linear(in_features=8, out_features=4096, bias=False)\n",
      "      (nero_A): Linear(in_features=4096, out_features=8, bias=True)\n",
      "      (nero_B): Linear(in_features=8, out_features=4096, bias=True)\n",
      "    )\n",
      "    (layers__DOT__27__DOT__mlp__DOT__gate_proj): NeroLayer(\n",
      "      (base_layer): Linear4bit(in_features=4096, out_features=14336, bias=False)\n",
      "      (lora_A): Linear(in_features=4096, out_features=8, bias=False)\n",
      "      (lora_B): Linear(in_features=8, out_features=14336, bias=False)\n",
      "      (nero_A): Linear(in_features=14336, out_features=8, bias=True)\n",
      "      (nero_B): Linear(in_features=8, out_features=14336, bias=True)\n",
      "    )\n",
      "    (layers__DOT__27__DOT__mlp__DOT__up_proj): NeroLayer(\n",
      "      (base_layer): Linear4bit(in_features=4096, out_features=14336, bias=False)\n",
      "      (lora_A): Linear(in_features=4096, out_features=8, bias=False)\n",
      "      (lora_B): Linear(in_features=8, out_features=14336, bias=False)\n",
      "      (nero_A): Linear(in_features=14336, out_features=8, bias=True)\n",
      "      (nero_B): Linear(in_features=8, out_features=14336, bias=True)\n",
      "    )\n",
      "    (layers__DOT__27__DOT__mlp__DOT__down_proj): NeroLayer(\n",
      "      (base_layer): Linear4bit(in_features=14336, out_features=4096, bias=False)\n",
      "      (lora_A): Linear(in_features=14336, out_features=8, bias=False)\n",
      "      (lora_B): Linear(in_features=8, out_features=4096, bias=False)\n",
      "      (nero_A): Linear(in_features=4096, out_features=8, bias=True)\n",
      "      (nero_B): Linear(in_features=8, out_features=4096, bias=True)\n",
      "    )\n",
      "    (layers__DOT__28__DOT__self_attn__DOT__q_proj): NeroLayer(\n",
      "      (base_layer): Linear4bit(in_features=4096, out_features=4096, bias=False)\n",
      "      (lora_A): Linear(in_features=4096, out_features=8, bias=False)\n",
      "      (lora_B): Linear(in_features=8, out_features=4096, bias=False)\n",
      "      (nero_A): Linear(in_features=4096, out_features=8, bias=True)\n",
      "      (nero_B): Linear(in_features=8, out_features=4096, bias=True)\n",
      "    )\n",
      "    (layers__DOT__28__DOT__self_attn__DOT__k_proj): NeroLayer(\n",
      "      (base_layer): Linear4bit(in_features=4096, out_features=1024, bias=False)\n",
      "      (lora_A): Linear(in_features=4096, out_features=8, bias=False)\n",
      "      (lora_B): Linear(in_features=8, out_features=1024, bias=False)\n",
      "      (nero_A): Linear(in_features=1024, out_features=8, bias=True)\n",
      "      (nero_B): Linear(in_features=8, out_features=1024, bias=True)\n",
      "    )\n",
      "    (layers__DOT__28__DOT__self_attn__DOT__v_proj): NeroLayer(\n",
      "      (base_layer): Linear4bit(in_features=4096, out_features=1024, bias=False)\n",
      "      (lora_A): Linear(in_features=4096, out_features=8, bias=False)\n",
      "      (lora_B): Linear(in_features=8, out_features=1024, bias=False)\n",
      "      (nero_A): Linear(in_features=1024, out_features=8, bias=True)\n",
      "      (nero_B): Linear(in_features=8, out_features=1024, bias=True)\n",
      "    )\n",
      "    (layers__DOT__28__DOT__self_attn__DOT__o_proj): NeroLayer(\n",
      "      (base_layer): Linear4bit(in_features=4096, out_features=4096, bias=False)\n",
      "      (lora_A): Linear(in_features=4096, out_features=8, bias=False)\n",
      "      (lora_B): Linear(in_features=8, out_features=4096, bias=False)\n",
      "      (nero_A): Linear(in_features=4096, out_features=8, bias=True)\n",
      "      (nero_B): Linear(in_features=8, out_features=4096, bias=True)\n",
      "    )\n",
      "    (layers__DOT__28__DOT__mlp__DOT__gate_proj): NeroLayer(\n",
      "      (base_layer): Linear4bit(in_features=4096, out_features=14336, bias=False)\n",
      "      (lora_A): Linear(in_features=4096, out_features=8, bias=False)\n",
      "      (lora_B): Linear(in_features=8, out_features=14336, bias=False)\n",
      "      (nero_A): Linear(in_features=14336, out_features=8, bias=True)\n",
      "      (nero_B): Linear(in_features=8, out_features=14336, bias=True)\n",
      "    )\n",
      "    (layers__DOT__28__DOT__mlp__DOT__up_proj): NeroLayer(\n",
      "      (base_layer): Linear4bit(in_features=4096, out_features=14336, bias=False)\n",
      "      (lora_A): Linear(in_features=4096, out_features=8, bias=False)\n",
      "      (lora_B): Linear(in_features=8, out_features=14336, bias=False)\n",
      "      (nero_A): Linear(in_features=14336, out_features=8, bias=True)\n",
      "      (nero_B): Linear(in_features=8, out_features=14336, bias=True)\n",
      "    )\n",
      "    (layers__DOT__28__DOT__mlp__DOT__down_proj): NeroLayer(\n",
      "      (base_layer): Linear4bit(in_features=14336, out_features=4096, bias=False)\n",
      "      (lora_A): Linear(in_features=14336, out_features=8, bias=False)\n",
      "      (lora_B): Linear(in_features=8, out_features=4096, bias=False)\n",
      "      (nero_A): Linear(in_features=4096, out_features=8, bias=True)\n",
      "      (nero_B): Linear(in_features=8, out_features=4096, bias=True)\n",
      "    )\n",
      "    (layers__DOT__29__DOT__self_attn__DOT__q_proj): NeroLayer(\n",
      "      (base_layer): Linear4bit(in_features=4096, out_features=4096, bias=False)\n",
      "      (lora_A): Linear(in_features=4096, out_features=8, bias=False)\n",
      "      (lora_B): Linear(in_features=8, out_features=4096, bias=False)\n",
      "      (nero_A): Linear(in_features=4096, out_features=8, bias=True)\n",
      "      (nero_B): Linear(in_features=8, out_features=4096, bias=True)\n",
      "    )\n",
      "    (layers__DOT__29__DOT__self_attn__DOT__k_proj): NeroLayer(\n",
      "      (base_layer): Linear4bit(in_features=4096, out_features=1024, bias=False)\n",
      "      (lora_A): Linear(in_features=4096, out_features=8, bias=False)\n",
      "      (lora_B): Linear(in_features=8, out_features=1024, bias=False)\n",
      "      (nero_A): Linear(in_features=1024, out_features=8, bias=True)\n",
      "      (nero_B): Linear(in_features=8, out_features=1024, bias=True)\n",
      "    )\n",
      "    (layers__DOT__29__DOT__self_attn__DOT__v_proj): NeroLayer(\n",
      "      (base_layer): Linear4bit(in_features=4096, out_features=1024, bias=False)\n",
      "      (lora_A): Linear(in_features=4096, out_features=8, bias=False)\n",
      "      (lora_B): Linear(in_features=8, out_features=1024, bias=False)\n",
      "      (nero_A): Linear(in_features=1024, out_features=8, bias=True)\n",
      "      (nero_B): Linear(in_features=8, out_features=1024, bias=True)\n",
      "    )\n",
      "    (layers__DOT__29__DOT__self_attn__DOT__o_proj): NeroLayer(\n",
      "      (base_layer): Linear4bit(in_features=4096, out_features=4096, bias=False)\n",
      "      (lora_A): Linear(in_features=4096, out_features=8, bias=False)\n",
      "      (lora_B): Linear(in_features=8, out_features=4096, bias=False)\n",
      "      (nero_A): Linear(in_features=4096, out_features=8, bias=True)\n",
      "      (nero_B): Linear(in_features=8, out_features=4096, bias=True)\n",
      "    )\n",
      "    (layers__DOT__29__DOT__mlp__DOT__gate_proj): NeroLayer(\n",
      "      (base_layer): Linear4bit(in_features=4096, out_features=14336, bias=False)\n",
      "      (lora_A): Linear(in_features=4096, out_features=8, bias=False)\n",
      "      (lora_B): Linear(in_features=8, out_features=14336, bias=False)\n",
      "      (nero_A): Linear(in_features=14336, out_features=8, bias=True)\n",
      "      (nero_B): Linear(in_features=8, out_features=14336, bias=True)\n",
      "    )\n",
      "    (layers__DOT__29__DOT__mlp__DOT__up_proj): NeroLayer(\n",
      "      (base_layer): Linear4bit(in_features=4096, out_features=14336, bias=False)\n",
      "      (lora_A): Linear(in_features=4096, out_features=8, bias=False)\n",
      "      (lora_B): Linear(in_features=8, out_features=14336, bias=False)\n",
      "      (nero_A): Linear(in_features=14336, out_features=8, bias=True)\n",
      "      (nero_B): Linear(in_features=8, out_features=14336, bias=True)\n",
      "    )\n",
      "    (layers__DOT__29__DOT__mlp__DOT__down_proj): NeroLayer(\n",
      "      (base_layer): Linear4bit(in_features=14336, out_features=4096, bias=False)\n",
      "      (lora_A): Linear(in_features=14336, out_features=8, bias=False)\n",
      "      (lora_B): Linear(in_features=8, out_features=4096, bias=False)\n",
      "      (nero_A): Linear(in_features=4096, out_features=8, bias=True)\n",
      "      (nero_B): Linear(in_features=8, out_features=4096, bias=True)\n",
      "    )\n",
      "    (layers__DOT__30__DOT__self_attn__DOT__q_proj): NeroLayer(\n",
      "      (base_layer): Linear4bit(in_features=4096, out_features=4096, bias=False)\n",
      "      (lora_A): Linear(in_features=4096, out_features=8, bias=False)\n",
      "      (lora_B): Linear(in_features=8, out_features=4096, bias=False)\n",
      "      (nero_A): Linear(in_features=4096, out_features=8, bias=True)\n",
      "      (nero_B): Linear(in_features=8, out_features=4096, bias=True)\n",
      "    )\n",
      "    (layers__DOT__30__DOT__self_attn__DOT__k_proj): NeroLayer(\n",
      "      (base_layer): Linear4bit(in_features=4096, out_features=1024, bias=False)\n",
      "      (lora_A): Linear(in_features=4096, out_features=8, bias=False)\n",
      "      (lora_B): Linear(in_features=8, out_features=1024, bias=False)\n",
      "      (nero_A): Linear(in_features=1024, out_features=8, bias=True)\n",
      "      (nero_B): Linear(in_features=8, out_features=1024, bias=True)\n",
      "    )\n",
      "    (layers__DOT__30__DOT__self_attn__DOT__v_proj): NeroLayer(\n",
      "      (base_layer): Linear4bit(in_features=4096, out_features=1024, bias=False)\n",
      "      (lora_A): Linear(in_features=4096, out_features=8, bias=False)\n",
      "      (lora_B): Linear(in_features=8, out_features=1024, bias=False)\n",
      "      (nero_A): Linear(in_features=1024, out_features=8, bias=True)\n",
      "      (nero_B): Linear(in_features=8, out_features=1024, bias=True)\n",
      "    )\n",
      "    (layers__DOT__30__DOT__self_attn__DOT__o_proj): NeroLayer(\n",
      "      (base_layer): Linear4bit(in_features=4096, out_features=4096, bias=False)\n",
      "      (lora_A): Linear(in_features=4096, out_features=8, bias=False)\n",
      "      (lora_B): Linear(in_features=8, out_features=4096, bias=False)\n",
      "      (nero_A): Linear(in_features=4096, out_features=8, bias=True)\n",
      "      (nero_B): Linear(in_features=8, out_features=4096, bias=True)\n",
      "    )\n",
      "    (layers__DOT__30__DOT__mlp__DOT__gate_proj): NeroLayer(\n",
      "      (base_layer): Linear4bit(in_features=4096, out_features=14336, bias=False)\n",
      "      (lora_A): Linear(in_features=4096, out_features=8, bias=False)\n",
      "      (lora_B): Linear(in_features=8, out_features=14336, bias=False)\n",
      "      (nero_A): Linear(in_features=14336, out_features=8, bias=True)\n",
      "      (nero_B): Linear(in_features=8, out_features=14336, bias=True)\n",
      "    )\n",
      "    (layers__DOT__30__DOT__mlp__DOT__up_proj): NeroLayer(\n",
      "      (base_layer): Linear4bit(in_features=4096, out_features=14336, bias=False)\n",
      "      (lora_A): Linear(in_features=4096, out_features=8, bias=False)\n",
      "      (lora_B): Linear(in_features=8, out_features=14336, bias=False)\n",
      "      (nero_A): Linear(in_features=14336, out_features=8, bias=True)\n",
      "      (nero_B): Linear(in_features=8, out_features=14336, bias=True)\n",
      "    )\n",
      "    (layers__DOT__30__DOT__mlp__DOT__down_proj): NeroLayer(\n",
      "      (base_layer): Linear4bit(in_features=14336, out_features=4096, bias=False)\n",
      "      (lora_A): Linear(in_features=14336, out_features=8, bias=False)\n",
      "      (lora_B): Linear(in_features=8, out_features=4096, bias=False)\n",
      "      (nero_A): Linear(in_features=4096, out_features=8, bias=True)\n",
      "      (nero_B): Linear(in_features=8, out_features=4096, bias=True)\n",
      "    )\n",
      "    (layers__DOT__31__DOT__self_attn__DOT__q_proj): NeroLayer(\n",
      "      (base_layer): Linear4bit(in_features=4096, out_features=4096, bias=False)\n",
      "      (lora_A): Linear(in_features=4096, out_features=8, bias=False)\n",
      "      (lora_B): Linear(in_features=8, out_features=4096, bias=False)\n",
      "      (nero_A): Linear(in_features=4096, out_features=8, bias=True)\n",
      "      (nero_B): Linear(in_features=8, out_features=4096, bias=True)\n",
      "    )\n",
      "    (layers__DOT__31__DOT__self_attn__DOT__k_proj): NeroLayer(\n",
      "      (base_layer): Linear4bit(in_features=4096, out_features=1024, bias=False)\n",
      "      (lora_A): Linear(in_features=4096, out_features=8, bias=False)\n",
      "      (lora_B): Linear(in_features=8, out_features=1024, bias=False)\n",
      "      (nero_A): Linear(in_features=1024, out_features=8, bias=True)\n",
      "      (nero_B): Linear(in_features=8, out_features=1024, bias=True)\n",
      "    )\n",
      "    (layers__DOT__31__DOT__self_attn__DOT__v_proj): NeroLayer(\n",
      "      (base_layer): Linear4bit(in_features=4096, out_features=1024, bias=False)\n",
      "      (lora_A): Linear(in_features=4096, out_features=8, bias=False)\n",
      "      (lora_B): Linear(in_features=8, out_features=1024, bias=False)\n",
      "      (nero_A): Linear(in_features=1024, out_features=8, bias=True)\n",
      "      (nero_B): Linear(in_features=8, out_features=1024, bias=True)\n",
      "    )\n",
      "    (layers__DOT__31__DOT__self_attn__DOT__o_proj): NeroLayer(\n",
      "      (base_layer): Linear4bit(in_features=4096, out_features=4096, bias=False)\n",
      "      (lora_A): Linear(in_features=4096, out_features=8, bias=False)\n",
      "      (lora_B): Linear(in_features=8, out_features=4096, bias=False)\n",
      "      (nero_A): Linear(in_features=4096, out_features=8, bias=True)\n",
      "      (nero_B): Linear(in_features=8, out_features=4096, bias=True)\n",
      "    )\n",
      "    (layers__DOT__31__DOT__mlp__DOT__gate_proj): NeroLayer(\n",
      "      (base_layer): Linear4bit(in_features=4096, out_features=14336, bias=False)\n",
      "      (lora_A): Linear(in_features=4096, out_features=8, bias=False)\n",
      "      (lora_B): Linear(in_features=8, out_features=14336, bias=False)\n",
      "      (nero_A): Linear(in_features=14336, out_features=8, bias=True)\n",
      "      (nero_B): Linear(in_features=8, out_features=14336, bias=True)\n",
      "    )\n",
      "    (layers__DOT__31__DOT__mlp__DOT__up_proj): NeroLayer(\n",
      "      (base_layer): Linear4bit(in_features=4096, out_features=14336, bias=False)\n",
      "      (lora_A): Linear(in_features=4096, out_features=8, bias=False)\n",
      "      (lora_B): Linear(in_features=8, out_features=14336, bias=False)\n",
      "      (nero_A): Linear(in_features=14336, out_features=8, bias=True)\n",
      "      (nero_B): Linear(in_features=8, out_features=14336, bias=True)\n",
      "    )\n",
      "    (layers__DOT__31__DOT__mlp__DOT__down_proj): NeroLayer(\n",
      "      (base_layer): Linear4bit(in_features=14336, out_features=4096, bias=False)\n",
      "      (lora_A): Linear(in_features=14336, out_features=8, bias=False)\n",
      "      (lora_B): Linear(in_features=8, out_features=4096, bias=False)\n",
      "      (nero_A): Linear(in_features=4096, out_features=8, bias=True)\n",
      "      (nero_B): Linear(in_features=8, out_features=4096, bias=True)\n",
      "    )\n",
      "  )\n",
      ")\n"
     ]
    }
   ],
   "source": [
    "class NeroLayer(nn.Module):\n",
    "    def __init__(self, base_layer, rank, alpha, lora_bias, nero_bias=False):\n",
    "        super().__init__()\n",
    "        self.base_layer = base_layer\n",
    "        self.alpha = alpha\n",
    "        self.lora_bias = lora_bias\n",
    "\n",
    "        # Extract input and output features from the base layer\n",
    "        in_features = getattr(base_layer, 'in_features', None)\n",
    "        out_features = getattr(base_layer, 'out_features', None)\n",
    "\n",
    "        if in_features is None or out_features is None:\n",
    "            raise ValueError(f\"Cannot determine in_features or out_features from {base_layer}\")\n",
    "        \n",
    "        # LoRA decomposition: A (down-projection) and B (up-projection)\n",
    "        self.lora_A = nn.Linear(in_features, rank, bias=lora_bias)  # Projects down\n",
    "        self.lora_B = nn.Linear(rank, out_features, bias=lora_bias) # Projects up\n",
    "\n",
    "        # Initialize LoRA matrices: A ~ N(0, 1/rank), B initialized to 0\n",
    "        std = 1 / torch.sqrt(torch.tensor(rank).float())\n",
    "        nn.init.normal_(self.lora_A.weight, mean=0.0, std=std)\n",
    "        nn.init.zeros_(self.lora_B.weight)\n",
    "\n",
    "        # Nero decomposition: additional transformation applied to LoRA output\n",
    "        self.nero_A = nn.Linear(out_features, rank, bias=nero_bias)\n",
    "        self.nero_B = nn.Linear(rank, out_features, bias=nero_bias)\n",
    "\n",
    "        # Initialize Nero matrices similarly\n",
    "        nn.init.normal_(self.nero_A.weight, mean=0.0, std=std)\n",
    "        nn.init.zeros_(self.nero_B.weight)\n",
    "        \n",
    "    def forward(self, x):\n",
    "        # Forward through base layer\n",
    "        base_out = self.base_layer(x)\n",
    "\n",
    "        # LoRA transformation\n",
    "        lora_A_out = self.lora_A(x)\n",
    "        lora_B_out = self.lora_B(lora_A_out)\n",
    "        lora_out = self.alpha * lora_B_out\n",
    "\n",
    "        # Nero transformation (applied on top of LoRA output)\n",
    "        nero_A_out = self.nero_A(lora_out)\n",
    "        nero_B_out = self.nero_B(nero_A_out)\n",
    "        nero_out = F.relu(self.alpha * nero_B_out)\n",
    "        \n",
    "        return base_out + nero_out, nero_out\n",
    "\n",
    "    def load_lora_weights(self, state_dict, prefix):\n",
    "        self.lora_A.weight.data = state_dict[f'{prefix}.lora_A.weight']\n",
    "        self.lora_B.weight.data = state_dict[f'{prefix}.lora_B.weight']\n",
    "        if self.lora_bias:\n",
    "            self.lora_A.bias.data = state_dict[f'{prefix}.lora_A.bias']\n",
    "            self.lora_B.bias.data = state_dict[f'{prefix}.lora_B.bias']\n",
    "    \n",
    "class NeroModel(nn.Module):\n",
    "    def __init__(self, base_model: nn.Module, lora_config: LoraConfig, nero_bias: bool=False):\n",
    "        super().__init__()\n",
    "        self.base_model = base_model\n",
    "        self.nero_bias = nero_bias\n",
    "        self.nero_layers = nn.ModuleDict()\n",
    "\n",
    "        # Wrap target layers with NeroLayer\n",
    "        self._wrap_target_layers(lora_config)\n",
    "        \n",
    "        # Freeze all parameters except Nero-specific weights\n",
    "        self.freeze_except_nero()\n",
    "    \n",
    "    def _wrap_target_layers(self, lora_config):\n",
    "        for module_name, module in self.base_model.named_modules():\n",
    "            if isinstance(module, NeroLayer):\n",
    "                # Convert module name format and store reference\n",
    "                module_name = module_name.rsplit('model.', 1)[-1]\n",
    "                module_name = module_name.replace('.', '__DOT__')\n",
    "                self.nero_layers[module_name] = module\n",
    "                continue\n",
    "\n",
    "            if any(module_name.endswith(target_module) for target_module in lora_config.target_modules) and isinstance(module, nn.Linear):    \n",
    "                parent_module, child_name = self._get_parent_module(module_name)\n",
    "                lora_layer = NeroLayer(module, lora_config.r, lora_config.lora_alpha, lora_config.lora_bias, nero_bias=self.nero_bias)\n",
    "                setattr(parent_module, child_name, lora_layer)\n",
    "\n",
    "                # Store LoRA layers for weight loading\n",
    "                module_name = module_name.rsplit('model.', 1)[-1]\n",
    "                module_name = module_name.replace('.', '__DOT__')\n",
    "                self.nero_layers[module_name] = lora_layer\n",
    "    \n",
    "    def _get_parent_module(self, module_name):\n",
    "        parts = module_name.split('.')\n",
    "        parent_module = self.base_model\n",
    "        for part in parts[:-1]:\n",
    "            parent_module = getattr(parent_module, part)\n",
    "        return parent_module, parts[-1]\n",
    "\n",
    "    def freeze_except_nero(self):\n",
    "        for param in self.base_model.parameters():\n",
    "            param.requires_grad = False\n",
    "        \n",
    "        for nero_layer in self.nero_layers.values():\n",
    "            for param_name, param in nero_layer.named_parameters():\n",
    "                if 'nero_A' in param_name or 'nero_B' in param_name:\n",
    "                    param.requires_grad = True\n",
    "                else:\n",
    "                    param.requires_grad = False\n",
    "    \n",
    "    def unfreeze_all(self):\n",
    "        for param in self.base_model.parameters():\n",
    "            param.requires_grad = True\n",
    "        \n",
    "        for nero_layer in self.nero_layers.values():\n",
    "            for param in nero_layer.parameters():\n",
    "                param.requires_grad = True\n",
    "    \n",
    "    def load_lora_weights(self, lora_path):\n",
    "        state_dict = load_file(lora_path)\n",
    "        prefix = list(state_dict.keys())[0].rsplit('model.', 1)[0] + 'model.'\n",
    "        for nero_layer_name, nero_layer in self.nero_layers.items():\n",
    "            nero_layer_name = nero_layer_name.replace('__DOT__', '.')\n",
    "            nero_layer_name = prefix + nero_layer_name\n",
    "            if f'{nero_layer_name}.lora_A.weight' in state_dict and f'{nero_layer_name}.lora_B.weight' in state_dict:\n",
    "                nero_layer.load_lora_weights(state_dict, nero_layer_name)\n",
    "            else:\n",
    "                # TODO: Print a warning message\n",
    "                pass\n",
    "        print(\"LoRA weights loaded successfully!\")\n",
    "    \n",
    "    def forward(self, input_ids, attention_mask=None):\n",
    "        nero_outs = {}\n",
    "        \n",
    "        def _hook_fn(module, _in, _out):\n",
    "            layer_name = module._name # Assume each layer has a unique name\n",
    "            if isinstance(_out, tuple) and len(_out) == 2:\n",
    "                layer_out, nero_out = _out\n",
    "                nero_outs[layer_name] = nero_out # Store nero_out separately\n",
    "                return layer_out # Return only layer_out to avoid breaking model flow\n",
    "\n",
    "        # Register hooks to extract nero_out during forward pass\n",
    "        hooks = []\n",
    "        for layer_name, layer in self.nero_layers.items():\n",
    "            layer._name = layer_name # Assign unique name to each layer\n",
    "            hook = layer.register_forward_hook(_hook_fn)\n",
    "            hooks.append(hook)\n",
    "        \n",
    "        # Run forward pass\n",
    "        out = self.base_model(input_ids, attention_mask=attention_mask)\n",
    "\n",
    "        # Remove hooks after forward pass\n",
    "        for hook in hooks:\n",
    "            hook.remove()\n",
    "\n",
    "        return out, nero_outs # Return both main output and collected nero_outs\n",
    "\n",
    "nero_model = NeroModel(model, lora_config, nero_bias=True)\n",
    "print(nero_model)"
   ]
  },
  {
   "cell_type": "code",
   "execution_count": 9,
   "metadata": {},
   "outputs": [
    {
     "name": "stdout",
     "output_type": "stream",
     "text": [
      "Check LoRA parameters:\n",
      "Name: base_model.model.layers.0.self_attn.q_proj.lora_A.weight\n",
      "Mean: -0.004193529486656189\n"
     ]
    }
   ],
   "source": [
    "@torch.no_grad()\n",
    "def check_lora_parameters(model):\n",
    "    print(\"Check LoRA parameters:\")\n",
    "    for module_name, module in model.named_parameters():\n",
    "        if 'lora' in module_name:\n",
    "            print(\"Name:\", module_name)\n",
    "            print(\"Mean:\", module.mean().item())\n",
    "            break\n",
    "\n",
    "check_lora_parameters(nero_model)"
   ]
  },
  {
   "cell_type": "code",
   "execution_count": 10,
   "metadata": {},
   "outputs": [
    {
     "name": "stdout",
     "output_type": "stream",
     "text": [
      "LoRA weights loaded successfully!\n",
      "Check LoRA parameters:\n",
      "Name: base_model.model.layers.0.self_attn.q_proj.lora_A.weight\n",
      "Mean: 4.938062556902878e-05\n"
     ]
    }
   ],
   "source": [
    "lora_path = os.path.join(lora_dir, 'adapter_model.safetensors')\n",
    "nero_model.load_lora_weights(lora_path)\n",
    "check_lora_parameters(nero_model)"
   ]
  }
 ],
 "metadata": {
  "kernelspec": {
   "display_name": "Python 3 (ipykernel)",
   "language": "python",
   "name": "python3"
  },
  "language_info": {
   "codemirror_mode": {
    "name": "ipython",
    "version": 3
   },
   "file_extension": ".py",
   "mimetype": "text/x-python",
   "name": "python",
   "nbconvert_exporter": "python",
   "pygments_lexer": "ipython3",
   "version": "3.11.11"
  }
 },
 "nbformat": 4,
 "nbformat_minor": 2
}
