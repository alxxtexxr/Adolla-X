{
 "cells": [
  {
   "cell_type": "code",
   "execution_count": 1,
   "metadata": {},
   "outputs": [],
   "source": [
    "# Kill all processess on GPU\n",
    "# !fuser -v /dev/nvidia* -k"
   ]
  },
  {
   "cell_type": "markdown",
   "metadata": {},
   "source": [
    "# Libraries"
   ]
  },
  {
   "cell_type": "code",
   "execution_count": 2,
   "metadata": {},
   "outputs": [],
   "source": [
    "%%capture\n",
    "import os\n",
    "if 'COLAB_' not in ''.join(os.environ.keys()):\n",
    "    %pip install unsloth\n",
    "else:\n",
    "    # Do this only in Colab notebooks and Kaggle notebooks!\n",
    "    %pip install --no-deps bitsandbytes accelerate xformers==0.0.29 peft trl triton\n",
    "    %pip install --no-deps cut_cross_entropy unsloth_zoo\n",
    "    %pip install sentencepiece protobuf datasets huggingface_hub hf_transfer\n",
    "    %pip install --no-deps unsloth"
   ]
  },
  {
   "cell_type": "code",
   "execution_count": 11,
   "metadata": {},
   "outputs": [],
   "source": [
    "import os\n",
    "import torch  # type: ignore\n",
    "# from datetime import datetime\n",
    "# from datasets import load_dataset\n",
    "from unsloth import FastLanguageModel # type: ignore\n",
    "from transformers import TrainingArguments  # type: ignore\n",
    "from trl import SFTTrainer  # type: ignore\n",
    "from peft import LoraConfig # type: ignore\n",
    "from huggingface_hub import snapshot_download # type: ignore\n",
    "from safetensors.torch import load_file # type: ignore\n",
    "from pprint import pprint"
   ]
  },
  {
   "cell_type": "markdown",
   "metadata": {},
   "source": [
    "# Config"
   ]
  },
  {
   "cell_type": "code",
   "execution_count": 5,
   "metadata": {},
   "outputs": [],
   "source": [
    "# Project config\n",
    "seed = 69 # Nice.\n",
    "\n",
    "# Model config\n",
    "max_seq_length = 1024\n",
    "dtype = None # None for auto detection. Float16 for Tesla T4, V100, Bfloat16 for Ampere+\n",
    "load_in_4bit = True # Use 4bit quantization to reduce memory usage. Can be False.\n",
    "\n",
    "# LoRA config\n",
    "hf_lora_id = 'alxxtexxr/L3.1-8B-wikipedia-en-LoRA-v20250305134947'\n",
    "lora_dir = hf_lora_id.split('/')[-1]"
   ]
  },
  {
   "cell_type": "code",
   "execution_count": 2,
   "metadata": {},
   "outputs": [
    {
     "name": "stdout",
     "output_type": "stream",
     "text": [
      "🦥 Unsloth: Will patch your computer to enable 2x faster free finetuning.\n"
     ]
    },
    {
     "name": "stderr",
     "output_type": "stream",
     "text": [
      "WARNING:xformers:WARNING[XFORMERS]: xFormers can't load C++/CUDA extensions. xFormers was built for:\n",
      "    PyTorch 2.5.1+cu121 with CUDA 1201 (you have 2.6.0+cu124)\n",
      "    Python  3.11.11 (you have 3.11.11)\n",
      "  Please reinstall xformers (see https://github.com/facebookresearch/xformers#installing-xformers)\n",
      "  Memory-efficient attention, SwiGLU, sparse and more won't be available.\n",
      "  Set XFORMERS_MORE_DETAILS=1 for more details\n"
     ]
    },
    {
     "name": "stdout",
     "output_type": "stream",
     "text": [
      "🦥 Unsloth Zoo will now patch everything to make training faster!\n"
     ]
    },
    {
     "data": {
      "application/vnd.jupyter.widget-view+json": {
       "model_id": "68f6a8d6f4d54e419a0ef13ee6fcfd7f",
       "version_major": 2,
       "version_minor": 0
      },
      "text/plain": [
       ".gitattributes:   0%|          | 0.00/1.57k [00:00<?, ?B/s]"
      ]
     },
     "metadata": {},
     "output_type": "display_data"
    },
    {
     "data": {
      "application/vnd.jupyter.widget-view+json": {
       "model_id": "5151754ecd564215a06f19bd2da777fa",
       "version_major": 2,
       "version_minor": 0
      },
      "text/plain": [
       "adapter_config.json:   0%|          | 0.00/812 [00:00<?, ?B/s]"
      ]
     },
     "metadata": {},
     "output_type": "display_data"
    },
    {
     "data": {
      "application/vnd.jupyter.widget-view+json": {
       "model_id": "375396d9289b45e791d0456038c8490f",
       "version_major": 2,
       "version_minor": 0
      },
      "text/plain": [
       "adapter_model.safetensors:   0%|          | 0.00/83.9M [00:00<?, ?B/s]"
      ]
     },
     "metadata": {},
     "output_type": "display_data"
    },
    {
     "data": {
      "application/vnd.jupyter.widget-view+json": {
       "model_id": "d954d93a573a4c55b2f1d462763ce833",
       "version_major": 2,
       "version_minor": 0
      },
      "text/plain": [
       "README.md:   0%|          | 0.00/5.12k [00:00<?, ?B/s]"
      ]
     },
     "metadata": {},
     "output_type": "display_data"
    },
    {
     "data": {
      "application/vnd.jupyter.widget-view+json": {
       "model_id": "68dd10cf784d4cafbe6e5c747aeff991",
       "version_major": 2,
       "version_minor": 0
      },
      "text/plain": [
       "adapter_config.json:   0%|          | 0.00/812 [00:00<?, ?B/s]"
      ]
     },
     "metadata": {},
     "output_type": "display_data"
    },
    {
     "data": {
      "application/vnd.jupyter.widget-view+json": {
       "model_id": "ee5adf0011794791ac3427f2642c284c",
       "version_major": 2,
       "version_minor": 0
      },
      "text/plain": [
       "adapter_model.safetensors:   0%|          | 0.00/83.9M [00:00<?, ?B/s]"
      ]
     },
     "metadata": {},
     "output_type": "display_data"
    },
    {
     "data": {
      "application/vnd.jupyter.widget-view+json": {
       "model_id": "240818911e484894b1301945a3f04a8f",
       "version_major": 2,
       "version_minor": 0
      },
      "text/plain": [
       "optimizer.pt:   0%|          | 0.00/43.1M [00:00<?, ?B/s]"
      ]
     },
     "metadata": {},
     "output_type": "display_data"
    },
    {
     "data": {
      "application/vnd.jupyter.widget-view+json": {
       "model_id": "d50fa12b340845aeb33f33f816067776",
       "version_major": 2,
       "version_minor": 0
      },
      "text/plain": [
       "rng_state.pth:   0%|          | 0.00/14.2k [00:00<?, ?B/s]"
      ]
     },
     "metadata": {},
     "output_type": "display_data"
    },
    {
     "data": {
      "application/vnd.jupyter.widget-view+json": {
       "model_id": "ae77d78906b0490081a40bd3c6b26ea6",
       "version_major": 2,
       "version_minor": 0
      },
      "text/plain": [
       "scheduler.pt:   0%|          | 0.00/1.06k [00:00<?, ?B/s]"
      ]
     },
     "metadata": {},
     "output_type": "display_data"
    },
    {
     "data": {
      "application/vnd.jupyter.widget-view+json": {
       "model_id": "947dde2cdb6c4ec39e34ad52d01f2346",
       "version_major": 2,
       "version_minor": 0
      },
      "text/plain": [
       "special_tokens_map.json:   0%|          | 0.00/459 [00:00<?, ?B/s]"
      ]
     },
     "metadata": {},
     "output_type": "display_data"
    },
    {
     "data": {
      "application/vnd.jupyter.widget-view+json": {
       "model_id": "24c7494e798846df9318ef5239419833",
       "version_major": 2,
       "version_minor": 0
      },
      "text/plain": [
       "tokenizer.json:   0%|          | 0.00/17.2M [00:00<?, ?B/s]"
      ]
     },
     "metadata": {},
     "output_type": "display_data"
    },
    {
     "data": {
      "application/vnd.jupyter.widget-view+json": {
       "model_id": "45abb1202f6647a78205dacc904528f9",
       "version_major": 2,
       "version_minor": 0
      },
      "text/plain": [
       "tokenizer_config.json:   0%|          | 0.00/50.6k [00:00<?, ?B/s]"
      ]
     },
     "metadata": {},
     "output_type": "display_data"
    },
    {
     "data": {
      "application/vnd.jupyter.widget-view+json": {
       "model_id": "002d196f362b496bba3cd307212304bb",
       "version_major": 2,
       "version_minor": 0
      },
      "text/plain": [
       "trainer_state.json:   0%|          | 0.00/16.7k [00:00<?, ?B/s]"
      ]
     },
     "metadata": {},
     "output_type": "display_data"
    },
    {
     "data": {
      "application/vnd.jupyter.widget-view+json": {
       "model_id": "5d029ec3670a402fa938437776484716",
       "version_major": 2,
       "version_minor": 0
      },
      "text/plain": [
       "training_args.bin:   0%|          | 0.00/5.75k [00:00<?, ?B/s]"
      ]
     },
     "metadata": {},
     "output_type": "display_data"
    },
    {
     "data": {
      "application/vnd.jupyter.widget-view+json": {
       "model_id": "a83a63fb204a4871a23b411fac0b041b",
       "version_major": 2,
       "version_minor": 0
      },
      "text/plain": [
       "README.md:   0%|          | 0.00/5.12k [00:00<?, ?B/s]"
      ]
     },
     "metadata": {},
     "output_type": "display_data"
    },
    {
     "data": {
      "application/vnd.jupyter.widget-view+json": {
       "model_id": "83f8b199dcd747759fec61ba3b614f61",
       "version_major": 2,
       "version_minor": 0
      },
      "text/plain": [
       "adapter_config.json:   0%|          | 0.00/812 [00:00<?, ?B/s]"
      ]
     },
     "metadata": {},
     "output_type": "display_data"
    },
    {
     "data": {
      "application/vnd.jupyter.widget-view+json": {
       "model_id": "31301b341f6a42beb2ce10871fdebd02",
       "version_major": 2,
       "version_minor": 0
      },
      "text/plain": [
       "adapter_model.safetensors:   0%|          | 0.00/83.9M [00:00<?, ?B/s]"
      ]
     },
     "metadata": {},
     "output_type": "display_data"
    },
    {
     "data": {
      "application/vnd.jupyter.widget-view+json": {
       "model_id": "b749749d08e748359fb0fbf1ae1b0b96",
       "version_major": 2,
       "version_minor": 0
      },
      "text/plain": [
       "optimizer.pt:   0%|          | 0.00/43.1M [00:00<?, ?B/s]"
      ]
     },
     "metadata": {},
     "output_type": "display_data"
    },
    {
     "data": {
      "application/vnd.jupyter.widget-view+json": {
       "model_id": "eeb7e0cabef34641bc512affac998751",
       "version_major": 2,
       "version_minor": 0
      },
      "text/plain": [
       "rng_state.pth:   0%|          | 0.00/14.2k [00:00<?, ?B/s]"
      ]
     },
     "metadata": {},
     "output_type": "display_data"
    },
    {
     "data": {
      "application/vnd.jupyter.widget-view+json": {
       "model_id": "9e1bee6f02d243d8aa98d196c381d0a2",
       "version_major": 2,
       "version_minor": 0
      },
      "text/plain": [
       "scheduler.pt:   0%|          | 0.00/1.06k [00:00<?, ?B/s]"
      ]
     },
     "metadata": {},
     "output_type": "display_data"
    },
    {
     "data": {
      "application/vnd.jupyter.widget-view+json": {
       "model_id": "8ffde1b529164fc291e14a8b1a3f9db6",
       "version_major": 2,
       "version_minor": 0
      },
      "text/plain": [
       "special_tokens_map.json:   0%|          | 0.00/459 [00:00<?, ?B/s]"
      ]
     },
     "metadata": {},
     "output_type": "display_data"
    },
    {
     "data": {
      "application/vnd.jupyter.widget-view+json": {
       "model_id": "96852b26992d44059e649f44c6ca74d6",
       "version_major": 2,
       "version_minor": 0
      },
      "text/plain": [
       "tokenizer.json:   0%|          | 0.00/17.2M [00:00<?, ?B/s]"
      ]
     },
     "metadata": {},
     "output_type": "display_data"
    },
    {
     "data": {
      "application/vnd.jupyter.widget-view+json": {
       "model_id": "443340b7a39d4847a4a851e7f914a0fc",
       "version_major": 2,
       "version_minor": 0
      },
      "text/plain": [
       "tokenizer_config.json:   0%|          | 0.00/50.6k [00:00<?, ?B/s]"
      ]
     },
     "metadata": {},
     "output_type": "display_data"
    },
    {
     "data": {
      "application/vnd.jupyter.widget-view+json": {
       "model_id": "aaf0447695e54fe88001097a9f951de6",
       "version_major": 2,
       "version_minor": 0
      },
      "text/plain": [
       "trainer_state.json:   0%|          | 0.00/32.7k [00:00<?, ?B/s]"
      ]
     },
     "metadata": {},
     "output_type": "display_data"
    },
    {
     "data": {
      "application/vnd.jupyter.widget-view+json": {
       "model_id": "32bffc42c8a048afacdaed831013fb33",
       "version_major": 2,
       "version_minor": 0
      },
      "text/plain": [
       "training_args.bin:   0%|          | 0.00/5.75k [00:00<?, ?B/s]"
      ]
     },
     "metadata": {},
     "output_type": "display_data"
    },
    {
     "data": {
      "application/vnd.jupyter.widget-view+json": {
       "model_id": "77bb310be7a04debbc5239123c3ece5d",
       "version_major": 2,
       "version_minor": 0
      },
      "text/plain": [
       "README.md:   0%|          | 0.00/5.12k [00:00<?, ?B/s]"
      ]
     },
     "metadata": {},
     "output_type": "display_data"
    },
    {
     "data": {
      "application/vnd.jupyter.widget-view+json": {
       "model_id": "e2de95b0446d439eb6532be6598acd53",
       "version_major": 2,
       "version_minor": 0
      },
      "text/plain": [
       "adapter_config.json:   0%|          | 0.00/812 [00:00<?, ?B/s]"
      ]
     },
     "metadata": {},
     "output_type": "display_data"
    },
    {
     "data": {
      "application/vnd.jupyter.widget-view+json": {
       "model_id": "af42dbc67d8a4f61b7de1d0fac435192",
       "version_major": 2,
       "version_minor": 0
      },
      "text/plain": [
       "adapter_model.safetensors:   0%|          | 0.00/83.9M [00:00<?, ?B/s]"
      ]
     },
     "metadata": {},
     "output_type": "display_data"
    },
    {
     "data": {
      "application/vnd.jupyter.widget-view+json": {
       "model_id": "e45d8a986de84275a09217d2d019fe8a",
       "version_major": 2,
       "version_minor": 0
      },
      "text/plain": [
       "optimizer.pt:   0%|          | 0.00/44.3M [00:00<?, ?B/s]"
      ]
     },
     "metadata": {},
     "output_type": "display_data"
    },
    {
     "data": {
      "application/vnd.jupyter.widget-view+json": {
       "model_id": "5ff5487943d842dbaaa75a57398736e7",
       "version_major": 2,
       "version_minor": 0
      },
      "text/plain": [
       "rng_state.pth:   0%|          | 0.00/14.2k [00:00<?, ?B/s]"
      ]
     },
     "metadata": {},
     "output_type": "display_data"
    },
    {
     "data": {
      "application/vnd.jupyter.widget-view+json": {
       "model_id": "00e0e3de8462452d9ebbba7ac9467636",
       "version_major": 2,
       "version_minor": 0
      },
      "text/plain": [
       "scheduler.pt:   0%|          | 0.00/1.06k [00:00<?, ?B/s]"
      ]
     },
     "metadata": {},
     "output_type": "display_data"
    },
    {
     "data": {
      "application/vnd.jupyter.widget-view+json": {
       "model_id": "5eff25288b8c4e40bef9604696c0a6d3",
       "version_major": 2,
       "version_minor": 0
      },
      "text/plain": [
       "special_tokens_map.json:   0%|          | 0.00/459 [00:00<?, ?B/s]"
      ]
     },
     "metadata": {},
     "output_type": "display_data"
    },
    {
     "data": {
      "application/vnd.jupyter.widget-view+json": {
       "model_id": "9d5b8c1fdedc443fa68c5136ce696a21",
       "version_major": 2,
       "version_minor": 0
      },
      "text/plain": [
       "tokenizer.json:   0%|          | 0.00/17.2M [00:00<?, ?B/s]"
      ]
     },
     "metadata": {},
     "output_type": "display_data"
    },
    {
     "data": {
      "application/vnd.jupyter.widget-view+json": {
       "model_id": "a29b77e048e44f3db6a3241c69a2c74d",
       "version_major": 2,
       "version_minor": 0
      },
      "text/plain": [
       "tokenizer_config.json:   0%|          | 0.00/50.6k [00:00<?, ?B/s]"
      ]
     },
     "metadata": {},
     "output_type": "display_data"
    },
    {
     "data": {
      "application/vnd.jupyter.widget-view+json": {
       "model_id": "61b18df14d014c9283ef924fef690fe0",
       "version_major": 2,
       "version_minor": 0
      },
      "text/plain": [
       "trainer_state.json:   0%|          | 0.00/48.9k [00:00<?, ?B/s]"
      ]
     },
     "metadata": {},
     "output_type": "display_data"
    },
    {
     "data": {
      "application/vnd.jupyter.widget-view+json": {
       "model_id": "35c0b53888ac47a6959c3a35cadf21b8",
       "version_major": 2,
       "version_minor": 0
      },
      "text/plain": [
       "training_args.bin:   0%|          | 0.00/5.75k [00:00<?, ?B/s]"
      ]
     },
     "metadata": {},
     "output_type": "display_data"
    },
    {
     "data": {
      "application/vnd.jupyter.widget-view+json": {
       "model_id": "1791dc0573ff4fe19d5dee9d3a95a140",
       "version_major": 2,
       "version_minor": 0
      },
      "text/plain": [
       "README.md:   0%|          | 0.00/5.12k [00:00<?, ?B/s]"
      ]
     },
     "metadata": {},
     "output_type": "display_data"
    },
    {
     "data": {
      "application/vnd.jupyter.widget-view+json": {
       "model_id": "acc3544558254f96b40ccad11b561bc8",
       "version_major": 2,
       "version_minor": 0
      },
      "text/plain": [
       "adapter_config.json:   0%|          | 0.00/812 [00:00<?, ?B/s]"
      ]
     },
     "metadata": {},
     "output_type": "display_data"
    },
    {
     "data": {
      "application/vnd.jupyter.widget-view+json": {
       "model_id": "46bed2cb21ef4f9f982b4b98f753fa36",
       "version_major": 2,
       "version_minor": 0
      },
      "text/plain": [
       "adapter_model.safetensors:   0%|          | 0.00/83.9M [00:00<?, ?B/s]"
      ]
     },
     "metadata": {},
     "output_type": "display_data"
    },
    {
     "data": {
      "application/vnd.jupyter.widget-view+json": {
       "model_id": "76cedada77c844308039894cbca8164c",
       "version_major": 2,
       "version_minor": 0
      },
      "text/plain": [
       "optimizer.pt:   0%|          | 0.00/44.3M [00:00<?, ?B/s]"
      ]
     },
     "metadata": {},
     "output_type": "display_data"
    },
    {
     "data": {
      "application/vnd.jupyter.widget-view+json": {
       "model_id": "052bb0c65e9644f48fd412a6f666b774",
       "version_major": 2,
       "version_minor": 0
      },
      "text/plain": [
       "rng_state.pth:   0%|          | 0.00/14.2k [00:00<?, ?B/s]"
      ]
     },
     "metadata": {},
     "output_type": "display_data"
    },
    {
     "data": {
      "application/vnd.jupyter.widget-view+json": {
       "model_id": "503195d681ed484ea62bc2af7906efdc",
       "version_major": 2,
       "version_minor": 0
      },
      "text/plain": [
       "scheduler.pt:   0%|          | 0.00/1.06k [00:00<?, ?B/s]"
      ]
     },
     "metadata": {},
     "output_type": "display_data"
    },
    {
     "data": {
      "application/vnd.jupyter.widget-view+json": {
       "model_id": "dd9b063d435442cf9bd74484448e49fb",
       "version_major": 2,
       "version_minor": 0
      },
      "text/plain": [
       "special_tokens_map.json:   0%|          | 0.00/459 [00:00<?, ?B/s]"
      ]
     },
     "metadata": {},
     "output_type": "display_data"
    },
    {
     "data": {
      "application/vnd.jupyter.widget-view+json": {
       "model_id": "3b6c4d07c1cc4155b1dea3bdf56b3867",
       "version_major": 2,
       "version_minor": 0
      },
      "text/plain": [
       "tokenizer.json:   0%|          | 0.00/17.2M [00:00<?, ?B/s]"
      ]
     },
     "metadata": {},
     "output_type": "display_data"
    },
    {
     "data": {
      "application/vnd.jupyter.widget-view+json": {
       "model_id": "5c0dbe1d43be4488b1923580aca051de",
       "version_major": 2,
       "version_minor": 0
      },
      "text/plain": [
       "tokenizer_config.json:   0%|          | 0.00/50.6k [00:00<?, ?B/s]"
      ]
     },
     "metadata": {},
     "output_type": "display_data"
    },
    {
     "data": {
      "application/vnd.jupyter.widget-view+json": {
       "model_id": "8588cc1331e8412892410cb9a40df862",
       "version_major": 2,
       "version_minor": 0
      },
      "text/plain": [
       "trainer_state.json:   0%|          | 0.00/65.0k [00:00<?, ?B/s]"
      ]
     },
     "metadata": {},
     "output_type": "display_data"
    },
    {
     "data": {
      "application/vnd.jupyter.widget-view+json": {
       "model_id": "ece206ba7bc84cba96839cfb8949b72d",
       "version_major": 2,
       "version_minor": 0
      },
      "text/plain": [
       "training_args.bin:   0%|          | 0.00/5.75k [00:00<?, ?B/s]"
      ]
     },
     "metadata": {},
     "output_type": "display_data"
    },
    {
     "data": {
      "application/vnd.jupyter.widget-view+json": {
       "model_id": "abf41d429c5b4ff8acb5626c5074126e",
       "version_major": 2,
       "version_minor": 0
      },
      "text/plain": [
       "README.md:   0%|          | 0.00/5.12k [00:00<?, ?B/s]"
      ]
     },
     "metadata": {},
     "output_type": "display_data"
    },
    {
     "data": {
      "application/vnd.jupyter.widget-view+json": {
       "model_id": "470f8dcc9b134aebb822aecbaf1d0427",
       "version_major": 2,
       "version_minor": 0
      },
      "text/plain": [
       "adapter_config.json:   0%|          | 0.00/812 [00:00<?, ?B/s]"
      ]
     },
     "metadata": {},
     "output_type": "display_data"
    },
    {
     "data": {
      "application/vnd.jupyter.widget-view+json": {
       "model_id": "ba988f884d1b4aeb9931bafc12e93fa6",
       "version_major": 2,
       "version_minor": 0
      },
      "text/plain": [
       "adapter_model.safetensors:   0%|          | 0.00/83.9M [00:00<?, ?B/s]"
      ]
     },
     "metadata": {},
     "output_type": "display_data"
    },
    {
     "data": {
      "application/vnd.jupyter.widget-view+json": {
       "model_id": "fc0dc38122f14adb9787110264587adf",
       "version_major": 2,
       "version_minor": 0
      },
      "text/plain": [
       "optimizer.pt:   0%|          | 0.00/44.3M [00:00<?, ?B/s]"
      ]
     },
     "metadata": {},
     "output_type": "display_data"
    },
    {
     "data": {
      "application/vnd.jupyter.widget-view+json": {
       "model_id": "892d399da4b84dad8b27e163dfe87e31",
       "version_major": 2,
       "version_minor": 0
      },
      "text/plain": [
       "rng_state.pth:   0%|          | 0.00/14.2k [00:00<?, ?B/s]"
      ]
     },
     "metadata": {},
     "output_type": "display_data"
    },
    {
     "data": {
      "application/vnd.jupyter.widget-view+json": {
       "model_id": "de01af6325c544ea91b746172dfb3a88",
       "version_major": 2,
       "version_minor": 0
      },
      "text/plain": [
       "scheduler.pt:   0%|          | 0.00/1.06k [00:00<?, ?B/s]"
      ]
     },
     "metadata": {},
     "output_type": "display_data"
    },
    {
     "data": {
      "application/vnd.jupyter.widget-view+json": {
       "model_id": "c58348f6127e4f8082a5970ff1602a58",
       "version_major": 2,
       "version_minor": 0
      },
      "text/plain": [
       "special_tokens_map.json:   0%|          | 0.00/459 [00:00<?, ?B/s]"
      ]
     },
     "metadata": {},
     "output_type": "display_data"
    },
    {
     "data": {
      "application/vnd.jupyter.widget-view+json": {
       "model_id": "dad5ab75d8544ae9a76bbc4ea1d876b5",
       "version_major": 2,
       "version_minor": 0
      },
      "text/plain": [
       "tokenizer.json:   0%|          | 0.00/17.2M [00:00<?, ?B/s]"
      ]
     },
     "metadata": {},
     "output_type": "display_data"
    },
    {
     "data": {
      "application/vnd.jupyter.widget-view+json": {
       "model_id": "0ecabef89d694c1a88ee8b8581b8775f",
       "version_major": 2,
       "version_minor": 0
      },
      "text/plain": [
       "tokenizer_config.json:   0%|          | 0.00/50.6k [00:00<?, ?B/s]"
      ]
     },
     "metadata": {},
     "output_type": "display_data"
    },
    {
     "data": {
      "application/vnd.jupyter.widget-view+json": {
       "model_id": "844e4bcc548545bfb6c6edc24f7f53f6",
       "version_major": 2,
       "version_minor": 0
      },
      "text/plain": [
       "trainer_state.json:   0%|          | 0.00/81.4k [00:00<?, ?B/s]"
      ]
     },
     "metadata": {},
     "output_type": "display_data"
    },
    {
     "data": {
      "application/vnd.jupyter.widget-view+json": {
       "model_id": "550c02492ef74a4a9e6377d7530e66ad",
       "version_major": 2,
       "version_minor": 0
      },
      "text/plain": [
       "training_args.bin:   0%|          | 0.00/5.75k [00:00<?, ?B/s]"
      ]
     },
     "metadata": {},
     "output_type": "display_data"
    },
    {
     "data": {
      "application/vnd.jupyter.widget-view+json": {
       "model_id": "ab0b93f6cd7b469fa6d1f01bd4dc9a21",
       "version_major": 2,
       "version_minor": 0
      },
      "text/plain": [
       "README.md:   0%|          | 0.00/5.12k [00:00<?, ?B/s]"
      ]
     },
     "metadata": {},
     "output_type": "display_data"
    },
    {
     "data": {
      "application/vnd.jupyter.widget-view+json": {
       "model_id": "4d29c12124124e568923070fda607e33",
       "version_major": 2,
       "version_minor": 0
      },
      "text/plain": [
       "adapter_config.json:   0%|          | 0.00/812 [00:00<?, ?B/s]"
      ]
     },
     "metadata": {},
     "output_type": "display_data"
    },
    {
     "data": {
      "application/vnd.jupyter.widget-view+json": {
       "model_id": "171ad16460924e55ba89c67ff81094d7",
       "version_major": 2,
       "version_minor": 0
      },
      "text/plain": [
       "adapter_model.safetensors:   0%|          | 0.00/83.9M [00:00<?, ?B/s]"
      ]
     },
     "metadata": {},
     "output_type": "display_data"
    },
    {
     "data": {
      "application/vnd.jupyter.widget-view+json": {
       "model_id": "073479fbf88e47b79933bc8f1f48985f",
       "version_major": 2,
       "version_minor": 0
      },
      "text/plain": [
       "optimizer.pt:   0%|          | 0.00/44.3M [00:00<?, ?B/s]"
      ]
     },
     "metadata": {},
     "output_type": "display_data"
    },
    {
     "data": {
      "application/vnd.jupyter.widget-view+json": {
       "model_id": "4d8c8881b46e41a8a66278e82ac21fb1",
       "version_major": 2,
       "version_minor": 0
      },
      "text/plain": [
       "rng_state.pth:   0%|          | 0.00/14.2k [00:00<?, ?B/s]"
      ]
     },
     "metadata": {},
     "output_type": "display_data"
    },
    {
     "data": {
      "application/vnd.jupyter.widget-view+json": {
       "model_id": "c871635c522741acb4a8b0834c273019",
       "version_major": 2,
       "version_minor": 0
      },
      "text/plain": [
       "scheduler.pt:   0%|          | 0.00/1.06k [00:00<?, ?B/s]"
      ]
     },
     "metadata": {},
     "output_type": "display_data"
    },
    {
     "data": {
      "application/vnd.jupyter.widget-view+json": {
       "model_id": "2031ce563ea8450d8d9d1a2a10403677",
       "version_major": 2,
       "version_minor": 0
      },
      "text/plain": [
       "special_tokens_map.json:   0%|          | 0.00/459 [00:00<?, ?B/s]"
      ]
     },
     "metadata": {},
     "output_type": "display_data"
    },
    {
     "data": {
      "application/vnd.jupyter.widget-view+json": {
       "model_id": "bbbb8f856db74881b5aefc17b4d070a9",
       "version_major": 2,
       "version_minor": 0
      },
      "text/plain": [
       "tokenizer.json:   0%|          | 0.00/17.2M [00:00<?, ?B/s]"
      ]
     },
     "metadata": {},
     "output_type": "display_data"
    },
    {
     "data": {
      "application/vnd.jupyter.widget-view+json": {
       "model_id": "a73b1cb77dc545e48ab84b182a06b59c",
       "version_major": 2,
       "version_minor": 0
      },
      "text/plain": [
       "tokenizer_config.json:   0%|          | 0.00/50.6k [00:00<?, ?B/s]"
      ]
     },
     "metadata": {},
     "output_type": "display_data"
    },
    {
     "data": {
      "application/vnd.jupyter.widget-view+json": {
       "model_id": "6d98a7f0c36648578bf21d43f4343788",
       "version_major": 2,
       "version_minor": 0
      },
      "text/plain": [
       "trainer_state.json:   0%|          | 0.00/97.5k [00:00<?, ?B/s]"
      ]
     },
     "metadata": {},
     "output_type": "display_data"
    },
    {
     "data": {
      "application/vnd.jupyter.widget-view+json": {
       "model_id": "ab596bc4cdec4cf9bb6de1612401e3ff",
       "version_major": 2,
       "version_minor": 0
      },
      "text/plain": [
       "training_args.bin:   0%|          | 0.00/5.75k [00:00<?, ?B/s]"
      ]
     },
     "metadata": {},
     "output_type": "display_data"
    },
    {
     "data": {
      "application/vnd.jupyter.widget-view+json": {
       "model_id": "a91cbbf791994ee5a55f146097658b4b",
       "version_major": 2,
       "version_minor": 0
      },
      "text/plain": [
       "README.md:   0%|          | 0.00/5.12k [00:00<?, ?B/s]"
      ]
     },
     "metadata": {},
     "output_type": "display_data"
    },
    {
     "data": {
      "application/vnd.jupyter.widget-view+json": {
       "model_id": "4d02a212e1774d8a911add863114ce81",
       "version_major": 2,
       "version_minor": 0
      },
      "text/plain": [
       "adapter_config.json:   0%|          | 0.00/812 [00:00<?, ?B/s]"
      ]
     },
     "metadata": {},
     "output_type": "display_data"
    },
    {
     "data": {
      "application/vnd.jupyter.widget-view+json": {
       "model_id": "3714fd1c07fa48fcaa2822ffd80116ee",
       "version_major": 2,
       "version_minor": 0
      },
      "text/plain": [
       "adapter_model.safetensors:   0%|          | 0.00/83.9M [00:00<?, ?B/s]"
      ]
     },
     "metadata": {},
     "output_type": "display_data"
    },
    {
     "data": {
      "application/vnd.jupyter.widget-view+json": {
       "model_id": "e02dffff647344e6bcb1e37c2a67eced",
       "version_major": 2,
       "version_minor": 0
      },
      "text/plain": [
       "optimizer.pt:   0%|          | 0.00/44.3M [00:00<?, ?B/s]"
      ]
     },
     "metadata": {},
     "output_type": "display_data"
    },
    {
     "data": {
      "application/vnd.jupyter.widget-view+json": {
       "model_id": "a69fe0825beb494f9df547ed1be4ec18",
       "version_major": 2,
       "version_minor": 0
      },
      "text/plain": [
       "rng_state.pth:   0%|          | 0.00/14.2k [00:00<?, ?B/s]"
      ]
     },
     "metadata": {},
     "output_type": "display_data"
    },
    {
     "data": {
      "application/vnd.jupyter.widget-view+json": {
       "model_id": "6c11da28adb546d4b4891265cff44057",
       "version_major": 2,
       "version_minor": 0
      },
      "text/plain": [
       "scheduler.pt:   0%|          | 0.00/1.06k [00:00<?, ?B/s]"
      ]
     },
     "metadata": {},
     "output_type": "display_data"
    },
    {
     "data": {
      "application/vnd.jupyter.widget-view+json": {
       "model_id": "b1d9f9e3d0a24ff6b4cd40c08711f931",
       "version_major": 2,
       "version_minor": 0
      },
      "text/plain": [
       "special_tokens_map.json:   0%|          | 0.00/459 [00:00<?, ?B/s]"
      ]
     },
     "metadata": {},
     "output_type": "display_data"
    },
    {
     "data": {
      "application/vnd.jupyter.widget-view+json": {
       "model_id": "36d88bb8b3514d39913ad48221c50700",
       "version_major": 2,
       "version_minor": 0
      },
      "text/plain": [
       "tokenizer.json:   0%|          | 0.00/17.2M [00:00<?, ?B/s]"
      ]
     },
     "metadata": {},
     "output_type": "display_data"
    },
    {
     "data": {
      "application/vnd.jupyter.widget-view+json": {
       "model_id": "85a8c33cc912462eb739070586b8bbff",
       "version_major": 2,
       "version_minor": 0
      },
      "text/plain": [
       "tokenizer_config.json:   0%|          | 0.00/50.6k [00:00<?, ?B/s]"
      ]
     },
     "metadata": {},
     "output_type": "display_data"
    },
    {
     "data": {
      "application/vnd.jupyter.widget-view+json": {
       "model_id": "544e9a7ad885409ab482d7644ac6fd0a",
       "version_major": 2,
       "version_minor": 0
      },
      "text/plain": [
       "trainer_state.json:   0%|          | 0.00/114k [00:00<?, ?B/s]"
      ]
     },
     "metadata": {},
     "output_type": "display_data"
    },
    {
     "data": {
      "application/vnd.jupyter.widget-view+json": {
       "model_id": "d6a1d20ab5f74aab8dde30727c48d8cd",
       "version_major": 2,
       "version_minor": 0
      },
      "text/plain": [
       "training_args.bin:   0%|          | 0.00/5.75k [00:00<?, ?B/s]"
      ]
     },
     "metadata": {},
     "output_type": "display_data"
    },
    {
     "data": {
      "application/vnd.jupyter.widget-view+json": {
       "model_id": "3c7a5f53b9a941828f91756f49a07bb1",
       "version_major": 2,
       "version_minor": 0
      },
      "text/plain": [
       "README.md:   0%|          | 0.00/5.12k [00:00<?, ?B/s]"
      ]
     },
     "metadata": {},
     "output_type": "display_data"
    },
    {
     "data": {
      "application/vnd.jupyter.widget-view+json": {
       "model_id": "8a0a9b6869374991ab9180c6f43b9d8d",
       "version_major": 2,
       "version_minor": 0
      },
      "text/plain": [
       "adapter_config.json:   0%|          | 0.00/812 [00:00<?, ?B/s]"
      ]
     },
     "metadata": {},
     "output_type": "display_data"
    },
    {
     "data": {
      "application/vnd.jupyter.widget-view+json": {
       "model_id": "1e39bd94a49f4b1ca2aa8f6f6d349a80",
       "version_major": 2,
       "version_minor": 0
      },
      "text/plain": [
       "adapter_model.safetensors:   0%|          | 0.00/83.9M [00:00<?, ?B/s]"
      ]
     },
     "metadata": {},
     "output_type": "display_data"
    },
    {
     "data": {
      "application/vnd.jupyter.widget-view+json": {
       "model_id": "44883ac2f0ab41f39b72af4893f63e2d",
       "version_major": 2,
       "version_minor": 0
      },
      "text/plain": [
       "optimizer.pt:   0%|          | 0.00/44.3M [00:00<?, ?B/s]"
      ]
     },
     "metadata": {},
     "output_type": "display_data"
    },
    {
     "data": {
      "application/vnd.jupyter.widget-view+json": {
       "model_id": "ec67f2c0a2d14483a6ed69176c22c864",
       "version_major": 2,
       "version_minor": 0
      },
      "text/plain": [
       "rng_state.pth:   0%|          | 0.00/14.2k [00:00<?, ?B/s]"
      ]
     },
     "metadata": {},
     "output_type": "display_data"
    },
    {
     "data": {
      "application/vnd.jupyter.widget-view+json": {
       "model_id": "640a58e49feb4a0ebda4de44e07f13c6",
       "version_major": 2,
       "version_minor": 0
      },
      "text/plain": [
       "scheduler.pt:   0%|          | 0.00/1.06k [00:00<?, ?B/s]"
      ]
     },
     "metadata": {},
     "output_type": "display_data"
    },
    {
     "data": {
      "application/vnd.jupyter.widget-view+json": {
       "model_id": "2451b1caf5db495c880d563e834f6676",
       "version_major": 2,
       "version_minor": 0
      },
      "text/plain": [
       "special_tokens_map.json:   0%|          | 0.00/459 [00:00<?, ?B/s]"
      ]
     },
     "metadata": {},
     "output_type": "display_data"
    },
    {
     "data": {
      "application/vnd.jupyter.widget-view+json": {
       "model_id": "250c0a40f11b4666a30e3c99b2e5ec80",
       "version_major": 2,
       "version_minor": 0
      },
      "text/plain": [
       "tokenizer.json:   0%|          | 0.00/17.2M [00:00<?, ?B/s]"
      ]
     },
     "metadata": {},
     "output_type": "display_data"
    },
    {
     "data": {
      "application/vnd.jupyter.widget-view+json": {
       "model_id": "7a6e2d78d9724039b2e44d8ced528507",
       "version_major": 2,
       "version_minor": 0
      },
      "text/plain": [
       "tokenizer_config.json:   0%|          | 0.00/50.6k [00:00<?, ?B/s]"
      ]
     },
     "metadata": {},
     "output_type": "display_data"
    },
    {
     "data": {
      "application/vnd.jupyter.widget-view+json": {
       "model_id": "0d5219501edf4e8ebc25b5973753bac2",
       "version_major": 2,
       "version_minor": 0
      },
      "text/plain": [
       "trainer_state.json:   0%|          | 0.00/122k [00:00<?, ?B/s]"
      ]
     },
     "metadata": {},
     "output_type": "display_data"
    },
    {
     "data": {
      "application/vnd.jupyter.widget-view+json": {
       "model_id": "ff615aac4e1c4691b84a65e8e4e17fe9",
       "version_major": 2,
       "version_minor": 0
      },
      "text/plain": [
       "training_args.bin:   0%|          | 0.00/5.75k [00:00<?, ?B/s]"
      ]
     },
     "metadata": {},
     "output_type": "display_data"
    },
    {
     "data": {
      "application/vnd.jupyter.widget-view+json": {
       "model_id": "ca722af1b6d74a37b60593bbc4afe546",
       "version_major": 2,
       "version_minor": 0
      },
      "text/plain": [
       "(…).tfevents.1741182714.5172c9540b89.8159.0:   0%|          | 0.00/50.1k [00:00<?, ?B/s]"
      ]
     },
     "metadata": {},
     "output_type": "display_data"
    },
    {
     "data": {
      "application/vnd.jupyter.widget-view+json": {
       "model_id": "bd0908261deb42949f15448a6d585747",
       "version_major": 2,
       "version_minor": 0
      },
      "text/plain": [
       "(…).tfevents.1741192136.40cd2355fd32.1061.0:   0%|          | 0.00/29.5k [00:00<?, ?B/s]"
      ]
     },
     "metadata": {},
     "output_type": "display_data"
    },
    {
     "data": {
      "application/vnd.jupyter.widget-view+json": {
       "model_id": "c6dd63e11cb647c7953176057cdb0f36",
       "version_major": 2,
       "version_minor": 0
      },
      "text/plain": [
       "(…).tfevents.1741219006.8da8ca61af90.1084.0:   0%|          | 0.00/29.5k [00:00<?, ?B/s]"
      ]
     },
     "metadata": {},
     "output_type": "display_data"
    },
    {
     "data": {
      "application/vnd.jupyter.widget-view+json": {
       "model_id": "f638072baf584a6d97e97c3d0ed37dc6",
       "version_major": 2,
       "version_minor": 0
      },
      "text/plain": [
       "(…).tfevents.1741232833.506a328f2d3f.1088.0:   0%|          | 0.00/74.1k [00:00<?, ?B/s]"
      ]
     },
     "metadata": {},
     "output_type": "display_data"
    },
    {
     "data": {
      "application/vnd.jupyter.widget-view+json": {
       "model_id": "452b695c826a479e88f36d5bb315e437",
       "version_major": 2,
       "version_minor": 0
      },
      "text/plain": [
       "special_tokens_map.json:   0%|          | 0.00/459 [00:00<?, ?B/s]"
      ]
     },
     "metadata": {},
     "output_type": "display_data"
    },
    {
     "data": {
      "application/vnd.jupyter.widget-view+json": {
       "model_id": "ae51aeb6c4cf453fa2dc750342fa9c55",
       "version_major": 2,
       "version_minor": 0
      },
      "text/plain": [
       "tokenizer.json:   0%|          | 0.00/17.2M [00:00<?, ?B/s]"
      ]
     },
     "metadata": {},
     "output_type": "display_data"
    },
    {
     "data": {
      "application/vnd.jupyter.widget-view+json": {
       "model_id": "4c85981ff041464eae7266bc15c8219a",
       "version_major": 2,
       "version_minor": 0
      },
      "text/plain": [
       "tokenizer_config.json:   0%|          | 0.00/50.6k [00:00<?, ?B/s]"
      ]
     },
     "metadata": {},
     "output_type": "display_data"
    },
    {
     "data": {
      "application/vnd.jupyter.widget-view+json": {
       "model_id": "5c19f560dd5245d08de8fdc6a6e2b39b",
       "version_major": 2,
       "version_minor": 0
      },
      "text/plain": [
       "training_args.bin:   0%|          | 0.00/5.75k [00:00<?, ?B/s]"
      ]
     },
     "metadata": {},
     "output_type": "display_data"
    },
    {
     "data": {
      "application/vnd.google.colaboratory.intrinsic+json": {
       "type": "string"
      },
      "text/plain": [
       "'/content/L3.1-8B-wikipedia-en-LoRA-v20250305134947'"
      ]
     },
     "execution_count": 2,
     "metadata": {},
     "output_type": "execute_result"
    }
   ],
   "source": [
    "# Download trained LoRA\n",
    "snapshot_download(\n",
    "    repo_id=hf_lora_id, \n",
    "    local_dir=lora_dir, \n",
    "    # ignore_patterns='checkpoint-*/*',\n",
    ")"
   ]
  },
  {
   "cell_type": "markdown",
   "metadata": {},
   "source": [
    "# Model"
   ]
  },
  {
   "cell_type": "code",
   "execution_count": 6,
   "metadata": {},
   "outputs": [
    {
     "name": "stdout",
     "output_type": "stream",
     "text": [
      "==((====))==  Unsloth 2025.3.14: Fast Llama patching. Transformers: 4.48.3.\n",
      "   \\\\   /|    Tesla T4. Num GPUs = 1. Max memory: 14.741 GB. Platform: Linux.\n",
      "O^O/ \\_/ \\    Torch: 2.6.0+cu124. CUDA: 7.5. CUDA Toolkit: 12.4. Triton: 3.2.0\n",
      "\\        /    Bfloat16 = FALSE. FA [Xformers = None. FA2 = False]\n",
      " \"-____-\"     Free license: http://github.com/unslothai/unsloth\n",
      "Unsloth: Fast downloading is enabled - ignore downloading bars which are red colored!\n",
      "LlamaForCausalLM(\n",
      "  (model): LlamaModel(\n",
      "    (embed_tokens): Embedding(128256, 4096, padding_idx=128004)\n",
      "    (layers): ModuleList(\n",
      "      (0): LlamaDecoderLayer(\n",
      "        (self_attn): LlamaAttention(\n",
      "          (q_proj): Linear4bit(in_features=4096, out_features=4096, bias=False)\n",
      "          (k_proj): Linear4bit(in_features=4096, out_features=1024, bias=False)\n",
      "          (v_proj): Linear4bit(in_features=4096, out_features=1024, bias=False)\n",
      "          (o_proj): Linear4bit(in_features=4096, out_features=4096, bias=False)\n",
      "          (rotary_emb): LlamaRotaryEmbedding()\n",
      "        )\n",
      "        (mlp): LlamaMLP(\n",
      "          (gate_proj): Linear4bit(in_features=4096, out_features=14336, bias=False)\n",
      "          (up_proj): Linear4bit(in_features=4096, out_features=14336, bias=False)\n",
      "          (down_proj): Linear4bit(in_features=14336, out_features=4096, bias=False)\n",
      "          (act_fn): SiLU()\n",
      "        )\n",
      "        (input_layernorm): LlamaRMSNorm((4096,), eps=1e-05)\n",
      "        (post_attention_layernorm): LlamaRMSNorm((4096,), eps=1e-05)\n",
      "      )\n",
      "      (1): LlamaDecoderLayer(\n",
      "        (self_attn): LlamaAttention(\n",
      "          (q_proj): Linear4bit(in_features=4096, out_features=4096, bias=False)\n",
      "          (k_proj): Linear4bit(in_features=4096, out_features=1024, bias=False)\n",
      "          (v_proj): Linear4bit(in_features=4096, out_features=1024, bias=False)\n",
      "          (o_proj): Linear4bit(in_features=4096, out_features=4096, bias=False)\n",
      "          (rotary_emb): LlamaRotaryEmbedding()\n",
      "        )\n",
      "        (mlp): LlamaMLP(\n",
      "          (gate_proj): Linear(in_features=4096, out_features=14336, bias=False)\n",
      "          (up_proj): Linear(in_features=4096, out_features=14336, bias=False)\n",
      "          (down_proj): Linear(in_features=14336, out_features=4096, bias=False)\n",
      "          (act_fn): SiLU()\n",
      "        )\n",
      "        (input_layernorm): LlamaRMSNorm((4096,), eps=1e-05)\n",
      "        (post_attention_layernorm): LlamaRMSNorm((4096,), eps=1e-05)\n",
      "      )\n",
      "      (2-31): 30 x LlamaDecoderLayer(\n",
      "        (self_attn): LlamaAttention(\n",
      "          (q_proj): Linear4bit(in_features=4096, out_features=4096, bias=False)\n",
      "          (k_proj): Linear4bit(in_features=4096, out_features=1024, bias=False)\n",
      "          (v_proj): Linear4bit(in_features=4096, out_features=1024, bias=False)\n",
      "          (o_proj): Linear4bit(in_features=4096, out_features=4096, bias=False)\n",
      "          (rotary_emb): LlamaRotaryEmbedding()\n",
      "        )\n",
      "        (mlp): LlamaMLP(\n",
      "          (gate_proj): Linear4bit(in_features=4096, out_features=14336, bias=False)\n",
      "          (up_proj): Linear4bit(in_features=4096, out_features=14336, bias=False)\n",
      "          (down_proj): Linear4bit(in_features=14336, out_features=4096, bias=False)\n",
      "          (act_fn): SiLU()\n",
      "        )\n",
      "        (input_layernorm): LlamaRMSNorm((4096,), eps=1e-05)\n",
      "        (post_attention_layernorm): LlamaRMSNorm((4096,), eps=1e-05)\n",
      "      )\n",
      "    )\n",
      "    (norm): LlamaRMSNorm((4096,), eps=1e-05)\n",
      "    (rotary_emb): LlamaRotaryEmbedding()\n",
      "  )\n",
      "  (lm_head): Linear(in_features=4096, out_features=128256, bias=False)\n",
      ")\n"
     ]
    }
   ],
   "source": [
    "model, tokenizer = FastLanguageModel.from_pretrained(\n",
    "    model_name='unsloth/Meta-Llama-3.1-8B',\n",
    "    max_seq_length=max_seq_length,\n",
    "    dtype=dtype,\n",
    "    load_in_4bit=load_in_4bit,\n",
    ")\n",
    "print(model)"
   ]
  },
  {
   "cell_type": "code",
   "execution_count": 7,
   "metadata": {},
   "outputs": [
    {
     "name": "stdout",
     "output_type": "stream",
     "text": [
      "{'_custom_modules': None,\n",
      " 'alpha_pattern': {},\n",
      " 'auto_mapping': None,\n",
      " 'base_model_name_or_path': 'unsloth/meta-llama-3.1-8b-unsloth-bnb-4bit',\n",
      " 'bias': 'none',\n",
      " 'eva_config': None,\n",
      " 'exclude_modules': None,\n",
      " 'fan_in_fan_out': False,\n",
      " 'inference_mode': True,\n",
      " 'init_lora_weights': True,\n",
      " 'layer_replication': None,\n",
      " 'layers_pattern': None,\n",
      " 'layers_to_transform': None,\n",
      " 'loftq_config': {},\n",
      " 'lora_alpha': 16,\n",
      " 'lora_bias': False,\n",
      " 'lora_dropout': 0,\n",
      " 'megatron_config': None,\n",
      " 'megatron_core': 'megatron.core',\n",
      " 'modules_to_save': None,\n",
      " 'peft_type': <PeftType.LORA: 'LORA'>,\n",
      " 'r': 8,\n",
      " 'rank_pattern': {},\n",
      " 'revision': None,\n",
      " 'runtime_config': LoraRuntimeConfig(ephemeral_gpu_offload=False),\n",
      " 'target_modules': {'down_proj',\n",
      "                    'gate_proj',\n",
      "                    'k_proj',\n",
      "                    'o_proj',\n",
      "                    'q_proj',\n",
      "                    'up_proj',\n",
      "                    'v_proj'},\n",
      " 'task_type': 'CAUSAL_LM',\n",
      " 'use_dora': False,\n",
      " 'use_rslora': False}\n"
     ]
    }
   ],
   "source": [
    "config = LoraConfig.from_pretrained(lora_dir)\n",
    "pprint(config.__dict__)"
   ]
  },
  {
   "cell_type": "code",
   "execution_count": 8,
   "metadata": {},
   "outputs": [
    {
     "name": "stdout",
     "output_type": "stream",
     "text": [
      "NeroModel(\n",
      "  (base_model): LlamaForCausalLM(\n",
      "    (model): LlamaModel(\n",
      "      (embed_tokens): Embedding(128256, 4096, padding_idx=128004)\n",
      "      (layers): ModuleList(\n",
      "        (0): LlamaDecoderLayer(\n",
      "          (self_attn): LlamaAttention(\n",
      "            (q_proj): NeroLayer(\n",
      "              (base_layer): Linear4bit(in_features=4096, out_features=4096, bias=False)\n",
      "              (lora_A): Linear(in_features=4096, out_features=8, bias=False)\n",
      "              (lora_B): Linear(in_features=8, out_features=4096, bias=False)\n",
      "              (nero_A): Linear(in_features=4096, out_features=8, bias=False)\n",
      "              (nero_B): Linear(in_features=8, out_features=4096, bias=False)\n",
      "            )\n",
      "            (k_proj): NeroLayer(\n",
      "              (base_layer): Linear4bit(in_features=4096, out_features=1024, bias=False)\n",
      "              (lora_A): Linear(in_features=4096, out_features=8, bias=False)\n",
      "              (lora_B): Linear(in_features=8, out_features=1024, bias=False)\n",
      "              (nero_A): Linear(in_features=1024, out_features=8, bias=False)\n",
      "              (nero_B): Linear(in_features=8, out_features=1024, bias=False)\n",
      "            )\n",
      "            (v_proj): NeroLayer(\n",
      "              (base_layer): Linear4bit(in_features=4096, out_features=1024, bias=False)\n",
      "              (lora_A): Linear(in_features=4096, out_features=8, bias=False)\n",
      "              (lora_B): Linear(in_features=8, out_features=1024, bias=False)\n",
      "              (nero_A): Linear(in_features=1024, out_features=8, bias=False)\n",
      "              (nero_B): Linear(in_features=8, out_features=1024, bias=False)\n",
      "            )\n",
      "            (o_proj): NeroLayer(\n",
      "              (base_layer): Linear4bit(in_features=4096, out_features=4096, bias=False)\n",
      "              (lora_A): Linear(in_features=4096, out_features=8, bias=False)\n",
      "              (lora_B): Linear(in_features=8, out_features=4096, bias=False)\n",
      "              (nero_A): Linear(in_features=4096, out_features=8, bias=False)\n",
      "              (nero_B): Linear(in_features=8, out_features=4096, bias=False)\n",
      "            )\n",
      "            (rotary_emb): LlamaRotaryEmbedding()\n",
      "          )\n",
      "          (mlp): LlamaMLP(\n",
      "            (gate_proj): NeroLayer(\n",
      "              (base_layer): Linear4bit(in_features=4096, out_features=14336, bias=False)\n",
      "              (lora_A): Linear(in_features=4096, out_features=8, bias=False)\n",
      "              (lora_B): Linear(in_features=8, out_features=14336, bias=False)\n",
      "              (nero_A): Linear(in_features=14336, out_features=8, bias=False)\n",
      "              (nero_B): Linear(in_features=8, out_features=14336, bias=False)\n",
      "            )\n",
      "            (up_proj): NeroLayer(\n",
      "              (base_layer): Linear4bit(in_features=4096, out_features=14336, bias=False)\n",
      "              (lora_A): Linear(in_features=4096, out_features=8, bias=False)\n",
      "              (lora_B): Linear(in_features=8, out_features=14336, bias=False)\n",
      "              (nero_A): Linear(in_features=14336, out_features=8, bias=False)\n",
      "              (nero_B): Linear(in_features=8, out_features=14336, bias=False)\n",
      "            )\n",
      "            (down_proj): NeroLayer(\n",
      "              (base_layer): Linear4bit(in_features=14336, out_features=4096, bias=False)\n",
      "              (lora_A): Linear(in_features=14336, out_features=8, bias=False)\n",
      "              (lora_B): Linear(in_features=8, out_features=4096, bias=False)\n",
      "              (nero_A): Linear(in_features=4096, out_features=8, bias=False)\n",
      "              (nero_B): Linear(in_features=8, out_features=4096, bias=False)\n",
      "            )\n",
      "            (act_fn): SiLU()\n",
      "          )\n",
      "          (input_layernorm): LlamaRMSNorm((4096,), eps=1e-05)\n",
      "          (post_attention_layernorm): LlamaRMSNorm((4096,), eps=1e-05)\n",
      "        )\n",
      "        (1): LlamaDecoderLayer(\n",
      "          (self_attn): LlamaAttention(\n",
      "            (q_proj): NeroLayer(\n",
      "              (base_layer): Linear4bit(in_features=4096, out_features=4096, bias=False)\n",
      "              (lora_A): Linear(in_features=4096, out_features=8, bias=False)\n",
      "              (lora_B): Linear(in_features=8, out_features=4096, bias=False)\n",
      "              (nero_A): Linear(in_features=4096, out_features=8, bias=False)\n",
      "              (nero_B): Linear(in_features=8, out_features=4096, bias=False)\n",
      "            )\n",
      "            (k_proj): NeroLayer(\n",
      "              (base_layer): Linear4bit(in_features=4096, out_features=1024, bias=False)\n",
      "              (lora_A): Linear(in_features=4096, out_features=8, bias=False)\n",
      "              (lora_B): Linear(in_features=8, out_features=1024, bias=False)\n",
      "              (nero_A): Linear(in_features=1024, out_features=8, bias=False)\n",
      "              (nero_B): Linear(in_features=8, out_features=1024, bias=False)\n",
      "            )\n",
      "            (v_proj): NeroLayer(\n",
      "              (base_layer): Linear4bit(in_features=4096, out_features=1024, bias=False)\n",
      "              (lora_A): Linear(in_features=4096, out_features=8, bias=False)\n",
      "              (lora_B): Linear(in_features=8, out_features=1024, bias=False)\n",
      "              (nero_A): Linear(in_features=1024, out_features=8, bias=False)\n",
      "              (nero_B): Linear(in_features=8, out_features=1024, bias=False)\n",
      "            )\n",
      "            (o_proj): NeroLayer(\n",
      "              (base_layer): Linear4bit(in_features=4096, out_features=4096, bias=False)\n",
      "              (lora_A): Linear(in_features=4096, out_features=8, bias=False)\n",
      "              (lora_B): Linear(in_features=8, out_features=4096, bias=False)\n",
      "              (nero_A): Linear(in_features=4096, out_features=8, bias=False)\n",
      "              (nero_B): Linear(in_features=8, out_features=4096, bias=False)\n",
      "            )\n",
      "            (rotary_emb): LlamaRotaryEmbedding()\n",
      "          )\n",
      "          (mlp): LlamaMLP(\n",
      "            (gate_proj): NeroLayer(\n",
      "              (base_layer): Linear(in_features=4096, out_features=14336, bias=False)\n",
      "              (lora_A): Linear(in_features=4096, out_features=8, bias=False)\n",
      "              (lora_B): Linear(in_features=8, out_features=14336, bias=False)\n",
      "              (nero_A): Linear(in_features=14336, out_features=8, bias=False)\n",
      "              (nero_B): Linear(in_features=8, out_features=14336, bias=False)\n",
      "            )\n",
      "            (up_proj): NeroLayer(\n",
      "              (base_layer): Linear(in_features=4096, out_features=14336, bias=False)\n",
      "              (lora_A): Linear(in_features=4096, out_features=8, bias=False)\n",
      "              (lora_B): Linear(in_features=8, out_features=14336, bias=False)\n",
      "              (nero_A): Linear(in_features=14336, out_features=8, bias=False)\n",
      "              (nero_B): Linear(in_features=8, out_features=14336, bias=False)\n",
      "            )\n",
      "            (down_proj): NeroLayer(\n",
      "              (base_layer): Linear(in_features=14336, out_features=4096, bias=False)\n",
      "              (lora_A): Linear(in_features=14336, out_features=8, bias=False)\n",
      "              (lora_B): Linear(in_features=8, out_features=4096, bias=False)\n",
      "              (nero_A): Linear(in_features=4096, out_features=8, bias=False)\n",
      "              (nero_B): Linear(in_features=8, out_features=4096, bias=False)\n",
      "            )\n",
      "            (act_fn): SiLU()\n",
      "          )\n",
      "          (input_layernorm): LlamaRMSNorm((4096,), eps=1e-05)\n",
      "          (post_attention_layernorm): LlamaRMSNorm((4096,), eps=1e-05)\n",
      "        )\n",
      "        (2-31): 30 x LlamaDecoderLayer(\n",
      "          (self_attn): LlamaAttention(\n",
      "            (q_proj): NeroLayer(\n",
      "              (base_layer): Linear4bit(in_features=4096, out_features=4096, bias=False)\n",
      "              (lora_A): Linear(in_features=4096, out_features=8, bias=False)\n",
      "              (lora_B): Linear(in_features=8, out_features=4096, bias=False)\n",
      "              (nero_A): Linear(in_features=4096, out_features=8, bias=False)\n",
      "              (nero_B): Linear(in_features=8, out_features=4096, bias=False)\n",
      "            )\n",
      "            (k_proj): NeroLayer(\n",
      "              (base_layer): Linear4bit(in_features=4096, out_features=1024, bias=False)\n",
      "              (lora_A): Linear(in_features=4096, out_features=8, bias=False)\n",
      "              (lora_B): Linear(in_features=8, out_features=1024, bias=False)\n",
      "              (nero_A): Linear(in_features=1024, out_features=8, bias=False)\n",
      "              (nero_B): Linear(in_features=8, out_features=1024, bias=False)\n",
      "            )\n",
      "            (v_proj): NeroLayer(\n",
      "              (base_layer): Linear4bit(in_features=4096, out_features=1024, bias=False)\n",
      "              (lora_A): Linear(in_features=4096, out_features=8, bias=False)\n",
      "              (lora_B): Linear(in_features=8, out_features=1024, bias=False)\n",
      "              (nero_A): Linear(in_features=1024, out_features=8, bias=False)\n",
      "              (nero_B): Linear(in_features=8, out_features=1024, bias=False)\n",
      "            )\n",
      "            (o_proj): NeroLayer(\n",
      "              (base_layer): Linear4bit(in_features=4096, out_features=4096, bias=False)\n",
      "              (lora_A): Linear(in_features=4096, out_features=8, bias=False)\n",
      "              (lora_B): Linear(in_features=8, out_features=4096, bias=False)\n",
      "              (nero_A): Linear(in_features=4096, out_features=8, bias=False)\n",
      "              (nero_B): Linear(in_features=8, out_features=4096, bias=False)\n",
      "            )\n",
      "            (rotary_emb): LlamaRotaryEmbedding()\n",
      "          )\n",
      "          (mlp): LlamaMLP(\n",
      "            (gate_proj): NeroLayer(\n",
      "              (base_layer): Linear4bit(in_features=4096, out_features=14336, bias=False)\n",
      "              (lora_A): Linear(in_features=4096, out_features=8, bias=False)\n",
      "              (lora_B): Linear(in_features=8, out_features=14336, bias=False)\n",
      "              (nero_A): Linear(in_features=14336, out_features=8, bias=False)\n",
      "              (nero_B): Linear(in_features=8, out_features=14336, bias=False)\n",
      "            )\n",
      "            (up_proj): NeroLayer(\n",
      "              (base_layer): Linear4bit(in_features=4096, out_features=14336, bias=False)\n",
      "              (lora_A): Linear(in_features=4096, out_features=8, bias=False)\n",
      "              (lora_B): Linear(in_features=8, out_features=14336, bias=False)\n",
      "              (nero_A): Linear(in_features=14336, out_features=8, bias=False)\n",
      "              (nero_B): Linear(in_features=8, out_features=14336, bias=False)\n",
      "            )\n",
      "            (down_proj): NeroLayer(\n",
      "              (base_layer): Linear4bit(in_features=14336, out_features=4096, bias=False)\n",
      "              (lora_A): Linear(in_features=14336, out_features=8, bias=False)\n",
      "              (lora_B): Linear(in_features=8, out_features=4096, bias=False)\n",
      "              (nero_A): Linear(in_features=4096, out_features=8, bias=False)\n",
      "              (nero_B): Linear(in_features=8, out_features=4096, bias=False)\n",
      "            )\n",
      "            (act_fn): SiLU()\n",
      "          )\n",
      "          (input_layernorm): LlamaRMSNorm((4096,), eps=1e-05)\n",
      "          (post_attention_layernorm): LlamaRMSNorm((4096,), eps=1e-05)\n",
      "        )\n",
      "      )\n",
      "      (norm): LlamaRMSNorm((4096,), eps=1e-05)\n",
      "      (rotary_emb): LlamaRotaryEmbedding()\n",
      "    )\n",
      "    (lm_head): Linear(in_features=4096, out_features=128256, bias=False)\n",
      "  )\n",
      "  (nero_layers): ModuleDict(\n",
      "    (layers__DOT__0__DOT__self_attn__DOT__q_proj): NeroLayer(\n",
      "      (base_layer): Linear4bit(in_features=4096, out_features=4096, bias=False)\n",
      "      (lora_A): Linear(in_features=4096, out_features=8, bias=False)\n",
      "      (lora_B): Linear(in_features=8, out_features=4096, bias=False)\n",
      "      (nero_A): Linear(in_features=4096, out_features=8, bias=False)\n",
      "      (nero_B): Linear(in_features=8, out_features=4096, bias=False)\n",
      "    )\n",
      "    (layers__DOT__0__DOT__self_attn__DOT__k_proj): NeroLayer(\n",
      "      (base_layer): Linear4bit(in_features=4096, out_features=1024, bias=False)\n",
      "      (lora_A): Linear(in_features=4096, out_features=8, bias=False)\n",
      "      (lora_B): Linear(in_features=8, out_features=1024, bias=False)\n",
      "      (nero_A): Linear(in_features=1024, out_features=8, bias=False)\n",
      "      (nero_B): Linear(in_features=8, out_features=1024, bias=False)\n",
      "    )\n",
      "    (layers__DOT__0__DOT__self_attn__DOT__v_proj): NeroLayer(\n",
      "      (base_layer): Linear4bit(in_features=4096, out_features=1024, bias=False)\n",
      "      (lora_A): Linear(in_features=4096, out_features=8, bias=False)\n",
      "      (lora_B): Linear(in_features=8, out_features=1024, bias=False)\n",
      "      (nero_A): Linear(in_features=1024, out_features=8, bias=False)\n",
      "      (nero_B): Linear(in_features=8, out_features=1024, bias=False)\n",
      "    )\n",
      "    (layers__DOT__0__DOT__self_attn__DOT__o_proj): NeroLayer(\n",
      "      (base_layer): Linear4bit(in_features=4096, out_features=4096, bias=False)\n",
      "      (lora_A): Linear(in_features=4096, out_features=8, bias=False)\n",
      "      (lora_B): Linear(in_features=8, out_features=4096, bias=False)\n",
      "      (nero_A): Linear(in_features=4096, out_features=8, bias=False)\n",
      "      (nero_B): Linear(in_features=8, out_features=4096, bias=False)\n",
      "    )\n",
      "    (layers__DOT__0__DOT__mlp__DOT__gate_proj): NeroLayer(\n",
      "      (base_layer): Linear4bit(in_features=4096, out_features=14336, bias=False)\n",
      "      (lora_A): Linear(in_features=4096, out_features=8, bias=False)\n",
      "      (lora_B): Linear(in_features=8, out_features=14336, bias=False)\n",
      "      (nero_A): Linear(in_features=14336, out_features=8, bias=False)\n",
      "      (nero_B): Linear(in_features=8, out_features=14336, bias=False)\n",
      "    )\n",
      "    (layers__DOT__0__DOT__mlp__DOT__up_proj): NeroLayer(\n",
      "      (base_layer): Linear4bit(in_features=4096, out_features=14336, bias=False)\n",
      "      (lora_A): Linear(in_features=4096, out_features=8, bias=False)\n",
      "      (lora_B): Linear(in_features=8, out_features=14336, bias=False)\n",
      "      (nero_A): Linear(in_features=14336, out_features=8, bias=False)\n",
      "      (nero_B): Linear(in_features=8, out_features=14336, bias=False)\n",
      "    )\n",
      "    (layers__DOT__0__DOT__mlp__DOT__down_proj): NeroLayer(\n",
      "      (base_layer): Linear4bit(in_features=14336, out_features=4096, bias=False)\n",
      "      (lora_A): Linear(in_features=14336, out_features=8, bias=False)\n",
      "      (lora_B): Linear(in_features=8, out_features=4096, bias=False)\n",
      "      (nero_A): Linear(in_features=4096, out_features=8, bias=False)\n",
      "      (nero_B): Linear(in_features=8, out_features=4096, bias=False)\n",
      "    )\n",
      "    (layers__DOT__1__DOT__self_attn__DOT__q_proj): NeroLayer(\n",
      "      (base_layer): Linear4bit(in_features=4096, out_features=4096, bias=False)\n",
      "      (lora_A): Linear(in_features=4096, out_features=8, bias=False)\n",
      "      (lora_B): Linear(in_features=8, out_features=4096, bias=False)\n",
      "      (nero_A): Linear(in_features=4096, out_features=8, bias=False)\n",
      "      (nero_B): Linear(in_features=8, out_features=4096, bias=False)\n",
      "    )\n",
      "    (layers__DOT__1__DOT__self_attn__DOT__k_proj): NeroLayer(\n",
      "      (base_layer): Linear4bit(in_features=4096, out_features=1024, bias=False)\n",
      "      (lora_A): Linear(in_features=4096, out_features=8, bias=False)\n",
      "      (lora_B): Linear(in_features=8, out_features=1024, bias=False)\n",
      "      (nero_A): Linear(in_features=1024, out_features=8, bias=False)\n",
      "      (nero_B): Linear(in_features=8, out_features=1024, bias=False)\n",
      "    )\n",
      "    (layers__DOT__1__DOT__self_attn__DOT__v_proj): NeroLayer(\n",
      "      (base_layer): Linear4bit(in_features=4096, out_features=1024, bias=False)\n",
      "      (lora_A): Linear(in_features=4096, out_features=8, bias=False)\n",
      "      (lora_B): Linear(in_features=8, out_features=1024, bias=False)\n",
      "      (nero_A): Linear(in_features=1024, out_features=8, bias=False)\n",
      "      (nero_B): Linear(in_features=8, out_features=1024, bias=False)\n",
      "    )\n",
      "    (layers__DOT__1__DOT__self_attn__DOT__o_proj): NeroLayer(\n",
      "      (base_layer): Linear4bit(in_features=4096, out_features=4096, bias=False)\n",
      "      (lora_A): Linear(in_features=4096, out_features=8, bias=False)\n",
      "      (lora_B): Linear(in_features=8, out_features=4096, bias=False)\n",
      "      (nero_A): Linear(in_features=4096, out_features=8, bias=False)\n",
      "      (nero_B): Linear(in_features=8, out_features=4096, bias=False)\n",
      "    )\n",
      "    (layers__DOT__1__DOT__mlp__DOT__gate_proj): NeroLayer(\n",
      "      (base_layer): Linear(in_features=4096, out_features=14336, bias=False)\n",
      "      (lora_A): Linear(in_features=4096, out_features=8, bias=False)\n",
      "      (lora_B): Linear(in_features=8, out_features=14336, bias=False)\n",
      "      (nero_A): Linear(in_features=14336, out_features=8, bias=False)\n",
      "      (nero_B): Linear(in_features=8, out_features=14336, bias=False)\n",
      "    )\n",
      "    (layers__DOT__1__DOT__mlp__DOT__up_proj): NeroLayer(\n",
      "      (base_layer): Linear(in_features=4096, out_features=14336, bias=False)\n",
      "      (lora_A): Linear(in_features=4096, out_features=8, bias=False)\n",
      "      (lora_B): Linear(in_features=8, out_features=14336, bias=False)\n",
      "      (nero_A): Linear(in_features=14336, out_features=8, bias=False)\n",
      "      (nero_B): Linear(in_features=8, out_features=14336, bias=False)\n",
      "    )\n",
      "    (layers__DOT__1__DOT__mlp__DOT__down_proj): NeroLayer(\n",
      "      (base_layer): Linear(in_features=14336, out_features=4096, bias=False)\n",
      "      (lora_A): Linear(in_features=14336, out_features=8, bias=False)\n",
      "      (lora_B): Linear(in_features=8, out_features=4096, bias=False)\n",
      "      (nero_A): Linear(in_features=4096, out_features=8, bias=False)\n",
      "      (nero_B): Linear(in_features=8, out_features=4096, bias=False)\n",
      "    )\n",
      "    (layers__DOT__2__DOT__self_attn__DOT__q_proj): NeroLayer(\n",
      "      (base_layer): Linear4bit(in_features=4096, out_features=4096, bias=False)\n",
      "      (lora_A): Linear(in_features=4096, out_features=8, bias=False)\n",
      "      (lora_B): Linear(in_features=8, out_features=4096, bias=False)\n",
      "      (nero_A): Linear(in_features=4096, out_features=8, bias=False)\n",
      "      (nero_B): Linear(in_features=8, out_features=4096, bias=False)\n",
      "    )\n",
      "    (layers__DOT__2__DOT__self_attn__DOT__k_proj): NeroLayer(\n",
      "      (base_layer): Linear4bit(in_features=4096, out_features=1024, bias=False)\n",
      "      (lora_A): Linear(in_features=4096, out_features=8, bias=False)\n",
      "      (lora_B): Linear(in_features=8, out_features=1024, bias=False)\n",
      "      (nero_A): Linear(in_features=1024, out_features=8, bias=False)\n",
      "      (nero_B): Linear(in_features=8, out_features=1024, bias=False)\n",
      "    )\n",
      "    (layers__DOT__2__DOT__self_attn__DOT__v_proj): NeroLayer(\n",
      "      (base_layer): Linear4bit(in_features=4096, out_features=1024, bias=False)\n",
      "      (lora_A): Linear(in_features=4096, out_features=8, bias=False)\n",
      "      (lora_B): Linear(in_features=8, out_features=1024, bias=False)\n",
      "      (nero_A): Linear(in_features=1024, out_features=8, bias=False)\n",
      "      (nero_B): Linear(in_features=8, out_features=1024, bias=False)\n",
      "    )\n",
      "    (layers__DOT__2__DOT__self_attn__DOT__o_proj): NeroLayer(\n",
      "      (base_layer): Linear4bit(in_features=4096, out_features=4096, bias=False)\n",
      "      (lora_A): Linear(in_features=4096, out_features=8, bias=False)\n",
      "      (lora_B): Linear(in_features=8, out_features=4096, bias=False)\n",
      "      (nero_A): Linear(in_features=4096, out_features=8, bias=False)\n",
      "      (nero_B): Linear(in_features=8, out_features=4096, bias=False)\n",
      "    )\n",
      "    (layers__DOT__2__DOT__mlp__DOT__gate_proj): NeroLayer(\n",
      "      (base_layer): Linear4bit(in_features=4096, out_features=14336, bias=False)\n",
      "      (lora_A): Linear(in_features=4096, out_features=8, bias=False)\n",
      "      (lora_B): Linear(in_features=8, out_features=14336, bias=False)\n",
      "      (nero_A): Linear(in_features=14336, out_features=8, bias=False)\n",
      "      (nero_B): Linear(in_features=8, out_features=14336, bias=False)\n",
      "    )\n",
      "    (layers__DOT__2__DOT__mlp__DOT__up_proj): NeroLayer(\n",
      "      (base_layer): Linear4bit(in_features=4096, out_features=14336, bias=False)\n",
      "      (lora_A): Linear(in_features=4096, out_features=8, bias=False)\n",
      "      (lora_B): Linear(in_features=8, out_features=14336, bias=False)\n",
      "      (nero_A): Linear(in_features=14336, out_features=8, bias=False)\n",
      "      (nero_B): Linear(in_features=8, out_features=14336, bias=False)\n",
      "    )\n",
      "    (layers__DOT__2__DOT__mlp__DOT__down_proj): NeroLayer(\n",
      "      (base_layer): Linear4bit(in_features=14336, out_features=4096, bias=False)\n",
      "      (lora_A): Linear(in_features=14336, out_features=8, bias=False)\n",
      "      (lora_B): Linear(in_features=8, out_features=4096, bias=False)\n",
      "      (nero_A): Linear(in_features=4096, out_features=8, bias=False)\n",
      "      (nero_B): Linear(in_features=8, out_features=4096, bias=False)\n",
      "    )\n",
      "    (layers__DOT__3__DOT__self_attn__DOT__q_proj): NeroLayer(\n",
      "      (base_layer): Linear4bit(in_features=4096, out_features=4096, bias=False)\n",
      "      (lora_A): Linear(in_features=4096, out_features=8, bias=False)\n",
      "      (lora_B): Linear(in_features=8, out_features=4096, bias=False)\n",
      "      (nero_A): Linear(in_features=4096, out_features=8, bias=False)\n",
      "      (nero_B): Linear(in_features=8, out_features=4096, bias=False)\n",
      "    )\n",
      "    (layers__DOT__3__DOT__self_attn__DOT__k_proj): NeroLayer(\n",
      "      (base_layer): Linear4bit(in_features=4096, out_features=1024, bias=False)\n",
      "      (lora_A): Linear(in_features=4096, out_features=8, bias=False)\n",
      "      (lora_B): Linear(in_features=8, out_features=1024, bias=False)\n",
      "      (nero_A): Linear(in_features=1024, out_features=8, bias=False)\n",
      "      (nero_B): Linear(in_features=8, out_features=1024, bias=False)\n",
      "    )\n",
      "    (layers__DOT__3__DOT__self_attn__DOT__v_proj): NeroLayer(\n",
      "      (base_layer): Linear4bit(in_features=4096, out_features=1024, bias=False)\n",
      "      (lora_A): Linear(in_features=4096, out_features=8, bias=False)\n",
      "      (lora_B): Linear(in_features=8, out_features=1024, bias=False)\n",
      "      (nero_A): Linear(in_features=1024, out_features=8, bias=False)\n",
      "      (nero_B): Linear(in_features=8, out_features=1024, bias=False)\n",
      "    )\n",
      "    (layers__DOT__3__DOT__self_attn__DOT__o_proj): NeroLayer(\n",
      "      (base_layer): Linear4bit(in_features=4096, out_features=4096, bias=False)\n",
      "      (lora_A): Linear(in_features=4096, out_features=8, bias=False)\n",
      "      (lora_B): Linear(in_features=8, out_features=4096, bias=False)\n",
      "      (nero_A): Linear(in_features=4096, out_features=8, bias=False)\n",
      "      (nero_B): Linear(in_features=8, out_features=4096, bias=False)\n",
      "    )\n",
      "    (layers__DOT__3__DOT__mlp__DOT__gate_proj): NeroLayer(\n",
      "      (base_layer): Linear4bit(in_features=4096, out_features=14336, bias=False)\n",
      "      (lora_A): Linear(in_features=4096, out_features=8, bias=False)\n",
      "      (lora_B): Linear(in_features=8, out_features=14336, bias=False)\n",
      "      (nero_A): Linear(in_features=14336, out_features=8, bias=False)\n",
      "      (nero_B): Linear(in_features=8, out_features=14336, bias=False)\n",
      "    )\n",
      "    (layers__DOT__3__DOT__mlp__DOT__up_proj): NeroLayer(\n",
      "      (base_layer): Linear4bit(in_features=4096, out_features=14336, bias=False)\n",
      "      (lora_A): Linear(in_features=4096, out_features=8, bias=False)\n",
      "      (lora_B): Linear(in_features=8, out_features=14336, bias=False)\n",
      "      (nero_A): Linear(in_features=14336, out_features=8, bias=False)\n",
      "      (nero_B): Linear(in_features=8, out_features=14336, bias=False)\n",
      "    )\n",
      "    (layers__DOT__3__DOT__mlp__DOT__down_proj): NeroLayer(\n",
      "      (base_layer): Linear4bit(in_features=14336, out_features=4096, bias=False)\n",
      "      (lora_A): Linear(in_features=14336, out_features=8, bias=False)\n",
      "      (lora_B): Linear(in_features=8, out_features=4096, bias=False)\n",
      "      (nero_A): Linear(in_features=4096, out_features=8, bias=False)\n",
      "      (nero_B): Linear(in_features=8, out_features=4096, bias=False)\n",
      "    )\n",
      "    (layers__DOT__4__DOT__self_attn__DOT__q_proj): NeroLayer(\n",
      "      (base_layer): Linear4bit(in_features=4096, out_features=4096, bias=False)\n",
      "      (lora_A): Linear(in_features=4096, out_features=8, bias=False)\n",
      "      (lora_B): Linear(in_features=8, out_features=4096, bias=False)\n",
      "      (nero_A): Linear(in_features=4096, out_features=8, bias=False)\n",
      "      (nero_B): Linear(in_features=8, out_features=4096, bias=False)\n",
      "    )\n",
      "    (layers__DOT__4__DOT__self_attn__DOT__k_proj): NeroLayer(\n",
      "      (base_layer): Linear4bit(in_features=4096, out_features=1024, bias=False)\n",
      "      (lora_A): Linear(in_features=4096, out_features=8, bias=False)\n",
      "      (lora_B): Linear(in_features=8, out_features=1024, bias=False)\n",
      "      (nero_A): Linear(in_features=1024, out_features=8, bias=False)\n",
      "      (nero_B): Linear(in_features=8, out_features=1024, bias=False)\n",
      "    )\n",
      "    (layers__DOT__4__DOT__self_attn__DOT__v_proj): NeroLayer(\n",
      "      (base_layer): Linear4bit(in_features=4096, out_features=1024, bias=False)\n",
      "      (lora_A): Linear(in_features=4096, out_features=8, bias=False)\n",
      "      (lora_B): Linear(in_features=8, out_features=1024, bias=False)\n",
      "      (nero_A): Linear(in_features=1024, out_features=8, bias=False)\n",
      "      (nero_B): Linear(in_features=8, out_features=1024, bias=False)\n",
      "    )\n",
      "    (layers__DOT__4__DOT__self_attn__DOT__o_proj): NeroLayer(\n",
      "      (base_layer): Linear4bit(in_features=4096, out_features=4096, bias=False)\n",
      "      (lora_A): Linear(in_features=4096, out_features=8, bias=False)\n",
      "      (lora_B): Linear(in_features=8, out_features=4096, bias=False)\n",
      "      (nero_A): Linear(in_features=4096, out_features=8, bias=False)\n",
      "      (nero_B): Linear(in_features=8, out_features=4096, bias=False)\n",
      "    )\n",
      "    (layers__DOT__4__DOT__mlp__DOT__gate_proj): NeroLayer(\n",
      "      (base_layer): Linear4bit(in_features=4096, out_features=14336, bias=False)\n",
      "      (lora_A): Linear(in_features=4096, out_features=8, bias=False)\n",
      "      (lora_B): Linear(in_features=8, out_features=14336, bias=False)\n",
      "      (nero_A): Linear(in_features=14336, out_features=8, bias=False)\n",
      "      (nero_B): Linear(in_features=8, out_features=14336, bias=False)\n",
      "    )\n",
      "    (layers__DOT__4__DOT__mlp__DOT__up_proj): NeroLayer(\n",
      "      (base_layer): Linear4bit(in_features=4096, out_features=14336, bias=False)\n",
      "      (lora_A): Linear(in_features=4096, out_features=8, bias=False)\n",
      "      (lora_B): Linear(in_features=8, out_features=14336, bias=False)\n",
      "      (nero_A): Linear(in_features=14336, out_features=8, bias=False)\n",
      "      (nero_B): Linear(in_features=8, out_features=14336, bias=False)\n",
      "    )\n",
      "    (layers__DOT__4__DOT__mlp__DOT__down_proj): NeroLayer(\n",
      "      (base_layer): Linear4bit(in_features=14336, out_features=4096, bias=False)\n",
      "      (lora_A): Linear(in_features=14336, out_features=8, bias=False)\n",
      "      (lora_B): Linear(in_features=8, out_features=4096, bias=False)\n",
      "      (nero_A): Linear(in_features=4096, out_features=8, bias=False)\n",
      "      (nero_B): Linear(in_features=8, out_features=4096, bias=False)\n",
      "    )\n",
      "    (layers__DOT__5__DOT__self_attn__DOT__q_proj): NeroLayer(\n",
      "      (base_layer): Linear4bit(in_features=4096, out_features=4096, bias=False)\n",
      "      (lora_A): Linear(in_features=4096, out_features=8, bias=False)\n",
      "      (lora_B): Linear(in_features=8, out_features=4096, bias=False)\n",
      "      (nero_A): Linear(in_features=4096, out_features=8, bias=False)\n",
      "      (nero_B): Linear(in_features=8, out_features=4096, bias=False)\n",
      "    )\n",
      "    (layers__DOT__5__DOT__self_attn__DOT__k_proj): NeroLayer(\n",
      "      (base_layer): Linear4bit(in_features=4096, out_features=1024, bias=False)\n",
      "      (lora_A): Linear(in_features=4096, out_features=8, bias=False)\n",
      "      (lora_B): Linear(in_features=8, out_features=1024, bias=False)\n",
      "      (nero_A): Linear(in_features=1024, out_features=8, bias=False)\n",
      "      (nero_B): Linear(in_features=8, out_features=1024, bias=False)\n",
      "    )\n",
      "    (layers__DOT__5__DOT__self_attn__DOT__v_proj): NeroLayer(\n",
      "      (base_layer): Linear4bit(in_features=4096, out_features=1024, bias=False)\n",
      "      (lora_A): Linear(in_features=4096, out_features=8, bias=False)\n",
      "      (lora_B): Linear(in_features=8, out_features=1024, bias=False)\n",
      "      (nero_A): Linear(in_features=1024, out_features=8, bias=False)\n",
      "      (nero_B): Linear(in_features=8, out_features=1024, bias=False)\n",
      "    )\n",
      "    (layers__DOT__5__DOT__self_attn__DOT__o_proj): NeroLayer(\n",
      "      (base_layer): Linear4bit(in_features=4096, out_features=4096, bias=False)\n",
      "      (lora_A): Linear(in_features=4096, out_features=8, bias=False)\n",
      "      (lora_B): Linear(in_features=8, out_features=4096, bias=False)\n",
      "      (nero_A): Linear(in_features=4096, out_features=8, bias=False)\n",
      "      (nero_B): Linear(in_features=8, out_features=4096, bias=False)\n",
      "    )\n",
      "    (layers__DOT__5__DOT__mlp__DOT__gate_proj): NeroLayer(\n",
      "      (base_layer): Linear4bit(in_features=4096, out_features=14336, bias=False)\n",
      "      (lora_A): Linear(in_features=4096, out_features=8, bias=False)\n",
      "      (lora_B): Linear(in_features=8, out_features=14336, bias=False)\n",
      "      (nero_A): Linear(in_features=14336, out_features=8, bias=False)\n",
      "      (nero_B): Linear(in_features=8, out_features=14336, bias=False)\n",
      "    )\n",
      "    (layers__DOT__5__DOT__mlp__DOT__up_proj): NeroLayer(\n",
      "      (base_layer): Linear4bit(in_features=4096, out_features=14336, bias=False)\n",
      "      (lora_A): Linear(in_features=4096, out_features=8, bias=False)\n",
      "      (lora_B): Linear(in_features=8, out_features=14336, bias=False)\n",
      "      (nero_A): Linear(in_features=14336, out_features=8, bias=False)\n",
      "      (nero_B): Linear(in_features=8, out_features=14336, bias=False)\n",
      "    )\n",
      "    (layers__DOT__5__DOT__mlp__DOT__down_proj): NeroLayer(\n",
      "      (base_layer): Linear4bit(in_features=14336, out_features=4096, bias=False)\n",
      "      (lora_A): Linear(in_features=14336, out_features=8, bias=False)\n",
      "      (lora_B): Linear(in_features=8, out_features=4096, bias=False)\n",
      "      (nero_A): Linear(in_features=4096, out_features=8, bias=False)\n",
      "      (nero_B): Linear(in_features=8, out_features=4096, bias=False)\n",
      "    )\n",
      "    (layers__DOT__6__DOT__self_attn__DOT__q_proj): NeroLayer(\n",
      "      (base_layer): Linear4bit(in_features=4096, out_features=4096, bias=False)\n",
      "      (lora_A): Linear(in_features=4096, out_features=8, bias=False)\n",
      "      (lora_B): Linear(in_features=8, out_features=4096, bias=False)\n",
      "      (nero_A): Linear(in_features=4096, out_features=8, bias=False)\n",
      "      (nero_B): Linear(in_features=8, out_features=4096, bias=False)\n",
      "    )\n",
      "    (layers__DOT__6__DOT__self_attn__DOT__k_proj): NeroLayer(\n",
      "      (base_layer): Linear4bit(in_features=4096, out_features=1024, bias=False)\n",
      "      (lora_A): Linear(in_features=4096, out_features=8, bias=False)\n",
      "      (lora_B): Linear(in_features=8, out_features=1024, bias=False)\n",
      "      (nero_A): Linear(in_features=1024, out_features=8, bias=False)\n",
      "      (nero_B): Linear(in_features=8, out_features=1024, bias=False)\n",
      "    )\n",
      "    (layers__DOT__6__DOT__self_attn__DOT__v_proj): NeroLayer(\n",
      "      (base_layer): Linear4bit(in_features=4096, out_features=1024, bias=False)\n",
      "      (lora_A): Linear(in_features=4096, out_features=8, bias=False)\n",
      "      (lora_B): Linear(in_features=8, out_features=1024, bias=False)\n",
      "      (nero_A): Linear(in_features=1024, out_features=8, bias=False)\n",
      "      (nero_B): Linear(in_features=8, out_features=1024, bias=False)\n",
      "    )\n",
      "    (layers__DOT__6__DOT__self_attn__DOT__o_proj): NeroLayer(\n",
      "      (base_layer): Linear4bit(in_features=4096, out_features=4096, bias=False)\n",
      "      (lora_A): Linear(in_features=4096, out_features=8, bias=False)\n",
      "      (lora_B): Linear(in_features=8, out_features=4096, bias=False)\n",
      "      (nero_A): Linear(in_features=4096, out_features=8, bias=False)\n",
      "      (nero_B): Linear(in_features=8, out_features=4096, bias=False)\n",
      "    )\n",
      "    (layers__DOT__6__DOT__mlp__DOT__gate_proj): NeroLayer(\n",
      "      (base_layer): Linear4bit(in_features=4096, out_features=14336, bias=False)\n",
      "      (lora_A): Linear(in_features=4096, out_features=8, bias=False)\n",
      "      (lora_B): Linear(in_features=8, out_features=14336, bias=False)\n",
      "      (nero_A): Linear(in_features=14336, out_features=8, bias=False)\n",
      "      (nero_B): Linear(in_features=8, out_features=14336, bias=False)\n",
      "    )\n",
      "    (layers__DOT__6__DOT__mlp__DOT__up_proj): NeroLayer(\n",
      "      (base_layer): Linear4bit(in_features=4096, out_features=14336, bias=False)\n",
      "      (lora_A): Linear(in_features=4096, out_features=8, bias=False)\n",
      "      (lora_B): Linear(in_features=8, out_features=14336, bias=False)\n",
      "      (nero_A): Linear(in_features=14336, out_features=8, bias=False)\n",
      "      (nero_B): Linear(in_features=8, out_features=14336, bias=False)\n",
      "    )\n",
      "    (layers__DOT__6__DOT__mlp__DOT__down_proj): NeroLayer(\n",
      "      (base_layer): Linear4bit(in_features=14336, out_features=4096, bias=False)\n",
      "      (lora_A): Linear(in_features=14336, out_features=8, bias=False)\n",
      "      (lora_B): Linear(in_features=8, out_features=4096, bias=False)\n",
      "      (nero_A): Linear(in_features=4096, out_features=8, bias=False)\n",
      "      (nero_B): Linear(in_features=8, out_features=4096, bias=False)\n",
      "    )\n",
      "    (layers__DOT__7__DOT__self_attn__DOT__q_proj): NeroLayer(\n",
      "      (base_layer): Linear4bit(in_features=4096, out_features=4096, bias=False)\n",
      "      (lora_A): Linear(in_features=4096, out_features=8, bias=False)\n",
      "      (lora_B): Linear(in_features=8, out_features=4096, bias=False)\n",
      "      (nero_A): Linear(in_features=4096, out_features=8, bias=False)\n",
      "      (nero_B): Linear(in_features=8, out_features=4096, bias=False)\n",
      "    )\n",
      "    (layers__DOT__7__DOT__self_attn__DOT__k_proj): NeroLayer(\n",
      "      (base_layer): Linear4bit(in_features=4096, out_features=1024, bias=False)\n",
      "      (lora_A): Linear(in_features=4096, out_features=8, bias=False)\n",
      "      (lora_B): Linear(in_features=8, out_features=1024, bias=False)\n",
      "      (nero_A): Linear(in_features=1024, out_features=8, bias=False)\n",
      "      (nero_B): Linear(in_features=8, out_features=1024, bias=False)\n",
      "    )\n",
      "    (layers__DOT__7__DOT__self_attn__DOT__v_proj): NeroLayer(\n",
      "      (base_layer): Linear4bit(in_features=4096, out_features=1024, bias=False)\n",
      "      (lora_A): Linear(in_features=4096, out_features=8, bias=False)\n",
      "      (lora_B): Linear(in_features=8, out_features=1024, bias=False)\n",
      "      (nero_A): Linear(in_features=1024, out_features=8, bias=False)\n",
      "      (nero_B): Linear(in_features=8, out_features=1024, bias=False)\n",
      "    )\n",
      "    (layers__DOT__7__DOT__self_attn__DOT__o_proj): NeroLayer(\n",
      "      (base_layer): Linear4bit(in_features=4096, out_features=4096, bias=False)\n",
      "      (lora_A): Linear(in_features=4096, out_features=8, bias=False)\n",
      "      (lora_B): Linear(in_features=8, out_features=4096, bias=False)\n",
      "      (nero_A): Linear(in_features=4096, out_features=8, bias=False)\n",
      "      (nero_B): Linear(in_features=8, out_features=4096, bias=False)\n",
      "    )\n",
      "    (layers__DOT__7__DOT__mlp__DOT__gate_proj): NeroLayer(\n",
      "      (base_layer): Linear4bit(in_features=4096, out_features=14336, bias=False)\n",
      "      (lora_A): Linear(in_features=4096, out_features=8, bias=False)\n",
      "      (lora_B): Linear(in_features=8, out_features=14336, bias=False)\n",
      "      (nero_A): Linear(in_features=14336, out_features=8, bias=False)\n",
      "      (nero_B): Linear(in_features=8, out_features=14336, bias=False)\n",
      "    )\n",
      "    (layers__DOT__7__DOT__mlp__DOT__up_proj): NeroLayer(\n",
      "      (base_layer): Linear4bit(in_features=4096, out_features=14336, bias=False)\n",
      "      (lora_A): Linear(in_features=4096, out_features=8, bias=False)\n",
      "      (lora_B): Linear(in_features=8, out_features=14336, bias=False)\n",
      "      (nero_A): Linear(in_features=14336, out_features=8, bias=False)\n",
      "      (nero_B): Linear(in_features=8, out_features=14336, bias=False)\n",
      "    )\n",
      "    (layers__DOT__7__DOT__mlp__DOT__down_proj): NeroLayer(\n",
      "      (base_layer): Linear4bit(in_features=14336, out_features=4096, bias=False)\n",
      "      (lora_A): Linear(in_features=14336, out_features=8, bias=False)\n",
      "      (lora_B): Linear(in_features=8, out_features=4096, bias=False)\n",
      "      (nero_A): Linear(in_features=4096, out_features=8, bias=False)\n",
      "      (nero_B): Linear(in_features=8, out_features=4096, bias=False)\n",
      "    )\n",
      "    (layers__DOT__8__DOT__self_attn__DOT__q_proj): NeroLayer(\n",
      "      (base_layer): Linear4bit(in_features=4096, out_features=4096, bias=False)\n",
      "      (lora_A): Linear(in_features=4096, out_features=8, bias=False)\n",
      "      (lora_B): Linear(in_features=8, out_features=4096, bias=False)\n",
      "      (nero_A): Linear(in_features=4096, out_features=8, bias=False)\n",
      "      (nero_B): Linear(in_features=8, out_features=4096, bias=False)\n",
      "    )\n",
      "    (layers__DOT__8__DOT__self_attn__DOT__k_proj): NeroLayer(\n",
      "      (base_layer): Linear4bit(in_features=4096, out_features=1024, bias=False)\n",
      "      (lora_A): Linear(in_features=4096, out_features=8, bias=False)\n",
      "      (lora_B): Linear(in_features=8, out_features=1024, bias=False)\n",
      "      (nero_A): Linear(in_features=1024, out_features=8, bias=False)\n",
      "      (nero_B): Linear(in_features=8, out_features=1024, bias=False)\n",
      "    )\n",
      "    (layers__DOT__8__DOT__self_attn__DOT__v_proj): NeroLayer(\n",
      "      (base_layer): Linear4bit(in_features=4096, out_features=1024, bias=False)\n",
      "      (lora_A): Linear(in_features=4096, out_features=8, bias=False)\n",
      "      (lora_B): Linear(in_features=8, out_features=1024, bias=False)\n",
      "      (nero_A): Linear(in_features=1024, out_features=8, bias=False)\n",
      "      (nero_B): Linear(in_features=8, out_features=1024, bias=False)\n",
      "    )\n",
      "    (layers__DOT__8__DOT__self_attn__DOT__o_proj): NeroLayer(\n",
      "      (base_layer): Linear4bit(in_features=4096, out_features=4096, bias=False)\n",
      "      (lora_A): Linear(in_features=4096, out_features=8, bias=False)\n",
      "      (lora_B): Linear(in_features=8, out_features=4096, bias=False)\n",
      "      (nero_A): Linear(in_features=4096, out_features=8, bias=False)\n",
      "      (nero_B): Linear(in_features=8, out_features=4096, bias=False)\n",
      "    )\n",
      "    (layers__DOT__8__DOT__mlp__DOT__gate_proj): NeroLayer(\n",
      "      (base_layer): Linear4bit(in_features=4096, out_features=14336, bias=False)\n",
      "      (lora_A): Linear(in_features=4096, out_features=8, bias=False)\n",
      "      (lora_B): Linear(in_features=8, out_features=14336, bias=False)\n",
      "      (nero_A): Linear(in_features=14336, out_features=8, bias=False)\n",
      "      (nero_B): Linear(in_features=8, out_features=14336, bias=False)\n",
      "    )\n",
      "    (layers__DOT__8__DOT__mlp__DOT__up_proj): NeroLayer(\n",
      "      (base_layer): Linear4bit(in_features=4096, out_features=14336, bias=False)\n",
      "      (lora_A): Linear(in_features=4096, out_features=8, bias=False)\n",
      "      (lora_B): Linear(in_features=8, out_features=14336, bias=False)\n",
      "      (nero_A): Linear(in_features=14336, out_features=8, bias=False)\n",
      "      (nero_B): Linear(in_features=8, out_features=14336, bias=False)\n",
      "    )\n",
      "    (layers__DOT__8__DOT__mlp__DOT__down_proj): NeroLayer(\n",
      "      (base_layer): Linear4bit(in_features=14336, out_features=4096, bias=False)\n",
      "      (lora_A): Linear(in_features=14336, out_features=8, bias=False)\n",
      "      (lora_B): Linear(in_features=8, out_features=4096, bias=False)\n",
      "      (nero_A): Linear(in_features=4096, out_features=8, bias=False)\n",
      "      (nero_B): Linear(in_features=8, out_features=4096, bias=False)\n",
      "    )\n",
      "    (layers__DOT__9__DOT__self_attn__DOT__q_proj): NeroLayer(\n",
      "      (base_layer): Linear4bit(in_features=4096, out_features=4096, bias=False)\n",
      "      (lora_A): Linear(in_features=4096, out_features=8, bias=False)\n",
      "      (lora_B): Linear(in_features=8, out_features=4096, bias=False)\n",
      "      (nero_A): Linear(in_features=4096, out_features=8, bias=False)\n",
      "      (nero_B): Linear(in_features=8, out_features=4096, bias=False)\n",
      "    )\n",
      "    (layers__DOT__9__DOT__self_attn__DOT__k_proj): NeroLayer(\n",
      "      (base_layer): Linear4bit(in_features=4096, out_features=1024, bias=False)\n",
      "      (lora_A): Linear(in_features=4096, out_features=8, bias=False)\n",
      "      (lora_B): Linear(in_features=8, out_features=1024, bias=False)\n",
      "      (nero_A): Linear(in_features=1024, out_features=8, bias=False)\n",
      "      (nero_B): Linear(in_features=8, out_features=1024, bias=False)\n",
      "    )\n",
      "    (layers__DOT__9__DOT__self_attn__DOT__v_proj): NeroLayer(\n",
      "      (base_layer): Linear4bit(in_features=4096, out_features=1024, bias=False)\n",
      "      (lora_A): Linear(in_features=4096, out_features=8, bias=False)\n",
      "      (lora_B): Linear(in_features=8, out_features=1024, bias=False)\n",
      "      (nero_A): Linear(in_features=1024, out_features=8, bias=False)\n",
      "      (nero_B): Linear(in_features=8, out_features=1024, bias=False)\n",
      "    )\n",
      "    (layers__DOT__9__DOT__self_attn__DOT__o_proj): NeroLayer(\n",
      "      (base_layer): Linear4bit(in_features=4096, out_features=4096, bias=False)\n",
      "      (lora_A): Linear(in_features=4096, out_features=8, bias=False)\n",
      "      (lora_B): Linear(in_features=8, out_features=4096, bias=False)\n",
      "      (nero_A): Linear(in_features=4096, out_features=8, bias=False)\n",
      "      (nero_B): Linear(in_features=8, out_features=4096, bias=False)\n",
      "    )\n",
      "    (layers__DOT__9__DOT__mlp__DOT__gate_proj): NeroLayer(\n",
      "      (base_layer): Linear4bit(in_features=4096, out_features=14336, bias=False)\n",
      "      (lora_A): Linear(in_features=4096, out_features=8, bias=False)\n",
      "      (lora_B): Linear(in_features=8, out_features=14336, bias=False)\n",
      "      (nero_A): Linear(in_features=14336, out_features=8, bias=False)\n",
      "      (nero_B): Linear(in_features=8, out_features=14336, bias=False)\n",
      "    )\n",
      "    (layers__DOT__9__DOT__mlp__DOT__up_proj): NeroLayer(\n",
      "      (base_layer): Linear4bit(in_features=4096, out_features=14336, bias=False)\n",
      "      (lora_A): Linear(in_features=4096, out_features=8, bias=False)\n",
      "      (lora_B): Linear(in_features=8, out_features=14336, bias=False)\n",
      "      (nero_A): Linear(in_features=14336, out_features=8, bias=False)\n",
      "      (nero_B): Linear(in_features=8, out_features=14336, bias=False)\n",
      "    )\n",
      "    (layers__DOT__9__DOT__mlp__DOT__down_proj): NeroLayer(\n",
      "      (base_layer): Linear4bit(in_features=14336, out_features=4096, bias=False)\n",
      "      (lora_A): Linear(in_features=14336, out_features=8, bias=False)\n",
      "      (lora_B): Linear(in_features=8, out_features=4096, bias=False)\n",
      "      (nero_A): Linear(in_features=4096, out_features=8, bias=False)\n",
      "      (nero_B): Linear(in_features=8, out_features=4096, bias=False)\n",
      "    )\n",
      "    (layers__DOT__10__DOT__self_attn__DOT__q_proj): NeroLayer(\n",
      "      (base_layer): Linear4bit(in_features=4096, out_features=4096, bias=False)\n",
      "      (lora_A): Linear(in_features=4096, out_features=8, bias=False)\n",
      "      (lora_B): Linear(in_features=8, out_features=4096, bias=False)\n",
      "      (nero_A): Linear(in_features=4096, out_features=8, bias=False)\n",
      "      (nero_B): Linear(in_features=8, out_features=4096, bias=False)\n",
      "    )\n",
      "    (layers__DOT__10__DOT__self_attn__DOT__k_proj): NeroLayer(\n",
      "      (base_layer): Linear4bit(in_features=4096, out_features=1024, bias=False)\n",
      "      (lora_A): Linear(in_features=4096, out_features=8, bias=False)\n",
      "      (lora_B): Linear(in_features=8, out_features=1024, bias=False)\n",
      "      (nero_A): Linear(in_features=1024, out_features=8, bias=False)\n",
      "      (nero_B): Linear(in_features=8, out_features=1024, bias=False)\n",
      "    )\n",
      "    (layers__DOT__10__DOT__self_attn__DOT__v_proj): NeroLayer(\n",
      "      (base_layer): Linear4bit(in_features=4096, out_features=1024, bias=False)\n",
      "      (lora_A): Linear(in_features=4096, out_features=8, bias=False)\n",
      "      (lora_B): Linear(in_features=8, out_features=1024, bias=False)\n",
      "      (nero_A): Linear(in_features=1024, out_features=8, bias=False)\n",
      "      (nero_B): Linear(in_features=8, out_features=1024, bias=False)\n",
      "    )\n",
      "    (layers__DOT__10__DOT__self_attn__DOT__o_proj): NeroLayer(\n",
      "      (base_layer): Linear4bit(in_features=4096, out_features=4096, bias=False)\n",
      "      (lora_A): Linear(in_features=4096, out_features=8, bias=False)\n",
      "      (lora_B): Linear(in_features=8, out_features=4096, bias=False)\n",
      "      (nero_A): Linear(in_features=4096, out_features=8, bias=False)\n",
      "      (nero_B): Linear(in_features=8, out_features=4096, bias=False)\n",
      "    )\n",
      "    (layers__DOT__10__DOT__mlp__DOT__gate_proj): NeroLayer(\n",
      "      (base_layer): Linear4bit(in_features=4096, out_features=14336, bias=False)\n",
      "      (lora_A): Linear(in_features=4096, out_features=8, bias=False)\n",
      "      (lora_B): Linear(in_features=8, out_features=14336, bias=False)\n",
      "      (nero_A): Linear(in_features=14336, out_features=8, bias=False)\n",
      "      (nero_B): Linear(in_features=8, out_features=14336, bias=False)\n",
      "    )\n",
      "    (layers__DOT__10__DOT__mlp__DOT__up_proj): NeroLayer(\n",
      "      (base_layer): Linear4bit(in_features=4096, out_features=14336, bias=False)\n",
      "      (lora_A): Linear(in_features=4096, out_features=8, bias=False)\n",
      "      (lora_B): Linear(in_features=8, out_features=14336, bias=False)\n",
      "      (nero_A): Linear(in_features=14336, out_features=8, bias=False)\n",
      "      (nero_B): Linear(in_features=8, out_features=14336, bias=False)\n",
      "    )\n",
      "    (layers__DOT__10__DOT__mlp__DOT__down_proj): NeroLayer(\n",
      "      (base_layer): Linear4bit(in_features=14336, out_features=4096, bias=False)\n",
      "      (lora_A): Linear(in_features=14336, out_features=8, bias=False)\n",
      "      (lora_B): Linear(in_features=8, out_features=4096, bias=False)\n",
      "      (nero_A): Linear(in_features=4096, out_features=8, bias=False)\n",
      "      (nero_B): Linear(in_features=8, out_features=4096, bias=False)\n",
      "    )\n",
      "    (layers__DOT__11__DOT__self_attn__DOT__q_proj): NeroLayer(\n",
      "      (base_layer): Linear4bit(in_features=4096, out_features=4096, bias=False)\n",
      "      (lora_A): Linear(in_features=4096, out_features=8, bias=False)\n",
      "      (lora_B): Linear(in_features=8, out_features=4096, bias=False)\n",
      "      (nero_A): Linear(in_features=4096, out_features=8, bias=False)\n",
      "      (nero_B): Linear(in_features=8, out_features=4096, bias=False)\n",
      "    )\n",
      "    (layers__DOT__11__DOT__self_attn__DOT__k_proj): NeroLayer(\n",
      "      (base_layer): Linear4bit(in_features=4096, out_features=1024, bias=False)\n",
      "      (lora_A): Linear(in_features=4096, out_features=8, bias=False)\n",
      "      (lora_B): Linear(in_features=8, out_features=1024, bias=False)\n",
      "      (nero_A): Linear(in_features=1024, out_features=8, bias=False)\n",
      "      (nero_B): Linear(in_features=8, out_features=1024, bias=False)\n",
      "    )\n",
      "    (layers__DOT__11__DOT__self_attn__DOT__v_proj): NeroLayer(\n",
      "      (base_layer): Linear4bit(in_features=4096, out_features=1024, bias=False)\n",
      "      (lora_A): Linear(in_features=4096, out_features=8, bias=False)\n",
      "      (lora_B): Linear(in_features=8, out_features=1024, bias=False)\n",
      "      (nero_A): Linear(in_features=1024, out_features=8, bias=False)\n",
      "      (nero_B): Linear(in_features=8, out_features=1024, bias=False)\n",
      "    )\n",
      "    (layers__DOT__11__DOT__self_attn__DOT__o_proj): NeroLayer(\n",
      "      (base_layer): Linear4bit(in_features=4096, out_features=4096, bias=False)\n",
      "      (lora_A): Linear(in_features=4096, out_features=8, bias=False)\n",
      "      (lora_B): Linear(in_features=8, out_features=4096, bias=False)\n",
      "      (nero_A): Linear(in_features=4096, out_features=8, bias=False)\n",
      "      (nero_B): Linear(in_features=8, out_features=4096, bias=False)\n",
      "    )\n",
      "    (layers__DOT__11__DOT__mlp__DOT__gate_proj): NeroLayer(\n",
      "      (base_layer): Linear4bit(in_features=4096, out_features=14336, bias=False)\n",
      "      (lora_A): Linear(in_features=4096, out_features=8, bias=False)\n",
      "      (lora_B): Linear(in_features=8, out_features=14336, bias=False)\n",
      "      (nero_A): Linear(in_features=14336, out_features=8, bias=False)\n",
      "      (nero_B): Linear(in_features=8, out_features=14336, bias=False)\n",
      "    )\n",
      "    (layers__DOT__11__DOT__mlp__DOT__up_proj): NeroLayer(\n",
      "      (base_layer): Linear4bit(in_features=4096, out_features=14336, bias=False)\n",
      "      (lora_A): Linear(in_features=4096, out_features=8, bias=False)\n",
      "      (lora_B): Linear(in_features=8, out_features=14336, bias=False)\n",
      "      (nero_A): Linear(in_features=14336, out_features=8, bias=False)\n",
      "      (nero_B): Linear(in_features=8, out_features=14336, bias=False)\n",
      "    )\n",
      "    (layers__DOT__11__DOT__mlp__DOT__down_proj): NeroLayer(\n",
      "      (base_layer): Linear4bit(in_features=14336, out_features=4096, bias=False)\n",
      "      (lora_A): Linear(in_features=14336, out_features=8, bias=False)\n",
      "      (lora_B): Linear(in_features=8, out_features=4096, bias=False)\n",
      "      (nero_A): Linear(in_features=4096, out_features=8, bias=False)\n",
      "      (nero_B): Linear(in_features=8, out_features=4096, bias=False)\n",
      "    )\n",
      "    (layers__DOT__12__DOT__self_attn__DOT__q_proj): NeroLayer(\n",
      "      (base_layer): Linear4bit(in_features=4096, out_features=4096, bias=False)\n",
      "      (lora_A): Linear(in_features=4096, out_features=8, bias=False)\n",
      "      (lora_B): Linear(in_features=8, out_features=4096, bias=False)\n",
      "      (nero_A): Linear(in_features=4096, out_features=8, bias=False)\n",
      "      (nero_B): Linear(in_features=8, out_features=4096, bias=False)\n",
      "    )\n",
      "    (layers__DOT__12__DOT__self_attn__DOT__k_proj): NeroLayer(\n",
      "      (base_layer): Linear4bit(in_features=4096, out_features=1024, bias=False)\n",
      "      (lora_A): Linear(in_features=4096, out_features=8, bias=False)\n",
      "      (lora_B): Linear(in_features=8, out_features=1024, bias=False)\n",
      "      (nero_A): Linear(in_features=1024, out_features=8, bias=False)\n",
      "      (nero_B): Linear(in_features=8, out_features=1024, bias=False)\n",
      "    )\n",
      "    (layers__DOT__12__DOT__self_attn__DOT__v_proj): NeroLayer(\n",
      "      (base_layer): Linear4bit(in_features=4096, out_features=1024, bias=False)\n",
      "      (lora_A): Linear(in_features=4096, out_features=8, bias=False)\n",
      "      (lora_B): Linear(in_features=8, out_features=1024, bias=False)\n",
      "      (nero_A): Linear(in_features=1024, out_features=8, bias=False)\n",
      "      (nero_B): Linear(in_features=8, out_features=1024, bias=False)\n",
      "    )\n",
      "    (layers__DOT__12__DOT__self_attn__DOT__o_proj): NeroLayer(\n",
      "      (base_layer): Linear4bit(in_features=4096, out_features=4096, bias=False)\n",
      "      (lora_A): Linear(in_features=4096, out_features=8, bias=False)\n",
      "      (lora_B): Linear(in_features=8, out_features=4096, bias=False)\n",
      "      (nero_A): Linear(in_features=4096, out_features=8, bias=False)\n",
      "      (nero_B): Linear(in_features=8, out_features=4096, bias=False)\n",
      "    )\n",
      "    (layers__DOT__12__DOT__mlp__DOT__gate_proj): NeroLayer(\n",
      "      (base_layer): Linear4bit(in_features=4096, out_features=14336, bias=False)\n",
      "      (lora_A): Linear(in_features=4096, out_features=8, bias=False)\n",
      "      (lora_B): Linear(in_features=8, out_features=14336, bias=False)\n",
      "      (nero_A): Linear(in_features=14336, out_features=8, bias=False)\n",
      "      (nero_B): Linear(in_features=8, out_features=14336, bias=False)\n",
      "    )\n",
      "    (layers__DOT__12__DOT__mlp__DOT__up_proj): NeroLayer(\n",
      "      (base_layer): Linear4bit(in_features=4096, out_features=14336, bias=False)\n",
      "      (lora_A): Linear(in_features=4096, out_features=8, bias=False)\n",
      "      (lora_B): Linear(in_features=8, out_features=14336, bias=False)\n",
      "      (nero_A): Linear(in_features=14336, out_features=8, bias=False)\n",
      "      (nero_B): Linear(in_features=8, out_features=14336, bias=False)\n",
      "    )\n",
      "    (layers__DOT__12__DOT__mlp__DOT__down_proj): NeroLayer(\n",
      "      (base_layer): Linear4bit(in_features=14336, out_features=4096, bias=False)\n",
      "      (lora_A): Linear(in_features=14336, out_features=8, bias=False)\n",
      "      (lora_B): Linear(in_features=8, out_features=4096, bias=False)\n",
      "      (nero_A): Linear(in_features=4096, out_features=8, bias=False)\n",
      "      (nero_B): Linear(in_features=8, out_features=4096, bias=False)\n",
      "    )\n",
      "    (layers__DOT__13__DOT__self_attn__DOT__q_proj): NeroLayer(\n",
      "      (base_layer): Linear4bit(in_features=4096, out_features=4096, bias=False)\n",
      "      (lora_A): Linear(in_features=4096, out_features=8, bias=False)\n",
      "      (lora_B): Linear(in_features=8, out_features=4096, bias=False)\n",
      "      (nero_A): Linear(in_features=4096, out_features=8, bias=False)\n",
      "      (nero_B): Linear(in_features=8, out_features=4096, bias=False)\n",
      "    )\n",
      "    (layers__DOT__13__DOT__self_attn__DOT__k_proj): NeroLayer(\n",
      "      (base_layer): Linear4bit(in_features=4096, out_features=1024, bias=False)\n",
      "      (lora_A): Linear(in_features=4096, out_features=8, bias=False)\n",
      "      (lora_B): Linear(in_features=8, out_features=1024, bias=False)\n",
      "      (nero_A): Linear(in_features=1024, out_features=8, bias=False)\n",
      "      (nero_B): Linear(in_features=8, out_features=1024, bias=False)\n",
      "    )\n",
      "    (layers__DOT__13__DOT__self_attn__DOT__v_proj): NeroLayer(\n",
      "      (base_layer): Linear4bit(in_features=4096, out_features=1024, bias=False)\n",
      "      (lora_A): Linear(in_features=4096, out_features=8, bias=False)\n",
      "      (lora_B): Linear(in_features=8, out_features=1024, bias=False)\n",
      "      (nero_A): Linear(in_features=1024, out_features=8, bias=False)\n",
      "      (nero_B): Linear(in_features=8, out_features=1024, bias=False)\n",
      "    )\n",
      "    (layers__DOT__13__DOT__self_attn__DOT__o_proj): NeroLayer(\n",
      "      (base_layer): Linear4bit(in_features=4096, out_features=4096, bias=False)\n",
      "      (lora_A): Linear(in_features=4096, out_features=8, bias=False)\n",
      "      (lora_B): Linear(in_features=8, out_features=4096, bias=False)\n",
      "      (nero_A): Linear(in_features=4096, out_features=8, bias=False)\n",
      "      (nero_B): Linear(in_features=8, out_features=4096, bias=False)\n",
      "    )\n",
      "    (layers__DOT__13__DOT__mlp__DOT__gate_proj): NeroLayer(\n",
      "      (base_layer): Linear4bit(in_features=4096, out_features=14336, bias=False)\n",
      "      (lora_A): Linear(in_features=4096, out_features=8, bias=False)\n",
      "      (lora_B): Linear(in_features=8, out_features=14336, bias=False)\n",
      "      (nero_A): Linear(in_features=14336, out_features=8, bias=False)\n",
      "      (nero_B): Linear(in_features=8, out_features=14336, bias=False)\n",
      "    )\n",
      "    (layers__DOT__13__DOT__mlp__DOT__up_proj): NeroLayer(\n",
      "      (base_layer): Linear4bit(in_features=4096, out_features=14336, bias=False)\n",
      "      (lora_A): Linear(in_features=4096, out_features=8, bias=False)\n",
      "      (lora_B): Linear(in_features=8, out_features=14336, bias=False)\n",
      "      (nero_A): Linear(in_features=14336, out_features=8, bias=False)\n",
      "      (nero_B): Linear(in_features=8, out_features=14336, bias=False)\n",
      "    )\n",
      "    (layers__DOT__13__DOT__mlp__DOT__down_proj): NeroLayer(\n",
      "      (base_layer): Linear4bit(in_features=14336, out_features=4096, bias=False)\n",
      "      (lora_A): Linear(in_features=14336, out_features=8, bias=False)\n",
      "      (lora_B): Linear(in_features=8, out_features=4096, bias=False)\n",
      "      (nero_A): Linear(in_features=4096, out_features=8, bias=False)\n",
      "      (nero_B): Linear(in_features=8, out_features=4096, bias=False)\n",
      "    )\n",
      "    (layers__DOT__14__DOT__self_attn__DOT__q_proj): NeroLayer(\n",
      "      (base_layer): Linear4bit(in_features=4096, out_features=4096, bias=False)\n",
      "      (lora_A): Linear(in_features=4096, out_features=8, bias=False)\n",
      "      (lora_B): Linear(in_features=8, out_features=4096, bias=False)\n",
      "      (nero_A): Linear(in_features=4096, out_features=8, bias=False)\n",
      "      (nero_B): Linear(in_features=8, out_features=4096, bias=False)\n",
      "    )\n",
      "    (layers__DOT__14__DOT__self_attn__DOT__k_proj): NeroLayer(\n",
      "      (base_layer): Linear4bit(in_features=4096, out_features=1024, bias=False)\n",
      "      (lora_A): Linear(in_features=4096, out_features=8, bias=False)\n",
      "      (lora_B): Linear(in_features=8, out_features=1024, bias=False)\n",
      "      (nero_A): Linear(in_features=1024, out_features=8, bias=False)\n",
      "      (nero_B): Linear(in_features=8, out_features=1024, bias=False)\n",
      "    )\n",
      "    (layers__DOT__14__DOT__self_attn__DOT__v_proj): NeroLayer(\n",
      "      (base_layer): Linear4bit(in_features=4096, out_features=1024, bias=False)\n",
      "      (lora_A): Linear(in_features=4096, out_features=8, bias=False)\n",
      "      (lora_B): Linear(in_features=8, out_features=1024, bias=False)\n",
      "      (nero_A): Linear(in_features=1024, out_features=8, bias=False)\n",
      "      (nero_B): Linear(in_features=8, out_features=1024, bias=False)\n",
      "    )\n",
      "    (layers__DOT__14__DOT__self_attn__DOT__o_proj): NeroLayer(\n",
      "      (base_layer): Linear4bit(in_features=4096, out_features=4096, bias=False)\n",
      "      (lora_A): Linear(in_features=4096, out_features=8, bias=False)\n",
      "      (lora_B): Linear(in_features=8, out_features=4096, bias=False)\n",
      "      (nero_A): Linear(in_features=4096, out_features=8, bias=False)\n",
      "      (nero_B): Linear(in_features=8, out_features=4096, bias=False)\n",
      "    )\n",
      "    (layers__DOT__14__DOT__mlp__DOT__gate_proj): NeroLayer(\n",
      "      (base_layer): Linear4bit(in_features=4096, out_features=14336, bias=False)\n",
      "      (lora_A): Linear(in_features=4096, out_features=8, bias=False)\n",
      "      (lora_B): Linear(in_features=8, out_features=14336, bias=False)\n",
      "      (nero_A): Linear(in_features=14336, out_features=8, bias=False)\n",
      "      (nero_B): Linear(in_features=8, out_features=14336, bias=False)\n",
      "    )\n",
      "    (layers__DOT__14__DOT__mlp__DOT__up_proj): NeroLayer(\n",
      "      (base_layer): Linear4bit(in_features=4096, out_features=14336, bias=False)\n",
      "      (lora_A): Linear(in_features=4096, out_features=8, bias=False)\n",
      "      (lora_B): Linear(in_features=8, out_features=14336, bias=False)\n",
      "      (nero_A): Linear(in_features=14336, out_features=8, bias=False)\n",
      "      (nero_B): Linear(in_features=8, out_features=14336, bias=False)\n",
      "    )\n",
      "    (layers__DOT__14__DOT__mlp__DOT__down_proj): NeroLayer(\n",
      "      (base_layer): Linear4bit(in_features=14336, out_features=4096, bias=False)\n",
      "      (lora_A): Linear(in_features=14336, out_features=8, bias=False)\n",
      "      (lora_B): Linear(in_features=8, out_features=4096, bias=False)\n",
      "      (nero_A): Linear(in_features=4096, out_features=8, bias=False)\n",
      "      (nero_B): Linear(in_features=8, out_features=4096, bias=False)\n",
      "    )\n",
      "    (layers__DOT__15__DOT__self_attn__DOT__q_proj): NeroLayer(\n",
      "      (base_layer): Linear4bit(in_features=4096, out_features=4096, bias=False)\n",
      "      (lora_A): Linear(in_features=4096, out_features=8, bias=False)\n",
      "      (lora_B): Linear(in_features=8, out_features=4096, bias=False)\n",
      "      (nero_A): Linear(in_features=4096, out_features=8, bias=False)\n",
      "      (nero_B): Linear(in_features=8, out_features=4096, bias=False)\n",
      "    )\n",
      "    (layers__DOT__15__DOT__self_attn__DOT__k_proj): NeroLayer(\n",
      "      (base_layer): Linear4bit(in_features=4096, out_features=1024, bias=False)\n",
      "      (lora_A): Linear(in_features=4096, out_features=8, bias=False)\n",
      "      (lora_B): Linear(in_features=8, out_features=1024, bias=False)\n",
      "      (nero_A): Linear(in_features=1024, out_features=8, bias=False)\n",
      "      (nero_B): Linear(in_features=8, out_features=1024, bias=False)\n",
      "    )\n",
      "    (layers__DOT__15__DOT__self_attn__DOT__v_proj): NeroLayer(\n",
      "      (base_layer): Linear4bit(in_features=4096, out_features=1024, bias=False)\n",
      "      (lora_A): Linear(in_features=4096, out_features=8, bias=False)\n",
      "      (lora_B): Linear(in_features=8, out_features=1024, bias=False)\n",
      "      (nero_A): Linear(in_features=1024, out_features=8, bias=False)\n",
      "      (nero_B): Linear(in_features=8, out_features=1024, bias=False)\n",
      "    )\n",
      "    (layers__DOT__15__DOT__self_attn__DOT__o_proj): NeroLayer(\n",
      "      (base_layer): Linear4bit(in_features=4096, out_features=4096, bias=False)\n",
      "      (lora_A): Linear(in_features=4096, out_features=8, bias=False)\n",
      "      (lora_B): Linear(in_features=8, out_features=4096, bias=False)\n",
      "      (nero_A): Linear(in_features=4096, out_features=8, bias=False)\n",
      "      (nero_B): Linear(in_features=8, out_features=4096, bias=False)\n",
      "    )\n",
      "    (layers__DOT__15__DOT__mlp__DOT__gate_proj): NeroLayer(\n",
      "      (base_layer): Linear4bit(in_features=4096, out_features=14336, bias=False)\n",
      "      (lora_A): Linear(in_features=4096, out_features=8, bias=False)\n",
      "      (lora_B): Linear(in_features=8, out_features=14336, bias=False)\n",
      "      (nero_A): Linear(in_features=14336, out_features=8, bias=False)\n",
      "      (nero_B): Linear(in_features=8, out_features=14336, bias=False)\n",
      "    )\n",
      "    (layers__DOT__15__DOT__mlp__DOT__up_proj): NeroLayer(\n",
      "      (base_layer): Linear4bit(in_features=4096, out_features=14336, bias=False)\n",
      "      (lora_A): Linear(in_features=4096, out_features=8, bias=False)\n",
      "      (lora_B): Linear(in_features=8, out_features=14336, bias=False)\n",
      "      (nero_A): Linear(in_features=14336, out_features=8, bias=False)\n",
      "      (nero_B): Linear(in_features=8, out_features=14336, bias=False)\n",
      "    )\n",
      "    (layers__DOT__15__DOT__mlp__DOT__down_proj): NeroLayer(\n",
      "      (base_layer): Linear4bit(in_features=14336, out_features=4096, bias=False)\n",
      "      (lora_A): Linear(in_features=14336, out_features=8, bias=False)\n",
      "      (lora_B): Linear(in_features=8, out_features=4096, bias=False)\n",
      "      (nero_A): Linear(in_features=4096, out_features=8, bias=False)\n",
      "      (nero_B): Linear(in_features=8, out_features=4096, bias=False)\n",
      "    )\n",
      "    (layers__DOT__16__DOT__self_attn__DOT__q_proj): NeroLayer(\n",
      "      (base_layer): Linear4bit(in_features=4096, out_features=4096, bias=False)\n",
      "      (lora_A): Linear(in_features=4096, out_features=8, bias=False)\n",
      "      (lora_B): Linear(in_features=8, out_features=4096, bias=False)\n",
      "      (nero_A): Linear(in_features=4096, out_features=8, bias=False)\n",
      "      (nero_B): Linear(in_features=8, out_features=4096, bias=False)\n",
      "    )\n",
      "    (layers__DOT__16__DOT__self_attn__DOT__k_proj): NeroLayer(\n",
      "      (base_layer): Linear4bit(in_features=4096, out_features=1024, bias=False)\n",
      "      (lora_A): Linear(in_features=4096, out_features=8, bias=False)\n",
      "      (lora_B): Linear(in_features=8, out_features=1024, bias=False)\n",
      "      (nero_A): Linear(in_features=1024, out_features=8, bias=False)\n",
      "      (nero_B): Linear(in_features=8, out_features=1024, bias=False)\n",
      "    )\n",
      "    (layers__DOT__16__DOT__self_attn__DOT__v_proj): NeroLayer(\n",
      "      (base_layer): Linear4bit(in_features=4096, out_features=1024, bias=False)\n",
      "      (lora_A): Linear(in_features=4096, out_features=8, bias=False)\n",
      "      (lora_B): Linear(in_features=8, out_features=1024, bias=False)\n",
      "      (nero_A): Linear(in_features=1024, out_features=8, bias=False)\n",
      "      (nero_B): Linear(in_features=8, out_features=1024, bias=False)\n",
      "    )\n",
      "    (layers__DOT__16__DOT__self_attn__DOT__o_proj): NeroLayer(\n",
      "      (base_layer): Linear4bit(in_features=4096, out_features=4096, bias=False)\n",
      "      (lora_A): Linear(in_features=4096, out_features=8, bias=False)\n",
      "      (lora_B): Linear(in_features=8, out_features=4096, bias=False)\n",
      "      (nero_A): Linear(in_features=4096, out_features=8, bias=False)\n",
      "      (nero_B): Linear(in_features=8, out_features=4096, bias=False)\n",
      "    )\n",
      "    (layers__DOT__16__DOT__mlp__DOT__gate_proj): NeroLayer(\n",
      "      (base_layer): Linear4bit(in_features=4096, out_features=14336, bias=False)\n",
      "      (lora_A): Linear(in_features=4096, out_features=8, bias=False)\n",
      "      (lora_B): Linear(in_features=8, out_features=14336, bias=False)\n",
      "      (nero_A): Linear(in_features=14336, out_features=8, bias=False)\n",
      "      (nero_B): Linear(in_features=8, out_features=14336, bias=False)\n",
      "    )\n",
      "    (layers__DOT__16__DOT__mlp__DOT__up_proj): NeroLayer(\n",
      "      (base_layer): Linear4bit(in_features=4096, out_features=14336, bias=False)\n",
      "      (lora_A): Linear(in_features=4096, out_features=8, bias=False)\n",
      "      (lora_B): Linear(in_features=8, out_features=14336, bias=False)\n",
      "      (nero_A): Linear(in_features=14336, out_features=8, bias=False)\n",
      "      (nero_B): Linear(in_features=8, out_features=14336, bias=False)\n",
      "    )\n",
      "    (layers__DOT__16__DOT__mlp__DOT__down_proj): NeroLayer(\n",
      "      (base_layer): Linear4bit(in_features=14336, out_features=4096, bias=False)\n",
      "      (lora_A): Linear(in_features=14336, out_features=8, bias=False)\n",
      "      (lora_B): Linear(in_features=8, out_features=4096, bias=False)\n",
      "      (nero_A): Linear(in_features=4096, out_features=8, bias=False)\n",
      "      (nero_B): Linear(in_features=8, out_features=4096, bias=False)\n",
      "    )\n",
      "    (layers__DOT__17__DOT__self_attn__DOT__q_proj): NeroLayer(\n",
      "      (base_layer): Linear4bit(in_features=4096, out_features=4096, bias=False)\n",
      "      (lora_A): Linear(in_features=4096, out_features=8, bias=False)\n",
      "      (lora_B): Linear(in_features=8, out_features=4096, bias=False)\n",
      "      (nero_A): Linear(in_features=4096, out_features=8, bias=False)\n",
      "      (nero_B): Linear(in_features=8, out_features=4096, bias=False)\n",
      "    )\n",
      "    (layers__DOT__17__DOT__self_attn__DOT__k_proj): NeroLayer(\n",
      "      (base_layer): Linear4bit(in_features=4096, out_features=1024, bias=False)\n",
      "      (lora_A): Linear(in_features=4096, out_features=8, bias=False)\n",
      "      (lora_B): Linear(in_features=8, out_features=1024, bias=False)\n",
      "      (nero_A): Linear(in_features=1024, out_features=8, bias=False)\n",
      "      (nero_B): Linear(in_features=8, out_features=1024, bias=False)\n",
      "    )\n",
      "    (layers__DOT__17__DOT__self_attn__DOT__v_proj): NeroLayer(\n",
      "      (base_layer): Linear4bit(in_features=4096, out_features=1024, bias=False)\n",
      "      (lora_A): Linear(in_features=4096, out_features=8, bias=False)\n",
      "      (lora_B): Linear(in_features=8, out_features=1024, bias=False)\n",
      "      (nero_A): Linear(in_features=1024, out_features=8, bias=False)\n",
      "      (nero_B): Linear(in_features=8, out_features=1024, bias=False)\n",
      "    )\n",
      "    (layers__DOT__17__DOT__self_attn__DOT__o_proj): NeroLayer(\n",
      "      (base_layer): Linear4bit(in_features=4096, out_features=4096, bias=False)\n",
      "      (lora_A): Linear(in_features=4096, out_features=8, bias=False)\n",
      "      (lora_B): Linear(in_features=8, out_features=4096, bias=False)\n",
      "      (nero_A): Linear(in_features=4096, out_features=8, bias=False)\n",
      "      (nero_B): Linear(in_features=8, out_features=4096, bias=False)\n",
      "    )\n",
      "    (layers__DOT__17__DOT__mlp__DOT__gate_proj): NeroLayer(\n",
      "      (base_layer): Linear4bit(in_features=4096, out_features=14336, bias=False)\n",
      "      (lora_A): Linear(in_features=4096, out_features=8, bias=False)\n",
      "      (lora_B): Linear(in_features=8, out_features=14336, bias=False)\n",
      "      (nero_A): Linear(in_features=14336, out_features=8, bias=False)\n",
      "      (nero_B): Linear(in_features=8, out_features=14336, bias=False)\n",
      "    )\n",
      "    (layers__DOT__17__DOT__mlp__DOT__up_proj): NeroLayer(\n",
      "      (base_layer): Linear4bit(in_features=4096, out_features=14336, bias=False)\n",
      "      (lora_A): Linear(in_features=4096, out_features=8, bias=False)\n",
      "      (lora_B): Linear(in_features=8, out_features=14336, bias=False)\n",
      "      (nero_A): Linear(in_features=14336, out_features=8, bias=False)\n",
      "      (nero_B): Linear(in_features=8, out_features=14336, bias=False)\n",
      "    )\n",
      "    (layers__DOT__17__DOT__mlp__DOT__down_proj): NeroLayer(\n",
      "      (base_layer): Linear4bit(in_features=14336, out_features=4096, bias=False)\n",
      "      (lora_A): Linear(in_features=14336, out_features=8, bias=False)\n",
      "      (lora_B): Linear(in_features=8, out_features=4096, bias=False)\n",
      "      (nero_A): Linear(in_features=4096, out_features=8, bias=False)\n",
      "      (nero_B): Linear(in_features=8, out_features=4096, bias=False)\n",
      "    )\n",
      "    (layers__DOT__18__DOT__self_attn__DOT__q_proj): NeroLayer(\n",
      "      (base_layer): Linear4bit(in_features=4096, out_features=4096, bias=False)\n",
      "      (lora_A): Linear(in_features=4096, out_features=8, bias=False)\n",
      "      (lora_B): Linear(in_features=8, out_features=4096, bias=False)\n",
      "      (nero_A): Linear(in_features=4096, out_features=8, bias=False)\n",
      "      (nero_B): Linear(in_features=8, out_features=4096, bias=False)\n",
      "    )\n",
      "    (layers__DOT__18__DOT__self_attn__DOT__k_proj): NeroLayer(\n",
      "      (base_layer): Linear4bit(in_features=4096, out_features=1024, bias=False)\n",
      "      (lora_A): Linear(in_features=4096, out_features=8, bias=False)\n",
      "      (lora_B): Linear(in_features=8, out_features=1024, bias=False)\n",
      "      (nero_A): Linear(in_features=1024, out_features=8, bias=False)\n",
      "      (nero_B): Linear(in_features=8, out_features=1024, bias=False)\n",
      "    )\n",
      "    (layers__DOT__18__DOT__self_attn__DOT__v_proj): NeroLayer(\n",
      "      (base_layer): Linear4bit(in_features=4096, out_features=1024, bias=False)\n",
      "      (lora_A): Linear(in_features=4096, out_features=8, bias=False)\n",
      "      (lora_B): Linear(in_features=8, out_features=1024, bias=False)\n",
      "      (nero_A): Linear(in_features=1024, out_features=8, bias=False)\n",
      "      (nero_B): Linear(in_features=8, out_features=1024, bias=False)\n",
      "    )\n",
      "    (layers__DOT__18__DOT__self_attn__DOT__o_proj): NeroLayer(\n",
      "      (base_layer): Linear4bit(in_features=4096, out_features=4096, bias=False)\n",
      "      (lora_A): Linear(in_features=4096, out_features=8, bias=False)\n",
      "      (lora_B): Linear(in_features=8, out_features=4096, bias=False)\n",
      "      (nero_A): Linear(in_features=4096, out_features=8, bias=False)\n",
      "      (nero_B): Linear(in_features=8, out_features=4096, bias=False)\n",
      "    )\n",
      "    (layers__DOT__18__DOT__mlp__DOT__gate_proj): NeroLayer(\n",
      "      (base_layer): Linear4bit(in_features=4096, out_features=14336, bias=False)\n",
      "      (lora_A): Linear(in_features=4096, out_features=8, bias=False)\n",
      "      (lora_B): Linear(in_features=8, out_features=14336, bias=False)\n",
      "      (nero_A): Linear(in_features=14336, out_features=8, bias=False)\n",
      "      (nero_B): Linear(in_features=8, out_features=14336, bias=False)\n",
      "    )\n",
      "    (layers__DOT__18__DOT__mlp__DOT__up_proj): NeroLayer(\n",
      "      (base_layer): Linear4bit(in_features=4096, out_features=14336, bias=False)\n",
      "      (lora_A): Linear(in_features=4096, out_features=8, bias=False)\n",
      "      (lora_B): Linear(in_features=8, out_features=14336, bias=False)\n",
      "      (nero_A): Linear(in_features=14336, out_features=8, bias=False)\n",
      "      (nero_B): Linear(in_features=8, out_features=14336, bias=False)\n",
      "    )\n",
      "    (layers__DOT__18__DOT__mlp__DOT__down_proj): NeroLayer(\n",
      "      (base_layer): Linear4bit(in_features=14336, out_features=4096, bias=False)\n",
      "      (lora_A): Linear(in_features=14336, out_features=8, bias=False)\n",
      "      (lora_B): Linear(in_features=8, out_features=4096, bias=False)\n",
      "      (nero_A): Linear(in_features=4096, out_features=8, bias=False)\n",
      "      (nero_B): Linear(in_features=8, out_features=4096, bias=False)\n",
      "    )\n",
      "    (layers__DOT__19__DOT__self_attn__DOT__q_proj): NeroLayer(\n",
      "      (base_layer): Linear4bit(in_features=4096, out_features=4096, bias=False)\n",
      "      (lora_A): Linear(in_features=4096, out_features=8, bias=False)\n",
      "      (lora_B): Linear(in_features=8, out_features=4096, bias=False)\n",
      "      (nero_A): Linear(in_features=4096, out_features=8, bias=False)\n",
      "      (nero_B): Linear(in_features=8, out_features=4096, bias=False)\n",
      "    )\n",
      "    (layers__DOT__19__DOT__self_attn__DOT__k_proj): NeroLayer(\n",
      "      (base_layer): Linear4bit(in_features=4096, out_features=1024, bias=False)\n",
      "      (lora_A): Linear(in_features=4096, out_features=8, bias=False)\n",
      "      (lora_B): Linear(in_features=8, out_features=1024, bias=False)\n",
      "      (nero_A): Linear(in_features=1024, out_features=8, bias=False)\n",
      "      (nero_B): Linear(in_features=8, out_features=1024, bias=False)\n",
      "    )\n",
      "    (layers__DOT__19__DOT__self_attn__DOT__v_proj): NeroLayer(\n",
      "      (base_layer): Linear4bit(in_features=4096, out_features=1024, bias=False)\n",
      "      (lora_A): Linear(in_features=4096, out_features=8, bias=False)\n",
      "      (lora_B): Linear(in_features=8, out_features=1024, bias=False)\n",
      "      (nero_A): Linear(in_features=1024, out_features=8, bias=False)\n",
      "      (nero_B): Linear(in_features=8, out_features=1024, bias=False)\n",
      "    )\n",
      "    (layers__DOT__19__DOT__self_attn__DOT__o_proj): NeroLayer(\n",
      "      (base_layer): Linear4bit(in_features=4096, out_features=4096, bias=False)\n",
      "      (lora_A): Linear(in_features=4096, out_features=8, bias=False)\n",
      "      (lora_B): Linear(in_features=8, out_features=4096, bias=False)\n",
      "      (nero_A): Linear(in_features=4096, out_features=8, bias=False)\n",
      "      (nero_B): Linear(in_features=8, out_features=4096, bias=False)\n",
      "    )\n",
      "    (layers__DOT__19__DOT__mlp__DOT__gate_proj): NeroLayer(\n",
      "      (base_layer): Linear4bit(in_features=4096, out_features=14336, bias=False)\n",
      "      (lora_A): Linear(in_features=4096, out_features=8, bias=False)\n",
      "      (lora_B): Linear(in_features=8, out_features=14336, bias=False)\n",
      "      (nero_A): Linear(in_features=14336, out_features=8, bias=False)\n",
      "      (nero_B): Linear(in_features=8, out_features=14336, bias=False)\n",
      "    )\n",
      "    (layers__DOT__19__DOT__mlp__DOT__up_proj): NeroLayer(\n",
      "      (base_layer): Linear4bit(in_features=4096, out_features=14336, bias=False)\n",
      "      (lora_A): Linear(in_features=4096, out_features=8, bias=False)\n",
      "      (lora_B): Linear(in_features=8, out_features=14336, bias=False)\n",
      "      (nero_A): Linear(in_features=14336, out_features=8, bias=False)\n",
      "      (nero_B): Linear(in_features=8, out_features=14336, bias=False)\n",
      "    )\n",
      "    (layers__DOT__19__DOT__mlp__DOT__down_proj): NeroLayer(\n",
      "      (base_layer): Linear4bit(in_features=14336, out_features=4096, bias=False)\n",
      "      (lora_A): Linear(in_features=14336, out_features=8, bias=False)\n",
      "      (lora_B): Linear(in_features=8, out_features=4096, bias=False)\n",
      "      (nero_A): Linear(in_features=4096, out_features=8, bias=False)\n",
      "      (nero_B): Linear(in_features=8, out_features=4096, bias=False)\n",
      "    )\n",
      "    (layers__DOT__20__DOT__self_attn__DOT__q_proj): NeroLayer(\n",
      "      (base_layer): Linear4bit(in_features=4096, out_features=4096, bias=False)\n",
      "      (lora_A): Linear(in_features=4096, out_features=8, bias=False)\n",
      "      (lora_B): Linear(in_features=8, out_features=4096, bias=False)\n",
      "      (nero_A): Linear(in_features=4096, out_features=8, bias=False)\n",
      "      (nero_B): Linear(in_features=8, out_features=4096, bias=False)\n",
      "    )\n",
      "    (layers__DOT__20__DOT__self_attn__DOT__k_proj): NeroLayer(\n",
      "      (base_layer): Linear4bit(in_features=4096, out_features=1024, bias=False)\n",
      "      (lora_A): Linear(in_features=4096, out_features=8, bias=False)\n",
      "      (lora_B): Linear(in_features=8, out_features=1024, bias=False)\n",
      "      (nero_A): Linear(in_features=1024, out_features=8, bias=False)\n",
      "      (nero_B): Linear(in_features=8, out_features=1024, bias=False)\n",
      "    )\n",
      "    (layers__DOT__20__DOT__self_attn__DOT__v_proj): NeroLayer(\n",
      "      (base_layer): Linear4bit(in_features=4096, out_features=1024, bias=False)\n",
      "      (lora_A): Linear(in_features=4096, out_features=8, bias=False)\n",
      "      (lora_B): Linear(in_features=8, out_features=1024, bias=False)\n",
      "      (nero_A): Linear(in_features=1024, out_features=8, bias=False)\n",
      "      (nero_B): Linear(in_features=8, out_features=1024, bias=False)\n",
      "    )\n",
      "    (layers__DOT__20__DOT__self_attn__DOT__o_proj): NeroLayer(\n",
      "      (base_layer): Linear4bit(in_features=4096, out_features=4096, bias=False)\n",
      "      (lora_A): Linear(in_features=4096, out_features=8, bias=False)\n",
      "      (lora_B): Linear(in_features=8, out_features=4096, bias=False)\n",
      "      (nero_A): Linear(in_features=4096, out_features=8, bias=False)\n",
      "      (nero_B): Linear(in_features=8, out_features=4096, bias=False)\n",
      "    )\n",
      "    (layers__DOT__20__DOT__mlp__DOT__gate_proj): NeroLayer(\n",
      "      (base_layer): Linear4bit(in_features=4096, out_features=14336, bias=False)\n",
      "      (lora_A): Linear(in_features=4096, out_features=8, bias=False)\n",
      "      (lora_B): Linear(in_features=8, out_features=14336, bias=False)\n",
      "      (nero_A): Linear(in_features=14336, out_features=8, bias=False)\n",
      "      (nero_B): Linear(in_features=8, out_features=14336, bias=False)\n",
      "    )\n",
      "    (layers__DOT__20__DOT__mlp__DOT__up_proj): NeroLayer(\n",
      "      (base_layer): Linear4bit(in_features=4096, out_features=14336, bias=False)\n",
      "      (lora_A): Linear(in_features=4096, out_features=8, bias=False)\n",
      "      (lora_B): Linear(in_features=8, out_features=14336, bias=False)\n",
      "      (nero_A): Linear(in_features=14336, out_features=8, bias=False)\n",
      "      (nero_B): Linear(in_features=8, out_features=14336, bias=False)\n",
      "    )\n",
      "    (layers__DOT__20__DOT__mlp__DOT__down_proj): NeroLayer(\n",
      "      (base_layer): Linear4bit(in_features=14336, out_features=4096, bias=False)\n",
      "      (lora_A): Linear(in_features=14336, out_features=8, bias=False)\n",
      "      (lora_B): Linear(in_features=8, out_features=4096, bias=False)\n",
      "      (nero_A): Linear(in_features=4096, out_features=8, bias=False)\n",
      "      (nero_B): Linear(in_features=8, out_features=4096, bias=False)\n",
      "    )\n",
      "    (layers__DOT__21__DOT__self_attn__DOT__q_proj): NeroLayer(\n",
      "      (base_layer): Linear4bit(in_features=4096, out_features=4096, bias=False)\n",
      "      (lora_A): Linear(in_features=4096, out_features=8, bias=False)\n",
      "      (lora_B): Linear(in_features=8, out_features=4096, bias=False)\n",
      "      (nero_A): Linear(in_features=4096, out_features=8, bias=False)\n",
      "      (nero_B): Linear(in_features=8, out_features=4096, bias=False)\n",
      "    )\n",
      "    (layers__DOT__21__DOT__self_attn__DOT__k_proj): NeroLayer(\n",
      "      (base_layer): Linear4bit(in_features=4096, out_features=1024, bias=False)\n",
      "      (lora_A): Linear(in_features=4096, out_features=8, bias=False)\n",
      "      (lora_B): Linear(in_features=8, out_features=1024, bias=False)\n",
      "      (nero_A): Linear(in_features=1024, out_features=8, bias=False)\n",
      "      (nero_B): Linear(in_features=8, out_features=1024, bias=False)\n",
      "    )\n",
      "    (layers__DOT__21__DOT__self_attn__DOT__v_proj): NeroLayer(\n",
      "      (base_layer): Linear4bit(in_features=4096, out_features=1024, bias=False)\n",
      "      (lora_A): Linear(in_features=4096, out_features=8, bias=False)\n",
      "      (lora_B): Linear(in_features=8, out_features=1024, bias=False)\n",
      "      (nero_A): Linear(in_features=1024, out_features=8, bias=False)\n",
      "      (nero_B): Linear(in_features=8, out_features=1024, bias=False)\n",
      "    )\n",
      "    (layers__DOT__21__DOT__self_attn__DOT__o_proj): NeroLayer(\n",
      "      (base_layer): Linear4bit(in_features=4096, out_features=4096, bias=False)\n",
      "      (lora_A): Linear(in_features=4096, out_features=8, bias=False)\n",
      "      (lora_B): Linear(in_features=8, out_features=4096, bias=False)\n",
      "      (nero_A): Linear(in_features=4096, out_features=8, bias=False)\n",
      "      (nero_B): Linear(in_features=8, out_features=4096, bias=False)\n",
      "    )\n",
      "    (layers__DOT__21__DOT__mlp__DOT__gate_proj): NeroLayer(\n",
      "      (base_layer): Linear4bit(in_features=4096, out_features=14336, bias=False)\n",
      "      (lora_A): Linear(in_features=4096, out_features=8, bias=False)\n",
      "      (lora_B): Linear(in_features=8, out_features=14336, bias=False)\n",
      "      (nero_A): Linear(in_features=14336, out_features=8, bias=False)\n",
      "      (nero_B): Linear(in_features=8, out_features=14336, bias=False)\n",
      "    )\n",
      "    (layers__DOT__21__DOT__mlp__DOT__up_proj): NeroLayer(\n",
      "      (base_layer): Linear4bit(in_features=4096, out_features=14336, bias=False)\n",
      "      (lora_A): Linear(in_features=4096, out_features=8, bias=False)\n",
      "      (lora_B): Linear(in_features=8, out_features=14336, bias=False)\n",
      "      (nero_A): Linear(in_features=14336, out_features=8, bias=False)\n",
      "      (nero_B): Linear(in_features=8, out_features=14336, bias=False)\n",
      "    )\n",
      "    (layers__DOT__21__DOT__mlp__DOT__down_proj): NeroLayer(\n",
      "      (base_layer): Linear4bit(in_features=14336, out_features=4096, bias=False)\n",
      "      (lora_A): Linear(in_features=14336, out_features=8, bias=False)\n",
      "      (lora_B): Linear(in_features=8, out_features=4096, bias=False)\n",
      "      (nero_A): Linear(in_features=4096, out_features=8, bias=False)\n",
      "      (nero_B): Linear(in_features=8, out_features=4096, bias=False)\n",
      "    )\n",
      "    (layers__DOT__22__DOT__self_attn__DOT__q_proj): NeroLayer(\n",
      "      (base_layer): Linear4bit(in_features=4096, out_features=4096, bias=False)\n",
      "      (lora_A): Linear(in_features=4096, out_features=8, bias=False)\n",
      "      (lora_B): Linear(in_features=8, out_features=4096, bias=False)\n",
      "      (nero_A): Linear(in_features=4096, out_features=8, bias=False)\n",
      "      (nero_B): Linear(in_features=8, out_features=4096, bias=False)\n",
      "    )\n",
      "    (layers__DOT__22__DOT__self_attn__DOT__k_proj): NeroLayer(\n",
      "      (base_layer): Linear4bit(in_features=4096, out_features=1024, bias=False)\n",
      "      (lora_A): Linear(in_features=4096, out_features=8, bias=False)\n",
      "      (lora_B): Linear(in_features=8, out_features=1024, bias=False)\n",
      "      (nero_A): Linear(in_features=1024, out_features=8, bias=False)\n",
      "      (nero_B): Linear(in_features=8, out_features=1024, bias=False)\n",
      "    )\n",
      "    (layers__DOT__22__DOT__self_attn__DOT__v_proj): NeroLayer(\n",
      "      (base_layer): Linear4bit(in_features=4096, out_features=1024, bias=False)\n",
      "      (lora_A): Linear(in_features=4096, out_features=8, bias=False)\n",
      "      (lora_B): Linear(in_features=8, out_features=1024, bias=False)\n",
      "      (nero_A): Linear(in_features=1024, out_features=8, bias=False)\n",
      "      (nero_B): Linear(in_features=8, out_features=1024, bias=False)\n",
      "    )\n",
      "    (layers__DOT__22__DOT__self_attn__DOT__o_proj): NeroLayer(\n",
      "      (base_layer): Linear4bit(in_features=4096, out_features=4096, bias=False)\n",
      "      (lora_A): Linear(in_features=4096, out_features=8, bias=False)\n",
      "      (lora_B): Linear(in_features=8, out_features=4096, bias=False)\n",
      "      (nero_A): Linear(in_features=4096, out_features=8, bias=False)\n",
      "      (nero_B): Linear(in_features=8, out_features=4096, bias=False)\n",
      "    )\n",
      "    (layers__DOT__22__DOT__mlp__DOT__gate_proj): NeroLayer(\n",
      "      (base_layer): Linear4bit(in_features=4096, out_features=14336, bias=False)\n",
      "      (lora_A): Linear(in_features=4096, out_features=8, bias=False)\n",
      "      (lora_B): Linear(in_features=8, out_features=14336, bias=False)\n",
      "      (nero_A): Linear(in_features=14336, out_features=8, bias=False)\n",
      "      (nero_B): Linear(in_features=8, out_features=14336, bias=False)\n",
      "    )\n",
      "    (layers__DOT__22__DOT__mlp__DOT__up_proj): NeroLayer(\n",
      "      (base_layer): Linear4bit(in_features=4096, out_features=14336, bias=False)\n",
      "      (lora_A): Linear(in_features=4096, out_features=8, bias=False)\n",
      "      (lora_B): Linear(in_features=8, out_features=14336, bias=False)\n",
      "      (nero_A): Linear(in_features=14336, out_features=8, bias=False)\n",
      "      (nero_B): Linear(in_features=8, out_features=14336, bias=False)\n",
      "    )\n",
      "    (layers__DOT__22__DOT__mlp__DOT__down_proj): NeroLayer(\n",
      "      (base_layer): Linear4bit(in_features=14336, out_features=4096, bias=False)\n",
      "      (lora_A): Linear(in_features=14336, out_features=8, bias=False)\n",
      "      (lora_B): Linear(in_features=8, out_features=4096, bias=False)\n",
      "      (nero_A): Linear(in_features=4096, out_features=8, bias=False)\n",
      "      (nero_B): Linear(in_features=8, out_features=4096, bias=False)\n",
      "    )\n",
      "    (layers__DOT__23__DOT__self_attn__DOT__q_proj): NeroLayer(\n",
      "      (base_layer): Linear4bit(in_features=4096, out_features=4096, bias=False)\n",
      "      (lora_A): Linear(in_features=4096, out_features=8, bias=False)\n",
      "      (lora_B): Linear(in_features=8, out_features=4096, bias=False)\n",
      "      (nero_A): Linear(in_features=4096, out_features=8, bias=False)\n",
      "      (nero_B): Linear(in_features=8, out_features=4096, bias=False)\n",
      "    )\n",
      "    (layers__DOT__23__DOT__self_attn__DOT__k_proj): NeroLayer(\n",
      "      (base_layer): Linear4bit(in_features=4096, out_features=1024, bias=False)\n",
      "      (lora_A): Linear(in_features=4096, out_features=8, bias=False)\n",
      "      (lora_B): Linear(in_features=8, out_features=1024, bias=False)\n",
      "      (nero_A): Linear(in_features=1024, out_features=8, bias=False)\n",
      "      (nero_B): Linear(in_features=8, out_features=1024, bias=False)\n",
      "    )\n",
      "    (layers__DOT__23__DOT__self_attn__DOT__v_proj): NeroLayer(\n",
      "      (base_layer): Linear4bit(in_features=4096, out_features=1024, bias=False)\n",
      "      (lora_A): Linear(in_features=4096, out_features=8, bias=False)\n",
      "      (lora_B): Linear(in_features=8, out_features=1024, bias=False)\n",
      "      (nero_A): Linear(in_features=1024, out_features=8, bias=False)\n",
      "      (nero_B): Linear(in_features=8, out_features=1024, bias=False)\n",
      "    )\n",
      "    (layers__DOT__23__DOT__self_attn__DOT__o_proj): NeroLayer(\n",
      "      (base_layer): Linear4bit(in_features=4096, out_features=4096, bias=False)\n",
      "      (lora_A): Linear(in_features=4096, out_features=8, bias=False)\n",
      "      (lora_B): Linear(in_features=8, out_features=4096, bias=False)\n",
      "      (nero_A): Linear(in_features=4096, out_features=8, bias=False)\n",
      "      (nero_B): Linear(in_features=8, out_features=4096, bias=False)\n",
      "    )\n",
      "    (layers__DOT__23__DOT__mlp__DOT__gate_proj): NeroLayer(\n",
      "      (base_layer): Linear4bit(in_features=4096, out_features=14336, bias=False)\n",
      "      (lora_A): Linear(in_features=4096, out_features=8, bias=False)\n",
      "      (lora_B): Linear(in_features=8, out_features=14336, bias=False)\n",
      "      (nero_A): Linear(in_features=14336, out_features=8, bias=False)\n",
      "      (nero_B): Linear(in_features=8, out_features=14336, bias=False)\n",
      "    )\n",
      "    (layers__DOT__23__DOT__mlp__DOT__up_proj): NeroLayer(\n",
      "      (base_layer): Linear4bit(in_features=4096, out_features=14336, bias=False)\n",
      "      (lora_A): Linear(in_features=4096, out_features=8, bias=False)\n",
      "      (lora_B): Linear(in_features=8, out_features=14336, bias=False)\n",
      "      (nero_A): Linear(in_features=14336, out_features=8, bias=False)\n",
      "      (nero_B): Linear(in_features=8, out_features=14336, bias=False)\n",
      "    )\n",
      "    (layers__DOT__23__DOT__mlp__DOT__down_proj): NeroLayer(\n",
      "      (base_layer): Linear4bit(in_features=14336, out_features=4096, bias=False)\n",
      "      (lora_A): Linear(in_features=14336, out_features=8, bias=False)\n",
      "      (lora_B): Linear(in_features=8, out_features=4096, bias=False)\n",
      "      (nero_A): Linear(in_features=4096, out_features=8, bias=False)\n",
      "      (nero_B): Linear(in_features=8, out_features=4096, bias=False)\n",
      "    )\n",
      "    (layers__DOT__24__DOT__self_attn__DOT__q_proj): NeroLayer(\n",
      "      (base_layer): Linear4bit(in_features=4096, out_features=4096, bias=False)\n",
      "      (lora_A): Linear(in_features=4096, out_features=8, bias=False)\n",
      "      (lora_B): Linear(in_features=8, out_features=4096, bias=False)\n",
      "      (nero_A): Linear(in_features=4096, out_features=8, bias=False)\n",
      "      (nero_B): Linear(in_features=8, out_features=4096, bias=False)\n",
      "    )\n",
      "    (layers__DOT__24__DOT__self_attn__DOT__k_proj): NeroLayer(\n",
      "      (base_layer): Linear4bit(in_features=4096, out_features=1024, bias=False)\n",
      "      (lora_A): Linear(in_features=4096, out_features=8, bias=False)\n",
      "      (lora_B): Linear(in_features=8, out_features=1024, bias=False)\n",
      "      (nero_A): Linear(in_features=1024, out_features=8, bias=False)\n",
      "      (nero_B): Linear(in_features=8, out_features=1024, bias=False)\n",
      "    )\n",
      "    (layers__DOT__24__DOT__self_attn__DOT__v_proj): NeroLayer(\n",
      "      (base_layer): Linear4bit(in_features=4096, out_features=1024, bias=False)\n",
      "      (lora_A): Linear(in_features=4096, out_features=8, bias=False)\n",
      "      (lora_B): Linear(in_features=8, out_features=1024, bias=False)\n",
      "      (nero_A): Linear(in_features=1024, out_features=8, bias=False)\n",
      "      (nero_B): Linear(in_features=8, out_features=1024, bias=False)\n",
      "    )\n",
      "    (layers__DOT__24__DOT__self_attn__DOT__o_proj): NeroLayer(\n",
      "      (base_layer): Linear4bit(in_features=4096, out_features=4096, bias=False)\n",
      "      (lora_A): Linear(in_features=4096, out_features=8, bias=False)\n",
      "      (lora_B): Linear(in_features=8, out_features=4096, bias=False)\n",
      "      (nero_A): Linear(in_features=4096, out_features=8, bias=False)\n",
      "      (nero_B): Linear(in_features=8, out_features=4096, bias=False)\n",
      "    )\n",
      "    (layers__DOT__24__DOT__mlp__DOT__gate_proj): NeroLayer(\n",
      "      (base_layer): Linear4bit(in_features=4096, out_features=14336, bias=False)\n",
      "      (lora_A): Linear(in_features=4096, out_features=8, bias=False)\n",
      "      (lora_B): Linear(in_features=8, out_features=14336, bias=False)\n",
      "      (nero_A): Linear(in_features=14336, out_features=8, bias=False)\n",
      "      (nero_B): Linear(in_features=8, out_features=14336, bias=False)\n",
      "    )\n",
      "    (layers__DOT__24__DOT__mlp__DOT__up_proj): NeroLayer(\n",
      "      (base_layer): Linear4bit(in_features=4096, out_features=14336, bias=False)\n",
      "      (lora_A): Linear(in_features=4096, out_features=8, bias=False)\n",
      "      (lora_B): Linear(in_features=8, out_features=14336, bias=False)\n",
      "      (nero_A): Linear(in_features=14336, out_features=8, bias=False)\n",
      "      (nero_B): Linear(in_features=8, out_features=14336, bias=False)\n",
      "    )\n",
      "    (layers__DOT__24__DOT__mlp__DOT__down_proj): NeroLayer(\n",
      "      (base_layer): Linear4bit(in_features=14336, out_features=4096, bias=False)\n",
      "      (lora_A): Linear(in_features=14336, out_features=8, bias=False)\n",
      "      (lora_B): Linear(in_features=8, out_features=4096, bias=False)\n",
      "      (nero_A): Linear(in_features=4096, out_features=8, bias=False)\n",
      "      (nero_B): Linear(in_features=8, out_features=4096, bias=False)\n",
      "    )\n",
      "    (layers__DOT__25__DOT__self_attn__DOT__q_proj): NeroLayer(\n",
      "      (base_layer): Linear4bit(in_features=4096, out_features=4096, bias=False)\n",
      "      (lora_A): Linear(in_features=4096, out_features=8, bias=False)\n",
      "      (lora_B): Linear(in_features=8, out_features=4096, bias=False)\n",
      "      (nero_A): Linear(in_features=4096, out_features=8, bias=False)\n",
      "      (nero_B): Linear(in_features=8, out_features=4096, bias=False)\n",
      "    )\n",
      "    (layers__DOT__25__DOT__self_attn__DOT__k_proj): NeroLayer(\n",
      "      (base_layer): Linear4bit(in_features=4096, out_features=1024, bias=False)\n",
      "      (lora_A): Linear(in_features=4096, out_features=8, bias=False)\n",
      "      (lora_B): Linear(in_features=8, out_features=1024, bias=False)\n",
      "      (nero_A): Linear(in_features=1024, out_features=8, bias=False)\n",
      "      (nero_B): Linear(in_features=8, out_features=1024, bias=False)\n",
      "    )\n",
      "    (layers__DOT__25__DOT__self_attn__DOT__v_proj): NeroLayer(\n",
      "      (base_layer): Linear4bit(in_features=4096, out_features=1024, bias=False)\n",
      "      (lora_A): Linear(in_features=4096, out_features=8, bias=False)\n",
      "      (lora_B): Linear(in_features=8, out_features=1024, bias=False)\n",
      "      (nero_A): Linear(in_features=1024, out_features=8, bias=False)\n",
      "      (nero_B): Linear(in_features=8, out_features=1024, bias=False)\n",
      "    )\n",
      "    (layers__DOT__25__DOT__self_attn__DOT__o_proj): NeroLayer(\n",
      "      (base_layer): Linear4bit(in_features=4096, out_features=4096, bias=False)\n",
      "      (lora_A): Linear(in_features=4096, out_features=8, bias=False)\n",
      "      (lora_B): Linear(in_features=8, out_features=4096, bias=False)\n",
      "      (nero_A): Linear(in_features=4096, out_features=8, bias=False)\n",
      "      (nero_B): Linear(in_features=8, out_features=4096, bias=False)\n",
      "    )\n",
      "    (layers__DOT__25__DOT__mlp__DOT__gate_proj): NeroLayer(\n",
      "      (base_layer): Linear4bit(in_features=4096, out_features=14336, bias=False)\n",
      "      (lora_A): Linear(in_features=4096, out_features=8, bias=False)\n",
      "      (lora_B): Linear(in_features=8, out_features=14336, bias=False)\n",
      "      (nero_A): Linear(in_features=14336, out_features=8, bias=False)\n",
      "      (nero_B): Linear(in_features=8, out_features=14336, bias=False)\n",
      "    )\n",
      "    (layers__DOT__25__DOT__mlp__DOT__up_proj): NeroLayer(\n",
      "      (base_layer): Linear4bit(in_features=4096, out_features=14336, bias=False)\n",
      "      (lora_A): Linear(in_features=4096, out_features=8, bias=False)\n",
      "      (lora_B): Linear(in_features=8, out_features=14336, bias=False)\n",
      "      (nero_A): Linear(in_features=14336, out_features=8, bias=False)\n",
      "      (nero_B): Linear(in_features=8, out_features=14336, bias=False)\n",
      "    )\n",
      "    (layers__DOT__25__DOT__mlp__DOT__down_proj): NeroLayer(\n",
      "      (base_layer): Linear4bit(in_features=14336, out_features=4096, bias=False)\n",
      "      (lora_A): Linear(in_features=14336, out_features=8, bias=False)\n",
      "      (lora_B): Linear(in_features=8, out_features=4096, bias=False)\n",
      "      (nero_A): Linear(in_features=4096, out_features=8, bias=False)\n",
      "      (nero_B): Linear(in_features=8, out_features=4096, bias=False)\n",
      "    )\n",
      "    (layers__DOT__26__DOT__self_attn__DOT__q_proj): NeroLayer(\n",
      "      (base_layer): Linear4bit(in_features=4096, out_features=4096, bias=False)\n",
      "      (lora_A): Linear(in_features=4096, out_features=8, bias=False)\n",
      "      (lora_B): Linear(in_features=8, out_features=4096, bias=False)\n",
      "      (nero_A): Linear(in_features=4096, out_features=8, bias=False)\n",
      "      (nero_B): Linear(in_features=8, out_features=4096, bias=False)\n",
      "    )\n",
      "    (layers__DOT__26__DOT__self_attn__DOT__k_proj): NeroLayer(\n",
      "      (base_layer): Linear4bit(in_features=4096, out_features=1024, bias=False)\n",
      "      (lora_A): Linear(in_features=4096, out_features=8, bias=False)\n",
      "      (lora_B): Linear(in_features=8, out_features=1024, bias=False)\n",
      "      (nero_A): Linear(in_features=1024, out_features=8, bias=False)\n",
      "      (nero_B): Linear(in_features=8, out_features=1024, bias=False)\n",
      "    )\n",
      "    (layers__DOT__26__DOT__self_attn__DOT__v_proj): NeroLayer(\n",
      "      (base_layer): Linear4bit(in_features=4096, out_features=1024, bias=False)\n",
      "      (lora_A): Linear(in_features=4096, out_features=8, bias=False)\n",
      "      (lora_B): Linear(in_features=8, out_features=1024, bias=False)\n",
      "      (nero_A): Linear(in_features=1024, out_features=8, bias=False)\n",
      "      (nero_B): Linear(in_features=8, out_features=1024, bias=False)\n",
      "    )\n",
      "    (layers__DOT__26__DOT__self_attn__DOT__o_proj): NeroLayer(\n",
      "      (base_layer): Linear4bit(in_features=4096, out_features=4096, bias=False)\n",
      "      (lora_A): Linear(in_features=4096, out_features=8, bias=False)\n",
      "      (lora_B): Linear(in_features=8, out_features=4096, bias=False)\n",
      "      (nero_A): Linear(in_features=4096, out_features=8, bias=False)\n",
      "      (nero_B): Linear(in_features=8, out_features=4096, bias=False)\n",
      "    )\n",
      "    (layers__DOT__26__DOT__mlp__DOT__gate_proj): NeroLayer(\n",
      "      (base_layer): Linear4bit(in_features=4096, out_features=14336, bias=False)\n",
      "      (lora_A): Linear(in_features=4096, out_features=8, bias=False)\n",
      "      (lora_B): Linear(in_features=8, out_features=14336, bias=False)\n",
      "      (nero_A): Linear(in_features=14336, out_features=8, bias=False)\n",
      "      (nero_B): Linear(in_features=8, out_features=14336, bias=False)\n",
      "    )\n",
      "    (layers__DOT__26__DOT__mlp__DOT__up_proj): NeroLayer(\n",
      "      (base_layer): Linear4bit(in_features=4096, out_features=14336, bias=False)\n",
      "      (lora_A): Linear(in_features=4096, out_features=8, bias=False)\n",
      "      (lora_B): Linear(in_features=8, out_features=14336, bias=False)\n",
      "      (nero_A): Linear(in_features=14336, out_features=8, bias=False)\n",
      "      (nero_B): Linear(in_features=8, out_features=14336, bias=False)\n",
      "    )\n",
      "    (layers__DOT__26__DOT__mlp__DOT__down_proj): NeroLayer(\n",
      "      (base_layer): Linear4bit(in_features=14336, out_features=4096, bias=False)\n",
      "      (lora_A): Linear(in_features=14336, out_features=8, bias=False)\n",
      "      (lora_B): Linear(in_features=8, out_features=4096, bias=False)\n",
      "      (nero_A): Linear(in_features=4096, out_features=8, bias=False)\n",
      "      (nero_B): Linear(in_features=8, out_features=4096, bias=False)\n",
      "    )\n",
      "    (layers__DOT__27__DOT__self_attn__DOT__q_proj): NeroLayer(\n",
      "      (base_layer): Linear4bit(in_features=4096, out_features=4096, bias=False)\n",
      "      (lora_A): Linear(in_features=4096, out_features=8, bias=False)\n",
      "      (lora_B): Linear(in_features=8, out_features=4096, bias=False)\n",
      "      (nero_A): Linear(in_features=4096, out_features=8, bias=False)\n",
      "      (nero_B): Linear(in_features=8, out_features=4096, bias=False)\n",
      "    )\n",
      "    (layers__DOT__27__DOT__self_attn__DOT__k_proj): NeroLayer(\n",
      "      (base_layer): Linear4bit(in_features=4096, out_features=1024, bias=False)\n",
      "      (lora_A): Linear(in_features=4096, out_features=8, bias=False)\n",
      "      (lora_B): Linear(in_features=8, out_features=1024, bias=False)\n",
      "      (nero_A): Linear(in_features=1024, out_features=8, bias=False)\n",
      "      (nero_B): Linear(in_features=8, out_features=1024, bias=False)\n",
      "    )\n",
      "    (layers__DOT__27__DOT__self_attn__DOT__v_proj): NeroLayer(\n",
      "      (base_layer): Linear4bit(in_features=4096, out_features=1024, bias=False)\n",
      "      (lora_A): Linear(in_features=4096, out_features=8, bias=False)\n",
      "      (lora_B): Linear(in_features=8, out_features=1024, bias=False)\n",
      "      (nero_A): Linear(in_features=1024, out_features=8, bias=False)\n",
      "      (nero_B): Linear(in_features=8, out_features=1024, bias=False)\n",
      "    )\n",
      "    (layers__DOT__27__DOT__self_attn__DOT__o_proj): NeroLayer(\n",
      "      (base_layer): Linear4bit(in_features=4096, out_features=4096, bias=False)\n",
      "      (lora_A): Linear(in_features=4096, out_features=8, bias=False)\n",
      "      (lora_B): Linear(in_features=8, out_features=4096, bias=False)\n",
      "      (nero_A): Linear(in_features=4096, out_features=8, bias=False)\n",
      "      (nero_B): Linear(in_features=8, out_features=4096, bias=False)\n",
      "    )\n",
      "    (layers__DOT__27__DOT__mlp__DOT__gate_proj): NeroLayer(\n",
      "      (base_layer): Linear4bit(in_features=4096, out_features=14336, bias=False)\n",
      "      (lora_A): Linear(in_features=4096, out_features=8, bias=False)\n",
      "      (lora_B): Linear(in_features=8, out_features=14336, bias=False)\n",
      "      (nero_A): Linear(in_features=14336, out_features=8, bias=False)\n",
      "      (nero_B): Linear(in_features=8, out_features=14336, bias=False)\n",
      "    )\n",
      "    (layers__DOT__27__DOT__mlp__DOT__up_proj): NeroLayer(\n",
      "      (base_layer): Linear4bit(in_features=4096, out_features=14336, bias=False)\n",
      "      (lora_A): Linear(in_features=4096, out_features=8, bias=False)\n",
      "      (lora_B): Linear(in_features=8, out_features=14336, bias=False)\n",
      "      (nero_A): Linear(in_features=14336, out_features=8, bias=False)\n",
      "      (nero_B): Linear(in_features=8, out_features=14336, bias=False)\n",
      "    )\n",
      "    (layers__DOT__27__DOT__mlp__DOT__down_proj): NeroLayer(\n",
      "      (base_layer): Linear4bit(in_features=14336, out_features=4096, bias=False)\n",
      "      (lora_A): Linear(in_features=14336, out_features=8, bias=False)\n",
      "      (lora_B): Linear(in_features=8, out_features=4096, bias=False)\n",
      "      (nero_A): Linear(in_features=4096, out_features=8, bias=False)\n",
      "      (nero_B): Linear(in_features=8, out_features=4096, bias=False)\n",
      "    )\n",
      "    (layers__DOT__28__DOT__self_attn__DOT__q_proj): NeroLayer(\n",
      "      (base_layer): Linear4bit(in_features=4096, out_features=4096, bias=False)\n",
      "      (lora_A): Linear(in_features=4096, out_features=8, bias=False)\n",
      "      (lora_B): Linear(in_features=8, out_features=4096, bias=False)\n",
      "      (nero_A): Linear(in_features=4096, out_features=8, bias=False)\n",
      "      (nero_B): Linear(in_features=8, out_features=4096, bias=False)\n",
      "    )\n",
      "    (layers__DOT__28__DOT__self_attn__DOT__k_proj): NeroLayer(\n",
      "      (base_layer): Linear4bit(in_features=4096, out_features=1024, bias=False)\n",
      "      (lora_A): Linear(in_features=4096, out_features=8, bias=False)\n",
      "      (lora_B): Linear(in_features=8, out_features=1024, bias=False)\n",
      "      (nero_A): Linear(in_features=1024, out_features=8, bias=False)\n",
      "      (nero_B): Linear(in_features=8, out_features=1024, bias=False)\n",
      "    )\n",
      "    (layers__DOT__28__DOT__self_attn__DOT__v_proj): NeroLayer(\n",
      "      (base_layer): Linear4bit(in_features=4096, out_features=1024, bias=False)\n",
      "      (lora_A): Linear(in_features=4096, out_features=8, bias=False)\n",
      "      (lora_B): Linear(in_features=8, out_features=1024, bias=False)\n",
      "      (nero_A): Linear(in_features=1024, out_features=8, bias=False)\n",
      "      (nero_B): Linear(in_features=8, out_features=1024, bias=False)\n",
      "    )\n",
      "    (layers__DOT__28__DOT__self_attn__DOT__o_proj): NeroLayer(\n",
      "      (base_layer): Linear4bit(in_features=4096, out_features=4096, bias=False)\n",
      "      (lora_A): Linear(in_features=4096, out_features=8, bias=False)\n",
      "      (lora_B): Linear(in_features=8, out_features=4096, bias=False)\n",
      "      (nero_A): Linear(in_features=4096, out_features=8, bias=False)\n",
      "      (nero_B): Linear(in_features=8, out_features=4096, bias=False)\n",
      "    )\n",
      "    (layers__DOT__28__DOT__mlp__DOT__gate_proj): NeroLayer(\n",
      "      (base_layer): Linear4bit(in_features=4096, out_features=14336, bias=False)\n",
      "      (lora_A): Linear(in_features=4096, out_features=8, bias=False)\n",
      "      (lora_B): Linear(in_features=8, out_features=14336, bias=False)\n",
      "      (nero_A): Linear(in_features=14336, out_features=8, bias=False)\n",
      "      (nero_B): Linear(in_features=8, out_features=14336, bias=False)\n",
      "    )\n",
      "    (layers__DOT__28__DOT__mlp__DOT__up_proj): NeroLayer(\n",
      "      (base_layer): Linear4bit(in_features=4096, out_features=14336, bias=False)\n",
      "      (lora_A): Linear(in_features=4096, out_features=8, bias=False)\n",
      "      (lora_B): Linear(in_features=8, out_features=14336, bias=False)\n",
      "      (nero_A): Linear(in_features=14336, out_features=8, bias=False)\n",
      "      (nero_B): Linear(in_features=8, out_features=14336, bias=False)\n",
      "    )\n",
      "    (layers__DOT__28__DOT__mlp__DOT__down_proj): NeroLayer(\n",
      "      (base_layer): Linear4bit(in_features=14336, out_features=4096, bias=False)\n",
      "      (lora_A): Linear(in_features=14336, out_features=8, bias=False)\n",
      "      (lora_B): Linear(in_features=8, out_features=4096, bias=False)\n",
      "      (nero_A): Linear(in_features=4096, out_features=8, bias=False)\n",
      "      (nero_B): Linear(in_features=8, out_features=4096, bias=False)\n",
      "    )\n",
      "    (layers__DOT__29__DOT__self_attn__DOT__q_proj): NeroLayer(\n",
      "      (base_layer): Linear4bit(in_features=4096, out_features=4096, bias=False)\n",
      "      (lora_A): Linear(in_features=4096, out_features=8, bias=False)\n",
      "      (lora_B): Linear(in_features=8, out_features=4096, bias=False)\n",
      "      (nero_A): Linear(in_features=4096, out_features=8, bias=False)\n",
      "      (nero_B): Linear(in_features=8, out_features=4096, bias=False)\n",
      "    )\n",
      "    (layers__DOT__29__DOT__self_attn__DOT__k_proj): NeroLayer(\n",
      "      (base_layer): Linear4bit(in_features=4096, out_features=1024, bias=False)\n",
      "      (lora_A): Linear(in_features=4096, out_features=8, bias=False)\n",
      "      (lora_B): Linear(in_features=8, out_features=1024, bias=False)\n",
      "      (nero_A): Linear(in_features=1024, out_features=8, bias=False)\n",
      "      (nero_B): Linear(in_features=8, out_features=1024, bias=False)\n",
      "    )\n",
      "    (layers__DOT__29__DOT__self_attn__DOT__v_proj): NeroLayer(\n",
      "      (base_layer): Linear4bit(in_features=4096, out_features=1024, bias=False)\n",
      "      (lora_A): Linear(in_features=4096, out_features=8, bias=False)\n",
      "      (lora_B): Linear(in_features=8, out_features=1024, bias=False)\n",
      "      (nero_A): Linear(in_features=1024, out_features=8, bias=False)\n",
      "      (nero_B): Linear(in_features=8, out_features=1024, bias=False)\n",
      "    )\n",
      "    (layers__DOT__29__DOT__self_attn__DOT__o_proj): NeroLayer(\n",
      "      (base_layer): Linear4bit(in_features=4096, out_features=4096, bias=False)\n",
      "      (lora_A): Linear(in_features=4096, out_features=8, bias=False)\n",
      "      (lora_B): Linear(in_features=8, out_features=4096, bias=False)\n",
      "      (nero_A): Linear(in_features=4096, out_features=8, bias=False)\n",
      "      (nero_B): Linear(in_features=8, out_features=4096, bias=False)\n",
      "    )\n",
      "    (layers__DOT__29__DOT__mlp__DOT__gate_proj): NeroLayer(\n",
      "      (base_layer): Linear4bit(in_features=4096, out_features=14336, bias=False)\n",
      "      (lora_A): Linear(in_features=4096, out_features=8, bias=False)\n",
      "      (lora_B): Linear(in_features=8, out_features=14336, bias=False)\n",
      "      (nero_A): Linear(in_features=14336, out_features=8, bias=False)\n",
      "      (nero_B): Linear(in_features=8, out_features=14336, bias=False)\n",
      "    )\n",
      "    (layers__DOT__29__DOT__mlp__DOT__up_proj): NeroLayer(\n",
      "      (base_layer): Linear4bit(in_features=4096, out_features=14336, bias=False)\n",
      "      (lora_A): Linear(in_features=4096, out_features=8, bias=False)\n",
      "      (lora_B): Linear(in_features=8, out_features=14336, bias=False)\n",
      "      (nero_A): Linear(in_features=14336, out_features=8, bias=False)\n",
      "      (nero_B): Linear(in_features=8, out_features=14336, bias=False)\n",
      "    )\n",
      "    (layers__DOT__29__DOT__mlp__DOT__down_proj): NeroLayer(\n",
      "      (base_layer): Linear4bit(in_features=14336, out_features=4096, bias=False)\n",
      "      (lora_A): Linear(in_features=14336, out_features=8, bias=False)\n",
      "      (lora_B): Linear(in_features=8, out_features=4096, bias=False)\n",
      "      (nero_A): Linear(in_features=4096, out_features=8, bias=False)\n",
      "      (nero_B): Linear(in_features=8, out_features=4096, bias=False)\n",
      "    )\n",
      "    (layers__DOT__30__DOT__self_attn__DOT__q_proj): NeroLayer(\n",
      "      (base_layer): Linear4bit(in_features=4096, out_features=4096, bias=False)\n",
      "      (lora_A): Linear(in_features=4096, out_features=8, bias=False)\n",
      "      (lora_B): Linear(in_features=8, out_features=4096, bias=False)\n",
      "      (nero_A): Linear(in_features=4096, out_features=8, bias=False)\n",
      "      (nero_B): Linear(in_features=8, out_features=4096, bias=False)\n",
      "    )\n",
      "    (layers__DOT__30__DOT__self_attn__DOT__k_proj): NeroLayer(\n",
      "      (base_layer): Linear4bit(in_features=4096, out_features=1024, bias=False)\n",
      "      (lora_A): Linear(in_features=4096, out_features=8, bias=False)\n",
      "      (lora_B): Linear(in_features=8, out_features=1024, bias=False)\n",
      "      (nero_A): Linear(in_features=1024, out_features=8, bias=False)\n",
      "      (nero_B): Linear(in_features=8, out_features=1024, bias=False)\n",
      "    )\n",
      "    (layers__DOT__30__DOT__self_attn__DOT__v_proj): NeroLayer(\n",
      "      (base_layer): Linear4bit(in_features=4096, out_features=1024, bias=False)\n",
      "      (lora_A): Linear(in_features=4096, out_features=8, bias=False)\n",
      "      (lora_B): Linear(in_features=8, out_features=1024, bias=False)\n",
      "      (nero_A): Linear(in_features=1024, out_features=8, bias=False)\n",
      "      (nero_B): Linear(in_features=8, out_features=1024, bias=False)\n",
      "    )\n",
      "    (layers__DOT__30__DOT__self_attn__DOT__o_proj): NeroLayer(\n",
      "      (base_layer): Linear4bit(in_features=4096, out_features=4096, bias=False)\n",
      "      (lora_A): Linear(in_features=4096, out_features=8, bias=False)\n",
      "      (lora_B): Linear(in_features=8, out_features=4096, bias=False)\n",
      "      (nero_A): Linear(in_features=4096, out_features=8, bias=False)\n",
      "      (nero_B): Linear(in_features=8, out_features=4096, bias=False)\n",
      "    )\n",
      "    (layers__DOT__30__DOT__mlp__DOT__gate_proj): NeroLayer(\n",
      "      (base_layer): Linear4bit(in_features=4096, out_features=14336, bias=False)\n",
      "      (lora_A): Linear(in_features=4096, out_features=8, bias=False)\n",
      "      (lora_B): Linear(in_features=8, out_features=14336, bias=False)\n",
      "      (nero_A): Linear(in_features=14336, out_features=8, bias=False)\n",
      "      (nero_B): Linear(in_features=8, out_features=14336, bias=False)\n",
      "    )\n",
      "    (layers__DOT__30__DOT__mlp__DOT__up_proj): NeroLayer(\n",
      "      (base_layer): Linear4bit(in_features=4096, out_features=14336, bias=False)\n",
      "      (lora_A): Linear(in_features=4096, out_features=8, bias=False)\n",
      "      (lora_B): Linear(in_features=8, out_features=14336, bias=False)\n",
      "      (nero_A): Linear(in_features=14336, out_features=8, bias=False)\n",
      "      (nero_B): Linear(in_features=8, out_features=14336, bias=False)\n",
      "    )\n",
      "    (layers__DOT__30__DOT__mlp__DOT__down_proj): NeroLayer(\n",
      "      (base_layer): Linear4bit(in_features=14336, out_features=4096, bias=False)\n",
      "      (lora_A): Linear(in_features=14336, out_features=8, bias=False)\n",
      "      (lora_B): Linear(in_features=8, out_features=4096, bias=False)\n",
      "      (nero_A): Linear(in_features=4096, out_features=8, bias=False)\n",
      "      (nero_B): Linear(in_features=8, out_features=4096, bias=False)\n",
      "    )\n",
      "    (layers__DOT__31__DOT__self_attn__DOT__q_proj): NeroLayer(\n",
      "      (base_layer): Linear4bit(in_features=4096, out_features=4096, bias=False)\n",
      "      (lora_A): Linear(in_features=4096, out_features=8, bias=False)\n",
      "      (lora_B): Linear(in_features=8, out_features=4096, bias=False)\n",
      "      (nero_A): Linear(in_features=4096, out_features=8, bias=False)\n",
      "      (nero_B): Linear(in_features=8, out_features=4096, bias=False)\n",
      "    )\n",
      "    (layers__DOT__31__DOT__self_attn__DOT__k_proj): NeroLayer(\n",
      "      (base_layer): Linear4bit(in_features=4096, out_features=1024, bias=False)\n",
      "      (lora_A): Linear(in_features=4096, out_features=8, bias=False)\n",
      "      (lora_B): Linear(in_features=8, out_features=1024, bias=False)\n",
      "      (nero_A): Linear(in_features=1024, out_features=8, bias=False)\n",
      "      (nero_B): Linear(in_features=8, out_features=1024, bias=False)\n",
      "    )\n",
      "    (layers__DOT__31__DOT__self_attn__DOT__v_proj): NeroLayer(\n",
      "      (base_layer): Linear4bit(in_features=4096, out_features=1024, bias=False)\n",
      "      (lora_A): Linear(in_features=4096, out_features=8, bias=False)\n",
      "      (lora_B): Linear(in_features=8, out_features=1024, bias=False)\n",
      "      (nero_A): Linear(in_features=1024, out_features=8, bias=False)\n",
      "      (nero_B): Linear(in_features=8, out_features=1024, bias=False)\n",
      "    )\n",
      "    (layers__DOT__31__DOT__self_attn__DOT__o_proj): NeroLayer(\n",
      "      (base_layer): Linear4bit(in_features=4096, out_features=4096, bias=False)\n",
      "      (lora_A): Linear(in_features=4096, out_features=8, bias=False)\n",
      "      (lora_B): Linear(in_features=8, out_features=4096, bias=False)\n",
      "      (nero_A): Linear(in_features=4096, out_features=8, bias=False)\n",
      "      (nero_B): Linear(in_features=8, out_features=4096, bias=False)\n",
      "    )\n",
      "    (layers__DOT__31__DOT__mlp__DOT__gate_proj): NeroLayer(\n",
      "      (base_layer): Linear4bit(in_features=4096, out_features=14336, bias=False)\n",
      "      (lora_A): Linear(in_features=4096, out_features=8, bias=False)\n",
      "      (lora_B): Linear(in_features=8, out_features=14336, bias=False)\n",
      "      (nero_A): Linear(in_features=14336, out_features=8, bias=False)\n",
      "      (nero_B): Linear(in_features=8, out_features=14336, bias=False)\n",
      "    )\n",
      "    (layers__DOT__31__DOT__mlp__DOT__up_proj): NeroLayer(\n",
      "      (base_layer): Linear4bit(in_features=4096, out_features=14336, bias=False)\n",
      "      (lora_A): Linear(in_features=4096, out_features=8, bias=False)\n",
      "      (lora_B): Linear(in_features=8, out_features=14336, bias=False)\n",
      "      (nero_A): Linear(in_features=14336, out_features=8, bias=False)\n",
      "      (nero_B): Linear(in_features=8, out_features=14336, bias=False)\n",
      "    )\n",
      "    (layers__DOT__31__DOT__mlp__DOT__down_proj): NeroLayer(\n",
      "      (base_layer): Linear4bit(in_features=14336, out_features=4096, bias=False)\n",
      "      (lora_A): Linear(in_features=14336, out_features=8, bias=False)\n",
      "      (lora_B): Linear(in_features=8, out_features=4096, bias=False)\n",
      "      (nero_A): Linear(in_features=4096, out_features=8, bias=False)\n",
      "      (nero_B): Linear(in_features=8, out_features=4096, bias=False)\n",
      "    )\n",
      "  )\n",
      ")\n"
     ]
    }
   ],
   "source": [
    "# class LoraLayer(torch.nn.Module):\n",
    "#     def __init__(self, base_layer, rank, alpha):\n",
    "#         super().__init__()\n",
    "#         self.base_layer = base_layer\n",
    "#         self.rank = rank\n",
    "#         self.alpha = alpha\n",
    "\n",
    "#         in_features = getattr(base_layer, 'in_features', None)\n",
    "#         out_features = getattr(base_layer, 'out_features', None)\n",
    "\n",
    "#         if in_features is None or out_features is None:\n",
    "#             raise ValueError(f\"Cannot determine in_features or out_features from {base_layer}\")\n",
    "        \n",
    "#         self.lora_A = torch.nn.Parameter(torch.randn(rank, in_features) * 0.01)\n",
    "#         self.lora_B = torch.nn.Parameter(torch.randn(out_features, rank) * 0.01)\n",
    "        \n",
    "#         # Scaling factor\n",
    "#         self.scaling = alpha / rank\n",
    "\n",
    "#     def forward(self, x):\n",
    "#         return self.base_layer(x) + (self.lora_B @ (self.lora_A @ x)) * self.scaling\n",
    "\n",
    "#     def load_weights(self, state_dict, prefix):\n",
    "#         self.lora_A.data = state_dict[f'{prefix}.lora_A.weight']\n",
    "#         self.lora_B.data = state_dict[f'{prefix}.lora_B.weight']\n",
    "\n",
    "class NeroLayer(torch.nn.Module):\n",
    "    # TODO: Implement bias parameters\n",
    "    def __init__(self, base_layer, rank, alpha):\n",
    "        super().__init__()\n",
    "        self.base_layer = base_layer\n",
    "        self.alpha = alpha\n",
    "\n",
    "        in_features = getattr(base_layer, 'in_features', None)\n",
    "        out_features = getattr(base_layer, 'out_features', None)\n",
    "\n",
    "        if in_features is None or out_features is None:\n",
    "            raise ValueError(f\"Cannot determine in_features or out_features from {base_layer}\")\n",
    "        \n",
    "        # LoRA decomposition: A (down-projection) and B (up-projection)\n",
    "        self.lora_A = torch.nn.Linear(in_features, rank, bias=False)  # Projects down\n",
    "        self.lora_B = torch.nn.Linear(rank, out_features, bias=False) # Projects up\n",
    "\n",
    "        # Initialize LoRA's A and B (LoRA standard: A ~ N(0, 1/rank), B ~ 0)\n",
    "        std_dev = 1 / torch.sqrt(torch.tensor(rank).float())\n",
    "        torch.nn.init.normal_(self.lora_A.weight, mean=0.0, std=std_dev)\n",
    "        torch.nn.init.zeros_(self.lora_B.weight)\n",
    "\n",
    "        # LoRA decomposition for Nero\n",
    "        self.nero_A = torch.nn.Linear(out_features, rank, bias=False)\n",
    "        self.nero_B = torch.nn.Linear(rank, out_features, bias=False)\n",
    "\n",
    "        # Initialize Nero's A and B\n",
    "        torch.nn.init.normal_(self.nero_A.weight, mean=0.0, std=std_dev)\n",
    "        torch.nn.init.zeros_(self.nero_B.weight)\n",
    "        \n",
    "    def forward(self, x):\n",
    "        # Base layer\n",
    "        base_out = self.base_layer(x); print(f'{base_out.shape=}')\n",
    "\n",
    "        # LoRA\n",
    "        lora_A_out = self.lora_A(x); print(f'{lora_A_out.shape=}')\n",
    "        lora_B_out = self.lora_B(lora_A_out); print(f'{lora_B_out.shape=}')\n",
    "        lora_out = self.alpha * lora_B_out; print(f'{lora_out.shape=}')\n",
    "\n",
    "        # Nero\n",
    "        nero_A_out = self.nero_A(lora_out); print(f'{nero_A_out.shape=}')\n",
    "        nero_B_out = self.nero_B(nero_A_out); print(f'{nero_B_out.shape=}')\n",
    "        nero_out = self.alpha * nero_B_out; print(f'{nero_out.shape=}')\n",
    "        \n",
    "        return base_out + nero_out\n",
    "\n",
    "    def load_lora_weights(self, state_dict, prefix):\n",
    "        self.lora_A.weight.data = state_dict[f'{prefix}.lora_A.weight']\n",
    "        self.lora_B.weight.data = state_dict[f'{prefix}.lora_B.weight']\n",
    "    \n",
    "class NeroModel(torch.nn.Module):\n",
    "    def __init__(self, base_model: torch.nn.Module, config: LoraConfig):\n",
    "        super().__init__()\n",
    "        self.base_model = base_model\n",
    "        self.nero_layers = torch.nn.ModuleDict() # Use _ prefix to hide the modules when printing the model\n",
    "\n",
    "        # Wrap target layers with LoRA layers\n",
    "        for module_name, module in self.base_model.named_modules():\n",
    "            # Skip module if it is already a LoRA layer\n",
    "            if isinstance(module, NeroLayer):\n",
    "                # Store LoRA layers for weights loading\n",
    "                module_name = module_name.rsplit('model.', 1)[-1]\n",
    "                module_name = module_name.replace('.', '__DOT__')\n",
    "                self.nero_layers[module_name] = module\n",
    "                # print(f\"Skipping {module_name} as it is already a LoRA layer\")\n",
    "                continue\n",
    "\n",
    "            if any(module_name.endswith(target_module) for target_module in config.target_modules) and isinstance(module, torch.nn.Linear):    \n",
    "                # Wrap target layer with LoRA layer\n",
    "                parent_module, child_name = self._get_parent_module(module_name)\n",
    "                lora_layer = NeroLayer(module, config.r, config.lora_alpha)\n",
    "                setattr(parent_module, child_name, lora_layer)\n",
    "\n",
    "                # Store LoRA layers for weights loading\n",
    "                module_name = module_name.rsplit('model.', 1)[-1]\n",
    "                module_name = module_name.replace('.', '__DOT__')\n",
    "                self.nero_layers[module_name] = lora_layer\n",
    "    \n",
    "    def _get_parent_module(self, module_name):\n",
    "        parts = module_name.split('.')\n",
    "        parent_module = self.base_model\n",
    "        for part in parts[:-1]:\n",
    "            parent_module = getattr(parent_module, part)\n",
    "        return parent_module, parts[-1]\n",
    "\n",
    "    def forward(self, input_ids, attention_mask=None):\n",
    "        return self.base_model(input_ids, attention_mask=attention_mask)\n",
    "\n",
    "    def load_lora_weights(self, lora_path):\n",
    "        state_dict = load_file(lora_path)\n",
    "        prefix = list(state_dict.keys())[0].rsplit('model.', 1)[0] + 'model.'\n",
    "        for nero_layer_name, nero_layer in self.nero_layers.items():\n",
    "            nero_layer_name = nero_layer_name.replace('__DOT__', '.')\n",
    "            nero_layer_name = prefix + nero_layer_name\n",
    "            if f'{nero_layer_name}.lora_A.weight' in state_dict and f'{nero_layer_name}.lora_B.weight' in state_dict:\n",
    "                nero_layer.load_lora_weights(state_dict, nero_layer_name)\n",
    "                # print(f\"Loaded LoRA weights for {nero_layer_name}\")\n",
    "        print(\"LoRA weights loaded successfully!\")\n",
    "\n",
    "nero_model = NeroModel(model, config)\n",
    "print(nero_model)"
   ]
  },
  {
   "cell_type": "code",
   "execution_count": 9,
   "metadata": {},
   "outputs": [
    {
     "name": "stdout",
     "output_type": "stream",
     "text": [
      "Check LoRA parameters:\n",
      "Name: base_model.model.layers.0.self_attn.q_proj.lora_A.weight\n",
      "Mean: 0.0003200761857442558\n"
     ]
    }
   ],
   "source": [
    "@torch.no_grad()\n",
    "def check_lora_parameters(model):\n",
    "    print(\"Check LoRA parameters:\")\n",
    "    for module_name, module in model.named_parameters():\n",
    "        if 'lora' in module_name:\n",
    "            print(\"Name:\", module_name)\n",
    "            print(\"Mean:\", module.mean().item())\n",
    "            break\n",
    "\n",
    "check_lora_parameters(nero_model)"
   ]
  },
  {
   "cell_type": "code",
   "execution_count": 10,
   "metadata": {},
   "outputs": [
    {
     "name": "stdout",
     "output_type": "stream",
     "text": [
      "LoRA weights loaded successfully!\n"
     ]
    }
   ],
   "source": [
    "lora_path = os.path.join(lora_dir, 'adapter_model.safetensors')\n",
    "nero_model.load_lora_weights(lora_path)"
   ]
  },
  {
   "cell_type": "code",
   "execution_count": 12,
   "metadata": {},
   "outputs": [
    {
     "name": "stdout",
     "output_type": "stream",
     "text": [
      "Check LoRA parameters:\n",
      "Name: base_model.model.layers.0.self_attn.q_proj.lora_A.weight\n",
      "Mean: 4.938062556902878e-05\n"
     ]
    }
   ],
   "source": [
    "check_lora_parameters(nero_model)"
   ]
  }
 ],
 "metadata": {
  "kernelspec": {
   "display_name": "Python 3 (ipykernel)",
   "language": "python",
   "name": "python3"
  },
  "language_info": {
   "codemirror_mode": {
    "name": "ipython",
    "version": 3
   },
   "file_extension": ".py",
   "mimetype": "text/x-python",
   "name": "python",
   "nbconvert_exporter": "python",
   "pygments_lexer": "ipython3",
   "version": "3.11.11"
  }
 },
 "nbformat": 4,
 "nbformat_minor": 2
}
