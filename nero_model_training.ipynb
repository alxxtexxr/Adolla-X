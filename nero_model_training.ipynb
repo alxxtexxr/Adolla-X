{
 "cells": [
  {
   "cell_type": "code",
   "execution_count": 1,
   "metadata": {},
   "outputs": [],
   "source": [
    "# Kill all processess on GPU\n",
    "!fuser -v /dev/nvidia* -k"
   ]
  },
  {
   "cell_type": "markdown",
   "metadata": {},
   "source": [
    "# Libraries"
   ]
  },
  {
   "cell_type": "code",
   "execution_count": 2,
   "metadata": {},
   "outputs": [],
   "source": [
    "%%capture\n",
    "import os\n",
    "if \"COLAB_\" not in \"\".join(os.environ.keys()):\n",
    "    %pip install unsloth\n",
    "else:\n",
    "    # Do this only in Colab notebooks! Otherwise use pip install unsloth\n",
    "    %pip install --no-deps bitsandbytes accelerate xformers==0.0.29.post3 peft trl triton cut_cross_entropy unsloth_zoo\n",
    "    %pip install sentencepiece protobuf \"datasets>=3.4.1,<4.0.0\" \"huggingface_hub>=0.34.0\" hf_transfer\n",
    "    %pip install --no-deps unsloth\n",
    "%pip install trl==0.19.1 # Fix error: ImportError: cannot import name 'ConstantLengthDataset' from 'trl.trainer.utils'"
   ]
  },
  {
   "cell_type": "code",
   "execution_count": 3,
   "metadata": {},
   "outputs": [
    {
     "name": "stdout",
     "output_type": "stream",
     "text": [
      "🦥 Unsloth: Will patch your computer to enable 2x faster free finetuning.\n",
      "🦥 Unsloth Zoo will now patch everything to make training faster!\n"
     ]
    }
   ],
   "source": [
    "from unsloth import FastLanguageModel\n",
    "import os\n",
    "import functools\n",
    "import gc\n",
    "import math\n",
    "import torch\n",
    "import torch.nn as nn\n",
    "import torch.nn.functional as F\n",
    "from torch.utils.data import DataLoader\n",
    "from datasets import load_dataset\n",
    "from transformers import default_data_collator, AutoModelForCausalLM, AutoTokenizer\n",
    "from peft import LoraConfig\n",
    "from huggingface_hub import snapshot_download\n",
    "from safetensors.torch import load_file\n",
    "from pprint import pprint"
   ]
  },
  {
   "cell_type": "code",
   "execution_count": 4,
   "metadata": {},
   "outputs": [],
   "source": [
    "def download_hf_model(repo_id, checkpoint):\n",
    "    local_dir = repo_id.split('/')[-1]\n",
    "    ignore_checkpoints = [f'checkpoint-{i}/*' for i in range(0, 2000, 25) if i != checkpoint]\n",
    "\n",
    "    snapshot_download(\n",
    "        repo_id=repo_id,\n",
    "        local_dir=local_dir,\n",
    "        ignore_patterns=ignore_checkpoints,\n",
    "    )\n",
    "\n",
    "    if checkpoint:\n",
    "        return os.path.join(local_dir, f'checkpoint-{checkpoint}')\n",
    "    return local_dir\n",
    "\n",
    "@torch.no_grad()\n",
    "def check_lora_parameters(model):\n",
    "    for n, p in model.named_parameters():\n",
    "        if 'lora' in n:\n",
    "            print(f\"- {'Name':<8}:\", n)\n",
    "            print(f\"- {'Mean':<8}:\", p.mean().item())\n",
    "            print(f\"- {'Min':<8}:\", p.min().item())\n",
    "            print(f\"- {'Max':<8}:\", p.max().item())\n",
    "            break\n",
    "\n",
    "@torch.no_grad()\n",
    "def generate_text(model, tokenizer, prompt, max_new_tokens=50, skip_special_tokens=True):\n",
    "    device = next(model.parameters()).device\n",
    "    inputs = tokenizer(prompt, return_tensors='pt')\n",
    "    outputs = model.generate(input_ids=inputs['input_ids'].to(device), max_new_tokens=max_new_tokens)\n",
    "    print(tokenizer.batch_decode(outputs.detach().cpu().numpy(), skip_special_tokens=skip_special_tokens)[0])\n",
    "\n",
    "def load_hf_dataset_from_lora(\n",
    "    lora_repo_id,\n",
    "    train_size = 5000,\n",
    "    test_size = 1000,\n",
    "):\n",
    "    # Get task and language\n",
    "    task, lang, _ = lora_repo_id.split('B-')[-1].split('K-')[0].split('-')\n",
    "\n",
    "    # Set up Hugging Face configuration\n",
    "    data_id_map = {\n",
    "        'wikipedia': 'wikimedia/wikipedia',\n",
    "        'gsm8k': 'openai/gsm8k',\n",
    "    }\n",
    "    data_id = data_id_map[task]\n",
    "    data_dir = f'20231101.{lang}' if task == 'wikipedia' else 'main'\n",
    "    split = f'train[:{(train_size+test_size)}]'\n",
    "\n",
    "    # Load dataset\n",
    "    dataset = load_dataset(data_id, data_dir=data_dir, split=split) # TODO: Limit dataset size first\n",
    "    return dataset"
   ]
  },
  {
   "cell_type": "markdown",
   "metadata": {},
   "source": [
    "# Config"
   ]
  },
  {
   "cell_type": "code",
   "execution_count": 5,
   "metadata": {},
   "outputs": [
    {
     "name": "stdout",
     "output_type": "stream",
     "text": [
      "Model configurations:\n",
      "- L1T1:\n",
      "  - hf_lora_id: alxxtexxr/L3.1-8B-wikipedia-en-5K-LoRA-v20250630122650\n",
      "  - checkpoint: 650\n",
      "  - lora_dir  : L3.1-8B-wikipedia-en-5K-LoRA-v20250630122650/checkpoint-650\n",
      "  - lora_path : L3.1-8B-wikipedia-en-5K-LoRA-v20250630122650/checkpoint-650/adapter_model.safetensors\n",
      "- L2T1:\n",
      "  - hf_lora_id: alxxtexxr/L3.1-8B-wikipedia-ja-5K-LoRA-v20250728141629\n",
      "  - checkpoint: 650\n",
      "  - lora_dir  : L3.1-8B-wikipedia-ja-5K-LoRA-v20250728141629/checkpoint-650\n",
      "  - lora_path : L3.1-8B-wikipedia-ja-5K-LoRA-v20250728141629/checkpoint-650/adapter_model.safetensors\n",
      "\n",
      "Base model name: unsloth/meta-llama-3.1-8b-unsloth-bnb-4bit\n"
     ]
    }
   ],
   "source": [
    "# Project configuration\n",
    "seed = 69\n",
    "device = 'cuda'\n",
    "\n",
    "# Model configuration\n",
    "max_seq_length = 1024\n",
    "dtype = None # None for auto detection. Float16 for Tesla T4, V100, Bfloat16 for Ampere+\n",
    "load_in_4bit = True # Use 4bit quantization to reduce memory usage. Can be False.\n",
    "\n",
    "model_configs = {\n",
    "    'L1T1': {\n",
    "        'hf_lora_id': 'alxxtexxr/L3.1-8B-wikipedia-en-5K-LoRA-v20250630122650',\n",
    "        'checkpoint': 650,\n",
    "        'lora_dir': None,\n",
    "        'lora_path': None,\n",
    "        'lora_config': None,\n",
    "    },\n",
    "    'L2T1': {\n",
    "        'hf_lora_id': 'alxxtexxr/L3.1-8B-wikipedia-ja-5K-LoRA-v20250728141629',\n",
    "        'checkpoint': 650,\n",
    "        'lora_dir': None,\n",
    "        'lora_path': None,\n",
    "        'lora_config': None,\n",
    "    },\n",
    "}\n",
    "\n",
    "for key, config in model_configs.items():\n",
    "    lora_dir = download_hf_model(config['hf_lora_id'], config['checkpoint'])\n",
    "    model_configs[key]['lora_dir'] = lora_dir\n",
    "    model_configs[key]['lora_path'] = os.path.join(lora_dir, 'adapter_model.safetensors')\n",
    "    model_configs[key]['lora_config'] = LoraConfig.from_pretrained(lora_dir)\n",
    "\n",
    "print(\"Model configurations:\",)\n",
    "for key, config in model_configs.items():\n",
    "    print(f\"- {key}:\")\n",
    "    for config_name, config_value in config.items():\n",
    "        if config_name == 'lora_config':\n",
    "            continue\n",
    "        print(f\"{'-':>3} {config_name:<10}: {config_value}\")\n",
    "print()\n",
    "\n",
    "assert model_configs['L1T1']['lora_config'].base_model_name_or_path == model_configs['L2T1']['lora_config'].base_model_name_or_path, \"Base models must be the same\"\n",
    "base_model_name = model_configs['L1T1']['lora_config'].base_model_name_or_path\n",
    "print(f\"Base model name: {base_model_name}\")\n",
    "\n",
    "tokenizer = AutoTokenizer.from_pretrained(base_model_name)"
   ]
  },
  {
   "cell_type": "markdown",
   "metadata": {},
   "source": [
    "# Model"
   ]
  },
  {
   "cell_type": "markdown",
   "metadata": {},
   "source": [
    "## LoRA Model"
   ]
  },
  {
   "cell_type": "markdown",
   "metadata": {},
   "source": [
    "### References\n",
    "- https://github.com/huggingface/peft/blob/main/src/peft/tuners/lora/bnb.py\n",
    "- https://github.com/huggingface/peft/blob/main/src/peft/tuners/lora/layer.py"
   ]
  },
  {
   "cell_type": "code",
   "execution_count": 6,
   "metadata": {},
   "outputs": [],
   "source": [
    "class LoraLayer(nn.Module):\n",
    "    def __init__(self, base_layer, rank, alpha, dropout, lora_bias, use_rslora, \n",
    "                 return_lora_output=False, debug=False):\n",
    "        super().__init__()\n",
    "        self.base_layer = base_layer\n",
    "        self.device = base_layer.weight.device\n",
    "        self.alpha = alpha\n",
    "        self.lora_bias = lora_bias\n",
    "        self.scaling = alpha / math.sqrt(rank) if use_rslora else alpha / rank\n",
    "        self.dropout = nn.Dropout(dropout) if dropout > 0.0 else nn.Identity()\n",
    "        self.return_lora_output = return_lora_output\n",
    "        self.debug = debug\n",
    "\n",
    "        # Extract input and output features from the base layer\n",
    "        in_features = getattr(base_layer, 'in_features', None)\n",
    "        out_features = getattr(base_layer, 'out_features', None)\n",
    "\n",
    "        if in_features is None or out_features is None:\n",
    "            raise ValueError(f\"Cannot determine in_features or out_features from {base_layer}.\")\n",
    "        \n",
    "        # LoRA decomposition: A (down-projection) and B (up-projection)\n",
    "        self.lora_A = nn.Linear(in_features, rank, bias=lora_bias).to(self.device)  # Projects down\n",
    "        self.lora_B = nn.Linear(rank, out_features, bias=lora_bias).to(self.device) # Projects up\n",
    "\n",
    "        # Initialize LoRA matrices: A ~ N(0, 1/rank), B initialized to 0\n",
    "        std = 1 / torch.sqrt(torch.tensor(rank).float())\n",
    "        nn.init.normal_(self.lora_A.weight, mean=0.0, std=std)\n",
    "        nn.init.zeros_(self.lora_B.weight)\n",
    "        \n",
    "    def forward(self, x):\n",
    "        # Forward through base layer\n",
    "        base_out = self.base_layer(x)\n",
    "\n",
    "        if self.debug:\n",
    "            print(\"================================================================\")\n",
    "            print(\"base_out.requires_grad:\", base_out.requires_grad)\n",
    "            print(\"base_out.grad_fn:\", base_out.grad_fn)\n",
    "            print()\n",
    "\n",
    "        # LoRA transformation\n",
    "        requires_conversion = not torch.is_autocast_enabled()\n",
    "        if requires_conversion:\n",
    "            x = x.to(self.lora_A.weight.dtype)\n",
    "        lora_out = self.lora_B(self.lora_A(self.dropout(x))) * self.scaling\n",
    "        if requires_conversion:\n",
    "            lora_out = lora_out.to(base_out.dtype)\n",
    "        \n",
    "        if self.debug:\n",
    "            print(\"lora_out.requires_grad:\", lora_out.requires_grad)\n",
    "            print(\"lora_out.grad_fn:\", lora_out.grad_fn)\n",
    "            print()\n",
    "\n",
    "        output = base_out + lora_out\n",
    "\n",
    "        if self.return_lora_output:\n",
    "            return output, lora_out\n",
    "        \n",
    "        return output\n",
    "\n",
    "    def load_lora_weights(self, state_dict, prefix):\n",
    "        self.lora_A.weight.data = state_dict[f'{prefix}.lora_A.weight'].to(self.device)\n",
    "        self.lora_B.weight.data = state_dict[f'{prefix}.lora_B.weight'].to(self.device)\n",
    "        if self.lora_bias:\n",
    "            self.lora_A.bias.data = state_dict[f'{prefix}.lora_A.bias'].to(self.device)\n",
    "            self.lora_B.bias.data = state_dict[f'{prefix}.lora_B.bias'].to(self.device)\n",
    "    \n",
    "class LoraModel(nn.Module):\n",
    "    def __init__(self, base_model: nn.Module, lora_config: LoraConfig, \n",
    "                 return_lora_outputs: bool=False, debug: bool=False):\n",
    "        super().__init__()\n",
    "        self.base_model = base_model\n",
    "        self.lora_layers = nn.ModuleDict()\n",
    "        self.return_lora_outputs = return_lora_outputs\n",
    "        self.debug = debug\n",
    "\n",
    "        # Wrap target layers with NeroLayer\n",
    "        self._wrap_target_layers(lora_config)\n",
    "    \n",
    "    def _wrap_target_layers(self, lora_config):\n",
    "        for module_name, module in self.base_model.named_modules():\n",
    "            if isinstance(module, LoraLayer):\n",
    "                # Convert module name format and store reference\n",
    "                module_name = module_name.rsplit('model.', 1)[-1]\n",
    "                module_name = module_name.replace('.', '__DOT__')\n",
    "                self.lora_layers[module_name] = module\n",
    "                continue\n",
    "\n",
    "            if any(module_name.endswith(target_module) for target_module in lora_config.target_modules) and isinstance(module, nn.Linear):    \n",
    "                parent_module, child_name = self._get_parent_module(module_name)\n",
    "                lora_layer = LoraLayer(\n",
    "                    module, \n",
    "                    lora_config.r, \n",
    "                    lora_config.lora_alpha, \n",
    "                    lora_config.lora_dropout, \n",
    "                    lora_config.lora_bias, \n",
    "                    lora_config.use_rslora,\n",
    "                    return_lora_output=self.return_lora_outputs,\n",
    "                    debug=self.debug,\n",
    "                )\n",
    "                setattr(parent_module, child_name, lora_layer)\n",
    "\n",
    "                # Store LoRA layers for weight loading\n",
    "                module_name = module_name.rsplit('model.', 1)[-1]\n",
    "                module_name = module_name.replace('.', '__DOT__')\n",
    "                self.lora_layers[module_name] = lora_layer\n",
    "    \n",
    "    def _get_parent_module(self, module_name):\n",
    "        parts = module_name.split('.')\n",
    "        parent_module = self.base_model\n",
    "        for part in parts[:-1]:\n",
    "            parent_module = getattr(parent_module, part)\n",
    "        return parent_module, parts[-1]\n",
    "\n",
    "    def freeze_all(self):\n",
    "        for param in self.base_model.parameters():\n",
    "            param.requires_grad = False\n",
    "    \n",
    "    def unfreeze_all(self):\n",
    "        for param in self.base_model.parameters():\n",
    "            param.requires_grad = True\n",
    "        \n",
    "        for lora_layer in self.lora_layers.values():\n",
    "            for param in lora_layer.parameters():\n",
    "                param.requires_grad = True\n",
    "    \n",
    "    def load_lora_weights(self, lora_path):\n",
    "        state_dict = load_file(lora_path)\n",
    "        prefix = list(state_dict.keys())[0].rsplit('model.', 1)[0] + 'model.'\n",
    "        for lora_layer_name, lora_layer in self.lora_layers.items():\n",
    "            lora_layer_name = lora_layer_name.replace('__DOT__', '.')\n",
    "            lora_layer_name = prefix + lora_layer_name\n",
    "            if f'{lora_layer_name}.lora_A.weight' in state_dict and f'{lora_layer_name}.lora_B.weight' in state_dict:\n",
    "                lora_layer.load_lora_weights(state_dict, lora_layer_name)\n",
    "            else:\n",
    "                # TODO: Print warning message\n",
    "                pass\n",
    "        print(\"LoRA weights loaded successfully!\")\n",
    "    \n",
    "    def forward(self, input_ids, attention_mask=None):\n",
    "        if self.return_lora_outputs:\n",
    "            lora_outs = {}\n",
    "            \n",
    "            def _hook_fn(layer_name, module, _in, _out):\n",
    "                if isinstance(_out, tuple) and len(_out) == 2:\n",
    "                    layer_out, lora_out = _out\n",
    "                    lora_outs[layer_name] = lora_out # Store nero_out separately\n",
    "                    return layer_out # Return only layer_out to avoid breaking model flow\n",
    "\n",
    "            # Register hooks to extract nero_out during forward pass\n",
    "            hooks = []\n",
    "            for layer_name, layer in self.lora_layers.items():\n",
    "                hook = layer.register_forward_hook(functools.partial(_hook_fn, layer_name))\n",
    "                hooks.append(hook)\n",
    "        \n",
    "            try:\n",
    "                output = self.base_model(input_ids, attention_mask=attention_mask)\n",
    "            finally:\n",
    "                # Remove hooks after forward pass, ensuring it's done even if an error occurs\n",
    "                for hook in hooks:\n",
    "                    hook.remove()\n",
    "\n",
    "            return output, lora_outs\n",
    "        \n",
    "        return self.base_model(input_ids, attention_mask=attention_mask)\n",
    "    \n",
    "    def __getattr__(self, name):\n",
    "        try:\n",
    "            return super().__getattr__(name) # Try getting attribute from self\n",
    "        except AttributeError:\n",
    "            return getattr(self.base_model, name) # Fallback to base_model\n",
    "\n",
    "base_lora_model = AutoModelForCausalLM.from_pretrained(base_model_name)\n",
    "lora_model = LoraModel(\n",
    "    base_lora_model, \n",
    "    model_configs['L2T1']['lora_config'],\n",
    "    return_lora_outputs=True,\n",
    "    debug=False,\n",
    ")"
   ]
  },
  {
   "cell_type": "code",
   "execution_count": 7,
   "metadata": {},
   "outputs": [
    {
     "name": "stdout",
     "output_type": "stream",
     "text": [
      "Check LoRA parameters (unloaded):\n",
      "- Name    : base_model.model.layers.0.self_attn.q_proj.lora_A.weight\n",
      "- Mean    : 0.003538851160556078\n",
      "- Min     : -1.3572509288787842\n",
      "- Max     : 1.3094143867492676\n",
      "\n",
      "LoRA weights loaded successfully!\n",
      "\n",
      "Check LoRA parameters (loaded):\n",
      "- Name    : base_model.model.layers.0.self_attn.q_proj.lora_A.weight\n",
      "- Mean    : 2.2152138626552187e-05\n",
      "- Min     : -0.06327299773693085\n",
      "- Max     : 0.0625513345003128\n"
     ]
    }
   ],
   "source": [
    "print(\"Check LoRA parameters (unloaded):\")\n",
    "check_lora_parameters(lora_model)\n",
    "print()\n",
    "\n",
    "lora_model.load_lora_weights(model_configs['L2T1']['lora_path'])\n",
    "print()\n",
    "\n",
    "print(\"Check LoRA parameters (loaded):\")\n",
    "check_lora_parameters(lora_model)"
   ]
  },
  {
   "cell_type": "code",
   "execution_count": 8,
   "metadata": {},
   "outputs": [],
   "source": [
    "lora_model.freeze_all()"
   ]
  },
  {
   "cell_type": "code",
   "execution_count": 9,
   "metadata": {},
   "outputs": [],
   "source": [
    "lora_model.train()\n",
    "device = next(lora_model.parameters()).device\n",
    "inputs = tokenizer(\"Preheat the oven to 350 degrees and place the cookie dough\", return_tensors='pt')\n",
    "lora_model_outs = lora_model(input_ids=inputs['input_ids'].to(device))"
   ]
  },
  {
   "cell_type": "code",
   "execution_count": 10,
   "metadata": {},
   "outputs": [
    {
     "data": {
      "text/plain": [
       "tensor([[[-0.0036, -0.0022,  0.0020,  ..., -0.0032, -0.0023, -0.0026],\n",
       "         [-0.0068, -0.0042,  0.0053,  ..., -0.0093, -0.0069, -0.0077],\n",
       "         [-0.0037, -0.0036,  0.0024,  ..., -0.0055, -0.0041, -0.0046],\n",
       "         ...,\n",
       "         [-0.0059, -0.0045,  0.0033,  ..., -0.0072, -0.0053, -0.0059],\n",
       "         [-0.0064, -0.0063,  0.0004,  ..., -0.0070, -0.0050, -0.0058],\n",
       "         [-0.0051, -0.0008,  0.0057,  ..., -0.0058, -0.0042, -0.0048]]],\n",
       "       device='cuda:0', dtype=torch.float16)"
      ]
     },
     "execution_count": 10,
     "metadata": {},
     "output_type": "execute_result"
    }
   ],
   "source": [
    "lora_model_outs[1]['layers__DOT__0__DOT__self_attn__DOT__q_proj']"
   ]
  },
  {
   "cell_type": "markdown",
   "metadata": {},
   "source": [
    "## Nero Layer"
   ]
  },
  {
   "cell_type": "code",
   "execution_count": 11,
   "metadata": {},
   "outputs": [],
   "source": [
    "class NeroLayer(nn.Module):\n",
    "    def __init__(self, base_layer, \n",
    "                 # LoRA parameters\n",
    "                 rank, alpha, dropout, lora_bias, use_rslora, \n",
    "                 # Nero parameters\n",
    "                 nero_bias=False, \n",
    "                 return_nero_output=False,\n",
    "                 # For debugging \n",
    "                 debug=False,\n",
    "                 module_name=None,\n",
    "                 ):\n",
    "        super().__init__()\n",
    "        self.base_layer = base_layer\n",
    "        self.device = base_layer.weight.device\n",
    "        self.alpha = alpha\n",
    "        self.lora_bias = lora_bias\n",
    "        self.scaling = alpha / math.sqrt(rank) if use_rslora else alpha / rank\n",
    "        self.dropout = nn.Dropout(dropout) if dropout > 0.0 else nn.Identity()\n",
    "        self.return_nero_output = return_nero_output\n",
    "\n",
    "        # For debugging\n",
    "        self.debug = debug\n",
    "        self.module_name = module_name\n",
    "\n",
    "        # Extract input and output features from the base layer\n",
    "        in_features = getattr(base_layer, 'in_features', None)\n",
    "        out_features = getattr(base_layer, 'out_features', None)\n",
    "\n",
    "        if in_features is None or out_features is None:\n",
    "            raise ValueError(f\"Cannot determine in_features or out_features from {base_layer}.\")\n",
    "        \n",
    "        # LoRA decomposition: A (down-projection) and B (up-projection)\n",
    "        self.lora_A = nn.Linear(in_features, rank, bias=lora_bias).to(self.device)  # Projects down\n",
    "        self.lora_B = nn.Linear(rank, out_features, bias=lora_bias).to(self.device) # Projects up\n",
    "\n",
    "        # Initialize LoRA matrices: A ~ N(0, 1/rank), B initialized to 0\n",
    "        std = 1 / torch.sqrt(torch.tensor(rank).float())\n",
    "        nn.init.normal_(self.lora_A.weight, mean=0.0, std=std)\n",
    "        nn.init.zeros_(self.lora_B.weight)\n",
    "\n",
    "        # Nero decomposition: additional transformation applied to LoRA output\n",
    "        self.nero_A = nn.Linear(out_features, rank, bias=nero_bias).to(self.device)\n",
    "        self.nero_B = nn.Linear(rank, out_features, bias=nero_bias).to(self.device)\n",
    "\n",
    "        # Initialize Nero matrices similarly\n",
    "        nn.init.normal_(self.nero_A.weight, mean=0.0, std=std)\n",
    "        nn.init.zeros_(self.nero_B.weight)\n",
    "        \n",
    "    def forward(self, x):\n",
    "        # Forward through base layer\n",
    "        base_out = self.base_layer(x)\n",
    "\n",
    "        if self.debug:\n",
    "            print(\"================================================================\")\n",
    "            print(self.module_name)\n",
    "            print(\"================================================================\")\n",
    "            print(\"base_out.requires_grad:\", base_out.requires_grad)\n",
    "            print(\"base_out.grad_fn:\", base_out.grad_fn)\n",
    "            print()\n",
    "\n",
    "        # LoRA transformation\n",
    "        requires_conversion = not torch.is_autocast_enabled()\n",
    "        if requires_conversion:\n",
    "            x = x.to(self.lora_A.weight.dtype)\n",
    "        lora_out = self.lora_B(self.lora_A(self.dropout(x))) * self.scaling\n",
    "        # if requires_conversion:\n",
    "        #     lora_out = lora_out.to(base_out.dtype)\n",
    "\n",
    "        if self.debug:\n",
    "            print(\"lora_out.requires_grad:\", lora_out.requires_grad)\n",
    "            print(\"lora_out.grad_fn:\", lora_out.grad_fn)\n",
    "            print()\n",
    "\n",
    "        # nero_out = F.relu(self.nero_B(self.nero_A(self.dropout(lora_out))) * self.scaling)\n",
    "        nero_dropout_out = self.dropout(lora_out)\n",
    "        nero_A_out = self.nero_A(nero_dropout_out)\n",
    "        nero_B_out = self.nero_B(nero_A_out)\n",
    "        nero_scaling_out = nero_B_out * self.scaling\n",
    "        nero_out = F.relu(nero_scaling_out)\n",
    "        if requires_conversion:\n",
    "            nero_out = nero_out.to(base_out.dtype)\n",
    "\n",
    "        if self.debug:\n",
    "            print(\"nero_out.requires_grad:\", nero_out.requires_grad)\n",
    "            print(\"nero_out.grad_fn:\", nero_out.grad_fn)\n",
    "            print()\n",
    "\n",
    "            nero_out_has_nan = torch.isnan(nero_out).any()\n",
    "            if nero_out_has_nan:\n",
    "                print(\"!!! NERO OUT HAS NAN !!!\")\n",
    "                print(\"nero_out:\")\n",
    "                print(nero_out)\n",
    "                print()\n",
    "                print(\"nero_scaling_out:\")\n",
    "                print(nero_scaling_out)\n",
    "                print()\n",
    "                print(\"nero_B_out:\")\n",
    "                print(nero_B_out)\n",
    "                print()\n",
    "                print(\"nero_A_out:\")\n",
    "                print(nero_A_out)\n",
    "                print()\n",
    "                print(\"nero_dropout_out:\")\n",
    "                print(nero_dropout_out)\n",
    "                print()\n",
    "                print(\"lora_out:\")\n",
    "                print(lora_out)\n",
    "                print()\n",
    "\n",
    "        # Add `base_out` with gradients-detached `nero_out`, \n",
    "        # so that `base_out` does not carry gradients\n",
    "        nero_out_detached = nero_out.detach()\n",
    "\n",
    "        if self.debug:\n",
    "            print(\"nero_out_detached.requires_grad:\", nero_out_detached.requires_grad)\n",
    "            print(\"nero_out_detached.grad_fn:\", nero_out_detached.grad_fn)\n",
    "            print()\n",
    "\n",
    "        output = base_out + nero_out_detached\n",
    "\n",
    "        if self.debug:\n",
    "            print(\"output.requires_grad:\", output.requires_grad)\n",
    "            print(\"output.grad_fn:\", output.grad_fn)\n",
    "            print()\n",
    "\n",
    "        if self.return_nero_output:\n",
    "            return output, nero_out\n",
    "        \n",
    "        return output\n",
    "\n",
    "    def load_lora_weights(self, state_dict, prefix):\n",
    "        self.lora_A.weight.data = state_dict[f'{prefix}.lora_A.weight'].to(self.device)\n",
    "        self.lora_B.weight.data = state_dict[f'{prefix}.lora_B.weight'].to(self.device)\n",
    "        if self.lora_bias:\n",
    "            self.lora_A.bias.data = state_dict[f'{prefix}.lora_A.bias'].to(self.device)\n",
    "            self.lora_B.bias.data = state_dict[f'{prefix}.lora_B.bias'].to(self.device)\n",
    "    \n",
    "class NeroModel(nn.Module):\n",
    "    def __init__(self, base_model: nn.Module, lora_config: LoraConfig, nero_bias: bool=False, \n",
    "                 return_nero_outputs: bool=False, debug: bool=False):\n",
    "        super().__init__()\n",
    "        self.base_model = base_model\n",
    "        self.nero_bias = nero_bias\n",
    "        self.nero_layers = nn.ModuleDict()\n",
    "        self.return_nero_outputs = return_nero_outputs\n",
    "        self.debug = debug\n",
    "\n",
    "        # Wrap target layers with NeroLayer\n",
    "        self._wrap_target_layers(lora_config)\n",
    "        \n",
    "    def _wrap_target_layers(self, lora_config):\n",
    "        for module_name, module in self.base_model.named_modules():\n",
    "            if isinstance(module, NeroLayer):\n",
    "                # Convert module name format and store reference\n",
    "                module_name = module_name.rsplit('model.', 1)[-1]\n",
    "                module_name = module_name.replace('.', '__DOT__')\n",
    "                self.nero_layers[module_name] = module\n",
    "                continue\n",
    "\n",
    "            if any(module_name.endswith(target_module) for target_module in lora_config.target_modules) and isinstance(module, nn.Linear):    \n",
    "                parent_module, child_name = self._get_parent_module(module_name)\n",
    "                nero_layer = NeroLayer(\n",
    "                    module, \n",
    "                    lora_config.r, \n",
    "                    lora_config.lora_alpha, \n",
    "                    lora_config.lora_dropout, \n",
    "                    lora_config.lora_bias, \n",
    "                    lora_config.use_rslora,\n",
    "                    nero_bias=self.nero_bias,\n",
    "                    return_nero_output=self.return_nero_outputs,\n",
    "                    debug=self.debug,\n",
    "                    module_name=module_name,\n",
    "                )\n",
    "                setattr(parent_module, child_name, nero_layer)\n",
    "\n",
    "                # Store LoRA layers for weight loading\n",
    "                module_name = module_name.rsplit('model.', 1)[-1]\n",
    "                module_name = module_name.replace('.', '__DOT__')\n",
    "                self.nero_layers[module_name] = nero_layer\n",
    "    \n",
    "    def _get_parent_module(self, module_name):\n",
    "        parts = module_name.split('.')\n",
    "        parent_module = self.base_model\n",
    "        for part in parts[:-1]:\n",
    "            parent_module = getattr(parent_module, part)\n",
    "        return parent_module, parts[-1]\n",
    "\n",
    "    def freeze_all_except_nero(self):\n",
    "        for param in self.base_model.parameters():\n",
    "            param.requires_grad = False\n",
    "        \n",
    "        for nero_layer in self.nero_layers.values():\n",
    "            for param_name, param in nero_layer.named_parameters():\n",
    "                if 'nero_A' in param_name or 'nero_B' in param_name:\n",
    "                    param.requires_grad = True\n",
    "                else:\n",
    "                    param.requires_grad = False\n",
    "    \n",
    "    def unfreeze_all(self):\n",
    "        for param in self.base_model.parameters():\n",
    "            param.requires_grad = True\n",
    "        \n",
    "        for nero_layer in self.nero_layers.values():\n",
    "            for param in nero_layer.parameters():\n",
    "                param.requires_grad = True\n",
    "    \n",
    "    def load_lora_weights(self, lora_path):\n",
    "        state_dict = load_file(lora_path)\n",
    "        prefix = list(state_dict.keys())[0].rsplit('model.', 1)[0] + 'model.'\n",
    "        for nero_layer_name, nero_layer in self.nero_layers.items():\n",
    "            nero_layer_name = nero_layer_name.replace('__DOT__', '.')\n",
    "            nero_layer_name = prefix + nero_layer_name\n",
    "            if f'{nero_layer_name}.lora_A.weight' in state_dict and f'{nero_layer_name}.lora_B.weight' in state_dict:\n",
    "                nero_layer.load_lora_weights(state_dict, nero_layer_name)\n",
    "            else:\n",
    "                # TODO: Print warning message\n",
    "                pass\n",
    "        print(\"LoRA weights loaded successfully!\")\n",
    "    \n",
    "    def forward(self, input_ids, attention_mask=None):\n",
    "        if self.return_nero_outputs:\n",
    "            nero_outs = {}\n",
    "            \n",
    "            def _hook_fn(layer_name, module, _in, _out):\n",
    "                if isinstance(_out, tuple) and len(_out) == 2:\n",
    "                    layer_out, nero_out = _out\n",
    "                    nero_outs[layer_name] = nero_out # Store nero_out separately\n",
    "                    return layer_out # Return only layer_out to avoid breaking model flow\n",
    "\n",
    "            # Register hooks to extract nero_out during forward pass\n",
    "            hooks = []\n",
    "            for layer_name, layer in self.nero_layers.items():\n",
    "                hook = layer.register_forward_hook(functools.partial(_hook_fn, layer_name))\n",
    "                hooks.append(hook)\n",
    "        \n",
    "            try:\n",
    "                output = self.base_model(input_ids, attention_mask=attention_mask)\n",
    "            finally:\n",
    "                # Remove hooks after forward pass, ensuring it's done even if an error occurs\n",
    "                for hook in hooks:\n",
    "                    hook.remove()\n",
    "\n",
    "            return output, nero_outs\n",
    "        \n",
    "        return self.base_model(input_ids, attention_mask=attention_mask)\n",
    "    \n",
    "    def __getattr__(self, name):\n",
    "        try:\n",
    "            return super().__getattr__(name) # Try getting attribute from self\n",
    "        except AttributeError:\n",
    "            return getattr(self.base_model, name) # Fallback to base_model\n",
    "\n",
    "base_nero_model = AutoModelForCausalLM.from_pretrained(base_model_name)\n",
    "nero_model = NeroModel(\n",
    "    base_nero_model, \n",
    "    model_configs['L1T1']['lora_config'], \n",
    "    nero_bias=True, \n",
    "    return_nero_outputs=True,\n",
    "    debug=False,\n",
    ")"
   ]
  },
  {
   "cell_type": "code",
   "execution_count": 12,
   "metadata": {},
   "outputs": [
    {
     "name": "stdout",
     "output_type": "stream",
     "text": [
      "Check LoRA parameters (unloaded):\n",
      "- Name    : base_model.model.layers.0.self_attn.q_proj.lora_A.weight\n",
      "- Mean    : -0.0002531199133954942\n",
      "- Min     : -1.5828715562820435\n",
      "- Max     : 1.3799933195114136\n",
      "\n",
      "LoRA weights loaded successfully!\n",
      "\n",
      "Check LoRA parameters (loaded):\n",
      "- Name    : base_model.model.layers.0.self_attn.q_proj.lora_A.weight\n",
      "- Mean    : 6.287686119321734e-05\n",
      "- Min     : -0.04176201671361923\n",
      "- Max     : 0.04242725297808647\n"
     ]
    }
   ],
   "source": [
    "print(\"Check LoRA parameters (unloaded):\")\n",
    "check_lora_parameters(nero_model)\n",
    "print()\n",
    "\n",
    "nero_model.load_lora_weights(model_configs['L1T1']['lora_path'])\n",
    "print()\n",
    "\n",
    "print(\"Check LoRA parameters (loaded):\")\n",
    "check_lora_parameters(nero_model)"
   ]
  },
  {
   "cell_type": "code",
   "execution_count": 13,
   "metadata": {},
   "outputs": [],
   "source": [
    "nero_model.freeze_all_except_nero()"
   ]
  },
  {
   "cell_type": "code",
   "execution_count": 14,
   "metadata": {},
   "outputs": [],
   "source": [
    "nero_model.train()\n",
    "device = next(nero_model.parameters()).device\n",
    "inputs = tokenizer(\"Preheat the oven to 350 degrees and place the cookie dough\", return_tensors='pt')\n",
    "nero_model_outs = nero_model(input_ids=inputs['input_ids'].to(device))"
   ]
  },
  {
   "cell_type": "code",
   "execution_count": 15,
   "metadata": {},
   "outputs": [
    {
     "data": {
      "text/plain": [
       "tensor([[[0.0000, 0.0000, 0.0000,  ..., 0.0000, 0.0000, 0.0839],\n",
       "         [0.0000, 0.0000, 0.0000,  ..., 0.0000, 0.0000, 0.0839],\n",
       "         [0.0000, 0.0000, 0.0000,  ..., 0.0000, 0.0000, 0.0839],\n",
       "         ...,\n",
       "         [0.0000, 0.0000, 0.0000,  ..., 0.0000, 0.0000, 0.0839],\n",
       "         [0.0000, 0.0000, 0.0000,  ..., 0.0000, 0.0000, 0.0839],\n",
       "         [0.0000, 0.0000, 0.0000,  ..., 0.0000, 0.0000, 0.0839]]],\n",
       "       device='cuda:0', dtype=torch.float16, grad_fn=<ToCopyBackward0>)"
      ]
     },
     "execution_count": 15,
     "metadata": {},
     "output_type": "execute_result"
    }
   ],
   "source": [
    "nero_model_outs[1]['layers__DOT__0__DOT__self_attn__DOT__q_proj']"
   ]
  },
  {
   "cell_type": "markdown",
   "metadata": {},
   "source": [
    "# Data"
   ]
  },
  {
   "cell_type": "code",
   "execution_count": 16,
   "metadata": {},
   "outputs": [],
   "source": [
    "dataset = load_hf_dataset_from_lora(model_configs['L2T1']['hf_lora_id'])"
   ]
  },
  {
   "cell_type": "code",
   "execution_count": 17,
   "metadata": {},
   "outputs": [],
   "source": [
    "eos_token = tokenizer.eos_token\n",
    "tokenizer.pad_token = eos_token\n",
    "\n",
    "# Tokenize dataset\n",
    "def tokenize_fn(example):\n",
    "    return tokenizer(example['text'])\n",
    "\n",
    "dataset_tokenized = dataset.map(\n",
    "    tokenize_fn, \n",
    "    batched=True, \n",
    "    remove_columns=dataset.column_names,\n",
    ")\n",
    "\n",
    "# Concatenate all tokens into one long stream, then split into blocks\n",
    "block_size = 16\n",
    "\n",
    "def group_texts(examples):\n",
    "    concatenated = []\n",
    "    for input_ids in examples['input_ids']:\n",
    "        concatenated += input_ids\n",
    "\n",
    "    total_length = len(concatenated) // block_size * block_size\n",
    "\n",
    "    input_ids = [concatenated[i:i + block_size] for i in range(0, total_length, block_size)]\n",
    "    attention_mask = [[1] * block_size for _ in input_ids]\n",
    "    labels = input_ids.copy()\n",
    "\n",
    "    return {\n",
    "        'input_ids': input_ids,\n",
    "        'attention_mask': attention_mask,\n",
    "        'labels': labels,\n",
    "    }\n",
    "\n",
    "dataset_grouped = dataset_tokenized.map(\n",
    "    group_texts, \n",
    "    batched=True, \n",
    "    batch_size=1000,\n",
    "    remove_columns=dataset_tokenized.column_names,\n",
    ")"
   ]
  },
  {
   "cell_type": "code",
   "execution_count": 18,
   "metadata": {},
   "outputs": [],
   "source": [
    "batch_size = 4\n",
    "train_loader = DataLoader(\n",
    "    dataset_grouped, \n",
    "    batch_size=batch_size, \n",
    "    shuffle=True, \n",
    "    collate_fn=default_data_collator,\n",
    ")"
   ]
  },
  {
   "cell_type": "markdown",
   "metadata": {},
   "source": [
    "# Training"
   ]
  },
  {
   "cell_type": "code",
   "execution_count": 19,
   "metadata": {},
   "outputs": [],
   "source": [
    "# _debugged = False\n",
    "# _layer_name = None\n",
    "# _nero_out = None\n",
    "# _lora_out = None\n",
    "# _mse_loss_unnormed = None\n",
    "# _nero_out_sum = None\n",
    "\n",
    "# def loss_func_v1(nero_outs, lora_outs):\n",
    "#     assert nero_outs.keys() == lora_outs.keys() # TODO: Print warning message\n",
    "#     total_loss = 0.0\n",
    "\n",
    "#     for layer_name in lora_outs.keys():\n",
    "#         nero_out = nero_outs[layer_name]\n",
    "#         lora_out = lora_outs[layer_name]\n",
    "\n",
    "#         # Normalized MSE loss\n",
    "#         # mse_loss = F.mse_loss(nero_out, lora_out, reduction='sum') / torch.sum(nero_outs[layer_name] ** 2)\n",
    "#         mse_loss_unnormed = F.mse_loss(nero_out, lora_out, reduction='sum')\n",
    "#         nero_out_sum = torch.sum(nero_outs[layer_name] ** 2)\n",
    "#         mse_loss = mse_loss_unnormed / nero_out_sum\n",
    "\n",
    "#         print(\"================================================================\")\n",
    "#         print(layer_name)\n",
    "#         print(\"================================================================\")\n",
    "#         print(\"mse_loss:\", mse_loss)\n",
    "#         print(\"nero_out_sum:\", nero_out_sum)\n",
    "#         print(\"mse_loss_unnormed:\", mse_loss_unnormed)\n",
    "#         print()\n",
    "\n",
    "#         global _debugged\n",
    "#         if (torch.isinf(nero_out_sum) or torch.isnan(mse_loss_unnormed)) and not _debugged:\n",
    "#             global _layer_name\n",
    "#             global _nero_out\n",
    "#             global _lora_out\n",
    "#             global _mse_loss_unnormed\n",
    "#             global _nero_out_sum\n",
    "#             _layer_name = layer_name\n",
    "#             _nero_out = nero_out\n",
    "#             _lora_out = lora_out\n",
    "#             _mse_loss_unnormed = mse_loss_unnormed\n",
    "#             _nero_out_sum = nero_out_sum\n",
    "#             _debugged = True\n",
    "\n",
    "#         if torch.isnan(mse_loss):\n",
    "#             nero_out_has_nan = torch.isnan(nero_out).any()\n",
    "#             lora_out_has_nan = torch.isnan(lora_out).any()\n",
    "\n",
    "#             print(\"nero_out_has_nan:\", nero_out_has_nan)\n",
    "#             print(\"lora_out_has_nan:\", lora_out_has_nan)\n",
    "#             print()\n",
    "\n",
    "#             # if nero_out_has_nan:\n",
    "#             print(\"nero_out:\")\n",
    "#             print(nero_out)\n",
    "#             print()\n",
    "            \n",
    "#             # if lora_out_has_nan:\n",
    "#             print(\"lora_out:\")\n",
    "#             print(lora_out)\n",
    "#             print()\n",
    "\n",
    "#         total_loss += mse_loss\n",
    "\n",
    "#     return total_loss / len(lora_outs)  # Averaging loss across layers\n",
    "\n",
    "# # loss = loss_func_v1(nero_model_outs[1], lora_model_outs[1])\n",
    "# # print(loss)"
   ]
  },
  {
   "cell_type": "code",
   "execution_count": 20,
   "metadata": {},
   "outputs": [],
   "source": [
    "# def loss_func_v2(nero_outs, lora_outs):\n",
    "#     assert nero_outs.keys() == lora_outs.keys()\n",
    "#     total_loss = 0.0\n",
    "\n",
    "#     for layer_name in lora_outs.keys():\n",
    "#         print(\"================================================================\")\n",
    "#         print(layer_name)\n",
    "#         print(\"================================================================\")\n",
    "\n",
    "#         nero_out = nero_outs[layer_name]\n",
    "#         lora_out = lora_outs[layer_name]\n",
    "\n",
    "#         diff = nero_out - lora_out\n",
    "#         print(\"mean(abs(diff)):\", diff.abs().mean())\n",
    "#         print(\"mean((diff)^2):\", (diff ** 2).mean())\n",
    "#         print()\n",
    "        \n",
    "#         print(\"max abs(diff):\", diff.abs().max().item())\n",
    "#         print(\"mean abs(diff):\", diff.abs().mean().item())\n",
    "#         print(\"std abs(diff):\", diff.abs().std().item())\n",
    "#         print()\n",
    "\n",
    "#         # Use mean MSE to prevent overflow and keep scale uniform\n",
    "#         mse_loss = F.mse_loss(nero_out.float(), lora_out.float(), reduction='mean')  # Compute in float32\n",
    "\n",
    "#         print(\"mse_loss:\", mse_loss)\n",
    "#         print()\n",
    "\n",
    "#         total_loss += mse_loss\n",
    "\n",
    "#     return total_loss / len(lora_outs)\n"
   ]
  },
  {
   "cell_type": "code",
   "execution_count": 21,
   "metadata": {},
   "outputs": [],
   "source": [
    "_debugged = False\n",
    "_nero_out = None\n",
    "_lora_out = None\n",
    "\n",
    "def loss_func_v3(nero_outs, lora_outs, debug=False):\n",
    "    assert nero_outs.keys() == lora_outs.keys()\n",
    "    total_loss = 0.0\n",
    "\n",
    "    for layer_name in lora_outs.keys():\n",
    "        nero_out = nero_outs[layer_name]\n",
    "        lora_out = lora_outs[layer_name]\n",
    "\n",
    "        # Use mean MAE to prevent overflow and keep scale uniform\n",
    "        # mae_loss = F.l1_loss(nero_out.float(), lora_out.float(), reduction='mean')  \n",
    "        mae_loss = torch.mean(torch.abs(nero_out.float() - lora_out.float()))\n",
    "\n",
    "        if debug:\n",
    "            print(\"================================================================\")\n",
    "            print(layer_name)\n",
    "            print(\"================================================================\")\n",
    "            \n",
    "            global _debugged\n",
    "            if not _debugged:\n",
    "                global _nero_out\n",
    "                global _lora_out\n",
    "                _nero_out = nero_out\n",
    "                _lora_out = lora_out\n",
    "                _debugged = True\n",
    "\n",
    "            diff = nero_out - lora_out\n",
    "            print(\"mean(abs(diff)):\", diff.abs().mean())\n",
    "            print(\"mean((diff)^2):\", (diff ** 2).mean())\n",
    "            print()\n",
    "            \n",
    "            print(\"max abs(diff):\", diff.abs().max().item())\n",
    "            print(\"mean abs(diff):\", diff.abs().mean().item())\n",
    "            print(\"std abs(diff):\", diff.abs().std().item())\n",
    "            print()\n",
    "\n",
    "            print(\"mae_loss:\", mae_loss)\n",
    "            print()\n",
    "\n",
    "        total_loss += mae_loss\n",
    "\n",
    "    return total_loss / len(lora_outs)"
   ]
  },
  {
   "cell_type": "code",
   "execution_count": 22,
   "metadata": {},
   "outputs": [
    {
     "name": "stdout",
     "output_type": "stream",
     "text": [
      "epoch: 1/1, step: 1/514310, loss: 0.18136386573314667\n",
      "epoch: 1/1, step: 2/514310, loss: 0.18185503780841827\n",
      "epoch: 1/1, step: 3/514310, loss: 0.18154877424240112\n",
      "epoch: 1/1, step: 4/514310, loss: 0.1818685680627823\n",
      "epoch: 1/1, step: 5/514310, loss: 0.1815982609987259\n",
      "epoch: 1/1, step: 6/514310, loss: 0.18147484958171844\n",
      "epoch: 1/1, step: 7/514310, loss: 0.18116679787635803\n",
      "epoch: 1/1, step: 8/514310, loss: 0.18142275512218475\n",
      "epoch: 1/1, step: 9/514310, loss: 0.18123763799667358\n",
      "epoch: 1/1, step: 10/514310, loss: 0.1808454543352127\n",
      "epoch: 1/1, step: 11/514310, loss: 0.18146687746047974\n",
      "epoch: 1/1, step: 12/514310, loss: 0.1809486597776413\n",
      "epoch: 1/1, step: 13/514310, loss: 0.18075381219387054\n",
      "epoch: 1/1, step: 14/514310, loss: 0.18101638555526733\n",
      "epoch: 1/1, step: 15/514310, loss: 0.18098264932632446\n",
      "epoch: 1/1, step: 16/514310, loss: 0.1814201921224594\n",
      "epoch: 1/1, step: 17/514310, loss: 0.181378573179245\n",
      "epoch: 1/1, step: 18/514310, loss: 0.18099746108055115\n",
      "epoch: 1/1, step: 19/514310, loss: 0.18089209496974945\n",
      "epoch: 1/1, step: 20/514310, loss: 0.18063050508499146\n",
      "epoch: 1/1, step: 21/514310, loss: 0.18058232963085175\n",
      "epoch: 1/1, step: 22/514310, loss: 0.18083174526691437\n",
      "epoch: 1/1, step: 23/514310, loss: 0.1806236207485199\n",
      "epoch: 1/1, step: 24/514310, loss: 0.18086101114749908\n",
      "epoch: 1/1, step: 25/514310, loss: 0.1804942637681961\n",
      "epoch: 1/1, step: 26/514310, loss: 0.18048825860023499\n",
      "epoch: 1/1, step: 27/514310, loss: 0.18054382503032684\n",
      "epoch: 1/1, step: 28/514310, loss: 0.18021290004253387\n",
      "epoch: 1/1, step: 29/514310, loss: 0.18052230775356293\n",
      "epoch: 1/1, step: 30/514310, loss: 0.18024151027202606\n",
      "epoch: 1/1, step: 31/514310, loss: 0.18026894330978394\n",
      "epoch: 1/1, step: 32/514310, loss: 0.18014046549797058\n",
      "epoch: 1/1, step: 33/514310, loss: 0.1801154911518097\n",
      "epoch: 1/1, step: 34/514310, loss: 0.18026742339134216\n",
      "epoch: 1/1, step: 35/514310, loss: 0.1805325597524643\n",
      "epoch: 1/1, step: 36/514310, loss: 0.1800466626882553\n",
      "epoch: 1/1, step: 37/514310, loss: 0.17974500358104706\n",
      "epoch: 1/1, step: 38/514310, loss: 0.1797652691602707\n",
      "epoch: 1/1, step: 39/514310, loss: 0.18009155988693237\n",
      "epoch: 1/1, step: 40/514310, loss: 0.18001443147659302\n",
      "epoch: 1/1, step: 41/514310, loss: 0.1795799434185028\n",
      "epoch: 1/1, step: 42/514310, loss: 0.1795819252729416\n",
      "epoch: 1/1, step: 43/514310, loss: 0.17946010828018188\n",
      "epoch: 1/1, step: 44/514310, loss: 0.17926587164402008\n",
      "epoch: 1/1, step: 45/514310, loss: 0.17939361929893494\n",
      "epoch: 1/1, step: 46/514310, loss: 0.17932799458503723\n",
      "epoch: 1/1, step: 47/514310, loss: 0.179180309176445\n",
      "epoch: 1/1, step: 48/514310, loss: 0.17928172647953033\n",
      "epoch: 1/1, step: 49/514310, loss: 0.17927023768424988\n",
      "epoch: 1/1, step: 50/514310, loss: 0.17897863686084747\n",
      "epoch: 1/1, step: 51/514310, loss: 0.17953771352767944\n",
      "epoch: 1/1, step: 52/514310, loss: 0.17897288501262665\n",
      "epoch: 1/1, step: 53/514310, loss: 0.1792975515127182\n",
      "epoch: 1/1, step: 54/514310, loss: 0.17903785407543182\n",
      "epoch: 1/1, step: 55/514310, loss: 0.17876771092414856\n",
      "epoch: 1/1, step: 56/514310, loss: 0.17882950603961945\n",
      "epoch: 1/1, step: 57/514310, loss: 0.17865297198295593\n",
      "epoch: 1/1, step: 58/514310, loss: 0.17870596051216125\n",
      "epoch: 1/1, step: 59/514310, loss: 0.17901629209518433\n",
      "epoch: 1/1, step: 60/514310, loss: 0.17871828377246857\n",
      "epoch: 1/1, step: 61/514310, loss: 0.17850930988788605\n",
      "epoch: 1/1, step: 62/514310, loss: 0.17859689891338348\n",
      "epoch: 1/1, step: 63/514310, loss: 0.1782316267490387\n",
      "epoch: 1/1, step: 64/514310, loss: 0.17825107276439667\n",
      "epoch: 1/1, step: 65/514310, loss: 0.1779814064502716\n",
      "epoch: 1/1, step: 66/514310, loss: 0.17820857465267181\n",
      "epoch: 1/1, step: 67/514310, loss: 0.17821045219898224\n",
      "epoch: 1/1, step: 68/514310, loss: 0.17819014191627502\n",
      "epoch: 1/1, step: 69/514310, loss: 0.17820681631565094\n",
      "epoch: 1/1, step: 70/514310, loss: 0.17786599695682526\n",
      "epoch: 1/1, step: 71/514310, loss: 0.1775808036327362\n",
      "epoch: 1/1, step: 72/514310, loss: 0.17792318761348724\n",
      "epoch: 1/1, step: 73/514310, loss: 0.17756207287311554\n",
      "epoch: 1/1, step: 74/514310, loss: 0.17729024589061737\n",
      "epoch: 1/1, step: 75/514310, loss: 0.17725737392902374\n",
      "epoch: 1/1, step: 76/514310, loss: 0.17718510329723358\n",
      "epoch: 1/1, step: 77/514310, loss: 0.17736230790615082\n",
      "epoch: 1/1, step: 78/514310, loss: 0.1774485856294632\n",
      "epoch: 1/1, step: 79/514310, loss: 0.17753289639949799\n",
      "epoch: 1/1, step: 80/514310, loss: 0.17739690840244293\n",
      "epoch: 1/1, step: 81/514310, loss: 0.17694050073623657\n",
      "epoch: 1/1, step: 82/514310, loss: 0.17711670696735382\n",
      "epoch: 1/1, step: 83/514310, loss: 0.17697463929653168\n",
      "epoch: 1/1, step: 84/514310, loss: 0.17659705877304077\n",
      "epoch: 1/1, step: 85/514310, loss: 0.17646268010139465\n",
      "epoch: 1/1, step: 86/514310, loss: 0.17638370394706726\n",
      "epoch: 1/1, step: 87/514310, loss: 0.17638486623764038\n",
      "epoch: 1/1, step: 88/514310, loss: 0.17675557732582092\n",
      "epoch: 1/1, step: 89/514310, loss: 0.17675277590751648\n",
      "epoch: 1/1, step: 90/514310, loss: 0.1761709600687027\n",
      "epoch: 1/1, step: 91/514310, loss: 0.175667867064476\n",
      "epoch: 1/1, step: 92/514310, loss: 0.17588475346565247\n",
      "epoch: 1/1, step: 93/514310, loss: 0.17566139996051788\n",
      "epoch: 1/1, step: 94/514310, loss: 0.1759217530488968\n",
      "epoch: 1/1, step: 95/514310, loss: 0.1757318526506424\n",
      "epoch: 1/1, step: 96/514310, loss: 0.17574383318424225\n",
      "epoch: 1/1, step: 97/514310, loss: 0.1757524311542511\n",
      "epoch: 1/1, step: 98/514310, loss: 0.17563380300998688\n",
      "epoch: 1/1, step: 99/514310, loss: 0.17523640394210815\n",
      "epoch: 1/1, step: 100/514310, loss: 0.17498721182346344\n",
      "epoch: 1/1, step: 101/514310, loss: 0.17497657239437103\n",
      "epoch: 1/1, step: 102/514310, loss: 0.17497286200523376\n",
      "epoch: 1/1, step: 103/514310, loss: 0.17496368288993835\n",
      "epoch: 1/1, step: 104/514310, loss: 0.17488883435726166\n",
      "epoch: 1/1, step: 105/514310, loss: 0.17466358840465546\n",
      "epoch: 1/1, step: 106/514310, loss: 0.17474918067455292\n",
      "epoch: 1/1, step: 107/514310, loss: 0.17462435364723206\n",
      "epoch: 1/1, step: 108/514310, loss: 0.17502398788928986\n",
      "epoch: 1/1, step: 109/514310, loss: 0.17445629835128784\n",
      "epoch: 1/1, step: 110/514310, loss: 0.1741795390844345\n",
      "epoch: 1/1, step: 111/514310, loss: 0.17445479333400726\n",
      "epoch: 1/1, step: 112/514310, loss: 0.1738939732313156\n",
      "epoch: 1/1, step: 113/514310, loss: 0.17393676936626434\n",
      "epoch: 1/1, step: 114/514310, loss: 0.17383502423763275\n",
      "epoch: 1/1, step: 115/514310, loss: 0.1738140732049942\n",
      "epoch: 1/1, step: 116/514310, loss: 0.17371423542499542\n",
      "epoch: 1/1, step: 117/514310, loss: 0.17355534434318542\n",
      "epoch: 1/1, step: 118/514310, loss: 0.1736605018377304\n",
      "epoch: 1/1, step: 119/514310, loss: 0.17325074970722198\n",
      "epoch: 1/1, step: 120/514310, loss: 0.17313751578330994\n",
      "epoch: 1/1, step: 121/514310, loss: 0.1729120910167694\n",
      "epoch: 1/1, step: 122/514310, loss: 0.17300763726234436\n",
      "epoch: 1/1, step: 123/514310, loss: 0.1730843037366867\n",
      "epoch: 1/1, step: 124/514310, loss: 0.17303773760795593\n",
      "epoch: 1/1, step: 125/514310, loss: 0.17290256917476654\n",
      "epoch: 1/1, step: 126/514310, loss: 0.17253033816814423\n",
      "epoch: 1/1, step: 127/514310, loss: 0.17238037288188934\n",
      "epoch: 1/1, step: 128/514310, loss: 0.17248021066188812\n",
      "epoch: 1/1, step: 129/514310, loss: 0.1725374311208725\n",
      "epoch: 1/1, step: 130/514310, loss: 0.17258508503437042\n",
      "epoch: 1/1, step: 131/514310, loss: 0.1723739355802536\n",
      "epoch: 1/1, step: 132/514310, loss: 0.17200902104377747\n",
      "epoch: 1/1, step: 133/514310, loss: 0.1722521185874939\n",
      "epoch: 1/1, step: 134/514310, loss: 0.17191733419895172\n",
      "epoch: 1/1, step: 135/514310, loss: 0.1719469428062439\n",
      "epoch: 1/1, step: 136/514310, loss: 0.1715896725654602\n",
      "epoch: 1/1, step: 137/514310, loss: 0.1716751754283905\n",
      "epoch: 1/1, step: 138/514310, loss: 0.1714281290769577\n",
      "epoch: 1/1, step: 139/514310, loss: 0.17119857668876648\n",
      "epoch: 1/1, step: 140/514310, loss: 0.1708957701921463\n",
      "epoch: 1/1, step: 141/514310, loss: 0.1712809056043625\n",
      "epoch: 1/1, step: 142/514310, loss: 0.17095810174942017\n",
      "epoch: 1/1, step: 143/514310, loss: 0.17066219449043274\n",
      "epoch: 1/1, step: 144/514310, loss: 0.1710418164730072\n",
      "epoch: 1/1, step: 145/514310, loss: 0.17052452266216278\n",
      "epoch: 1/1, step: 146/514310, loss: 0.1703370213508606\n",
      "epoch: 1/1, step: 147/514310, loss: 0.17070874571800232\n",
      "epoch: 1/1, step: 148/514310, loss: 0.17004427313804626\n",
      "epoch: 1/1, step: 149/514310, loss: 0.1703471690416336\n",
      "epoch: 1/1, step: 150/514310, loss: 0.17003695666790009\n",
      "epoch: 1/1, step: 151/514310, loss: 0.16978827118873596\n",
      "epoch: 1/1, step: 152/514310, loss: 0.17016057670116425\n",
      "epoch: 1/1, step: 153/514310, loss: 0.16957584023475647\n",
      "epoch: 1/1, step: 154/514310, loss: 0.1695573627948761\n",
      "epoch: 1/1, step: 155/514310, loss: 0.1693008691072464\n",
      "epoch: 1/1, step: 156/514310, loss: 0.16924455761909485\n",
      "epoch: 1/1, step: 157/514310, loss: 0.16919538378715515\n",
      "epoch: 1/1, step: 158/514310, loss: 0.16904829442501068\n",
      "epoch: 1/1, step: 159/514310, loss: 0.1692807823419571\n",
      "epoch: 1/1, step: 160/514310, loss: 0.16874641180038452\n",
      "epoch: 1/1, step: 161/514310, loss: 0.1689278930425644\n",
      "epoch: 1/1, step: 162/514310, loss: 0.16835655272006989\n",
      "epoch: 1/1, step: 163/514310, loss: 0.1688038557767868\n",
      "epoch: 1/1, step: 164/514310, loss: 0.16816800832748413\n",
      "epoch: 1/1, step: 165/514310, loss: 0.16802345216274261\n",
      "epoch: 1/1, step: 166/514310, loss: 0.1680043637752533\n",
      "epoch: 1/1, step: 167/514310, loss: 0.1678299754858017\n",
      "epoch: 1/1, step: 168/514310, loss: 0.16818119585514069\n",
      "epoch: 1/1, step: 169/514310, loss: 0.1676708161830902\n",
      "epoch: 1/1, step: 170/514310, loss: 0.16730116307735443\n",
      "epoch: 1/1, step: 171/514310, loss: 0.1672542542219162\n",
      "epoch: 1/1, step: 172/514310, loss: 0.16719134151935577\n",
      "epoch: 1/1, step: 173/514310, loss: 0.167618066072464\n",
      "epoch: 1/1, step: 174/514310, loss: 0.16719278693199158\n",
      "epoch: 1/1, step: 175/514310, loss: 0.16668273508548737\n",
      "epoch: 1/1, step: 176/514310, loss: 0.1668570637702942\n",
      "epoch: 1/1, step: 177/514310, loss: 0.16644249856472015\n",
      "epoch: 1/1, step: 178/514310, loss: 0.16653509438037872\n",
      "epoch: 1/1, step: 179/514310, loss: 0.16610224545001984\n",
      "epoch: 1/1, step: 180/514310, loss: 0.1663343608379364\n",
      "epoch: 1/1, step: 181/514310, loss: 0.16594074666500092\n",
      "epoch: 1/1, step: 182/514310, loss: 0.16639846563339233\n",
      "epoch: 1/1, step: 183/514310, loss: 0.1655551791191101\n",
      "epoch: 1/1, step: 184/514310, loss: 0.16583915054798126\n",
      "epoch: 1/1, step: 185/514310, loss: 0.16583910584449768\n",
      "epoch: 1/1, step: 186/514310, loss: 0.16583096981048584\n",
      "epoch: 1/1, step: 187/514310, loss: 0.1652529239654541\n",
      "epoch: 1/1, step: 188/514310, loss: 0.16521072387695312\n",
      "epoch: 1/1, step: 189/514310, loss: 0.16509845852851868\n",
      "epoch: 1/1, step: 190/514310, loss: 0.1651855707168579\n",
      "epoch: 1/1, step: 191/514310, loss: 0.16499242186546326\n",
      "epoch: 1/1, step: 192/514310, loss: 0.1646895855665207\n",
      "epoch: 1/1, step: 193/514310, loss: 0.16454365849494934\n",
      "epoch: 1/1, step: 194/514310, loss: 0.1647900938987732\n",
      "epoch: 1/1, step: 195/514310, loss: 0.1645248830318451\n",
      "epoch: 1/1, step: 196/514310, loss: 0.16451799869537354\n",
      "epoch: 1/1, step: 197/514310, loss: 0.1641928255558014\n",
      "epoch: 1/1, step: 198/514310, loss: 0.16404125094413757\n",
      "epoch: 1/1, step: 199/514310, loss: 0.1641121506690979\n",
      "epoch: 1/1, step: 200/514310, loss: 0.1639612466096878\n",
      "epoch: 1/1, step: 201/514310, loss: 0.16338369250297546\n",
      "epoch: 1/1, step: 202/514310, loss: 0.16331860423088074\n",
      "epoch: 1/1, step: 203/514310, loss: 0.162857323884964\n",
      "epoch: 1/1, step: 204/514310, loss: 0.16313034296035767\n",
      "epoch: 1/1, step: 205/514310, loss: 0.1630305051803589\n",
      "epoch: 1/1, step: 206/514310, loss: 0.16307160258293152\n",
      "epoch: 1/1, step: 207/514310, loss: 0.1629859060049057\n",
      "epoch: 1/1, step: 208/514310, loss: 0.1623745560646057\n",
      "epoch: 1/1, step: 209/514310, loss: 0.16246436536312103\n",
      "epoch: 1/1, step: 210/514310, loss: 0.1626574695110321\n",
      "epoch: 1/1, step: 211/514310, loss: 0.16249161958694458\n",
      "epoch: 1/1, step: 212/514310, loss: 0.16220752894878387\n",
      "epoch: 1/1, step: 213/514310, loss: 0.16208672523498535\n",
      "epoch: 1/1, step: 214/514310, loss: 0.16150948405265808\n",
      "epoch: 1/1, step: 215/514310, loss: 0.16159315407276154\n",
      "epoch: 1/1, step: 216/514310, loss: 0.1612848937511444\n",
      "epoch: 1/1, step: 217/514310, loss: 0.16123495995998383\n",
      "epoch: 1/1, step: 218/514310, loss: 0.16104908287525177\n",
      "epoch: 1/1, step: 219/514310, loss: 0.16127648949623108\n",
      "epoch: 1/1, step: 220/514310, loss: 0.1610303670167923\n",
      "epoch: 1/1, step: 221/514310, loss: 0.1607266366481781\n",
      "epoch: 1/1, step: 222/514310, loss: 0.16104047000408173\n",
      "epoch: 1/1, step: 223/514310, loss: 0.16096501052379608\n",
      "epoch: 1/1, step: 224/514310, loss: 0.16048143804073334\n",
      "epoch: 1/1, step: 225/514310, loss: 0.1605498045682907\n",
      "epoch: 1/1, step: 226/514310, loss: 0.16074839234352112\n",
      "epoch: 1/1, step: 227/514310, loss: 0.15979842841625214\n",
      "epoch: 1/1, step: 228/514310, loss: 0.16007374227046967\n",
      "epoch: 1/1, step: 229/514310, loss: 0.16013824939727783\n",
      "epoch: 1/1, step: 230/514310, loss: 0.15923693776130676\n",
      "epoch: 1/1, step: 231/514310, loss: 0.15987487137317657\n",
      "epoch: 1/1, step: 232/514310, loss: 0.15954415500164032\n",
      "epoch: 1/1, step: 233/514310, loss: 0.1593443602323532\n",
      "epoch: 1/1, step: 234/514310, loss: 0.1590399593114853\n",
      "epoch: 1/1, step: 235/514310, loss: 0.15891119837760925\n",
      "epoch: 1/1, step: 236/514310, loss: 0.15910418331623077\n",
      "epoch: 1/1, step: 237/514310, loss: 0.15872722864151\n",
      "epoch: 1/1, step: 238/514310, loss: 0.15827547013759613\n",
      "epoch: 1/1, step: 239/514310, loss: 0.1584082543849945\n",
      "epoch: 1/1, step: 240/514310, loss: 0.15816131234169006\n",
      "epoch: 1/1, step: 241/514310, loss: 0.15806226432323456\n",
      "epoch: 1/1, step: 242/514310, loss: 0.1581067144870758\n",
      "epoch: 1/1, step: 243/514310, loss: 0.15774273872375488\n",
      "epoch: 1/1, step: 244/514310, loss: 0.15784364938735962\n",
      "epoch: 1/1, step: 245/514310, loss: 0.1575770080089569\n",
      "epoch: 1/1, step: 246/514310, loss: 0.15760426223278046\n",
      "epoch: 1/1, step: 247/514310, loss: 0.1570659726858139\n",
      "epoch: 1/1, step: 248/514310, loss: 0.15713423490524292\n",
      "epoch: 1/1, step: 249/514310, loss: 0.15691493451595306\n",
      "epoch: 1/1, step: 250/514310, loss: 0.1570884734392166\n",
      "epoch: 1/1, step: 251/514310, loss: 0.15674184262752533\n",
      "epoch: 1/1, step: 252/514310, loss: 0.1566581279039383\n",
      "epoch: 1/1, step: 253/514310, loss: 0.15661174058914185\n",
      "epoch: 1/1, step: 254/514310, loss: 0.15626001358032227\n",
      "epoch: 1/1, step: 255/514310, loss: 0.1562003791332245\n",
      "epoch: 1/1, step: 256/514310, loss: 0.1560634970664978\n",
      "epoch: 1/1, step: 257/514310, loss: 0.156140998005867\n",
      "epoch: 1/1, step: 258/514310, loss: 0.15611791610717773\n",
      "epoch: 1/1, step: 259/514310, loss: 0.15643760561943054\n",
      "epoch: 1/1, step: 260/514310, loss: 0.15559202432632446\n",
      "epoch: 1/1, step: 261/514310, loss: 0.15519841015338898\n",
      "epoch: 1/1, step: 262/514310, loss: 0.1551438570022583\n",
      "epoch: 1/1, step: 263/514310, loss: 0.1552419364452362\n",
      "epoch: 1/1, step: 264/514310, loss: 0.15507076680660248\n",
      "epoch: 1/1, step: 265/514310, loss: 0.15503309667110443\n",
      "epoch: 1/1, step: 266/514310, loss: 0.15416236221790314\n",
      "epoch: 1/1, step: 267/514310, loss: 0.15475544333457947\n",
      "epoch: 1/1, step: 268/514310, loss: 0.15502679347991943\n",
      "epoch: 1/1, step: 269/514310, loss: 0.1541588008403778\n",
      "epoch: 1/1, step: 270/514310, loss: 0.15410059690475464\n",
      "epoch: 1/1, step: 271/514310, loss: 0.15435324609279633\n",
      "epoch: 1/1, step: 272/514310, loss: 0.15408651530742645\n",
      "epoch: 1/1, step: 273/514310, loss: 0.15396744012832642\n",
      "epoch: 1/1, step: 274/514310, loss: 0.15385062992572784\n",
      "epoch: 1/1, step: 275/514310, loss: 0.15374937653541565\n",
      "epoch: 1/1, step: 276/514310, loss: 0.1536303013563156\n",
      "epoch: 1/1, step: 277/514310, loss: 0.1536933034658432\n",
      "epoch: 1/1, step: 278/514310, loss: 0.15314491093158722\n",
      "epoch: 1/1, step: 279/514310, loss: 0.1529756784439087\n",
      "epoch: 1/1, step: 280/514310, loss: 0.15333645045757294\n",
      "epoch: 1/1, step: 281/514310, loss: 0.15273283421993256\n",
      "epoch: 1/1, step: 282/514310, loss: 0.15275967121124268\n",
      "epoch: 1/1, step: 283/514310, loss: 0.15266160666942596\n",
      "epoch: 1/1, step: 284/514310, loss: 0.15252666175365448\n",
      "epoch: 1/1, step: 285/514310, loss: 0.15224850177764893\n",
      "epoch: 1/1, step: 286/514310, loss: 0.1520419418811798\n",
      "epoch: 1/1, step: 287/514310, loss: 0.15236437320709229\n",
      "epoch: 1/1, step: 288/514310, loss: 0.15193793177604675\n",
      "epoch: 1/1, step: 289/514310, loss: 0.15193802118301392\n",
      "epoch: 1/1, step: 290/514310, loss: 0.15129218995571136\n",
      "epoch: 1/1, step: 291/514310, loss: 0.15128883719444275\n",
      "epoch: 1/1, step: 292/514310, loss: 0.15140584111213684\n",
      "epoch: 1/1, step: 293/514310, loss: 0.15105080604553223\n",
      "epoch: 1/1, step: 294/514310, loss: 0.15153904259204865\n",
      "epoch: 1/1, step: 295/514310, loss: 0.15076731145381927\n",
      "epoch: 1/1, step: 296/514310, loss: 0.15067176520824432\n",
      "epoch: 1/1, step: 297/514310, loss: 0.1508064717054367\n",
      "epoch: 1/1, step: 298/514310, loss: 0.15032055974006653\n",
      "epoch: 1/1, step: 299/514310, loss: 0.15035824477672577\n",
      "epoch: 1/1, step: 300/514310, loss: 0.15019407868385315\n",
      "epoch: 1/1, step: 301/514310, loss: 0.15012414753437042\n",
      "epoch: 1/1, step: 302/514310, loss: 0.15040931105613708\n",
      "epoch: 1/1, step: 303/514310, loss: 0.1500101387500763\n",
      "epoch: 1/1, step: 304/514310, loss: 0.14978833496570587\n",
      "epoch: 1/1, step: 305/514310, loss: 0.14970336854457855\n",
      "epoch: 1/1, step: 306/514310, loss: 0.14948326349258423\n",
      "epoch: 1/1, step: 307/514310, loss: 0.14959567785263062\n",
      "epoch: 1/1, step: 308/514310, loss: 0.1490313559770584\n",
      "epoch: 1/1, step: 309/514310, loss: 0.14932399988174438\n",
      "epoch: 1/1, step: 310/514310, loss: 0.14935943484306335\n",
      "epoch: 1/1, step: 311/514310, loss: 0.1491357982158661\n",
      "epoch: 1/1, step: 312/514310, loss: 0.14887742698192596\n",
      "epoch: 1/1, step: 313/514310, loss: 0.14884279668331146\n",
      "epoch: 1/1, step: 314/514310, loss: 0.14916282892227173\n",
      "epoch: 1/1, step: 315/514310, loss: 0.14854960143566132\n",
      "epoch: 1/1, step: 316/514310, loss: 0.14807751774787903\n",
      "epoch: 1/1, step: 317/514310, loss: 0.1481858789920807\n",
      "epoch: 1/1, step: 318/514310, loss: 0.1482328176498413\n",
      "epoch: 1/1, step: 319/514310, loss: 0.1479443907737732\n",
      "epoch: 1/1, step: 320/514310, loss: 0.14801311492919922\n",
      "epoch: 1/1, step: 321/514310, loss: 0.1476074904203415\n",
      "epoch: 1/1, step: 322/514310, loss: 0.14780175685882568\n",
      "epoch: 1/1, step: 323/514310, loss: 0.14775806665420532\n",
      "epoch: 1/1, step: 324/514310, loss: 0.14726613461971283\n",
      "epoch: 1/1, step: 325/514310, loss: 0.14712274074554443\n",
      "epoch: 1/1, step: 326/514310, loss: 0.14740365743637085\n",
      "epoch: 1/1, step: 327/514310, loss: 0.14737963676452637\n",
      "epoch: 1/1, step: 328/514310, loss: 0.14722543954849243\n",
      "epoch: 1/1, step: 329/514310, loss: 0.14678531885147095\n",
      "epoch: 1/1, step: 330/514310, loss: 0.14663414657115936\n",
      "epoch: 1/1, step: 331/514310, loss: 0.14698520302772522\n",
      "epoch: 1/1, step: 332/514310, loss: 0.146895170211792\n",
      "epoch: 1/1, step: 333/514310, loss: 0.14641129970550537\n",
      "epoch: 1/1, step: 334/514310, loss: 0.14667564630508423\n",
      "epoch: 1/1, step: 335/514310, loss: 0.14701445400714874\n",
      "epoch: 1/1, step: 336/514310, loss: 0.14599061012268066\n",
      "epoch: 1/1, step: 337/514310, loss: 0.14606106281280518\n",
      "epoch: 1/1, step: 338/514310, loss: 0.14577534794807434\n",
      "epoch: 1/1, step: 339/514310, loss: 0.14604850113391876\n",
      "epoch: 1/1, step: 340/514310, loss: 0.14574944972991943\n",
      "epoch: 1/1, step: 341/514310, loss: 0.14559464156627655\n",
      "epoch: 1/1, step: 342/514310, loss: 0.14573726058006287\n",
      "epoch: 1/1, step: 343/514310, loss: 0.1453661024570465\n",
      "epoch: 1/1, step: 344/514310, loss: 0.14544399082660675\n",
      "epoch: 1/1, step: 345/514310, loss: 0.14513783156871796\n",
      "epoch: 1/1, step: 346/514310, loss: 0.1449987143278122\n",
      "epoch: 1/1, step: 347/514310, loss: 0.14548034965991974\n",
      "epoch: 1/1, step: 348/514310, loss: 0.14512735605239868\n",
      "epoch: 1/1, step: 349/514310, loss: 0.1449168473482132\n",
      "epoch: 1/1, step: 350/514310, loss: 0.14458589255809784\n",
      "epoch: 1/1, step: 351/514310, loss: 0.1447763741016388\n",
      "epoch: 1/1, step: 352/514310, loss: 0.14524300396442413\n",
      "epoch: 1/1, step: 353/514310, loss: 0.1443851888179779\n",
      "epoch: 1/1, step: 354/514310, loss: 0.1445363610982895\n",
      "epoch: 1/1, step: 355/514310, loss: 0.14402683079242706\n",
      "epoch: 1/1, step: 356/514310, loss: 0.14418631792068481\n",
      "epoch: 1/1, step: 357/514310, loss: 0.14407432079315186\n",
      "epoch: 1/1, step: 358/514310, loss: 0.14394335448741913\n",
      "epoch: 1/1, step: 359/514310, loss: 0.14423950016498566\n",
      "epoch: 1/1, step: 360/514310, loss: 0.14341527223587036\n",
      "epoch: 1/1, step: 361/514310, loss: 0.14369817078113556\n",
      "epoch: 1/1, step: 362/514310, loss: 0.14359818398952484\n",
      "epoch: 1/1, step: 363/514310, loss: 0.14343030750751495\n",
      "epoch: 1/1, step: 364/514310, loss: 0.14362135529518127\n",
      "epoch: 1/1, step: 365/514310, loss: 0.14345014095306396\n",
      "epoch: 1/1, step: 366/514310, loss: 0.14338934421539307\n",
      "epoch: 1/1, step: 367/514310, loss: 0.14314880967140198\n",
      "epoch: 1/1, step: 368/514310, loss: 0.14337697625160217\n",
      "epoch: 1/1, step: 369/514310, loss: 0.14322718977928162\n",
      "epoch: 1/1, step: 370/514310, loss: 0.14318831264972687\n",
      "epoch: 1/1, step: 371/514310, loss: 0.14299075305461884\n",
      "epoch: 1/1, step: 372/514310, loss: 0.14253269135951996\n",
      "epoch: 1/1, step: 373/514310, loss: 0.14291778206825256\n",
      "epoch: 1/1, step: 374/514310, loss: 0.14289553463459015\n",
      "epoch: 1/1, step: 375/514310, loss: 0.14323543012142181\n",
      "epoch: 1/1, step: 376/514310, loss: 0.14271774888038635\n",
      "epoch: 1/1, step: 377/514310, loss: 0.14215506613254547\n",
      "epoch: 1/1, step: 378/514310, loss: 0.14223432540893555\n",
      "epoch: 1/1, step: 379/514310, loss: 0.14238616824150085\n",
      "epoch: 1/1, step: 380/514310, loss: 0.14181110262870789\n",
      "epoch: 1/1, step: 381/514310, loss: 0.14179657399654388\n",
      "epoch: 1/1, step: 382/514310, loss: 0.1418706476688385\n",
      "epoch: 1/1, step: 383/514310, loss: 0.14187677204608917\n",
      "epoch: 1/1, step: 384/514310, loss: 0.14177000522613525\n",
      "epoch: 1/1, step: 385/514310, loss: 0.14171381294727325\n",
      "epoch: 1/1, step: 386/514310, loss: 0.14160306751728058\n",
      "epoch: 1/1, step: 387/514310, loss: 0.14178326725959778\n",
      "epoch: 1/1, step: 388/514310, loss: 0.14133626222610474\n",
      "epoch: 1/1, step: 389/514310, loss: 0.141250342130661\n",
      "epoch: 1/1, step: 390/514310, loss: 0.14139533042907715\n",
      "epoch: 1/1, step: 391/514310, loss: 0.14122173190116882\n",
      "epoch: 1/1, step: 392/514310, loss: 0.1409350335597992\n",
      "epoch: 1/1, step: 393/514310, loss: 0.14077702164649963\n",
      "epoch: 1/1, step: 394/514310, loss: 0.141371488571167\n",
      "epoch: 1/1, step: 395/514310, loss: 0.14086978137493134\n",
      "epoch: 1/1, step: 396/514310, loss: 0.1411513239145279\n",
      "epoch: 1/1, step: 397/514310, loss: 0.14084267616271973\n",
      "epoch: 1/1, step: 398/514310, loss: 0.14059363305568695\n",
      "epoch: 1/1, step: 399/514310, loss: 0.14027146995067596\n",
      "epoch: 1/1, step: 400/514310, loss: 0.1407630890607834\n",
      "epoch: 1/1, step: 401/514310, loss: 0.14061665534973145\n",
      "epoch: 1/1, step: 402/514310, loss: 0.1407683938741684\n",
      "epoch: 1/1, step: 403/514310, loss: 0.1401602327823639\n",
      "epoch: 1/1, step: 404/514310, loss: 0.14019839465618134\n",
      "epoch: 1/1, step: 405/514310, loss: 0.13971102237701416\n",
      "epoch: 1/1, step: 406/514310, loss: 0.13993225991725922\n",
      "epoch: 1/1, step: 407/514310, loss: 0.1406630426645279\n",
      "epoch: 1/1, step: 408/514310, loss: 0.14000876247882843\n",
      "epoch: 1/1, step: 409/514310, loss: 0.1396794468164444\n",
      "epoch: 1/1, step: 410/514310, loss: 0.14002631604671478\n",
      "epoch: 1/1, step: 411/514310, loss: 0.1395801603794098\n",
      "epoch: 1/1, step: 412/514310, loss: 0.13972996175289154\n",
      "epoch: 1/1, step: 413/514310, loss: 0.13937774300575256\n",
      "epoch: 1/1, step: 414/514310, loss: 0.13932637870311737\n",
      "epoch: 1/1, step: 415/514310, loss: 0.13991707563400269\n",
      "epoch: 1/1, step: 416/514310, loss: 0.13918043673038483\n",
      "epoch: 1/1, step: 417/514310, loss: 0.13962304592132568\n",
      "epoch: 1/1, step: 418/514310, loss: 0.13927122950553894\n",
      "epoch: 1/1, step: 419/514310, loss: 0.1391477882862091\n",
      "epoch: 1/1, step: 420/514310, loss: 0.13940539956092834\n",
      "epoch: 1/1, step: 421/514310, loss: 0.13898086547851562\n",
      "epoch: 1/1, step: 422/514310, loss: 0.13882999122142792\n",
      "epoch: 1/1, step: 423/514310, loss: 0.13914857804775238\n",
      "epoch: 1/1, step: 424/514310, loss: 0.13873586058616638\n",
      "epoch: 1/1, step: 425/514310, loss: 0.1389296054840088\n",
      "epoch: 1/1, step: 426/514310, loss: 0.13919642567634583\n",
      "epoch: 1/1, step: 427/514310, loss: 0.13855266571044922\n",
      "epoch: 1/1, step: 428/514310, loss: 0.13862155377864838\n",
      "epoch: 1/1, step: 429/514310, loss: 0.13867835700511932\n",
      "epoch: 1/1, step: 430/514310, loss: 0.13838472962379456\n",
      "epoch: 1/1, step: 431/514310, loss: 0.13868629932403564\n",
      "epoch: 1/1, step: 432/514310, loss: 0.13843843340873718\n",
      "epoch: 1/1, step: 433/514310, loss: 0.13845258951187134\n",
      "epoch: 1/1, step: 434/514310, loss: 0.1383533924818039\n",
      "epoch: 1/1, step: 435/514310, loss: 0.13851484656333923\n",
      "epoch: 1/1, step: 436/514310, loss: 0.13805703818798065\n",
      "epoch: 1/1, step: 437/514310, loss: 0.1383502036333084\n",
      "epoch: 1/1, step: 438/514310, loss: 0.13780657947063446\n",
      "epoch: 1/1, step: 439/514310, loss: 0.13790476322174072\n",
      "epoch: 1/1, step: 440/514310, loss: 0.13787269592285156\n",
      "epoch: 1/1, step: 441/514310, loss: 0.13834716379642487\n",
      "epoch: 1/1, step: 442/514310, loss: 0.1379147171974182\n",
      "epoch: 1/1, step: 443/514310, loss: 0.13788995146751404\n",
      "epoch: 1/1, step: 444/514310, loss: 0.1379668265581131\n",
      "epoch: 1/1, step: 445/514310, loss: 0.1376185417175293\n",
      "epoch: 1/1, step: 446/514310, loss: 0.13768869638442993\n",
      "epoch: 1/1, step: 447/514310, loss: 0.13766653835773468\n",
      "epoch: 1/1, step: 448/514310, loss: 0.13720087707042694\n",
      "epoch: 1/1, step: 449/514310, loss: 0.13733190298080444\n",
      "epoch: 1/1, step: 450/514310, loss: 0.1376262605190277\n",
      "epoch: 1/1, step: 451/514310, loss: 0.13740669190883636\n",
      "epoch: 1/1, step: 452/514310, loss: 0.13723821938037872\n",
      "epoch: 1/1, step: 453/514310, loss: 0.1372869610786438\n",
      "epoch: 1/1, step: 454/514310, loss: 0.13777226209640503\n",
      "epoch: 1/1, step: 455/514310, loss: 0.13715988397598267\n",
      "epoch: 1/1, step: 456/514310, loss: 0.1372252255678177\n",
      "epoch: 1/1, step: 457/514310, loss: 0.13657337427139282\n",
      "epoch: 1/1, step: 458/514310, loss: 0.13701698184013367\n",
      "epoch: 1/1, step: 459/514310, loss: 0.13718102872371674\n",
      "epoch: 1/1, step: 460/514310, loss: 0.13694778084754944\n",
      "epoch: 1/1, step: 461/514310, loss: 0.13688668608665466\n",
      "epoch: 1/1, step: 462/514310, loss: 0.1369680017232895\n",
      "epoch: 1/1, step: 463/514310, loss: 0.13706722855567932\n",
      "epoch: 1/1, step: 464/514310, loss: 0.13691778481006622\n",
      "epoch: 1/1, step: 465/514310, loss: 0.13670557737350464\n",
      "epoch: 1/1, step: 466/514310, loss: 0.13682983815670013\n",
      "epoch: 1/1, step: 467/514310, loss: 0.1370861530303955\n",
      "epoch: 1/1, step: 468/514310, loss: 0.13671062886714935\n",
      "epoch: 1/1, step: 469/514310, loss: 0.1366419494152069\n",
      "epoch: 1/1, step: 470/514310, loss: 0.13661059737205505\n",
      "epoch: 1/1, step: 471/514310, loss: 0.1367442011833191\n",
      "epoch: 1/1, step: 472/514310, loss: 0.13662490248680115\n",
      "epoch: 1/1, step: 473/514310, loss: 0.13660898804664612\n",
      "epoch: 1/1, step: 474/514310, loss: 0.13672201335430145\n",
      "epoch: 1/1, step: 475/514310, loss: 0.1363278031349182\n",
      "epoch: 1/1, step: 476/514310, loss: 0.1363999843597412\n",
      "epoch: 1/1, step: 477/514310, loss: 0.13662724196910858\n",
      "epoch: 1/1, step: 478/514310, loss: 0.13661052286624908\n",
      "epoch: 1/1, step: 479/514310, loss: 0.13627663254737854\n",
      "epoch: 1/1, step: 480/514310, loss: 0.1365904062986374\n",
      "epoch: 1/1, step: 481/514310, loss: 0.13642661273479462\n",
      "epoch: 1/1, step: 482/514310, loss: 0.13656099140644073\n",
      "epoch: 1/1, step: 483/514310, loss: 0.13660931587219238\n",
      "epoch: 1/1, step: 484/514310, loss: 0.13636398315429688\n",
      "epoch: 1/1, step: 485/514310, loss: 0.13614825904369354\n",
      "epoch: 1/1, step: 486/514310, loss: 0.1362268179655075\n",
      "epoch: 1/1, step: 487/514310, loss: 0.13633403182029724\n",
      "epoch: 1/1, step: 488/514310, loss: 0.1359792798757553\n",
      "epoch: 1/1, step: 489/514310, loss: 0.13582083582878113\n",
      "epoch: 1/1, step: 490/514310, loss: 0.13600370287895203\n",
      "epoch: 1/1, step: 491/514310, loss: 0.13660544157028198\n",
      "epoch: 1/1, step: 492/514310, loss: 0.13574428856372833\n",
      "epoch: 1/1, step: 493/514310, loss: 0.13596504926681519\n",
      "epoch: 1/1, step: 494/514310, loss: 0.13584326207637787\n",
      "epoch: 1/1, step: 495/514310, loss: 0.13575583696365356\n",
      "epoch: 1/1, step: 496/514310, loss: 0.13540470600128174\n",
      "epoch: 1/1, step: 497/514310, loss: 0.13545718789100647\n",
      "epoch: 1/1, step: 498/514310, loss: 0.13574108481407166\n",
      "epoch: 1/1, step: 499/514310, loss: 0.13560478389263153\n",
      "epoch: 1/1, step: 500/514310, loss: 0.13549725711345673\n",
      "epoch: 1/1, step: 501/514310, loss: 0.1359255611896515\n",
      "epoch: 1/1, step: 502/514310, loss: 0.13556157052516937\n",
      "epoch: 1/1, step: 503/514310, loss: 0.13570617139339447\n",
      "epoch: 1/1, step: 504/514310, loss: 0.13552109897136688\n",
      "epoch: 1/1, step: 505/514310, loss: 0.1354680359363556\n",
      "epoch: 1/1, step: 506/514310, loss: 0.13546840846538544\n",
      "epoch: 1/1, step: 507/514310, loss: 0.13583695888519287\n",
      "epoch: 1/1, step: 508/514310, loss: 0.13490042090415955\n",
      "epoch: 1/1, step: 509/514310, loss: 0.13522982597351074\n",
      "epoch: 1/1, step: 510/514310, loss: 0.13541367650032043\n",
      "epoch: 1/1, step: 511/514310, loss: 0.135469451546669\n",
      "epoch: 1/1, step: 512/514310, loss: 0.1354893147945404\n",
      "epoch: 1/1, step: 513/514310, loss: 0.13485229015350342\n",
      "epoch: 1/1, step: 514/514310, loss: 0.13488449156284332\n",
      "epoch: 1/1, step: 515/514310, loss: 0.1355958729982376\n",
      "epoch: 1/1, step: 516/514310, loss: 0.13502317667007446\n",
      "epoch: 1/1, step: 517/514310, loss: 0.1352425366640091\n",
      "epoch: 1/1, step: 518/514310, loss: 0.13490581512451172\n",
      "epoch: 1/1, step: 519/514310, loss: 0.13507714867591858\n",
      "epoch: 1/1, step: 520/514310, loss: 0.1355164498090744\n",
      "epoch: 1/1, step: 521/514310, loss: 0.1350511908531189\n",
      "epoch: 1/1, step: 522/514310, loss: 0.13465648889541626\n",
      "epoch: 1/1, step: 523/514310, loss: 0.13479061424732208\n",
      "epoch: 1/1, step: 524/514310, loss: 0.13498620688915253\n",
      "epoch: 1/1, step: 525/514310, loss: 0.13503596186637878\n",
      "epoch: 1/1, step: 526/514310, loss: 0.1350909322500229\n",
      "epoch: 1/1, step: 527/514310, loss: 0.13489246368408203\n",
      "epoch: 1/1, step: 528/514310, loss: 0.13533058762550354\n",
      "epoch: 1/1, step: 529/514310, loss: 0.13512878119945526\n",
      "epoch: 1/1, step: 530/514310, loss: 0.13478106260299683\n",
      "epoch: 1/1, step: 531/514310, loss: 0.13472811877727509\n",
      "epoch: 1/1, step: 532/514310, loss: 0.13456577062606812\n",
      "epoch: 1/1, step: 533/514310, loss: 0.13470306992530823\n"
     ]
    }
   ],
   "source": [
    "lr = 1e-4\n",
    "nero_params = [p for n, p in nero_model.named_parameters() if p.requires_grad]\n",
    "optimizer = torch.optim.Adam(nero_params, lr=lr)\n",
    "\n",
    "num_epochs = 1\n",
    "for epoch in range(num_epochs):\n",
    "    for step, batch in enumerate(train_loader):\n",
    "        optimizer.zero_grad()\n",
    "\n",
    "        input_ids = batch['input_ids'].to(device)\n",
    "        attention_mask = batch['attention_mask'].to(device)\n",
    "        labels = batch['labels'].to(device)\n",
    "\n",
    "        _, nero_outs = nero_model(input_ids=input_ids, attention_mask=attention_mask)\n",
    "        _, lora_outs = lora_model(input_ids=input_ids, attention_mask=attention_mask)\n",
    "\n",
    "        # print(\"================================================================\")\n",
    "        # print(\"nero_outs:\", nero_outs)\n",
    "        # print(\"lora_outs:\", lora_outs)\n",
    "        # print()\n",
    "\n",
    "        loss = loss_func_v3(nero_outs, lora_outs, debug=False)\n",
    "\n",
    "        # print(\"================================================================\")\n",
    "        # print(\"LOSS\")\n",
    "        # print(\"================================================================\")\n",
    "        # print(\"loss:\", loss)\n",
    "\n",
    "        loss.backward()\n",
    "        optimizer.step()\n",
    "        \n",
    "        print(f\"epoch: {epoch + 1}/{num_epochs}, step: {step + 1}/{len(train_loader)}, loss: {loss.item()}\")\n",
    "        # break"
   ]
  },
  {
   "cell_type": "code",
   "execution_count": 43,
   "metadata": {},
   "outputs": [
    {
     "name": "stdout",
     "output_type": "stream",
     "text": [
      "tensor(0.3337, device='cuda:0', dtype=torch.float16)\n"
     ]
    }
   ],
   "source": [
    "diff = torch.rand_like(_nero_out) - torch.rand_like(_lora_out)  # Uniform noise\n",
    "mae = diff.abs().mean()\n",
    "print(mae)"
   ]
  },
  {
   "cell_type": "code",
   "execution_count": 44,
   "metadata": {},
   "outputs": [
    {
     "name": "stdout",
     "output_type": "stream",
     "text": [
      "cosine similarity: 0.0115203857421875\n"
     ]
    }
   ],
   "source": [
    "cos_sim = F.cosine_similarity(_nero_out.flatten(1), _lora_out.flatten(1), dim=-1).mean()\n",
    "print(\"cosine similarity:\", cos_sim.item())"
   ]
  },
  {
   "cell_type": "markdown",
   "metadata": {},
   "source": []
  },
  {
   "cell_type": "code",
   "execution_count": 32,
   "metadata": {},
   "outputs": [
    {
     "data": {
      "text/plain": [
       "tensor(inf, device='cuda:0', dtype=torch.float16, grad_fn=<MseLossBackward0>)"
      ]
     },
     "execution_count": 32,
     "metadata": {},
     "output_type": "execute_result"
    }
   ],
   "source": [
    "# torch.isnan(_nero_out).any() # False\n",
    "# torch.isnan(_lora_out).any() # False\n",
    "# torch.isinf(_nero_out).any() # False\n",
    "# torch.isinf(_lora_out).any() # False\n",
    "F.mse_loss(_nero_out, _lora_out, reduction='sum')"
   ]
  },
  {
   "cell_type": "code",
   "execution_count": 41,
   "metadata": {},
   "outputs": [
    {
     "name": "stdout",
     "output_type": "stream",
     "text": [
      "_nero_out.dtype: torch.float16\n",
      "_lora_out.dtype: torch.float16\n",
      "_nero_out.shape: torch.Size([4, 16, 14336])\n",
      "_nero_out.abs().max(): tensor(0.7070, device='cuda:0', dtype=torch.float16, grad_fn=<MaxBackward1>)\n",
      "_lora_out.abs().max(): tensor(0.0555, device='cuda:0', dtype=torch.float16)\n",
      "(_nero_out - _lora_out).abs().max(): tensor(0.7393, device='cuda:0', dtype=torch.float16, grad_fn=<MaxBackward1>)\n",
      "F.mse_loss(_nero_out, _lora_out, reduction='mean'): tensor(0.0822, device='cuda:0', dtype=torch.float16,\n",
      "       grad_fn=<MseLossBackward0>)\n",
      "F.mse_loss(_nero_out, _lora_out, reduction='sum'): tensor(inf, device='cuda:0', dtype=torch.float16, grad_fn=<MseLossBackward0>)\n"
     ]
    }
   ],
   "source": [
    "print(\"_nero_out.dtype:\", _nero_out.dtype)\n",
    "print(\"_lora_out.dtype:\", _lora_out.dtype)\n",
    "print(\"_nero_out.shape:\", _nero_out.shape)\n",
    "print(\"_nero_out.abs().max():\", _nero_out.abs().max())\n",
    "print(\"_lora_out.abs().max():\", _lora_out.abs().max())\n",
    "print(\"(_nero_out - _lora_out).abs().max():\", (_nero_out - _lora_out).abs().max())\n",
    "print(\"F.mse_loss(_nero_out, _lora_out, reduction='mean'):\", F.mse_loss(_nero_out, _lora_out, reduction='mean'))\n",
    "print(\"F.mse_loss(_nero_out, _lora_out, reduction='sum'):\", F.mse_loss(_nero_out, _lora_out, reduction='sum'))"
   ]
  },
  {
   "cell_type": "code",
   "execution_count": 24,
   "metadata": {},
   "outputs": [
    {
     "name": "stdout",
     "output_type": "stream",
     "text": [
      "15571826176\n",
      "15571826176\n"
     ]
    }
   ],
   "source": [
    "print(torch.cuda.memory_allocated())\n",
    "\n",
    "# if 'base_model' in globals():\n",
    "#     # base_model.to('cpu')\n",
    "#     del base_model\n",
    "\n",
    "gc.collect()\n",
    "torch.cuda.empty_cache()\n",
    "print(torch.cuda.memory_allocated())"
   ]
  },
  {
   "cell_type": "code",
   "execution_count": 37,
   "metadata": {},
   "outputs": [
    {
     "data": {
      "application/javascript": "window[\"cfa34a16-6e12-11f0-831c-0242ac1c000c\"] = element_size();\n//# sourceURL=js_a6be43ec1d",
      "text/plain": [
       "<IPython.core.display.Javascript object>"
      ]
     },
     "metadata": {},
     "output_type": "display_data"
    },
    {
     "data": {
      "application/javascript": "window[\"cfa377ac-6e12-11f0-831c-0242ac1c000c\"] = nelement();\n//# sourceURL=js_7cd5fa284f",
      "text/plain": [
       "<IPython.core.display.Javascript object>"
      ]
     },
     "metadata": {},
     "output_type": "display_data"
    },
    {
     "data": {
      "application/javascript": "window[\"cfa3aef2-6e12-11f0-831c-0242ac1c000c\"] = window[\"cfa34a16-6e12-11f0-831c-0242ac1c000c\"] * window[\"cfa377ac-6e12-11f0-831c-0242ac1c000c\"];\n//# sourceURL=js_6164c93e23",
      "text/plain": [
       "<IPython.core.display.Javascript object>"
      ]
     },
     "metadata": {},
     "output_type": "display_data"
    },
    {
     "data": {
      "application/javascript": "window[\"cfa3d86e-6e12-11f0-831c-0242ac1c000c\"] = google.colab.element_size();\n//# sourceURL=js_9459bbebe4",
      "text/plain": [
       "<IPython.core.display.Javascript object>"
      ]
     },
     "metadata": {},
     "output_type": "display_data"
    },
    {
     "data": {
      "application/javascript": "window[\"cfa4074e-6e12-11f0-831c-0242ac1c000c\"] = google.colab.nelement();\n//# sourceURL=js_b83af68ff8",
      "text/plain": [
       "<IPython.core.display.Javascript object>"
      ]
     },
     "metadata": {},
     "output_type": "display_data"
    },
    {
     "data": {
      "application/javascript": "window[\"cfa42c88-6e12-11f0-831c-0242ac1c000c\"] = window[\"cfa3d86e-6e12-11f0-831c-0242ac1c000c\"] * window[\"cfa4074e-6e12-11f0-831c-0242ac1c000c\"];\n//# sourceURL=js_ccfec0fca1",
      "text/plain": [
       "<IPython.core.display.Javascript object>"
      ]
     },
     "metadata": {},
     "output_type": "display_data"
    },
    {
     "name": "stdout",
     "output_type": "stream",
     "text": [
      "Tensor: <class 'torch.nn.parameter.Parameter'>, Size: torch.Size([128256, 4096]), Memory: 1002.00 MB\n",
      "Tensor: <class 'torch.Tensor'>, Size: torch.Size([1, 14, 128256]), Memory: 3.42 MB\n",
      "Tensor: <class 'torch.nn.parameter.Parameter'>, Size: torch.Size([128256, 4096]), Memory: 1002.00 MB\n",
      "Tensor: <class 'torch.Tensor'>, Size: torch.Size([1, 8388608]), Memory: 8.00 MB\n",
      "Tensor: <class 'torch.Tensor'>, Size: torch.Size([1, 29360128]), Memory: 28.00 MB\n",
      "Tensor: <class 'torch.Tensor'>, Size: torch.Size([1, 29360128]), Memory: 28.00 MB\n",
      "Tensor: <class 'torch.Tensor'>, Size: torch.Size([1, 29360128]), Memory: 28.00 MB\n",
      "Tensor: <class 'torch.Tensor'>, Size: torch.Size([1, 8388608]), Memory: 8.00 MB\n",
      "Tensor: <class 'torch.Tensor'>, Size: torch.Size([1, 2097152]), Memory: 2.00 MB\n",
      "Tensor: <class 'torch.Tensor'>, Size: torch.Size([1, 2097152]), Memory: 2.00 MB\n",
      "Tensor: <class 'torch.Tensor'>, Size: torch.Size([1, 8388608]), Memory: 8.00 MB\n",
      "Tensor: <class 'torch.Tensor'>, Size: torch.Size([1, 2097152]), Memory: 2.00 MB\n",
      "Tensor: <class 'torch.Tensor'>, Size: torch.Size([1, 2097152]), Memory: 2.00 MB\n",
      "Tensor: <class 'torch.Tensor'>, Size: torch.Size([1, 8388608]), Memory: 8.00 MB\n",
      "Tensor: <class 'torch.Tensor'>, Size: torch.Size([1, 29360128]), Memory: 28.00 MB\n",
      "Tensor: <class 'torch.Tensor'>, Size: torch.Size([1, 29360128]), Memory: 28.00 MB\n",
      "Tensor: <class 'torch.Tensor'>, Size: torch.Size([1, 29360128]), Memory: 28.00 MB\n",
      "Tensor: <class 'torch.Tensor'>, Size: torch.Size([1, 8388608]), Memory: 8.00 MB\n",
      "Tensor: <class 'torch.Tensor'>, Size: torch.Size([1, 2097152]), Memory: 2.00 MB\n",
      "Tensor: <class 'torch.Tensor'>, Size: torch.Size([1, 2097152]), Memory: 2.00 MB\n",
      "Tensor: <class 'torch.Tensor'>, Size: torch.Size([1, 8388608]), Memory: 8.00 MB\n",
      "Tensor: <class 'torch.Tensor'>, Size: torch.Size([1, 29360128]), Memory: 28.00 MB\n",
      "Tensor: <class 'torch.Tensor'>, Size: torch.Size([1, 29360128]), Memory: 28.00 MB\n",
      "Tensor: <class 'torch.Tensor'>, Size: torch.Size([1, 29360128]), Memory: 28.00 MB\n",
      "Tensor: <class 'torch.Tensor'>, Size: torch.Size([1, 8388608]), Memory: 8.00 MB\n",
      "Tensor: <class 'torch.Tensor'>, Size: torch.Size([1, 2097152]), Memory: 2.00 MB\n",
      "Tensor: <class 'torch.Tensor'>, Size: torch.Size([1, 2097152]), Memory: 2.00 MB\n",
      "Tensor: <class 'torch.Tensor'>, Size: torch.Size([1, 8388608]), Memory: 8.00 MB\n",
      "Tensor: <class 'torch.Tensor'>, Size: torch.Size([1, 29360128]), Memory: 28.00 MB\n",
      "Tensor: <class 'torch.Tensor'>, Size: torch.Size([1, 29360128]), Memory: 28.00 MB\n",
      "Tensor: <class 'torch.Tensor'>, Size: torch.Size([1, 29360128]), Memory: 28.00 MB\n",
      "Tensor: <class 'torch.Tensor'>, Size: torch.Size([1, 8388608]), Memory: 8.00 MB\n",
      "Tensor: <class 'torch.Tensor'>, Size: torch.Size([1, 2097152]), Memory: 2.00 MB\n",
      "Tensor: <class 'torch.Tensor'>, Size: torch.Size([1, 2097152]), Memory: 2.00 MB\n",
      "Tensor: <class 'torch.Tensor'>, Size: torch.Size([1, 8388608]), Memory: 8.00 MB\n",
      "Tensor: <class 'torch.Tensor'>, Size: torch.Size([1, 29360128]), Memory: 28.00 MB\n",
      "Tensor: <class 'torch.Tensor'>, Size: torch.Size([1, 29360128]), Memory: 28.00 MB\n",
      "Tensor: <class 'torch.Tensor'>, Size: torch.Size([1, 29360128]), Memory: 28.00 MB\n",
      "Tensor: <class 'torch.Tensor'>, Size: torch.Size([1, 8388608]), Memory: 8.00 MB\n",
      "Tensor: <class 'torch.Tensor'>, Size: torch.Size([1, 2097152]), Memory: 2.00 MB\n",
      "Tensor: <class 'torch.Tensor'>, Size: torch.Size([1, 2097152]), Memory: 2.00 MB\n",
      "Tensor: <class 'torch.Tensor'>, Size: torch.Size([1, 8388608]), Memory: 8.00 MB\n",
      "Tensor: <class 'torch.Tensor'>, Size: torch.Size([1, 29360128]), Memory: 28.00 MB\n",
      "Tensor: <class 'torch.Tensor'>, Size: torch.Size([1, 29360128]), Memory: 28.00 MB\n",
      "Tensor: <class 'torch.Tensor'>, Size: torch.Size([1, 29360128]), Memory: 28.00 MB\n",
      "Tensor: <class 'torch.Tensor'>, Size: torch.Size([1, 8388608]), Memory: 8.00 MB\n",
      "Tensor: <class 'torch.Tensor'>, Size: torch.Size([1, 2097152]), Memory: 2.00 MB\n",
      "Tensor: <class 'torch.Tensor'>, Size: torch.Size([1, 2097152]), Memory: 2.00 MB\n",
      "Tensor: <class 'torch.Tensor'>, Size: torch.Size([1, 8388608]), Memory: 8.00 MB\n",
      "Tensor: <class 'torch.Tensor'>, Size: torch.Size([1, 29360128]), Memory: 28.00 MB\n",
      "Tensor: <class 'torch.Tensor'>, Size: torch.Size([1, 29360128]), Memory: 28.00 MB\n",
      "Tensor: <class 'torch.Tensor'>, Size: torch.Size([1, 29360128]), Memory: 28.00 MB\n",
      "Tensor: <class 'torch.Tensor'>, Size: torch.Size([1, 8388608]), Memory: 8.00 MB\n",
      "Tensor: <class 'torch.Tensor'>, Size: torch.Size([1, 2097152]), Memory: 2.00 MB\n",
      "Tensor: <class 'torch.Tensor'>, Size: torch.Size([1, 2097152]), Memory: 2.00 MB\n",
      "Tensor: <class 'torch.Tensor'>, Size: torch.Size([1, 8388608]), Memory: 8.00 MB\n",
      "Tensor: <class 'torch.Tensor'>, Size: torch.Size([1, 29360128]), Memory: 28.00 MB\n",
      "Tensor: <class 'torch.Tensor'>, Size: torch.Size([1, 29360128]), Memory: 28.00 MB\n",
      "Tensor: <class 'torch.Tensor'>, Size: torch.Size([1, 29360128]), Memory: 28.00 MB\n",
      "Tensor: <class 'torch.Tensor'>, Size: torch.Size([1, 8388608]), Memory: 8.00 MB\n",
      "Tensor: <class 'torch.Tensor'>, Size: torch.Size([1, 2097152]), Memory: 2.00 MB\n",
      "Tensor: <class 'torch.Tensor'>, Size: torch.Size([1, 2097152]), Memory: 2.00 MB\n",
      "Tensor: <class 'torch.Tensor'>, Size: torch.Size([1, 8388608]), Memory: 8.00 MB\n",
      "Tensor: <class 'torch.Tensor'>, Size: torch.Size([1, 29360128]), Memory: 28.00 MB\n",
      "Tensor: <class 'torch.Tensor'>, Size: torch.Size([1, 29360128]), Memory: 28.00 MB\n",
      "Tensor: <class 'torch.Tensor'>, Size: torch.Size([1, 29360128]), Memory: 28.00 MB\n",
      "Tensor: <class 'torch.Tensor'>, Size: torch.Size([1, 8388608]), Memory: 8.00 MB\n",
      "Tensor: <class 'torch.Tensor'>, Size: torch.Size([1, 2097152]), Memory: 2.00 MB\n",
      "Tensor: <class 'torch.Tensor'>, Size: torch.Size([1, 2097152]), Memory: 2.00 MB\n",
      "Tensor: <class 'torch.Tensor'>, Size: torch.Size([1, 8388608]), Memory: 8.00 MB\n",
      "Tensor: <class 'torch.Tensor'>, Size: torch.Size([1, 29360128]), Memory: 28.00 MB\n",
      "Tensor: <class 'torch.Tensor'>, Size: torch.Size([1, 29360128]), Memory: 28.00 MB\n",
      "Tensor: <class 'torch.Tensor'>, Size: torch.Size([1, 29360128]), Memory: 28.00 MB\n",
      "Tensor: <class 'torch.Tensor'>, Size: torch.Size([1, 8388608]), Memory: 8.00 MB\n",
      "Tensor: <class 'torch.Tensor'>, Size: torch.Size([1, 2097152]), Memory: 2.00 MB\n",
      "Tensor: <class 'torch.Tensor'>, Size: torch.Size([1, 2097152]), Memory: 2.00 MB\n",
      "Tensor: <class 'torch.Tensor'>, Size: torch.Size([1, 8388608]), Memory: 8.00 MB\n",
      "Tensor: <class 'torch.Tensor'>, Size: torch.Size([1, 29360128]), Memory: 28.00 MB\n",
      "Tensor: <class 'torch.Tensor'>, Size: torch.Size([1, 29360128]), Memory: 28.00 MB\n",
      "Tensor: <class 'torch.Tensor'>, Size: torch.Size([1, 29360128]), Memory: 28.00 MB\n",
      "Tensor: <class 'torch.Tensor'>, Size: torch.Size([1, 8388608]), Memory: 8.00 MB\n",
      "Tensor: <class 'torch.Tensor'>, Size: torch.Size([1, 2097152]), Memory: 2.00 MB\n",
      "Tensor: <class 'torch.Tensor'>, Size: torch.Size([1, 2097152]), Memory: 2.00 MB\n",
      "Tensor: <class 'torch.Tensor'>, Size: torch.Size([1, 8388608]), Memory: 8.00 MB\n",
      "Tensor: <class 'torch.Tensor'>, Size: torch.Size([1, 29360128]), Memory: 28.00 MB\n",
      "Tensor: <class 'torch.Tensor'>, Size: torch.Size([1, 29360128]), Memory: 28.00 MB\n",
      "Tensor: <class 'torch.Tensor'>, Size: torch.Size([1, 29360128]), Memory: 28.00 MB\n",
      "Tensor: <class 'torch.Tensor'>, Size: torch.Size([1, 8388608]), Memory: 8.00 MB\n",
      "Tensor: <class 'torch.Tensor'>, Size: torch.Size([1, 2097152]), Memory: 2.00 MB\n",
      "Tensor: <class 'torch.Tensor'>, Size: torch.Size([1, 2097152]), Memory: 2.00 MB\n",
      "Tensor: <class 'torch.Tensor'>, Size: torch.Size([1, 8388608]), Memory: 8.00 MB\n",
      "Tensor: <class 'torch.Tensor'>, Size: torch.Size([1, 29360128]), Memory: 28.00 MB\n",
      "Tensor: <class 'torch.Tensor'>, Size: torch.Size([1, 29360128]), Memory: 28.00 MB\n",
      "Tensor: <class 'torch.Tensor'>, Size: torch.Size([1, 8388608]), Memory: 8.00 MB\n",
      "Tensor: <class 'torch.Tensor'>, Size: torch.Size([1, 2097152]), Memory: 2.00 MB\n",
      "Tensor: <class 'torch.Tensor'>, Size: torch.Size([1, 2097152]), Memory: 2.00 MB\n",
      "Tensor: <class 'torch.Tensor'>, Size: torch.Size([1, 8388608]), Memory: 8.00 MB\n",
      "Tensor: <class 'torch.Tensor'>, Size: torch.Size([1, 29360128]), Memory: 28.00 MB\n",
      "Tensor: <class 'torch.Tensor'>, Size: torch.Size([1, 29360128]), Memory: 28.00 MB\n",
      "Tensor: <class 'torch.Tensor'>, Size: torch.Size([1, 29360128]), Memory: 28.00 MB\n",
      "Tensor: <class 'torch.Tensor'>, Size: torch.Size([1, 8388608]), Memory: 8.00 MB\n",
      "Tensor: <class 'torch.Tensor'>, Size: torch.Size([1, 2097152]), Memory: 2.00 MB\n",
      "Tensor: <class 'torch.Tensor'>, Size: torch.Size([1, 2097152]), Memory: 2.00 MB\n",
      "Tensor: <class 'torch.Tensor'>, Size: torch.Size([1, 8388608]), Memory: 8.00 MB\n",
      "Tensor: <class 'torch.Tensor'>, Size: torch.Size([1, 29360128]), Memory: 28.00 MB\n",
      "Tensor: <class 'torch.Tensor'>, Size: torch.Size([1, 29360128]), Memory: 28.00 MB\n",
      "Tensor: <class 'torch.Tensor'>, Size: torch.Size([1, 29360128]), Memory: 28.00 MB\n",
      "Tensor: <class 'torch.Tensor'>, Size: torch.Size([1, 8388608]), Memory: 8.00 MB\n",
      "Tensor: <class 'torch.Tensor'>, Size: torch.Size([1, 2097152]), Memory: 2.00 MB\n",
      "Tensor: <class 'torch.Tensor'>, Size: torch.Size([1, 2097152]), Memory: 2.00 MB\n",
      "Tensor: <class 'torch.Tensor'>, Size: torch.Size([1, 8388608]), Memory: 8.00 MB\n",
      "Tensor: <class 'torch.Tensor'>, Size: torch.Size([1, 29360128]), Memory: 28.00 MB\n",
      "Tensor: <class 'torch.Tensor'>, Size: torch.Size([1, 29360128]), Memory: 28.00 MB\n",
      "Tensor: <class 'torch.Tensor'>, Size: torch.Size([1, 29360128]), Memory: 28.00 MB\n",
      "Tensor: <class 'torch.Tensor'>, Size: torch.Size([1, 8388608]), Memory: 8.00 MB\n",
      "Tensor: <class 'torch.Tensor'>, Size: torch.Size([1, 2097152]), Memory: 2.00 MB\n",
      "Tensor: <class 'torch.Tensor'>, Size: torch.Size([1, 2097152]), Memory: 2.00 MB\n",
      "Tensor: <class 'torch.Tensor'>, Size: torch.Size([1, 8388608]), Memory: 8.00 MB\n",
      "Tensor: <class 'torch.Tensor'>, Size: torch.Size([1, 29360128]), Memory: 28.00 MB\n",
      "Tensor: <class 'torch.Tensor'>, Size: torch.Size([1, 29360128]), Memory: 28.00 MB\n",
      "Tensor: <class 'torch.Tensor'>, Size: torch.Size([1, 29360128]), Memory: 28.00 MB\n",
      "Tensor: <class 'torch.Tensor'>, Size: torch.Size([1, 8388608]), Memory: 8.00 MB\n",
      "Tensor: <class 'torch.Tensor'>, Size: torch.Size([1, 2097152]), Memory: 2.00 MB\n",
      "Tensor: <class 'torch.Tensor'>, Size: torch.Size([1, 2097152]), Memory: 2.00 MB\n",
      "Tensor: <class 'torch.Tensor'>, Size: torch.Size([1, 8388608]), Memory: 8.00 MB\n",
      "Tensor: <class 'torch.Tensor'>, Size: torch.Size([1, 29360128]), Memory: 28.00 MB\n",
      "Tensor: <class 'torch.Tensor'>, Size: torch.Size([1, 29360128]), Memory: 28.00 MB\n",
      "Tensor: <class 'torch.Tensor'>, Size: torch.Size([1, 29360128]), Memory: 28.00 MB\n",
      "Tensor: <class 'torch.Tensor'>, Size: torch.Size([1, 8388608]), Memory: 8.00 MB\n",
      "Tensor: <class 'torch.Tensor'>, Size: torch.Size([1, 2097152]), Memory: 2.00 MB\n",
      "Tensor: <class 'torch.Tensor'>, Size: torch.Size([1, 2097152]), Memory: 2.00 MB\n",
      "Tensor: <class 'torch.Tensor'>, Size: torch.Size([1, 8388608]), Memory: 8.00 MB\n",
      "Tensor: <class 'torch.Tensor'>, Size: torch.Size([1, 29360128]), Memory: 28.00 MB\n",
      "Tensor: <class 'torch.Tensor'>, Size: torch.Size([1, 29360128]), Memory: 28.00 MB\n",
      "Tensor: <class 'torch.Tensor'>, Size: torch.Size([1, 29360128]), Memory: 28.00 MB\n",
      "Tensor: <class 'torch.Tensor'>, Size: torch.Size([1, 8388608]), Memory: 8.00 MB\n",
      "Tensor: <class 'torch.Tensor'>, Size: torch.Size([1, 2097152]), Memory: 2.00 MB\n",
      "Tensor: <class 'torch.Tensor'>, Size: torch.Size([1, 2097152]), Memory: 2.00 MB\n",
      "Tensor: <class 'torch.Tensor'>, Size: torch.Size([1, 8388608]), Memory: 8.00 MB\n",
      "Tensor: <class 'torch.Tensor'>, Size: torch.Size([1, 29360128]), Memory: 28.00 MB\n",
      "Tensor: <class 'torch.Tensor'>, Size: torch.Size([1, 29360128]), Memory: 28.00 MB\n",
      "Tensor: <class 'torch.Tensor'>, Size: torch.Size([1, 29360128]), Memory: 28.00 MB\n",
      "Tensor: <class 'torch.Tensor'>, Size: torch.Size([1, 8388608]), Memory: 8.00 MB\n",
      "Tensor: <class 'torch.Tensor'>, Size: torch.Size([1, 2097152]), Memory: 2.00 MB\n",
      "Tensor: <class 'torch.Tensor'>, Size: torch.Size([1, 2097152]), Memory: 2.00 MB\n",
      "Tensor: <class 'torch.Tensor'>, Size: torch.Size([1, 8388608]), Memory: 8.00 MB\n",
      "Tensor: <class 'torch.Tensor'>, Size: torch.Size([1, 29360128]), Memory: 28.00 MB\n",
      "Tensor: <class 'torch.Tensor'>, Size: torch.Size([1, 29360128]), Memory: 28.00 MB\n",
      "Tensor: <class 'torch.Tensor'>, Size: torch.Size([1, 29360128]), Memory: 28.00 MB\n",
      "Tensor: <class 'torch.Tensor'>, Size: torch.Size([1, 8388608]), Memory: 8.00 MB\n",
      "Tensor: <class 'torch.Tensor'>, Size: torch.Size([1, 2097152]), Memory: 2.00 MB\n",
      "Tensor: <class 'torch.Tensor'>, Size: torch.Size([1, 2097152]), Memory: 2.00 MB\n",
      "Tensor: <class 'torch.Tensor'>, Size: torch.Size([1, 8388608]), Memory: 8.00 MB\n",
      "Tensor: <class 'torch.Tensor'>, Size: torch.Size([1, 29360128]), Memory: 28.00 MB\n",
      "Tensor: <class 'torch.Tensor'>, Size: torch.Size([1, 29360128]), Memory: 28.00 MB\n",
      "Tensor: <class 'torch.Tensor'>, Size: torch.Size([1, 29360128]), Memory: 28.00 MB\n",
      "Tensor: <class 'torch.Tensor'>, Size: torch.Size([1, 8388608]), Memory: 8.00 MB\n",
      "Tensor: <class 'torch.Tensor'>, Size: torch.Size([1, 2097152]), Memory: 2.00 MB\n",
      "Tensor: <class 'torch.Tensor'>, Size: torch.Size([1, 2097152]), Memory: 2.00 MB\n",
      "Tensor: <class 'torch.Tensor'>, Size: torch.Size([1, 8388608]), Memory: 8.00 MB\n",
      "Tensor: <class 'torch.Tensor'>, Size: torch.Size([1, 29360128]), Memory: 28.00 MB\n",
      "Tensor: <class 'torch.Tensor'>, Size: torch.Size([1, 29360128]), Memory: 28.00 MB\n",
      "Tensor: <class 'torch.Tensor'>, Size: torch.Size([1, 29360128]), Memory: 28.00 MB\n",
      "Tensor: <class 'torch.Tensor'>, Size: torch.Size([1, 8388608]), Memory: 8.00 MB\n",
      "Tensor: <class 'torch.Tensor'>, Size: torch.Size([1, 2097152]), Memory: 2.00 MB\n",
      "Tensor: <class 'torch.Tensor'>, Size: torch.Size([1, 2097152]), Memory: 2.00 MB\n",
      "Tensor: <class 'torch.Tensor'>, Size: torch.Size([1, 8388608]), Memory: 8.00 MB\n",
      "Tensor: <class 'torch.Tensor'>, Size: torch.Size([1, 29360128]), Memory: 28.00 MB\n",
      "Tensor: <class 'torch.Tensor'>, Size: torch.Size([1, 29360128]), Memory: 28.00 MB\n",
      "Tensor: <class 'torch.Tensor'>, Size: torch.Size([1, 29360128]), Memory: 28.00 MB\n",
      "Tensor: <class 'torch.Tensor'>, Size: torch.Size([1, 8388608]), Memory: 8.00 MB\n",
      "Tensor: <class 'torch.Tensor'>, Size: torch.Size([1, 2097152]), Memory: 2.00 MB\n",
      "Tensor: <class 'torch.Tensor'>, Size: torch.Size([1, 2097152]), Memory: 2.00 MB\n",
      "Tensor: <class 'torch.Tensor'>, Size: torch.Size([1, 8388608]), Memory: 8.00 MB\n",
      "Tensor: <class 'torch.Tensor'>, Size: torch.Size([1, 29360128]), Memory: 28.00 MB\n",
      "Tensor: <class 'torch.Tensor'>, Size: torch.Size([1, 8388608]), Memory: 8.00 MB\n",
      "Tensor: <class 'torch.Tensor'>, Size: torch.Size([1, 29360128]), Memory: 28.00 MB\n",
      "Tensor: <class 'torch.Tensor'>, Size: torch.Size([1, 29360128]), Memory: 28.00 MB\n",
      "Tensor: <class 'torch.Tensor'>, Size: torch.Size([1, 29360128]), Memory: 28.00 MB\n",
      "Tensor: <class 'torch.Tensor'>, Size: torch.Size([1, 8388608]), Memory: 8.00 MB\n",
      "Tensor: <class 'torch.Tensor'>, Size: torch.Size([1, 2097152]), Memory: 2.00 MB\n",
      "Tensor: <class 'torch.Tensor'>, Size: torch.Size([1, 2097152]), Memory: 2.00 MB\n",
      "Tensor: <class 'torch.Tensor'>, Size: torch.Size([1, 8388608]), Memory: 8.00 MB\n",
      "Tensor: <class 'torch.Tensor'>, Size: torch.Size([1, 29360128]), Memory: 28.00 MB\n",
      "Tensor: <class 'torch.Tensor'>, Size: torch.Size([1, 29360128]), Memory: 28.00 MB\n",
      "Tensor: <class 'torch.Tensor'>, Size: torch.Size([1, 29360128]), Memory: 28.00 MB\n",
      "Tensor: <class 'torch.Tensor'>, Size: torch.Size([1, 8388608]), Memory: 8.00 MB\n",
      "Tensor: <class 'torch.Tensor'>, Size: torch.Size([1, 2097152]), Memory: 2.00 MB\n",
      "Tensor: <class 'torch.Tensor'>, Size: torch.Size([1, 2097152]), Memory: 2.00 MB\n",
      "Tensor: <class 'torch.Tensor'>, Size: torch.Size([1, 8388608]), Memory: 8.00 MB\n",
      "Tensor: <class 'torch.Tensor'>, Size: torch.Size([1, 29360128]), Memory: 28.00 MB\n",
      "Tensor: <class 'torch.Tensor'>, Size: torch.Size([1, 29360128]), Memory: 28.00 MB\n",
      "Tensor: <class 'torch.Tensor'>, Size: torch.Size([1, 29360128]), Memory: 28.00 MB\n",
      "Tensor: <class 'torch.Tensor'>, Size: torch.Size([1, 8388608]), Memory: 8.00 MB\n",
      "Tensor: <class 'torch.Tensor'>, Size: torch.Size([1, 2097152]), Memory: 2.00 MB\n",
      "Tensor: <class 'torch.Tensor'>, Size: torch.Size([1, 2097152]), Memory: 2.00 MB\n",
      "Tensor: <class 'torch.Tensor'>, Size: torch.Size([1, 8388608]), Memory: 8.00 MB\n",
      "Tensor: <class 'torch.Tensor'>, Size: torch.Size([1, 29360128]), Memory: 28.00 MB\n",
      "Tensor: <class 'torch.Tensor'>, Size: torch.Size([1, 29360128]), Memory: 28.00 MB\n",
      "Tensor: <class 'torch.Tensor'>, Size: torch.Size([1, 29360128]), Memory: 28.00 MB\n",
      "Tensor: <class 'torch.Tensor'>, Size: torch.Size([1, 8388608]), Memory: 8.00 MB\n",
      "Tensor: <class 'torch.Tensor'>, Size: torch.Size([1, 2097152]), Memory: 2.00 MB\n",
      "Tensor: <class 'torch.Tensor'>, Size: torch.Size([1, 2097152]), Memory: 2.00 MB\n",
      "Tensor: <class 'torch.Tensor'>, Size: torch.Size([1, 8388608]), Memory: 8.00 MB\n",
      "Tensor: <class 'torch.Tensor'>, Size: torch.Size([1, 29360128]), Memory: 28.00 MB\n",
      "Tensor: <class 'torch.Tensor'>, Size: torch.Size([1, 29360128]), Memory: 28.00 MB\n",
      "Tensor: <class 'torch.Tensor'>, Size: torch.Size([1, 29360128]), Memory: 28.00 MB\n",
      "Tensor: <class 'torch.Tensor'>, Size: torch.Size([1, 8388608]), Memory: 8.00 MB\n",
      "Tensor: <class 'torch.Tensor'>, Size: torch.Size([1, 2097152]), Memory: 2.00 MB\n",
      "Tensor: <class 'torch.Tensor'>, Size: torch.Size([1, 2097152]), Memory: 2.00 MB\n",
      "Tensor: <class 'torch.Tensor'>, Size: torch.Size([1, 8388608]), Memory: 8.00 MB\n",
      "Tensor: <class 'torch.Tensor'>, Size: torch.Size([1, 29360128]), Memory: 28.00 MB\n",
      "Tensor: <class 'torch.Tensor'>, Size: torch.Size([1, 29360128]), Memory: 28.00 MB\n",
      "Tensor: <class 'torch.Tensor'>, Size: torch.Size([1, 29360128]), Memory: 28.00 MB\n",
      "Tensor: <class 'torch.Tensor'>, Size: torch.Size([1, 8388608]), Memory: 8.00 MB\n",
      "Tensor: <class 'torch.Tensor'>, Size: torch.Size([1, 2097152]), Memory: 2.00 MB\n",
      "Tensor: <class 'torch.Tensor'>, Size: torch.Size([1, 2097152]), Memory: 2.00 MB\n",
      "Tensor: <class 'torch.Tensor'>, Size: torch.Size([1, 8388608]), Memory: 8.00 MB\n",
      "Tensor: <class 'torch.Tensor'>, Size: torch.Size([1, 29360128]), Memory: 28.00 MB\n",
      "Tensor: <class 'torch.Tensor'>, Size: torch.Size([1, 29360128]), Memory: 28.00 MB\n",
      "Tensor: <class 'torch.Tensor'>, Size: torch.Size([1, 29360128]), Memory: 28.00 MB\n",
      "Tensor: <class 'torch.Tensor'>, Size: torch.Size([1, 14, 128256]), Memory: 3.42 MB\n",
      "Tensor: <class 'bitsandbytes.nn.modules.Params4bit'>, Size: torch.Size([2097152, 1]), Memory: 2.00 MB\n",
      "Tensor: <class 'bitsandbytes.nn.modules.Params4bit'>, Size: torch.Size([2097152, 1]), Memory: 2.00 MB\n",
      "Tensor: <class 'bitsandbytes.nn.modules.Params4bit'>, Size: torch.Size([8388608, 1]), Memory: 8.00 MB\n",
      "Tensor: <class 'bitsandbytes.nn.modules.Params4bit'>, Size: torch.Size([29360128, 1]), Memory: 28.00 MB\n",
      "Tensor: <class 'bitsandbytes.nn.modules.Params4bit'>, Size: torch.Size([29360128, 1]), Memory: 28.00 MB\n",
      "Tensor: <class 'bitsandbytes.nn.modules.Params4bit'>, Size: torch.Size([29360128, 1]), Memory: 28.00 MB\n",
      "Tensor: <class 'bitsandbytes.nn.modules.Params4bit'>, Size: torch.Size([8388608, 1]), Memory: 8.00 MB\n",
      "Tensor: <class 'bitsandbytes.nn.modules.Params4bit'>, Size: torch.Size([2097152, 1]), Memory: 2.00 MB\n",
      "Tensor: <class 'bitsandbytes.nn.modules.Params4bit'>, Size: torch.Size([2097152, 1]), Memory: 2.00 MB\n",
      "Tensor: <class 'bitsandbytes.nn.modules.Params4bit'>, Size: torch.Size([8388608, 1]), Memory: 8.00 MB\n",
      "Tensor: <class 'torch.nn.parameter.Parameter'>, Size: torch.Size([14336, 4096]), Memory: 112.00 MB\n",
      "Tensor: <class 'torch.nn.parameter.Parameter'>, Size: torch.Size([14336, 4096]), Memory: 112.00 MB\n",
      "Tensor: <class 'torch.nn.parameter.Parameter'>, Size: torch.Size([4096, 14336]), Memory: 112.00 MB\n",
      "Tensor: <class 'bitsandbytes.nn.modules.Params4bit'>, Size: torch.Size([8388608, 1]), Memory: 8.00 MB\n",
      "Tensor: <class 'bitsandbytes.nn.modules.Params4bit'>, Size: torch.Size([2097152, 1]), Memory: 2.00 MB\n",
      "Tensor: <class 'bitsandbytes.nn.modules.Params4bit'>, Size: torch.Size([2097152, 1]), Memory: 2.00 MB\n",
      "Tensor: <class 'bitsandbytes.nn.modules.Params4bit'>, Size: torch.Size([8388608, 1]), Memory: 8.00 MB\n",
      "Tensor: <class 'bitsandbytes.nn.modules.Params4bit'>, Size: torch.Size([29360128, 1]), Memory: 28.00 MB\n",
      "Tensor: <class 'bitsandbytes.nn.modules.Params4bit'>, Size: torch.Size([29360128, 1]), Memory: 28.00 MB\n",
      "Tensor: <class 'bitsandbytes.nn.modules.Params4bit'>, Size: torch.Size([29360128, 1]), Memory: 28.00 MB\n",
      "Tensor: <class 'bitsandbytes.nn.modules.Params4bit'>, Size: torch.Size([8388608, 1]), Memory: 8.00 MB\n",
      "Tensor: <class 'bitsandbytes.nn.modules.Params4bit'>, Size: torch.Size([2097152, 1]), Memory: 2.00 MB\n",
      "Tensor: <class 'bitsandbytes.nn.modules.Params4bit'>, Size: torch.Size([2097152, 1]), Memory: 2.00 MB\n",
      "Tensor: <class 'bitsandbytes.nn.modules.Params4bit'>, Size: torch.Size([8388608, 1]), Memory: 8.00 MB\n",
      "Tensor: <class 'bitsandbytes.nn.modules.Params4bit'>, Size: torch.Size([29360128, 1]), Memory: 28.00 MB\n",
      "Tensor: <class 'bitsandbytes.nn.modules.Params4bit'>, Size: torch.Size([29360128, 1]), Memory: 28.00 MB\n",
      "Tensor: <class 'bitsandbytes.nn.modules.Params4bit'>, Size: torch.Size([29360128, 1]), Memory: 28.00 MB\n",
      "Tensor: <class 'bitsandbytes.nn.modules.Params4bit'>, Size: torch.Size([8388608, 1]), Memory: 8.00 MB\n",
      "Tensor: <class 'bitsandbytes.nn.modules.Params4bit'>, Size: torch.Size([2097152, 1]), Memory: 2.00 MB\n",
      "Tensor: <class 'bitsandbytes.nn.modules.Params4bit'>, Size: torch.Size([2097152, 1]), Memory: 2.00 MB\n",
      "Tensor: <class 'bitsandbytes.nn.modules.Params4bit'>, Size: torch.Size([8388608, 1]), Memory: 8.00 MB\n",
      "Tensor: <class 'bitsandbytes.nn.modules.Params4bit'>, Size: torch.Size([29360128, 1]), Memory: 28.00 MB\n",
      "Tensor: <class 'bitsandbytes.nn.modules.Params4bit'>, Size: torch.Size([29360128, 1]), Memory: 28.00 MB\n",
      "Tensor: <class 'bitsandbytes.nn.modules.Params4bit'>, Size: torch.Size([29360128, 1]), Memory: 28.00 MB\n",
      "Tensor: <class 'bitsandbytes.nn.modules.Params4bit'>, Size: torch.Size([8388608, 1]), Memory: 8.00 MB\n",
      "Tensor: <class 'bitsandbytes.nn.modules.Params4bit'>, Size: torch.Size([2097152, 1]), Memory: 2.00 MB\n",
      "Tensor: <class 'bitsandbytes.nn.modules.Params4bit'>, Size: torch.Size([2097152, 1]), Memory: 2.00 MB\n",
      "Tensor: <class 'bitsandbytes.nn.modules.Params4bit'>, Size: torch.Size([8388608, 1]), Memory: 8.00 MB\n",
      "Tensor: <class 'bitsandbytes.nn.modules.Params4bit'>, Size: torch.Size([29360128, 1]), Memory: 28.00 MB\n",
      "Tensor: <class 'bitsandbytes.nn.modules.Params4bit'>, Size: torch.Size([29360128, 1]), Memory: 28.00 MB\n",
      "Tensor: <class 'bitsandbytes.nn.modules.Params4bit'>, Size: torch.Size([29360128, 1]), Memory: 28.00 MB\n",
      "Tensor: <class 'bitsandbytes.nn.modules.Params4bit'>, Size: torch.Size([8388608, 1]), Memory: 8.00 MB\n",
      "Tensor: <class 'bitsandbytes.nn.modules.Params4bit'>, Size: torch.Size([2097152, 1]), Memory: 2.00 MB\n",
      "Tensor: <class 'bitsandbytes.nn.modules.Params4bit'>, Size: torch.Size([2097152, 1]), Memory: 2.00 MB\n",
      "Tensor: <class 'bitsandbytes.nn.modules.Params4bit'>, Size: torch.Size([8388608, 1]), Memory: 8.00 MB\n",
      "Tensor: <class 'bitsandbytes.nn.modules.Params4bit'>, Size: torch.Size([29360128, 1]), Memory: 28.00 MB\n",
      "Tensor: <class 'bitsandbytes.nn.modules.Params4bit'>, Size: torch.Size([29360128, 1]), Memory: 28.00 MB\n",
      "Tensor: <class 'bitsandbytes.nn.modules.Params4bit'>, Size: torch.Size([29360128, 1]), Memory: 28.00 MB\n",
      "Tensor: <class 'bitsandbytes.nn.modules.Params4bit'>, Size: torch.Size([8388608, 1]), Memory: 8.00 MB\n",
      "Tensor: <class 'bitsandbytes.nn.modules.Params4bit'>, Size: torch.Size([2097152, 1]), Memory: 2.00 MB\n",
      "Tensor: <class 'bitsandbytes.nn.modules.Params4bit'>, Size: torch.Size([2097152, 1]), Memory: 2.00 MB\n",
      "Tensor: <class 'bitsandbytes.nn.modules.Params4bit'>, Size: torch.Size([8388608, 1]), Memory: 8.00 MB\n",
      "Tensor: <class 'bitsandbytes.nn.modules.Params4bit'>, Size: torch.Size([29360128, 1]), Memory: 28.00 MB\n",
      "Tensor: <class 'bitsandbytes.nn.modules.Params4bit'>, Size: torch.Size([29360128, 1]), Memory: 28.00 MB\n",
      "Tensor: <class 'bitsandbytes.nn.modules.Params4bit'>, Size: torch.Size([29360128, 1]), Memory: 28.00 MB\n",
      "Tensor: <class 'bitsandbytes.nn.modules.Params4bit'>, Size: torch.Size([8388608, 1]), Memory: 8.00 MB\n",
      "Tensor: <class 'bitsandbytes.nn.modules.Params4bit'>, Size: torch.Size([2097152, 1]), Memory: 2.00 MB\n",
      "Tensor: <class 'bitsandbytes.nn.modules.Params4bit'>, Size: torch.Size([2097152, 1]), Memory: 2.00 MB\n",
      "Tensor: <class 'bitsandbytes.nn.modules.Params4bit'>, Size: torch.Size([8388608, 1]), Memory: 8.00 MB\n",
      "Tensor: <class 'bitsandbytes.nn.modules.Params4bit'>, Size: torch.Size([29360128, 1]), Memory: 28.00 MB\n",
      "Tensor: <class 'bitsandbytes.nn.modules.Params4bit'>, Size: torch.Size([29360128, 1]), Memory: 28.00 MB\n",
      "Tensor: <class 'bitsandbytes.nn.modules.Params4bit'>, Size: torch.Size([29360128, 1]), Memory: 28.00 MB\n",
      "Tensor: <class 'bitsandbytes.nn.modules.Params4bit'>, Size: torch.Size([8388608, 1]), Memory: 8.00 MB\n",
      "Tensor: <class 'bitsandbytes.nn.modules.Params4bit'>, Size: torch.Size([2097152, 1]), Memory: 2.00 MB\n",
      "Tensor: <class 'bitsandbytes.nn.modules.Params4bit'>, Size: torch.Size([2097152, 1]), Memory: 2.00 MB\n",
      "Tensor: <class 'bitsandbytes.nn.modules.Params4bit'>, Size: torch.Size([8388608, 1]), Memory: 8.00 MB\n",
      "Tensor: <class 'bitsandbytes.nn.modules.Params4bit'>, Size: torch.Size([29360128, 1]), Memory: 28.00 MB\n",
      "Tensor: <class 'bitsandbytes.nn.modules.Params4bit'>, Size: torch.Size([29360128, 1]), Memory: 28.00 MB\n",
      "Tensor: <class 'bitsandbytes.nn.modules.Params4bit'>, Size: torch.Size([29360128, 1]), Memory: 28.00 MB\n",
      "Tensor: <class 'bitsandbytes.nn.modules.Params4bit'>, Size: torch.Size([8388608, 1]), Memory: 8.00 MB\n",
      "Tensor: <class 'bitsandbytes.nn.modules.Params4bit'>, Size: torch.Size([2097152, 1]), Memory: 2.00 MB\n",
      "Tensor: <class 'bitsandbytes.nn.modules.Params4bit'>, Size: torch.Size([2097152, 1]), Memory: 2.00 MB\n",
      "Tensor: <class 'bitsandbytes.nn.modules.Params4bit'>, Size: torch.Size([8388608, 1]), Memory: 8.00 MB\n",
      "Tensor: <class 'bitsandbytes.nn.modules.Params4bit'>, Size: torch.Size([29360128, 1]), Memory: 28.00 MB\n",
      "Tensor: <class 'bitsandbytes.nn.modules.Params4bit'>, Size: torch.Size([29360128, 1]), Memory: 28.00 MB\n",
      "Tensor: <class 'bitsandbytes.nn.modules.Params4bit'>, Size: torch.Size([29360128, 1]), Memory: 28.00 MB\n",
      "Tensor: <class 'bitsandbytes.nn.modules.Params4bit'>, Size: torch.Size([8388608, 1]), Memory: 8.00 MB\n",
      "Tensor: <class 'bitsandbytes.nn.modules.Params4bit'>, Size: torch.Size([2097152, 1]), Memory: 2.00 MB\n",
      "Tensor: <class 'bitsandbytes.nn.modules.Params4bit'>, Size: torch.Size([2097152, 1]), Memory: 2.00 MB\n",
      "Tensor: <class 'bitsandbytes.nn.modules.Params4bit'>, Size: torch.Size([8388608, 1]), Memory: 8.00 MB\n",
      "Tensor: <class 'bitsandbytes.nn.modules.Params4bit'>, Size: torch.Size([29360128, 1]), Memory: 28.00 MB\n",
      "Tensor: <class 'bitsandbytes.nn.modules.Params4bit'>, Size: torch.Size([29360128, 1]), Memory: 28.00 MB\n",
      "Tensor: <class 'bitsandbytes.nn.modules.Params4bit'>, Size: torch.Size([29360128, 1]), Memory: 28.00 MB\n",
      "Tensor: <class 'bitsandbytes.nn.modules.Params4bit'>, Size: torch.Size([8388608, 1]), Memory: 8.00 MB\n",
      "Tensor: <class 'bitsandbytes.nn.modules.Params4bit'>, Size: torch.Size([2097152, 1]), Memory: 2.00 MB\n",
      "Tensor: <class 'bitsandbytes.nn.modules.Params4bit'>, Size: torch.Size([2097152, 1]), Memory: 2.00 MB\n",
      "Tensor: <class 'bitsandbytes.nn.modules.Params4bit'>, Size: torch.Size([8388608, 1]), Memory: 8.00 MB\n",
      "Tensor: <class 'bitsandbytes.nn.modules.Params4bit'>, Size: torch.Size([29360128, 1]), Memory: 28.00 MB\n",
      "Tensor: <class 'bitsandbytes.nn.modules.Params4bit'>, Size: torch.Size([29360128, 1]), Memory: 28.00 MB\n",
      "Tensor: <class 'bitsandbytes.nn.modules.Params4bit'>, Size: torch.Size([29360128, 1]), Memory: 28.00 MB\n",
      "Tensor: <class 'bitsandbytes.nn.modules.Params4bit'>, Size: torch.Size([8388608, 1]), Memory: 8.00 MB\n",
      "Tensor: <class 'bitsandbytes.nn.modules.Params4bit'>, Size: torch.Size([2097152, 1]), Memory: 2.00 MB\n",
      "Tensor: <class 'bitsandbytes.nn.modules.Params4bit'>, Size: torch.Size([2097152, 1]), Memory: 2.00 MB\n",
      "Tensor: <class 'bitsandbytes.nn.modules.Params4bit'>, Size: torch.Size([8388608, 1]), Memory: 8.00 MB\n",
      "Tensor: <class 'bitsandbytes.nn.modules.Params4bit'>, Size: torch.Size([29360128, 1]), Memory: 28.00 MB\n",
      "Tensor: <class 'bitsandbytes.nn.modules.Params4bit'>, Size: torch.Size([29360128, 1]), Memory: 28.00 MB\n",
      "Tensor: <class 'bitsandbytes.nn.modules.Params4bit'>, Size: torch.Size([29360128, 1]), Memory: 28.00 MB\n",
      "Tensor: <class 'bitsandbytes.nn.modules.Params4bit'>, Size: torch.Size([8388608, 1]), Memory: 8.00 MB\n",
      "Tensor: <class 'bitsandbytes.nn.modules.Params4bit'>, Size: torch.Size([2097152, 1]), Memory: 2.00 MB\n",
      "Tensor: <class 'bitsandbytes.nn.modules.Params4bit'>, Size: torch.Size([2097152, 1]), Memory: 2.00 MB\n",
      "Tensor: <class 'bitsandbytes.nn.modules.Params4bit'>, Size: torch.Size([8388608, 1]), Memory: 8.00 MB\n",
      "Tensor: <class 'bitsandbytes.nn.modules.Params4bit'>, Size: torch.Size([29360128, 1]), Memory: 28.00 MB\n",
      "Tensor: <class 'bitsandbytes.nn.modules.Params4bit'>, Size: torch.Size([29360128, 1]), Memory: 28.00 MB\n",
      "Tensor: <class 'bitsandbytes.nn.modules.Params4bit'>, Size: torch.Size([29360128, 1]), Memory: 28.00 MB\n",
      "Tensor: <class 'bitsandbytes.nn.modules.Params4bit'>, Size: torch.Size([8388608, 1]), Memory: 8.00 MB\n",
      "Tensor: <class 'bitsandbytes.nn.modules.Params4bit'>, Size: torch.Size([2097152, 1]), Memory: 2.00 MB\n",
      "Tensor: <class 'bitsandbytes.nn.modules.Params4bit'>, Size: torch.Size([2097152, 1]), Memory: 2.00 MB\n",
      "Tensor: <class 'bitsandbytes.nn.modules.Params4bit'>, Size: torch.Size([8388608, 1]), Memory: 8.00 MB\n",
      "Tensor: <class 'bitsandbytes.nn.modules.Params4bit'>, Size: torch.Size([29360128, 1]), Memory: 28.00 MB\n",
      "Tensor: <class 'bitsandbytes.nn.modules.Params4bit'>, Size: torch.Size([29360128, 1]), Memory: 28.00 MB\n",
      "Tensor: <class 'bitsandbytes.nn.modules.Params4bit'>, Size: torch.Size([29360128, 1]), Memory: 28.00 MB\n",
      "Tensor: <class 'bitsandbytes.nn.modules.Params4bit'>, Size: torch.Size([8388608, 1]), Memory: 8.00 MB\n",
      "Tensor: <class 'bitsandbytes.nn.modules.Params4bit'>, Size: torch.Size([2097152, 1]), Memory: 2.00 MB\n",
      "Tensor: <class 'bitsandbytes.nn.modules.Params4bit'>, Size: torch.Size([2097152, 1]), Memory: 2.00 MB\n",
      "Tensor: <class 'bitsandbytes.nn.modules.Params4bit'>, Size: torch.Size([8388608, 1]), Memory: 8.00 MB\n",
      "Tensor: <class 'bitsandbytes.nn.modules.Params4bit'>, Size: torch.Size([29360128, 1]), Memory: 28.00 MB\n",
      "Tensor: <class 'bitsandbytes.nn.modules.Params4bit'>, Size: torch.Size([29360128, 1]), Memory: 28.00 MB\n",
      "Tensor: <class 'bitsandbytes.nn.modules.Params4bit'>, Size: torch.Size([29360128, 1]), Memory: 28.00 MB\n",
      "Tensor: <class 'bitsandbytes.nn.modules.Params4bit'>, Size: torch.Size([8388608, 1]), Memory: 8.00 MB\n",
      "Tensor: <class 'bitsandbytes.nn.modules.Params4bit'>, Size: torch.Size([2097152, 1]), Memory: 2.00 MB\n",
      "Tensor: <class 'bitsandbytes.nn.modules.Params4bit'>, Size: torch.Size([2097152, 1]), Memory: 2.00 MB\n",
      "Tensor: <class 'bitsandbytes.nn.modules.Params4bit'>, Size: torch.Size([8388608, 1]), Memory: 8.00 MB\n",
      "Tensor: <class 'bitsandbytes.nn.modules.Params4bit'>, Size: torch.Size([29360128, 1]), Memory: 28.00 MB\n",
      "Tensor: <class 'bitsandbytes.nn.modules.Params4bit'>, Size: torch.Size([29360128, 1]), Memory: 28.00 MB\n",
      "Tensor: <class 'bitsandbytes.nn.modules.Params4bit'>, Size: torch.Size([29360128, 1]), Memory: 28.00 MB\n",
      "Tensor: <class 'bitsandbytes.nn.modules.Params4bit'>, Size: torch.Size([8388608, 1]), Memory: 8.00 MB\n",
      "Tensor: <class 'bitsandbytes.nn.modules.Params4bit'>, Size: torch.Size([2097152, 1]), Memory: 2.00 MB\n",
      "Tensor: <class 'bitsandbytes.nn.modules.Params4bit'>, Size: torch.Size([2097152, 1]), Memory: 2.00 MB\n",
      "Tensor: <class 'bitsandbytes.nn.modules.Params4bit'>, Size: torch.Size([8388608, 1]), Memory: 8.00 MB\n",
      "Tensor: <class 'bitsandbytes.nn.modules.Params4bit'>, Size: torch.Size([29360128, 1]), Memory: 28.00 MB\n",
      "Tensor: <class 'bitsandbytes.nn.modules.Params4bit'>, Size: torch.Size([29360128, 1]), Memory: 28.00 MB\n",
      "Tensor: <class 'bitsandbytes.nn.modules.Params4bit'>, Size: torch.Size([29360128, 1]), Memory: 28.00 MB\n",
      "Tensor: <class 'bitsandbytes.nn.modules.Params4bit'>, Size: torch.Size([8388608, 1]), Memory: 8.00 MB\n",
      "Tensor: <class 'bitsandbytes.nn.modules.Params4bit'>, Size: torch.Size([2097152, 1]), Memory: 2.00 MB\n",
      "Tensor: <class 'bitsandbytes.nn.modules.Params4bit'>, Size: torch.Size([2097152, 1]), Memory: 2.00 MB\n",
      "Tensor: <class 'bitsandbytes.nn.modules.Params4bit'>, Size: torch.Size([8388608, 1]), Memory: 8.00 MB\n",
      "Tensor: <class 'bitsandbytes.nn.modules.Params4bit'>, Size: torch.Size([29360128, 1]), Memory: 28.00 MB\n",
      "Tensor: <class 'bitsandbytes.nn.modules.Params4bit'>, Size: torch.Size([29360128, 1]), Memory: 28.00 MB\n",
      "Tensor: <class 'bitsandbytes.nn.modules.Params4bit'>, Size: torch.Size([29360128, 1]), Memory: 28.00 MB\n",
      "Tensor: <class 'bitsandbytes.nn.modules.Params4bit'>, Size: torch.Size([8388608, 1]), Memory: 8.00 MB\n",
      "Tensor: <class 'bitsandbytes.nn.modules.Params4bit'>, Size: torch.Size([2097152, 1]), Memory: 2.00 MB\n",
      "Tensor: <class 'bitsandbytes.nn.modules.Params4bit'>, Size: torch.Size([2097152, 1]), Memory: 2.00 MB\n",
      "Tensor: <class 'bitsandbytes.nn.modules.Params4bit'>, Size: torch.Size([8388608, 1]), Memory: 8.00 MB\n",
      "Tensor: <class 'bitsandbytes.nn.modules.Params4bit'>, Size: torch.Size([29360128, 1]), Memory: 28.00 MB\n",
      "Tensor: <class 'bitsandbytes.nn.modules.Params4bit'>, Size: torch.Size([29360128, 1]), Memory: 28.00 MB\n",
      "Tensor: <class 'bitsandbytes.nn.modules.Params4bit'>, Size: torch.Size([29360128, 1]), Memory: 28.00 MB\n",
      "Tensor: <class 'bitsandbytes.nn.modules.Params4bit'>, Size: torch.Size([8388608, 1]), Memory: 8.00 MB\n",
      "Tensor: <class 'bitsandbytes.nn.modules.Params4bit'>, Size: torch.Size([2097152, 1]), Memory: 2.00 MB\n",
      "Tensor: <class 'bitsandbytes.nn.modules.Params4bit'>, Size: torch.Size([2097152, 1]), Memory: 2.00 MB\n",
      "Tensor: <class 'bitsandbytes.nn.modules.Params4bit'>, Size: torch.Size([8388608, 1]), Memory: 8.00 MB\n",
      "Tensor: <class 'bitsandbytes.nn.modules.Params4bit'>, Size: torch.Size([29360128, 1]), Memory: 28.00 MB\n",
      "Tensor: <class 'bitsandbytes.nn.modules.Params4bit'>, Size: torch.Size([29360128, 1]), Memory: 28.00 MB\n",
      "Tensor: <class 'bitsandbytes.nn.modules.Params4bit'>, Size: torch.Size([29360128, 1]), Memory: 28.00 MB\n",
      "Tensor: <class 'bitsandbytes.nn.modules.Params4bit'>, Size: torch.Size([8388608, 1]), Memory: 8.00 MB\n",
      "Tensor: <class 'bitsandbytes.nn.modules.Params4bit'>, Size: torch.Size([2097152, 1]), Memory: 2.00 MB\n",
      "Tensor: <class 'bitsandbytes.nn.modules.Params4bit'>, Size: torch.Size([2097152, 1]), Memory: 2.00 MB\n",
      "Tensor: <class 'bitsandbytes.nn.modules.Params4bit'>, Size: torch.Size([8388608, 1]), Memory: 8.00 MB\n",
      "Tensor: <class 'bitsandbytes.nn.modules.Params4bit'>, Size: torch.Size([29360128, 1]), Memory: 28.00 MB\n",
      "Tensor: <class 'bitsandbytes.nn.modules.Params4bit'>, Size: torch.Size([29360128, 1]), Memory: 28.00 MB\n",
      "Tensor: <class 'bitsandbytes.nn.modules.Params4bit'>, Size: torch.Size([29360128, 1]), Memory: 28.00 MB\n",
      "Tensor: <class 'bitsandbytes.nn.modules.Params4bit'>, Size: torch.Size([8388608, 1]), Memory: 8.00 MB\n",
      "Tensor: <class 'bitsandbytes.nn.modules.Params4bit'>, Size: torch.Size([2097152, 1]), Memory: 2.00 MB\n",
      "Tensor: <class 'bitsandbytes.nn.modules.Params4bit'>, Size: torch.Size([2097152, 1]), Memory: 2.00 MB\n",
      "Tensor: <class 'bitsandbytes.nn.modules.Params4bit'>, Size: torch.Size([8388608, 1]), Memory: 8.00 MB\n",
      "Tensor: <class 'bitsandbytes.nn.modules.Params4bit'>, Size: torch.Size([29360128, 1]), Memory: 28.00 MB\n",
      "Tensor: <class 'bitsandbytes.nn.modules.Params4bit'>, Size: torch.Size([29360128, 1]), Memory: 28.00 MB\n",
      "Tensor: <class 'bitsandbytes.nn.modules.Params4bit'>, Size: torch.Size([29360128, 1]), Memory: 28.00 MB\n",
      "Tensor: <class 'bitsandbytes.nn.modules.Params4bit'>, Size: torch.Size([8388608, 1]), Memory: 8.00 MB\n",
      "Tensor: <class 'bitsandbytes.nn.modules.Params4bit'>, Size: torch.Size([2097152, 1]), Memory: 2.00 MB\n",
      "Tensor: <class 'bitsandbytes.nn.modules.Params4bit'>, Size: torch.Size([2097152, 1]), Memory: 2.00 MB\n",
      "Tensor: <class 'bitsandbytes.nn.modules.Params4bit'>, Size: torch.Size([8388608, 1]), Memory: 8.00 MB\n",
      "Tensor: <class 'bitsandbytes.nn.modules.Params4bit'>, Size: torch.Size([29360128, 1]), Memory: 28.00 MB\n",
      "Tensor: <class 'bitsandbytes.nn.modules.Params4bit'>, Size: torch.Size([29360128, 1]), Memory: 28.00 MB\n",
      "Tensor: <class 'bitsandbytes.nn.modules.Params4bit'>, Size: torch.Size([29360128, 1]), Memory: 28.00 MB\n",
      "Tensor: <class 'bitsandbytes.nn.modules.Params4bit'>, Size: torch.Size([8388608, 1]), Memory: 8.00 MB\n",
      "Tensor: <class 'bitsandbytes.nn.modules.Params4bit'>, Size: torch.Size([2097152, 1]), Memory: 2.00 MB\n",
      "Tensor: <class 'bitsandbytes.nn.modules.Params4bit'>, Size: torch.Size([2097152, 1]), Memory: 2.00 MB\n",
      "Tensor: <class 'bitsandbytes.nn.modules.Params4bit'>, Size: torch.Size([8388608, 1]), Memory: 8.00 MB\n",
      "Tensor: <class 'bitsandbytes.nn.modules.Params4bit'>, Size: torch.Size([29360128, 1]), Memory: 28.00 MB\n",
      "Tensor: <class 'bitsandbytes.nn.modules.Params4bit'>, Size: torch.Size([29360128, 1]), Memory: 28.00 MB\n",
      "Tensor: <class 'bitsandbytes.nn.modules.Params4bit'>, Size: torch.Size([29360128, 1]), Memory: 28.00 MB\n",
      "Tensor: <class 'bitsandbytes.nn.modules.Params4bit'>, Size: torch.Size([8388608, 1]), Memory: 8.00 MB\n",
      "Tensor: <class 'bitsandbytes.nn.modules.Params4bit'>, Size: torch.Size([2097152, 1]), Memory: 2.00 MB\n",
      "Tensor: <class 'bitsandbytes.nn.modules.Params4bit'>, Size: torch.Size([2097152, 1]), Memory: 2.00 MB\n",
      "Tensor: <class 'bitsandbytes.nn.modules.Params4bit'>, Size: torch.Size([8388608, 1]), Memory: 8.00 MB\n",
      "Tensor: <class 'bitsandbytes.nn.modules.Params4bit'>, Size: torch.Size([29360128, 1]), Memory: 28.00 MB\n",
      "Tensor: <class 'bitsandbytes.nn.modules.Params4bit'>, Size: torch.Size([29360128, 1]), Memory: 28.00 MB\n",
      "Tensor: <class 'bitsandbytes.nn.modules.Params4bit'>, Size: torch.Size([29360128, 1]), Memory: 28.00 MB\n",
      "Tensor: <class 'bitsandbytes.nn.modules.Params4bit'>, Size: torch.Size([8388608, 1]), Memory: 8.00 MB\n",
      "Tensor: <class 'bitsandbytes.nn.modules.Params4bit'>, Size: torch.Size([2097152, 1]), Memory: 2.00 MB\n",
      "Tensor: <class 'bitsandbytes.nn.modules.Params4bit'>, Size: torch.Size([2097152, 1]), Memory: 2.00 MB\n",
      "Tensor: <class 'bitsandbytes.nn.modules.Params4bit'>, Size: torch.Size([8388608, 1]), Memory: 8.00 MB\n",
      "Tensor: <class 'bitsandbytes.nn.modules.Params4bit'>, Size: torch.Size([29360128, 1]), Memory: 28.00 MB\n",
      "Tensor: <class 'bitsandbytes.nn.modules.Params4bit'>, Size: torch.Size([29360128, 1]), Memory: 28.00 MB\n",
      "Tensor: <class 'bitsandbytes.nn.modules.Params4bit'>, Size: torch.Size([29360128, 1]), Memory: 28.00 MB\n",
      "Tensor: <class 'bitsandbytes.nn.modules.Params4bit'>, Size: torch.Size([8388608, 1]), Memory: 8.00 MB\n",
      "Tensor: <class 'bitsandbytes.nn.modules.Params4bit'>, Size: torch.Size([2097152, 1]), Memory: 2.00 MB\n",
      "Tensor: <class 'bitsandbytes.nn.modules.Params4bit'>, Size: torch.Size([2097152, 1]), Memory: 2.00 MB\n",
      "Tensor: <class 'bitsandbytes.nn.modules.Params4bit'>, Size: torch.Size([8388608, 1]), Memory: 8.00 MB\n",
      "Tensor: <class 'bitsandbytes.nn.modules.Params4bit'>, Size: torch.Size([29360128, 1]), Memory: 28.00 MB\n",
      "Tensor: <class 'bitsandbytes.nn.modules.Params4bit'>, Size: torch.Size([29360128, 1]), Memory: 28.00 MB\n",
      "Tensor: <class 'bitsandbytes.nn.modules.Params4bit'>, Size: torch.Size([29360128, 1]), Memory: 28.00 MB\n",
      "Tensor: <class 'bitsandbytes.nn.modules.Params4bit'>, Size: torch.Size([8388608, 1]), Memory: 8.00 MB\n",
      "Tensor: <class 'bitsandbytes.nn.modules.Params4bit'>, Size: torch.Size([2097152, 1]), Memory: 2.00 MB\n",
      "Tensor: <class 'bitsandbytes.nn.modules.Params4bit'>, Size: torch.Size([2097152, 1]), Memory: 2.00 MB\n",
      "Tensor: <class 'bitsandbytes.nn.modules.Params4bit'>, Size: torch.Size([8388608, 1]), Memory: 8.00 MB\n",
      "Tensor: <class 'bitsandbytes.nn.modules.Params4bit'>, Size: torch.Size([29360128, 1]), Memory: 28.00 MB\n",
      "Tensor: <class 'bitsandbytes.nn.modules.Params4bit'>, Size: torch.Size([29360128, 1]), Memory: 28.00 MB\n",
      "Tensor: <class 'bitsandbytes.nn.modules.Params4bit'>, Size: torch.Size([29360128, 1]), Memory: 28.00 MB\n",
      "Tensor: <class 'bitsandbytes.nn.modules.Params4bit'>, Size: torch.Size([8388608, 1]), Memory: 8.00 MB\n",
      "Tensor: <class 'bitsandbytes.nn.modules.Params4bit'>, Size: torch.Size([2097152, 1]), Memory: 2.00 MB\n",
      "Tensor: <class 'bitsandbytes.nn.modules.Params4bit'>, Size: torch.Size([2097152, 1]), Memory: 2.00 MB\n",
      "Tensor: <class 'bitsandbytes.nn.modules.Params4bit'>, Size: torch.Size([8388608, 1]), Memory: 8.00 MB\n",
      "Tensor: <class 'bitsandbytes.nn.modules.Params4bit'>, Size: torch.Size([29360128, 1]), Memory: 28.00 MB\n",
      "Tensor: <class 'bitsandbytes.nn.modules.Params4bit'>, Size: torch.Size([29360128, 1]), Memory: 28.00 MB\n",
      "Tensor: <class 'bitsandbytes.nn.modules.Params4bit'>, Size: torch.Size([29360128, 1]), Memory: 28.00 MB\n",
      "Tensor: <class 'bitsandbytes.nn.modules.Params4bit'>, Size: torch.Size([8388608, 1]), Memory: 8.00 MB\n",
      "Tensor: <class 'bitsandbytes.nn.modules.Params4bit'>, Size: torch.Size([2097152, 1]), Memory: 2.00 MB\n",
      "Tensor: <class 'bitsandbytes.nn.modules.Params4bit'>, Size: torch.Size([2097152, 1]), Memory: 2.00 MB\n",
      "Tensor: <class 'bitsandbytes.nn.modules.Params4bit'>, Size: torch.Size([8388608, 1]), Memory: 8.00 MB\n",
      "Tensor: <class 'bitsandbytes.nn.modules.Params4bit'>, Size: torch.Size([29360128, 1]), Memory: 28.00 MB\n",
      "Tensor: <class 'bitsandbytes.nn.modules.Params4bit'>, Size: torch.Size([29360128, 1]), Memory: 28.00 MB\n",
      "Tensor: <class 'bitsandbytes.nn.modules.Params4bit'>, Size: torch.Size([29360128, 1]), Memory: 28.00 MB\n",
      "Tensor: <class 'bitsandbytes.nn.modules.Params4bit'>, Size: torch.Size([29360128, 1]), Memory: 28.00 MB\n",
      "Tensor: <class 'bitsandbytes.nn.modules.Params4bit'>, Size: torch.Size([29360128, 1]), Memory: 28.00 MB\n",
      "Tensor: <class 'bitsandbytes.nn.modules.Params4bit'>, Size: torch.Size([29360128, 1]), Memory: 28.00 MB\n",
      "Tensor: <class 'bitsandbytes.nn.modules.Params4bit'>, Size: torch.Size([8388608, 1]), Memory: 8.00 MB\n",
      "Tensor: <class 'bitsandbytes.nn.modules.Params4bit'>, Size: torch.Size([2097152, 1]), Memory: 2.00 MB\n",
      "Tensor: <class 'bitsandbytes.nn.modules.Params4bit'>, Size: torch.Size([8388608, 1]), Memory: 8.00 MB\n",
      "Tensor: <class 'bitsandbytes.nn.modules.Params4bit'>, Size: torch.Size([8388608, 1]), Memory: 8.00 MB\n",
      "Tensor: <class 'bitsandbytes.nn.modules.Params4bit'>, Size: torch.Size([2097152, 1]), Memory: 2.00 MB\n",
      "Tensor: <class 'bitsandbytes.nn.modules.Params4bit'>, Size: torch.Size([29360128, 1]), Memory: 28.00 MB\n",
      "Tensor: <class 'bitsandbytes.nn.modules.Params4bit'>, Size: torch.Size([29360128, 1]), Memory: 28.00 MB\n",
      "Tensor: <class 'bitsandbytes.nn.modules.Params4bit'>, Size: torch.Size([29360128, 1]), Memory: 28.00 MB\n",
      "Tensor: <class 'bitsandbytes.nn.modules.Params4bit'>, Size: torch.Size([2097152, 1]), Memory: 2.00 MB\n",
      "Tensor: <class 'bitsandbytes.nn.modules.Params4bit'>, Size: torch.Size([8388608, 1]), Memory: 8.00 MB\n",
      "Tensor: <class 'bitsandbytes.nn.modules.Params4bit'>, Size: torch.Size([8388608, 1]), Memory: 8.00 MB\n",
      "Tensor: <class 'bitsandbytes.nn.modules.Params4bit'>, Size: torch.Size([2097152, 1]), Memory: 2.00 MB\n",
      "Tensor: <class 'bitsandbytes.nn.modules.Params4bit'>, Size: torch.Size([29360128, 1]), Memory: 28.00 MB\n",
      "Tensor: <class 'bitsandbytes.nn.modules.Params4bit'>, Size: torch.Size([29360128, 1]), Memory: 28.00 MB\n",
      "Tensor: <class 'bitsandbytes.nn.modules.Params4bit'>, Size: torch.Size([29360128, 1]), Memory: 28.00 MB\n",
      "Tensor: <class 'bitsandbytes.nn.modules.Params4bit'>, Size: torch.Size([2097152, 1]), Memory: 2.00 MB\n",
      "Tensor: <class 'bitsandbytes.nn.modules.Params4bit'>, Size: torch.Size([8388608, 1]), Memory: 8.00 MB\n",
      "Tensor: <class 'bitsandbytes.nn.modules.Params4bit'>, Size: torch.Size([8388608, 1]), Memory: 8.00 MB\n",
      "Tensor: <class 'bitsandbytes.nn.modules.Params4bit'>, Size: torch.Size([2097152, 1]), Memory: 2.00 MB\n",
      "Tensor: <class 'bitsandbytes.nn.modules.Params4bit'>, Size: torch.Size([29360128, 1]), Memory: 28.00 MB\n",
      "Tensor: <class 'bitsandbytes.nn.modules.Params4bit'>, Size: torch.Size([29360128, 1]), Memory: 28.00 MB\n",
      "Tensor: <class 'bitsandbytes.nn.modules.Params4bit'>, Size: torch.Size([29360128, 1]), Memory: 28.00 MB\n",
      "Tensor: <class 'bitsandbytes.nn.modules.Params4bit'>, Size: torch.Size([2097152, 1]), Memory: 2.00 MB\n",
      "Tensor: <class 'bitsandbytes.nn.modules.Params4bit'>, Size: torch.Size([8388608, 1]), Memory: 8.00 MB\n",
      "Tensor: <class 'bitsandbytes.nn.modules.Params4bit'>, Size: torch.Size([8388608, 1]), Memory: 8.00 MB\n",
      "Tensor: <class 'bitsandbytes.nn.modules.Params4bit'>, Size: torch.Size([2097152, 1]), Memory: 2.00 MB\n",
      "Tensor: <class 'bitsandbytes.nn.modules.Params4bit'>, Size: torch.Size([29360128, 1]), Memory: 28.00 MB\n",
      "Tensor: <class 'bitsandbytes.nn.modules.Params4bit'>, Size: torch.Size([29360128, 1]), Memory: 28.00 MB\n",
      "Tensor: <class 'bitsandbytes.nn.modules.Params4bit'>, Size: torch.Size([29360128, 1]), Memory: 28.00 MB\n",
      "Tensor: <class 'bitsandbytes.nn.modules.Params4bit'>, Size: torch.Size([2097152, 1]), Memory: 2.00 MB\n",
      "Tensor: <class 'bitsandbytes.nn.modules.Params4bit'>, Size: torch.Size([8388608, 1]), Memory: 8.00 MB\n",
      "Tensor: <class 'bitsandbytes.nn.modules.Params4bit'>, Size: torch.Size([8388608, 1]), Memory: 8.00 MB\n",
      "Tensor: <class 'bitsandbytes.nn.modules.Params4bit'>, Size: torch.Size([2097152, 1]), Memory: 2.00 MB\n",
      "Tensor: <class 'bitsandbytes.nn.modules.Params4bit'>, Size: torch.Size([29360128, 1]), Memory: 28.00 MB\n",
      "Tensor: <class 'bitsandbytes.nn.modules.Params4bit'>, Size: torch.Size([29360128, 1]), Memory: 28.00 MB\n",
      "Tensor: <class 'bitsandbytes.nn.modules.Params4bit'>, Size: torch.Size([29360128, 1]), Memory: 28.00 MB\n",
      "Tensor: <class 'bitsandbytes.nn.modules.Params4bit'>, Size: torch.Size([2097152, 1]), Memory: 2.00 MB\n",
      "Tensor: <class 'bitsandbytes.nn.modules.Params4bit'>, Size: torch.Size([8388608, 1]), Memory: 8.00 MB\n",
      "Tensor: <class 'bitsandbytes.nn.modules.Params4bit'>, Size: torch.Size([8388608, 1]), Memory: 8.00 MB\n",
      "Tensor: <class 'bitsandbytes.nn.modules.Params4bit'>, Size: torch.Size([2097152, 1]), Memory: 2.00 MB\n",
      "Tensor: <class 'bitsandbytes.nn.modules.Params4bit'>, Size: torch.Size([29360128, 1]), Memory: 28.00 MB\n",
      "Tensor: <class 'bitsandbytes.nn.modules.Params4bit'>, Size: torch.Size([29360128, 1]), Memory: 28.00 MB\n",
      "Tensor: <class 'bitsandbytes.nn.modules.Params4bit'>, Size: torch.Size([29360128, 1]), Memory: 28.00 MB\n",
      "Tensor: <class 'bitsandbytes.nn.modules.Params4bit'>, Size: torch.Size([2097152, 1]), Memory: 2.00 MB\n",
      "Tensor: <class 'bitsandbytes.nn.modules.Params4bit'>, Size: torch.Size([8388608, 1]), Memory: 8.00 MB\n",
      "Tensor: <class 'bitsandbytes.nn.modules.Params4bit'>, Size: torch.Size([8388608, 1]), Memory: 8.00 MB\n",
      "Tensor: <class 'bitsandbytes.nn.modules.Params4bit'>, Size: torch.Size([2097152, 1]), Memory: 2.00 MB\n",
      "Tensor: <class 'bitsandbytes.nn.modules.Params4bit'>, Size: torch.Size([29360128, 1]), Memory: 28.00 MB\n",
      "Tensor: <class 'bitsandbytes.nn.modules.Params4bit'>, Size: torch.Size([29360128, 1]), Memory: 28.00 MB\n",
      "Tensor: <class 'bitsandbytes.nn.modules.Params4bit'>, Size: torch.Size([29360128, 1]), Memory: 28.00 MB\n",
      "Tensor: <class 'bitsandbytes.nn.modules.Params4bit'>, Size: torch.Size([2097152, 1]), Memory: 2.00 MB\n",
      "Tensor: <class 'bitsandbytes.nn.modules.Params4bit'>, Size: torch.Size([8388608, 1]), Memory: 8.00 MB\n",
      "Tensor: <class 'bitsandbytes.nn.modules.Params4bit'>, Size: torch.Size([8388608, 1]), Memory: 8.00 MB\n",
      "Tensor: <class 'bitsandbytes.nn.modules.Params4bit'>, Size: torch.Size([2097152, 1]), Memory: 2.00 MB\n",
      "Tensor: <class 'bitsandbytes.nn.modules.Params4bit'>, Size: torch.Size([29360128, 1]), Memory: 28.00 MB\n",
      "Tensor: <class 'bitsandbytes.nn.modules.Params4bit'>, Size: torch.Size([29360128, 1]), Memory: 28.00 MB\n",
      "Tensor: <class 'bitsandbytes.nn.modules.Params4bit'>, Size: torch.Size([29360128, 1]), Memory: 28.00 MB\n",
      "Tensor: <class 'bitsandbytes.nn.modules.Params4bit'>, Size: torch.Size([2097152, 1]), Memory: 2.00 MB\n",
      "Tensor: <class 'bitsandbytes.nn.modules.Params4bit'>, Size: torch.Size([8388608, 1]), Memory: 8.00 MB\n",
      "Tensor: <class 'bitsandbytes.nn.modules.Params4bit'>, Size: torch.Size([8388608, 1]), Memory: 8.00 MB\n",
      "Tensor: <class 'bitsandbytes.nn.modules.Params4bit'>, Size: torch.Size([2097152, 1]), Memory: 2.00 MB\n",
      "Tensor: <class 'bitsandbytes.nn.modules.Params4bit'>, Size: torch.Size([29360128, 1]), Memory: 28.00 MB\n",
      "Tensor: <class 'bitsandbytes.nn.modules.Params4bit'>, Size: torch.Size([29360128, 1]), Memory: 28.00 MB\n",
      "Tensor: <class 'bitsandbytes.nn.modules.Params4bit'>, Size: torch.Size([29360128, 1]), Memory: 28.00 MB\n",
      "Tensor: <class 'bitsandbytes.nn.modules.Params4bit'>, Size: torch.Size([2097152, 1]), Memory: 2.00 MB\n",
      "Tensor: <class 'bitsandbytes.nn.modules.Params4bit'>, Size: torch.Size([8388608, 1]), Memory: 8.00 MB\n",
      "Tensor: <class 'bitsandbytes.nn.modules.Params4bit'>, Size: torch.Size([8388608, 1]), Memory: 8.00 MB\n",
      "Tensor: <class 'bitsandbytes.nn.modules.Params4bit'>, Size: torch.Size([2097152, 1]), Memory: 2.00 MB\n",
      "Tensor: <class 'bitsandbytes.nn.modules.Params4bit'>, Size: torch.Size([29360128, 1]), Memory: 28.00 MB\n",
      "Tensor: <class 'bitsandbytes.nn.modules.Params4bit'>, Size: torch.Size([29360128, 1]), Memory: 28.00 MB\n",
      "Tensor: <class 'bitsandbytes.nn.modules.Params4bit'>, Size: torch.Size([29360128, 1]), Memory: 28.00 MB\n",
      "Tensor: <class 'bitsandbytes.nn.modules.Params4bit'>, Size: torch.Size([2097152, 1]), Memory: 2.00 MB\n",
      "Tensor: <class 'bitsandbytes.nn.modules.Params4bit'>, Size: torch.Size([8388608, 1]), Memory: 8.00 MB\n",
      "Tensor: <class 'bitsandbytes.nn.modules.Params4bit'>, Size: torch.Size([8388608, 1]), Memory: 8.00 MB\n",
      "Tensor: <class 'bitsandbytes.nn.modules.Params4bit'>, Size: torch.Size([2097152, 1]), Memory: 2.00 MB\n",
      "Tensor: <class 'bitsandbytes.nn.modules.Params4bit'>, Size: torch.Size([29360128, 1]), Memory: 28.00 MB\n",
      "Tensor: <class 'bitsandbytes.nn.modules.Params4bit'>, Size: torch.Size([29360128, 1]), Memory: 28.00 MB\n",
      "Tensor: <class 'bitsandbytes.nn.modules.Params4bit'>, Size: torch.Size([29360128, 1]), Memory: 28.00 MB\n",
      "Tensor: <class 'bitsandbytes.nn.modules.Params4bit'>, Size: torch.Size([2097152, 1]), Memory: 2.00 MB\n",
      "Tensor: <class 'bitsandbytes.nn.modules.Params4bit'>, Size: torch.Size([8388608, 1]), Memory: 8.00 MB\n",
      "Tensor: <class 'bitsandbytes.nn.modules.Params4bit'>, Size: torch.Size([8388608, 1]), Memory: 8.00 MB\n",
      "Tensor: <class 'bitsandbytes.nn.modules.Params4bit'>, Size: torch.Size([2097152, 1]), Memory: 2.00 MB\n",
      "Tensor: <class 'bitsandbytes.nn.modules.Params4bit'>, Size: torch.Size([29360128, 1]), Memory: 28.00 MB\n",
      "Tensor: <class 'bitsandbytes.nn.modules.Params4bit'>, Size: torch.Size([29360128, 1]), Memory: 28.00 MB\n",
      "Tensor: <class 'bitsandbytes.nn.modules.Params4bit'>, Size: torch.Size([29360128, 1]), Memory: 28.00 MB\n",
      "Tensor: <class 'bitsandbytes.nn.modules.Params4bit'>, Size: torch.Size([2097152, 1]), Memory: 2.00 MB\n",
      "Tensor: <class 'bitsandbytes.nn.modules.Params4bit'>, Size: torch.Size([8388608, 1]), Memory: 8.00 MB\n",
      "Tensor: <class 'bitsandbytes.nn.modules.Params4bit'>, Size: torch.Size([8388608, 1]), Memory: 8.00 MB\n",
      "Tensor: <class 'bitsandbytes.nn.modules.Params4bit'>, Size: torch.Size([2097152, 1]), Memory: 2.00 MB\n",
      "Tensor: <class 'bitsandbytes.nn.modules.Params4bit'>, Size: torch.Size([29360128, 1]), Memory: 28.00 MB\n",
      "Tensor: <class 'bitsandbytes.nn.modules.Params4bit'>, Size: torch.Size([29360128, 1]), Memory: 28.00 MB\n",
      "Tensor: <class 'bitsandbytes.nn.modules.Params4bit'>, Size: torch.Size([29360128, 1]), Memory: 28.00 MB\n",
      "Tensor: <class 'bitsandbytes.nn.modules.Params4bit'>, Size: torch.Size([2097152, 1]), Memory: 2.00 MB\n",
      "Tensor: <class 'bitsandbytes.nn.modules.Params4bit'>, Size: torch.Size([8388608, 1]), Memory: 8.00 MB\n",
      "Tensor: <class 'bitsandbytes.nn.modules.Params4bit'>, Size: torch.Size([8388608, 1]), Memory: 8.00 MB\n",
      "Tensor: <class 'bitsandbytes.nn.modules.Params4bit'>, Size: torch.Size([2097152, 1]), Memory: 2.00 MB\n",
      "Tensor: <class 'bitsandbytes.nn.modules.Params4bit'>, Size: torch.Size([29360128, 1]), Memory: 28.00 MB\n",
      "Tensor: <class 'bitsandbytes.nn.modules.Params4bit'>, Size: torch.Size([29360128, 1]), Memory: 28.00 MB\n",
      "Tensor: <class 'bitsandbytes.nn.modules.Params4bit'>, Size: torch.Size([29360128, 1]), Memory: 28.00 MB\n",
      "Tensor: <class 'bitsandbytes.nn.modules.Params4bit'>, Size: torch.Size([2097152, 1]), Memory: 2.00 MB\n",
      "Tensor: <class 'bitsandbytes.nn.modules.Params4bit'>, Size: torch.Size([8388608, 1]), Memory: 8.00 MB\n",
      "Tensor: <class 'bitsandbytes.nn.modules.Params4bit'>, Size: torch.Size([8388608, 1]), Memory: 8.00 MB\n",
      "Tensor: <class 'bitsandbytes.nn.modules.Params4bit'>, Size: torch.Size([2097152, 1]), Memory: 2.00 MB\n",
      "Tensor: <class 'bitsandbytes.nn.modules.Params4bit'>, Size: torch.Size([29360128, 1]), Memory: 28.00 MB\n",
      "Tensor: <class 'bitsandbytes.nn.modules.Params4bit'>, Size: torch.Size([29360128, 1]), Memory: 28.00 MB\n",
      "Tensor: <class 'bitsandbytes.nn.modules.Params4bit'>, Size: torch.Size([29360128, 1]), Memory: 28.00 MB\n",
      "Tensor: <class 'bitsandbytes.nn.modules.Params4bit'>, Size: torch.Size([2097152, 1]), Memory: 2.00 MB\n",
      "Tensor: <class 'bitsandbytes.nn.modules.Params4bit'>, Size: torch.Size([8388608, 1]), Memory: 8.00 MB\n",
      "Tensor: <class 'bitsandbytes.nn.modules.Params4bit'>, Size: torch.Size([8388608, 1]), Memory: 8.00 MB\n",
      "Tensor: <class 'bitsandbytes.nn.modules.Params4bit'>, Size: torch.Size([2097152, 1]), Memory: 2.00 MB\n",
      "Tensor: <class 'bitsandbytes.nn.modules.Params4bit'>, Size: torch.Size([29360128, 1]), Memory: 28.00 MB\n",
      "Tensor: <class 'bitsandbytes.nn.modules.Params4bit'>, Size: torch.Size([29360128, 1]), Memory: 28.00 MB\n",
      "Tensor: <class 'bitsandbytes.nn.modules.Params4bit'>, Size: torch.Size([29360128, 1]), Memory: 28.00 MB\n",
      "Tensor: <class 'bitsandbytes.nn.modules.Params4bit'>, Size: torch.Size([2097152, 1]), Memory: 2.00 MB\n",
      "Tensor: <class 'bitsandbytes.nn.modules.Params4bit'>, Size: torch.Size([8388608, 1]), Memory: 8.00 MB\n",
      "Tensor: <class 'bitsandbytes.nn.modules.Params4bit'>, Size: torch.Size([8388608, 1]), Memory: 8.00 MB\n",
      "Tensor: <class 'bitsandbytes.nn.modules.Params4bit'>, Size: torch.Size([2097152, 1]), Memory: 2.00 MB\n",
      "Tensor: <class 'bitsandbytes.nn.modules.Params4bit'>, Size: torch.Size([29360128, 1]), Memory: 28.00 MB\n",
      "Tensor: <class 'bitsandbytes.nn.modules.Params4bit'>, Size: torch.Size([29360128, 1]), Memory: 28.00 MB\n",
      "Tensor: <class 'bitsandbytes.nn.modules.Params4bit'>, Size: torch.Size([29360128, 1]), Memory: 28.00 MB\n",
      "Tensor: <class 'bitsandbytes.nn.modules.Params4bit'>, Size: torch.Size([2097152, 1]), Memory: 2.00 MB\n",
      "Tensor: <class 'bitsandbytes.nn.modules.Params4bit'>, Size: torch.Size([8388608, 1]), Memory: 8.00 MB\n",
      "Tensor: <class 'bitsandbytes.nn.modules.Params4bit'>, Size: torch.Size([8388608, 1]), Memory: 8.00 MB\n",
      "Tensor: <class 'bitsandbytes.nn.modules.Params4bit'>, Size: torch.Size([2097152, 1]), Memory: 2.00 MB\n",
      "Tensor: <class 'bitsandbytes.nn.modules.Params4bit'>, Size: torch.Size([29360128, 1]), Memory: 28.00 MB\n",
      "Tensor: <class 'bitsandbytes.nn.modules.Params4bit'>, Size: torch.Size([29360128, 1]), Memory: 28.00 MB\n",
      "Tensor: <class 'bitsandbytes.nn.modules.Params4bit'>, Size: torch.Size([29360128, 1]), Memory: 28.00 MB\n",
      "Tensor: <class 'bitsandbytes.nn.modules.Params4bit'>, Size: torch.Size([2097152, 1]), Memory: 2.00 MB\n",
      "Tensor: <class 'bitsandbytes.nn.modules.Params4bit'>, Size: torch.Size([8388608, 1]), Memory: 8.00 MB\n",
      "Tensor: <class 'bitsandbytes.nn.modules.Params4bit'>, Size: torch.Size([8388608, 1]), Memory: 8.00 MB\n",
      "Tensor: <class 'bitsandbytes.nn.modules.Params4bit'>, Size: torch.Size([2097152, 1]), Memory: 2.00 MB\n",
      "Tensor: <class 'bitsandbytes.nn.modules.Params4bit'>, Size: torch.Size([29360128, 1]), Memory: 28.00 MB\n",
      "Tensor: <class 'bitsandbytes.nn.modules.Params4bit'>, Size: torch.Size([29360128, 1]), Memory: 28.00 MB\n",
      "Tensor: <class 'bitsandbytes.nn.modules.Params4bit'>, Size: torch.Size([29360128, 1]), Memory: 28.00 MB\n",
      "Tensor: <class 'bitsandbytes.nn.modules.Params4bit'>, Size: torch.Size([2097152, 1]), Memory: 2.00 MB\n",
      "Tensor: <class 'bitsandbytes.nn.modules.Params4bit'>, Size: torch.Size([8388608, 1]), Memory: 8.00 MB\n",
      "Tensor: <class 'bitsandbytes.nn.modules.Params4bit'>, Size: torch.Size([8388608, 1]), Memory: 8.00 MB\n",
      "Tensor: <class 'bitsandbytes.nn.modules.Params4bit'>, Size: torch.Size([2097152, 1]), Memory: 2.00 MB\n",
      "Tensor: <class 'bitsandbytes.nn.modules.Params4bit'>, Size: torch.Size([29360128, 1]), Memory: 28.00 MB\n",
      "Tensor: <class 'bitsandbytes.nn.modules.Params4bit'>, Size: torch.Size([29360128, 1]), Memory: 28.00 MB\n",
      "Tensor: <class 'bitsandbytes.nn.modules.Params4bit'>, Size: torch.Size([29360128, 1]), Memory: 28.00 MB\n",
      "Tensor: <class 'bitsandbytes.nn.modules.Params4bit'>, Size: torch.Size([2097152, 1]), Memory: 2.00 MB\n",
      "Tensor: <class 'bitsandbytes.nn.modules.Params4bit'>, Size: torch.Size([8388608, 1]), Memory: 8.00 MB\n",
      "Tensor: <class 'bitsandbytes.nn.modules.Params4bit'>, Size: torch.Size([8388608, 1]), Memory: 8.00 MB\n",
      "Tensor: <class 'bitsandbytes.nn.modules.Params4bit'>, Size: torch.Size([2097152, 1]), Memory: 2.00 MB\n",
      "Tensor: <class 'bitsandbytes.nn.modules.Params4bit'>, Size: torch.Size([29360128, 1]), Memory: 28.00 MB\n",
      "Tensor: <class 'bitsandbytes.nn.modules.Params4bit'>, Size: torch.Size([29360128, 1]), Memory: 28.00 MB\n",
      "Tensor: <class 'bitsandbytes.nn.modules.Params4bit'>, Size: torch.Size([29360128, 1]), Memory: 28.00 MB\n",
      "Tensor: <class 'bitsandbytes.nn.modules.Params4bit'>, Size: torch.Size([2097152, 1]), Memory: 2.00 MB\n",
      "Tensor: <class 'bitsandbytes.nn.modules.Params4bit'>, Size: torch.Size([8388608, 1]), Memory: 8.00 MB\n",
      "Tensor: <class 'bitsandbytes.nn.modules.Params4bit'>, Size: torch.Size([8388608, 1]), Memory: 8.00 MB\n",
      "Tensor: <class 'bitsandbytes.nn.modules.Params4bit'>, Size: torch.Size([2097152, 1]), Memory: 2.00 MB\n",
      "Tensor: <class 'bitsandbytes.nn.modules.Params4bit'>, Size: torch.Size([29360128, 1]), Memory: 28.00 MB\n",
      "Tensor: <class 'bitsandbytes.nn.modules.Params4bit'>, Size: torch.Size([29360128, 1]), Memory: 28.00 MB\n",
      "Tensor: <class 'bitsandbytes.nn.modules.Params4bit'>, Size: torch.Size([29360128, 1]), Memory: 28.00 MB\n",
      "Tensor: <class 'bitsandbytes.nn.modules.Params4bit'>, Size: torch.Size([2097152, 1]), Memory: 2.00 MB\n",
      "Tensor: <class 'bitsandbytes.nn.modules.Params4bit'>, Size: torch.Size([8388608, 1]), Memory: 8.00 MB\n",
      "Tensor: <class 'bitsandbytes.nn.modules.Params4bit'>, Size: torch.Size([8388608, 1]), Memory: 8.00 MB\n",
      "Tensor: <class 'bitsandbytes.nn.modules.Params4bit'>, Size: torch.Size([2097152, 1]), Memory: 2.00 MB\n",
      "Tensor: <class 'bitsandbytes.nn.modules.Params4bit'>, Size: torch.Size([29360128, 1]), Memory: 28.00 MB\n",
      "Tensor: <class 'bitsandbytes.nn.modules.Params4bit'>, Size: torch.Size([29360128, 1]), Memory: 28.00 MB\n",
      "Tensor: <class 'bitsandbytes.nn.modules.Params4bit'>, Size: torch.Size([29360128, 1]), Memory: 28.00 MB\n",
      "Tensor: <class 'bitsandbytes.nn.modules.Params4bit'>, Size: torch.Size([2097152, 1]), Memory: 2.00 MB\n",
      "Tensor: <class 'bitsandbytes.nn.modules.Params4bit'>, Size: torch.Size([8388608, 1]), Memory: 8.00 MB\n",
      "Tensor: <class 'bitsandbytes.nn.modules.Params4bit'>, Size: torch.Size([8388608, 1]), Memory: 8.00 MB\n",
      "Tensor: <class 'bitsandbytes.nn.modules.Params4bit'>, Size: torch.Size([2097152, 1]), Memory: 2.00 MB\n",
      "Tensor: <class 'bitsandbytes.nn.modules.Params4bit'>, Size: torch.Size([29360128, 1]), Memory: 28.00 MB\n",
      "Tensor: <class 'bitsandbytes.nn.modules.Params4bit'>, Size: torch.Size([29360128, 1]), Memory: 28.00 MB\n",
      "Tensor: <class 'bitsandbytes.nn.modules.Params4bit'>, Size: torch.Size([29360128, 1]), Memory: 28.00 MB\n",
      "Tensor: <class 'bitsandbytes.nn.modules.Params4bit'>, Size: torch.Size([2097152, 1]), Memory: 2.00 MB\n",
      "Tensor: <class 'bitsandbytes.nn.modules.Params4bit'>, Size: torch.Size([8388608, 1]), Memory: 8.00 MB\n",
      "Tensor: <class 'bitsandbytes.nn.modules.Params4bit'>, Size: torch.Size([8388608, 1]), Memory: 8.00 MB\n",
      "Tensor: <class 'bitsandbytes.nn.modules.Params4bit'>, Size: torch.Size([2097152, 1]), Memory: 2.00 MB\n",
      "Tensor: <class 'bitsandbytes.nn.modules.Params4bit'>, Size: torch.Size([29360128, 1]), Memory: 28.00 MB\n",
      "Tensor: <class 'bitsandbytes.nn.modules.Params4bit'>, Size: torch.Size([29360128, 1]), Memory: 28.00 MB\n",
      "Tensor: <class 'bitsandbytes.nn.modules.Params4bit'>, Size: torch.Size([29360128, 1]), Memory: 28.00 MB\n",
      "Tensor: <class 'bitsandbytes.nn.modules.Params4bit'>, Size: torch.Size([2097152, 1]), Memory: 2.00 MB\n",
      "Tensor: <class 'bitsandbytes.nn.modules.Params4bit'>, Size: torch.Size([8388608, 1]), Memory: 8.00 MB\n",
      "Tensor: <class 'bitsandbytes.nn.modules.Params4bit'>, Size: torch.Size([8388608, 1]), Memory: 8.00 MB\n",
      "Tensor: <class 'bitsandbytes.nn.modules.Params4bit'>, Size: torch.Size([2097152, 1]), Memory: 2.00 MB\n",
      "Tensor: <class 'bitsandbytes.nn.modules.Params4bit'>, Size: torch.Size([29360128, 1]), Memory: 28.00 MB\n",
      "Tensor: <class 'bitsandbytes.nn.modules.Params4bit'>, Size: torch.Size([29360128, 1]), Memory: 28.00 MB\n",
      "Tensor: <class 'bitsandbytes.nn.modules.Params4bit'>, Size: torch.Size([29360128, 1]), Memory: 28.00 MB\n",
      "Tensor: <class 'bitsandbytes.nn.modules.Params4bit'>, Size: torch.Size([2097152, 1]), Memory: 2.00 MB\n",
      "Tensor: <class 'bitsandbytes.nn.modules.Params4bit'>, Size: torch.Size([8388608, 1]), Memory: 8.00 MB\n",
      "Tensor: <class 'bitsandbytes.nn.modules.Params4bit'>, Size: torch.Size([8388608, 1]), Memory: 8.00 MB\n",
      "Tensor: <class 'bitsandbytes.nn.modules.Params4bit'>, Size: torch.Size([2097152, 1]), Memory: 2.00 MB\n",
      "Tensor: <class 'bitsandbytes.nn.modules.Params4bit'>, Size: torch.Size([29360128, 1]), Memory: 28.00 MB\n",
      "Tensor: <class 'bitsandbytes.nn.modules.Params4bit'>, Size: torch.Size([29360128, 1]), Memory: 28.00 MB\n",
      "Tensor: <class 'bitsandbytes.nn.modules.Params4bit'>, Size: torch.Size([29360128, 1]), Memory: 28.00 MB\n",
      "Tensor: <class 'bitsandbytes.nn.modules.Params4bit'>, Size: torch.Size([2097152, 1]), Memory: 2.00 MB\n",
      "Tensor: <class 'bitsandbytes.nn.modules.Params4bit'>, Size: torch.Size([8388608, 1]), Memory: 8.00 MB\n",
      "Tensor: <class 'bitsandbytes.nn.modules.Params4bit'>, Size: torch.Size([8388608, 1]), Memory: 8.00 MB\n",
      "Tensor: <class 'bitsandbytes.nn.modules.Params4bit'>, Size: torch.Size([2097152, 1]), Memory: 2.00 MB\n",
      "Tensor: <class 'bitsandbytes.nn.modules.Params4bit'>, Size: torch.Size([29360128, 1]), Memory: 28.00 MB\n",
      "Tensor: <class 'bitsandbytes.nn.modules.Params4bit'>, Size: torch.Size([29360128, 1]), Memory: 28.00 MB\n",
      "Tensor: <class 'bitsandbytes.nn.modules.Params4bit'>, Size: torch.Size([29360128, 1]), Memory: 28.00 MB\n",
      "Tensor: <class 'bitsandbytes.nn.modules.Params4bit'>, Size: torch.Size([2097152, 1]), Memory: 2.00 MB\n",
      "Tensor: <class 'bitsandbytes.nn.modules.Params4bit'>, Size: torch.Size([8388608, 1]), Memory: 8.00 MB\n",
      "Tensor: <class 'bitsandbytes.nn.modules.Params4bit'>, Size: torch.Size([8388608, 1]), Memory: 8.00 MB\n",
      "Tensor: <class 'bitsandbytes.nn.modules.Params4bit'>, Size: torch.Size([2097152, 1]), Memory: 2.00 MB\n",
      "Tensor: <class 'bitsandbytes.nn.modules.Params4bit'>, Size: torch.Size([29360128, 1]), Memory: 28.00 MB\n",
      "Tensor: <class 'bitsandbytes.nn.modules.Params4bit'>, Size: torch.Size([29360128, 1]), Memory: 28.00 MB\n",
      "Tensor: <class 'bitsandbytes.nn.modules.Params4bit'>, Size: torch.Size([29360128, 1]), Memory: 28.00 MB\n",
      "Tensor: <class 'bitsandbytes.nn.modules.Params4bit'>, Size: torch.Size([2097152, 1]), Memory: 2.00 MB\n",
      "Tensor: <class 'bitsandbytes.nn.modules.Params4bit'>, Size: torch.Size([8388608, 1]), Memory: 8.00 MB\n",
      "Tensor: <class 'bitsandbytes.nn.modules.Params4bit'>, Size: torch.Size([8388608, 1]), Memory: 8.00 MB\n",
      "Tensor: <class 'bitsandbytes.nn.modules.Params4bit'>, Size: torch.Size([2097152, 1]), Memory: 2.00 MB\n",
      "Tensor: <class 'bitsandbytes.nn.modules.Params4bit'>, Size: torch.Size([29360128, 1]), Memory: 28.00 MB\n",
      "Tensor: <class 'bitsandbytes.nn.modules.Params4bit'>, Size: torch.Size([29360128, 1]), Memory: 28.00 MB\n",
      "Tensor: <class 'bitsandbytes.nn.modules.Params4bit'>, Size: torch.Size([29360128, 1]), Memory: 28.00 MB\n",
      "Tensor: <class 'bitsandbytes.nn.modules.Params4bit'>, Size: torch.Size([2097152, 1]), Memory: 2.00 MB\n",
      "Tensor: <class 'bitsandbytes.nn.modules.Params4bit'>, Size: torch.Size([8388608, 1]), Memory: 8.00 MB\n",
      "Tensor: <class 'bitsandbytes.nn.modules.Params4bit'>, Size: torch.Size([8388608, 1]), Memory: 8.00 MB\n",
      "Tensor: <class 'bitsandbytes.nn.modules.Params4bit'>, Size: torch.Size([2097152, 1]), Memory: 2.00 MB\n",
      "Tensor: <class 'bitsandbytes.nn.modules.Params4bit'>, Size: torch.Size([2097152, 1]), Memory: 2.00 MB\n",
      "Tensor: <class 'bitsandbytes.nn.modules.Params4bit'>, Size: torch.Size([2097152, 1]), Memory: 2.00 MB\n",
      "Tensor: <class 'torch.nn.parameter.Parameter'>, Size: torch.Size([14336, 4096]), Memory: 112.00 MB\n",
      "Tensor: <class 'torch.nn.parameter.Parameter'>, Size: torch.Size([14336, 4096]), Memory: 112.00 MB\n",
      "Tensor: <class 'torch.nn.parameter.Parameter'>, Size: torch.Size([4096, 14336]), Memory: 112.00 MB\n",
      "Tensor: <class 'torch.nn.parameter.Parameter'>, Size: torch.Size([128256, 4096]), Memory: 1002.00 MB\n",
      "Tensor: <class 'bitsandbytes.nn.modules.Params4bit'>, Size: torch.Size([8388608, 1]), Memory: 8.00 MB\n",
      "Tensor: <class 'torch.nn.parameter.Parameter'>, Size: torch.Size([128256, 4096]), Memory: 1002.00 MB\n",
      "Tensor: <class 'bitsandbytes.nn.modules.Params4bit'>, Size: torch.Size([8388608, 1]), Memory: 8.00 MB\n",
      "Tensor: <class 'torch.Tensor'>, Size: torch.Size([4, 64, 4096]), Memory: 4.00 MB\n",
      "Tensor: <class 'torch.Tensor'>, Size: torch.Size([4, 64, 4096]), Memory: 2.00 MB\n",
      "Tensor: <class 'torch.Tensor'>, Size: torch.Size([4, 64, 4096]), Memory: 4.00 MB\n",
      "Tensor: <class 'torch.Tensor'>, Size: torch.Size([4, 64, 14336]), Memory: 14.00 MB\n",
      "Tensor: <class 'torch.Tensor'>, Size: torch.Size([4, 64, 14336]), Memory: 7.00 MB\n",
      "Tensor: <class 'torch.Tensor'>, Size: torch.Size([4, 64, 14336]), Memory: 7.00 MB\n",
      "Tensor: <class 'torch.Tensor'>, Size: torch.Size([4, 64, 14336]), Memory: 7.00 MB\n",
      "Tensor: <class 'torch.Tensor'>, Size: torch.Size([4, 64, 14336]), Memory: 14.00 MB\n",
      "Tensor: <class 'torch.Tensor'>, Size: torch.Size([4, 64, 14336]), Memory: 7.00 MB\n",
      "Tensor: <class 'torch.Tensor'>, Size: torch.Size([4, 64, 14336]), Memory: 7.00 MB\n",
      "Tensor: <class 'torch.Tensor'>, Size: torch.Size([4, 64, 4096]), Memory: 4.00 MB\n",
      "Tensor: <class 'torch.Tensor'>, Size: torch.Size([4, 64, 4096]), Memory: 2.00 MB\n",
      "Tensor: <class 'torch.Tensor'>, Size: torch.Size([4, 64, 4096]), Memory: 4.00 MB\n",
      "Tensor: <class 'torch.Tensor'>, Size: torch.Size([4, 64, 4096]), Memory: 4.00 MB\n",
      "Tensor: <class 'torch.Tensor'>, Size: torch.Size([4, 64, 4096]), Memory: 2.00 MB\n",
      "Tensor: <class 'torch.Tensor'>, Size: torch.Size([4, 64, 4096]), Memory: 4.00 MB\n",
      "Tensor: <class 'torch.Tensor'>, Size: torch.Size([4, 64, 4096]), Memory: 2.00 MB\n",
      "Tensor: <class 'torch.Tensor'>, Size: torch.Size([4, 64, 4096]), Memory: 4.00 MB\n",
      "Tensor: <class 'torch.Tensor'>, Size: torch.Size([4, 64, 4096]), Memory: 4.00 MB\n",
      "Tensor: <class 'torch.Tensor'>, Size: torch.Size([4, 64, 4096]), Memory: 2.00 MB\n",
      "Tensor: <class 'torch.Tensor'>, Size: torch.Size([4, 64, 4096]), Memory: 4.00 MB\n",
      "Tensor: <class 'torch.Tensor'>, Size: torch.Size([4, 64, 4096]), Memory: 2.00 MB\n",
      "Tensor: <class 'torch.Tensor'>, Size: torch.Size([4, 64, 4096]), Memory: 4.00 MB\n",
      "Tensor: <class 'torch.Tensor'>, Size: torch.Size([4, 64, 14336]), Memory: 14.00 MB\n",
      "Tensor: <class 'torch.Tensor'>, Size: torch.Size([4, 64, 14336]), Memory: 7.00 MB\n",
      "Tensor: <class 'torch.Tensor'>, Size: torch.Size([4, 64, 14336]), Memory: 7.00 MB\n",
      "Tensor: <class 'torch.Tensor'>, Size: torch.Size([4, 64, 14336]), Memory: 7.00 MB\n",
      "Tensor: <class 'torch.Tensor'>, Size: torch.Size([4, 64, 14336]), Memory: 14.00 MB\n",
      "Tensor: <class 'torch.Tensor'>, Size: torch.Size([4, 64, 14336]), Memory: 7.00 MB\n",
      "Tensor: <class 'torch.Tensor'>, Size: torch.Size([4, 64, 14336]), Memory: 7.00 MB\n",
      "Tensor: <class 'torch.Tensor'>, Size: torch.Size([4, 64, 4096]), Memory: 4.00 MB\n",
      "Tensor: <class 'torch.Tensor'>, Size: torch.Size([4, 64, 4096]), Memory: 2.00 MB\n",
      "Tensor: <class 'torch.Tensor'>, Size: torch.Size([4, 64, 4096]), Memory: 4.00 MB\n",
      "Tensor: <class 'torch.Tensor'>, Size: torch.Size([4, 64, 4096]), Memory: 4.00 MB\n",
      "Tensor: <class 'torch.Tensor'>, Size: torch.Size([4, 64, 4096]), Memory: 2.00 MB\n",
      "Tensor: <class 'torch.Tensor'>, Size: torch.Size([4, 64, 4096]), Memory: 4.00 MB\n",
      "Tensor: <class 'torch.Tensor'>, Size: torch.Size([4, 64, 4096]), Memory: 2.00 MB\n",
      "Tensor: <class 'torch.Tensor'>, Size: torch.Size([4, 64, 4096]), Memory: 4.00 MB\n",
      "Tensor: <class 'torch.Tensor'>, Size: torch.Size([4, 64, 14336]), Memory: 14.00 MB\n",
      "Tensor: <class 'torch.Tensor'>, Size: torch.Size([4, 64, 14336]), Memory: 7.00 MB\n",
      "Tensor: <class 'torch.Tensor'>, Size: torch.Size([4, 64, 14336]), Memory: 7.00 MB\n",
      "Tensor: <class 'torch.Tensor'>, Size: torch.Size([4, 64, 14336]), Memory: 7.00 MB\n",
      "Tensor: <class 'torch.Tensor'>, Size: torch.Size([4, 64, 14336]), Memory: 14.00 MB\n",
      "Tensor: <class 'torch.Tensor'>, Size: torch.Size([4, 64, 14336]), Memory: 7.00 MB\n",
      "Tensor: <class 'torch.Tensor'>, Size: torch.Size([4, 64, 14336]), Memory: 7.00 MB\n",
      "Tensor: <class 'torch.Tensor'>, Size: torch.Size([4, 64, 4096]), Memory: 4.00 MB\n",
      "Tensor: <class 'torch.Tensor'>, Size: torch.Size([4, 64, 4096]), Memory: 2.00 MB\n",
      "Tensor: <class 'torch.Tensor'>, Size: torch.Size([4, 64, 4096]), Memory: 4.00 MB\n",
      "Tensor: <class 'torch.Tensor'>, Size: torch.Size([4, 64, 4096]), Memory: 4.00 MB\n",
      "Tensor: <class 'torch.Tensor'>, Size: torch.Size([4, 64, 4096]), Memory: 2.00 MB\n",
      "Tensor: <class 'torch.Tensor'>, Size: torch.Size([4, 64, 4096]), Memory: 4.00 MB\n",
      "Tensor: <class 'torch.Tensor'>, Size: torch.Size([4, 64, 4096]), Memory: 2.00 MB\n",
      "Tensor: <class 'torch.Tensor'>, Size: torch.Size([4, 64, 4096]), Memory: 4.00 MB\n",
      "Tensor: <class 'torch.Tensor'>, Size: torch.Size([4, 64, 14336]), Memory: 14.00 MB\n",
      "Tensor: <class 'torch.Tensor'>, Size: torch.Size([4, 64, 14336]), Memory: 7.00 MB\n",
      "Tensor: <class 'torch.Tensor'>, Size: torch.Size([4, 64, 14336]), Memory: 7.00 MB\n",
      "Tensor: <class 'torch.Tensor'>, Size: torch.Size([4, 64, 14336]), Memory: 7.00 MB\n",
      "Tensor: <class 'torch.Tensor'>, Size: torch.Size([4, 64, 14336]), Memory: 14.00 MB\n",
      "Tensor: <class 'torch.Tensor'>, Size: torch.Size([4, 64, 14336]), Memory: 7.00 MB\n",
      "Tensor: <class 'torch.Tensor'>, Size: torch.Size([4, 64, 14336]), Memory: 7.00 MB\n",
      "Tensor: <class 'torch.Tensor'>, Size: torch.Size([4, 64, 4096]), Memory: 4.00 MB\n",
      "Tensor: <class 'torch.Tensor'>, Size: torch.Size([4, 64, 4096]), Memory: 2.00 MB\n",
      "Tensor: <class 'torch.Tensor'>, Size: torch.Size([4, 64, 4096]), Memory: 4.00 MB\n",
      "Tensor: <class 'torch.Tensor'>, Size: torch.Size([4, 64, 4096]), Memory: 4.00 MB\n",
      "Tensor: <class 'torch.Tensor'>, Size: torch.Size([4, 64, 4096]), Memory: 2.00 MB\n",
      "Tensor: <class 'torch.Tensor'>, Size: torch.Size([4, 64, 4096]), Memory: 4.00 MB\n",
      "Tensor: <class 'torch.Tensor'>, Size: torch.Size([4, 64, 4096]), Memory: 2.00 MB\n",
      "Tensor: <class 'torch.Tensor'>, Size: torch.Size([4, 64, 4096]), Memory: 4.00 MB\n",
      "Tensor: <class 'torch.Tensor'>, Size: torch.Size([4, 64, 14336]), Memory: 14.00 MB\n",
      "Tensor: <class 'torch.Tensor'>, Size: torch.Size([4, 64, 14336]), Memory: 7.00 MB\n",
      "Tensor: <class 'torch.Tensor'>, Size: torch.Size([4, 64, 14336]), Memory: 7.00 MB\n",
      "Tensor: <class 'torch.Tensor'>, Size: torch.Size([4, 64, 14336]), Memory: 7.00 MB\n",
      "Tensor: <class 'torch.Tensor'>, Size: torch.Size([4, 64, 14336]), Memory: 14.00 MB\n",
      "Tensor: <class 'torch.Tensor'>, Size: torch.Size([4, 64, 14336]), Memory: 7.00 MB\n",
      "Tensor: <class 'torch.Tensor'>, Size: torch.Size([4, 64, 14336]), Memory: 7.00 MB\n",
      "Tensor: <class 'torch.Tensor'>, Size: torch.Size([4, 64, 4096]), Memory: 4.00 MB\n",
      "Tensor: <class 'torch.Tensor'>, Size: torch.Size([4, 64, 4096]), Memory: 2.00 MB\n",
      "Tensor: <class 'torch.Tensor'>, Size: torch.Size([4, 64, 4096]), Memory: 4.00 MB\n",
      "Tensor: <class 'torch.Tensor'>, Size: torch.Size([4, 64, 4096]), Memory: 4.00 MB\n",
      "Tensor: <class 'torch.Tensor'>, Size: torch.Size([4, 64, 4096]), Memory: 2.00 MB\n",
      "Tensor: <class 'torch.Tensor'>, Size: torch.Size([4, 64, 4096]), Memory: 4.00 MB\n",
      "Tensor: <class 'torch.Tensor'>, Size: torch.Size([4, 64, 4096]), Memory: 2.00 MB\n",
      "Tensor: <class 'torch.Tensor'>, Size: torch.Size([4, 64, 4096]), Memory: 4.00 MB\n",
      "Tensor: <class 'torch.Tensor'>, Size: torch.Size([4, 64, 14336]), Memory: 14.00 MB\n",
      "Tensor: <class 'torch.Tensor'>, Size: torch.Size([4, 64, 14336]), Memory: 7.00 MB\n",
      "Tensor: <class 'torch.Tensor'>, Size: torch.Size([4, 64, 14336]), Memory: 7.00 MB\n",
      "Tensor: <class 'torch.Tensor'>, Size: torch.Size([4, 64, 14336]), Memory: 7.00 MB\n",
      "Tensor: <class 'torch.Tensor'>, Size: torch.Size([4, 64, 14336]), Memory: 14.00 MB\n",
      "Tensor: <class 'torch.Tensor'>, Size: torch.Size([4, 64, 14336]), Memory: 7.00 MB\n",
      "Tensor: <class 'torch.Tensor'>, Size: torch.Size([4, 64, 14336]), Memory: 7.00 MB\n",
      "Tensor: <class 'torch.Tensor'>, Size: torch.Size([4, 64, 4096]), Memory: 4.00 MB\n",
      "Tensor: <class 'torch.Tensor'>, Size: torch.Size([4, 64, 4096]), Memory: 2.00 MB\n",
      "Tensor: <class 'torch.Tensor'>, Size: torch.Size([4, 64, 4096]), Memory: 4.00 MB\n",
      "Tensor: <class 'torch.Tensor'>, Size: torch.Size([4, 64, 4096]), Memory: 4.00 MB\n",
      "Tensor: <class 'torch.Tensor'>, Size: torch.Size([4, 64, 4096]), Memory: 2.00 MB\n",
      "Tensor: <class 'torch.Tensor'>, Size: torch.Size([4, 64, 4096]), Memory: 4.00 MB\n",
      "Tensor: <class 'torch.Tensor'>, Size: torch.Size([4, 64, 4096]), Memory: 2.00 MB\n",
      "Tensor: <class 'torch.Tensor'>, Size: torch.Size([4, 64, 4096]), Memory: 4.00 MB\n",
      "Tensor: <class 'torch.Tensor'>, Size: torch.Size([4, 64, 14336]), Memory: 14.00 MB\n",
      "Tensor: <class 'torch.Tensor'>, Size: torch.Size([4, 64, 14336]), Memory: 7.00 MB\n",
      "Tensor: <class 'torch.Tensor'>, Size: torch.Size([4, 64, 14336]), Memory: 7.00 MB\n",
      "Tensor: <class 'torch.Tensor'>, Size: torch.Size([4, 64, 14336]), Memory: 7.00 MB\n",
      "Tensor: <class 'torch.Tensor'>, Size: torch.Size([4, 64, 14336]), Memory: 14.00 MB\n",
      "Tensor: <class 'torch.Tensor'>, Size: torch.Size([4, 64, 14336]), Memory: 7.00 MB\n",
      "Tensor: <class 'torch.Tensor'>, Size: torch.Size([4, 64, 14336]), Memory: 7.00 MB\n",
      "Tensor: <class 'torch.Tensor'>, Size: torch.Size([4, 64, 4096]), Memory: 4.00 MB\n",
      "Tensor: <class 'torch.Tensor'>, Size: torch.Size([4, 64, 4096]), Memory: 2.00 MB\n",
      "Tensor: <class 'torch.Tensor'>, Size: torch.Size([4, 64, 4096]), Memory: 4.00 MB\n",
      "Tensor: <class 'torch.Tensor'>, Size: torch.Size([4, 64, 4096]), Memory: 4.00 MB\n",
      "Tensor: <class 'torch.Tensor'>, Size: torch.Size([4, 64, 4096]), Memory: 2.00 MB\n",
      "Tensor: <class 'torch.Tensor'>, Size: torch.Size([1, 8388608]), Memory: 8.00 MB\n",
      "Tensor: <class 'torch.Tensor'>, Size: torch.Size([1, 29360128]), Memory: 28.00 MB\n",
      "Tensor: <class 'torch.Tensor'>, Size: torch.Size([1, 29360128]), Memory: 28.00 MB\n",
      "Tensor: <class 'torch.Tensor'>, Size: torch.Size([1, 29360128]), Memory: 28.00 MB\n",
      "Tensor: <class 'torch.Tensor'>, Size: torch.Size([1, 8388608]), Memory: 8.00 MB\n",
      "Tensor: <class 'torch.Tensor'>, Size: torch.Size([1, 2097152]), Memory: 2.00 MB\n",
      "Tensor: <class 'torch.Tensor'>, Size: torch.Size([1, 2097152]), Memory: 2.00 MB\n",
      "Tensor: <class 'torch.Tensor'>, Size: torch.Size([1, 8388608]), Memory: 8.00 MB\n",
      "Tensor: <class 'torch.Tensor'>, Size: torch.Size([1, 8388608]), Memory: 8.00 MB\n",
      "Tensor: <class 'torch.Tensor'>, Size: torch.Size([1, 2097152]), Memory: 2.00 MB\n",
      "Tensor: <class 'torch.Tensor'>, Size: torch.Size([1, 2097152]), Memory: 2.00 MB\n",
      "Tensor: <class 'torch.Tensor'>, Size: torch.Size([1, 8388608]), Memory: 8.00 MB\n",
      "Tensor: <class 'torch.Tensor'>, Size: torch.Size([1, 29360128]), Memory: 28.00 MB\n",
      "Tensor: <class 'torch.Tensor'>, Size: torch.Size([1, 29360128]), Memory: 28.00 MB\n",
      "Tensor: <class 'torch.Tensor'>, Size: torch.Size([1, 29360128]), Memory: 28.00 MB\n",
      "Tensor: <class 'torch.Tensor'>, Size: torch.Size([1, 8388608]), Memory: 8.00 MB\n",
      "Tensor: <class 'torch.Tensor'>, Size: torch.Size([1, 2097152]), Memory: 2.00 MB\n",
      "Tensor: <class 'torch.Tensor'>, Size: torch.Size([1, 2097152]), Memory: 2.00 MB\n",
      "Tensor: <class 'torch.Tensor'>, Size: torch.Size([1, 8388608]), Memory: 8.00 MB\n",
      "Tensor: <class 'torch.Tensor'>, Size: torch.Size([1, 29360128]), Memory: 28.00 MB\n",
      "Tensor: <class 'torch.Tensor'>, Size: torch.Size([1, 29360128]), Memory: 28.00 MB\n",
      "Tensor: <class 'torch.Tensor'>, Size: torch.Size([1, 29360128]), Memory: 28.00 MB\n",
      "Tensor: <class 'torch.Tensor'>, Size: torch.Size([1, 8388608]), Memory: 8.00 MB\n",
      "Tensor: <class 'torch.Tensor'>, Size: torch.Size([1, 2097152]), Memory: 2.00 MB\n",
      "Tensor: <class 'torch.Tensor'>, Size: torch.Size([1, 2097152]), Memory: 2.00 MB\n",
      "Tensor: <class 'torch.Tensor'>, Size: torch.Size([1, 8388608]), Memory: 8.00 MB\n",
      "Tensor: <class 'torch.Tensor'>, Size: torch.Size([1, 29360128]), Memory: 28.00 MB\n",
      "Tensor: <class 'torch.Tensor'>, Size: torch.Size([1, 29360128]), Memory: 28.00 MB\n",
      "Tensor: <class 'torch.Tensor'>, Size: torch.Size([1, 29360128]), Memory: 28.00 MB\n",
      "Tensor: <class 'torch.Tensor'>, Size: torch.Size([1, 8388608]), Memory: 8.00 MB\n",
      "Tensor: <class 'torch.Tensor'>, Size: torch.Size([1, 2097152]), Memory: 2.00 MB\n",
      "Tensor: <class 'torch.Tensor'>, Size: torch.Size([1, 2097152]), Memory: 2.00 MB\n",
      "Tensor: <class 'torch.Tensor'>, Size: torch.Size([1, 8388608]), Memory: 8.00 MB\n",
      "Tensor: <class 'torch.Tensor'>, Size: torch.Size([1, 29360128]), Memory: 28.00 MB\n",
      "Tensor: <class 'torch.Tensor'>, Size: torch.Size([1, 29360128]), Memory: 28.00 MB\n",
      "Tensor: <class 'torch.Tensor'>, Size: torch.Size([1, 29360128]), Memory: 28.00 MB\n",
      "Tensor: <class 'torch.Tensor'>, Size: torch.Size([1, 8388608]), Memory: 8.00 MB\n",
      "Tensor: <class 'torch.Tensor'>, Size: torch.Size([1, 2097152]), Memory: 2.00 MB\n",
      "Tensor: <class 'torch.Tensor'>, Size: torch.Size([4, 64, 4096]), Memory: 4.00 MB\n",
      "Tensor: <class 'torch.Tensor'>, Size: torch.Size([4, 64, 4096]), Memory: 2.00 MB\n",
      "Tensor: <class 'torch.Tensor'>, Size: torch.Size([4, 64, 4096]), Memory: 4.00 MB\n",
      "Tensor: <class 'torch.Tensor'>, Size: torch.Size([4, 64, 14336]), Memory: 14.00 MB\n",
      "Tensor: <class 'torch.Tensor'>, Size: torch.Size([4, 64, 14336]), Memory: 7.00 MB\n",
      "Tensor: <class 'torch.Tensor'>, Size: torch.Size([4, 64, 14336]), Memory: 7.00 MB\n",
      "Tensor: <class 'torch.Tensor'>, Size: torch.Size([4, 64, 14336]), Memory: 7.00 MB\n",
      "Tensor: <class 'torch.Tensor'>, Size: torch.Size([4, 64, 14336]), Memory: 14.00 MB\n",
      "Tensor: <class 'torch.Tensor'>, Size: torch.Size([4, 64, 14336]), Memory: 7.00 MB\n",
      "Tensor: <class 'torch.Tensor'>, Size: torch.Size([4, 64, 14336]), Memory: 7.00 MB\n",
      "Tensor: <class 'torch.Tensor'>, Size: torch.Size([4, 64, 4096]), Memory: 4.00 MB\n",
      "Tensor: <class 'torch.Tensor'>, Size: torch.Size([4, 64, 4096]), Memory: 2.00 MB\n",
      "Tensor: <class 'torch.Tensor'>, Size: torch.Size([4, 64, 4096]), Memory: 4.00 MB\n",
      "Tensor: <class 'torch.Tensor'>, Size: torch.Size([4, 64, 4096]), Memory: 4.00 MB\n",
      "Tensor: <class 'torch.Tensor'>, Size: torch.Size([4, 64, 4096]), Memory: 2.00 MB\n",
      "Tensor: <class 'torch.Tensor'>, Size: torch.Size([4, 64, 4096]), Memory: 4.00 MB\n",
      "Tensor: <class 'torch.Tensor'>, Size: torch.Size([4, 64, 4096]), Memory: 2.00 MB\n",
      "Tensor: <class 'torch.Tensor'>, Size: torch.Size([4, 64, 4096]), Memory: 4.00 MB\n",
      "Tensor: <class 'torch.Tensor'>, Size: torch.Size([4, 64, 14336]), Memory: 14.00 MB\n",
      "Tensor: <class 'torch.Tensor'>, Size: torch.Size([4, 64, 14336]), Memory: 7.00 MB\n",
      "Tensor: <class 'torch.Tensor'>, Size: torch.Size([4, 64, 14336]), Memory: 7.00 MB\n",
      "Tensor: <class 'torch.Tensor'>, Size: torch.Size([4, 64, 14336]), Memory: 7.00 MB\n",
      "Tensor: <class 'torch.Tensor'>, Size: torch.Size([4, 64, 14336]), Memory: 14.00 MB\n",
      "Tensor: <class 'torch.Tensor'>, Size: torch.Size([4, 64, 14336]), Memory: 7.00 MB\n",
      "Tensor: <class 'torch.Tensor'>, Size: torch.Size([4, 64, 14336]), Memory: 7.00 MB\n",
      "Tensor: <class 'torch.Tensor'>, Size: torch.Size([4, 64, 4096]), Memory: 4.00 MB\n",
      "Tensor: <class 'torch.Tensor'>, Size: torch.Size([4, 64, 4096]), Memory: 2.00 MB\n",
      "Tensor: <class 'torch.Tensor'>, Size: torch.Size([4, 64, 4096]), Memory: 4.00 MB\n",
      "Tensor: <class 'torch.Tensor'>, Size: torch.Size([4, 64, 4096]), Memory: 4.00 MB\n",
      "Tensor: <class 'torch.Tensor'>, Size: torch.Size([4, 64, 4096]), Memory: 2.00 MB\n",
      "Tensor: <class 'torch.Tensor'>, Size: torch.Size([4, 64, 4096]), Memory: 4.00 MB\n",
      "Tensor: <class 'torch.Tensor'>, Size: torch.Size([4, 64, 4096]), Memory: 2.00 MB\n",
      "Tensor: <class 'torch.Tensor'>, Size: torch.Size([4, 64, 4096]), Memory: 4.00 MB\n",
      "Tensor: <class 'torch.Tensor'>, Size: torch.Size([4, 64, 14336]), Memory: 14.00 MB\n",
      "Tensor: <class 'torch.Tensor'>, Size: torch.Size([4, 64, 14336]), Memory: 7.00 MB\n",
      "Tensor: <class 'torch.Tensor'>, Size: torch.Size([4, 64, 14336]), Memory: 7.00 MB\n",
      "Tensor: <class 'torch.Tensor'>, Size: torch.Size([4, 64, 14336]), Memory: 7.00 MB\n",
      "Tensor: <class 'torch.Tensor'>, Size: torch.Size([4, 64, 14336]), Memory: 14.00 MB\n",
      "Tensor: <class 'torch.Tensor'>, Size: torch.Size([4, 64, 14336]), Memory: 7.00 MB\n",
      "Tensor: <class 'torch.Tensor'>, Size: torch.Size([4, 64, 14336]), Memory: 7.00 MB\n",
      "Tensor: <class 'torch.Tensor'>, Size: torch.Size([4, 64, 4096]), Memory: 4.00 MB\n",
      "Tensor: <class 'torch.Tensor'>, Size: torch.Size([4, 64, 4096]), Memory: 2.00 MB\n",
      "Tensor: <class 'torch.Tensor'>, Size: torch.Size([4, 64, 4096]), Memory: 4.00 MB\n",
      "Tensor: <class 'torch.Tensor'>, Size: torch.Size([4, 64, 4096]), Memory: 4.00 MB\n",
      "Tensor: <class 'torch.Tensor'>, Size: torch.Size([4, 64, 4096]), Memory: 2.00 MB\n",
      "Tensor: <class 'torch.Tensor'>, Size: torch.Size([4, 64, 4096]), Memory: 4.00 MB\n",
      "Tensor: <class 'torch.Tensor'>, Size: torch.Size([4, 64, 4096]), Memory: 2.00 MB\n",
      "Tensor: <class 'torch.Tensor'>, Size: torch.Size([4, 64, 4096]), Memory: 4.00 MB\n",
      "Tensor: <class 'torch.Tensor'>, Size: torch.Size([4, 64, 14336]), Memory: 14.00 MB\n",
      "Tensor: <class 'torch.Tensor'>, Size: torch.Size([4, 64, 14336]), Memory: 7.00 MB\n",
      "Tensor: <class 'torch.Tensor'>, Size: torch.Size([4, 64, 14336]), Memory: 7.00 MB\n",
      "Tensor: <class 'torch.Tensor'>, Size: torch.Size([4, 64, 14336]), Memory: 7.00 MB\n",
      "Tensor: <class 'torch.Tensor'>, Size: torch.Size([4, 64, 14336]), Memory: 14.00 MB\n",
      "Tensor: <class 'torch.Tensor'>, Size: torch.Size([4, 64, 14336]), Memory: 7.00 MB\n",
      "Tensor: <class 'torch.Tensor'>, Size: torch.Size([4, 64, 14336]), Memory: 7.00 MB\n",
      "Tensor: <class 'torch.Tensor'>, Size: torch.Size([4, 64, 4096]), Memory: 4.00 MB\n",
      "Tensor: <class 'torch.Tensor'>, Size: torch.Size([4, 64, 4096]), Memory: 2.00 MB\n",
      "Tensor: <class 'torch.Tensor'>, Size: torch.Size([4, 64, 4096]), Memory: 4.00 MB\n",
      "Tensor: <class 'torch.Tensor'>, Size: torch.Size([4, 64, 4096]), Memory: 4.00 MB\n",
      "Tensor: <class 'torch.Tensor'>, Size: torch.Size([4, 64, 4096]), Memory: 2.00 MB\n",
      "Tensor: <class 'torch.Tensor'>, Size: torch.Size([4, 64, 4096]), Memory: 4.00 MB\n",
      "Tensor: <class 'torch.Tensor'>, Size: torch.Size([4, 64, 4096]), Memory: 2.00 MB\n",
      "Tensor: <class 'torch.Tensor'>, Size: torch.Size([4, 64, 4096]), Memory: 4.00 MB\n",
      "Tensor: <class 'torch.Tensor'>, Size: torch.Size([4, 64, 14336]), Memory: 14.00 MB\n",
      "Tensor: <class 'torch.Tensor'>, Size: torch.Size([4, 64, 14336]), Memory: 7.00 MB\n",
      "Tensor: <class 'torch.Tensor'>, Size: torch.Size([4, 64, 14336]), Memory: 7.00 MB\n",
      "Tensor: <class 'torch.Tensor'>, Size: torch.Size([4, 64, 14336]), Memory: 7.00 MB\n",
      "Tensor: <class 'torch.Tensor'>, Size: torch.Size([4, 64, 14336]), Memory: 14.00 MB\n",
      "Tensor: <class 'torch.Tensor'>, Size: torch.Size([4, 64, 14336]), Memory: 7.00 MB\n",
      "Tensor: <class 'torch.Tensor'>, Size: torch.Size([4, 64, 14336]), Memory: 7.00 MB\n",
      "Tensor: <class 'torch.Tensor'>, Size: torch.Size([4, 64, 4096]), Memory: 4.00 MB\n",
      "Tensor: <class 'torch.Tensor'>, Size: torch.Size([4, 64, 4096]), Memory: 2.00 MB\n",
      "Tensor: <class 'torch.Tensor'>, Size: torch.Size([4, 64, 4096]), Memory: 4.00 MB\n",
      "Tensor: <class 'torch.Tensor'>, Size: torch.Size([4, 64, 4096]), Memory: 4.00 MB\n",
      "Tensor: <class 'torch.Tensor'>, Size: torch.Size([4, 64, 4096]), Memory: 2.00 MB\n",
      "Tensor: <class 'torch.Tensor'>, Size: torch.Size([4, 64, 4096]), Memory: 4.00 MB\n",
      "Tensor: <class 'torch.Tensor'>, Size: torch.Size([4, 64, 4096]), Memory: 2.00 MB\n",
      "Tensor: <class 'torch.Tensor'>, Size: torch.Size([4, 64, 4096]), Memory: 4.00 MB\n",
      "Tensor: <class 'torch.Tensor'>, Size: torch.Size([4, 64, 14336]), Memory: 14.00 MB\n",
      "Tensor: <class 'torch.Tensor'>, Size: torch.Size([4, 64, 14336]), Memory: 7.00 MB\n",
      "Tensor: <class 'torch.Tensor'>, Size: torch.Size([4, 64, 14336]), Memory: 7.00 MB\n",
      "Tensor: <class 'torch.Tensor'>, Size: torch.Size([4, 64, 14336]), Memory: 7.00 MB\n",
      "Tensor: <class 'torch.Tensor'>, Size: torch.Size([4, 64, 14336]), Memory: 14.00 MB\n",
      "Tensor: <class 'torch.Tensor'>, Size: torch.Size([4, 64, 14336]), Memory: 7.00 MB\n",
      "Tensor: <class 'torch.Tensor'>, Size: torch.Size([4, 64, 14336]), Memory: 7.00 MB\n",
      "Tensor: <class 'torch.Tensor'>, Size: torch.Size([4, 64, 4096]), Memory: 4.00 MB\n",
      "Tensor: <class 'torch.Tensor'>, Size: torch.Size([4, 64, 4096]), Memory: 2.00 MB\n",
      "Tensor: <class 'torch.Tensor'>, Size: torch.Size([4, 64, 4096]), Memory: 4.00 MB\n",
      "Tensor: <class 'torch.Tensor'>, Size: torch.Size([4, 64, 4096]), Memory: 4.00 MB\n",
      "Tensor: <class 'torch.Tensor'>, Size: torch.Size([4, 64, 4096]), Memory: 2.00 MB\n",
      "Tensor: <class 'torch.Tensor'>, Size: torch.Size([4, 64, 4096]), Memory: 4.00 MB\n",
      "Tensor: <class 'torch.Tensor'>, Size: torch.Size([4, 64, 4096]), Memory: 2.00 MB\n",
      "Tensor: <class 'torch.Tensor'>, Size: torch.Size([4, 64, 4096]), Memory: 4.00 MB\n",
      "Tensor: <class 'torch.Tensor'>, Size: torch.Size([4, 64, 14336]), Memory: 14.00 MB\n",
      "Tensor: <class 'torch.Tensor'>, Size: torch.Size([4, 64, 14336]), Memory: 7.00 MB\n",
      "Tensor: <class 'torch.Tensor'>, Size: torch.Size([4, 64, 14336]), Memory: 7.00 MB\n",
      "Tensor: <class 'torch.Tensor'>, Size: torch.Size([4, 64, 14336]), Memory: 7.00 MB\n",
      "Tensor: <class 'torch.Tensor'>, Size: torch.Size([4, 64, 14336]), Memory: 14.00 MB\n",
      "Tensor: <class 'torch.Tensor'>, Size: torch.Size([4, 64, 14336]), Memory: 7.00 MB\n",
      "Tensor: <class 'torch.Tensor'>, Size: torch.Size([4, 64, 14336]), Memory: 7.00 MB\n",
      "Tensor: <class 'torch.Tensor'>, Size: torch.Size([4, 64, 4096]), Memory: 4.00 MB\n",
      "Tensor: <class 'torch.Tensor'>, Size: torch.Size([4, 64, 4096]), Memory: 2.00 MB\n",
      "Tensor: <class 'torch.Tensor'>, Size: torch.Size([4, 64, 4096]), Memory: 4.00 MB\n",
      "Tensor: <class 'torch.Tensor'>, Size: torch.Size([4, 64, 4096]), Memory: 4.00 MB\n",
      "Tensor: <class 'torch.Tensor'>, Size: torch.Size([4, 64, 4096]), Memory: 2.00 MB\n",
      "Tensor: <class 'torch.Tensor'>, Size: torch.Size([4, 64, 4096]), Memory: 4.00 MB\n",
      "Tensor: <class 'torch.Tensor'>, Size: torch.Size([4, 64, 4096]), Memory: 2.00 MB\n",
      "Tensor: <class 'torch.Tensor'>, Size: torch.Size([4, 64, 4096]), Memory: 4.00 MB\n",
      "Tensor: <class 'torch.Tensor'>, Size: torch.Size([4, 64, 14336]), Memory: 14.00 MB\n",
      "Tensor: <class 'torch.Tensor'>, Size: torch.Size([4, 64, 14336]), Memory: 7.00 MB\n",
      "Tensor: <class 'torch.Tensor'>, Size: torch.Size([4, 64, 14336]), Memory: 7.00 MB\n",
      "Tensor: <class 'torch.Tensor'>, Size: torch.Size([4, 64, 14336]), Memory: 7.00 MB\n",
      "Tensor: <class 'torch.Tensor'>, Size: torch.Size([4, 64, 14336]), Memory: 14.00 MB\n",
      "Tensor: <class 'torch.Tensor'>, Size: torch.Size([4, 64, 14336]), Memory: 7.00 MB\n",
      "Tensor: <class 'torch.Tensor'>, Size: torch.Size([4, 64, 14336]), Memory: 7.00 MB\n",
      "Tensor: <class 'torch.Tensor'>, Size: torch.Size([4, 64, 4096]), Memory: 4.00 MB\n",
      "Tensor: <class 'torch.Tensor'>, Size: torch.Size([4, 64, 4096]), Memory: 2.00 MB\n",
      "Tensor: <class 'torch.Tensor'>, Size: torch.Size([4, 64, 4096]), Memory: 4.00 MB\n",
      "Tensor: <class 'torch.Tensor'>, Size: torch.Size([4, 64, 4096]), Memory: 4.00 MB\n",
      "Tensor: <class 'torch.Tensor'>, Size: torch.Size([4, 64, 4096]), Memory: 2.00 MB\n",
      "Tensor: <class 'torch.Tensor'>, Size: torch.Size([4, 64, 4096]), Memory: 4.00 MB\n",
      "Tensor: <class 'torch.Tensor'>, Size: torch.Size([4, 64, 4096]), Memory: 2.00 MB\n",
      "Tensor: <class 'torch.Tensor'>, Size: torch.Size([4, 64, 4096]), Memory: 4.00 MB\n",
      "Tensor: <class 'torch.Tensor'>, Size: torch.Size([4, 64, 14336]), Memory: 14.00 MB\n",
      "Tensor: <class 'torch.Tensor'>, Size: torch.Size([4, 64, 14336]), Memory: 7.00 MB\n",
      "Tensor: <class 'torch.Tensor'>, Size: torch.Size([4, 64, 14336]), Memory: 7.00 MB\n",
      "Tensor: <class 'torch.Tensor'>, Size: torch.Size([4, 64, 14336]), Memory: 7.00 MB\n",
      "Tensor: <class 'torch.Tensor'>, Size: torch.Size([4, 64, 14336]), Memory: 14.00 MB\n",
      "Tensor: <class 'torch.Tensor'>, Size: torch.Size([4, 64, 14336]), Memory: 7.00 MB\n",
      "Tensor: <class 'torch.Tensor'>, Size: torch.Size([4, 64, 14336]), Memory: 7.00 MB\n",
      "Tensor: <class 'torch.Tensor'>, Size: torch.Size([4, 64, 4096]), Memory: 4.00 MB\n",
      "Tensor: <class 'torch.Tensor'>, Size: torch.Size([4, 64, 4096]), Memory: 2.00 MB\n",
      "Tensor: <class 'torch.Tensor'>, Size: torch.Size([4, 64, 4096]), Memory: 4.00 MB\n",
      "Tensor: <class 'torch.Tensor'>, Size: torch.Size([4, 64, 4096]), Memory: 4.00 MB\n",
      "Tensor: <class 'torch.Tensor'>, Size: torch.Size([4, 64, 4096]), Memory: 2.00 MB\n",
      "Tensor: <class 'torch.Tensor'>, Size: torch.Size([4, 64, 4096]), Memory: 4.00 MB\n",
      "Tensor: <class 'torch.Tensor'>, Size: torch.Size([4, 64, 4096]), Memory: 2.00 MB\n",
      "Tensor: <class 'torch.Tensor'>, Size: torch.Size([4, 64, 4096]), Memory: 4.00 MB\n",
      "Tensor: <class 'torch.Tensor'>, Size: torch.Size([4, 64, 14336]), Memory: 14.00 MB\n",
      "Tensor: <class 'torch.Tensor'>, Size: torch.Size([4, 64, 14336]), Memory: 7.00 MB\n",
      "Tensor: <class 'torch.Tensor'>, Size: torch.Size([4, 64, 14336]), Memory: 7.00 MB\n",
      "Tensor: <class 'torch.Tensor'>, Size: torch.Size([4, 64, 14336]), Memory: 7.00 MB\n",
      "Tensor: <class 'torch.Tensor'>, Size: torch.Size([4, 64, 14336]), Memory: 14.00 MB\n",
      "Tensor: <class 'torch.Tensor'>, Size: torch.Size([4, 64, 14336]), Memory: 7.00 MB\n",
      "Tensor: <class 'torch.Tensor'>, Size: torch.Size([4, 64, 14336]), Memory: 7.00 MB\n",
      "Tensor: <class 'torch.Tensor'>, Size: torch.Size([4, 64, 4096]), Memory: 4.00 MB\n",
      "Tensor: <class 'torch.Tensor'>, Size: torch.Size([4, 64, 4096]), Memory: 2.00 MB\n",
      "Tensor: <class 'torch.Tensor'>, Size: torch.Size([4, 64, 4096]), Memory: 4.00 MB\n",
      "Tensor: <class 'torch.Tensor'>, Size: torch.Size([4, 64, 4096]), Memory: 4.00 MB\n",
      "Tensor: <class 'torch.Tensor'>, Size: torch.Size([4, 64, 4096]), Memory: 2.00 MB\n",
      "Tensor: <class 'torch.Tensor'>, Size: torch.Size([4, 64, 4096]), Memory: 4.00 MB\n",
      "Tensor: <class 'torch.Tensor'>, Size: torch.Size([4, 64, 4096]), Memory: 2.00 MB\n",
      "Tensor: <class 'torch.Tensor'>, Size: torch.Size([4, 64, 4096]), Memory: 4.00 MB\n",
      "Tensor: <class 'torch.Tensor'>, Size: torch.Size([4, 64, 14336]), Memory: 14.00 MB\n",
      "Tensor: <class 'torch.Tensor'>, Size: torch.Size([4, 64, 14336]), Memory: 7.00 MB\n",
      "Tensor: <class 'torch.Tensor'>, Size: torch.Size([4, 64, 14336]), Memory: 7.00 MB\n",
      "Tensor: <class 'torch.Tensor'>, Size: torch.Size([4, 64, 14336]), Memory: 7.00 MB\n",
      "Tensor: <class 'torch.Tensor'>, Size: torch.Size([4, 64, 14336]), Memory: 14.00 MB\n",
      "Tensor: <class 'torch.Tensor'>, Size: torch.Size([4, 64, 14336]), Memory: 7.00 MB\n",
      "Tensor: <class 'torch.Tensor'>, Size: torch.Size([4, 64, 14336]), Memory: 7.00 MB\n",
      "Tensor: <class 'torch.Tensor'>, Size: torch.Size([4, 64, 4096]), Memory: 4.00 MB\n",
      "Tensor: <class 'torch.Tensor'>, Size: torch.Size([4, 64, 4096]), Memory: 2.00 MB\n",
      "Tensor: <class 'torch.Tensor'>, Size: torch.Size([4, 64, 4096]), Memory: 4.00 MB\n",
      "Tensor: <class 'torch.Tensor'>, Size: torch.Size([4, 64, 4096]), Memory: 4.00 MB\n",
      "Tensor: <class 'torch.Tensor'>, Size: torch.Size([4, 64, 4096]), Memory: 2.00 MB\n",
      "Tensor: <class 'torch.Tensor'>, Size: torch.Size([4, 64, 4096]), Memory: 4.00 MB\n",
      "Tensor: <class 'torch.Tensor'>, Size: torch.Size([4, 64, 4096]), Memory: 2.00 MB\n",
      "Tensor: <class 'torch.Tensor'>, Size: torch.Size([4, 64, 4096]), Memory: 4.00 MB\n",
      "Tensor: <class 'torch.Tensor'>, Size: torch.Size([4, 64, 14336]), Memory: 14.00 MB\n",
      "Tensor: <class 'torch.Tensor'>, Size: torch.Size([4, 64, 14336]), Memory: 7.00 MB\n",
      "Tensor: <class 'torch.Tensor'>, Size: torch.Size([4, 64, 14336]), Memory: 7.00 MB\n",
      "Tensor: <class 'torch.Tensor'>, Size: torch.Size([4, 64, 14336]), Memory: 7.00 MB\n",
      "Tensor: <class 'torch.Tensor'>, Size: torch.Size([4, 64, 14336]), Memory: 14.00 MB\n",
      "Tensor: <class 'torch.Tensor'>, Size: torch.Size([4, 64, 14336]), Memory: 7.00 MB\n",
      "Tensor: <class 'torch.Tensor'>, Size: torch.Size([4, 64, 14336]), Memory: 7.00 MB\n",
      "Tensor: <class 'torch.Tensor'>, Size: torch.Size([4, 64, 4096]), Memory: 4.00 MB\n",
      "Tensor: <class 'torch.Tensor'>, Size: torch.Size([4, 64, 4096]), Memory: 2.00 MB\n",
      "Tensor: <class 'torch.Tensor'>, Size: torch.Size([4, 64, 4096]), Memory: 4.00 MB\n",
      "Tensor: <class 'torch.Tensor'>, Size: torch.Size([4, 64, 4096]), Memory: 4.00 MB\n",
      "Tensor: <class 'torch.Tensor'>, Size: torch.Size([4, 64, 4096]), Memory: 2.00 MB\n",
      "Tensor: <class 'torch.Tensor'>, Size: torch.Size([1, 8388608]), Memory: 8.00 MB\n",
      "Tensor: <class 'torch.Tensor'>, Size: torch.Size([1, 29360128]), Memory: 28.00 MB\n",
      "Tensor: <class 'torch.Tensor'>, Size: torch.Size([1, 29360128]), Memory: 28.00 MB\n",
      "Tensor: <class 'torch.Tensor'>, Size: torch.Size([1, 29360128]), Memory: 28.00 MB\n",
      "Tensor: <class 'torch.Tensor'>, Size: torch.Size([1, 8388608]), Memory: 8.00 MB\n",
      "Tensor: <class 'torch.Tensor'>, Size: torch.Size([1, 2097152]), Memory: 2.00 MB\n",
      "Tensor: <class 'torch.Tensor'>, Size: torch.Size([1, 2097152]), Memory: 2.00 MB\n",
      "Tensor: <class 'torch.Tensor'>, Size: torch.Size([1, 8388608]), Memory: 8.00 MB\n",
      "Tensor: <class 'torch.Tensor'>, Size: torch.Size([1, 29360128]), Memory: 28.00 MB\n",
      "Tensor: <class 'torch.Tensor'>, Size: torch.Size([1, 29360128]), Memory: 28.00 MB\n",
      "Tensor: <class 'torch.Tensor'>, Size: torch.Size([1, 29360128]), Memory: 28.00 MB\n",
      "Tensor: <class 'torch.Tensor'>, Size: torch.Size([1, 8388608]), Memory: 8.00 MB\n",
      "Tensor: <class 'torch.Tensor'>, Size: torch.Size([1, 2097152]), Memory: 2.00 MB\n",
      "Tensor: <class 'torch.Tensor'>, Size: torch.Size([1, 2097152]), Memory: 2.00 MB\n",
      "Tensor: <class 'torch.Tensor'>, Size: torch.Size([1, 8388608]), Memory: 8.00 MB\n",
      "Tensor: <class 'torch.Tensor'>, Size: torch.Size([1, 29360128]), Memory: 28.00 MB\n",
      "Tensor: <class 'torch.Tensor'>, Size: torch.Size([1, 29360128]), Memory: 28.00 MB\n",
      "Tensor: <class 'torch.Tensor'>, Size: torch.Size([1, 29360128]), Memory: 28.00 MB\n",
      "Tensor: <class 'torch.Tensor'>, Size: torch.Size([1, 8388608]), Memory: 8.00 MB\n",
      "Tensor: <class 'torch.Tensor'>, Size: torch.Size([1, 2097152]), Memory: 2.00 MB\n",
      "Tensor: <class 'torch.Tensor'>, Size: torch.Size([1, 2097152]), Memory: 2.00 MB\n",
      "Tensor: <class 'torch.Tensor'>, Size: torch.Size([1, 8388608]), Memory: 8.00 MB\n",
      "Tensor: <class 'torch.Tensor'>, Size: torch.Size([1, 29360128]), Memory: 28.00 MB\n",
      "Tensor: <class 'torch.Tensor'>, Size: torch.Size([1, 29360128]), Memory: 28.00 MB\n",
      "Tensor: <class 'torch.Tensor'>, Size: torch.Size([1, 29360128]), Memory: 28.00 MB\n",
      "Tensor: <class 'torch.Tensor'>, Size: torch.Size([1, 8388608]), Memory: 8.00 MB\n",
      "Tensor: <class 'torch.Tensor'>, Size: torch.Size([1, 2097152]), Memory: 2.00 MB\n",
      "Tensor: <class 'torch.Tensor'>, Size: torch.Size([1, 2097152]), Memory: 2.00 MB\n",
      "Tensor: <class 'torch.Tensor'>, Size: torch.Size([1, 8388608]), Memory: 8.00 MB\n",
      "Tensor: <class 'torch.Tensor'>, Size: torch.Size([1, 29360128]), Memory: 28.00 MB\n",
      "Tensor: <class 'torch.Tensor'>, Size: torch.Size([1, 29360128]), Memory: 28.00 MB\n",
      "Tensor: <class 'torch.Tensor'>, Size: torch.Size([1, 29360128]), Memory: 28.00 MB\n",
      "Tensor: <class 'torch.Tensor'>, Size: torch.Size([1, 8388608]), Memory: 8.00 MB\n",
      "Tensor: <class 'torch.Tensor'>, Size: torch.Size([1, 2097152]), Memory: 2.00 MB\n",
      "Tensor: <class 'torch.Tensor'>, Size: torch.Size([1, 2097152]), Memory: 2.00 MB\n",
      "Tensor: <class 'torch.Tensor'>, Size: torch.Size([1, 8388608]), Memory: 8.00 MB\n",
      "Tensor: <class 'torch.Tensor'>, Size: torch.Size([1, 29360128]), Memory: 28.00 MB\n",
      "Tensor: <class 'torch.Tensor'>, Size: torch.Size([1, 29360128]), Memory: 28.00 MB\n",
      "Tensor: <class 'torch.Tensor'>, Size: torch.Size([1, 29360128]), Memory: 28.00 MB\n",
      "Tensor: <class 'torch.Tensor'>, Size: torch.Size([1, 8388608]), Memory: 8.00 MB\n",
      "Tensor: <class 'torch.Tensor'>, Size: torch.Size([1, 2097152]), Memory: 2.00 MB\n",
      "Tensor: <class 'torch.Tensor'>, Size: torch.Size([1, 2097152]), Memory: 2.00 MB\n",
      "Tensor: <class 'torch.Tensor'>, Size: torch.Size([1, 8388608]), Memory: 8.00 MB\n",
      "Tensor: <class 'torch.Tensor'>, Size: torch.Size([1, 29360128]), Memory: 28.00 MB\n",
      "Tensor: <class 'torch.Tensor'>, Size: torch.Size([1, 29360128]), Memory: 28.00 MB\n",
      "Tensor: <class 'torch.Tensor'>, Size: torch.Size([1, 29360128]), Memory: 28.00 MB\n",
      "Tensor: <class 'torch.Tensor'>, Size: torch.Size([1, 8388608]), Memory: 8.00 MB\n",
      "Tensor: <class 'torch.Tensor'>, Size: torch.Size([1, 2097152]), Memory: 2.00 MB\n",
      "Tensor: <class 'torch.Tensor'>, Size: torch.Size([1, 2097152]), Memory: 2.00 MB\n",
      "Tensor: <class 'torch.Tensor'>, Size: torch.Size([1, 8388608]), Memory: 8.00 MB\n",
      "Tensor: <class 'torch.Tensor'>, Size: torch.Size([1, 29360128]), Memory: 28.00 MB\n",
      "Tensor: <class 'torch.Tensor'>, Size: torch.Size([1, 29360128]), Memory: 28.00 MB\n",
      "Tensor: <class 'torch.Tensor'>, Size: torch.Size([1, 29360128]), Memory: 28.00 MB\n",
      "Tensor: <class 'torch.Tensor'>, Size: torch.Size([1, 8388608]), Memory: 8.00 MB\n",
      "Tensor: <class 'torch.Tensor'>, Size: torch.Size([1, 2097152]), Memory: 2.00 MB\n",
      "Tensor: <class 'torch.Tensor'>, Size: torch.Size([1, 2097152]), Memory: 2.00 MB\n",
      "Tensor: <class 'torch.Tensor'>, Size: torch.Size([1, 8388608]), Memory: 8.00 MB\n",
      "Tensor: <class 'torch.Tensor'>, Size: torch.Size([1, 29360128]), Memory: 28.00 MB\n",
      "Tensor: <class 'torch.Tensor'>, Size: torch.Size([1, 29360128]), Memory: 28.00 MB\n",
      "Tensor: <class 'torch.Tensor'>, Size: torch.Size([1, 29360128]), Memory: 28.00 MB\n",
      "Tensor: <class 'torch.Tensor'>, Size: torch.Size([1, 8388608]), Memory: 8.00 MB\n",
      "Tensor: <class 'torch.Tensor'>, Size: torch.Size([1, 2097152]), Memory: 2.00 MB\n",
      "Tensor: <class 'torch.Tensor'>, Size: torch.Size([1, 2097152]), Memory: 2.00 MB\n",
      "Tensor: <class 'torch.Tensor'>, Size: torch.Size([1, 8388608]), Memory: 8.00 MB\n",
      "Tensor: <class 'torch.Tensor'>, Size: torch.Size([1, 29360128]), Memory: 28.00 MB\n",
      "Tensor: <class 'torch.Tensor'>, Size: torch.Size([1, 29360128]), Memory: 28.00 MB\n",
      "Tensor: <class 'torch.Tensor'>, Size: torch.Size([1, 29360128]), Memory: 28.00 MB\n",
      "Tensor: <class 'torch.Tensor'>, Size: torch.Size([1, 8388608]), Memory: 8.00 MB\n",
      "Tensor: <class 'torch.Tensor'>, Size: torch.Size([1, 2097152]), Memory: 2.00 MB\n",
      "Tensor: <class 'torch.Tensor'>, Size: torch.Size([1, 2097152]), Memory: 2.00 MB\n",
      "Tensor: <class 'torch.Tensor'>, Size: torch.Size([1, 8388608]), Memory: 8.00 MB\n",
      "Tensor: <class 'torch.Tensor'>, Size: torch.Size([1, 29360128]), Memory: 28.00 MB\n",
      "Tensor: <class 'torch.Tensor'>, Size: torch.Size([1, 29360128]), Memory: 28.00 MB\n",
      "Tensor: <class 'torch.Tensor'>, Size: torch.Size([1, 29360128]), Memory: 28.00 MB\n",
      "Tensor: <class 'torch.Tensor'>, Size: torch.Size([1, 8388608]), Memory: 8.00 MB\n",
      "Tensor: <class 'torch.Tensor'>, Size: torch.Size([1, 2097152]), Memory: 2.00 MB\n",
      "Tensor: <class 'torch.Tensor'>, Size: torch.Size([1, 2097152]), Memory: 2.00 MB\n",
      "Tensor: <class 'torch.Tensor'>, Size: torch.Size([1, 8388608]), Memory: 8.00 MB\n",
      "Tensor: <class 'torch.Tensor'>, Size: torch.Size([1, 29360128]), Memory: 28.00 MB\n",
      "Tensor: <class 'torch.Tensor'>, Size: torch.Size([1, 29360128]), Memory: 28.00 MB\n",
      "Tensor: <class 'torch.Tensor'>, Size: torch.Size([1, 29360128]), Memory: 28.00 MB\n",
      "Tensor: <class 'torch.Tensor'>, Size: torch.Size([1, 8388608]), Memory: 8.00 MB\n",
      "Tensor: <class 'torch.Tensor'>, Size: torch.Size([1, 2097152]), Memory: 2.00 MB\n",
      "Tensor: <class 'torch.Tensor'>, Size: torch.Size([1, 2097152]), Memory: 2.00 MB\n",
      "Tensor: <class 'torch.Tensor'>, Size: torch.Size([1, 29360128]), Memory: 28.00 MB\n",
      "Tensor: <class 'torch.Tensor'>, Size: torch.Size([1, 29360128]), Memory: 28.00 MB\n",
      "Tensor: <class 'torch.Tensor'>, Size: torch.Size([1, 29360128]), Memory: 28.00 MB\n",
      "Tensor: <class 'torch.Tensor'>, Size: torch.Size([1, 8388608]), Memory: 8.00 MB\n",
      "Tensor: <class 'torch.Tensor'>, Size: torch.Size([1, 2097152]), Memory: 2.00 MB\n",
      "Tensor: <class 'torch.Tensor'>, Size: torch.Size([1, 2097152]), Memory: 2.00 MB\n",
      "Tensor: <class 'torch.Tensor'>, Size: torch.Size([1, 8388608]), Memory: 8.00 MB\n",
      "Tensor: <class 'torch.Tensor'>, Size: torch.Size([1, 2097152]), Memory: 2.00 MB\n",
      "Tensor: <class 'torch.Tensor'>, Size: torch.Size([1, 8388608]), Memory: 8.00 MB\n",
      "Tensor: <class 'torch.Tensor'>, Size: torch.Size([4, 64, 4096]), Memory: 2.00 MB\n",
      "Tensor: <class 'torch.Tensor'>, Size: torch.Size([4, 64, 4096]), Memory: 2.00 MB\n",
      "Tensor: <class 'torch.Tensor'>, Size: torch.Size([4, 64, 4096]), Memory: 2.00 MB\n",
      "Tensor: <class 'torch.Tensor'>, Size: torch.Size([4, 64, 4096]), Memory: 2.00 MB\n",
      "Tensor: <class 'torch.Tensor'>, Size: torch.Size([4, 64, 4096]), Memory: 2.00 MB\n",
      "Tensor: <class 'torch.Tensor'>, Size: torch.Size([1, 29360128]), Memory: 28.00 MB\n",
      "Tensor: <class 'torch.Tensor'>, Size: torch.Size([917504]), Memory: 3.50 MB\n"
     ]
    },
    {
     "data": {
      "application/javascript": "window[\"d015d9be-6e12-11f0-831c-0242ac1c000c\"] = nelement.element_size();\n//# sourceURL=js_a834f957de",
      "text/plain": [
       "<IPython.core.display.Javascript object>"
      ]
     },
     "metadata": {},
     "output_type": "display_data"
    },
    {
     "data": {
      "application/javascript": "window[\"d0163eae-6e12-11f0-831c-0242ac1c000c\"] = nelement.nelement();\n//# sourceURL=js_dd8b3e9d2a",
      "text/plain": [
       "<IPython.core.display.Javascript object>"
      ]
     },
     "metadata": {},
     "output_type": "display_data"
    },
    {
     "data": {
      "application/javascript": "window[\"d0166b54-6e12-11f0-831c-0242ac1c000c\"] = window[\"d015d9be-6e12-11f0-831c-0242ac1c000c\"] * window[\"d0163eae-6e12-11f0-831c-0242ac1c000c\"];\n//# sourceURL=js_09c478fa62",
      "text/plain": [
       "<IPython.core.display.Javascript object>"
      ]
     },
     "metadata": {},
     "output_type": "display_data"
    },
    {
     "data": {
      "application/javascript": "window[\"d0169f02-6e12-11f0-831c-0242ac1c000c\"] = element_size.element_size();\n//# sourceURL=js_b799f22335",
      "text/plain": [
       "<IPython.core.display.Javascript object>"
      ]
     },
     "metadata": {},
     "output_type": "display_data"
    },
    {
     "data": {
      "application/javascript": "window[\"d016d3b4-6e12-11f0-831c-0242ac1c000c\"] = element_size.nelement();\n//# sourceURL=js_b8adf25cbb",
      "text/plain": [
       "<IPython.core.display.Javascript object>"
      ]
     },
     "metadata": {},
     "output_type": "display_data"
    },
    {
     "data": {
      "application/javascript": "window[\"d01705aa-6e12-11f0-831c-0242ac1c000c\"] = window[\"d0169f02-6e12-11f0-831c-0242ac1c000c\"] * window[\"d016d3b4-6e12-11f0-831c-0242ac1c000c\"];\n//# sourceURL=js_8ab25c807f",
      "text/plain": [
       "<IPython.core.display.Javascript object>"
      ]
     },
     "metadata": {},
     "output_type": "display_data"
    },
    {
     "data": {
      "application/javascript": "window[\"d0173458-6e12-11f0-831c-0242ac1c000c\"] = google.colab.nelement.element_size();\n//# sourceURL=js_afc511b615",
      "text/plain": [
       "<IPython.core.display.Javascript object>"
      ]
     },
     "metadata": {},
     "output_type": "display_data"
    },
    {
     "data": {
      "application/javascript": "window[\"d0176298-6e12-11f0-831c-0242ac1c000c\"] = google.colab.nelement.nelement();\n//# sourceURL=js_871eac98c6",
      "text/plain": [
       "<IPython.core.display.Javascript object>"
      ]
     },
     "metadata": {},
     "output_type": "display_data"
    },
    {
     "data": {
      "application/javascript": "window[\"d017979a-6e12-11f0-831c-0242ac1c000c\"] = window[\"d0173458-6e12-11f0-831c-0242ac1c000c\"] * window[\"d0176298-6e12-11f0-831c-0242ac1c000c\"];\n//# sourceURL=js_ff72792638",
      "text/plain": [
       "<IPython.core.display.Javascript object>"
      ]
     },
     "metadata": {},
     "output_type": "display_data"
    },
    {
     "data": {
      "application/javascript": "window[\"d017cdb4-6e12-11f0-831c-0242ac1c000c\"] = google.colab.element_size.element_size();\n//# sourceURL=js_b8becfea90",
      "text/plain": [
       "<IPython.core.display.Javascript object>"
      ]
     },
     "metadata": {},
     "output_type": "display_data"
    },
    {
     "data": {
      "application/javascript": "window[\"d017f906-6e12-11f0-831c-0242ac1c000c\"] = google.colab.element_size.nelement();\n//# sourceURL=js_fe82ac5908",
      "text/plain": [
       "<IPython.core.display.Javascript object>"
      ]
     },
     "metadata": {},
     "output_type": "display_data"
    },
    {
     "data": {
      "application/javascript": "window[\"d0182610-6e12-11f0-831c-0242ac1c000c\"] = window[\"d017cdb4-6e12-11f0-831c-0242ac1c000c\"] * window[\"d017f906-6e12-11f0-831c-0242ac1c000c\"];\n//# sourceURL=js_ff8de7b3b0",
      "text/plain": [
       "<IPython.core.display.Javascript object>"
      ]
     },
     "metadata": {},
     "output_type": "display_data"
    },
    {
     "data": {
      "application/javascript": "window[\"d02b6090-6e12-11f0-831c-0242ac1c000c\"] = nelement.nelement.element_size();\n//# sourceURL=js_835ed7e2f3",
      "text/plain": [
       "<IPython.core.display.Javascript object>"
      ]
     },
     "metadata": {},
     "output_type": "display_data"
    },
    {
     "data": {
      "application/javascript": "window[\"d02b8d7c-6e12-11f0-831c-0242ac1c000c\"] = nelement.nelement.nelement();\n//# sourceURL=js_95c021553b",
      "text/plain": [
       "<IPython.core.display.Javascript object>"
      ]
     },
     "metadata": {},
     "output_type": "display_data"
    },
    {
     "data": {
      "application/javascript": "window[\"d02bbc16-6e12-11f0-831c-0242ac1c000c\"] = window[\"d02b6090-6e12-11f0-831c-0242ac1c000c\"] * window[\"d02b8d7c-6e12-11f0-831c-0242ac1c000c\"];\n//# sourceURL=js_a0ebc92a25",
      "text/plain": [
       "<IPython.core.display.Javascript object>"
      ]
     },
     "metadata": {},
     "output_type": "display_data"
    },
    {
     "data": {
      "application/javascript": "window[\"d02bed62-6e12-11f0-831c-0242ac1c000c\"] = element_size.nelement.element_size();\n//# sourceURL=js_97c0364787",
      "text/plain": [
       "<IPython.core.display.Javascript object>"
      ]
     },
     "metadata": {},
     "output_type": "display_data"
    },
    {
     "data": {
      "application/javascript": "window[\"d02c1a08-6e12-11f0-831c-0242ac1c000c\"] = element_size.nelement.nelement();\n//# sourceURL=js_77d9cf6062",
      "text/plain": [
       "<IPython.core.display.Javascript object>"
      ]
     },
     "metadata": {},
     "output_type": "display_data"
    },
    {
     "data": {
      "application/javascript": "window[\"d02c4866-6e12-11f0-831c-0242ac1c000c\"] = window[\"d02bed62-6e12-11f0-831c-0242ac1c000c\"] * window[\"d02c1a08-6e12-11f0-831c-0242ac1c000c\"];\n//# sourceURL=js_551d9e9c84",
      "text/plain": [
       "<IPython.core.display.Javascript object>"
      ]
     },
     "metadata": {},
     "output_type": "display_data"
    },
    {
     "data": {
      "application/javascript": "window[\"d02c7b2e-6e12-11f0-831c-0242ac1c000c\"] = google.colab.nelement.nelement.element_size();\n//# sourceURL=js_dfbc1e78e0",
      "text/plain": [
       "<IPython.core.display.Javascript object>"
      ]
     },
     "metadata": {},
     "output_type": "display_data"
    },
    {
     "data": {
      "application/javascript": "window[\"d02ca950-6e12-11f0-831c-0242ac1c000c\"] = google.colab.nelement.nelement.nelement();\n//# sourceURL=js_b21e34d8ae",
      "text/plain": [
       "<IPython.core.display.Javascript object>"
      ]
     },
     "metadata": {},
     "output_type": "display_data"
    },
    {
     "data": {
      "application/javascript": "window[\"d02cd718-6e12-11f0-831c-0242ac1c000c\"] = window[\"d02c7b2e-6e12-11f0-831c-0242ac1c000c\"] * window[\"d02ca950-6e12-11f0-831c-0242ac1c000c\"];\n//# sourceURL=js_c7b0f12c44",
      "text/plain": [
       "<IPython.core.display.Javascript object>"
      ]
     },
     "metadata": {},
     "output_type": "display_data"
    },
    {
     "data": {
      "application/javascript": "window[\"d02d0530-6e12-11f0-831c-0242ac1c000c\"] = google.colab.element_size.nelement.element_size();\n//# sourceURL=js_9e2d033415",
      "text/plain": [
       "<IPython.core.display.Javascript object>"
      ]
     },
     "metadata": {},
     "output_type": "display_data"
    },
    {
     "data": {
      "application/javascript": "window[\"d02d34ec-6e12-11f0-831c-0242ac1c000c\"] = google.colab.element_size.nelement.nelement();\n//# sourceURL=js_6fffeb966a",
      "text/plain": [
       "<IPython.core.display.Javascript object>"
      ]
     },
     "metadata": {},
     "output_type": "display_data"
    },
    {
     "data": {
      "application/javascript": "window[\"d02d661a-6e12-11f0-831c-0242ac1c000c\"] = window[\"d02d0530-6e12-11f0-831c-0242ac1c000c\"] * window[\"d02d34ec-6e12-11f0-831c-0242ac1c000c\"];\n//# sourceURL=js_6112a62777",
      "text/plain": [
       "<IPython.core.display.Javascript object>"
      ]
     },
     "metadata": {},
     "output_type": "display_data"
    },
    {
     "data": {
      "application/javascript": "window[\"d02d9a0e-6e12-11f0-831c-0242ac1c000c\"] = nelement.element_size.element_size();\n//# sourceURL=js_f67983eeba",
      "text/plain": [
       "<IPython.core.display.Javascript object>"
      ]
     },
     "metadata": {},
     "output_type": "display_data"
    },
    {
     "data": {
      "application/javascript": "window[\"d02dc74a-6e12-11f0-831c-0242ac1c000c\"] = nelement.element_size.nelement();\n//# sourceURL=js_7c74165b81",
      "text/plain": [
       "<IPython.core.display.Javascript object>"
      ]
     },
     "metadata": {},
     "output_type": "display_data"
    },
    {
     "data": {
      "application/javascript": "window[\"d02df710-6e12-11f0-831c-0242ac1c000c\"] = window[\"d02d9a0e-6e12-11f0-831c-0242ac1c000c\"] * window[\"d02dc74a-6e12-11f0-831c-0242ac1c000c\"];\n//# sourceURL=js_fbd685dbd4",
      "text/plain": [
       "<IPython.core.display.Javascript object>"
      ]
     },
     "metadata": {},
     "output_type": "display_data"
    },
    {
     "data": {
      "application/javascript": "window[\"d02e2596-6e12-11f0-831c-0242ac1c000c\"] = element_size.element_size.element_size();\n//# sourceURL=js_d136ecb52d",
      "text/plain": [
       "<IPython.core.display.Javascript object>"
      ]
     },
     "metadata": {},
     "output_type": "display_data"
    },
    {
     "data": {
      "application/javascript": "window[\"d02e562e-6e12-11f0-831c-0242ac1c000c\"] = element_size.element_size.nelement();\n//# sourceURL=js_9c504b6026",
      "text/plain": [
       "<IPython.core.display.Javascript object>"
      ]
     },
     "metadata": {},
     "output_type": "display_data"
    },
    {
     "data": {
      "application/javascript": "window[\"d02e86da-6e12-11f0-831c-0242ac1c000c\"] = window[\"d02e2596-6e12-11f0-831c-0242ac1c000c\"] * window[\"d02e562e-6e12-11f0-831c-0242ac1c000c\"];\n//# sourceURL=js_684587ad7f",
      "text/plain": [
       "<IPython.core.display.Javascript object>"
      ]
     },
     "metadata": {},
     "output_type": "display_data"
    },
    {
     "data": {
      "application/javascript": "window[\"d02eb3d0-6e12-11f0-831c-0242ac1c000c\"] = google.colab.nelement.element_size.element_size();\n//# sourceURL=js_67e28134f1",
      "text/plain": [
       "<IPython.core.display.Javascript object>"
      ]
     },
     "metadata": {},
     "output_type": "display_data"
    },
    {
     "data": {
      "application/javascript": "window[\"d02ee01c-6e12-11f0-831c-0242ac1c000c\"] = google.colab.nelement.element_size.nelement();\n//# sourceURL=js_743f5b610d",
      "text/plain": [
       "<IPython.core.display.Javascript object>"
      ]
     },
     "metadata": {},
     "output_type": "display_data"
    },
    {
     "data": {
      "application/javascript": "window[\"d02f0fd8-6e12-11f0-831c-0242ac1c000c\"] = window[\"d02eb3d0-6e12-11f0-831c-0242ac1c000c\"] * window[\"d02ee01c-6e12-11f0-831c-0242ac1c000c\"];\n//# sourceURL=js_e5150970f6",
      "text/plain": [
       "<IPython.core.display.Javascript object>"
      ]
     },
     "metadata": {},
     "output_type": "display_data"
    },
    {
     "data": {
      "application/javascript": "window[\"d02f4480-6e12-11f0-831c-0242ac1c000c\"] = google.colab.element_size.element_size.element_size();\n//# sourceURL=js_0ca2d00136",
      "text/plain": [
       "<IPython.core.display.Javascript object>"
      ]
     },
     "metadata": {},
     "output_type": "display_data"
    },
    {
     "data": {
      "application/javascript": "window[\"d02f74a0-6e12-11f0-831c-0242ac1c000c\"] = google.colab.element_size.element_size.nelement();\n//# sourceURL=js_003b691f17",
      "text/plain": [
       "<IPython.core.display.Javascript object>"
      ]
     },
     "metadata": {},
     "output_type": "display_data"
    },
    {
     "data": {
      "application/javascript": "window[\"d02fa4fc-6e12-11f0-831c-0242ac1c000c\"] = window[\"d02f4480-6e12-11f0-831c-0242ac1c000c\"] * window[\"d02f74a0-6e12-11f0-831c-0242ac1c000c\"];\n//# sourceURL=js_3d500a82d8",
      "text/plain": [
       "<IPython.core.display.Javascript object>"
      ]
     },
     "metadata": {},
     "output_type": "display_data"
    },
    {
     "data": {
      "application/javascript": "window[\"d0347658-6e12-11f0-831c-0242ac1c000c\"] = window[\"c11e5d5a-6e12-11f0-831c-0242ac1c000c\"].element_size();\n//# sourceURL=js_830dce030c",
      "text/plain": [
       "<IPython.core.display.Javascript object>"
      ]
     },
     "metadata": {},
     "output_type": "display_data"
    },
    {
     "data": {
      "application/javascript": "window[\"d034a510-6e12-11f0-831c-0242ac1c000c\"] = window[\"c11e5d5a-6e12-11f0-831c-0242ac1c000c\"].nelement();\n//# sourceURL=js_c2b9cf13d2",
      "text/plain": [
       "<IPython.core.display.Javascript object>"
      ]
     },
     "metadata": {},
     "output_type": "display_data"
    },
    {
     "data": {
      "application/javascript": "window[\"d034d4ae-6e12-11f0-831c-0242ac1c000c\"] = window[\"d0347658-6e12-11f0-831c-0242ac1c000c\"] * window[\"d034a510-6e12-11f0-831c-0242ac1c000c\"];\n//# sourceURL=js_c593a9e17d",
      "text/plain": [
       "<IPython.core.display.Javascript object>"
      ]
     },
     "metadata": {},
     "output_type": "display_data"
    },
    {
     "data": {
      "application/javascript": "window[\"d0352742-6e12-11f0-831c-0242ac1c000c\"] = nelement.nelement.nelement.element_size();\n//# sourceURL=js_e671255ce1",
      "text/plain": [
       "<IPython.core.display.Javascript object>"
      ]
     },
     "metadata": {},
     "output_type": "display_data"
    },
    {
     "data": {
      "application/javascript": "window[\"d0354f92-6e12-11f0-831c-0242ac1c000c\"] = nelement.nelement.nelement.nelement();\n//# sourceURL=js_a877e4c6ac",
      "text/plain": [
       "<IPython.core.display.Javascript object>"
      ]
     },
     "metadata": {},
     "output_type": "display_data"
    },
    {
     "data": {
      "application/javascript": "window[\"d0357ada-6e12-11f0-831c-0242ac1c000c\"] = window[\"d0352742-6e12-11f0-831c-0242ac1c000c\"] * window[\"d0354f92-6e12-11f0-831c-0242ac1c000c\"];\n//# sourceURL=js_e6f93492b2",
      "text/plain": [
       "<IPython.core.display.Javascript object>"
      ]
     },
     "metadata": {},
     "output_type": "display_data"
    },
    {
     "data": {
      "application/javascript": "window[\"d035a708-6e12-11f0-831c-0242ac1c000c\"] = element_size.nelement.nelement.element_size();\n//# sourceURL=js_20602c2e2b",
      "text/plain": [
       "<IPython.core.display.Javascript object>"
      ]
     },
     "metadata": {},
     "output_type": "display_data"
    },
    {
     "data": {
      "application/javascript": "window[\"d035d16a-6e12-11f0-831c-0242ac1c000c\"] = element_size.nelement.nelement.nelement();\n//# sourceURL=js_ca145e75fe",
      "text/plain": [
       "<IPython.core.display.Javascript object>"
      ]
     },
     "metadata": {},
     "output_type": "display_data"
    },
    {
     "data": {
      "application/javascript": "window[\"d035fe60-6e12-11f0-831c-0242ac1c000c\"] = window[\"d035a708-6e12-11f0-831c-0242ac1c000c\"] * window[\"d035d16a-6e12-11f0-831c-0242ac1c000c\"];\n//# sourceURL=js_fb5fd715f5",
      "text/plain": [
       "<IPython.core.display.Javascript object>"
      ]
     },
     "metadata": {},
     "output_type": "display_data"
    },
    {
     "data": {
      "application/javascript": "window[\"d03628d6-6e12-11f0-831c-0242ac1c000c\"] = google.colab.nelement.nelement.nelement.element_size();\n//# sourceURL=js_fc4978f28b",
      "text/plain": [
       "<IPython.core.display.Javascript object>"
      ]
     },
     "metadata": {},
     "output_type": "display_data"
    },
    {
     "data": {
      "application/javascript": "window[\"d0365752-6e12-11f0-831c-0242ac1c000c\"] = google.colab.nelement.nelement.nelement.nelement();\n//# sourceURL=js_f90c4f86b5",
      "text/plain": [
       "<IPython.core.display.Javascript object>"
      ]
     },
     "metadata": {},
     "output_type": "display_data"
    },
    {
     "data": {
      "application/javascript": "window[\"d0367c96-6e12-11f0-831c-0242ac1c000c\"] = window[\"d03628d6-6e12-11f0-831c-0242ac1c000c\"] * window[\"d0365752-6e12-11f0-831c-0242ac1c000c\"];\n//# sourceURL=js_77307ca425",
      "text/plain": [
       "<IPython.core.display.Javascript object>"
      ]
     },
     "metadata": {},
     "output_type": "display_data"
    },
    {
     "data": {
      "application/javascript": "window[\"d036a3a6-6e12-11f0-831c-0242ac1c000c\"] = google.colab.element_size.nelement.nelement.element_size();\n//# sourceURL=js_2c9acb2071",
      "text/plain": [
       "<IPython.core.display.Javascript object>"
      ]
     },
     "metadata": {},
     "output_type": "display_data"
    },
    {
     "data": {
      "application/javascript": "window[\"d036cf84-6e12-11f0-831c-0242ac1c000c\"] = google.colab.element_size.nelement.nelement.nelement();\n//# sourceURL=js_c077fdcf8d",
      "text/plain": [
       "<IPython.core.display.Javascript object>"
      ]
     },
     "metadata": {},
     "output_type": "display_data"
    },
    {
     "data": {
      "application/javascript": "window[\"d036fa18-6e12-11f0-831c-0242ac1c000c\"] = window[\"d036a3a6-6e12-11f0-831c-0242ac1c000c\"] * window[\"d036cf84-6e12-11f0-831c-0242ac1c000c\"];\n//# sourceURL=js_17e2cd0c79",
      "text/plain": [
       "<IPython.core.display.Javascript object>"
      ]
     },
     "metadata": {},
     "output_type": "display_data"
    },
    {
     "data": {
      "application/javascript": "window[\"d03724d4-6e12-11f0-831c-0242ac1c000c\"] = nelement.element_size.nelement.element_size();\n//# sourceURL=js_b192d49a98",
      "text/plain": [
       "<IPython.core.display.Javascript object>"
      ]
     },
     "metadata": {},
     "output_type": "display_data"
    },
    {
     "data": {
      "application/javascript": "window[\"d0374ebe-6e12-11f0-831c-0242ac1c000c\"] = nelement.element_size.nelement.nelement();\n//# sourceURL=js_37fc4e4212",
      "text/plain": [
       "<IPython.core.display.Javascript object>"
      ]
     },
     "metadata": {},
     "output_type": "display_data"
    },
    {
     "data": {
      "application/javascript": "window[\"d0377e2a-6e12-11f0-831c-0242ac1c000c\"] = window[\"d03724d4-6e12-11f0-831c-0242ac1c000c\"] * window[\"d0374ebe-6e12-11f0-831c-0242ac1c000c\"];\n//# sourceURL=js_ae0a2940be",
      "text/plain": [
       "<IPython.core.display.Javascript object>"
      ]
     },
     "metadata": {},
     "output_type": "display_data"
    },
    {
     "data": {
      "application/javascript": "window[\"d037a634-6e12-11f0-831c-0242ac1c000c\"] = element_size.element_size.nelement.element_size();\n//# sourceURL=js_20bc19b91e",
      "text/plain": [
       "<IPython.core.display.Javascript object>"
      ]
     },
     "metadata": {},
     "output_type": "display_data"
    },
    {
     "data": {
      "application/javascript": "window[\"d037cf38-6e12-11f0-831c-0242ac1c000c\"] = element_size.element_size.nelement.nelement();\n//# sourceURL=js_587e5aa4fc",
      "text/plain": [
       "<IPython.core.display.Javascript object>"
      ]
     },
     "metadata": {},
     "output_type": "display_data"
    },
    {
     "data": {
      "application/javascript": "window[\"d037f7c4-6e12-11f0-831c-0242ac1c000c\"] = window[\"d037a634-6e12-11f0-831c-0242ac1c000c\"] * window[\"d037cf38-6e12-11f0-831c-0242ac1c000c\"];\n//# sourceURL=js_cfc5a04e03",
      "text/plain": [
       "<IPython.core.display.Javascript object>"
      ]
     },
     "metadata": {},
     "output_type": "display_data"
    },
    {
     "data": {
      "application/javascript": "window[\"d0382212-6e12-11f0-831c-0242ac1c000c\"] = google.colab.nelement.element_size.nelement.element_size();\n//# sourceURL=js_ed83ffd215",
      "text/plain": [
       "<IPython.core.display.Javascript object>"
      ]
     },
     "metadata": {},
     "output_type": "display_data"
    },
    {
     "data": {
      "application/javascript": "window[\"d0384b34-6e12-11f0-831c-0242ac1c000c\"] = google.colab.nelement.element_size.nelement.nelement();\n//# sourceURL=js_90ad1c3648",
      "text/plain": [
       "<IPython.core.display.Javascript object>"
      ]
     },
     "metadata": {},
     "output_type": "display_data"
    },
    {
     "data": {
      "application/javascript": "window[\"d038756e-6e12-11f0-831c-0242ac1c000c\"] = window[\"d0382212-6e12-11f0-831c-0242ac1c000c\"] * window[\"d0384b34-6e12-11f0-831c-0242ac1c000c\"];\n//# sourceURL=js_063b1f7512",
      "text/plain": [
       "<IPython.core.display.Javascript object>"
      ]
     },
     "metadata": {},
     "output_type": "display_data"
    },
    {
     "data": {
      "application/javascript": "window[\"d0389d6e-6e12-11f0-831c-0242ac1c000c\"] = google.colab.element_size.element_size.nelement.element_size();\n//# sourceURL=js_eae14dba9e",
      "text/plain": [
       "<IPython.core.display.Javascript object>"
      ]
     },
     "metadata": {},
     "output_type": "display_data"
    },
    {
     "data": {
      "application/javascript": "window[\"d038c7a8-6e12-11f0-831c-0242ac1c000c\"] = google.colab.element_size.element_size.nelement.nelement();\n//# sourceURL=js_bbff59264b",
      "text/plain": [
       "<IPython.core.display.Javascript object>"
      ]
     },
     "metadata": {},
     "output_type": "display_data"
    },
    {
     "data": {
      "application/javascript": "window[\"d038f0f2-6e12-11f0-831c-0242ac1c000c\"] = window[\"d0389d6e-6e12-11f0-831c-0242ac1c000c\"] * window[\"d038c7a8-6e12-11f0-831c-0242ac1c000c\"];\n//# sourceURL=js_62437468ad",
      "text/plain": [
       "<IPython.core.display.Javascript object>"
      ]
     },
     "metadata": {},
     "output_type": "display_data"
    },
    {
     "data": {
      "application/javascript": "window[\"d0391f1e-6e12-11f0-831c-0242ac1c000c\"] = nelement.nelement.element_size.element_size();\n//# sourceURL=js_e34ea4e0d1",
      "text/plain": [
       "<IPython.core.display.Javascript object>"
      ]
     },
     "metadata": {},
     "output_type": "display_data"
    },
    {
     "data": {
      "application/javascript": "window[\"d039489a-6e12-11f0-831c-0242ac1c000c\"] = nelement.nelement.element_size.nelement();\n//# sourceURL=js_17c31f3518",
      "text/plain": [
       "<IPython.core.display.Javascript object>"
      ]
     },
     "metadata": {},
     "output_type": "display_data"
    },
    {
     "data": {
      "application/javascript": "window[\"d0397360-6e12-11f0-831c-0242ac1c000c\"] = window[\"d0391f1e-6e12-11f0-831c-0242ac1c000c\"] * window[\"d039489a-6e12-11f0-831c-0242ac1c000c\"];\n//# sourceURL=js_628e57e9de",
      "text/plain": [
       "<IPython.core.display.Javascript object>"
      ]
     },
     "metadata": {},
     "output_type": "display_data"
    },
    {
     "data": {
      "application/javascript": "window[\"d0399fd4-6e12-11f0-831c-0242ac1c000c\"] = element_size.nelement.element_size.element_size();\n//# sourceURL=js_7e5835815b",
      "text/plain": [
       "<IPython.core.display.Javascript object>"
      ]
     },
     "metadata": {},
     "output_type": "display_data"
    },
    {
     "data": {
      "application/javascript": "window[\"d039c96e-6e12-11f0-831c-0242ac1c000c\"] = element_size.nelement.element_size.nelement();\n//# sourceURL=js_dda74467fc",
      "text/plain": [
       "<IPython.core.display.Javascript object>"
      ]
     },
     "metadata": {},
     "output_type": "display_data"
    },
    {
     "data": {
      "application/javascript": "window[\"d039f40c-6e12-11f0-831c-0242ac1c000c\"] = window[\"d0399fd4-6e12-11f0-831c-0242ac1c000c\"] * window[\"d039c96e-6e12-11f0-831c-0242ac1c000c\"];\n//# sourceURL=js_904bf81e23",
      "text/plain": [
       "<IPython.core.display.Javascript object>"
      ]
     },
     "metadata": {},
     "output_type": "display_data"
    },
    {
     "data": {
      "application/javascript": "window[\"d03a1f0e-6e12-11f0-831c-0242ac1c000c\"] = google.colab.nelement.nelement.element_size.element_size();\n//# sourceURL=js_44ab3a7525",
      "text/plain": [
       "<IPython.core.display.Javascript object>"
      ]
     },
     "metadata": {},
     "output_type": "display_data"
    },
    {
     "data": {
      "application/javascript": "window[\"d03a4790-6e12-11f0-831c-0242ac1c000c\"] = google.colab.nelement.nelement.element_size.nelement();\n//# sourceURL=js_68eb05203e",
      "text/plain": [
       "<IPython.core.display.Javascript object>"
      ]
     },
     "metadata": {},
     "output_type": "display_data"
    },
    {
     "data": {
      "application/javascript": "window[\"d03a70da-6e12-11f0-831c-0242ac1c000c\"] = window[\"d03a1f0e-6e12-11f0-831c-0242ac1c000c\"] * window[\"d03a4790-6e12-11f0-831c-0242ac1c000c\"];\n//# sourceURL=js_d2b65c5f8d",
      "text/plain": [
       "<IPython.core.display.Javascript object>"
      ]
     },
     "metadata": {},
     "output_type": "display_data"
    },
    {
     "data": {
      "application/javascript": "window[\"d03a9a1a-6e12-11f0-831c-0242ac1c000c\"] = google.colab.element_size.nelement.element_size.element_size();\n//# sourceURL=js_2fc62cee25",
      "text/plain": [
       "<IPython.core.display.Javascript object>"
      ]
     },
     "metadata": {},
     "output_type": "display_data"
    },
    {
     "data": {
      "application/javascript": "window[\"d03ac2c4-6e12-11f0-831c-0242ac1c000c\"] = google.colab.element_size.nelement.element_size.nelement();\n//# sourceURL=js_9a028538fb",
      "text/plain": [
       "<IPython.core.display.Javascript object>"
      ]
     },
     "metadata": {},
     "output_type": "display_data"
    },
    {
     "data": {
      "application/javascript": "window[\"d03aed26-6e12-11f0-831c-0242ac1c000c\"] = window[\"d03a9a1a-6e12-11f0-831c-0242ac1c000c\"] * window[\"d03ac2c4-6e12-11f0-831c-0242ac1c000c\"];\n//# sourceURL=js_13f01271f7",
      "text/plain": [
       "<IPython.core.display.Javascript object>"
      ]
     },
     "metadata": {},
     "output_type": "display_data"
    },
    {
     "data": {
      "application/javascript": "window[\"d03b1724-6e12-11f0-831c-0242ac1c000c\"] = nelement.element_size.element_size.element_size();\n//# sourceURL=js_e2bdc01b67",
      "text/plain": [
       "<IPython.core.display.Javascript object>"
      ]
     },
     "metadata": {},
     "output_type": "display_data"
    },
    {
     "data": {
      "application/javascript": "window[\"d03b401e-6e12-11f0-831c-0242ac1c000c\"] = nelement.element_size.element_size.nelement();\n//# sourceURL=js_a6a3e8a6c8",
      "text/plain": [
       "<IPython.core.display.Javascript object>"
      ]
     },
     "metadata": {},
     "output_type": "display_data"
    },
    {
     "data": {
      "application/javascript": "window[\"d03b6b70-6e12-11f0-831c-0242ac1c000c\"] = window[\"d03b1724-6e12-11f0-831c-0242ac1c000c\"] * window[\"d03b401e-6e12-11f0-831c-0242ac1c000c\"];\n//# sourceURL=js_f919a70274",
      "text/plain": [
       "<IPython.core.display.Javascript object>"
      ]
     },
     "metadata": {},
     "output_type": "display_data"
    },
    {
     "data": {
      "application/javascript": "window[\"d03b9686-6e12-11f0-831c-0242ac1c000c\"] = element_size.element_size.element_size.element_size();\n//# sourceURL=js_f9c77f1474",
      "text/plain": [
       "<IPython.core.display.Javascript object>"
      ]
     },
     "metadata": {},
     "output_type": "display_data"
    },
    {
     "data": {
      "application/javascript": "window[\"d03bc020-6e12-11f0-831c-0242ac1c000c\"] = element_size.element_size.element_size.nelement();\n//# sourceURL=js_f79b677e0a",
      "text/plain": [
       "<IPython.core.display.Javascript object>"
      ]
     },
     "metadata": {},
     "output_type": "display_data"
    },
    {
     "data": {
      "application/javascript": "window[\"d03be9e2-6e12-11f0-831c-0242ac1c000c\"] = window[\"d03b9686-6e12-11f0-831c-0242ac1c000c\"] * window[\"d03bc020-6e12-11f0-831c-0242ac1c000c\"];\n//# sourceURL=js_2357964bae",
      "text/plain": [
       "<IPython.core.display.Javascript object>"
      ]
     },
     "metadata": {},
     "output_type": "display_data"
    },
    {
     "data": {
      "application/javascript": "window[\"d03c12fa-6e12-11f0-831c-0242ac1c000c\"] = google.colab.nelement.element_size.element_size.element_size();\n//# sourceURL=js_bcf1d6d5da",
      "text/plain": [
       "<IPython.core.display.Javascript object>"
      ]
     },
     "metadata": {},
     "output_type": "display_data"
    },
    {
     "data": {
      "application/javascript": "window[\"d03c3bc2-6e12-11f0-831c-0242ac1c000c\"] = google.colab.nelement.element_size.element_size.nelement();\n//# sourceURL=js_450d9e2e31",
      "text/plain": [
       "<IPython.core.display.Javascript object>"
      ]
     },
     "metadata": {},
     "output_type": "display_data"
    },
    {
     "data": {
      "application/javascript": "window[\"d03c6660-6e12-11f0-831c-0242ac1c000c\"] = window[\"d03c12fa-6e12-11f0-831c-0242ac1c000c\"] * window[\"d03c3bc2-6e12-11f0-831c-0242ac1c000c\"];\n//# sourceURL=js_cabd1b6840",
      "text/plain": [
       "<IPython.core.display.Javascript object>"
      ]
     },
     "metadata": {},
     "output_type": "display_data"
    },
    {
     "data": {
      "application/javascript": "window[\"d03c8f64-6e12-11f0-831c-0242ac1c000c\"] = google.colab.element_size.element_size.element_size.element_size();\n//# sourceURL=js_b1605e83f5",
      "text/plain": [
       "<IPython.core.display.Javascript object>"
      ]
     },
     "metadata": {},
     "output_type": "display_data"
    },
    {
     "data": {
      "application/javascript": "window[\"d03cb8c2-6e12-11f0-831c-0242ac1c000c\"] = google.colab.element_size.element_size.element_size.nelement();\n//# sourceURL=js_02a94c0d97",
      "text/plain": [
       "<IPython.core.display.Javascript object>"
      ]
     },
     "metadata": {},
     "output_type": "display_data"
    },
    {
     "data": {
      "application/javascript": "window[\"d03ce0a4-6e12-11f0-831c-0242ac1c000c\"] = window[\"d03c8f64-6e12-11f0-831c-0242ac1c000c\"] * window[\"d03cb8c2-6e12-11f0-831c-0242ac1c000c\"];\n//# sourceURL=js_325e6eee23",
      "text/plain": [
       "<IPython.core.display.Javascript object>"
      ]
     },
     "metadata": {},
     "output_type": "display_data"
    },
    {
     "data": {
      "application/javascript": "window[\"d03d0a8e-6e12-11f0-831c-0242ac1c000c\"] = nelement.nelement.nelement.nelement.element_size();\n//# sourceURL=js_14b1d16513",
      "text/plain": [
       "<IPython.core.display.Javascript object>"
      ]
     },
     "metadata": {},
     "output_type": "display_data"
    },
    {
     "data": {
      "application/javascript": "window[\"d03d3342-6e12-11f0-831c-0242ac1c000c\"] = nelement.nelement.nelement.nelement.nelement();\n//# sourceURL=js_752d0155a2",
      "text/plain": [
       "<IPython.core.display.Javascript object>"
      ]
     },
     "metadata": {},
     "output_type": "display_data"
    },
    {
     "data": {
      "application/javascript": "window[\"d03d5e58-6e12-11f0-831c-0242ac1c000c\"] = window[\"d03d0a8e-6e12-11f0-831c-0242ac1c000c\"] * window[\"d03d3342-6e12-11f0-831c-0242ac1c000c\"];\n//# sourceURL=js_4b3709c23c",
      "text/plain": [
       "<IPython.core.display.Javascript object>"
      ]
     },
     "metadata": {},
     "output_type": "display_data"
    },
    {
     "data": {
      "application/javascript": "window[\"d03d88ce-6e12-11f0-831c-0242ac1c000c\"] = element_size.nelement.nelement.nelement.element_size();\n//# sourceURL=js_1306c769f7",
      "text/plain": [
       "<IPython.core.display.Javascript object>"
      ]
     },
     "metadata": {},
     "output_type": "display_data"
    },
    {
     "data": {
      "application/javascript": "window[\"d03db010-6e12-11f0-831c-0242ac1c000c\"] = element_size.nelement.nelement.nelement.nelement();\n//# sourceURL=js_a4c97f94bd",
      "text/plain": [
       "<IPython.core.display.Javascript object>"
      ]
     },
     "metadata": {},
     "output_type": "display_data"
    },
    {
     "data": {
      "application/javascript": "window[\"d03de49a-6e12-11f0-831c-0242ac1c000c\"] = window[\"d03d88ce-6e12-11f0-831c-0242ac1c000c\"] * window[\"d03db010-6e12-11f0-831c-0242ac1c000c\"];\n//# sourceURL=js_8079d920cf",
      "text/plain": [
       "<IPython.core.display.Javascript object>"
      ]
     },
     "metadata": {},
     "output_type": "display_data"
    },
    {
     "data": {
      "application/javascript": "window[\"d03e0a9c-6e12-11f0-831c-0242ac1c000c\"] = google.colab.nelement.nelement.nelement.nelement.element_size();\n//# sourceURL=js_3b9a6a1aad",
      "text/plain": [
       "<IPython.core.display.Javascript object>"
      ]
     },
     "metadata": {},
     "output_type": "display_data"
    },
    {
     "data": {
      "application/javascript": "window[\"d03e39ae-6e12-11f0-831c-0242ac1c000c\"] = google.colab.nelement.nelement.nelement.nelement.nelement();\n//# sourceURL=js_5a1a341c6b",
      "text/plain": [
       "<IPython.core.display.Javascript object>"
      ]
     },
     "metadata": {},
     "output_type": "display_data"
    },
    {
     "data": {
      "application/javascript": "window[\"d03e6546-6e12-11f0-831c-0242ac1c000c\"] = window[\"d03e0a9c-6e12-11f0-831c-0242ac1c000c\"] * window[\"d03e39ae-6e12-11f0-831c-0242ac1c000c\"];\n//# sourceURL=js_d7c9ed73cc",
      "text/plain": [
       "<IPython.core.display.Javascript object>"
      ]
     },
     "metadata": {},
     "output_type": "display_data"
    },
    {
     "data": {
      "application/javascript": "window[\"d03e8f76-6e12-11f0-831c-0242ac1c000c\"] = google.colab.element_size.nelement.nelement.nelement.element_size();\n//# sourceURL=js_e9007d41e1",
      "text/plain": [
       "<IPython.core.display.Javascript object>"
      ]
     },
     "metadata": {},
     "output_type": "display_data"
    },
    {
     "data": {
      "application/javascript": "window[\"d03eb992-6e12-11f0-831c-0242ac1c000c\"] = google.colab.element_size.nelement.nelement.nelement.nelement();\n//# sourceURL=js_0a003482ca",
      "text/plain": [
       "<IPython.core.display.Javascript object>"
      ]
     },
     "metadata": {},
     "output_type": "display_data"
    },
    {
     "data": {
      "application/javascript": "window[\"d03ee2f0-6e12-11f0-831c-0242ac1c000c\"] = window[\"d03e8f76-6e12-11f0-831c-0242ac1c000c\"] * window[\"d03eb992-6e12-11f0-831c-0242ac1c000c\"];\n//# sourceURL=js_9d15730ab5",
      "text/plain": [
       "<IPython.core.display.Javascript object>"
      ]
     },
     "metadata": {},
     "output_type": "display_data"
    },
    {
     "data": {
      "application/javascript": "window[\"d03f0dc0-6e12-11f0-831c-0242ac1c000c\"] = nelement.element_size.nelement.nelement.element_size();\n//# sourceURL=js_3902efcb19",
      "text/plain": [
       "<IPython.core.display.Javascript object>"
      ]
     },
     "metadata": {},
     "output_type": "display_data"
    },
    {
     "data": {
      "application/javascript": "window[\"d03f3dc2-6e12-11f0-831c-0242ac1c000c\"] = nelement.element_size.nelement.nelement.nelement();\n//# sourceURL=js_d668df6778",
      "text/plain": [
       "<IPython.core.display.Javascript object>"
      ]
     },
     "metadata": {},
     "output_type": "display_data"
    },
    {
     "data": {
      "application/javascript": "window[\"d03f6b9e-6e12-11f0-831c-0242ac1c000c\"] = window[\"d03f0dc0-6e12-11f0-831c-0242ac1c000c\"] * window[\"d03f3dc2-6e12-11f0-831c-0242ac1c000c\"];\n//# sourceURL=js_c09d7f5bd4",
      "text/plain": [
       "<IPython.core.display.Javascript object>"
      ]
     },
     "metadata": {},
     "output_type": "display_data"
    },
    {
     "data": {
      "application/javascript": "window[\"d03f977c-6e12-11f0-831c-0242ac1c000c\"] = element_size.element_size.nelement.nelement.element_size();\n//# sourceURL=js_9027a3a8e5",
      "text/plain": [
       "<IPython.core.display.Javascript object>"
      ]
     },
     "metadata": {},
     "output_type": "display_data"
    },
    {
     "data": {
      "application/javascript": "window[\"d03fc6ca-6e12-11f0-831c-0242ac1c000c\"] = element_size.element_size.nelement.nelement.nelement();\n//# sourceURL=js_d237fcf604",
      "text/plain": [
       "<IPython.core.display.Javascript object>"
      ]
     },
     "metadata": {},
     "output_type": "display_data"
    },
    {
     "data": {
      "application/javascript": "window[\"d03ff3f2-6e12-11f0-831c-0242ac1c000c\"] = window[\"d03f977c-6e12-11f0-831c-0242ac1c000c\"] * window[\"d03fc6ca-6e12-11f0-831c-0242ac1c000c\"];\n//# sourceURL=js_d374fedce3",
      "text/plain": [
       "<IPython.core.display.Javascript object>"
      ]
     },
     "metadata": {},
     "output_type": "display_data"
    },
    {
     "data": {
      "application/javascript": "window[\"d0401eae-6e12-11f0-831c-0242ac1c000c\"] = google.colab.nelement.element_size.nelement.nelement.element_size();\n//# sourceURL=js_40a80494fe",
      "text/plain": [
       "<IPython.core.display.Javascript object>"
      ]
     },
     "metadata": {},
     "output_type": "display_data"
    },
    {
     "data": {
      "application/javascript": "window[\"d040460e-6e12-11f0-831c-0242ac1c000c\"] = google.colab.nelement.element_size.nelement.nelement.nelement();\n//# sourceURL=js_0cce6ca8cd",
      "text/plain": [
       "<IPython.core.display.Javascript object>"
      ]
     },
     "metadata": {},
     "output_type": "display_data"
    },
    {
     "data": {
      "application/javascript": "window[\"d0407462-6e12-11f0-831c-0242ac1c000c\"] = window[\"d0401eae-6e12-11f0-831c-0242ac1c000c\"] * window[\"d040460e-6e12-11f0-831c-0242ac1c000c\"];\n//# sourceURL=js_97270bbd51",
      "text/plain": [
       "<IPython.core.display.Javascript object>"
      ]
     },
     "metadata": {},
     "output_type": "display_data"
    },
    {
     "data": {
      "application/javascript": "window[\"d040a068-6e12-11f0-831c-0242ac1c000c\"] = google.colab.element_size.element_size.nelement.nelement.element_size();\n//# sourceURL=js_5f05900daf",
      "text/plain": [
       "<IPython.core.display.Javascript object>"
      ]
     },
     "metadata": {},
     "output_type": "display_data"
    },
    {
     "data": {
      "application/javascript": "window[\"d040cef8-6e12-11f0-831c-0242ac1c000c\"] = google.colab.element_size.element_size.nelement.nelement.nelement();\n//# sourceURL=js_986130389f",
      "text/plain": [
       "<IPython.core.display.Javascript object>"
      ]
     },
     "metadata": {},
     "output_type": "display_data"
    },
    {
     "data": {
      "application/javascript": "window[\"d040fc0c-6e12-11f0-831c-0242ac1c000c\"] = window[\"d040a068-6e12-11f0-831c-0242ac1c000c\"] * window[\"d040cef8-6e12-11f0-831c-0242ac1c000c\"];\n//# sourceURL=js_588ec73613",
      "text/plain": [
       "<IPython.core.display.Javascript object>"
      ]
     },
     "metadata": {},
     "output_type": "display_data"
    },
    {
     "data": {
      "application/javascript": "window[\"d0412d94-6e12-11f0-831c-0242ac1c000c\"] = nelement.nelement.element_size.nelement.element_size();\n//# sourceURL=js_c89ebd928e",
      "text/plain": [
       "<IPython.core.display.Javascript object>"
      ]
     },
     "metadata": {},
     "output_type": "display_data"
    },
    {
     "data": {
      "application/javascript": "window[\"d04156de-6e12-11f0-831c-0242ac1c000c\"] = nelement.nelement.element_size.nelement.nelement();\n//# sourceURL=js_4a10db95f5",
      "text/plain": [
       "<IPython.core.display.Javascript object>"
      ]
     },
     "metadata": {},
     "output_type": "display_data"
    },
    {
     "data": {
      "application/javascript": "window[\"d0418366-6e12-11f0-831c-0242ac1c000c\"] = window[\"d0412d94-6e12-11f0-831c-0242ac1c000c\"] * window[\"d04156de-6e12-11f0-831c-0242ac1c000c\"];\n//# sourceURL=js_07856e7d3d",
      "text/plain": [
       "<IPython.core.display.Javascript object>"
      ]
     },
     "metadata": {},
     "output_type": "display_data"
    },
    {
     "data": {
      "application/javascript": "window[\"d041aa30-6e12-11f0-831c-0242ac1c000c\"] = element_size.nelement.element_size.nelement.element_size();\n//# sourceURL=js_16a11b8dbf",
      "text/plain": [
       "<IPython.core.display.Javascript object>"
      ]
     },
     "metadata": {},
     "output_type": "display_data"
    },
    {
     "data": {
      "application/javascript": "window[\"d041d4c4-6e12-11f0-831c-0242ac1c000c\"] = element_size.nelement.element_size.nelement.nelement();\n//# sourceURL=js_04e7a61988",
      "text/plain": [
       "<IPython.core.display.Javascript object>"
      ]
     },
     "metadata": {},
     "output_type": "display_data"
    },
    {
     "data": {
      "application/javascript": "window[\"d0420020-6e12-11f0-831c-0242ac1c000c\"] = window[\"d041aa30-6e12-11f0-831c-0242ac1c000c\"] * window[\"d041d4c4-6e12-11f0-831c-0242ac1c000c\"];\n//# sourceURL=js_c1ffbe7339",
      "text/plain": [
       "<IPython.core.display.Javascript object>"
      ]
     },
     "metadata": {},
     "output_type": "display_data"
    },
    {
     "data": {
      "application/javascript": "window[\"d0422dac-6e12-11f0-831c-0242ac1c000c\"] = google.colab.nelement.nelement.element_size.nelement.element_size();\n//# sourceURL=js_7d40194590",
      "text/plain": [
       "<IPython.core.display.Javascript object>"
      ]
     },
     "metadata": {},
     "output_type": "display_data"
    },
    {
     "data": {
      "application/javascript": "window[\"d04257fa-6e12-11f0-831c-0242ac1c000c\"] = google.colab.nelement.nelement.element_size.nelement.nelement();\n//# sourceURL=js_9e5277947d",
      "text/plain": [
       "<IPython.core.display.Javascript object>"
      ]
     },
     "metadata": {},
     "output_type": "display_data"
    },
    {
     "data": {
      "application/javascript": "window[\"d042828e-6e12-11f0-831c-0242ac1c000c\"] = window[\"d0422dac-6e12-11f0-831c-0242ac1c000c\"] * window[\"d04257fa-6e12-11f0-831c-0242ac1c000c\"];\n//# sourceURL=js_be8ca36ad2",
      "text/plain": [
       "<IPython.core.display.Javascript object>"
      ]
     },
     "metadata": {},
     "output_type": "display_data"
    },
    {
     "data": {
      "application/javascript": "window[\"d042ab2e-6e12-11f0-831c-0242ac1c000c\"] = google.colab.element_size.nelement.element_size.nelement.element_size();\n//# sourceURL=js_81fe67f280",
      "text/plain": [
       "<IPython.core.display.Javascript object>"
      ]
     },
     "metadata": {},
     "output_type": "display_data"
    },
    {
     "data": {
      "application/javascript": "window[\"d042d5d6-6e12-11f0-831c-0242ac1c000c\"] = google.colab.element_size.nelement.element_size.nelement.nelement();\n//# sourceURL=js_b9dbfc63f0",
      "text/plain": [
       "<IPython.core.display.Javascript object>"
      ]
     },
     "metadata": {},
     "output_type": "display_data"
    },
    {
     "data": {
      "application/javascript": "window[\"d0430074-6e12-11f0-831c-0242ac1c000c\"] = window[\"d042ab2e-6e12-11f0-831c-0242ac1c000c\"] * window[\"d042d5d6-6e12-11f0-831c-0242ac1c000c\"];\n//# sourceURL=js_f398958fe0",
      "text/plain": [
       "<IPython.core.display.Javascript object>"
      ]
     },
     "metadata": {},
     "output_type": "display_data"
    },
    {
     "data": {
      "application/javascript": "window[\"d0432fae-6e12-11f0-831c-0242ac1c000c\"] = nelement.element_size.element_size.nelement.element_size();\n//# sourceURL=js_6c1688b9a0",
      "text/plain": [
       "<IPython.core.display.Javascript object>"
      ]
     },
     "metadata": {},
     "output_type": "display_data"
    },
    {
     "data": {
      "application/javascript": "window[\"d0435d3a-6e12-11f0-831c-0242ac1c000c\"] = nelement.element_size.element_size.nelement.nelement();\n//# sourceURL=js_0bef0873a3",
      "text/plain": [
       "<IPython.core.display.Javascript object>"
      ]
     },
     "metadata": {},
     "output_type": "display_data"
    },
    {
     "data": {
      "application/javascript": "window[\"d0438b3e-6e12-11f0-831c-0242ac1c000c\"] = window[\"d0432fae-6e12-11f0-831c-0242ac1c000c\"] * window[\"d0435d3a-6e12-11f0-831c-0242ac1c000c\"];\n//# sourceURL=js_23b4c20a45",
      "text/plain": [
       "<IPython.core.display.Javascript object>"
      ]
     },
     "metadata": {},
     "output_type": "display_data"
    },
    {
     "data": {
      "application/javascript": "window[\"d043bde8-6e12-11f0-831c-0242ac1c000c\"] = element_size.element_size.element_size.nelement.element_size();\n//# sourceURL=js_e67bec7af6",
      "text/plain": [
       "<IPython.core.display.Javascript object>"
      ]
     },
     "metadata": {},
     "output_type": "display_data"
    },
    {
     "data": {
      "application/javascript": "window[\"d043ea34-6e12-11f0-831c-0242ac1c000c\"] = element_size.element_size.element_size.nelement.nelement();\n//# sourceURL=js_5db7a9ecd2",
      "text/plain": [
       "<IPython.core.display.Javascript object>"
      ]
     },
     "metadata": {},
     "output_type": "display_data"
    },
    {
     "data": {
      "application/javascript": "window[\"d044258a-6e12-11f0-831c-0242ac1c000c\"] = window[\"d043bde8-6e12-11f0-831c-0242ac1c000c\"] * window[\"d043ea34-6e12-11f0-831c-0242ac1c000c\"];\n//# sourceURL=js_20a6dbd1e7",
      "text/plain": [
       "<IPython.core.display.Javascript object>"
      ]
     },
     "metadata": {},
     "output_type": "display_data"
    },
    {
     "data": {
      "application/javascript": "window[\"d0444bdc-6e12-11f0-831c-0242ac1c000c\"] = google.colab.nelement.element_size.element_size.nelement.element_size();\n//# sourceURL=js_2d76802de2",
      "text/plain": [
       "<IPython.core.display.Javascript object>"
      ]
     },
     "metadata": {},
     "output_type": "display_data"
    },
    {
     "data": {
      "application/javascript": "window[\"d0447b7a-6e12-11f0-831c-0242ac1c000c\"] = google.colab.nelement.element_size.element_size.nelement.nelement();\n//# sourceURL=js_33d2c246bf",
      "text/plain": [
       "<IPython.core.display.Javascript object>"
      ]
     },
     "metadata": {},
     "output_type": "display_data"
    },
    {
     "data": {
      "application/javascript": "window[\"d044aa0a-6e12-11f0-831c-0242ac1c000c\"] = window[\"d0444bdc-6e12-11f0-831c-0242ac1c000c\"] * window[\"d0447b7a-6e12-11f0-831c-0242ac1c000c\"];\n//# sourceURL=js_be91bd513c",
      "text/plain": [
       "<IPython.core.display.Javascript object>"
      ]
     },
     "metadata": {},
     "output_type": "display_data"
    },
    {
     "data": {
      "application/javascript": "window[\"d044de1c-6e12-11f0-831c-0242ac1c000c\"] = google.colab.element_size.element_size.element_size.nelement.element_size();\n//# sourceURL=js_01176b6b23",
      "text/plain": [
       "<IPython.core.display.Javascript object>"
      ]
     },
     "metadata": {},
     "output_type": "display_data"
    },
    {
     "data": {
      "application/javascript": "window[\"d0450dec-6e12-11f0-831c-0242ac1c000c\"] = google.colab.element_size.element_size.element_size.nelement.nelement();\n//# sourceURL=js_d959b9d42e",
      "text/plain": [
       "<IPython.core.display.Javascript object>"
      ]
     },
     "metadata": {},
     "output_type": "display_data"
    },
    {
     "data": {
      "application/javascript": "window[\"d0453a4c-6e12-11f0-831c-0242ac1c000c\"] = window[\"d044de1c-6e12-11f0-831c-0242ac1c000c\"] * window[\"d0450dec-6e12-11f0-831c-0242ac1c000c\"];\n//# sourceURL=js_0b89437d00",
      "text/plain": [
       "<IPython.core.display.Javascript object>"
      ]
     },
     "metadata": {},
     "output_type": "display_data"
    },
    {
     "data": {
      "application/javascript": "window[\"d0456b70-6e12-11f0-831c-0242ac1c000c\"] = nelement.nelement.nelement.element_size.element_size();\n//# sourceURL=js_52d3fcb633",
      "text/plain": [
       "<IPython.core.display.Javascript object>"
      ]
     },
     "metadata": {},
     "output_type": "display_data"
    },
    {
     "data": {
      "application/javascript": "window[\"d0459438-6e12-11f0-831c-0242ac1c000c\"] = nelement.nelement.nelement.element_size.nelement();\n//# sourceURL=js_977c30f1f0",
      "text/plain": [
       "<IPython.core.display.Javascript object>"
      ]
     },
     "metadata": {},
     "output_type": "display_data"
    },
    {
     "data": {
      "application/javascript": "window[\"d045c30e-6e12-11f0-831c-0242ac1c000c\"] = window[\"d0456b70-6e12-11f0-831c-0242ac1c000c\"] * window[\"d0459438-6e12-11f0-831c-0242ac1c000c\"];\n//# sourceURL=js_917df3bd39",
      "text/plain": [
       "<IPython.core.display.Javascript object>"
      ]
     },
     "metadata": {},
     "output_type": "display_data"
    },
    {
     "data": {
      "application/javascript": "window[\"d045ef96-6e12-11f0-831c-0242ac1c000c\"] = element_size.nelement.nelement.element_size.element_size();\n//# sourceURL=js_5171e36915",
      "text/plain": [
       "<IPython.core.display.Javascript object>"
      ]
     },
     "metadata": {},
     "output_type": "display_data"
    },
    {
     "data": {
      "application/javascript": "window[\"d0462182-6e12-11f0-831c-0242ac1c000c\"] = element_size.nelement.nelement.element_size.nelement();\n//# sourceURL=js_6ff90864ec",
      "text/plain": [
       "<IPython.core.display.Javascript object>"
      ]
     },
     "metadata": {},
     "output_type": "display_data"
    },
    {
     "data": {
      "application/javascript": "window[\"d0464932-6e12-11f0-831c-0242ac1c000c\"] = window[\"d045ef96-6e12-11f0-831c-0242ac1c000c\"] * window[\"d0462182-6e12-11f0-831c-0242ac1c000c\"];\n//# sourceURL=js_ca0e05a47a",
      "text/plain": [
       "<IPython.core.display.Javascript object>"
      ]
     },
     "metadata": {},
     "output_type": "display_data"
    },
    {
     "data": {
      "application/javascript": "window[\"d0467e34-6e12-11f0-831c-0242ac1c000c\"] = google.colab.nelement.nelement.nelement.element_size.element_size();\n//# sourceURL=js_787ef83c3c",
      "text/plain": [
       "<IPython.core.display.Javascript object>"
      ]
     },
     "metadata": {},
     "output_type": "display_data"
    },
    {
     "data": {
      "application/javascript": "window[\"d046ad46-6e12-11f0-831c-0242ac1c000c\"] = google.colab.nelement.nelement.nelement.element_size.nelement();\n//# sourceURL=js_8e5d8138e5",
      "text/plain": [
       "<IPython.core.display.Javascript object>"
      ]
     },
     "metadata": {},
     "output_type": "display_data"
    },
    {
     "data": {
      "application/javascript": "window[\"d046da5a-6e12-11f0-831c-0242ac1c000c\"] = window[\"d0467e34-6e12-11f0-831c-0242ac1c000c\"] * window[\"d046ad46-6e12-11f0-831c-0242ac1c000c\"];\n//# sourceURL=js_ef90ca895d",
      "text/plain": [
       "<IPython.core.display.Javascript object>"
      ]
     },
     "metadata": {},
     "output_type": "display_data"
    },
    {
     "data": {
      "application/javascript": "window[\"d0470732-6e12-11f0-831c-0242ac1c000c\"] = google.colab.element_size.nelement.nelement.element_size.element_size();\n//# sourceURL=js_f17cf23cb4",
      "text/plain": [
       "<IPython.core.display.Javascript object>"
      ]
     },
     "metadata": {},
     "output_type": "display_data"
    },
    {
     "data": {
      "application/javascript": "window[\"d0472dc0-6e12-11f0-831c-0242ac1c000c\"] = google.colab.element_size.nelement.nelement.element_size.nelement();\n//# sourceURL=js_02e805b91f",
      "text/plain": [
       "<IPython.core.display.Javascript object>"
      ]
     },
     "metadata": {},
     "output_type": "display_data"
    },
    {
     "data": {
      "application/javascript": "window[\"d0475cbe-6e12-11f0-831c-0242ac1c000c\"] = window[\"d0470732-6e12-11f0-831c-0242ac1c000c\"] * window[\"d0472dc0-6e12-11f0-831c-0242ac1c000c\"];\n//# sourceURL=js_eb89d20c45",
      "text/plain": [
       "<IPython.core.display.Javascript object>"
      ]
     },
     "metadata": {},
     "output_type": "display_data"
    },
    {
     "data": {
      "application/javascript": "window[\"d0478626-6e12-11f0-831c-0242ac1c000c\"] = nelement.element_size.nelement.element_size.element_size();\n//# sourceURL=js_9c57552514",
      "text/plain": [
       "<IPython.core.display.Javascript object>"
      ]
     },
     "metadata": {},
     "output_type": "display_data"
    },
    {
     "data": {
      "application/javascript": "window[\"d047afe8-6e12-11f0-831c-0242ac1c000c\"] = nelement.element_size.nelement.element_size.nelement();\n//# sourceURL=js_5678012235",
      "text/plain": [
       "<IPython.core.display.Javascript object>"
      ]
     },
     "metadata": {},
     "output_type": "display_data"
    },
    {
     "data": {
      "application/javascript": "window[\"d047dc70-6e12-11f0-831c-0242ac1c000c\"] = window[\"d0478626-6e12-11f0-831c-0242ac1c000c\"] * window[\"d047afe8-6e12-11f0-831c-0242ac1c000c\"];\n//# sourceURL=js_077717a112",
      "text/plain": [
       "<IPython.core.display.Javascript object>"
      ]
     },
     "metadata": {},
     "output_type": "display_data"
    },
    {
     "data": {
      "application/javascript": "window[\"d048022c-6e12-11f0-831c-0242ac1c000c\"] = element_size.element_size.nelement.element_size.element_size();\n//# sourceURL=js_61672ff655",
      "text/plain": [
       "<IPython.core.display.Javascript object>"
      ]
     },
     "metadata": {},
     "output_type": "display_data"
    },
    {
     "data": {
      "application/javascript": "window[\"d04832ec-6e12-11f0-831c-0242ac1c000c\"] = element_size.element_size.nelement.element_size.nelement();\n//# sourceURL=js_7067cab434",
      "text/plain": [
       "<IPython.core.display.Javascript object>"
      ]
     },
     "metadata": {},
     "output_type": "display_data"
    },
    {
     "data": {
      "application/javascript": "window[\"d0487b08-6e12-11f0-831c-0242ac1c000c\"] = window[\"d048022c-6e12-11f0-831c-0242ac1c000c\"] * window[\"d04832ec-6e12-11f0-831c-0242ac1c000c\"];\n//# sourceURL=js_b2f455d434",
      "text/plain": [
       "<IPython.core.display.Javascript object>"
      ]
     },
     "metadata": {},
     "output_type": "display_data"
    },
    {
     "data": {
      "application/javascript": "window[\"d048a542-6e12-11f0-831c-0242ac1c000c\"] = google.colab.nelement.element_size.nelement.element_size.element_size();\n//# sourceURL=js_15bc20b279",
      "text/plain": [
       "<IPython.core.display.Javascript object>"
      ]
     },
     "metadata": {},
     "output_type": "display_data"
    },
    {
     "data": {
      "application/javascript": "window[\"d048ce1e-6e12-11f0-831c-0242ac1c000c\"] = google.colab.nelement.element_size.nelement.element_size.nelement();\n//# sourceURL=js_3f3e69b752",
      "text/plain": [
       "<IPython.core.display.Javascript object>"
      ]
     },
     "metadata": {},
     "output_type": "display_data"
    },
    {
     "data": {
      "application/javascript": "window[\"d048face-6e12-11f0-831c-0242ac1c000c\"] = window[\"d048a542-6e12-11f0-831c-0242ac1c000c\"] * window[\"d048ce1e-6e12-11f0-831c-0242ac1c000c\"];\n//# sourceURL=js_d011e94244",
      "text/plain": [
       "<IPython.core.display.Javascript object>"
      ]
     },
     "metadata": {},
     "output_type": "display_data"
    },
    {
     "data": {
      "application/javascript": "window[\"d04926f2-6e12-11f0-831c-0242ac1c000c\"] = google.colab.element_size.element_size.nelement.element_size.element_size();\n//# sourceURL=js_6b808aad5e",
      "text/plain": [
       "<IPython.core.display.Javascript object>"
      ]
     },
     "metadata": {},
     "output_type": "display_data"
    },
    {
     "data": {
      "application/javascript": "window[\"d0495618-6e12-11f0-831c-0242ac1c000c\"] = google.colab.element_size.element_size.nelement.element_size.nelement();\n//# sourceURL=js_e4543e394c",
      "text/plain": [
       "<IPython.core.display.Javascript object>"
      ]
     },
     "metadata": {},
     "output_type": "display_data"
    },
    {
     "data": {
      "application/javascript": "window[\"d0498296-6e12-11f0-831c-0242ac1c000c\"] = window[\"d04926f2-6e12-11f0-831c-0242ac1c000c\"] * window[\"d0495618-6e12-11f0-831c-0242ac1c000c\"];\n//# sourceURL=js_cfbf081811",
      "text/plain": [
       "<IPython.core.display.Javascript object>"
      ]
     },
     "metadata": {},
     "output_type": "display_data"
    },
    {
     "data": {
      "application/javascript": "window[\"d049b658-6e12-11f0-831c-0242ac1c000c\"] = nelement.nelement.element_size.element_size.element_size();\n//# sourceURL=js_4f97202717",
      "text/plain": [
       "<IPython.core.display.Javascript object>"
      ]
     },
     "metadata": {},
     "output_type": "display_data"
    },
    {
     "data": {
      "application/javascript": "window[\"d049db92-6e12-11f0-831c-0242ac1c000c\"] = nelement.nelement.element_size.element_size.nelement();\n//# sourceURL=js_cf193f76b5",
      "text/plain": [
       "<IPython.core.display.Javascript object>"
      ]
     },
     "metadata": {},
     "output_type": "display_data"
    },
    {
     "data": {
      "application/javascript": "window[\"d04a0afe-6e12-11f0-831c-0242ac1c000c\"] = window[\"d049b658-6e12-11f0-831c-0242ac1c000c\"] * window[\"d049db92-6e12-11f0-831c-0242ac1c000c\"];\n//# sourceURL=js_b83d11d893",
      "text/plain": [
       "<IPython.core.display.Javascript object>"
      ]
     },
     "metadata": {},
     "output_type": "display_data"
    },
    {
     "data": {
      "application/javascript": "window[\"d04a3010-6e12-11f0-831c-0242ac1c000c\"] = element_size.nelement.element_size.element_size.element_size();\n//# sourceURL=js_886f188f48",
      "text/plain": [
       "<IPython.core.display.Javascript object>"
      ]
     },
     "metadata": {},
     "output_type": "display_data"
    },
    {
     "data": {
      "application/javascript": "window[\"d04a6bc0-6e12-11f0-831c-0242ac1c000c\"] = element_size.nelement.element_size.element_size.nelement();\n//# sourceURL=js_49fd1bcb44",
      "text/plain": [
       "<IPython.core.display.Javascript object>"
      ]
     },
     "metadata": {},
     "output_type": "display_data"
    },
    {
     "data": {
      "application/javascript": "window[\"d04a978a-6e12-11f0-831c-0242ac1c000c\"] = window[\"d04a3010-6e12-11f0-831c-0242ac1c000c\"] * window[\"d04a6bc0-6e12-11f0-831c-0242ac1c000c\"];\n//# sourceURL=js_06bdce6323",
      "text/plain": [
       "<IPython.core.display.Javascript object>"
      ]
     },
     "metadata": {},
     "output_type": "display_data"
    },
    {
     "data": {
      "application/javascript": "window[\"d04ac6ba-6e12-11f0-831c-0242ac1c000c\"] = google.colab.nelement.nelement.element_size.element_size.element_size();\n//# sourceURL=js_d4804814dd",
      "text/plain": [
       "<IPython.core.display.Javascript object>"
      ]
     },
     "metadata": {},
     "output_type": "display_data"
    },
    {
     "data": {
      "application/javascript": "window[\"d04af2c0-6e12-11f0-831c-0242ac1c000c\"] = google.colab.nelement.nelement.element_size.element_size.nelement();\n//# sourceURL=js_fc5dd2f911",
      "text/plain": [
       "<IPython.core.display.Javascript object>"
      ]
     },
     "metadata": {},
     "output_type": "display_data"
    },
    {
     "data": {
      "application/javascript": "window[\"d04b210a-6e12-11f0-831c-0242ac1c000c\"] = window[\"d04ac6ba-6e12-11f0-831c-0242ac1c000c\"] * window[\"d04af2c0-6e12-11f0-831c-0242ac1c000c\"];\n//# sourceURL=js_17a18d8c65",
      "text/plain": [
       "<IPython.core.display.Javascript object>"
      ]
     },
     "metadata": {},
     "output_type": "display_data"
    },
    {
     "data": {
      "application/javascript": "window[\"d04b53b4-6e12-11f0-831c-0242ac1c000c\"] = google.colab.element_size.nelement.element_size.element_size.element_size();\n//# sourceURL=js_044a2fe643",
      "text/plain": [
       "<IPython.core.display.Javascript object>"
      ]
     },
     "metadata": {},
     "output_type": "display_data"
    },
    {
     "data": {
      "application/javascript": "window[\"d04b7d44-6e12-11f0-831c-0242ac1c000c\"] = google.colab.element_size.nelement.element_size.element_size.nelement();\n//# sourceURL=js_ec3627fbc6",
      "text/plain": [
       "<IPython.core.display.Javascript object>"
      ]
     },
     "metadata": {},
     "output_type": "display_data"
    },
    {
     "data": {
      "application/javascript": "window[\"d04ba6b6-6e12-11f0-831c-0242ac1c000c\"] = window[\"d04b53b4-6e12-11f0-831c-0242ac1c000c\"] * window[\"d04b7d44-6e12-11f0-831c-0242ac1c000c\"];\n//# sourceURL=js_69c9a5c65f",
      "text/plain": [
       "<IPython.core.display.Javascript object>"
      ]
     },
     "metadata": {},
     "output_type": "display_data"
    },
    {
     "data": {
      "application/javascript": "window[\"d04bd29e-6e12-11f0-831c-0242ac1c000c\"] = nelement.element_size.element_size.element_size.element_size();\n//# sourceURL=js_0598796ab5",
      "text/plain": [
       "<IPython.core.display.Javascript object>"
      ]
     },
     "metadata": {},
     "output_type": "display_data"
    },
    {
     "data": {
      "application/javascript": "window[\"d04bfe40-6e12-11f0-831c-0242ac1c000c\"] = nelement.element_size.element_size.element_size.nelement();\n//# sourceURL=js_39eac2e62e",
      "text/plain": [
       "<IPython.core.display.Javascript object>"
      ]
     },
     "metadata": {},
     "output_type": "display_data"
    },
    {
     "data": {
      "application/javascript": "window[\"d04c2bb8-6e12-11f0-831c-0242ac1c000c\"] = window[\"d04bd29e-6e12-11f0-831c-0242ac1c000c\"] * window[\"d04bfe40-6e12-11f0-831c-0242ac1c000c\"];\n//# sourceURL=js_80bd88b574",
      "text/plain": [
       "<IPython.core.display.Javascript object>"
      ]
     },
     "metadata": {},
     "output_type": "display_data"
    },
    {
     "data": {
      "application/javascript": "window[\"d04c5746-6e12-11f0-831c-0242ac1c000c\"] = element_size.element_size.element_size.element_size.element_size();\n//# sourceURL=js_b2f2ea114e",
      "text/plain": [
       "<IPython.core.display.Javascript object>"
      ]
     },
     "metadata": {},
     "output_type": "display_data"
    },
    {
     "data": {
      "application/javascript": "window[\"d04c82de-6e12-11f0-831c-0242ac1c000c\"] = element_size.element_size.element_size.element_size.nelement();\n//# sourceURL=js_51bb1de1c4",
      "text/plain": [
       "<IPython.core.display.Javascript object>"
      ]
     },
     "metadata": {},
     "output_type": "display_data"
    },
    {
     "data": {
      "application/javascript": "window[\"d04cb43e-6e12-11f0-831c-0242ac1c000c\"] = window[\"d04c5746-6e12-11f0-831c-0242ac1c000c\"] * window[\"d04c82de-6e12-11f0-831c-0242ac1c000c\"];\n//# sourceURL=js_6ab10e731e",
      "text/plain": [
       "<IPython.core.display.Javascript object>"
      ]
     },
     "metadata": {},
     "output_type": "display_data"
    },
    {
     "data": {
      "application/javascript": "window[\"d04cdf0e-6e12-11f0-831c-0242ac1c000c\"] = google.colab.nelement.element_size.element_size.element_size.element_size();\n//# sourceURL=js_14d44205c0",
      "text/plain": [
       "<IPython.core.display.Javascript object>"
      ]
     },
     "metadata": {},
     "output_type": "display_data"
    },
    {
     "data": {
      "application/javascript": "window[\"d04d0d6c-6e12-11f0-831c-0242ac1c000c\"] = google.colab.nelement.element_size.element_size.element_size.nelement();\n//# sourceURL=js_9b6a067630",
      "text/plain": [
       "<IPython.core.display.Javascript object>"
      ]
     },
     "metadata": {},
     "output_type": "display_data"
    },
    {
     "data": {
      "application/javascript": "window[\"d04d464c-6e12-11f0-831c-0242ac1c000c\"] = window[\"d04cdf0e-6e12-11f0-831c-0242ac1c000c\"] * window[\"d04d0d6c-6e12-11f0-831c-0242ac1c000c\"];\n//# sourceURL=js_892d9f9a5c",
      "text/plain": [
       "<IPython.core.display.Javascript object>"
      ]
     },
     "metadata": {},
     "output_type": "display_data"
    },
    {
     "data": {
      "application/javascript": "window[\"d04d7662-6e12-11f0-831c-0242ac1c000c\"] = google.colab.element_size.element_size.element_size.element_size.element_size();\n//# sourceURL=js_4a01287a8e",
      "text/plain": [
       "<IPython.core.display.Javascript object>"
      ]
     },
     "metadata": {},
     "output_type": "display_data"
    },
    {
     "data": {
      "application/javascript": "window[\"d04daace-6e12-11f0-831c-0242ac1c000c\"] = google.colab.element_size.element_size.element_size.element_size.nelement();\n//# sourceURL=js_6a1e8e2321",
      "text/plain": [
       "<IPython.core.display.Javascript object>"
      ]
     },
     "metadata": {},
     "output_type": "display_data"
    },
    {
     "data": {
      "application/javascript": "window[\"d04ddae4-6e12-11f0-831c-0242ac1c000c\"] = window[\"d04d7662-6e12-11f0-831c-0242ac1c000c\"] * window[\"d04daace-6e12-11f0-831c-0242ac1c000c\"];\n//# sourceURL=js_5724bfab3a",
      "text/plain": [
       "<IPython.core.display.Javascript object>"
      ]
     },
     "metadata": {},
     "output_type": "display_data"
    },
    {
     "data": {
      "application/javascript": "window[\"d04e1162-6e12-11f0-831c-0242ac1c000c\"] = nelement.nelement.nelement.nelement.nelement.element_size();\n//# sourceURL=js_def01e2608",
      "text/plain": [
       "<IPython.core.display.Javascript object>"
      ]
     },
     "metadata": {},
     "output_type": "display_data"
    },
    {
     "data": {
      "application/javascript": "window[\"d04e3e30-6e12-11f0-831c-0242ac1c000c\"] = nelement.nelement.nelement.nelement.nelement.nelement();\n//# sourceURL=js_de8ee4a754",
      "text/plain": [
       "<IPython.core.display.Javascript object>"
      ]
     },
     "metadata": {},
     "output_type": "display_data"
    },
    {
     "data": {
      "application/javascript": "window[\"d04e736e-6e12-11f0-831c-0242ac1c000c\"] = window[\"d04e1162-6e12-11f0-831c-0242ac1c000c\"] * window[\"d04e3e30-6e12-11f0-831c-0242ac1c000c\"];\n//# sourceURL=js_a2751776dd",
      "text/plain": [
       "<IPython.core.display.Javascript object>"
      ]
     },
     "metadata": {},
     "output_type": "display_data"
    },
    {
     "data": {
      "application/javascript": "window[\"d04e9f74-6e12-11f0-831c-0242ac1c000c\"] = element_size.nelement.nelement.nelement.nelement.element_size();\n//# sourceURL=js_c1609b0c75",
      "text/plain": [
       "<IPython.core.display.Javascript object>"
      ]
     },
     "metadata": {},
     "output_type": "display_data"
    },
    {
     "data": {
      "application/javascript": "window[\"d04ec850-6e12-11f0-831c-0242ac1c000c\"] = element_size.nelement.nelement.nelement.nelement.nelement();\n//# sourceURL=js_d417d17a8d",
      "text/plain": [
       "<IPython.core.display.Javascript object>"
      ]
     },
     "metadata": {},
     "output_type": "display_data"
    },
    {
     "data": {
      "application/javascript": "window[\"d04ef398-6e12-11f0-831c-0242ac1c000c\"] = window[\"d04e9f74-6e12-11f0-831c-0242ac1c000c\"] * window[\"d04ec850-6e12-11f0-831c-0242ac1c000c\"];\n//# sourceURL=js_b78f6b04a9",
      "text/plain": [
       "<IPython.core.display.Javascript object>"
      ]
     },
     "metadata": {},
     "output_type": "display_data"
    },
    {
     "data": {
      "application/javascript": "window[\"d04f2250-6e12-11f0-831c-0242ac1c000c\"] = google.colab.nelement.nelement.nelement.nelement.nelement.element_size();\n//# sourceURL=js_187ed8327d",
      "text/plain": [
       "<IPython.core.display.Javascript object>"
      ]
     },
     "metadata": {},
     "output_type": "display_data"
    },
    {
     "data": {
      "application/javascript": "window[\"d04f6972-6e12-11f0-831c-0242ac1c000c\"] = google.colab.nelement.nelement.nelement.nelement.nelement.nelement();\n//# sourceURL=js_72e85930b8",
      "text/plain": [
       "<IPython.core.display.Javascript object>"
      ]
     },
     "metadata": {},
     "output_type": "display_data"
    },
    {
     "data": {
      "application/javascript": "window[\"d04fb7ec-6e12-11f0-831c-0242ac1c000c\"] = window[\"d04f2250-6e12-11f0-831c-0242ac1c000c\"] * window[\"d04f6972-6e12-11f0-831c-0242ac1c000c\"];\n//# sourceURL=js_98b4717912",
      "text/plain": [
       "<IPython.core.display.Javascript object>"
      ]
     },
     "metadata": {},
     "output_type": "display_data"
    },
    {
     "data": {
      "application/javascript": "window[\"d04ff270-6e12-11f0-831c-0242ac1c000c\"] = google.colab.element_size.nelement.nelement.nelement.nelement.element_size();\n//# sourceURL=js_6bba3c8c88",
      "text/plain": [
       "<IPython.core.display.Javascript object>"
      ]
     },
     "metadata": {},
     "output_type": "display_data"
    },
    {
     "data": {
      "application/javascript": "window[\"d0501e44-6e12-11f0-831c-0242ac1c000c\"] = google.colab.element_size.nelement.nelement.nelement.nelement.nelement();\n//# sourceURL=js_57d1becd15",
      "text/plain": [
       "<IPython.core.display.Javascript object>"
      ]
     },
     "metadata": {},
     "output_type": "display_data"
    },
    {
     "data": {
      "application/javascript": "window[\"d0504db0-6e12-11f0-831c-0242ac1c000c\"] = window[\"d04ff270-6e12-11f0-831c-0242ac1c000c\"] * window[\"d0501e44-6e12-11f0-831c-0242ac1c000c\"];\n//# sourceURL=js_d462828a0d",
      "text/plain": [
       "<IPython.core.display.Javascript object>"
      ]
     },
     "metadata": {},
     "output_type": "display_data"
    },
    {
     "data": {
      "application/javascript": "window[\"d0507b3c-6e12-11f0-831c-0242ac1c000c\"] = nelement.element_size.nelement.nelement.nelement.element_size();\n//# sourceURL=js_dd7003e4b0",
      "text/plain": [
       "<IPython.core.display.Javascript object>"
      ]
     },
     "metadata": {},
     "output_type": "display_data"
    },
    {
     "data": {
      "application/javascript": "window[\"d050a7e2-6e12-11f0-831c-0242ac1c000c\"] = nelement.element_size.nelement.nelement.nelement.nelement();\n//# sourceURL=js_e52f5440cb",
      "text/plain": [
       "<IPython.core.display.Javascript object>"
      ]
     },
     "metadata": {},
     "output_type": "display_data"
    },
    {
     "data": {
      "application/javascript": "window[\"d050d37a-6e12-11f0-831c-0242ac1c000c\"] = window[\"d0507b3c-6e12-11f0-831c-0242ac1c000c\"] * window[\"d050a7e2-6e12-11f0-831c-0242ac1c000c\"];\n//# sourceURL=js_0340fee3a9",
      "text/plain": [
       "<IPython.core.display.Javascript object>"
      ]
     },
     "metadata": {},
     "output_type": "display_data"
    },
    {
     "data": {
      "application/javascript": "window[\"d0510354-6e12-11f0-831c-0242ac1c000c\"] = element_size.element_size.nelement.nelement.nelement.element_size();\n//# sourceURL=js_7c18036a74",
      "text/plain": [
       "<IPython.core.display.Javascript object>"
      ]
     },
     "metadata": {},
     "output_type": "display_data"
    },
    {
     "data": {
      "application/javascript": "window[\"d0513658-6e12-11f0-831c-0242ac1c000c\"] = element_size.element_size.nelement.nelement.nelement.nelement();\n//# sourceURL=js_c979124056",
      "text/plain": [
       "<IPython.core.display.Javascript object>"
      ]
     },
     "metadata": {},
     "output_type": "display_data"
    },
    {
     "data": {
      "application/javascript": "window[\"d0516092-6e12-11f0-831c-0242ac1c000c\"] = window[\"d0510354-6e12-11f0-831c-0242ac1c000c\"] * window[\"d0513658-6e12-11f0-831c-0242ac1c000c\"];\n//# sourceURL=js_9d23e85e87",
      "text/plain": [
       "<IPython.core.display.Javascript object>"
      ]
     },
     "metadata": {},
     "output_type": "display_data"
    },
    {
     "data": {
      "application/javascript": "window[\"d0519526-6e12-11f0-831c-0242ac1c000c\"] = google.colab.nelement.element_size.nelement.nelement.nelement.element_size();\n//# sourceURL=js_3652f4d1dc",
      "text/plain": [
       "<IPython.core.display.Javascript object>"
      ]
     },
     "metadata": {},
     "output_type": "display_data"
    },
    {
     "data": {
      "application/javascript": "window[\"d051c046-6e12-11f0-831c-0242ac1c000c\"] = google.colab.nelement.element_size.nelement.nelement.nelement.nelement();\n//# sourceURL=js_7bd2932ea9",
      "text/plain": [
       "<IPython.core.display.Javascript object>"
      ]
     },
     "metadata": {},
     "output_type": "display_data"
    },
    {
     "data": {
      "application/javascript": "window[\"d051ee18-6e12-11f0-831c-0242ac1c000c\"] = window[\"d0519526-6e12-11f0-831c-0242ac1c000c\"] * window[\"d051c046-6e12-11f0-831c-0242ac1c000c\"];\n//# sourceURL=js_f07fc84cd8",
      "text/plain": [
       "<IPython.core.display.Javascript object>"
      ]
     },
     "metadata": {},
     "output_type": "display_data"
    },
    {
     "data": {
      "application/javascript": "window[\"d0521dfc-6e12-11f0-831c-0242ac1c000c\"] = google.colab.element_size.element_size.nelement.nelement.nelement.element_size();\n//# sourceURL=js_2f07d7ca3a",
      "text/plain": [
       "<IPython.core.display.Javascript object>"
      ]
     },
     "metadata": {},
     "output_type": "display_data"
    },
    {
     "data": {
      "application/javascript": "window[\"d0524912-6e12-11f0-831c-0242ac1c000c\"] = google.colab.element_size.element_size.nelement.nelement.nelement.nelement();\n//# sourceURL=js_b22980fe82",
      "text/plain": [
       "<IPython.core.display.Javascript object>"
      ]
     },
     "metadata": {},
     "output_type": "display_data"
    },
    {
     "data": {
      "application/javascript": "window[\"d052795a-6e12-11f0-831c-0242ac1c000c\"] = window[\"d0521dfc-6e12-11f0-831c-0242ac1c000c\"] * window[\"d0524912-6e12-11f0-831c-0242ac1c000c\"];\n//# sourceURL=js_aa781b552b",
      "text/plain": [
       "<IPython.core.display.Javascript object>"
      ]
     },
     "metadata": {},
     "output_type": "display_data"
    },
    {
     "data": {
      "application/javascript": "window[\"d052a57e-6e12-11f0-831c-0242ac1c000c\"] = nelement.nelement.element_size.nelement.nelement.element_size();\n//# sourceURL=js_0719871634",
      "text/plain": [
       "<IPython.core.display.Javascript object>"
      ]
     },
     "metadata": {},
     "output_type": "display_data"
    },
    {
     "data": {
      "application/javascript": "window[\"d052d8b4-6e12-11f0-831c-0242ac1c000c\"] = nelement.nelement.element_size.nelement.nelement.nelement();\n//# sourceURL=js_140c895273",
      "text/plain": [
       "<IPython.core.display.Javascript object>"
      ]
     },
     "metadata": {},
     "output_type": "display_data"
    },
    {
     "data": {
      "application/javascript": "window[\"d05304a6-6e12-11f0-831c-0242ac1c000c\"] = window[\"d052a57e-6e12-11f0-831c-0242ac1c000c\"] * window[\"d052d8b4-6e12-11f0-831c-0242ac1c000c\"];\n//# sourceURL=js_7e42e54f3c",
      "text/plain": [
       "<IPython.core.display.Javascript object>"
      ]
     },
     "metadata": {},
     "output_type": "display_data"
    },
    {
     "data": {
      "application/javascript": "window[\"d0532bfc-6e12-11f0-831c-0242ac1c000c\"] = element_size.nelement.element_size.nelement.nelement.element_size();\n//# sourceURL=js_ddf85003c6",
      "text/plain": [
       "<IPython.core.display.Javascript object>"
      ]
     },
     "metadata": {},
     "output_type": "display_data"
    },
    {
     "data": {
      "application/javascript": "window[\"d053582a-6e12-11f0-831c-0242ac1c000c\"] = element_size.nelement.element_size.nelement.nelement.nelement();\n//# sourceURL=js_f971a02601",
      "text/plain": [
       "<IPython.core.display.Javascript object>"
      ]
     },
     "metadata": {},
     "output_type": "display_data"
    },
    {
     "data": {
      "application/javascript": "window[\"d0537fee-6e12-11f0-831c-0242ac1c000c\"] = window[\"d0532bfc-6e12-11f0-831c-0242ac1c000c\"] * window[\"d053582a-6e12-11f0-831c-0242ac1c000c\"];\n//# sourceURL=js_f38d7de9a5",
      "text/plain": [
       "<IPython.core.display.Javascript object>"
      ]
     },
     "metadata": {},
     "output_type": "display_data"
    },
    {
     "data": {
      "application/javascript": "window[\"d053ab90-6e12-11f0-831c-0242ac1c000c\"] = google.colab.nelement.nelement.element_size.nelement.nelement.element_size();\n//# sourceURL=js_5f22393543",
      "text/plain": [
       "<IPython.core.display.Javascript object>"
      ]
     },
     "metadata": {},
     "output_type": "display_data"
    },
    {
     "data": {
      "application/javascript": "window[\"d053d9d0-6e12-11f0-831c-0242ac1c000c\"] = google.colab.nelement.nelement.element_size.nelement.nelement.nelement();\n//# sourceURL=js_7466989446",
      "text/plain": [
       "<IPython.core.display.Javascript object>"
      ]
     },
     "metadata": {},
     "output_type": "display_data"
    },
    {
     "data": {
      "application/javascript": "window[\"d05408f6-6e12-11f0-831c-0242ac1c000c\"] = window[\"d053ab90-6e12-11f0-831c-0242ac1c000c\"] * window[\"d053d9d0-6e12-11f0-831c-0242ac1c000c\"];\n//# sourceURL=js_09c923fcfd",
      "text/plain": [
       "<IPython.core.display.Javascript object>"
      ]
     },
     "metadata": {},
     "output_type": "display_data"
    },
    {
     "data": {
      "application/javascript": "window[\"d054336c-6e12-11f0-831c-0242ac1c000c\"] = google.colab.element_size.nelement.element_size.nelement.nelement.element_size();\n//# sourceURL=js_40cbbb0650",
      "text/plain": [
       "<IPython.core.display.Javascript object>"
      ]
     },
     "metadata": {},
     "output_type": "display_data"
    },
    {
     "data": {
      "application/javascript": "window[\"d0545ec8-6e12-11f0-831c-0242ac1c000c\"] = google.colab.element_size.nelement.element_size.nelement.nelement.nelement();\n//# sourceURL=js_62041f27d0",
      "text/plain": [
       "<IPython.core.display.Javascript object>"
      ]
     },
     "metadata": {},
     "output_type": "display_data"
    },
    {
     "data": {
      "application/javascript": "window[\"d0548920-6e12-11f0-831c-0242ac1c000c\"] = window[\"d054336c-6e12-11f0-831c-0242ac1c000c\"] * window[\"d0545ec8-6e12-11f0-831c-0242ac1c000c\"];\n//# sourceURL=js_19991d86ae",
      "text/plain": [
       "<IPython.core.display.Javascript object>"
      ]
     },
     "metadata": {},
     "output_type": "display_data"
    },
    {
     "data": {
      "application/javascript": "window[\"d054b8a0-6e12-11f0-831c-0242ac1c000c\"] = nelement.element_size.element_size.nelement.nelement.element_size();\n//# sourceURL=js_a9fd473f82",
      "text/plain": [
       "<IPython.core.display.Javascript object>"
      ]
     },
     "metadata": {},
     "output_type": "display_data"
    },
    {
     "data": {
      "application/javascript": "window[\"d054eb9a-6e12-11f0-831c-0242ac1c000c\"] = nelement.element_size.element_size.nelement.nelement.nelement();\n//# sourceURL=js_cb8fbe1572",
      "text/plain": [
       "<IPython.core.display.Javascript object>"
      ]
     },
     "metadata": {},
     "output_type": "display_data"
    },
    {
     "data": {
      "application/javascript": "window[\"d05515d4-6e12-11f0-831c-0242ac1c000c\"] = window[\"d054b8a0-6e12-11f0-831c-0242ac1c000c\"] * window[\"d054eb9a-6e12-11f0-831c-0242ac1c000c\"];\n//# sourceURL=js_804f99263a",
      "text/plain": [
       "<IPython.core.display.Javascript object>"
      ]
     },
     "metadata": {},
     "output_type": "display_data"
    },
    {
     "data": {
      "application/javascript": "window[\"d0554270-6e12-11f0-831c-0242ac1c000c\"] = element_size.element_size.element_size.nelement.nelement.element_size();\n//# sourceURL=js_1021a93fed",
      "text/plain": [
       "<IPython.core.display.Javascript object>"
      ]
     },
     "metadata": {},
     "output_type": "display_data"
    },
    {
     "data": {
      "application/javascript": "window[\"d05568d6-6e12-11f0-831c-0242ac1c000c\"] = element_size.element_size.element_size.nelement.nelement.nelement();\n//# sourceURL=js_aa4b5b9b9f",
      "text/plain": [
       "<IPython.core.display.Javascript object>"
      ]
     },
     "metadata": {},
     "output_type": "display_data"
    },
    {
     "data": {
      "application/javascript": "window[\"d0559fd6-6e12-11f0-831c-0242ac1c000c\"] = window[\"d0554270-6e12-11f0-831c-0242ac1c000c\"] * window[\"d05568d6-6e12-11f0-831c-0242ac1c000c\"];\n//# sourceURL=js_f922d9709e",
      "text/plain": [
       "<IPython.core.display.Javascript object>"
      ]
     },
     "metadata": {},
     "output_type": "display_data"
    },
    {
     "data": {
      "application/javascript": "window[\"d055c8da-6e12-11f0-831c-0242ac1c000c\"] = google.colab.nelement.element_size.element_size.nelement.nelement.element_size();\n//# sourceURL=js_69c7de4f19",
      "text/plain": [
       "<IPython.core.display.Javascript object>"
      ]
     },
     "metadata": {},
     "output_type": "display_data"
    },
    {
     "data": {
      "application/javascript": "window[\"d055f40e-6e12-11f0-831c-0242ac1c000c\"] = google.colab.nelement.element_size.element_size.nelement.nelement.nelement();\n//# sourceURL=js_d1b49dd9fb",
      "text/plain": [
       "<IPython.core.display.Javascript object>"
      ]
     },
     "metadata": {},
     "output_type": "display_data"
    },
    {
     "data": {
      "application/javascript": "window[\"d05628fc-6e12-11f0-831c-0242ac1c000c\"] = window[\"d055c8da-6e12-11f0-831c-0242ac1c000c\"] * window[\"d055f40e-6e12-11f0-831c-0242ac1c000c\"];\n//# sourceURL=js_146dfc45ae",
      "text/plain": [
       "<IPython.core.display.Javascript object>"
      ]
     },
     "metadata": {},
     "output_type": "display_data"
    },
    {
     "data": {
      "application/javascript": "window[\"d05656b0-6e12-11f0-831c-0242ac1c000c\"] = google.colab.element_size.element_size.element_size.nelement.nelement.element_size();\n//# sourceURL=js_8db19f4c4d",
      "text/plain": [
       "<IPython.core.display.Javascript object>"
      ]
     },
     "metadata": {},
     "output_type": "display_data"
    },
    {
     "data": {
      "application/javascript": "window[\"d05681ee-6e12-11f0-831c-0242ac1c000c\"] = google.colab.element_size.element_size.element_size.nelement.nelement.nelement();\n//# sourceURL=js_dc643bddbb",
      "text/plain": [
       "<IPython.core.display.Javascript object>"
      ]
     },
     "metadata": {},
     "output_type": "display_data"
    },
    {
     "data": {
      "application/javascript": "window[\"d056abce-6e12-11f0-831c-0242ac1c000c\"] = window[\"d05656b0-6e12-11f0-831c-0242ac1c000c\"] * window[\"d05681ee-6e12-11f0-831c-0242ac1c000c\"];\n//# sourceURL=js_3feba51fdc",
      "text/plain": [
       "<IPython.core.display.Javascript object>"
      ]
     },
     "metadata": {},
     "output_type": "display_data"
    },
    {
     "data": {
      "application/javascript": "window[\"d056d72a-6e12-11f0-831c-0242ac1c000c\"] = nelement.nelement.nelement.element_size.nelement.element_size();\n//# sourceURL=js_f9dc179cc9",
      "text/plain": [
       "<IPython.core.display.Javascript object>"
      ]
     },
     "metadata": {},
     "output_type": "display_data"
    },
    {
     "data": {
      "application/javascript": "window[\"d057025e-6e12-11f0-831c-0242ac1c000c\"] = nelement.nelement.nelement.element_size.nelement.nelement();\n//# sourceURL=js_16f3a7bbfe",
      "text/plain": [
       "<IPython.core.display.Javascript object>"
      ]
     },
     "metadata": {},
     "output_type": "display_data"
    },
    {
     "data": {
      "application/javascript": "window[\"d05732ec-6e12-11f0-831c-0242ac1c000c\"] = window[\"d056d72a-6e12-11f0-831c-0242ac1c000c\"] * window[\"d057025e-6e12-11f0-831c-0242ac1c000c\"];\n//# sourceURL=js_caa1b4ec12",
      "text/plain": [
       "<IPython.core.display.Javascript object>"
      ]
     },
     "metadata": {},
     "output_type": "display_data"
    },
    {
     "data": {
      "application/javascript": "window[\"d05762da-6e12-11f0-831c-0242ac1c000c\"] = element_size.nelement.nelement.element_size.nelement.element_size();\n//# sourceURL=js_5b9aeba5b2",
      "text/plain": [
       "<IPython.core.display.Javascript object>"
      ]
     },
     "metadata": {},
     "output_type": "display_data"
    },
    {
     "data": {
      "application/javascript": "window[\"d0578f3a-6e12-11f0-831c-0242ac1c000c\"] = element_size.nelement.nelement.element_size.nelement.nelement();\n//# sourceURL=js_ee66a93367",
      "text/plain": [
       "<IPython.core.display.Javascript object>"
      ]
     },
     "metadata": {},
     "output_type": "display_data"
    },
    {
     "data": {
      "application/javascript": "window[\"d057c694-6e12-11f0-831c-0242ac1c000c\"] = window[\"d05762da-6e12-11f0-831c-0242ac1c000c\"] * window[\"d0578f3a-6e12-11f0-831c-0242ac1c000c\"];\n//# sourceURL=js_c1ff9687d8",
      "text/plain": [
       "<IPython.core.display.Javascript object>"
      ]
     },
     "metadata": {},
     "output_type": "display_data"
    },
    {
     "data": {
      "application/javascript": "window[\"d057f3e4-6e12-11f0-831c-0242ac1c000c\"] = google.colab.nelement.nelement.nelement.element_size.nelement.element_size();\n//# sourceURL=js_1bb3466679",
      "text/plain": [
       "<IPython.core.display.Javascript object>"
      ]
     },
     "metadata": {},
     "output_type": "display_data"
    },
    {
     "data": {
      "application/javascript": "window[\"d0581c66-6e12-11f0-831c-0242ac1c000c\"] = google.colab.nelement.nelement.nelement.element_size.nelement.nelement();\n//# sourceURL=js_3219d6eba8",
      "text/plain": [
       "<IPython.core.display.Javascript object>"
      ]
     },
     "metadata": {},
     "output_type": "display_data"
    },
    {
     "data": {
      "application/javascript": "window[\"d0584b0a-6e12-11f0-831c-0242ac1c000c\"] = window[\"d057f3e4-6e12-11f0-831c-0242ac1c000c\"] * window[\"d0581c66-6e12-11f0-831c-0242ac1c000c\"];\n//# sourceURL=js_0b2f6bb354",
      "text/plain": [
       "<IPython.core.display.Javascript object>"
      ]
     },
     "metadata": {},
     "output_type": "display_data"
    },
    {
     "data": {
      "application/javascript": "window[\"d05877ce-6e12-11f0-831c-0242ac1c000c\"] = google.colab.element_size.nelement.nelement.element_size.nelement.element_size();\n//# sourceURL=js_8e8ad92190",
      "text/plain": [
       "<IPython.core.display.Javascript object>"
      ]
     },
     "metadata": {},
     "output_type": "display_data"
    },
    {
     "data": {
      "application/javascript": "window[\"d058a622-6e12-11f0-831c-0242ac1c000c\"] = google.colab.element_size.nelement.nelement.element_size.nelement.nelement();\n//# sourceURL=js_d634f42491",
      "text/plain": [
       "<IPython.core.display.Javascript object>"
      ]
     },
     "metadata": {},
     "output_type": "display_data"
    },
    {
     "data": {
      "application/javascript": "window[\"d058d49e-6e12-11f0-831c-0242ac1c000c\"] = window[\"d05877ce-6e12-11f0-831c-0242ac1c000c\"] * window[\"d058a622-6e12-11f0-831c-0242ac1c000c\"];\n//# sourceURL=js_d56cb9f2bc",
      "text/plain": [
       "<IPython.core.display.Javascript object>"
      ]
     },
     "metadata": {},
     "output_type": "display_data"
    },
    {
     "data": {
      "application/javascript": "window[\"d059045a-6e12-11f0-831c-0242ac1c000c\"] = nelement.element_size.nelement.element_size.nelement.element_size();\n//# sourceURL=js_cad4cb2322",
      "text/plain": [
       "<IPython.core.display.Javascript object>"
      ]
     },
     "metadata": {},
     "output_type": "display_data"
    },
    {
     "data": {
      "application/javascript": "window[\"d0593754-6e12-11f0-831c-0242ac1c000c\"] = nelement.element_size.nelement.element_size.nelement.nelement();\n//# sourceURL=js_7c86ef62a7",
      "text/plain": [
       "<IPython.core.display.Javascript object>"
      ]
     },
     "metadata": {},
     "output_type": "display_data"
    },
    {
     "data": {
      "application/javascript": "window[\"d0596bac-6e12-11f0-831c-0242ac1c000c\"] = window[\"d059045a-6e12-11f0-831c-0242ac1c000c\"] * window[\"d0593754-6e12-11f0-831c-0242ac1c000c\"];\n//# sourceURL=js_83c898cfbf",
      "text/plain": [
       "<IPython.core.display.Javascript object>"
      ]
     },
     "metadata": {},
     "output_type": "display_data"
    },
    {
     "data": {
      "application/javascript": "window[\"d059901e-6e12-11f0-831c-0242ac1c000c\"] = element_size.element_size.nelement.element_size.nelement.element_size();\n//# sourceURL=js_77a40b5b6d",
      "text/plain": [
       "<IPython.core.display.Javascript object>"
      ]
     },
     "metadata": {},
     "output_type": "display_data"
    },
    {
     "data": {
      "application/javascript": "window[\"d059b8fa-6e12-11f0-831c-0242ac1c000c\"] = element_size.element_size.nelement.element_size.nelement.nelement();\n//# sourceURL=js_f7bfb63740",
      "text/plain": [
       "<IPython.core.display.Javascript object>"
      ]
     },
     "metadata": {},
     "output_type": "display_data"
    },
    {
     "data": {
      "application/javascript": "window[\"d059e848-6e12-11f0-831c-0242ac1c000c\"] = window[\"d059901e-6e12-11f0-831c-0242ac1c000c\"] * window[\"d059b8fa-6e12-11f0-831c-0242ac1c000c\"];\n//# sourceURL=js_e938748f92",
      "text/plain": [
       "<IPython.core.display.Javascript object>"
      ]
     },
     "metadata": {},
     "output_type": "display_data"
    },
    {
     "data": {
      "application/javascript": "window[\"d05a12be-6e12-11f0-831c-0242ac1c000c\"] = google.colab.nelement.element_size.nelement.element_size.nelement.element_size();\n//# sourceURL=js_020093047d",
      "text/plain": [
       "<IPython.core.display.Javascript object>"
      ]
     },
     "metadata": {},
     "output_type": "display_data"
    },
    {
     "data": {
      "application/javascript": "window[\"d05a455e-6e12-11f0-831c-0242ac1c000c\"] = google.colab.nelement.element_size.nelement.element_size.nelement.nelement();\n//# sourceURL=js_aa7f7f729c",
      "text/plain": [
       "<IPython.core.display.Javascript object>"
      ]
     },
     "metadata": {},
     "output_type": "display_data"
    },
    {
     "data": {
      "application/javascript": "window[\"d05a6c82-6e12-11f0-831c-0242ac1c000c\"] = window[\"d05a12be-6e12-11f0-831c-0242ac1c000c\"] * window[\"d05a455e-6e12-11f0-831c-0242ac1c000c\"];\n//# sourceURL=js_dfa27ec9cf",
      "text/plain": [
       "<IPython.core.display.Javascript object>"
      ]
     },
     "metadata": {},
     "output_type": "display_data"
    },
    {
     "data": {
      "application/javascript": "window[\"d05a939c-6e12-11f0-831c-0242ac1c000c\"] = google.colab.element_size.element_size.nelement.element_size.nelement.element_size();\n//# sourceURL=js_a440244210",
      "text/plain": [
       "<IPython.core.display.Javascript object>"
      ]
     },
     "metadata": {},
     "output_type": "display_data"
    },
    {
     "data": {
      "application/javascript": "window[\"d05ac22c-6e12-11f0-831c-0242ac1c000c\"] = google.colab.element_size.element_size.nelement.element_size.nelement.nelement();\n//# sourceURL=js_5105ccd8f5",
      "text/plain": [
       "<IPython.core.display.Javascript object>"
      ]
     },
     "metadata": {},
     "output_type": "display_data"
    },
    {
     "data": {
      "application/javascript": "window[\"d05aef36-6e12-11f0-831c-0242ac1c000c\"] = window[\"d05a939c-6e12-11f0-831c-0242ac1c000c\"] * window[\"d05ac22c-6e12-11f0-831c-0242ac1c000c\"];\n//# sourceURL=js_da971313d7",
      "text/plain": [
       "<IPython.core.display.Javascript object>"
      ]
     },
     "metadata": {},
     "output_type": "display_data"
    },
    {
     "data": {
      "application/javascript": "window[\"d05b18f8-6e12-11f0-831c-0242ac1c000c\"] = nelement.nelement.element_size.element_size.nelement.element_size();\n//# sourceURL=js_86ba966936",
      "text/plain": [
       "<IPython.core.display.Javascript object>"
      ]
     },
     "metadata": {},
     "output_type": "display_data"
    },
    {
     "data": {
      "application/javascript": "window[\"d05b4ae4-6e12-11f0-831c-0242ac1c000c\"] = nelement.nelement.element_size.element_size.nelement.nelement();\n//# sourceURL=js_d5fc683c3f",
      "text/plain": [
       "<IPython.core.display.Javascript object>"
      ]
     },
     "metadata": {},
     "output_type": "display_data"
    },
    {
     "data": {
      "application/javascript": "window[\"d05b75fa-6e12-11f0-831c-0242ac1c000c\"] = window[\"d05b18f8-6e12-11f0-831c-0242ac1c000c\"] * window[\"d05b4ae4-6e12-11f0-831c-0242ac1c000c\"];\n//# sourceURL=js_7d51d23cf1",
      "text/plain": [
       "<IPython.core.display.Javascript object>"
      ]
     },
     "metadata": {},
     "output_type": "display_data"
    },
    {
     "data": {
      "application/javascript": "window[\"d05bac78-6e12-11f0-831c-0242ac1c000c\"] = element_size.nelement.element_size.element_size.nelement.element_size();\n//# sourceURL=js_e1dc7c6612",
      "text/plain": [
       "<IPython.core.display.Javascript object>"
      ]
     },
     "metadata": {},
     "output_type": "display_data"
    },
    {
     "data": {
      "application/javascript": "window[\"d05bd8c4-6e12-11f0-831c-0242ac1c000c\"] = element_size.nelement.element_size.element_size.nelement.nelement();\n//# sourceURL=js_7db1c922ca",
      "text/plain": [
       "<IPython.core.display.Javascript object>"
      ]
     },
     "metadata": {},
     "output_type": "display_data"
    },
    {
     "data": {
      "application/javascript": "window[\"d05c10fa-6e12-11f0-831c-0242ac1c000c\"] = window[\"d05bac78-6e12-11f0-831c-0242ac1c000c\"] * window[\"d05bd8c4-6e12-11f0-831c-0242ac1c000c\"];\n//# sourceURL=js_e4f3a82c41",
      "text/plain": [
       "<IPython.core.display.Javascript object>"
      ]
     },
     "metadata": {},
     "output_type": "display_data"
    },
    {
     "data": {
      "application/javascript": "window[\"d05c36c0-6e12-11f0-831c-0242ac1c000c\"] = google.colab.nelement.nelement.element_size.element_size.nelement.element_size();\n//# sourceURL=js_8bf7052e67",
      "text/plain": [
       "<IPython.core.display.Javascript object>"
      ]
     },
     "metadata": {},
     "output_type": "display_data"
    },
    {
     "data": {
      "application/javascript": "window[\"d05c6212-6e12-11f0-831c-0242ac1c000c\"] = google.colab.nelement.nelement.element_size.element_size.nelement.nelement();\n//# sourceURL=js_fc5b58b20b",
      "text/plain": [
       "<IPython.core.display.Javascript object>"
      ]
     },
     "metadata": {},
     "output_type": "display_data"
    },
    {
     "data": {
      "application/javascript": "window[\"d05c9782-6e12-11f0-831c-0242ac1c000c\"] = window[\"d05c36c0-6e12-11f0-831c-0242ac1c000c\"] * window[\"d05c6212-6e12-11f0-831c-0242ac1c000c\"];\n//# sourceURL=js_9fb02d2cce",
      "text/plain": [
       "<IPython.core.display.Javascript object>"
      ]
     },
     "metadata": {},
     "output_type": "display_data"
    },
    {
     "data": {
      "application/javascript": "window[\"d05cc1f8-6e12-11f0-831c-0242ac1c000c\"] = google.colab.element_size.nelement.element_size.element_size.nelement.element_size();\n//# sourceURL=js_0297ae1e1d",
      "text/plain": [
       "<IPython.core.display.Javascript object>"
      ]
     },
     "metadata": {},
     "output_type": "display_data"
    },
    {
     "data": {
      "application/javascript": "window[\"d05cf0d8-6e12-11f0-831c-0242ac1c000c\"] = google.colab.element_size.nelement.element_size.element_size.nelement.nelement();\n//# sourceURL=js_d81e822368",
      "text/plain": [
       "<IPython.core.display.Javascript object>"
      ]
     },
     "metadata": {},
     "output_type": "display_data"
    },
    {
     "data": {
      "application/javascript": "window[\"d05d1acc-6e12-11f0-831c-0242ac1c000c\"] = window[\"d05cc1f8-6e12-11f0-831c-0242ac1c000c\"] * window[\"d05cf0d8-6e12-11f0-831c-0242ac1c000c\"];\n//# sourceURL=js_77a6106ff1",
      "text/plain": [
       "<IPython.core.display.Javascript object>"
      ]
     },
     "metadata": {},
     "output_type": "display_data"
    },
    {
     "data": {
      "application/javascript": "window[\"d05d5334-6e12-11f0-831c-0242ac1c000c\"] = nelement.element_size.element_size.element_size.nelement.element_size();\n//# sourceURL=js_cb8353add4",
      "text/plain": [
       "<IPython.core.display.Javascript object>"
      ]
     },
     "metadata": {},
     "output_type": "display_data"
    },
    {
     "data": {
      "application/javascript": "window[\"d05d74ea-6e12-11f0-831c-0242ac1c000c\"] = nelement.element_size.element_size.element_size.nelement.nelement();\n//# sourceURL=js_ca444302fc",
      "text/plain": [
       "<IPython.core.display.Javascript object>"
      ]
     },
     "metadata": {},
     "output_type": "display_data"
    },
    {
     "data": {
      "application/javascript": "window[\"d05da85c-6e12-11f0-831c-0242ac1c000c\"] = window[\"d05d5334-6e12-11f0-831c-0242ac1c000c\"] * window[\"d05d74ea-6e12-11f0-831c-0242ac1c000c\"];\n//# sourceURL=js_608fd751f1",
      "text/plain": [
       "<IPython.core.display.Javascript object>"
      ]
     },
     "metadata": {},
     "output_type": "display_data"
    },
    {
     "data": {
      "application/javascript": "window[\"d05dd05c-6e12-11f0-831c-0242ac1c000c\"] = element_size.element_size.element_size.element_size.nelement.element_size();\n//# sourceURL=js_2f3f8956b5",
      "text/plain": [
       "<IPython.core.display.Javascript object>"
      ]
     },
     "metadata": {},
     "output_type": "display_data"
    },
    {
     "data": {
      "application/javascript": "window[\"d05e0072-6e12-11f0-831c-0242ac1c000c\"] = element_size.element_size.element_size.element_size.nelement.nelement();\n//# sourceURL=js_c70ab2b903",
      "text/plain": [
       "<IPython.core.display.Javascript object>"
      ]
     },
     "metadata": {},
     "output_type": "display_data"
    },
    {
     "data": {
      "application/javascript": "window[\"d05e2c14-6e12-11f0-831c-0242ac1c000c\"] = window[\"d05dd05c-6e12-11f0-831c-0242ac1c000c\"] * window[\"d05e0072-6e12-11f0-831c-0242ac1c000c\"];\n//# sourceURL=js_6b4cbcb7d9",
      "text/plain": [
       "<IPython.core.display.Javascript object>"
      ]
     },
     "metadata": {},
     "output_type": "display_data"
    },
    {
     "data": {
      "application/javascript": "window[\"d05e5ba8-6e12-11f0-831c-0242ac1c000c\"] = google.colab.nelement.element_size.element_size.element_size.nelement.element_size();\n//# sourceURL=js_144cd594dc",
      "text/plain": [
       "<IPython.core.display.Javascript object>"
      ]
     },
     "metadata": {},
     "output_type": "display_data"
    },
    {
     "data": {
      "application/javascript": "window[\"d05e8470-6e12-11f0-831c-0242ac1c000c\"] = google.colab.nelement.element_size.element_size.element_size.nelement.nelement();\n//# sourceURL=js_a163da3179",
      "text/plain": [
       "<IPython.core.display.Javascript object>"
      ]
     },
     "metadata": {},
     "output_type": "display_data"
    },
    {
     "data": {
      "application/javascript": "window[\"d05eb288-6e12-11f0-831c-0242ac1c000c\"] = window[\"d05e5ba8-6e12-11f0-831c-0242ac1c000c\"] * window[\"d05e8470-6e12-11f0-831c-0242ac1c000c\"];\n//# sourceURL=js_5927295301",
      "text/plain": [
       "<IPython.core.display.Javascript object>"
      ]
     },
     "metadata": {},
     "output_type": "display_data"
    },
    {
     "data": {
      "application/javascript": "window[\"d05edf56-6e12-11f0-831c-0242ac1c000c\"] = google.colab.element_size.element_size.element_size.element_size.nelement.element_size();\n//# sourceURL=js_b29c6b225c",
      "text/plain": [
       "<IPython.core.display.Javascript object>"
      ]
     },
     "metadata": {},
     "output_type": "display_data"
    },
    {
     "data": {
      "application/javascript": "window[\"d05f0d96-6e12-11f0-831c-0242ac1c000c\"] = google.colab.element_size.element_size.element_size.element_size.nelement.nelement();\n//# sourceURL=js_31838d2f70",
      "text/plain": [
       "<IPython.core.display.Javascript object>"
      ]
     },
     "metadata": {},
     "output_type": "display_data"
    },
    {
     "data": {
      "application/javascript": "window[\"d05f34e2-6e12-11f0-831c-0242ac1c000c\"] = window[\"d05edf56-6e12-11f0-831c-0242ac1c000c\"] * window[\"d05f0d96-6e12-11f0-831c-0242ac1c000c\"];\n//# sourceURL=js_3080260267",
      "text/plain": [
       "<IPython.core.display.Javascript object>"
      ]
     },
     "metadata": {},
     "output_type": "display_data"
    },
    {
     "data": {
      "application/javascript": "window[\"d05f5ff8-6e12-11f0-831c-0242ac1c000c\"] = nelement.nelement.nelement.nelement.element_size.element_size();\n//# sourceURL=js_86b422a416",
      "text/plain": [
       "<IPython.core.display.Javascript object>"
      ]
     },
     "metadata": {},
     "output_type": "display_data"
    },
    {
     "data": {
      "application/javascript": "window[\"d05f8b9a-6e12-11f0-831c-0242ac1c000c\"] = nelement.nelement.nelement.nelement.element_size.nelement();\n//# sourceURL=js_ab909e6b07",
      "text/plain": [
       "<IPython.core.display.Javascript object>"
      ]
     },
     "metadata": {},
     "output_type": "display_data"
    },
    {
     "data": {
      "application/javascript": "window[\"d05fb6e2-6e12-11f0-831c-0242ac1c000c\"] = window[\"d05f5ff8-6e12-11f0-831c-0242ac1c000c\"] * window[\"d05f8b9a-6e12-11f0-831c-0242ac1c000c\"];\n//# sourceURL=js_7a8e3755c5",
      "text/plain": [
       "<IPython.core.display.Javascript object>"
      ]
     },
     "metadata": {},
     "output_type": "display_data"
    },
    {
     "data": {
      "application/javascript": "window[\"d05fea5e-6e12-11f0-831c-0242ac1c000c\"] = element_size.nelement.nelement.nelement.element_size.element_size();\n//# sourceURL=js_b7df69ae17",
      "text/plain": [
       "<IPython.core.display.Javascript object>"
      ]
     },
     "metadata": {},
     "output_type": "display_data"
    },
    {
     "data": {
      "application/javascript": "window[\"d060145c-6e12-11f0-831c-0242ac1c000c\"] = element_size.nelement.nelement.nelement.element_size.nelement();\n//# sourceURL=js_801882096e",
      "text/plain": [
       "<IPython.core.display.Javascript object>"
      ]
     },
     "metadata": {},
     "output_type": "display_data"
    },
    {
     "data": {
      "application/javascript": "window[\"d0604648-6e12-11f0-831c-0242ac1c000c\"] = window[\"d05fea5e-6e12-11f0-831c-0242ac1c000c\"] * window[\"d060145c-6e12-11f0-831c-0242ac1c000c\"];\n//# sourceURL=js_f2a954b0c8",
      "text/plain": [
       "<IPython.core.display.Javascript object>"
      ]
     },
     "metadata": {},
     "output_type": "display_data"
    },
    {
     "data": {
      "application/javascript": "window[\"d06070d2-6e12-11f0-831c-0242ac1c000c\"] = google.colab.nelement.nelement.nelement.nelement.element_size.element_size();\n//# sourceURL=js_ce5fd34919",
      "text/plain": [
       "<IPython.core.display.Javascript object>"
      ]
     },
     "metadata": {},
     "output_type": "display_data"
    },
    {
     "data": {
      "application/javascript": "window[\"d060a05c-6e12-11f0-831c-0242ac1c000c\"] = google.colab.nelement.nelement.nelement.nelement.element_size.nelement();\n//# sourceURL=js_97653e8396",
      "text/plain": [
       "<IPython.core.display.Javascript object>"
      ]
     },
     "metadata": {},
     "output_type": "display_data"
    },
    {
     "data": {
      "application/javascript": "window[\"d060c8d4-6e12-11f0-831c-0242ac1c000c\"] = window[\"d06070d2-6e12-11f0-831c-0242ac1c000c\"] * window[\"d060a05c-6e12-11f0-831c-0242ac1c000c\"];\n//# sourceURL=js_6d41b4c2b5",
      "text/plain": [
       "<IPython.core.display.Javascript object>"
      ]
     },
     "metadata": {},
     "output_type": "display_data"
    },
    {
     "data": {
      "application/javascript": "window[\"d060fa0c-6e12-11f0-831c-0242ac1c000c\"] = google.colab.element_size.nelement.nelement.nelement.element_size.element_size();\n//# sourceURL=js_5620830c57",
      "text/plain": [
       "<IPython.core.display.Javascript object>"
      ]
     },
     "metadata": {},
     "output_type": "display_data"
    },
    {
     "data": {
      "application/javascript": "window[\"d061270c-6e12-11f0-831c-0242ac1c000c\"] = google.colab.element_size.nelement.nelement.nelement.element_size.nelement();\n//# sourceURL=js_e0e1930e2e",
      "text/plain": [
       "<IPython.core.display.Javascript object>"
      ]
     },
     "metadata": {},
     "output_type": "display_data"
    },
    {
     "data": {
      "application/javascript": "window[\"d0615420-6e12-11f0-831c-0242ac1c000c\"] = window[\"d060fa0c-6e12-11f0-831c-0242ac1c000c\"] * window[\"d061270c-6e12-11f0-831c-0242ac1c000c\"];\n//# sourceURL=js_e53f79d5ed",
      "text/plain": [
       "<IPython.core.display.Javascript object>"
      ]
     },
     "metadata": {},
     "output_type": "display_data"
    },
    {
     "data": {
      "application/javascript": "window[\"d0618774-6e12-11f0-831c-0242ac1c000c\"] = nelement.element_size.nelement.nelement.element_size.element_size();\n//# sourceURL=js_b4b6092f9c",
      "text/plain": [
       "<IPython.core.display.Javascript object>"
      ]
     },
     "metadata": {},
     "output_type": "display_data"
    },
    {
     "data": {
      "application/javascript": "window[\"d061b30c-6e12-11f0-831c-0242ac1c000c\"] = nelement.element_size.nelement.nelement.element_size.nelement();\n//# sourceURL=js_615ef4ec85",
      "text/plain": [
       "<IPython.core.display.Javascript object>"
      ]
     },
     "metadata": {},
     "output_type": "display_data"
    },
    {
     "data": {
      "application/javascript": "window[\"d061e0a2-6e12-11f0-831c-0242ac1c000c\"] = window[\"d0618774-6e12-11f0-831c-0242ac1c000c\"] * window[\"d061b30c-6e12-11f0-831c-0242ac1c000c\"];\n//# sourceURL=js_41d6ea417e",
      "text/plain": [
       "<IPython.core.display.Javascript object>"
      ]
     },
     "metadata": {},
     "output_type": "display_data"
    },
    {
     "data": {
      "application/javascript": "window[\"d06212e8-6e12-11f0-831c-0242ac1c000c\"] = element_size.element_size.nelement.nelement.element_size.element_size();\n//# sourceURL=js_5479e77482",
      "text/plain": [
       "<IPython.core.display.Javascript object>"
      ]
     },
     "metadata": {},
     "output_type": "display_data"
    },
    {
     "data": {
      "application/javascript": "window[\"d0624718-6e12-11f0-831c-0242ac1c000c\"] = element_size.element_size.nelement.nelement.element_size.nelement();\n//# sourceURL=js_86ff54cf90",
      "text/plain": [
       "<IPython.core.display.Javascript object>"
      ]
     },
     "metadata": {},
     "output_type": "display_data"
    },
    {
     "data": {
      "application/javascript": "window[\"d0627300-6e12-11f0-831c-0242ac1c000c\"] = window[\"d06212e8-6e12-11f0-831c-0242ac1c000c\"] * window[\"d0624718-6e12-11f0-831c-0242ac1c000c\"];\n//# sourceURL=js_1e1f564f24",
      "text/plain": [
       "<IPython.core.display.Javascript object>"
      ]
     },
     "metadata": {},
     "output_type": "display_data"
    },
    {
     "data": {
      "application/javascript": "window[\"d0629f88-6e12-11f0-831c-0242ac1c000c\"] = google.colab.nelement.element_size.nelement.nelement.element_size.element_size();\n//# sourceURL=js_16eaef7d80",
      "text/plain": [
       "<IPython.core.display.Javascript object>"
      ]
     },
     "metadata": {},
     "output_type": "display_data"
    },
    {
     "data": {
      "application/javascript": "window[\"d062d174-6e12-11f0-831c-0242ac1c000c\"] = google.colab.nelement.element_size.nelement.nelement.element_size.nelement();\n//# sourceURL=js_562beba0c5",
      "text/plain": [
       "<IPython.core.display.Javascript object>"
      ]
     },
     "metadata": {},
     "output_type": "display_data"
    },
    {
     "data": {
      "application/javascript": "window[\"d062f492-6e12-11f0-831c-0242ac1c000c\"] = window[\"d0629f88-6e12-11f0-831c-0242ac1c000c\"] * window[\"d062d174-6e12-11f0-831c-0242ac1c000c\"];\n//# sourceURL=js_0da5132527",
      "text/plain": [
       "<IPython.core.display.Javascript object>"
      ]
     },
     "metadata": {},
     "output_type": "display_data"
    },
    {
     "data": {
      "application/javascript": "window[\"d06321e2-6e12-11f0-831c-0242ac1c000c\"] = google.colab.element_size.element_size.nelement.nelement.element_size.element_size();\n//# sourceURL=js_013c21dca5",
      "text/plain": [
       "<IPython.core.display.Javascript object>"
      ]
     },
     "metadata": {},
     "output_type": "display_data"
    },
    {
     "data": {
      "application/javascript": "window[\"d06347da-6e12-11f0-831c-0242ac1c000c\"] = google.colab.element_size.element_size.nelement.nelement.element_size.nelement();\n//# sourceURL=js_13a765cfd3",
      "text/plain": [
       "<IPython.core.display.Javascript object>"
      ]
     },
     "metadata": {},
     "output_type": "display_data"
    },
    {
     "data": {
      "application/javascript": "window[\"d0637188-6e12-11f0-831c-0242ac1c000c\"] = window[\"d06321e2-6e12-11f0-831c-0242ac1c000c\"] * window[\"d06347da-6e12-11f0-831c-0242ac1c000c\"];\n//# sourceURL=js_a23ced844c",
      "text/plain": [
       "<IPython.core.display.Javascript object>"
      ]
     },
     "metadata": {},
     "output_type": "display_data"
    },
    {
     "data": {
      "application/javascript": "window[\"d063ab58-6e12-11f0-831c-0242ac1c000c\"] = nelement.nelement.element_size.nelement.element_size.element_size();\n//# sourceURL=js_ac8665f11b",
      "text/plain": [
       "<IPython.core.display.Javascript object>"
      ]
     },
     "metadata": {},
     "output_type": "display_data"
    },
    {
     "data": {
      "application/javascript": "window[\"d063df6a-6e12-11f0-831c-0242ac1c000c\"] = nelement.nelement.element_size.nelement.element_size.nelement();\n//# sourceURL=js_8cfc5d1821",
      "text/plain": [
       "<IPython.core.display.Javascript object>"
      ]
     },
     "metadata": {},
     "output_type": "display_data"
    },
    {
     "data": {
      "application/javascript": "window[\"d0640454-6e12-11f0-831c-0242ac1c000c\"] = window[\"d063ab58-6e12-11f0-831c-0242ac1c000c\"] * window[\"d063df6a-6e12-11f0-831c-0242ac1c000c\"];\n//# sourceURL=js_cc7845747c",
      "text/plain": [
       "<IPython.core.display.Javascript object>"
      ]
     },
     "metadata": {},
     "output_type": "display_data"
    },
    {
     "data": {
      "application/javascript": "window[\"d0642d80-6e12-11f0-831c-0242ac1c000c\"] = element_size.nelement.element_size.nelement.element_size.element_size();\n//# sourceURL=js_02d5e2e48d",
      "text/plain": [
       "<IPython.core.display.Javascript object>"
      ]
     },
     "metadata": {},
     "output_type": "display_data"
    },
    {
     "data": {
      "application/javascript": "window[\"d064576a-6e12-11f0-831c-0242ac1c000c\"] = element_size.nelement.element_size.nelement.element_size.nelement();\n//# sourceURL=js_64517353cd",
      "text/plain": [
       "<IPython.core.display.Javascript object>"
      ]
     },
     "metadata": {},
     "output_type": "display_data"
    },
    {
     "data": {
      "application/javascript": "window[\"d064821c-6e12-11f0-831c-0242ac1c000c\"] = window[\"d0642d80-6e12-11f0-831c-0242ac1c000c\"] * window[\"d064576a-6e12-11f0-831c-0242ac1c000c\"];\n//# sourceURL=js_090cf0a724",
      "text/plain": [
       "<IPython.core.display.Javascript object>"
      ]
     },
     "metadata": {},
     "output_type": "display_data"
    },
    {
     "data": {
      "application/javascript": "window[\"d064ad00-6e12-11f0-831c-0242ac1c000c\"] = google.colab.nelement.nelement.element_size.nelement.element_size.element_size();\n//# sourceURL=js_9dd0bf8435",
      "text/plain": [
       "<IPython.core.display.Javascript object>"
      ]
     },
     "metadata": {},
     "output_type": "display_data"
    },
    {
     "data": {
      "application/javascript": "window[\"d064e324-6e12-11f0-831c-0242ac1c000c\"] = google.colab.nelement.nelement.element_size.nelement.element_size.nelement();\n//# sourceURL=js_26ab3f16a5",
      "text/plain": [
       "<IPython.core.display.Javascript object>"
      ]
     },
     "metadata": {},
     "output_type": "display_data"
    },
    {
     "data": {
      "application/javascript": "window[\"d0652668-6e12-11f0-831c-0242ac1c000c\"] = window[\"d064ad00-6e12-11f0-831c-0242ac1c000c\"] * window[\"d064e324-6e12-11f0-831c-0242ac1c000c\"];\n//# sourceURL=js_ad102713f8",
      "text/plain": [
       "<IPython.core.display.Javascript object>"
      ]
     },
     "metadata": {},
     "output_type": "display_data"
    },
    {
     "data": {
      "application/javascript": "window[\"d06554f8-6e12-11f0-831c-0242ac1c000c\"] = google.colab.element_size.nelement.element_size.nelement.element_size.element_size();\n//# sourceURL=js_6f98237170",
      "text/plain": [
       "<IPython.core.display.Javascript object>"
      ]
     },
     "metadata": {},
     "output_type": "display_data"
    },
    {
     "data": {
      "application/javascript": "window[\"d06582ca-6e12-11f0-831c-0242ac1c000c\"] = google.colab.element_size.nelement.element_size.nelement.element_size.nelement();\n//# sourceURL=js_c978cdeb4d",
      "text/plain": [
       "<IPython.core.display.Javascript object>"
      ]
     },
     "metadata": {},
     "output_type": "display_data"
    },
    {
     "data": {
      "application/javascript": "window[\"d065c5aa-6e12-11f0-831c-0242ac1c000c\"] = window[\"d06554f8-6e12-11f0-831c-0242ac1c000c\"] * window[\"d06582ca-6e12-11f0-831c-0242ac1c000c\"];\n//# sourceURL=js_1ae2760f17",
      "text/plain": [
       "<IPython.core.display.Javascript object>"
      ]
     },
     "metadata": {},
     "output_type": "display_data"
    },
    {
     "data": {
      "application/javascript": "window[\"d065fd72-6e12-11f0-831c-0242ac1c000c\"] = nelement.element_size.element_size.nelement.element_size.element_size();\n//# sourceURL=js_af28a7893c",
      "text/plain": [
       "<IPython.core.display.Javascript object>"
      ]
     },
     "metadata": {},
     "output_type": "display_data"
    },
    {
     "data": {
      "application/javascript": "window[\"d0662e64-6e12-11f0-831c-0242ac1c000c\"] = nelement.element_size.element_size.nelement.element_size.nelement();\n//# sourceURL=js_410cc92e4c",
      "text/plain": [
       "<IPython.core.display.Javascript object>"
      ]
     },
     "metadata": {},
     "output_type": "display_data"
    },
    {
     "data": {
      "application/javascript": "window[\"d0665740-6e12-11f0-831c-0242ac1c000c\"] = window[\"d065fd72-6e12-11f0-831c-0242ac1c000c\"] * window[\"d0662e64-6e12-11f0-831c-0242ac1c000c\"];\n//# sourceURL=js_f4eecb7918",
      "text/plain": [
       "<IPython.core.display.Javascript object>"
      ]
     },
     "metadata": {},
     "output_type": "display_data"
    },
    {
     "data": {
      "application/javascript": "window[\"d0668512-6e12-11f0-831c-0242ac1c000c\"] = element_size.element_size.element_size.nelement.element_size.element_size();\n//# sourceURL=js_954444bcbf",
      "text/plain": [
       "<IPython.core.display.Javascript object>"
      ]
     },
     "metadata": {},
     "output_type": "display_data"
    },
    {
     "data": {
      "application/javascript": "window[\"d066b2b2-6e12-11f0-831c-0242ac1c000c\"] = element_size.element_size.element_size.nelement.element_size.nelement();\n//# sourceURL=js_74f5147a50",
      "text/plain": [
       "<IPython.core.display.Javascript object>"
      ]
     },
     "metadata": {},
     "output_type": "display_data"
    },
    {
     "data": {
      "application/javascript": "window[\"d066dac6-6e12-11f0-831c-0242ac1c000c\"] = window[\"d0668512-6e12-11f0-831c-0242ac1c000c\"] * window[\"d066b2b2-6e12-11f0-831c-0242ac1c000c\"];\n//# sourceURL=js_49bf5d89e2",
      "text/plain": [
       "<IPython.core.display.Javascript object>"
      ]
     },
     "metadata": {},
     "output_type": "display_data"
    },
    {
     "data": {
      "application/javascript": "window[\"d06706cc-6e12-11f0-831c-0242ac1c000c\"] = google.colab.nelement.element_size.element_size.nelement.element_size.element_size();\n//# sourceURL=js_7b2d9714c2",
      "text/plain": [
       "<IPython.core.display.Javascript object>"
      ]
     },
     "metadata": {},
     "output_type": "display_data"
    },
    {
     "data": {
      "application/javascript": "window[\"d0673d86-6e12-11f0-831c-0242ac1c000c\"] = google.colab.nelement.element_size.element_size.nelement.element_size.nelement();\n//# sourceURL=js_971ee63a28",
      "text/plain": [
       "<IPython.core.display.Javascript object>"
      ]
     },
     "metadata": {},
     "output_type": "display_data"
    },
    {
     "data": {
      "application/javascript": "window[\"d06766ee-6e12-11f0-831c-0242ac1c000c\"] = window[\"d06706cc-6e12-11f0-831c-0242ac1c000c\"] * window[\"d0673d86-6e12-11f0-831c-0242ac1c000c\"];\n//# sourceURL=js_732fa094b8",
      "text/plain": [
       "<IPython.core.display.Javascript object>"
      ]
     },
     "metadata": {},
     "output_type": "display_data"
    },
    {
     "data": {
      "application/javascript": "window[\"d06790ce-6e12-11f0-831c-0242ac1c000c\"] = google.colab.element_size.element_size.element_size.nelement.element_size.element_size();\n//# sourceURL=js_0682de8b57",
      "text/plain": [
       "<IPython.core.display.Javascript object>"
      ]
     },
     "metadata": {},
     "output_type": "display_data"
    },
    {
     "data": {
      "application/javascript": "window[\"d067c184-6e12-11f0-831c-0242ac1c000c\"] = google.colab.element_size.element_size.element_size.nelement.element_size.nelement();\n//# sourceURL=js_9398de56d9",
      "text/plain": [
       "<IPython.core.display.Javascript object>"
      ]
     },
     "metadata": {},
     "output_type": "display_data"
    },
    {
     "data": {
      "application/javascript": "window[\"d067ec0e-6e12-11f0-831c-0242ac1c000c\"] = window[\"d06790ce-6e12-11f0-831c-0242ac1c000c\"] * window[\"d067c184-6e12-11f0-831c-0242ac1c000c\"];\n//# sourceURL=js_bc01c326df",
      "text/plain": [
       "<IPython.core.display.Javascript object>"
      ]
     },
     "metadata": {},
     "output_type": "display_data"
    },
    {
     "data": {
      "application/javascript": "window[\"d0681774-6e12-11f0-831c-0242ac1c000c\"] = nelement.nelement.nelement.element_size.element_size.element_size();\n//# sourceURL=js_797a26a7ab",
      "text/plain": [
       "<IPython.core.display.Javascript object>"
      ]
     },
     "metadata": {},
     "output_type": "display_data"
    },
    {
     "data": {
      "application/javascript": "window[\"d068410e-6e12-11f0-831c-0242ac1c000c\"] = nelement.nelement.nelement.element_size.element_size.nelement();\n//# sourceURL=js_6858a19850",
      "text/plain": [
       "<IPython.core.display.Javascript object>"
      ]
     },
     "metadata": {},
     "output_type": "display_data"
    },
    {
     "data": {
      "application/javascript": "window[\"d068677e-6e12-11f0-831c-0242ac1c000c\"] = window[\"d0681774-6e12-11f0-831c-0242ac1c000c\"] * window[\"d068410e-6e12-11f0-831c-0242ac1c000c\"];\n//# sourceURL=js_1256f2fe48",
      "text/plain": [
       "<IPython.core.display.Javascript object>"
      ]
     },
     "metadata": {},
     "output_type": "display_data"
    },
    {
     "data": {
      "application/javascript": "window[\"d0689a00-6e12-11f0-831c-0242ac1c000c\"] = element_size.nelement.nelement.element_size.element_size.element_size();\n//# sourceURL=js_718c6a5673",
      "text/plain": [
       "<IPython.core.display.Javascript object>"
      ]
     },
     "metadata": {},
     "output_type": "display_data"
    },
    {
     "data": {
      "application/javascript": "window[\"d068ca98-6e12-11f0-831c-0242ac1c000c\"] = element_size.nelement.nelement.element_size.element_size.nelement();\n//# sourceURL=js_423ea91e6d",
      "text/plain": [
       "<IPython.core.display.Javascript object>"
      ]
     },
     "metadata": {},
     "output_type": "display_data"
    },
    {
     "data": {
      "application/javascript": "window[\"d068f31a-6e12-11f0-831c-0242ac1c000c\"] = window[\"d0689a00-6e12-11f0-831c-0242ac1c000c\"] * window[\"d068ca98-6e12-11f0-831c-0242ac1c000c\"];\n//# sourceURL=js_25b2894f73",
      "text/plain": [
       "<IPython.core.display.Javascript object>"
      ]
     },
     "metadata": {},
     "output_type": "display_data"
    },
    {
     "data": {
      "application/javascript": "window[\"d0691fd4-6e12-11f0-831c-0242ac1c000c\"] = google.colab.nelement.nelement.nelement.element_size.element_size.element_size();\n//# sourceURL=js_0dff221f3d",
      "text/plain": [
       "<IPython.core.display.Javascript object>"
      ]
     },
     "metadata": {},
     "output_type": "display_data"
    },
    {
     "data": {
      "application/javascript": "window[\"d06949b4-6e12-11f0-831c-0242ac1c000c\"] = google.colab.nelement.nelement.nelement.element_size.element_size.nelement();\n//# sourceURL=js_e5d14f16be",
      "text/plain": [
       "<IPython.core.display.Javascript object>"
      ]
     },
     "metadata": {},
     "output_type": "display_data"
    },
    {
     "data": {
      "application/javascript": "window[\"d06978bc-6e12-11f0-831c-0242ac1c000c\"] = window[\"d0691fd4-6e12-11f0-831c-0242ac1c000c\"] * window[\"d06949b4-6e12-11f0-831c-0242ac1c000c\"];\n//# sourceURL=js_cf7d375600",
      "text/plain": [
       "<IPython.core.display.Javascript object>"
      ]
     },
     "metadata": {},
     "output_type": "display_data"
    },
    {
     "data": {
      "application/javascript": "window[\"d069a4ae-6e12-11f0-831c-0242ac1c000c\"] = google.colab.element_size.nelement.nelement.element_size.element_size.element_size();\n//# sourceURL=js_ad96515446",
      "text/plain": [
       "<IPython.core.display.Javascript object>"
      ]
     },
     "metadata": {},
     "output_type": "display_data"
    },
    {
     "data": {
      "application/javascript": "window[\"d069d334-6e12-11f0-831c-0242ac1c000c\"] = google.colab.element_size.nelement.nelement.element_size.element_size.nelement();\n//# sourceURL=js_086130a382",
      "text/plain": [
       "<IPython.core.display.Javascript object>"
      ]
     },
     "metadata": {},
     "output_type": "display_data"
    },
    {
     "data": {
      "application/javascript": "window[\"d069fe2c-6e12-11f0-831c-0242ac1c000c\"] = window[\"d069a4ae-6e12-11f0-831c-0242ac1c000c\"] * window[\"d069d334-6e12-11f0-831c-0242ac1c000c\"];\n//# sourceURL=js_f15046053a",
      "text/plain": [
       "<IPython.core.display.Javascript object>"
      ]
     },
     "metadata": {},
     "output_type": "display_data"
    },
    {
     "data": {
      "application/javascript": "window[\"d06a2d3e-6e12-11f0-831c-0242ac1c000c\"] = nelement.element_size.nelement.element_size.element_size.element_size();\n//# sourceURL=js_f4c84cdf91",
      "text/plain": [
       "<IPython.core.display.Javascript object>"
      ]
     },
     "metadata": {},
     "output_type": "display_data"
    },
    {
     "data": {
      "application/javascript": "window[\"d06a57f0-6e12-11f0-831c-0242ac1c000c\"] = nelement.element_size.nelement.element_size.element_size.nelement();\n//# sourceURL=js_e62e2d5a40",
      "text/plain": [
       "<IPython.core.display.Javascript object>"
      ]
     },
     "metadata": {},
     "output_type": "display_data"
    },
    {
     "data": {
      "application/javascript": "window[\"d06a86a8-6e12-11f0-831c-0242ac1c000c\"] = window[\"d06a2d3e-6e12-11f0-831c-0242ac1c000c\"] * window[\"d06a57f0-6e12-11f0-831c-0242ac1c000c\"];\n//# sourceURL=js_c93db4ff58",
      "text/plain": [
       "<IPython.core.display.Javascript object>"
      ]
     },
     "metadata": {},
     "output_type": "display_data"
    },
    {
     "data": {
      "application/javascript": "window[\"d06ab1dc-6e12-11f0-831c-0242ac1c000c\"] = element_size.element_size.nelement.element_size.element_size.element_size();\n//# sourceURL=js_76ceb5d107",
      "text/plain": [
       "<IPython.core.display.Javascript object>"
      ]
     },
     "metadata": {},
     "output_type": "display_data"
    },
    {
     "data": {
      "application/javascript": "window[\"d06adf04-6e12-11f0-831c-0242ac1c000c\"] = element_size.element_size.nelement.element_size.element_size.nelement();\n//# sourceURL=js_760224606f",
      "text/plain": [
       "<IPython.core.display.Javascript object>"
      ]
     },
     "metadata": {},
     "output_type": "display_data"
    },
    {
     "data": {
      "application/javascript": "window[\"d06b0aec-6e12-11f0-831c-0242ac1c000c\"] = window[\"d06ab1dc-6e12-11f0-831c-0242ac1c000c\"] * window[\"d06adf04-6e12-11f0-831c-0242ac1c000c\"];\n//# sourceURL=js_1149b6e229",
      "text/plain": [
       "<IPython.core.display.Javascript object>"
      ]
     },
     "metadata": {},
     "output_type": "display_data"
    },
    {
     "data": {
      "application/javascript": "window[\"d06b3b8e-6e12-11f0-831c-0242ac1c000c\"] = google.colab.nelement.element_size.nelement.element_size.element_size.element_size();\n//# sourceURL=js_09e69f8fb2",
      "text/plain": [
       "<IPython.core.display.Javascript object>"
      ]
     },
     "metadata": {},
     "output_type": "display_data"
    },
    {
     "data": {
      "application/javascript": "window[\"d06b6eec-6e12-11f0-831c-0242ac1c000c\"] = google.colab.nelement.element_size.nelement.element_size.element_size.nelement();\n//# sourceURL=js_f281adfb7a",
      "text/plain": [
       "<IPython.core.display.Javascript object>"
      ]
     },
     "metadata": {},
     "output_type": "display_data"
    },
    {
     "data": {
      "application/javascript": "window[\"d06b9fa2-6e12-11f0-831c-0242ac1c000c\"] = window[\"d06b3b8e-6e12-11f0-831c-0242ac1c000c\"] * window[\"d06b6eec-6e12-11f0-831c-0242ac1c000c\"];\n//# sourceURL=js_c5528d7e59",
      "text/plain": [
       "<IPython.core.display.Javascript object>"
      ]
     },
     "metadata": {},
     "output_type": "display_data"
    },
    {
     "data": {
      "application/javascript": "window[\"d06bdbac-6e12-11f0-831c-0242ac1c000c\"] = google.colab.element_size.element_size.nelement.element_size.element_size.element_size();\n//# sourceURL=js_d8a6112e3e",
      "text/plain": [
       "<IPython.core.display.Javascript object>"
      ]
     },
     "metadata": {},
     "output_type": "display_data"
    },
    {
     "data": {
      "application/javascript": "window[\"d06c0398-6e12-11f0-831c-0242ac1c000c\"] = google.colab.element_size.element_size.nelement.element_size.element_size.nelement();\n//# sourceURL=js_4b4d42fc56",
      "text/plain": [
       "<IPython.core.display.Javascript object>"
      ]
     },
     "metadata": {},
     "output_type": "display_data"
    },
    {
     "data": {
      "application/javascript": "window[\"d06c3458-6e12-11f0-831c-0242ac1c000c\"] = window[\"d06bdbac-6e12-11f0-831c-0242ac1c000c\"] * window[\"d06c0398-6e12-11f0-831c-0242ac1c000c\"];\n//# sourceURL=js_0ae6633503",
      "text/plain": [
       "<IPython.core.display.Javascript object>"
      ]
     },
     "metadata": {},
     "output_type": "display_data"
    },
    {
     "data": {
      "application/javascript": "window[\"d06c6108-6e12-11f0-831c-0242ac1c000c\"] = nelement.nelement.element_size.element_size.element_size.element_size();\n//# sourceURL=js_4756b4540c",
      "text/plain": [
       "<IPython.core.display.Javascript object>"
      ]
     },
     "metadata": {},
     "output_type": "display_data"
    },
    {
     "data": {
      "application/javascript": "window[\"d06c94ca-6e12-11f0-831c-0242ac1c000c\"] = nelement.nelement.element_size.element_size.element_size.nelement();\n//# sourceURL=js_75d8c5fec4",
      "text/plain": [
       "<IPython.core.display.Javascript object>"
      ]
     },
     "metadata": {},
     "output_type": "display_data"
    },
    {
     "data": {
      "application/javascript": "window[\"d06cb4dc-6e12-11f0-831c-0242ac1c000c\"] = window[\"d06c6108-6e12-11f0-831c-0242ac1c000c\"] * window[\"d06c94ca-6e12-11f0-831c-0242ac1c000c\"];\n//# sourceURL=js_04e4e64375",
      "text/plain": [
       "<IPython.core.display.Javascript object>"
      ]
     },
     "metadata": {},
     "output_type": "display_data"
    },
    {
     "data": {
      "application/javascript": "window[\"d06ce60a-6e12-11f0-831c-0242ac1c000c\"] = element_size.nelement.element_size.element_size.element_size.element_size();\n//# sourceURL=js_17d7390bca",
      "text/plain": [
       "<IPython.core.display.Javascript object>"
      ]
     },
     "metadata": {},
     "output_type": "display_data"
    },
    {
     "data": {
      "application/javascript": "window[\"d06d10b2-6e12-11f0-831c-0242ac1c000c\"] = element_size.nelement.element_size.element_size.element_size.nelement();\n//# sourceURL=js_716f44ae2b",
      "text/plain": [
       "<IPython.core.display.Javascript object>"
      ]
     },
     "metadata": {},
     "output_type": "display_data"
    },
    {
     "data": {
      "application/javascript": "window[\"d06d4398-6e12-11f0-831c-0242ac1c000c\"] = window[\"d06ce60a-6e12-11f0-831c-0242ac1c000c\"] * window[\"d06d10b2-6e12-11f0-831c-0242ac1c000c\"];\n//# sourceURL=js_1c18b2a577",
      "text/plain": [
       "<IPython.core.display.Javascript object>"
      ]
     },
     "metadata": {},
     "output_type": "display_data"
    },
    {
     "data": {
      "application/javascript": "window[\"d06d6b66-6e12-11f0-831c-0242ac1c000c\"] = google.colab.nelement.nelement.element_size.element_size.element_size.element_size();\n//# sourceURL=js_51290e9c3a",
      "text/plain": [
       "<IPython.core.display.Javascript object>"
      ]
     },
     "metadata": {},
     "output_type": "display_data"
    },
    {
     "data": {
      "application/javascript": "window[\"d06d9352-6e12-11f0-831c-0242ac1c000c\"] = google.colab.nelement.nelement.element_size.element_size.element_size.nelement();\n//# sourceURL=js_afd89530b2",
      "text/plain": [
       "<IPython.core.display.Javascript object>"
      ]
     },
     "metadata": {},
     "output_type": "display_data"
    },
    {
     "data": {
      "application/javascript": "window[\"d06dbd14-6e12-11f0-831c-0242ac1c000c\"] = window[\"d06d6b66-6e12-11f0-831c-0242ac1c000c\"] * window[\"d06d9352-6e12-11f0-831c-0242ac1c000c\"];\n//# sourceURL=js_62333f8afa",
      "text/plain": [
       "<IPython.core.display.Javascript object>"
      ]
     },
     "metadata": {},
     "output_type": "display_data"
    },
    {
     "data": {
      "application/javascript": "window[\"d06df680-6e12-11f0-831c-0242ac1c000c\"] = google.colab.element_size.nelement.element_size.element_size.element_size.element_size();\n//# sourceURL=js_ddfb484938",
      "text/plain": [
       "<IPython.core.display.Javascript object>"
      ]
     },
     "metadata": {},
     "output_type": "display_data"
    },
    {
     "data": {
      "application/javascript": "window[\"d06e24c0-6e12-11f0-831c-0242ac1c000c\"] = google.colab.element_size.nelement.element_size.element_size.element_size.nelement();\n//# sourceURL=js_7096d57f88",
      "text/plain": [
       "<IPython.core.display.Javascript object>"
      ]
     },
     "metadata": {},
     "output_type": "display_data"
    },
    {
     "data": {
      "application/javascript": "window[\"d06e517a-6e12-11f0-831c-0242ac1c000c\"] = window[\"d06df680-6e12-11f0-831c-0242ac1c000c\"] * window[\"d06e24c0-6e12-11f0-831c-0242ac1c000c\"];\n//# sourceURL=js_2e91a79638",
      "text/plain": [
       "<IPython.core.display.Javascript object>"
      ]
     },
     "metadata": {},
     "output_type": "display_data"
    },
    {
     "data": {
      "application/javascript": "window[\"d06e742a-6e12-11f0-831c-0242ac1c000c\"] = nelement.element_size.element_size.element_size.element_size.element_size();\n//# sourceURL=js_7e3681a1de",
      "text/plain": [
       "<IPython.core.display.Javascript object>"
      ]
     },
     "metadata": {},
     "output_type": "display_data"
    },
    {
     "data": {
      "application/javascript": "window[\"d06e9bda-6e12-11f0-831c-0242ac1c000c\"] = nelement.element_size.element_size.element_size.element_size.nelement();\n//# sourceURL=js_da3671dc4f",
      "text/plain": [
       "<IPython.core.display.Javascript object>"
      ]
     },
     "metadata": {},
     "output_type": "display_data"
    },
    {
     "data": {
      "application/javascript": "window[\"d06ed1d6-6e12-11f0-831c-0242ac1c000c\"] = window[\"d06e742a-6e12-11f0-831c-0242ac1c000c\"] * window[\"d06e9bda-6e12-11f0-831c-0242ac1c000c\"];\n//# sourceURL=js_45b0304c28",
      "text/plain": [
       "<IPython.core.display.Javascript object>"
      ]
     },
     "metadata": {},
     "output_type": "display_data"
    },
    {
     "data": {
      "application/javascript": "window[\"d06efca6-6e12-11f0-831c-0242ac1c000c\"] = element_size.element_size.element_size.element_size.element_size.element_size();\n//# sourceURL=js_76432c5aa4",
      "text/plain": [
       "<IPython.core.display.Javascript object>"
      ]
     },
     "metadata": {},
     "output_type": "display_data"
    },
    {
     "data": {
      "application/javascript": "window[\"d06f2622-6e12-11f0-831c-0242ac1c000c\"] = element_size.element_size.element_size.element_size.element_size.nelement();\n//# sourceURL=js_2d6ecac16a",
      "text/plain": [
       "<IPython.core.display.Javascript object>"
      ]
     },
     "metadata": {},
     "output_type": "display_data"
    },
    {
     "data": {
      "application/javascript": "window[\"d06f50f2-6e12-11f0-831c-0242ac1c000c\"] = window[\"d06efca6-6e12-11f0-831c-0242ac1c000c\"] * window[\"d06f2622-6e12-11f0-831c-0242ac1c000c\"];\n//# sourceURL=js_419c653ccd",
      "text/plain": [
       "<IPython.core.display.Javascript object>"
      ]
     },
     "metadata": {},
     "output_type": "display_data"
    },
    {
     "data": {
      "application/javascript": "window[\"d06f84d2-6e12-11f0-831c-0242ac1c000c\"] = google.colab.nelement.element_size.element_size.element_size.element_size.element_size();\n//# sourceURL=js_97c3724f03",
      "text/plain": [
       "<IPython.core.display.Javascript object>"
      ]
     },
     "metadata": {},
     "output_type": "display_data"
    },
    {
     "data": {
      "application/javascript": "window[\"d06faa84-6e12-11f0-831c-0242ac1c000c\"] = google.colab.nelement.element_size.element_size.element_size.element_size.nelement();\n//# sourceURL=js_c943d75197",
      "text/plain": [
       "<IPython.core.display.Javascript object>"
      ]
     },
     "metadata": {},
     "output_type": "display_data"
    },
    {
     "data": {
      "application/javascript": "window[\"d06fe396-6e12-11f0-831c-0242ac1c000c\"] = window[\"d06f84d2-6e12-11f0-831c-0242ac1c000c\"] * window[\"d06faa84-6e12-11f0-831c-0242ac1c000c\"];\n//# sourceURL=js_cbbfc62460",
      "text/plain": [
       "<IPython.core.display.Javascript object>"
      ]
     },
     "metadata": {},
     "output_type": "display_data"
    },
    {
     "data": {
      "application/javascript": "window[\"d0700f38-6e12-11f0-831c-0242ac1c000c\"] = google.colab.element_size.element_size.element_size.element_size.element_size.element_size();\n//# sourceURL=js_cbd92d4bcc",
      "text/plain": [
       "<IPython.core.display.Javascript object>"
      ]
     },
     "metadata": {},
     "output_type": "display_data"
    },
    {
     "data": {
      "application/javascript": "window[\"d0703dfa-6e12-11f0-831c-0242ac1c000c\"] = google.colab.element_size.element_size.element_size.element_size.element_size.nelement();\n//# sourceURL=js_750efdc225",
      "text/plain": [
       "<IPython.core.display.Javascript object>"
      ]
     },
     "metadata": {},
     "output_type": "display_data"
    },
    {
     "data": {
      "application/javascript": "window[\"d0706956-6e12-11f0-831c-0242ac1c000c\"] = window[\"d0700f38-6e12-11f0-831c-0242ac1c000c\"] * window[\"d0703dfa-6e12-11f0-831c-0242ac1c000c\"];\n//# sourceURL=js_43d7eab8e5",
      "text/plain": [
       "<IPython.core.display.Javascript object>"
      ]
     },
     "metadata": {},
     "output_type": "display_data"
    },
    {
     "data": {
      "application/javascript": "window[\"d0709c46-6e12-11f0-831c-0242ac1c000c\"] = nelement.nelement.nelement.nelement.nelement.nelement.element_size();\n//# sourceURL=js_ec7d23659d",
      "text/plain": [
       "<IPython.core.display.Javascript object>"
      ]
     },
     "metadata": {},
     "output_type": "display_data"
    },
    {
     "data": {
      "application/javascript": "window[\"d070c694-6e12-11f0-831c-0242ac1c000c\"] = nelement.nelement.nelement.nelement.nelement.nelement.nelement();\n//# sourceURL=js_0db467f97a",
      "text/plain": [
       "<IPython.core.display.Javascript object>"
      ]
     },
     "metadata": {},
     "output_type": "display_data"
    },
    {
     "data": {
      "application/javascript": "window[\"d070f254-6e12-11f0-831c-0242ac1c000c\"] = window[\"d0709c46-6e12-11f0-831c-0242ac1c000c\"] * window[\"d070c694-6e12-11f0-831c-0242ac1c000c\"];\n//# sourceURL=js_c47477b6dd",
      "text/plain": [
       "<IPython.core.display.Javascript object>"
      ]
     },
     "metadata": {},
     "output_type": "display_data"
    },
    {
     "data": {
      "application/javascript": "window[\"d0711d56-6e12-11f0-831c-0242ac1c000c\"] = element_size.nelement.nelement.nelement.nelement.nelement.element_size();\n//# sourceURL=js_e9d62e73d6",
      "text/plain": [
       "<IPython.core.display.Javascript object>"
      ]
     },
     "metadata": {},
     "output_type": "display_data"
    },
    {
     "data": {
      "application/javascript": "window[\"d0714dd0-6e12-11f0-831c-0242ac1c000c\"] = element_size.nelement.nelement.nelement.nelement.nelement.nelement();\n//# sourceURL=js_c18a98319b",
      "text/plain": [
       "<IPython.core.display.Javascript object>"
      ]
     },
     "metadata": {},
     "output_type": "display_data"
    },
    {
     "data": {
      "application/javascript": "window[\"d0717c1a-6e12-11f0-831c-0242ac1c000c\"] = window[\"d0711d56-6e12-11f0-831c-0242ac1c000c\"] * window[\"d0714dd0-6e12-11f0-831c-0242ac1c000c\"];\n//# sourceURL=js_0579a7a42d",
      "text/plain": [
       "<IPython.core.display.Javascript object>"
      ]
     },
     "metadata": {},
     "output_type": "display_data"
    },
    {
     "data": {
      "application/javascript": "window[\"d071ab86-6e12-11f0-831c-0242ac1c000c\"] = google.colab.nelement.nelement.nelement.nelement.nelement.nelement.element_size();\n//# sourceURL=js_35e76bfa59",
      "text/plain": [
       "<IPython.core.display.Javascript object>"
      ]
     },
     "metadata": {},
     "output_type": "display_data"
    },
    {
     "data": {
      "application/javascript": "window[\"d071d67e-6e12-11f0-831c-0242ac1c000c\"] = google.colab.nelement.nelement.nelement.nelement.nelement.nelement.nelement();\n//# sourceURL=js_a0dd018da9",
      "text/plain": [
       "<IPython.core.display.Javascript object>"
      ]
     },
     "metadata": {},
     "output_type": "display_data"
    },
    {
     "data": {
      "application/javascript": "window[\"d0720338-6e12-11f0-831c-0242ac1c000c\"] = window[\"d071ab86-6e12-11f0-831c-0242ac1c000c\"] * window[\"d071d67e-6e12-11f0-831c-0242ac1c000c\"];\n//# sourceURL=js_93a4cde89b",
      "text/plain": [
       "<IPython.core.display.Javascript object>"
      ]
     },
     "metadata": {},
     "output_type": "display_data"
    },
    {
     "data": {
      "application/javascript": "window[\"d0722e12-6e12-11f0-831c-0242ac1c000c\"] = google.colab.element_size.nelement.nelement.nelement.nelement.nelement.element_size();\n//# sourceURL=js_b0aeba5bc0",
      "text/plain": [
       "<IPython.core.display.Javascript object>"
      ]
     },
     "metadata": {},
     "output_type": "display_data"
    },
    {
     "data": {
      "application/javascript": "window[\"d07255f4-6e12-11f0-831c-0242ac1c000c\"] = google.colab.element_size.nelement.nelement.nelement.nelement.nelement.nelement();\n//# sourceURL=js_382bdfe6a9",
      "text/plain": [
       "<IPython.core.display.Javascript object>"
      ]
     },
     "metadata": {},
     "output_type": "display_data"
    },
    {
     "data": {
      "application/javascript": "window[\"d07284ac-6e12-11f0-831c-0242ac1c000c\"] = window[\"d0722e12-6e12-11f0-831c-0242ac1c000c\"] * window[\"d07255f4-6e12-11f0-831c-0242ac1c000c\"];\n//# sourceURL=js_939db61d4a",
      "text/plain": [
       "<IPython.core.display.Javascript object>"
      ]
     },
     "metadata": {},
     "output_type": "display_data"
    },
    {
     "data": {
      "application/javascript": "window[\"d072af90-6e12-11f0-831c-0242ac1c000c\"] = nelement.element_size.nelement.nelement.nelement.nelement.element_size();\n//# sourceURL=js_ac5fe3f1af",
      "text/plain": [
       "<IPython.core.display.Javascript object>"
      ]
     },
     "metadata": {},
     "output_type": "display_data"
    },
    {
     "data": {
      "application/javascript": "window[\"d072dcc2-6e12-11f0-831c-0242ac1c000c\"] = nelement.element_size.nelement.nelement.nelement.nelement.nelement();\n//# sourceURL=js_89335575d5",
      "text/plain": [
       "<IPython.core.display.Javascript object>"
      ]
     },
     "metadata": {},
     "output_type": "display_data"
    },
    {
     "data": {
      "application/javascript": "window[\"d0730968-6e12-11f0-831c-0242ac1c000c\"] = window[\"d072af90-6e12-11f0-831c-0242ac1c000c\"] * window[\"d072dcc2-6e12-11f0-831c-0242ac1c000c\"];\n//# sourceURL=js_82345dea04",
      "text/plain": [
       "<IPython.core.display.Javascript object>"
      ]
     },
     "metadata": {},
     "output_type": "display_data"
    },
    {
     "data": {
      "application/javascript": "window[\"d0733316-6e12-11f0-831c-0242ac1c000c\"] = element_size.element_size.nelement.nelement.nelement.nelement.element_size();\n//# sourceURL=js_d499cc92e8",
      "text/plain": [
       "<IPython.core.display.Javascript object>"
      ]
     },
     "metadata": {},
     "output_type": "display_data"
    },
    {
     "data": {
      "application/javascript": "window[\"d07361c4-6e12-11f0-831c-0242ac1c000c\"] = element_size.element_size.nelement.nelement.nelement.nelement.nelement();\n//# sourceURL=js_b19252a4fb",
      "text/plain": [
       "<IPython.core.display.Javascript object>"
      ]
     },
     "metadata": {},
     "output_type": "display_data"
    },
    {
     "data": {
      "application/javascript": "window[\"d0738f0a-6e12-11f0-831c-0242ac1c000c\"] = window[\"d0733316-6e12-11f0-831c-0242ac1c000c\"] * window[\"d07361c4-6e12-11f0-831c-0242ac1c000c\"];\n//# sourceURL=js_5b16636efd",
      "text/plain": [
       "<IPython.core.display.Javascript object>"
      ]
     },
     "metadata": {},
     "output_type": "display_data"
    },
    {
     "data": {
      "application/javascript": "window[\"d073bdae-6e12-11f0-831c-0242ac1c000c\"] = google.colab.nelement.element_size.nelement.nelement.nelement.nelement.element_size();\n//# sourceURL=js_362308274d",
      "text/plain": [
       "<IPython.core.display.Javascript object>"
      ]
     },
     "metadata": {},
     "output_type": "display_data"
    },
    {
     "data": {
      "application/javascript": "window[\"d073f148-6e12-11f0-831c-0242ac1c000c\"] = google.colab.nelement.element_size.nelement.nelement.nelement.nelement.nelement();\n//# sourceURL=js_74198ebc0b",
      "text/plain": [
       "<IPython.core.display.Javascript object>"
      ]
     },
     "metadata": {},
     "output_type": "display_data"
    },
    {
     "data": {
      "application/javascript": "window[\"d07419fc-6e12-11f0-831c-0242ac1c000c\"] = window[\"d073bdae-6e12-11f0-831c-0242ac1c000c\"] * window[\"d073f148-6e12-11f0-831c-0242ac1c000c\"];\n//# sourceURL=js_02ddfd119e",
      "text/plain": [
       "<IPython.core.display.Javascript object>"
      ]
     },
     "metadata": {},
     "output_type": "display_data"
    },
    {
     "data": {
      "application/javascript": "window[\"d074471a-6e12-11f0-831c-0242ac1c000c\"] = google.colab.element_size.element_size.nelement.nelement.nelement.nelement.element_size();\n//# sourceURL=js_cb8ad7e981",
      "text/plain": [
       "<IPython.core.display.Javascript object>"
      ]
     },
     "metadata": {},
     "output_type": "display_data"
    },
    {
     "data": {
      "application/javascript": "window[\"d0747a8c-6e12-11f0-831c-0242ac1c000c\"] = google.colab.element_size.element_size.nelement.nelement.nelement.nelement.nelement();\n//# sourceURL=js_3837e734e2",
      "text/plain": [
       "<IPython.core.display.Javascript object>"
      ]
     },
     "metadata": {},
     "output_type": "display_data"
    },
    {
     "data": {
      "application/javascript": "window[\"d074a692-6e12-11f0-831c-0242ac1c000c\"] = window[\"d074471a-6e12-11f0-831c-0242ac1c000c\"] * window[\"d0747a8c-6e12-11f0-831c-0242ac1c000c\"];\n//# sourceURL=js_295ae78e37",
      "text/plain": [
       "<IPython.core.display.Javascript object>"
      ]
     },
     "metadata": {},
     "output_type": "display_data"
    },
    {
     "data": {
      "application/javascript": "window[\"d074db1c-6e12-11f0-831c-0242ac1c000c\"] = nelement.nelement.element_size.nelement.nelement.nelement.element_size();\n//# sourceURL=js_f54577c31d",
      "text/plain": [
       "<IPython.core.display.Javascript object>"
      ]
     },
     "metadata": {},
     "output_type": "display_data"
    },
    {
     "data": {
      "application/javascript": "window[\"d0750808-6e12-11f0-831c-0242ac1c000c\"] = nelement.nelement.element_size.nelement.nelement.nelement.nelement();\n//# sourceURL=js_6f0b95776e",
      "text/plain": [
       "<IPython.core.display.Javascript object>"
      ]
     },
     "metadata": {},
     "output_type": "display_data"
    },
    {
     "data": {
      "application/javascript": "window[\"d0753706-6e12-11f0-831c-0242ac1c000c\"] = window[\"d074db1c-6e12-11f0-831c-0242ac1c000c\"] * window[\"d0750808-6e12-11f0-831c-0242ac1c000c\"];\n//# sourceURL=js_225f684e1d",
      "text/plain": [
       "<IPython.core.display.Javascript object>"
      ]
     },
     "metadata": {},
     "output_type": "display_data"
    },
    {
     "data": {
      "application/javascript": "window[\"d075606e-6e12-11f0-831c-0242ac1c000c\"] = element_size.nelement.element_size.nelement.nelement.nelement.element_size();\n//# sourceURL=js_b2f13ce186",
      "text/plain": [
       "<IPython.core.display.Javascript object>"
      ]
     },
     "metadata": {},
     "output_type": "display_data"
    },
    {
     "data": {
      "application/javascript": "window[\"d0758fa8-6e12-11f0-831c-0242ac1c000c\"] = element_size.nelement.element_size.nelement.nelement.nelement.nelement();\n//# sourceURL=js_8c3014e800",
      "text/plain": [
       "<IPython.core.display.Javascript object>"
      ]
     },
     "metadata": {},
     "output_type": "display_data"
    },
    {
     "data": {
      "application/javascript": "window[\"d075d33c-6e12-11f0-831c-0242ac1c000c\"] = window[\"d075606e-6e12-11f0-831c-0242ac1c000c\"] * window[\"d0758fa8-6e12-11f0-831c-0242ac1c000c\"];\n//# sourceURL=js_969cf233e2",
      "text/plain": [
       "<IPython.core.display.Javascript object>"
      ]
     },
     "metadata": {},
     "output_type": "display_data"
    },
    {
     "data": {
      "application/javascript": "window[\"d07617c0-6e12-11f0-831c-0242ac1c000c\"] = google.colab.nelement.nelement.element_size.nelement.nelement.nelement.element_size();\n//# sourceURL=js_4918fa2a08",
      "text/plain": [
       "<IPython.core.display.Javascript object>"
      ]
     },
     "metadata": {},
     "output_type": "display_data"
    },
    {
     "data": {
      "application/javascript": "window[\"d0765e10-6e12-11f0-831c-0242ac1c000c\"] = google.colab.nelement.nelement.element_size.nelement.nelement.nelement.nelement();\n//# sourceURL=js_7187424338",
      "text/plain": [
       "<IPython.core.display.Javascript object>"
      ]
     },
     "metadata": {},
     "output_type": "display_data"
    },
    {
     "data": {
      "application/javascript": "window[\"d0768ba6-6e12-11f0-831c-0242ac1c000c\"] = window[\"d07617c0-6e12-11f0-831c-0242ac1c000c\"] * window[\"d0765e10-6e12-11f0-831c-0242ac1c000c\"];\n//# sourceURL=js_ca33357849",
      "text/plain": [
       "<IPython.core.display.Javascript object>"
      ]
     },
     "metadata": {},
     "output_type": "display_data"
    },
    {
     "data": {
      "application/javascript": "window[\"d076c5a8-6e12-11f0-831c-0242ac1c000c\"] = google.colab.element_size.nelement.element_size.nelement.nelement.nelement.element_size();\n//# sourceURL=js_fd6e4037f5",
      "text/plain": [
       "<IPython.core.display.Javascript object>"
      ]
     },
     "metadata": {},
     "output_type": "display_data"
    },
    {
     "data": {
      "application/javascript": "window[\"d076ed58-6e12-11f0-831c-0242ac1c000c\"] = google.colab.element_size.nelement.element_size.nelement.nelement.nelement.nelement();\n//# sourceURL=js_97e70e54d8",
      "text/plain": [
       "<IPython.core.display.Javascript object>"
      ]
     },
     "metadata": {},
     "output_type": "display_data"
    },
    {
     "data": {
      "application/javascript": "window[\"d0771724-6e12-11f0-831c-0242ac1c000c\"] = window[\"d076c5a8-6e12-11f0-831c-0242ac1c000c\"] * window[\"d076ed58-6e12-11f0-831c-0242ac1c000c\"];\n//# sourceURL=js_0657f05285",
      "text/plain": [
       "<IPython.core.display.Javascript object>"
      ]
     },
     "metadata": {},
     "output_type": "display_data"
    },
    {
     "data": {
      "application/javascript": "window[\"d0774cda-6e12-11f0-831c-0242ac1c000c\"] = nelement.element_size.element_size.nelement.nelement.nelement.element_size();\n//# sourceURL=js_38ca42461b",
      "text/plain": [
       "<IPython.core.display.Javascript object>"
      ]
     },
     "metadata": {},
     "output_type": "display_data"
    },
    {
     "data": {
      "application/javascript": "window[\"d0777e3a-6e12-11f0-831c-0242ac1c000c\"] = nelement.element_size.element_size.nelement.nelement.nelement.nelement();\n//# sourceURL=js_b8f6640285",
      "text/plain": [
       "<IPython.core.display.Javascript object>"
      ]
     },
     "metadata": {},
     "output_type": "display_data"
    },
    {
     "data": {
      "application/javascript": "window[\"d077a6ee-6e12-11f0-831c-0242ac1c000c\"] = window[\"d0774cda-6e12-11f0-831c-0242ac1c000c\"] * window[\"d0777e3a-6e12-11f0-831c-0242ac1c000c\"];\n//# sourceURL=js_92b5024e00",
      "text/plain": [
       "<IPython.core.display.Javascript object>"
      ]
     },
     "metadata": {},
     "output_type": "display_data"
    },
    {
     "data": {
      "application/javascript": "window[\"d077d362-6e12-11f0-831c-0242ac1c000c\"] = element_size.element_size.element_size.nelement.nelement.nelement.element_size();\n//# sourceURL=js_049e8513af",
      "text/plain": [
       "<IPython.core.display.Javascript object>"
      ]
     },
     "metadata": {},
     "output_type": "display_data"
    },
    {
     "data": {
      "application/javascript": "window[\"d07806e8-6e12-11f0-831c-0242ac1c000c\"] = element_size.element_size.element_size.nelement.nelement.nelement.nelement();\n//# sourceURL=js_3fab23e1f3",
      "text/plain": [
       "<IPython.core.display.Javascript object>"
      ]
     },
     "metadata": {},
     "output_type": "display_data"
    },
    {
     "data": {
      "application/javascript": "window[\"d0783ea6-6e12-11f0-831c-0242ac1c000c\"] = window[\"d077d362-6e12-11f0-831c-0242ac1c000c\"] * window[\"d07806e8-6e12-11f0-831c-0242ac1c000c\"];\n//# sourceURL=js_4a7f11e5f4",
      "text/plain": [
       "<IPython.core.display.Javascript object>"
      ]
     },
     "metadata": {},
     "output_type": "display_data"
    },
    {
     "data": {
      "application/javascript": "window[\"d0786a16-6e12-11f0-831c-0242ac1c000c\"] = google.colab.nelement.element_size.element_size.nelement.nelement.nelement.element_size();\n//# sourceURL=js_0f9b9ff7aa",
      "text/plain": [
       "<IPython.core.display.Javascript object>"
      ]
     },
     "metadata": {},
     "output_type": "display_data"
    },
    {
     "data": {
      "application/javascript": "window[\"d078986a-6e12-11f0-831c-0242ac1c000c\"] = google.colab.nelement.element_size.element_size.nelement.nelement.nelement.nelement();\n//# sourceURL=js_19bba3dbf6",
      "text/plain": [
       "<IPython.core.display.Javascript object>"
      ]
     },
     "metadata": {},
     "output_type": "display_data"
    },
    {
     "data": {
      "application/javascript": "window[\"d078c4c0-6e12-11f0-831c-0242ac1c000c\"] = window[\"d0786a16-6e12-11f0-831c-0242ac1c000c\"] * window[\"d078986a-6e12-11f0-831c-0242ac1c000c\"];\n//# sourceURL=js_f6ff7075f5",
      "text/plain": [
       "<IPython.core.display.Javascript object>"
      ]
     },
     "metadata": {},
     "output_type": "display_data"
    },
    {
     "data": {
      "application/javascript": "window[\"d078f9d6-6e12-11f0-831c-0242ac1c000c\"] = google.colab.element_size.element_size.element_size.nelement.nelement.nelement.element_size();\n//# sourceURL=js_3a81355864",
      "text/plain": [
       "<IPython.core.display.Javascript object>"
      ]
     },
     "metadata": {},
     "output_type": "display_data"
    },
    {
     "data": {
      "application/javascript": "window[\"d0792b18-6e12-11f0-831c-0242ac1c000c\"] = google.colab.element_size.element_size.element_size.nelement.nelement.nelement.nelement();\n//# sourceURL=js_bb47d4d857",
      "text/plain": [
       "<IPython.core.display.Javascript object>"
      ]
     },
     "metadata": {},
     "output_type": "display_data"
    },
    {
     "data": {
      "application/javascript": "window[\"d07954c6-6e12-11f0-831c-0242ac1c000c\"] = window[\"d078f9d6-6e12-11f0-831c-0242ac1c000c\"] * window[\"d0792b18-6e12-11f0-831c-0242ac1c000c\"];\n//# sourceURL=js_5b78d4af02",
      "text/plain": [
       "<IPython.core.display.Javascript object>"
      ]
     },
     "metadata": {},
     "output_type": "display_data"
    },
    {
     "data": {
      "application/javascript": "window[\"d079800e-6e12-11f0-831c-0242ac1c000c\"] = nelement.nelement.nelement.element_size.nelement.nelement.element_size();\n//# sourceURL=js_467a9970da",
      "text/plain": [
       "<IPython.core.display.Javascript object>"
      ]
     },
     "metadata": {},
     "output_type": "display_data"
    },
    {
     "data": {
      "application/javascript": "window[\"d079af16-6e12-11f0-831c-0242ac1c000c\"] = nelement.nelement.nelement.element_size.nelement.nelement.nelement();\n//# sourceURL=js_cc311d32e7",
      "text/plain": [
       "<IPython.core.display.Javascript object>"
      ]
     },
     "metadata": {},
     "output_type": "display_data"
    },
    {
     "data": {
      "application/javascript": "window[\"d079d8e2-6e12-11f0-831c-0242ac1c000c\"] = window[\"d079800e-6e12-11f0-831c-0242ac1c000c\"] * window[\"d079af16-6e12-11f0-831c-0242ac1c000c\"];\n//# sourceURL=js_99a24a59bf",
      "text/plain": [
       "<IPython.core.display.Javascript object>"
      ]
     },
     "metadata": {},
     "output_type": "display_data"
    },
    {
     "data": {
      "application/javascript": "window[\"d07a0eb6-6e12-11f0-831c-0242ac1c000c\"] = element_size.nelement.nelement.element_size.nelement.nelement.element_size();\n//# sourceURL=js_b6afcf32e2",
      "text/plain": [
       "<IPython.core.display.Javascript object>"
      ]
     },
     "metadata": {},
     "output_type": "display_data"
    },
    {
     "data": {
      "application/javascript": "window[\"d07a3d5a-6e12-11f0-831c-0242ac1c000c\"] = element_size.nelement.nelement.element_size.nelement.nelement.nelement();\n//# sourceURL=js_13cb8ecbbc",
      "text/plain": [
       "<IPython.core.display.Javascript object>"
      ]
     },
     "metadata": {},
     "output_type": "display_data"
    },
    {
     "data": {
      "application/javascript": "window[\"d07a6ab4-6e12-11f0-831c-0242ac1c000c\"] = window[\"d07a0eb6-6e12-11f0-831c-0242ac1c000c\"] * window[\"d07a3d5a-6e12-11f0-831c-0242ac1c000c\"];\n//# sourceURL=js_b61d7f7f5d",
      "text/plain": [
       "<IPython.core.display.Javascript object>"
      ]
     },
     "metadata": {},
     "output_type": "display_data"
    },
    {
     "data": {
      "application/javascript": "window[\"d07aa150-6e12-11f0-831c-0242ac1c000c\"] = google.colab.nelement.nelement.nelement.element_size.nelement.nelement.element_size();\n//# sourceURL=js_ea1ae6ff6b",
      "text/plain": [
       "<IPython.core.display.Javascript object>"
      ]
     },
     "metadata": {},
     "output_type": "display_data"
    },
    {
     "data": {
      "application/javascript": "window[\"d07ad864-6e12-11f0-831c-0242ac1c000c\"] = google.colab.nelement.nelement.nelement.element_size.nelement.nelement.nelement();\n//# sourceURL=js_8aa105565a",
      "text/plain": [
       "<IPython.core.display.Javascript object>"
      ]
     },
     "metadata": {},
     "output_type": "display_data"
    },
    {
     "data": {
      "application/javascript": "window[\"d07afc22-6e12-11f0-831c-0242ac1c000c\"] = window[\"d07aa150-6e12-11f0-831c-0242ac1c000c\"] * window[\"d07ad864-6e12-11f0-831c-0242ac1c000c\"];\n//# sourceURL=js_7626656cfd",
      "text/plain": [
       "<IPython.core.display.Javascript object>"
      ]
     },
     "metadata": {},
     "output_type": "display_data"
    },
    {
     "data": {
      "application/javascript": "window[\"d07b2896-6e12-11f0-831c-0242ac1c000c\"] = google.colab.element_size.nelement.nelement.element_size.nelement.nelement.element_size();\n//# sourceURL=js_61a659efa0",
      "text/plain": [
       "<IPython.core.display.Javascript object>"
      ]
     },
     "metadata": {},
     "output_type": "display_data"
    },
    {
     "data": {
      "application/javascript": "window[\"d07b51fe-6e12-11f0-831c-0242ac1c000c\"] = google.colab.element_size.nelement.nelement.element_size.nelement.nelement.nelement();\n//# sourceURL=js_56a211543a",
      "text/plain": [
       "<IPython.core.display.Javascript object>"
      ]
     },
     "metadata": {},
     "output_type": "display_data"
    },
    {
     "data": {
      "application/javascript": "window[\"d07b880e-6e12-11f0-831c-0242ac1c000c\"] = window[\"d07b2896-6e12-11f0-831c-0242ac1c000c\"] * window[\"d07b51fe-6e12-11f0-831c-0242ac1c000c\"];\n//# sourceURL=js_9e3ae079a1",
      "text/plain": [
       "<IPython.core.display.Javascript object>"
      ]
     },
     "metadata": {},
     "output_type": "display_data"
    },
    {
     "data": {
      "application/javascript": "window[\"d07bb4b4-6e12-11f0-831c-0242ac1c000c\"] = nelement.element_size.nelement.element_size.nelement.nelement.element_size();\n//# sourceURL=js_ba263c1217",
      "text/plain": [
       "<IPython.core.display.Javascript object>"
      ]
     },
     "metadata": {},
     "output_type": "display_data"
    },
    {
     "data": {
      "application/javascript": "window[\"d07bdafc-6e12-11f0-831c-0242ac1c000c\"] = nelement.element_size.nelement.element_size.nelement.nelement.nelement();\n//# sourceURL=js_0c717014f6",
      "text/plain": [
       "<IPython.core.display.Javascript object>"
      ]
     },
     "metadata": {},
     "output_type": "display_data"
    },
    {
     "data": {
      "application/javascript": "window[\"d07c0464-6e12-11f0-831c-0242ac1c000c\"] = window[\"d07bb4b4-6e12-11f0-831c-0242ac1c000c\"] * window[\"d07bdafc-6e12-11f0-831c-0242ac1c000c\"];\n//# sourceURL=js_ef7dc39efc",
      "text/plain": [
       "<IPython.core.display.Javascript object>"
      ]
     },
     "metadata": {},
     "output_type": "display_data"
    },
    {
     "data": {
      "application/javascript": "window[\"d07c392a-6e12-11f0-831c-0242ac1c000c\"] = element_size.element_size.nelement.element_size.nelement.nelement.element_size();\n//# sourceURL=js_9d79bd2e99",
      "text/plain": [
       "<IPython.core.display.Javascript object>"
      ]
     },
     "metadata": {},
     "output_type": "display_data"
    },
    {
     "data": {
      "application/javascript": "window[\"d07c6df0-6e12-11f0-831c-0242ac1c000c\"] = element_size.element_size.nelement.element_size.nelement.nelement.nelement();\n//# sourceURL=js_f824eb3836",
      "text/plain": [
       "<IPython.core.display.Javascript object>"
      ]
     },
     "metadata": {},
     "output_type": "display_data"
    },
    {
     "data": {
      "application/javascript": "window[\"d07c9ee2-6e12-11f0-831c-0242ac1c000c\"] = window[\"d07c392a-6e12-11f0-831c-0242ac1c000c\"] * window[\"d07c6df0-6e12-11f0-831c-0242ac1c000c\"];\n//# sourceURL=js_e1f10beade",
      "text/plain": [
       "<IPython.core.display.Javascript object>"
      ]
     },
     "metadata": {},
     "output_type": "display_data"
    },
    {
     "data": {
      "application/javascript": "window[\"d07cd1dc-6e12-11f0-831c-0242ac1c000c\"] = google.colab.nelement.element_size.nelement.element_size.nelement.nelement.element_size();\n//# sourceURL=js_0591b81408",
      "text/plain": [
       "<IPython.core.display.Javascript object>"
      ]
     },
     "metadata": {},
     "output_type": "display_data"
    },
    {
     "data": {
      "application/javascript": "window[\"d07cf98c-6e12-11f0-831c-0242ac1c000c\"] = google.colab.nelement.element_size.nelement.element_size.nelement.nelement.nelement();\n//# sourceURL=js_47bc02df98",
      "text/plain": [
       "<IPython.core.display.Javascript object>"
      ]
     },
     "metadata": {},
     "output_type": "display_data"
    },
    {
     "data": {
      "application/javascript": "window[\"d07d2c04-6e12-11f0-831c-0242ac1c000c\"] = window[\"d07cd1dc-6e12-11f0-831c-0242ac1c000c\"] * window[\"d07cf98c-6e12-11f0-831c-0242ac1c000c\"];\n//# sourceURL=js_69a9fb7c7c",
      "text/plain": [
       "<IPython.core.display.Javascript object>"
      ]
     },
     "metadata": {},
     "output_type": "display_data"
    },
    {
     "data": {
      "application/javascript": "window[\"d07d536e-6e12-11f0-831c-0242ac1c000c\"] = google.colab.element_size.element_size.nelement.element_size.nelement.nelement.element_size();\n//# sourceURL=js_4f14fb5b23",
      "text/plain": [
       "<IPython.core.display.Javascript object>"
      ]
     },
     "metadata": {},
     "output_type": "display_data"
    },
    {
     "data": {
      "application/javascript": "window[\"d07d8014-6e12-11f0-831c-0242ac1c000c\"] = google.colab.element_size.element_size.nelement.element_size.nelement.nelement.nelement();\n//# sourceURL=js_c2a8e92fe9",
      "text/plain": [
       "<IPython.core.display.Javascript object>"
      ]
     },
     "metadata": {},
     "output_type": "display_data"
    },
    {
     "data": {
      "application/javascript": "window[\"d07dc056-6e12-11f0-831c-0242ac1c000c\"] = window[\"d07d536e-6e12-11f0-831c-0242ac1c000c\"] * window[\"d07d8014-6e12-11f0-831c-0242ac1c000c\"];\n//# sourceURL=js_ad4e694993",
      "text/plain": [
       "<IPython.core.display.Javascript object>"
      ]
     },
     "metadata": {},
     "output_type": "display_data"
    },
    {
     "data": {
      "application/javascript": "window[\"d07deba8-6e12-11f0-831c-0242ac1c000c\"] = nelement.nelement.element_size.element_size.nelement.nelement.element_size();\n//# sourceURL=js_1f7dd9486d",
      "text/plain": [
       "<IPython.core.display.Javascript object>"
      ]
     },
     "metadata": {},
     "output_type": "display_data"
    },
    {
     "data": {
      "application/javascript": "window[\"d07e1bdc-6e12-11f0-831c-0242ac1c000c\"] = nelement.nelement.element_size.element_size.nelement.nelement.nelement();\n//# sourceURL=js_43db20057b",
      "text/plain": [
       "<IPython.core.display.Javascript object>"
      ]
     },
     "metadata": {},
     "output_type": "display_data"
    },
    {
     "data": {
      "application/javascript": "window[\"d07e4440-6e12-11f0-831c-0242ac1c000c\"] = window[\"d07deba8-6e12-11f0-831c-0242ac1c000c\"] * window[\"d07e1bdc-6e12-11f0-831c-0242ac1c000c\"];\n//# sourceURL=js_69632fae2c",
      "text/plain": [
       "<IPython.core.display.Javascript object>"
      ]
     },
     "metadata": {},
     "output_type": "display_data"
    },
    {
     "data": {
      "application/javascript": "window[\"d07e6b5a-6e12-11f0-831c-0242ac1c000c\"] = element_size.nelement.element_size.element_size.nelement.nelement.element_size();\n//# sourceURL=js_28015ed213",
      "text/plain": [
       "<IPython.core.display.Javascript object>"
      ]
     },
     "metadata": {},
     "output_type": "display_data"
    },
    {
     "data": {
      "application/javascript": "window[\"d07ea0b6-6e12-11f0-831c-0242ac1c000c\"] = element_size.nelement.element_size.element_size.nelement.nelement.nelement();\n//# sourceURL=js_0de24eaff1",
      "text/plain": [
       "<IPython.core.display.Javascript object>"
      ]
     },
     "metadata": {},
     "output_type": "display_data"
    },
    {
     "data": {
      "application/javascript": "window[\"d07ecdca-6e12-11f0-831c-0242ac1c000c\"] = window[\"d07e6b5a-6e12-11f0-831c-0242ac1c000c\"] * window[\"d07ea0b6-6e12-11f0-831c-0242ac1c000c\"];\n//# sourceURL=js_96fb86a136",
      "text/plain": [
       "<IPython.core.display.Javascript object>"
      ]
     },
     "metadata": {},
     "output_type": "display_data"
    },
    {
     "data": {
      "application/javascript": "window[\"d07efdf4-6e12-11f0-831c-0242ac1c000c\"] = google.colab.nelement.nelement.element_size.element_size.nelement.nelement.element_size();\n//# sourceURL=js_23c82ede60",
      "text/plain": [
       "<IPython.core.display.Javascript object>"
      ]
     },
     "metadata": {},
     "output_type": "display_data"
    },
    {
     "data": {
      "application/javascript": "window[\"d07f28a6-6e12-11f0-831c-0242ac1c000c\"] = google.colab.nelement.nelement.element_size.element_size.nelement.nelement.nelement();\n//# sourceURL=js_1d58594d60",
      "text/plain": [
       "<IPython.core.display.Javascript object>"
      ]
     },
     "metadata": {},
     "output_type": "display_data"
    },
    {
     "data": {
      "application/javascript": "window[\"d07f54a2-6e12-11f0-831c-0242ac1c000c\"] = window[\"d07efdf4-6e12-11f0-831c-0242ac1c000c\"] * window[\"d07f28a6-6e12-11f0-831c-0242ac1c000c\"];\n//# sourceURL=js_f907cd8074",
      "text/plain": [
       "<IPython.core.display.Javascript object>"
      ]
     },
     "metadata": {},
     "output_type": "display_data"
    },
    {
     "data": {
      "application/javascript": "window[\"d07f82ce-6e12-11f0-831c-0242ac1c000c\"] = google.colab.element_size.nelement.element_size.element_size.nelement.nelement.element_size();\n//# sourceURL=js_e54273dffa",
      "text/plain": [
       "<IPython.core.display.Javascript object>"
      ]
     },
     "metadata": {},
     "output_type": "display_data"
    },
    {
     "data": {
      "application/javascript": "window[\"d07faea2-6e12-11f0-831c-0242ac1c000c\"] = google.colab.element_size.nelement.element_size.element_size.nelement.nelement.nelement();\n//# sourceURL=js_26e2379020",
      "text/plain": [
       "<IPython.core.display.Javascript object>"
      ]
     },
     "metadata": {},
     "output_type": "display_data"
    },
    {
     "data": {
      "application/javascript": "window[\"d07fd8dc-6e12-11f0-831c-0242ac1c000c\"] = window[\"d07f82ce-6e12-11f0-831c-0242ac1c000c\"] * window[\"d07faea2-6e12-11f0-831c-0242ac1c000c\"];\n//# sourceURL=js_be541480fe",
      "text/plain": [
       "<IPython.core.display.Javascript object>"
      ]
     },
     "metadata": {},
     "output_type": "display_data"
    },
    {
     "data": {
      "application/javascript": "window[\"d0800794-6e12-11f0-831c-0242ac1c000c\"] = nelement.element_size.element_size.element_size.nelement.nelement.element_size();\n//# sourceURL=js_4dd97e129c",
      "text/plain": [
       "<IPython.core.display.Javascript object>"
      ]
     },
     "metadata": {},
     "output_type": "display_data"
    },
    {
     "data": {
      "application/javascript": "window[\"d08032c8-6e12-11f0-831c-0242ac1c000c\"] = nelement.element_size.element_size.element_size.nelement.nelement.nelement();\n//# sourceURL=js_bb2a17823f",
      "text/plain": [
       "<IPython.core.display.Javascript object>"
      ]
     },
     "metadata": {},
     "output_type": "display_data"
    },
    {
     "data": {
      "application/javascript": "window[\"d0805e92-6e12-11f0-831c-0242ac1c000c\"] = window[\"d0800794-6e12-11f0-831c-0242ac1c000c\"] * window[\"d08032c8-6e12-11f0-831c-0242ac1c000c\"];\n//# sourceURL=js_6452ca2e12",
      "text/plain": [
       "<IPython.core.display.Javascript object>"
      ]
     },
     "metadata": {},
     "output_type": "display_data"
    },
    {
     "data": {
      "application/javascript": "window[\"d0808f2a-6e12-11f0-831c-0242ac1c000c\"] = element_size.element_size.element_size.element_size.nelement.nelement.element_size();\n//# sourceURL=js_45b8dbe076",
      "text/plain": [
       "<IPython.core.display.Javascript object>"
      ]
     },
     "metadata": {},
     "output_type": "display_data"
    },
    {
     "data": {
      "application/javascript": "window[\"d080b8b0-6e12-11f0-831c-0242ac1c000c\"] = element_size.element_size.element_size.element_size.nelement.nelement.nelement();\n//# sourceURL=js_1b750d90b0",
      "text/plain": [
       "<IPython.core.display.Javascript object>"
      ]
     },
     "metadata": {},
     "output_type": "display_data"
    },
    {
     "data": {
      "application/javascript": "window[\"d080ea9c-6e12-11f0-831c-0242ac1c000c\"] = window[\"d0808f2a-6e12-11f0-831c-0242ac1c000c\"] * window[\"d080b8b0-6e12-11f0-831c-0242ac1c000c\"];\n//# sourceURL=js_7909c9ab6e",
      "text/plain": [
       "<IPython.core.display.Javascript object>"
      ]
     },
     "metadata": {},
     "output_type": "display_data"
    },
    {
     "data": {
      "application/javascript": "window[\"d08112a6-6e12-11f0-831c-0242ac1c000c\"] = google.colab.nelement.element_size.element_size.element_size.nelement.nelement.element_size();\n//# sourceURL=js_3c073641b8",
      "text/plain": [
       "<IPython.core.display.Javascript object>"
      ]
     },
     "metadata": {},
     "output_type": "display_data"
    },
    {
     "data": {
      "application/javascript": "window[\"d08144c4-6e12-11f0-831c-0242ac1c000c\"] = google.colab.nelement.element_size.element_size.element_size.nelement.nelement.nelement();\n//# sourceURL=js_78efb05174",
      "text/plain": [
       "<IPython.core.display.Javascript object>"
      ]
     },
     "metadata": {},
     "output_type": "display_data"
    },
    {
     "data": {
      "application/javascript": "window[\"d08171ce-6e12-11f0-831c-0242ac1c000c\"] = window[\"d08112a6-6e12-11f0-831c-0242ac1c000c\"] * window[\"d08144c4-6e12-11f0-831c-0242ac1c000c\"];\n//# sourceURL=js_da03ed4a78",
      "text/plain": [
       "<IPython.core.display.Javascript object>"
      ]
     },
     "metadata": {},
     "output_type": "display_data"
    },
    {
     "data": {
      "application/javascript": "window[\"d0819e42-6e12-11f0-831c-0242ac1c000c\"] = google.colab.element_size.element_size.element_size.element_size.nelement.nelement.element_size();\n//# sourceURL=js_c812d937ca",
      "text/plain": [
       "<IPython.core.display.Javascript object>"
      ]
     },
     "metadata": {},
     "output_type": "display_data"
    },
    {
     "data": {
      "application/javascript": "window[\"d081cb2e-6e12-11f0-831c-0242ac1c000c\"] = google.colab.element_size.element_size.element_size.element_size.nelement.nelement.nelement();\n//# sourceURL=js_ba2b068cbc",
      "text/plain": [
       "<IPython.core.display.Javascript object>"
      ]
     },
     "metadata": {},
     "output_type": "display_data"
    },
    {
     "data": {
      "application/javascript": "window[\"d082009e-6e12-11f0-831c-0242ac1c000c\"] = window[\"d0819e42-6e12-11f0-831c-0242ac1c000c\"] * window[\"d081cb2e-6e12-11f0-831c-0242ac1c000c\"];\n//# sourceURL=js_cbde29fccd",
      "text/plain": [
       "<IPython.core.display.Javascript object>"
      ]
     },
     "metadata": {},
     "output_type": "display_data"
    },
    {
     "data": {
      "application/javascript": "window[\"d08228ee-6e12-11f0-831c-0242ac1c000c\"] = nelement.nelement.nelement.nelement.element_size.nelement.element_size();\n//# sourceURL=js_77b2d80581",
      "text/plain": [
       "<IPython.core.display.Javascript object>"
      ]
     },
     "metadata": {},
     "output_type": "display_data"
    },
    {
     "data": {
      "application/javascript": "window[\"d0825418-6e12-11f0-831c-0242ac1c000c\"] = nelement.nelement.nelement.nelement.element_size.nelement.nelement();\n//# sourceURL=js_eccb13d218",
      "text/plain": [
       "<IPython.core.display.Javascript object>"
      ]
     },
     "metadata": {},
     "output_type": "display_data"
    },
    {
     "data": {
      "application/javascript": "window[\"d0827d76-6e12-11f0-831c-0242ac1c000c\"] = window[\"d08228ee-6e12-11f0-831c-0242ac1c000c\"] * window[\"d0825418-6e12-11f0-831c-0242ac1c000c\"];\n//# sourceURL=js_c8d23bac62",
      "text/plain": [
       "<IPython.core.display.Javascript object>"
      ]
     },
     "metadata": {},
     "output_type": "display_data"
    },
    {
     "data": {
      "application/javascript": "window[\"d082aa26-6e12-11f0-831c-0242ac1c000c\"] = element_size.nelement.nelement.nelement.element_size.nelement.element_size();\n//# sourceURL=js_63ccdf1b78",
      "text/plain": [
       "<IPython.core.display.Javascript object>"
      ]
     },
     "metadata": {},
     "output_type": "display_data"
    },
    {
     "data": {
      "application/javascript": "window[\"d082d3e8-6e12-11f0-831c-0242ac1c000c\"] = element_size.nelement.nelement.nelement.element_size.nelement.nelement();\n//# sourceURL=js_4a7a7ba35a",
      "text/plain": [
       "<IPython.core.display.Javascript object>"
      ]
     },
     "metadata": {},
     "output_type": "display_data"
    },
    {
     "data": {
      "application/javascript": "window[\"d08303b8-6e12-11f0-831c-0242ac1c000c\"] = window[\"d082aa26-6e12-11f0-831c-0242ac1c000c\"] * window[\"d082d3e8-6e12-11f0-831c-0242ac1c000c\"];\n//# sourceURL=js_e1aba5e312",
      "text/plain": [
       "<IPython.core.display.Javascript object>"
      ]
     },
     "metadata": {},
     "output_type": "display_data"
    },
    {
     "data": {
      "application/javascript": "window[\"d083307c-6e12-11f0-831c-0242ac1c000c\"] = google.colab.nelement.nelement.nelement.nelement.element_size.nelement.element_size();\n//# sourceURL=js_5064d8b005",
      "text/plain": [
       "<IPython.core.display.Javascript object>"
      ]
     },
     "metadata": {},
     "output_type": "display_data"
    },
    {
     "data": {
      "application/javascript": "window[\"d0835c32-6e12-11f0-831c-0242ac1c000c\"] = google.colab.nelement.nelement.nelement.nelement.element_size.nelement.nelement();\n//# sourceURL=js_3f350924e5",
      "text/plain": [
       "<IPython.core.display.Javascript object>"
      ]
     },
     "metadata": {},
     "output_type": "display_data"
    },
    {
     "data": {
      "application/javascript": "window[\"d0838888-6e12-11f0-831c-0242ac1c000c\"] = window[\"d083307c-6e12-11f0-831c-0242ac1c000c\"] * window[\"d0835c32-6e12-11f0-831c-0242ac1c000c\"];\n//# sourceURL=js_b2bbf8aa75",
      "text/plain": [
       "<IPython.core.display.Javascript object>"
      ]
     },
     "metadata": {},
     "output_type": "display_data"
    },
    {
     "data": {
      "application/javascript": "window[\"d083b5f6-6e12-11f0-831c-0242ac1c000c\"] = google.colab.element_size.nelement.nelement.nelement.element_size.nelement.element_size();\n//# sourceURL=js_955e8cd8af",
      "text/plain": [
       "<IPython.core.display.Javascript object>"
      ]
     },
     "metadata": {},
     "output_type": "display_data"
    },
    {
     "data": {
      "application/javascript": "window[\"d083e6ca-6e12-11f0-831c-0242ac1c000c\"] = google.colab.element_size.nelement.nelement.nelement.element_size.nelement.nelement();\n//# sourceURL=js_07f30b2f4c",
      "text/plain": [
       "<IPython.core.display.Javascript object>"
      ]
     },
     "metadata": {},
     "output_type": "display_data"
    },
    {
     "data": {
      "application/javascript": "window[\"d08411ae-6e12-11f0-831c-0242ac1c000c\"] = window[\"d083b5f6-6e12-11f0-831c-0242ac1c000c\"] * window[\"d083e6ca-6e12-11f0-831c-0242ac1c000c\"];\n//# sourceURL=js_217b1d0230",
      "text/plain": [
       "<IPython.core.display.Javascript object>"
      ]
     },
     "metadata": {},
     "output_type": "display_data"
    },
    {
     "data": {
      "application/javascript": "window[\"d0843c60-6e12-11f0-831c-0242ac1c000c\"] = nelement.element_size.nelement.nelement.element_size.nelement.element_size();\n//# sourceURL=js_2ee02742f4",
      "text/plain": [
       "<IPython.core.display.Javascript object>"
      ]
     },
     "metadata": {},
     "output_type": "display_data"
    },
    {
     "data": {
      "application/javascript": "window[\"d0846c44-6e12-11f0-831c-0242ac1c000c\"] = nelement.element_size.nelement.nelement.element_size.nelement.nelement();\n//# sourceURL=js_ee524e1926",
      "text/plain": [
       "<IPython.core.display.Javascript object>"
      ]
     },
     "metadata": {},
     "output_type": "display_data"
    },
    {
     "data": {
      "application/javascript": "window[\"d0849e08-6e12-11f0-831c-0242ac1c000c\"] = window[\"d0843c60-6e12-11f0-831c-0242ac1c000c\"] * window[\"d0846c44-6e12-11f0-831c-0242ac1c000c\"];\n//# sourceURL=js_54421eea49",
      "text/plain": [
       "<IPython.core.display.Javascript object>"
      ]
     },
     "metadata": {},
     "output_type": "display_data"
    },
    {
     "data": {
      "application/javascript": "window[\"d084cdce-6e12-11f0-831c-0242ac1c000c\"] = element_size.element_size.nelement.nelement.element_size.nelement.element_size();\n//# sourceURL=js_239042a66e",
      "text/plain": [
       "<IPython.core.display.Javascript object>"
      ]
     },
     "metadata": {},
     "output_type": "display_data"
    },
    {
     "data": {
      "application/javascript": "window[\"d084f826-6e12-11f0-831c-0242ac1c000c\"] = element_size.element_size.nelement.nelement.element_size.nelement.nelement();\n//# sourceURL=js_9c318ae5ad",
      "text/plain": [
       "<IPython.core.display.Javascript object>"
      ]
     },
     "metadata": {},
     "output_type": "display_data"
    },
    {
     "data": {
      "application/javascript": "window[\"d08528fa-6e12-11f0-831c-0242ac1c000c\"] = window[\"d084cdce-6e12-11f0-831c-0242ac1c000c\"] * window[\"d084f826-6e12-11f0-831c-0242ac1c000c\"];\n//# sourceURL=js_12811af858",
      "text/plain": [
       "<IPython.core.display.Javascript object>"
      ]
     },
     "metadata": {},
     "output_type": "display_data"
    },
    {
     "data": {
      "application/javascript": "window[\"d08554c4-6e12-11f0-831c-0242ac1c000c\"] = google.colab.nelement.element_size.nelement.nelement.element_size.nelement.element_size();\n//# sourceURL=js_e37bc95368",
      "text/plain": [
       "<IPython.core.display.Javascript object>"
      ]
     },
     "metadata": {},
     "output_type": "display_data"
    },
    {
     "data": {
      "application/javascript": "window[\"d0858732-6e12-11f0-831c-0242ac1c000c\"] = google.colab.nelement.element_size.nelement.nelement.element_size.nelement.nelement();\n//# sourceURL=js_77023176c0",
      "text/plain": [
       "<IPython.core.display.Javascript object>"
      ]
     },
     "metadata": {},
     "output_type": "display_data"
    },
    {
     "data": {
      "application/javascript": "window[\"d085b5f4-6e12-11f0-831c-0242ac1c000c\"] = window[\"d08554c4-6e12-11f0-831c-0242ac1c000c\"] * window[\"d0858732-6e12-11f0-831c-0242ac1c000c\"];\n//# sourceURL=js_c754ec9fca",
      "text/plain": [
       "<IPython.core.display.Javascript object>"
      ]
     },
     "metadata": {},
     "output_type": "display_data"
    },
    {
     "data": {
      "application/javascript": "window[\"d085ed8a-6e12-11f0-831c-0242ac1c000c\"] = google.colab.element_size.element_size.nelement.nelement.element_size.nelement.element_size();\n//# sourceURL=js_3f5594b6ff",
      "text/plain": [
       "<IPython.core.display.Javascript object>"
      ]
     },
     "metadata": {},
     "output_type": "display_data"
    },
    {
     "data": {
      "application/javascript": "window[\"d086174c-6e12-11f0-831c-0242ac1c000c\"] = google.colab.element_size.element_size.nelement.nelement.element_size.nelement.nelement();\n//# sourceURL=js_91f5f035eb",
      "text/plain": [
       "<IPython.core.display.Javascript object>"
      ]
     },
     "metadata": {},
     "output_type": "display_data"
    },
    {
     "data": {
      "application/javascript": "window[\"d08647a8-6e12-11f0-831c-0242ac1c000c\"] = window[\"d085ed8a-6e12-11f0-831c-0242ac1c000c\"] * window[\"d086174c-6e12-11f0-831c-0242ac1c000c\"];\n//# sourceURL=js_a12a6fda83",
      "text/plain": [
       "<IPython.core.display.Javascript object>"
      ]
     },
     "metadata": {},
     "output_type": "display_data"
    },
    {
     "data": {
      "application/javascript": "window[\"d0867188-6e12-11f0-831c-0242ac1c000c\"] = nelement.nelement.element_size.nelement.element_size.nelement.element_size();\n//# sourceURL=js_b628c42d0e",
      "text/plain": [
       "<IPython.core.display.Javascript object>"
      ]
     },
     "metadata": {},
     "output_type": "display_data"
    },
    {
     "data": {
      "application/javascript": "window[\"d086a3ec-6e12-11f0-831c-0242ac1c000c\"] = nelement.nelement.element_size.nelement.element_size.nelement.nelement();\n//# sourceURL=js_8024a34095",
      "text/plain": [
       "<IPython.core.display.Javascript object>"
      ]
     },
     "metadata": {},
     "output_type": "display_data"
    },
    {
     "data": {
      "application/javascript": "window[\"d086ce6c-6e12-11f0-831c-0242ac1c000c\"] = window[\"d0867188-6e12-11f0-831c-0242ac1c000c\"] * window[\"d086a3ec-6e12-11f0-831c-0242ac1c000c\"];\n//# sourceURL=js_b3748f9cbe",
      "text/plain": [
       "<IPython.core.display.Javascript object>"
      ]
     },
     "metadata": {},
     "output_type": "display_data"
    },
    {
     "data": {
      "application/javascript": "window[\"d086fdba-6e12-11f0-831c-0242ac1c000c\"] = element_size.nelement.element_size.nelement.element_size.nelement.element_size();\n//# sourceURL=js_fd1f3e2261",
      "text/plain": [
       "<IPython.core.display.Javascript object>"
      ]
     },
     "metadata": {},
     "output_type": "display_data"
    },
    {
     "data": {
      "application/javascript": "window[\"d08725ba-6e12-11f0-831c-0242ac1c000c\"] = element_size.nelement.element_size.nelement.element_size.nelement.nelement();\n//# sourceURL=js_bdd3884bd1",
      "text/plain": [
       "<IPython.core.display.Javascript object>"
      ]
     },
     "metadata": {},
     "output_type": "display_data"
    },
    {
     "data": {
      "application/javascript": "window[\"d0875cba-6e12-11f0-831c-0242ac1c000c\"] = window[\"d086fdba-6e12-11f0-831c-0242ac1c000c\"] * window[\"d08725ba-6e12-11f0-831c-0242ac1c000c\"];\n//# sourceURL=js_3c2722eb00",
      "text/plain": [
       "<IPython.core.display.Javascript object>"
      ]
     },
     "metadata": {},
     "output_type": "display_data"
    },
    {
     "data": {
      "application/javascript": "window[\"d0878992-6e12-11f0-831c-0242ac1c000c\"] = google.colab.nelement.nelement.element_size.nelement.element_size.nelement.element_size();\n//# sourceURL=js_3128a21840",
      "text/plain": [
       "<IPython.core.display.Javascript object>"
      ]
     },
     "metadata": {},
     "output_type": "display_data"
    },
    {
     "data": {
      "application/javascript": "window[\"d087bab6-6e12-11f0-831c-0242ac1c000c\"] = google.colab.nelement.nelement.element_size.nelement.element_size.nelement.nelement();\n//# sourceURL=js_8bf7d84bef",
      "text/plain": [
       "<IPython.core.display.Javascript object>"
      ]
     },
     "metadata": {},
     "output_type": "display_data"
    },
    {
     "data": {
      "application/javascript": "window[\"d087e77a-6e12-11f0-831c-0242ac1c000c\"] = window[\"d0878992-6e12-11f0-831c-0242ac1c000c\"] * window[\"d087bab6-6e12-11f0-831c-0242ac1c000c\"];\n//# sourceURL=js_4478c2ab14",
      "text/plain": [
       "<IPython.core.display.Javascript object>"
      ]
     },
     "metadata": {},
     "output_type": "display_data"
    },
    {
     "data": {
      "application/javascript": "window[\"d0881718-6e12-11f0-831c-0242ac1c000c\"] = google.colab.element_size.nelement.element_size.nelement.element_size.nelement.element_size();\n//# sourceURL=js_339faae578",
      "text/plain": [
       "<IPython.core.display.Javascript object>"
      ]
     },
     "metadata": {},
     "output_type": "display_data"
    },
    {
     "data": {
      "application/javascript": "window[\"d0883d6a-6e12-11f0-831c-0242ac1c000c\"] = google.colab.element_size.nelement.element_size.nelement.element_size.nelement.nelement();\n//# sourceURL=js_90a1900b5f",
      "text/plain": [
       "<IPython.core.display.Javascript object>"
      ]
     },
     "metadata": {},
     "output_type": "display_data"
    },
    {
     "data": {
      "application/javascript": "window[\"d0886a56-6e12-11f0-831c-0242ac1c000c\"] = window[\"d0881718-6e12-11f0-831c-0242ac1c000c\"] * window[\"d0883d6a-6e12-11f0-831c-0242ac1c000c\"];\n//# sourceURL=js_68033156e3",
      "text/plain": [
       "<IPython.core.display.Javascript object>"
      ]
     },
     "metadata": {},
     "output_type": "display_data"
    },
    {
     "data": {
      "application/javascript": "window[\"d0889972-6e12-11f0-831c-0242ac1c000c\"] = nelement.element_size.element_size.nelement.element_size.nelement.element_size();\n//# sourceURL=js_c7d5883a32",
      "text/plain": [
       "<IPython.core.display.Javascript object>"
      ]
     },
     "metadata": {},
     "output_type": "display_data"
    },
    {
     "data": {
      "application/javascript": "window[\"d088d478-6e12-11f0-831c-0242ac1c000c\"] = nelement.element_size.element_size.nelement.element_size.nelement.nelement();\n//# sourceURL=js_83744ee351",
      "text/plain": [
       "<IPython.core.display.Javascript object>"
      ]
     },
     "metadata": {},
     "output_type": "display_data"
    },
    {
     "data": {
      "application/javascript": "window[\"d088fd0e-6e12-11f0-831c-0242ac1c000c\"] = window[\"d0889972-6e12-11f0-831c-0242ac1c000c\"] * window[\"d088d478-6e12-11f0-831c-0242ac1c000c\"];\n//# sourceURL=js_01616738ce",
      "text/plain": [
       "<IPython.core.display.Javascript object>"
      ]
     },
     "metadata": {},
     "output_type": "display_data"
    },
    {
     "data": {
      "application/javascript": "window[\"d0892946-6e12-11f0-831c-0242ac1c000c\"] = element_size.element_size.element_size.nelement.element_size.nelement.element_size();\n//# sourceURL=js_1278c38aac",
      "text/plain": [
       "<IPython.core.display.Javascript object>"
      ]
     },
     "metadata": {},
     "output_type": "display_data"
    },
    {
     "data": {
      "application/javascript": "window[\"d0897216-6e12-11f0-831c-0242ac1c000c\"] = element_size.element_size.element_size.nelement.element_size.nelement.nelement();\n//# sourceURL=js_a2ec85dfda",
      "text/plain": [
       "<IPython.core.display.Javascript object>"
      ]
     },
     "metadata": {},
     "output_type": "display_data"
    },
    {
     "data": {
      "application/javascript": "window[\"d089b1ae-6e12-11f0-831c-0242ac1c000c\"] = window[\"d0892946-6e12-11f0-831c-0242ac1c000c\"] * window[\"d0897216-6e12-11f0-831c-0242ac1c000c\"];\n//# sourceURL=js_1b3d4c15c8",
      "text/plain": [
       "<IPython.core.display.Javascript object>"
      ]
     },
     "metadata": {},
     "output_type": "display_data"
    },
    {
     "data": {
      "application/javascript": "window[\"d089e2dc-6e12-11f0-831c-0242ac1c000c\"] = nelement.nelement.nelement.nelement.nelement.element_size.element_size();\n//# sourceURL=js_929aeb6f80",
      "text/plain": [
       "<IPython.core.display.Javascript object>"
      ]
     },
     "metadata": {},
     "output_type": "display_data"
    },
    {
     "data": {
      "application/javascript": "window[\"d08a0dd4-6e12-11f0-831c-0242ac1c000c\"] = nelement.nelement.nelement.nelement.nelement.element_size.nelement();\n//# sourceURL=js_58c21f4f65",
      "text/plain": [
       "<IPython.core.display.Javascript object>"
      ]
     },
     "metadata": {},
     "output_type": "display_data"
    },
    {
     "data": {
      "application/javascript": "window[\"d08a3dfe-6e12-11f0-831c-0242ac1c000c\"] = window[\"d089e2dc-6e12-11f0-831c-0242ac1c000c\"] * window[\"d08a0dd4-6e12-11f0-831c-0242ac1c000c\"];\n//# sourceURL=js_53ef6d951f",
      "text/plain": [
       "<IPython.core.display.Javascript object>"
      ]
     },
     "metadata": {},
     "output_type": "display_data"
    },
    {
     "data": {
      "application/javascript": "window[\"d08a7166-6e12-11f0-831c-0242ac1c000c\"] = element_size.nelement.nelement.nelement.nelement.element_size.element_size();\n//# sourceURL=js_a62f9b218e",
      "text/plain": [
       "<IPython.core.display.Javascript object>"
      ]
     },
     "metadata": {},
     "output_type": "display_data"
    },
    {
     "data": {
      "application/javascript": "window[\"d08a9e5c-6e12-11f0-831c-0242ac1c000c\"] = element_size.nelement.nelement.nelement.nelement.element_size.nelement();\n//# sourceURL=js_048efb809c",
      "text/plain": [
       "<IPython.core.display.Javascript object>"
      ]
     },
     "metadata": {},
     "output_type": "display_data"
    },
    {
     "data": {
      "application/javascript": "window[\"d08ad3f4-6e12-11f0-831c-0242ac1c000c\"] = window[\"d08a7166-6e12-11f0-831c-0242ac1c000c\"] * window[\"d08a9e5c-6e12-11f0-831c-0242ac1c000c\"];\n//# sourceURL=js_a884e56d39",
      "text/plain": [
       "<IPython.core.display.Javascript object>"
      ]
     },
     "metadata": {},
     "output_type": "display_data"
    },
    {
     "data": {
      "application/javascript": "window[\"d08afc80-6e12-11f0-831c-0242ac1c000c\"] = google.colab.nelement.nelement.nelement.nelement.nelement.element_size.element_size();\n//# sourceURL=js_dd88e849c7",
      "text/plain": [
       "<IPython.core.display.Javascript object>"
      ]
     },
     "metadata": {},
     "output_type": "display_data"
    },
    {
     "data": {
      "application/javascript": "window[\"d08b25f2-6e12-11f0-831c-0242ac1c000c\"] = google.colab.nelement.nelement.nelement.nelement.nelement.element_size.nelement();\n//# sourceURL=js_2922ebd686",
      "text/plain": [
       "<IPython.core.display.Javascript object>"
      ]
     },
     "metadata": {},
     "output_type": "display_data"
    },
    {
     "data": {
      "application/javascript": "window[\"d08b5248-6e12-11f0-831c-0242ac1c000c\"] = window[\"d08afc80-6e12-11f0-831c-0242ac1c000c\"] * window[\"d08b25f2-6e12-11f0-831c-0242ac1c000c\"];\n//# sourceURL=js_bc633119c5",
      "text/plain": [
       "<IPython.core.display.Javascript object>"
      ]
     },
     "metadata": {},
     "output_type": "display_data"
    },
    {
     "data": {
      "application/javascript": "window[\"d08b7f5c-6e12-11f0-831c-0242ac1c000c\"] = google.colab.element_size.nelement.nelement.nelement.nelement.element_size.element_size();\n//# sourceURL=js_c0f422d709",
      "text/plain": [
       "<IPython.core.display.Javascript object>"
      ]
     },
     "metadata": {},
     "output_type": "display_data"
    },
    {
     "data": {
      "application/javascript": "window[\"d08babee-6e12-11f0-831c-0242ac1c000c\"] = google.colab.element_size.nelement.nelement.nelement.nelement.element_size.nelement();\n//# sourceURL=js_b386cf44a4",
      "text/plain": [
       "<IPython.core.display.Javascript object>"
      ]
     },
     "metadata": {},
     "output_type": "display_data"
    },
    {
     "data": {
      "application/javascript": "window[\"d08bd696-6e12-11f0-831c-0242ac1c000c\"] = window[\"d08b7f5c-6e12-11f0-831c-0242ac1c000c\"] * window[\"d08babee-6e12-11f0-831c-0242ac1c000c\"];\n//# sourceURL=js_7c7b2d9934",
      "text/plain": [
       "<IPython.core.display.Javascript object>"
      ]
     },
     "metadata": {},
     "output_type": "display_data"
    },
    {
     "data": {
      "application/javascript": "window[\"d08c0422-6e12-11f0-831c-0242ac1c000c\"] = nelement.element_size.nelement.nelement.nelement.element_size.element_size();\n//# sourceURL=js_fed4b0bf80",
      "text/plain": [
       "<IPython.core.display.Javascript object>"
      ]
     },
     "metadata": {},
     "output_type": "display_data"
    },
    {
     "data": {
      "application/javascript": "window[\"d08c2f24-6e12-11f0-831c-0242ac1c000c\"] = nelement.element_size.nelement.nelement.nelement.element_size.nelement();\n//# sourceURL=js_9a71938e0a",
      "text/plain": [
       "<IPython.core.display.Javascript object>"
      ]
     },
     "metadata": {},
     "output_type": "display_data"
    },
    {
     "data": {
      "application/javascript": "window[\"d08c5a94-6e12-11f0-831c-0242ac1c000c\"] = window[\"d08c0422-6e12-11f0-831c-0242ac1c000c\"] * window[\"d08c2f24-6e12-11f0-831c-0242ac1c000c\"];\n//# sourceURL=js_ca1b227f68",
      "text/plain": [
       "<IPython.core.display.Javascript object>"
      ]
     },
     "metadata": {},
     "output_type": "display_data"
    },
    {
     "data": {
      "application/javascript": "window[\"d08c89ce-6e12-11f0-831c-0242ac1c000c\"] = element_size.element_size.nelement.nelement.nelement.element_size.element_size();\n//# sourceURL=js_7f511d7ea1",
      "text/plain": [
       "<IPython.core.display.Javascript object>"
      ]
     },
     "metadata": {},
     "output_type": "display_data"
    },
    {
     "data": {
      "application/javascript": "window[\"d08cb016-6e12-11f0-831c-0242ac1c000c\"] = element_size.element_size.nelement.nelement.nelement.element_size.nelement();\n//# sourceURL=js_7419848730",
      "text/plain": [
       "<IPython.core.display.Javascript object>"
      ]
     },
     "metadata": {},
     "output_type": "display_data"
    },
    {
     "data": {
      "application/javascript": "window[\"d08cd870-6e12-11f0-831c-0242ac1c000c\"] = window[\"d08c89ce-6e12-11f0-831c-0242ac1c000c\"] * window[\"d08cb016-6e12-11f0-831c-0242ac1c000c\"];\n//# sourceURL=js_f09df77aae",
      "text/plain": [
       "<IPython.core.display.Javascript object>"
      ]
     },
     "metadata": {},
     "output_type": "display_data"
    },
    {
     "data": {
      "application/javascript": "window[\"d08d07f0-6e12-11f0-831c-0242ac1c000c\"] = google.colab.nelement.element_size.nelement.nelement.nelement.element_size.element_size();\n//# sourceURL=js_fbe6a69d15",
      "text/plain": [
       "<IPython.core.display.Javascript object>"
      ]
     },
     "metadata": {},
     "output_type": "display_data"
    },
    {
     "data": {
      "application/javascript": "window[\"d08d384c-6e12-11f0-831c-0242ac1c000c\"] = google.colab.nelement.element_size.nelement.nelement.nelement.element_size.nelement();\n//# sourceURL=js_a01fc601e1",
      "text/plain": [
       "<IPython.core.display.Javascript object>"
      ]
     },
     "metadata": {},
     "output_type": "display_data"
    },
    {
     "data": {
      "application/javascript": "window[\"d08d693e-6e12-11f0-831c-0242ac1c000c\"] = window[\"d08d07f0-6e12-11f0-831c-0242ac1c000c\"] * window[\"d08d384c-6e12-11f0-831c-0242ac1c000c\"];\n//# sourceURL=js_40443a8d0f",
      "text/plain": [
       "<IPython.core.display.Javascript object>"
      ]
     },
     "metadata": {},
     "output_type": "display_data"
    },
    {
     "data": {
      "application/javascript": "window[\"d08d9bca-6e12-11f0-831c-0242ac1c000c\"] = google.colab.element_size.element_size.nelement.nelement.nelement.element_size.element_size();\n//# sourceURL=js_dfa7e0ca26",
      "text/plain": [
       "<IPython.core.display.Javascript object>"
      ]
     },
     "metadata": {},
     "output_type": "display_data"
    },
    {
     "data": {
      "application/javascript": "window[\"d08dc49c-6e12-11f0-831c-0242ac1c000c\"] = google.colab.element_size.element_size.nelement.nelement.nelement.element_size.nelement();\n//# sourceURL=js_d8f26a76aa",
      "text/plain": [
       "<IPython.core.display.Javascript object>"
      ]
     },
     "metadata": {},
     "output_type": "display_data"
    },
    {
     "data": {
      "application/javascript": "window[\"d08df39a-6e12-11f0-831c-0242ac1c000c\"] = window[\"d08d9bca-6e12-11f0-831c-0242ac1c000c\"] * window[\"d08dc49c-6e12-11f0-831c-0242ac1c000c\"];\n//# sourceURL=js_2d6620b51f",
      "text/plain": [
       "<IPython.core.display.Javascript object>"
      ]
     },
     "metadata": {},
     "output_type": "display_data"
    },
    {
     "data": {
      "application/javascript": "window[\"d08e1c08-6e12-11f0-831c-0242ac1c000c\"] = nelement.nelement.element_size.nelement.nelement.element_size.element_size();\n//# sourceURL=js_582defa3bd",
      "text/plain": [
       "<IPython.core.display.Javascript object>"
      ]
     },
     "metadata": {},
     "output_type": "display_data"
    },
    {
     "data": {
      "application/javascript": "window[\"d08e45e8-6e12-11f0-831c-0242ac1c000c\"] = nelement.nelement.element_size.nelement.nelement.element_size.nelement();\n//# sourceURL=js_b39bc8b4bc",
      "text/plain": [
       "<IPython.core.display.Javascript object>"
      ]
     },
     "metadata": {},
     "output_type": "display_data"
    },
    {
     "data": {
      "application/javascript": "window[\"d08e7982-6e12-11f0-831c-0242ac1c000c\"] = window[\"d08e1c08-6e12-11f0-831c-0242ac1c000c\"] * window[\"d08e45e8-6e12-11f0-831c-0242ac1c000c\"];\n//# sourceURL=js_ff074788b2",
      "text/plain": [
       "<IPython.core.display.Javascript object>"
      ]
     },
     "metadata": {},
     "output_type": "display_data"
    },
    {
     "data": {
      "application/javascript": "window[\"d08ea66e-6e12-11f0-831c-0242ac1c000c\"] = element_size.nelement.element_size.nelement.nelement.element_size.element_size();\n//# sourceURL=js_5839b78c84",
      "text/plain": [
       "<IPython.core.display.Javascript object>"
      ]
     },
     "metadata": {},
     "output_type": "display_data"
    },
    {
     "data": {
      "application/javascript": "window[\"d08eda4e-6e12-11f0-831c-0242ac1c000c\"] = element_size.nelement.element_size.nelement.nelement.element_size.nelement();\n//# sourceURL=js_981689daba",
      "text/plain": [
       "<IPython.core.display.Javascript object>"
      ]
     },
     "metadata": {},
     "output_type": "display_data"
    },
    {
     "data": {
      "application/javascript": "window[\"d08f0442-6e12-11f0-831c-0242ac1c000c\"] = window[\"d08ea66e-6e12-11f0-831c-0242ac1c000c\"] * window[\"d08eda4e-6e12-11f0-831c-0242ac1c000c\"];\n//# sourceURL=js_2a914b27ce",
      "text/plain": [
       "<IPython.core.display.Javascript object>"
      ]
     },
     "metadata": {},
     "output_type": "display_data"
    },
    {
     "data": {
      "application/javascript": "window[\"d08f2ad0-6e12-11f0-831c-0242ac1c000c\"] = google.colab.nelement.nelement.element_size.nelement.nelement.element_size.element_size();\n//# sourceURL=js_a22ade9a20",
      "text/plain": [
       "<IPython.core.display.Javascript object>"
      ]
     },
     "metadata": {},
     "output_type": "display_data"
    },
    {
     "data": {
      "application/javascript": "window[\"d08f4f92-6e12-11f0-831c-0242ac1c000c\"] = google.colab.nelement.nelement.element_size.nelement.nelement.element_size.nelement();\n//# sourceURL=js_0c80df2a18",
      "text/plain": [
       "<IPython.core.display.Javascript object>"
      ]
     },
     "metadata": {},
     "output_type": "display_data"
    },
    {
     "data": {
      "application/javascript": "window[\"d08f7616-6e12-11f0-831c-0242ac1c000c\"] = window[\"d08f2ad0-6e12-11f0-831c-0242ac1c000c\"] * window[\"d08f4f92-6e12-11f0-831c-0242ac1c000c\"];\n//# sourceURL=js_44ae4062f6",
      "text/plain": [
       "<IPython.core.display.Javascript object>"
      ]
     },
     "metadata": {},
     "output_type": "display_data"
    },
    {
     "data": {
      "application/javascript": "window[\"d0901c60-6e12-11f0-831c-0242ac1c000c\"] = google.colab.element_size.nelement.element_size.nelement.nelement.element_size.element_size();\n//# sourceURL=js_9444b06b56",
      "text/plain": [
       "<IPython.core.display.Javascript object>"
      ]
     },
     "metadata": {},
     "output_type": "display_data"
    },
    {
     "data": {
      "application/javascript": "window[\"d09042a8-6e12-11f0-831c-0242ac1c000c\"] = google.colab.element_size.nelement.element_size.nelement.nelement.element_size.nelement();\n//# sourceURL=js_2549cb17f8",
      "text/plain": [
       "<IPython.core.display.Javascript object>"
      ]
     },
     "metadata": {},
     "output_type": "display_data"
    },
    {
     "data": {
      "application/javascript": "window[\"d090a144-6e12-11f0-831c-0242ac1c000c\"] = window[\"d0901c60-6e12-11f0-831c-0242ac1c000c\"] * window[\"d09042a8-6e12-11f0-831c-0242ac1c000c\"];\n//# sourceURL=js_5680915984",
      "text/plain": [
       "<IPython.core.display.Javascript object>"
      ]
     },
     "metadata": {},
     "output_type": "display_data"
    },
    {
     "data": {
      "application/javascript": "window[\"d090ecc6-6e12-11f0-831c-0242ac1c000c\"] = nelement.element_size.element_size.nelement.nelement.element_size.element_size();\n//# sourceURL=js_95459cc319",
      "text/plain": [
       "<IPython.core.display.Javascript object>"
      ]
     },
     "metadata": {},
     "output_type": "display_data"
    },
    {
     "data": {
      "application/javascript": "window[\"d09112e6-6e12-11f0-831c-0242ac1c000c\"] = nelement.element_size.element_size.nelement.nelement.element_size.nelement();\n//# sourceURL=js_4b1bfdb631",
      "text/plain": [
       "<IPython.core.display.Javascript object>"
      ]
     },
     "metadata": {},
     "output_type": "display_data"
    },
    {
     "data": {
      "application/javascript": "window[\"d0915ae4-6e12-11f0-831c-0242ac1c000c\"] = window[\"d090ecc6-6e12-11f0-831c-0242ac1c000c\"] * window[\"d09112e6-6e12-11f0-831c-0242ac1c000c\"];\n//# sourceURL=js_98f41a0d8d",
      "text/plain": [
       "<IPython.core.display.Javascript object>"
      ]
     },
     "metadata": {},
     "output_type": "display_data"
    },
    {
     "data": {
      "application/javascript": "window[\"d0919d88-6e12-11f0-831c-0242ac1c000c\"] = element_size.element_size.element_size.nelement.nelement.element_size.element_size();\n//# sourceURL=js_503d2fd698",
      "text/plain": [
       "<IPython.core.display.Javascript object>"
      ]
     },
     "metadata": {},
     "output_type": "display_data"
    },
    {
     "data": {
      "application/javascript": "window[\"d091fd8c-6e12-11f0-831c-0242ac1c000c\"] = element_size.element_size.element_size.nelement.nelement.element_size.nelement();\n//# sourceURL=js_e22a4bafde",
      "text/plain": [
       "<IPython.core.display.Javascript object>"
      ]
     },
     "metadata": {},
     "output_type": "display_data"
    },
    {
     "data": {
      "application/javascript": "window[\"d0924364-6e12-11f0-831c-0242ac1c000c\"] = window[\"d0919d88-6e12-11f0-831c-0242ac1c000c\"] * window[\"d091fd8c-6e12-11f0-831c-0242ac1c000c\"];\n//# sourceURL=js_270b465d7e",
      "text/plain": [
       "<IPython.core.display.Javascript object>"
      ]
     },
     "metadata": {},
     "output_type": "display_data"
    },
    {
     "data": {
      "application/javascript": "window[\"d0928734-6e12-11f0-831c-0242ac1c000c\"] = google.colab.nelement.element_size.element_size.nelement.nelement.element_size.element_size();\n//# sourceURL=js_5f7540fcb9",
      "text/plain": [
       "<IPython.core.display.Javascript object>"
      ]
     },
     "metadata": {},
     "output_type": "display_data"
    },
    {
     "data": {
      "application/javascript": "window[\"d092cbcc-6e12-11f0-831c-0242ac1c000c\"] = google.colab.nelement.element_size.element_size.nelement.nelement.element_size.nelement();\n//# sourceURL=js_525a1d8299",
      "text/plain": [
       "<IPython.core.display.Javascript object>"
      ]
     },
     "metadata": {},
     "output_type": "display_data"
    },
    {
     "data": {
      "application/javascript": "window[\"d0931c30-6e12-11f0-831c-0242ac1c000c\"] = window[\"d0928734-6e12-11f0-831c-0242ac1c000c\"] * window[\"d092cbcc-6e12-11f0-831c-0242ac1c000c\"];\n//# sourceURL=js_4728767e91",
      "text/plain": [
       "<IPython.core.display.Javascript object>"
      ]
     },
     "metadata": {},
     "output_type": "display_data"
    },
    {
     "data": {
      "application/javascript": "window[\"d09363a2-6e12-11f0-831c-0242ac1c000c\"] = google.colab.element_size.element_size.element_size.nelement.nelement.element_size.element_size();\n//# sourceURL=js_6518f353fc",
      "text/plain": [
       "<IPython.core.display.Javascript object>"
      ]
     },
     "metadata": {},
     "output_type": "display_data"
    },
    {
     "data": {
      "application/javascript": "window[\"d093aa4c-6e12-11f0-831c-0242ac1c000c\"] = google.colab.element_size.element_size.element_size.nelement.nelement.element_size.nelement();\n//# sourceURL=js_8b5f2f1aa8",
      "text/plain": [
       "<IPython.core.display.Javascript object>"
      ]
     },
     "metadata": {},
     "output_type": "display_data"
    },
    {
     "data": {
      "application/javascript": "window[\"d093f290-6e12-11f0-831c-0242ac1c000c\"] = window[\"d09363a2-6e12-11f0-831c-0242ac1c000c\"] * window[\"d093aa4c-6e12-11f0-831c-0242ac1c000c\"];\n//# sourceURL=js_16b0e1ca3a",
      "text/plain": [
       "<IPython.core.display.Javascript object>"
      ]
     },
     "metadata": {},
     "output_type": "display_data"
    },
    {
     "data": {
      "application/javascript": "window[\"d09438b8-6e12-11f0-831c-0242ac1c000c\"] = nelement.nelement.nelement.element_size.nelement.element_size.element_size();\n//# sourceURL=js_023c379c62",
      "text/plain": [
       "<IPython.core.display.Javascript object>"
      ]
     },
     "metadata": {},
     "output_type": "display_data"
    },
    {
     "data": {
      "application/javascript": "window[\"d0947ee0-6e12-11f0-831c-0242ac1c000c\"] = nelement.nelement.nelement.element_size.nelement.element_size.nelement();\n//# sourceURL=js_277ec1dd81",
      "text/plain": [
       "<IPython.core.display.Javascript object>"
      ]
     },
     "metadata": {},
     "output_type": "display_data"
    },
    {
     "data": {
      "application/javascript": "window[\"d094c9d6-6e12-11f0-831c-0242ac1c000c\"] = window[\"d09438b8-6e12-11f0-831c-0242ac1c000c\"] * window[\"d0947ee0-6e12-11f0-831c-0242ac1c000c\"];\n//# sourceURL=js_ded03d9a6e",
      "text/plain": [
       "<IPython.core.display.Javascript object>"
      ]
     },
     "metadata": {},
     "output_type": "display_data"
    },
    {
     "data": {
      "application/javascript": "window[\"d0951382-6e12-11f0-831c-0242ac1c000c\"] = element_size.nelement.nelement.element_size.nelement.element_size.element_size();\n//# sourceURL=js_22523e4eef",
      "text/plain": [
       "<IPython.core.display.Javascript object>"
      ]
     },
     "metadata": {},
     "output_type": "display_data"
    },
    {
     "data": {
      "application/javascript": "window[\"d095596e-6e12-11f0-831c-0242ac1c000c\"] = element_size.nelement.nelement.element_size.nelement.element_size.nelement();\n//# sourceURL=js_d1e2eb0688",
      "text/plain": [
       "<IPython.core.display.Javascript object>"
      ]
     },
     "metadata": {},
     "output_type": "display_data"
    },
    {
     "data": {
      "application/javascript": "window[\"d0959bc2-6e12-11f0-831c-0242ac1c000c\"] = window[\"d0951382-6e12-11f0-831c-0242ac1c000c\"] * window[\"d095596e-6e12-11f0-831c-0242ac1c000c\"];\n//# sourceURL=js_c555a0328c",
      "text/plain": [
       "<IPython.core.display.Javascript object>"
      ]
     },
     "metadata": {},
     "output_type": "display_data"
    },
    {
     "data": {
      "application/javascript": "window[\"d095d434-6e12-11f0-831c-0242ac1c000c\"] = google.colab.nelement.nelement.nelement.element_size.nelement.element_size.element_size();\n//# sourceURL=js_e6e8a13163",
      "text/plain": [
       "<IPython.core.display.Javascript object>"
      ]
     },
     "metadata": {},
     "output_type": "display_data"
    },
    {
     "data": {
      "application/javascript": "window[\"d09601c0-6e12-11f0-831c-0242ac1c000c\"] = google.colab.nelement.nelement.nelement.element_size.nelement.element_size.nelement();\n//# sourceURL=js_6876068612",
      "text/plain": [
       "<IPython.core.display.Javascript object>"
      ]
     },
     "metadata": {},
     "output_type": "display_data"
    },
    {
     "data": {
      "application/javascript": "window[\"d0963064-6e12-11f0-831c-0242ac1c000c\"] = window[\"d095d434-6e12-11f0-831c-0242ac1c000c\"] * window[\"d09601c0-6e12-11f0-831c-0242ac1c000c\"];\n//# sourceURL=js_83e866a4bf",
      "text/plain": [
       "<IPython.core.display.Javascript object>"
      ]
     },
     "metadata": {},
     "output_type": "display_data"
    },
    {
     "data": {
      "application/javascript": "window[\"d0965ef4-6e12-11f0-831c-0242ac1c000c\"] = google.colab.element_size.nelement.nelement.element_size.nelement.element_size.element_size();\n//# sourceURL=js_ad0f5fe3dd",
      "text/plain": [
       "<IPython.core.display.Javascript object>"
      ]
     },
     "metadata": {},
     "output_type": "display_data"
    },
    {
     "data": {
      "application/javascript": "window[\"d0968a3c-6e12-11f0-831c-0242ac1c000c\"] = google.colab.element_size.nelement.nelement.element_size.nelement.element_size.nelement();\n//# sourceURL=js_4181253fac",
      "text/plain": [
       "<IPython.core.display.Javascript object>"
      ]
     },
     "metadata": {},
     "output_type": "display_data"
    },
    {
     "data": {
      "application/javascript": "window[\"d096b7e6-6e12-11f0-831c-0242ac1c000c\"] = window[\"d0965ef4-6e12-11f0-831c-0242ac1c000c\"] * window[\"d0968a3c-6e12-11f0-831c-0242ac1c000c\"];\n//# sourceURL=js_6d5914036c",
      "text/plain": [
       "<IPython.core.display.Javascript object>"
      ]
     },
     "metadata": {},
     "output_type": "display_data"
    },
    {
     "data": {
      "application/javascript": "window[\"d096e464-6e12-11f0-831c-0242ac1c000c\"] = nelement.element_size.nelement.element_size.nelement.element_size.element_size();\n//# sourceURL=js_d34d564433",
      "text/plain": [
       "<IPython.core.display.Javascript object>"
      ]
     },
     "metadata": {},
     "output_type": "display_data"
    },
    {
     "data": {
      "application/javascript": "window[\"d097151a-6e12-11f0-831c-0242ac1c000c\"] = nelement.element_size.nelement.element_size.nelement.element_size.nelement();\n//# sourceURL=js_286aadccf4",
      "text/plain": [
       "<IPython.core.display.Javascript object>"
      ]
     },
     "metadata": {},
     "output_type": "display_data"
    },
    {
     "data": {
      "application/javascript": "window[\"d0973da6-6e12-11f0-831c-0242ac1c000c\"] = window[\"d096e464-6e12-11f0-831c-0242ac1c000c\"] * window[\"d097151a-6e12-11f0-831c-0242ac1c000c\"];\n//# sourceURL=js_b47256eb19",
      "text/plain": [
       "<IPython.core.display.Javascript object>"
      ]
     },
     "metadata": {},
     "output_type": "display_data"
    },
    {
     "data": {
      "application/javascript": "window[\"d097675e-6e12-11f0-831c-0242ac1c000c\"] = element_size.element_size.nelement.element_size.nelement.element_size.element_size();\n//# sourceURL=js_883cda8aa5",
      "text/plain": [
       "<IPython.core.display.Javascript object>"
      ]
     },
     "metadata": {},
     "output_type": "display_data"
    },
    {
     "data": {
      "application/javascript": "window[\"d0979a8a-6e12-11f0-831c-0242ac1c000c\"] = element_size.element_size.nelement.element_size.nelement.element_size.nelement();\n//# sourceURL=js_3a25a655f7",
      "text/plain": [
       "<IPython.core.display.Javascript object>"
      ]
     },
     "metadata": {},
     "output_type": "display_data"
    },
    {
     "data": {
      "application/javascript": "window[\"d097c474-6e12-11f0-831c-0242ac1c000c\"] = window[\"d097675e-6e12-11f0-831c-0242ac1c000c\"] * window[\"d0979a8a-6e12-11f0-831c-0242ac1c000c\"];\n//# sourceURL=js_544e2e12f5",
      "text/plain": [
       "<IPython.core.display.Javascript object>"
      ]
     },
     "metadata": {},
     "output_type": "display_data"
    },
    {
     "data": {
      "application/javascript": "window[\"d097f0d4-6e12-11f0-831c-0242ac1c000c\"] = google.colab.nelement.element_size.nelement.element_size.nelement.element_size.element_size();\n//# sourceURL=js_251cfc16a6",
      "text/plain": [
       "<IPython.core.display.Javascript object>"
      ]
     },
     "metadata": {},
     "output_type": "display_data"
    },
    {
     "data": {
      "application/javascript": "window[\"d0981e10-6e12-11f0-831c-0242ac1c000c\"] = google.colab.nelement.element_size.nelement.element_size.nelement.element_size.nelement();\n//# sourceURL=js_38299f1e78",
      "text/plain": [
       "<IPython.core.display.Javascript object>"
      ]
     },
     "metadata": {},
     "output_type": "display_data"
    },
    {
     "data": {
      "application/javascript": "window[\"d09846d8-6e12-11f0-831c-0242ac1c000c\"] = window[\"d097f0d4-6e12-11f0-831c-0242ac1c000c\"] * window[\"d0981e10-6e12-11f0-831c-0242ac1c000c\"];\n//# sourceURL=js_c40066c850",
      "text/plain": [
       "<IPython.core.display.Javascript object>"
      ]
     },
     "metadata": {},
     "output_type": "display_data"
    },
    {
     "data": {
      "application/javascript": "window[\"d0987004-6e12-11f0-831c-0242ac1c000c\"] = google.colab.element_size.element_size.nelement.element_size.nelement.element_size.element_size();\n//# sourceURL=js_d4c11dd0e8",
      "text/plain": [
       "<IPython.core.display.Javascript object>"
      ]
     },
     "metadata": {},
     "output_type": "display_data"
    },
    {
     "data": {
      "application/javascript": "window[\"d0989a3e-6e12-11f0-831c-0242ac1c000c\"] = google.colab.element_size.element_size.nelement.element_size.nelement.element_size.nelement();\n//# sourceURL=js_84c00ff411",
      "text/plain": [
       "<IPython.core.display.Javascript object>"
      ]
     },
     "metadata": {},
     "output_type": "display_data"
    },
    {
     "data": {
      "application/javascript": "window[\"d098c5ea-6e12-11f0-831c-0242ac1c000c\"] = window[\"d0987004-6e12-11f0-831c-0242ac1c000c\"] * window[\"d0989a3e-6e12-11f0-831c-0242ac1c000c\"];\n//# sourceURL=js_11d120a0d6",
      "text/plain": [
       "<IPython.core.display.Javascript object>"
      ]
     },
     "metadata": {},
     "output_type": "display_data"
    },
    {
     "data": {
      "application/javascript": "window[\"d098f4a2-6e12-11f0-831c-0242ac1c000c\"] = nelement.nelement.element_size.element_size.nelement.element_size.element_size();\n//# sourceURL=js_ddf481d7b8",
      "text/plain": [
       "<IPython.core.display.Javascript object>"
      ]
     },
     "metadata": {},
     "output_type": "display_data"
    },
    {
     "data": {
      "application/javascript": "window[\"d09920ee-6e12-11f0-831c-0242ac1c000c\"] = nelement.nelement.element_size.element_size.nelement.element_size.nelement();\n//# sourceURL=js_8b458a3521",
      "text/plain": [
       "<IPython.core.display.Javascript object>"
      ]
     },
     "metadata": {},
     "output_type": "display_data"
    },
    {
     "data": {
      "application/javascript": "window[\"d0995618-6e12-11f0-831c-0242ac1c000c\"] = window[\"d098f4a2-6e12-11f0-831c-0242ac1c000c\"] * window[\"d09920ee-6e12-11f0-831c-0242ac1c000c\"];\n//# sourceURL=js_614bdf40c3",
      "text/plain": [
       "<IPython.core.display.Javascript object>"
      ]
     },
     "metadata": {},
     "output_type": "display_data"
    },
    {
     "data": {
      "application/javascript": "window[\"d0997a08-6e12-11f0-831c-0242ac1c000c\"] = element_size.nelement.element_size.element_size.nelement.element_size.element_size();\n//# sourceURL=js_379364ebe9",
      "text/plain": [
       "<IPython.core.display.Javascript object>"
      ]
     },
     "metadata": {},
     "output_type": "display_data"
    },
    {
     "data": {
      "application/javascript": "window[\"d099a5be-6e12-11f0-831c-0242ac1c000c\"] = element_size.nelement.element_size.element_size.nelement.element_size.nelement();\n//# sourceURL=js_e265fb1f35",
      "text/plain": [
       "<IPython.core.display.Javascript object>"
      ]
     },
     "metadata": {},
     "output_type": "display_data"
    },
    {
     "data": {
      "application/javascript": "window[\"d099d08e-6e12-11f0-831c-0242ac1c000c\"] = window[\"d0997a08-6e12-11f0-831c-0242ac1c000c\"] * window[\"d099a5be-6e12-11f0-831c-0242ac1c000c\"];\n//# sourceURL=js_80833fefdc",
      "text/plain": [
       "<IPython.core.display.Javascript object>"
      ]
     },
     "metadata": {},
     "output_type": "display_data"
    },
    {
     "data": {
      "application/javascript": "window[\"d099fd02-6e12-11f0-831c-0242ac1c000c\"] = google.colab.nelement.nelement.element_size.element_size.nelement.element_size.element_size();\n//# sourceURL=js_e85742e780",
      "text/plain": [
       "<IPython.core.display.Javascript object>"
      ]
     },
     "metadata": {},
     "output_type": "display_data"
    },
    {
     "data": {
      "application/javascript": "window[\"d09a261a-6e12-11f0-831c-0242ac1c000c\"] = google.colab.nelement.nelement.element_size.element_size.nelement.element_size.nelement();\n//# sourceURL=js_8e49968329",
      "text/plain": [
       "<IPython.core.display.Javascript object>"
      ]
     },
     "metadata": {},
     "output_type": "display_data"
    },
    {
     "data": {
      "application/javascript": "window[\"d09a4e6a-6e12-11f0-831c-0242ac1c000c\"] = window[\"d099fd02-6e12-11f0-831c-0242ac1c000c\"] * window[\"d09a261a-6e12-11f0-831c-0242ac1c000c\"];\n//# sourceURL=js_5cd47a0ae4",
      "text/plain": [
       "<IPython.core.display.Javascript object>"
      ]
     },
     "metadata": {},
     "output_type": "display_data"
    },
    {
     "data": {
      "application/javascript": "window[\"d09a773c-6e12-11f0-831c-0242ac1c000c\"] = google.colab.element_size.nelement.element_size.element_size.nelement.element_size.element_size();\n//# sourceURL=js_f4a155a5e9",
      "text/plain": [
       "<IPython.core.display.Javascript object>"
      ]
     },
     "metadata": {},
     "output_type": "display_data"
    },
    {
     "data": {
      "application/javascript": "window[\"d09aa3c4-6e12-11f0-831c-0242ac1c000c\"] = google.colab.element_size.nelement.element_size.element_size.nelement.element_size.nelement();\n//# sourceURL=js_3a95096e60",
      "text/plain": [
       "<IPython.core.display.Javascript object>"
      ]
     },
     "metadata": {},
     "output_type": "display_data"
    },
    {
     "data": {
      "application/javascript": "window[\"d09acfb6-6e12-11f0-831c-0242ac1c000c\"] = window[\"d09a773c-6e12-11f0-831c-0242ac1c000c\"] * window[\"d09aa3c4-6e12-11f0-831c-0242ac1c000c\"];\n//# sourceURL=js_c4729e98d2",
      "text/plain": [
       "<IPython.core.display.Javascript object>"
      ]
     },
     "metadata": {},
     "output_type": "display_data"
    },
    {
     "data": {
      "application/javascript": "window[\"d09afa9a-6e12-11f0-831c-0242ac1c000c\"] = nelement.element_size.element_size.element_size.nelement.element_size.element_size();\n//# sourceURL=js_6f11b3858f",
      "text/plain": [
       "<IPython.core.display.Javascript object>"
      ]
     },
     "metadata": {},
     "output_type": "display_data"
    },
    {
     "data": {
      "application/javascript": "window[\"d09b26a0-6e12-11f0-831c-0242ac1c000c\"] = nelement.element_size.element_size.element_size.nelement.element_size.nelement();\n//# sourceURL=js_07108f03ec",
      "text/plain": [
       "<IPython.core.display.Javascript object>"
      ]
     },
     "metadata": {},
     "output_type": "display_data"
    },
    {
     "data": {
      "application/javascript": "window[\"d09b51fc-6e12-11f0-831c-0242ac1c000c\"] = window[\"d09afa9a-6e12-11f0-831c-0242ac1c000c\"] * window[\"d09b26a0-6e12-11f0-831c-0242ac1c000c\"];\n//# sourceURL=js_54c0021526",
      "text/plain": [
       "<IPython.core.display.Javascript object>"
      ]
     },
     "metadata": {},
     "output_type": "display_data"
    },
    {
     "data": {
      "application/javascript": "window[\"d09b7e8e-6e12-11f0-831c-0242ac1c000c\"] = element_size.element_size.element_size.element_size.nelement.element_size.element_size();\n//# sourceURL=js_121ba3aa04",
      "text/plain": [
       "<IPython.core.display.Javascript object>"
      ]
     },
     "metadata": {},
     "output_type": "display_data"
    },
    {
     "data": {
      "application/javascript": "window[\"d09bab16-6e12-11f0-831c-0242ac1c000c\"] = element_size.element_size.element_size.element_size.nelement.element_size.nelement();\n//# sourceURL=js_5e4292f4d9",
      "text/plain": [
       "<IPython.core.display.Javascript object>"
      ]
     },
     "metadata": {},
     "output_type": "display_data"
    },
    {
     "data": {
      "application/javascript": "window[\"d09bd9ec-6e12-11f0-831c-0242ac1c000c\"] = window[\"d09b7e8e-6e12-11f0-831c-0242ac1c000c\"] * window[\"d09bab16-6e12-11f0-831c-0242ac1c000c\"];\n//# sourceURL=js_5ecefa5828",
      "text/plain": [
       "<IPython.core.display.Javascript object>"
      ]
     },
     "metadata": {},
     "output_type": "display_data"
    },
    {
     "data": {
      "application/javascript": "window[\"d09c0714-6e12-11f0-831c-0242ac1c000c\"] = google.colab.nelement.element_size.element_size.element_size.nelement.element_size.element_size();\n//# sourceURL=js_1f0fb52288",
      "text/plain": [
       "<IPython.core.display.Javascript object>"
      ]
     },
     "metadata": {},
     "output_type": "display_data"
    },
    {
     "data": {
      "application/javascript": "window[\"d09c35fe-6e12-11f0-831c-0242ac1c000c\"] = google.colab.nelement.element_size.element_size.element_size.nelement.element_size.nelement();\n//# sourceURL=js_badba12c15",
      "text/plain": [
       "<IPython.core.display.Javascript object>"
      ]
     },
     "metadata": {},
     "output_type": "display_data"
    },
    {
     "data": {
      "application/javascript": "window[\"d09c5e80-6e12-11f0-831c-0242ac1c000c\"] = window[\"d09c0714-6e12-11f0-831c-0242ac1c000c\"] * window[\"d09c35fe-6e12-11f0-831c-0242ac1c000c\"];\n//# sourceURL=js_a2d50bfebc",
      "text/plain": [
       "<IPython.core.display.Javascript object>"
      ]
     },
     "metadata": {},
     "output_type": "display_data"
    },
    {
     "data": {
      "application/javascript": "window[\"d09c8b30-6e12-11f0-831c-0242ac1c000c\"] = google.colab.element_size.element_size.element_size.element_size.nelement.element_size.element_size();\n//# sourceURL=js_ab182740f7",
      "text/plain": [
       "<IPython.core.display.Javascript object>"
      ]
     },
     "metadata": {},
     "output_type": "display_data"
    },
    {
     "data": {
      "application/javascript": "window[\"d09cb8bc-6e12-11f0-831c-0242ac1c000c\"] = google.colab.element_size.element_size.element_size.element_size.nelement.element_size.nelement();\n//# sourceURL=js_79b5ad3295",
      "text/plain": [
       "<IPython.core.display.Javascript object>"
      ]
     },
     "metadata": {},
     "output_type": "display_data"
    },
    {
     "data": {
      "application/javascript": "window[\"d09cedd2-6e12-11f0-831c-0242ac1c000c\"] = window[\"d09c8b30-6e12-11f0-831c-0242ac1c000c\"] * window[\"d09cb8bc-6e12-11f0-831c-0242ac1c000c\"];\n//# sourceURL=js_7377fb9a02",
      "text/plain": [
       "<IPython.core.display.Javascript object>"
      ]
     },
     "metadata": {},
     "output_type": "display_data"
    },
    {
     "data": {
      "application/javascript": "window[\"d09d1a96-6e12-11f0-831c-0242ac1c000c\"] = nelement.nelement.nelement.nelement.element_size.element_size.element_size();\n//# sourceURL=js_fb9b60f37c",
      "text/plain": [
       "<IPython.core.display.Javascript object>"
      ]
     },
     "metadata": {},
     "output_type": "display_data"
    },
    {
     "data": {
      "application/javascript": "window[\"d09d4296-6e12-11f0-831c-0242ac1c000c\"] = nelement.nelement.nelement.nelement.element_size.element_size.nelement();\n//# sourceURL=js_e63c90eae6",
      "text/plain": [
       "<IPython.core.display.Javascript object>"
      ]
     },
     "metadata": {},
     "output_type": "display_data"
    },
    {
     "data": {
      "application/javascript": "window[\"d09d6d02-6e12-11f0-831c-0242ac1c000c\"] = window[\"d09d1a96-6e12-11f0-831c-0242ac1c000c\"] * window[\"d09d4296-6e12-11f0-831c-0242ac1c000c\"];\n//# sourceURL=js_f7c4975460",
      "text/plain": [
       "<IPython.core.display.Javascript object>"
      ]
     },
     "metadata": {},
     "output_type": "display_data"
    },
    {
     "data": {
      "application/javascript": "window[\"d09d99b2-6e12-11f0-831c-0242ac1c000c\"] = element_size.nelement.nelement.nelement.element_size.element_size.element_size();\n//# sourceURL=js_163ed927c6",
      "text/plain": [
       "<IPython.core.display.Javascript object>"
      ]
     },
     "metadata": {},
     "output_type": "display_data"
    },
    {
     "data": {
      "application/javascript": "window[\"d09dc734-6e12-11f0-831c-0242ac1c000c\"] = element_size.nelement.nelement.nelement.element_size.element_size.nelement();\n//# sourceURL=js_2fcf9cc370",
      "text/plain": [
       "<IPython.core.display.Javascript object>"
      ]
     },
     "metadata": {},
     "output_type": "display_data"
    },
    {
     "data": {
      "application/javascript": "window[\"d09df434-6e12-11f0-831c-0242ac1c000c\"] = window[\"d09d99b2-6e12-11f0-831c-0242ac1c000c\"] * window[\"d09dc734-6e12-11f0-831c-0242ac1c000c\"];\n//# sourceURL=js_7338614439",
      "text/plain": [
       "<IPython.core.display.Javascript object>"
      ]
     },
     "metadata": {},
     "output_type": "display_data"
    },
    {
     "data": {
      "application/javascript": "window[\"d09e1ffe-6e12-11f0-831c-0242ac1c000c\"] = google.colab.nelement.nelement.nelement.nelement.element_size.element_size.element_size();\n//# sourceURL=js_89d56793fe",
      "text/plain": [
       "<IPython.core.display.Javascript object>"
      ]
     },
     "metadata": {},
     "output_type": "display_data"
    },
    {
     "data": {
      "application/javascript": "window[\"d09e4808-6e12-11f0-831c-0242ac1c000c\"] = google.colab.nelement.nelement.nelement.nelement.element_size.element_size.nelement();\n//# sourceURL=js_e419aaf673",
      "text/plain": [
       "<IPython.core.display.Javascript object>"
      ]
     },
     "metadata": {},
     "output_type": "display_data"
    },
    {
     "data": {
      "application/javascript": "window[\"d09e7d6e-6e12-11f0-831c-0242ac1c000c\"] = window[\"d09e1ffe-6e12-11f0-831c-0242ac1c000c\"] * window[\"d09e4808-6e12-11f0-831c-0242ac1c000c\"];\n//# sourceURL=js_8f61c96fce",
      "text/plain": [
       "<IPython.core.display.Javascript object>"
      ]
     },
     "metadata": {},
     "output_type": "display_data"
    },
    {
     "data": {
      "application/javascript": "window[\"d09ea816-6e12-11f0-831c-0242ac1c000c\"] = google.colab.element_size.nelement.nelement.nelement.element_size.element_size.element_size();\n//# sourceURL=js_368fbac5cc",
      "text/plain": [
       "<IPython.core.display.Javascript object>"
      ]
     },
     "metadata": {},
     "output_type": "display_data"
    },
    {
     "data": {
      "application/javascript": "window[\"d09ed4bc-6e12-11f0-831c-0242ac1c000c\"] = google.colab.element_size.nelement.nelement.nelement.element_size.element_size.nelement();\n//# sourceURL=js_3c2e438fe6",
      "text/plain": [
       "<IPython.core.display.Javascript object>"
      ]
     },
     "metadata": {},
     "output_type": "display_data"
    },
    {
     "data": {
      "application/javascript": "window[\"d09efb86-6e12-11f0-831c-0242ac1c000c\"] = window[\"d09ea816-6e12-11f0-831c-0242ac1c000c\"] * window[\"d09ed4bc-6e12-11f0-831c-0242ac1c000c\"];\n//# sourceURL=js_35fb228666",
      "text/plain": [
       "<IPython.core.display.Javascript object>"
      ]
     },
     "metadata": {},
     "output_type": "display_data"
    },
    {
     "data": {
      "application/javascript": "window[\"d09f368c-6e12-11f0-831c-0242ac1c000c\"] = nelement.element_size.nelement.nelement.element_size.element_size.element_size();\n//# sourceURL=js_69bb676345",
      "text/plain": [
       "<IPython.core.display.Javascript object>"
      ]
     },
     "metadata": {},
     "output_type": "display_data"
    },
    {
     "data": {
      "application/javascript": "window[\"d09f601c-6e12-11f0-831c-0242ac1c000c\"] = nelement.element_size.nelement.nelement.element_size.element_size.nelement();\n//# sourceURL=js_12d8ef08fb",
      "text/plain": [
       "<IPython.core.display.Javascript object>"
      ]
     },
     "metadata": {},
     "output_type": "display_data"
    },
    {
     "data": {
      "application/javascript": "window[\"d09f8e2a-6e12-11f0-831c-0242ac1c000c\"] = window[\"d09f368c-6e12-11f0-831c-0242ac1c000c\"] * window[\"d09f601c-6e12-11f0-831c-0242ac1c000c\"];\n//# sourceURL=js_ed98341256",
      "text/plain": [
       "<IPython.core.display.Javascript object>"
      ]
     },
     "metadata": {},
     "output_type": "display_data"
    },
    {
     "data": {
      "application/javascript": "window[\"d09fb634-6e12-11f0-831c-0242ac1c000c\"] = element_size.element_size.nelement.nelement.element_size.element_size.element_size();\n//# sourceURL=js_6dc4c3b9a5",
      "text/plain": [
       "<IPython.core.display.Javascript object>"
      ]
     },
     "metadata": {},
     "output_type": "display_data"
    },
    {
     "data": {
      "application/javascript": "window[\"d09fde0c-6e12-11f0-831c-0242ac1c000c\"] = element_size.element_size.nelement.nelement.element_size.element_size.nelement();\n//# sourceURL=js_42fb4c5f02",
      "text/plain": [
       "<IPython.core.display.Javascript object>"
      ]
     },
     "metadata": {},
     "output_type": "display_data"
    },
    {
     "data": {
      "application/javascript": "window[\"d0a01520-6e12-11f0-831c-0242ac1c000c\"] = window[\"d09fb634-6e12-11f0-831c-0242ac1c000c\"] * window[\"d09fde0c-6e12-11f0-831c-0242ac1c000c\"];\n//# sourceURL=js_fdabcdaf15",
      "text/plain": [
       "<IPython.core.display.Javascript object>"
      ]
     },
     "metadata": {},
     "output_type": "display_data"
    },
    {
     "data": {
      "application/javascript": "window[\"d0a04342-6e12-11f0-831c-0242ac1c000c\"] = google.colab.nelement.element_size.nelement.nelement.element_size.element_size.element_size();\n//# sourceURL=js_a0868b5faf",
      "text/plain": [
       "<IPython.core.display.Javascript object>"
      ]
     },
     "metadata": {},
     "output_type": "display_data"
    },
    {
     "data": {
      "application/javascript": "window[\"d0a06d18-6e12-11f0-831c-0242ac1c000c\"] = google.colab.nelement.element_size.nelement.nelement.element_size.element_size.nelement();\n//# sourceURL=js_c68951317a",
      "text/plain": [
       "<IPython.core.display.Javascript object>"
      ]
     },
     "metadata": {},
     "output_type": "display_data"
    },
    {
     "data": {
      "application/javascript": "window[\"d0a093c4-6e12-11f0-831c-0242ac1c000c\"] = window[\"d0a04342-6e12-11f0-831c-0242ac1c000c\"] * window[\"d0a06d18-6e12-11f0-831c-0242ac1c000c\"];\n//# sourceURL=js_33f2775152",
      "text/plain": [
       "<IPython.core.display.Javascript object>"
      ]
     },
     "metadata": {},
     "output_type": "display_data"
    },
    {
     "data": {
      "application/javascript": "window[\"d0a0c542-6e12-11f0-831c-0242ac1c000c\"] = google.colab.element_size.element_size.nelement.nelement.element_size.element_size.element_size();\n//# sourceURL=js_987de9d0d5",
      "text/plain": [
       "<IPython.core.display.Javascript object>"
      ]
     },
     "metadata": {},
     "output_type": "display_data"
    },
    {
     "data": {
      "application/javascript": "window[\"d0a0f184-6e12-11f0-831c-0242ac1c000c\"] = google.colab.element_size.element_size.nelement.nelement.element_size.element_size.nelement();\n//# sourceURL=js_8d121f4759",
      "text/plain": [
       "<IPython.core.display.Javascript object>"
      ]
     },
     "metadata": {},
     "output_type": "display_data"
    },
    {
     "data": {
      "application/javascript": "window[\"d0a12280-6e12-11f0-831c-0242ac1c000c\"] = window[\"d0a0c542-6e12-11f0-831c-0242ac1c000c\"] * window[\"d0a0f184-6e12-11f0-831c-0242ac1c000c\"];\n//# sourceURL=js_c5bbbc1fa3",
      "text/plain": [
       "<IPython.core.display.Javascript object>"
      ]
     },
     "metadata": {},
     "output_type": "display_data"
    },
    {
     "data": {
      "application/javascript": "window[\"d0a14db4-6e12-11f0-831c-0242ac1c000c\"] = nelement.nelement.element_size.nelement.element_size.element_size.element_size();\n//# sourceURL=js_df8ff1021e",
      "text/plain": [
       "<IPython.core.display.Javascript object>"
      ]
     },
     "metadata": {},
     "output_type": "display_data"
    },
    {
     "data": {
      "application/javascript": "window[\"d0a17df2-6e12-11f0-831c-0242ac1c000c\"] = nelement.nelement.element_size.nelement.element_size.element_size.nelement();\n//# sourceURL=js_5d9e66d49d",
      "text/plain": [
       "<IPython.core.display.Javascript object>"
      ]
     },
     "metadata": {},
     "output_type": "display_data"
    },
    {
     "data": {
      "application/javascript": "window[\"d0a1a5ca-6e12-11f0-831c-0242ac1c000c\"] = window[\"d0a14db4-6e12-11f0-831c-0242ac1c000c\"] * window[\"d0a17df2-6e12-11f0-831c-0242ac1c000c\"];\n//# sourceURL=js_0c5833938f",
      "text/plain": [
       "<IPython.core.display.Javascript object>"
      ]
     },
     "metadata": {},
     "output_type": "display_data"
    },
    {
     "data": {
      "application/javascript": "window[\"d0a1f7b4-6e12-11f0-831c-0242ac1c000c\"] = element_size.nelement.element_size.nelement.element_size.element_size.element_size();\n//# sourceURL=js_2b56fe6959",
      "text/plain": [
       "<IPython.core.display.Javascript object>"
      ]
     },
     "metadata": {},
     "output_type": "display_data"
    },
    {
     "data": {
      "application/javascript": "window[\"d0a22914-6e12-11f0-831c-0242ac1c000c\"] = element_size.nelement.element_size.nelement.element_size.element_size.nelement();\n//# sourceURL=js_af1814d530",
      "text/plain": [
       "<IPython.core.display.Javascript object>"
      ]
     },
     "metadata": {},
     "output_type": "display_data"
    },
    {
     "data": {
      "application/javascript": "window[\"d0a2574a-6e12-11f0-831c-0242ac1c000c\"] = window[\"d0a1f7b4-6e12-11f0-831c-0242ac1c000c\"] * window[\"d0a22914-6e12-11f0-831c-0242ac1c000c\"];\n//# sourceURL=js_795a6ad565",
      "text/plain": [
       "<IPython.core.display.Javascript object>"
      ]
     },
     "metadata": {},
     "output_type": "display_data"
    },
    {
     "data": {
      "application/javascript": "window[\"d0a280f8-6e12-11f0-831c-0242ac1c000c\"] = google.colab.nelement.nelement.element_size.nelement.element_size.element_size.element_size();\n//# sourceURL=js_9bfa610274",
      "text/plain": [
       "<IPython.core.display.Javascript object>"
      ]
     },
     "metadata": {},
     "output_type": "display_data"
    },
    {
     "data": {
      "application/javascript": "window[\"d0a2abb4-6e12-11f0-831c-0242ac1c000c\"] = google.colab.nelement.nelement.element_size.nelement.element_size.element_size.nelement();\n//# sourceURL=js_cd1af61d87",
      "text/plain": [
       "<IPython.core.display.Javascript object>"
      ]
     },
     "metadata": {},
     "output_type": "display_data"
    },
    {
     "data": {
      "application/javascript": "window[\"d0a2d594-6e12-11f0-831c-0242ac1c000c\"] = window[\"d0a280f8-6e12-11f0-831c-0242ac1c000c\"] * window[\"d0a2abb4-6e12-11f0-831c-0242ac1c000c\"];\n//# sourceURL=js_b5b3dccca2",
      "text/plain": [
       "<IPython.core.display.Javascript object>"
      ]
     },
     "metadata": {},
     "output_type": "display_data"
    },
    {
     "data": {
      "application/javascript": "window[\"d0a3047e-6e12-11f0-831c-0242ac1c000c\"] = google.colab.element_size.nelement.element_size.nelement.element_size.element_size.element_size();\n//# sourceURL=js_e323ce709f",
      "text/plain": [
       "<IPython.core.display.Javascript object>"
      ]
     },
     "metadata": {},
     "output_type": "display_data"
    },
    {
     "data": {
      "application/javascript": "window[\"d0a33584-6e12-11f0-831c-0242ac1c000c\"] = google.colab.element_size.nelement.element_size.nelement.element_size.element_size.nelement();\n//# sourceURL=js_8973061c65",
      "text/plain": [
       "<IPython.core.display.Javascript object>"
      ]
     },
     "metadata": {},
     "output_type": "display_data"
    },
    {
     "data": {
      "application/javascript": "window[\"d0a36414-6e12-11f0-831c-0242ac1c000c\"] = window[\"d0a3047e-6e12-11f0-831c-0242ac1c000c\"] * window[\"d0a33584-6e12-11f0-831c-0242ac1c000c\"];\n//# sourceURL=js_bc7dc06cff",
      "text/plain": [
       "<IPython.core.display.Javascript object>"
      ]
     },
     "metadata": {},
     "output_type": "display_data"
    },
    {
     "data": {
      "application/javascript": "window[\"d0a38692-6e12-11f0-831c-0242ac1c000c\"] = nelement.element_size.element_size.nelement.element_size.element_size.element_size();\n//# sourceURL=js_41303ae5e6",
      "text/plain": [
       "<IPython.core.display.Javascript object>"
      ]
     },
     "metadata": {},
     "output_type": "display_data"
    },
    {
     "data": {
      "application/javascript": "window[\"d0a3a834-6e12-11f0-831c-0242ac1c000c\"] = nelement.element_size.element_size.nelement.element_size.element_size.nelement();\n//# sourceURL=js_4a7206ac3c",
      "text/plain": [
       "<IPython.core.display.Javascript object>"
      ]
     },
     "metadata": {},
     "output_type": "display_data"
    },
    {
     "data": {
      "application/javascript": "window[\"d0a3d156-6e12-11f0-831c-0242ac1c000c\"] = window[\"d0a38692-6e12-11f0-831c-0242ac1c000c\"] * window[\"d0a3a834-6e12-11f0-831c-0242ac1c000c\"];\n//# sourceURL=js_be1ca66cdf",
      "text/plain": [
       "<IPython.core.display.Javascript object>"
      ]
     },
     "metadata": {},
     "output_type": "display_data"
    },
    {
     "data": {
      "application/javascript": "window[\"d0a3ff32-6e12-11f0-831c-0242ac1c000c\"] = element_size.element_size.element_size.nelement.element_size.element_size.element_size();\n//# sourceURL=js_faef69819e",
      "text/plain": [
       "<IPython.core.display.Javascript object>"
      ]
     },
     "metadata": {},
     "output_type": "display_data"
    },
    {
     "data": {
      "application/javascript": "window[\"d0a427aa-6e12-11f0-831c-0242ac1c000c\"] = element_size.element_size.element_size.nelement.element_size.element_size.nelement();\n//# sourceURL=js_669861a91d",
      "text/plain": [
       "<IPython.core.display.Javascript object>"
      ]
     },
     "metadata": {},
     "output_type": "display_data"
    },
    {
     "data": {
      "application/javascript": "window[\"d0a4582e-6e12-11f0-831c-0242ac1c000c\"] = window[\"d0a3ff32-6e12-11f0-831c-0242ac1c000c\"] * window[\"d0a427aa-6e12-11f0-831c-0242ac1c000c\"];\n//# sourceURL=js_cf3a08e2ce",
      "text/plain": [
       "<IPython.core.display.Javascript object>"
      ]
     },
     "metadata": {},
     "output_type": "display_data"
    },
    {
     "data": {
      "application/javascript": "window[\"d0a6f0fc-6e12-11f0-831c-0242ac1c000c\"] = google.colab.nelement.element_size.element_size.nelement.element_size.element_size.element_size();\n//# sourceURL=js_b3b0a668df",
      "text/plain": [
       "<IPython.core.display.Javascript object>"
      ]
     },
     "metadata": {},
     "output_type": "display_data"
    },
    {
     "data": {
      "application/javascript": "window[\"d0a70eca-6e12-11f0-831c-0242ac1c000c\"] = google.colab.nelement.element_size.element_size.nelement.element_size.element_size.nelement();\n//# sourceURL=js_2a91a63452",
      "text/plain": [
       "<IPython.core.display.Javascript object>"
      ]
     },
     "metadata": {},
     "output_type": "display_data"
    },
    {
     "data": {
      "application/javascript": "window[\"d0a73daa-6e12-11f0-831c-0242ac1c000c\"] = window[\"d0a6f0fc-6e12-11f0-831c-0242ac1c000c\"] * window[\"d0a70eca-6e12-11f0-831c-0242ac1c000c\"];\n//# sourceURL=js_e4823bc81a",
      "text/plain": [
       "<IPython.core.display.Javascript object>"
      ]
     },
     "metadata": {},
     "output_type": "display_data"
    },
    {
     "data": {
      "application/javascript": "window[\"d0a765a0-6e12-11f0-831c-0242ac1c000c\"] = google.colab.nelement.element_size.element_size.nelement.element_size.nelement.element_size();\n//# sourceURL=js_6d828a1a94",
      "text/plain": [
       "<IPython.core.display.Javascript object>"
      ]
     },
     "metadata": {},
     "output_type": "display_data"
    },
    {
     "data": {
      "application/javascript": "window[\"d0a7967e-6e12-11f0-831c-0242ac1c000c\"] = google.colab.nelement.element_size.element_size.nelement.element_size.nelement.nelement();\n//# sourceURL=js_a7d0ed795a",
      "text/plain": [
       "<IPython.core.display.Javascript object>"
      ]
     },
     "metadata": {},
     "output_type": "display_data"
    },
    {
     "data": {
      "application/javascript": "window[\"d0a7bcda-6e12-11f0-831c-0242ac1c000c\"] = window[\"d0a765a0-6e12-11f0-831c-0242ac1c000c\"] * window[\"d0a7967e-6e12-11f0-831c-0242ac1c000c\"];\n//# sourceURL=js_9ae9d46b36",
      "text/plain": [
       "<IPython.core.display.Javascript object>"
      ]
     },
     "metadata": {},
     "output_type": "display_data"
    },
    {
     "data": {
      "application/javascript": "window[\"d0a7e930-6e12-11f0-831c-0242ac1c000c\"] = google.colab.element_size.element_size.element_size.nelement.element_size.element_size.element_size();\n//# sourceURL=js_e3dbc559f0",
      "text/plain": [
       "<IPython.core.display.Javascript object>"
      ]
     },
     "metadata": {},
     "output_type": "display_data"
    },
    {
     "data": {
      "application/javascript": "window[\"d0a810d6-6e12-11f0-831c-0242ac1c000c\"] = google.colab.element_size.element_size.element_size.nelement.element_size.element_size.nelement();\n//# sourceURL=js_95d4681b63",
      "text/plain": [
       "<IPython.core.display.Javascript object>"
      ]
     },
     "metadata": {},
     "output_type": "display_data"
    },
    {
     "data": {
      "application/javascript": "window[\"d0a83584-6e12-11f0-831c-0242ac1c000c\"] = window[\"d0a7e930-6e12-11f0-831c-0242ac1c000c\"] * window[\"d0a810d6-6e12-11f0-831c-0242ac1c000c\"];\n//# sourceURL=js_897b1a9b03",
      "text/plain": [
       "<IPython.core.display.Javascript object>"
      ]
     },
     "metadata": {},
     "output_type": "display_data"
    },
    {
     "data": {
      "application/javascript": "window[\"d0a861f8-6e12-11f0-831c-0242ac1c000c\"] = google.colab.element_size.element_size.element_size.nelement.element_size.nelement.element_size();\n//# sourceURL=js_c7ec561a2b",
      "text/plain": [
       "<IPython.core.display.Javascript object>"
      ]
     },
     "metadata": {},
     "output_type": "display_data"
    },
    {
     "data": {
      "application/javascript": "window[\"d0a88d4a-6e12-11f0-831c-0242ac1c000c\"] = google.colab.element_size.element_size.element_size.nelement.element_size.nelement.nelement();\n//# sourceURL=js_050137ceb4",
      "text/plain": [
       "<IPython.core.display.Javascript object>"
      ]
     },
     "metadata": {},
     "output_type": "display_data"
    },
    {
     "data": {
      "application/javascript": "window[\"d0a8b3f6-6e12-11f0-831c-0242ac1c000c\"] = window[\"d0a861f8-6e12-11f0-831c-0242ac1c000c\"] * window[\"d0a88d4a-6e12-11f0-831c-0242ac1c000c\"];\n//# sourceURL=js_fd34eead48",
      "text/plain": [
       "<IPython.core.display.Javascript object>"
      ]
     },
     "metadata": {},
     "output_type": "display_data"
    },
    {
     "data": {
      "application/javascript": "window[\"d0a8d566-6e12-11f0-831c-0242ac1c000c\"] = nelement.nelement.nelement.element_size.element_size.element_size.element_size();\n//# sourceURL=js_f4ce263e82",
      "text/plain": [
       "<IPython.core.display.Javascript object>"
      ]
     },
     "metadata": {},
     "output_type": "display_data"
    },
    {
     "data": {
      "application/javascript": "window[\"d0a90248-6e12-11f0-831c-0242ac1c000c\"] = nelement.nelement.nelement.element_size.element_size.element_size.nelement();\n//# sourceURL=js_a66c98d42a",
      "text/plain": [
       "<IPython.core.display.Javascript object>"
      ]
     },
     "metadata": {},
     "output_type": "display_data"
    },
    {
     "data": {
      "application/javascript": "window[\"d0a9293a-6e12-11f0-831c-0242ac1c000c\"] = window[\"d0a8d566-6e12-11f0-831c-0242ac1c000c\"] * window[\"d0a90248-6e12-11f0-831c-0242ac1c000c\"];\n//# sourceURL=js_f440a3e24c",
      "text/plain": [
       "<IPython.core.display.Javascript object>"
      ]
     },
     "metadata": {},
     "output_type": "display_data"
    },
    {
     "data": {
      "application/javascript": "window[\"d0a94d8e-6e12-11f0-831c-0242ac1c000c\"] = nelement.nelement.nelement.element_size.element_size.nelement.element_size();\n//# sourceURL=js_8adcc8e42a",
      "text/plain": [
       "<IPython.core.display.Javascript object>"
      ]
     },
     "metadata": {},
     "output_type": "display_data"
    },
    {
     "data": {
      "application/javascript": "window[\"d0a97a2a-6e12-11f0-831c-0242ac1c000c\"] = nelement.nelement.nelement.element_size.element_size.nelement.nelement();\n//# sourceURL=js_92e4dc3be1",
      "text/plain": [
       "<IPython.core.display.Javascript object>"
      ]
     },
     "metadata": {},
     "output_type": "display_data"
    },
    {
     "data": {
      "application/javascript": "window[\"d0a9a0a4-6e12-11f0-831c-0242ac1c000c\"] = window[\"d0a94d8e-6e12-11f0-831c-0242ac1c000c\"] * window[\"d0a97a2a-6e12-11f0-831c-0242ac1c000c\"];\n//# sourceURL=js_7d30a7c19c",
      "text/plain": [
       "<IPython.core.display.Javascript object>"
      ]
     },
     "metadata": {},
     "output_type": "display_data"
    },
    {
     "data": {
      "application/javascript": "window[\"d0a9c458-6e12-11f0-831c-0242ac1c000c\"] = element_size.nelement.nelement.element_size.element_size.element_size.element_size();\n//# sourceURL=js_11bd8b6ad9",
      "text/plain": [
       "<IPython.core.display.Javascript object>"
      ]
     },
     "metadata": {},
     "output_type": "display_data"
    },
    {
     "data": {
      "application/javascript": "window[\"d0a9f004-6e12-11f0-831c-0242ac1c000c\"] = element_size.nelement.nelement.element_size.element_size.element_size.nelement();\n//# sourceURL=js_5a7433258a",
      "text/plain": [
       "<IPython.core.display.Javascript object>"
      ]
     },
     "metadata": {},
     "output_type": "display_data"
    },
    {
     "data": {
      "application/javascript": "window[\"d0aa18ae-6e12-11f0-831c-0242ac1c000c\"] = window[\"d0a9c458-6e12-11f0-831c-0242ac1c000c\"] * window[\"d0a9f004-6e12-11f0-831c-0242ac1c000c\"];\n//# sourceURL=js_785e93a301",
      "text/plain": [
       "<IPython.core.display.Javascript object>"
      ]
     },
     "metadata": {},
     "output_type": "display_data"
    },
    {
     "data": {
      "application/javascript": "window[\"d0aa43ce-6e12-11f0-831c-0242ac1c000c\"] = element_size.nelement.nelement.element_size.element_size.nelement.element_size();\n//# sourceURL=js_f8e3defb0a",
      "text/plain": [
       "<IPython.core.display.Javascript object>"
      ]
     },
     "metadata": {},
     "output_type": "display_data"
    },
    {
     "data": {
      "application/javascript": "window[\"d0aa66c4-6e12-11f0-831c-0242ac1c000c\"] = element_size.nelement.nelement.element_size.element_size.nelement.nelement();\n//# sourceURL=js_8b62636e7f",
      "text/plain": [
       "<IPython.core.display.Javascript object>"
      ]
     },
     "metadata": {},
     "output_type": "display_data"
    },
    {
     "data": {
      "application/javascript": "window[\"d0aa9478-6e12-11f0-831c-0242ac1c000c\"] = window[\"d0aa43ce-6e12-11f0-831c-0242ac1c000c\"] * window[\"d0aa66c4-6e12-11f0-831c-0242ac1c000c\"];\n//# sourceURL=js_9f5b3d2679",
      "text/plain": [
       "<IPython.core.display.Javascript object>"
      ]
     },
     "metadata": {},
     "output_type": "display_data"
    },
    {
     "data": {
      "application/javascript": "window[\"d0aab75a-6e12-11f0-831c-0242ac1c000c\"] = google.colab.nelement.nelement.nelement.element_size.element_size.element_size.element_size();\n//# sourceURL=js_9dd4feb28a",
      "text/plain": [
       "<IPython.core.display.Javascript object>"
      ]
     },
     "metadata": {},
     "output_type": "display_data"
    },
    {
     "data": {
      "application/javascript": "window[\"d0aae3e2-6e12-11f0-831c-0242ac1c000c\"] = google.colab.nelement.nelement.nelement.element_size.element_size.element_size.nelement();\n//# sourceURL=js_cf545b49eb",
      "text/plain": [
       "<IPython.core.display.Javascript object>"
      ]
     },
     "metadata": {},
     "output_type": "display_data"
    },
    {
     "data": {
      "application/javascript": "window[\"d0ab078c-6e12-11f0-831c-0242ac1c000c\"] = window[\"d0aab75a-6e12-11f0-831c-0242ac1c000c\"] * window[\"d0aae3e2-6e12-11f0-831c-0242ac1c000c\"];\n//# sourceURL=js_52a831a3c5",
      "text/plain": [
       "<IPython.core.display.Javascript object>"
      ]
     },
     "metadata": {},
     "output_type": "display_data"
    },
    {
     "data": {
      "application/javascript": "window[\"d0ab33b0-6e12-11f0-831c-0242ac1c000c\"] = google.colab.nelement.nelement.nelement.element_size.element_size.nelement.element_size();\n//# sourceURL=js_b2b62c166d",
      "text/plain": [
       "<IPython.core.display.Javascript object>"
      ]
     },
     "metadata": {},
     "output_type": "display_data"
    },
    {
     "data": {
      "application/javascript": "window[\"d0ab5782-6e12-11f0-831c-0242ac1c000c\"] = google.colab.nelement.nelement.nelement.element_size.element_size.nelement.nelement();\n//# sourceURL=js_74f9653935",
      "text/plain": [
       "<IPython.core.display.Javascript object>"
      ]
     },
     "metadata": {},
     "output_type": "display_data"
    },
    {
     "data": {
      "application/javascript": "window[\"d0ab872a-6e12-11f0-831c-0242ac1c000c\"] = window[\"d0ab33b0-6e12-11f0-831c-0242ac1c000c\"] * window[\"d0ab5782-6e12-11f0-831c-0242ac1c000c\"];\n//# sourceURL=js_6bab0fb042",
      "text/plain": [
       "<IPython.core.display.Javascript object>"
      ]
     },
     "metadata": {},
     "output_type": "display_data"
    },
    {
     "data": {
      "application/javascript": "window[\"d0aba908-6e12-11f0-831c-0242ac1c000c\"] = google.colab.element_size.nelement.nelement.element_size.element_size.element_size.element_size();\n//# sourceURL=js_52795aa967",
      "text/plain": [
       "<IPython.core.display.Javascript object>"
      ]
     },
     "metadata": {},
     "output_type": "display_data"
    },
    {
     "data": {
      "application/javascript": "window[\"d0abd7ac-6e12-11f0-831c-0242ac1c000c\"] = google.colab.element_size.nelement.nelement.element_size.element_size.element_size.nelement();\n//# sourceURL=js_3dba20e1a2",
      "text/plain": [
       "<IPython.core.display.Javascript object>"
      ]
     },
     "metadata": {},
     "output_type": "display_data"
    },
    {
     "data": {
      "application/javascript": "window[\"d0ac0006-6e12-11f0-831c-0242ac1c000c\"] = window[\"d0aba908-6e12-11f0-831c-0242ac1c000c\"] * window[\"d0abd7ac-6e12-11f0-831c-0242ac1c000c\"];\n//# sourceURL=js_b04aa8abd3",
      "text/plain": [
       "<IPython.core.display.Javascript object>"
      ]
     },
     "metadata": {},
     "output_type": "display_data"
    },
    {
     "data": {
      "application/javascript": "window[\"d0ac22c0-6e12-11f0-831c-0242ac1c000c\"] = google.colab.element_size.nelement.nelement.element_size.element_size.nelement.element_size();\n//# sourceURL=js_394c29d889",
      "text/plain": [
       "<IPython.core.display.Javascript object>"
      ]
     },
     "metadata": {},
     "output_type": "display_data"
    },
    {
     "data": {
      "application/javascript": "window[\"d0ac4e9e-6e12-11f0-831c-0242ac1c000c\"] = google.colab.element_size.nelement.nelement.element_size.element_size.nelement.nelement();\n//# sourceURL=js_3f28b8ceb8",
      "text/plain": [
       "<IPython.core.display.Javascript object>"
      ]
     },
     "metadata": {},
     "output_type": "display_data"
    },
    {
     "data": {
      "application/javascript": "window[\"d0ac7590-6e12-11f0-831c-0242ac1c000c\"] = window[\"d0ac22c0-6e12-11f0-831c-0242ac1c000c\"] * window[\"d0ac4e9e-6e12-11f0-831c-0242ac1c000c\"];\n//# sourceURL=js_3df4901655",
      "text/plain": [
       "<IPython.core.display.Javascript object>"
      ]
     },
     "metadata": {},
     "output_type": "display_data"
    },
    {
     "data": {
      "application/javascript": "window[\"d0ac9ad4-6e12-11f0-831c-0242ac1c000c\"] = nelement.element_size.nelement.element_size.element_size.element_size.element_size();\n//# sourceURL=js_6cb410279e",
      "text/plain": [
       "<IPython.core.display.Javascript object>"
      ]
     },
     "metadata": {},
     "output_type": "display_data"
    },
    {
     "data": {
      "application/javascript": "window[\"d0acbdca-6e12-11f0-831c-0242ac1c000c\"] = nelement.element_size.nelement.element_size.element_size.element_size.nelement();\n//# sourceURL=js_c37f27daae",
      "text/plain": [
       "<IPython.core.display.Javascript object>"
      ]
     },
     "metadata": {},
     "output_type": "display_data"
    },
    {
     "data": {
      "application/javascript": "window[\"d0aceb1a-6e12-11f0-831c-0242ac1c000c\"] = window[\"d0ac9ad4-6e12-11f0-831c-0242ac1c000c\"] * window[\"d0acbdca-6e12-11f0-831c-0242ac1c000c\"];\n//# sourceURL=js_23beff0dc5",
      "text/plain": [
       "<IPython.core.display.Javascript object>"
      ]
     },
     "metadata": {},
     "output_type": "display_data"
    },
    {
     "data": {
      "application/javascript": "window[\"d0ad123e-6e12-11f0-831c-0242ac1c000c\"] = nelement.element_size.nelement.element_size.element_size.nelement.element_size();\n//# sourceURL=js_0248a4100e",
      "text/plain": [
       "<IPython.core.display.Javascript object>"
      ]
     },
     "metadata": {},
     "output_type": "display_data"
    },
    {
     "data": {
      "application/javascript": "window[\"d0ad3548-6e12-11f0-831c-0242ac1c000c\"] = nelement.element_size.nelement.element_size.element_size.nelement.nelement();\n//# sourceURL=js_c714b3f869",
      "text/plain": [
       "<IPython.core.display.Javascript object>"
      ]
     },
     "metadata": {},
     "output_type": "display_data"
    },
    {
     "data": {
      "application/javascript": "window[\"d0ad62ca-6e12-11f0-831c-0242ac1c000c\"] = window[\"d0ad123e-6e12-11f0-831c-0242ac1c000c\"] * window[\"d0ad3548-6e12-11f0-831c-0242ac1c000c\"];\n//# sourceURL=js_839befef26",
      "text/plain": [
       "<IPython.core.display.Javascript object>"
      ]
     },
     "metadata": {},
     "output_type": "display_data"
    },
    {
     "data": {
      "application/javascript": "window[\"d0ad85fc-6e12-11f0-831c-0242ac1c000c\"] = element_size.element_size.nelement.element_size.element_size.element_size.element_size();\n//# sourceURL=js_15202975cb",
      "text/plain": [
       "<IPython.core.display.Javascript object>"
      ]
     },
     "metadata": {},
     "output_type": "display_data"
    },
    {
     "data": {
      "application/javascript": "window[\"d0adb248-6e12-11f0-831c-0242ac1c000c\"] = element_size.element_size.nelement.element_size.element_size.element_size.nelement();\n//# sourceURL=js_77cbb31849",
      "text/plain": [
       "<IPython.core.display.Javascript object>"
      ]
     },
     "metadata": {},
     "output_type": "display_data"
    },
    {
     "data": {
      "application/javascript": "window[\"d0add8ea-6e12-11f0-831c-0242ac1c000c\"] = window[\"d0ad85fc-6e12-11f0-831c-0242ac1c000c\"] * window[\"d0adb248-6e12-11f0-831c-0242ac1c000c\"];\n//# sourceURL=js_2cb6974261",
      "text/plain": [
       "<IPython.core.display.Javascript object>"
      ]
     },
     "metadata": {},
     "output_type": "display_data"
    },
    {
     "data": {
      "application/javascript": "window[\"d0adfc26-6e12-11f0-831c-0242ac1c000c\"] = element_size.element_size.nelement.element_size.element_size.nelement.element_size();\n//# sourceURL=js_3a37a30b55",
      "text/plain": [
       "<IPython.core.display.Javascript object>"
      ]
     },
     "metadata": {},
     "output_type": "display_data"
    },
    {
     "data": {
      "application/javascript": "window[\"d0ae2854-6e12-11f0-831c-0242ac1c000c\"] = element_size.element_size.nelement.element_size.element_size.nelement.nelement();\n//# sourceURL=js_945509f28e",
      "text/plain": [
       "<IPython.core.display.Javascript object>"
      ]
     },
     "metadata": {},
     "output_type": "display_data"
    },
    {
     "data": {
      "application/javascript": "window[\"d0ae4f00-6e12-11f0-831c-0242ac1c000c\"] = window[\"d0adfc26-6e12-11f0-831c-0242ac1c000c\"] * window[\"d0ae2854-6e12-11f0-831c-0242ac1c000c\"];\n//# sourceURL=js_e8795b6483",
      "text/plain": [
       "<IPython.core.display.Javascript object>"
      ]
     },
     "metadata": {},
     "output_type": "display_data"
    },
    {
     "data": {
      "application/javascript": "window[\"d0ae7c82-6e12-11f0-831c-0242ac1c000c\"] = google.colab.nelement.element_size.nelement.element_size.element_size.element_size.element_size();\n//# sourceURL=js_505bbcbce6",
      "text/plain": [
       "<IPython.core.display.Javascript object>"
      ]
     },
     "metadata": {},
     "output_type": "display_data"
    },
    {
     "data": {
      "application/javascript": "window[\"d0aea9d2-6e12-11f0-831c-0242ac1c000c\"] = google.colab.nelement.element_size.nelement.element_size.element_size.element_size.nelement();\n//# sourceURL=js_c6ab2779bb",
      "text/plain": [
       "<IPython.core.display.Javascript object>"
      ]
     },
     "metadata": {},
     "output_type": "display_data"
    },
    {
     "data": {
      "application/javascript": "window[\"d0aed038-6e12-11f0-831c-0242ac1c000c\"] = window[\"d0ae7c82-6e12-11f0-831c-0242ac1c000c\"] * window[\"d0aea9d2-6e12-11f0-831c-0242ac1c000c\"];\n//# sourceURL=js_f273d81f71",
      "text/plain": [
       "<IPython.core.display.Javascript object>"
      ]
     },
     "metadata": {},
     "output_type": "display_data"
    },
    {
     "data": {
      "application/javascript": "window[\"d0af0274-6e12-11f0-831c-0242ac1c000c\"] = google.colab.nelement.element_size.nelement.element_size.element_size.nelement.element_size();\n//# sourceURL=js_8abfe2dc1d",
      "text/plain": [
       "<IPython.core.display.Javascript object>"
      ]
     },
     "metadata": {},
     "output_type": "display_data"
    },
    {
     "data": {
      "application/javascript": "window[\"d0af2fc4-6e12-11f0-831c-0242ac1c000c\"] = google.colab.nelement.element_size.nelement.element_size.element_size.nelement.nelement();\n//# sourceURL=js_aaa2918a7d",
      "text/plain": [
       "<IPython.core.display.Javascript object>"
      ]
     },
     "metadata": {},
     "output_type": "display_data"
    },
    {
     "data": {
      "application/javascript": "window[\"d0af6214-6e12-11f0-831c-0242ac1c000c\"] = window[\"d0af0274-6e12-11f0-831c-0242ac1c000c\"] * window[\"d0af2fc4-6e12-11f0-831c-0242ac1c000c\"];\n//# sourceURL=js_e75dfe4a87",
      "text/plain": [
       "<IPython.core.display.Javascript object>"
      ]
     },
     "metadata": {},
     "output_type": "display_data"
    },
    {
     "data": {
      "application/javascript": "window[\"d0af9586-6e12-11f0-831c-0242ac1c000c\"] = google.colab.element_size.element_size.nelement.element_size.element_size.element_size.element_size();\n//# sourceURL=js_9e2fee6d0f",
      "text/plain": [
       "<IPython.core.display.Javascript object>"
      ]
     },
     "metadata": {},
     "output_type": "display_data"
    },
    {
     "data": {
      "application/javascript": "window[\"d0afc394-6e12-11f0-831c-0242ac1c000c\"] = google.colab.element_size.element_size.nelement.element_size.element_size.element_size.nelement();\n//# sourceURL=js_7fb961f116",
      "text/plain": [
       "<IPython.core.display.Javascript object>"
      ]
     },
     "metadata": {},
     "output_type": "display_data"
    },
    {
     "data": {
      "application/javascript": "window[\"d0afec16-6e12-11f0-831c-0242ac1c000c\"] = window[\"d0af9586-6e12-11f0-831c-0242ac1c000c\"] * window[\"d0afc394-6e12-11f0-831c-0242ac1c000c\"];\n//# sourceURL=js_bc11374858",
      "text/plain": [
       "<IPython.core.display.Javascript object>"
      ]
     },
     "metadata": {},
     "output_type": "display_data"
    },
    {
     "data": {
      "application/javascript": "window[\"d0b02528-6e12-11f0-831c-0242ac1c000c\"] = google.colab.element_size.element_size.nelement.element_size.element_size.nelement.element_size();\n//# sourceURL=js_79b724d7da",
      "text/plain": [
       "<IPython.core.display.Javascript object>"
      ]
     },
     "metadata": {},
     "output_type": "display_data"
    },
    {
     "data": {
      "application/javascript": "window[\"d0b05aca-6e12-11f0-831c-0242ac1c000c\"] = google.colab.element_size.element_size.nelement.element_size.element_size.nelement.nelement();\n//# sourceURL=js_a3c3aa95c2",
      "text/plain": [
       "<IPython.core.display.Javascript object>"
      ]
     },
     "metadata": {},
     "output_type": "display_data"
    },
    {
     "data": {
      "application/javascript": "window[\"d0b08ce8-6e12-11f0-831c-0242ac1c000c\"] = window[\"d0b02528-6e12-11f0-831c-0242ac1c000c\"] * window[\"d0b05aca-6e12-11f0-831c-0242ac1c000c\"];\n//# sourceURL=js_428e40f832",
      "text/plain": [
       "<IPython.core.display.Javascript object>"
      ]
     },
     "metadata": {},
     "output_type": "display_data"
    },
    {
     "data": {
      "application/javascript": "window[\"d0b0b93e-6e12-11f0-831c-0242ac1c000c\"] = nelement.nelement.element_size.element_size.element_size.element_size.element_size();\n//# sourceURL=js_81775787fb",
      "text/plain": [
       "<IPython.core.display.Javascript object>"
      ]
     },
     "metadata": {},
     "output_type": "display_data"
    },
    {
     "data": {
      "application/javascript": "window[\"d0b0e9c2-6e12-11f0-831c-0242ac1c000c\"] = nelement.nelement.element_size.element_size.element_size.element_size.nelement();\n//# sourceURL=js_2ee1221da2",
      "text/plain": [
       "<IPython.core.display.Javascript object>"
      ]
     },
     "metadata": {},
     "output_type": "display_data"
    },
    {
     "data": {
      "application/javascript": "window[\"d0b10fec-6e12-11f0-831c-0242ac1c000c\"] = window[\"d0b0b93e-6e12-11f0-831c-0242ac1c000c\"] * window[\"d0b0e9c2-6e12-11f0-831c-0242ac1c000c\"];\n//# sourceURL=js_8ea58322ff",
      "text/plain": [
       "<IPython.core.display.Javascript object>"
      ]
     },
     "metadata": {},
     "output_type": "display_data"
    },
    {
     "data": {
      "application/javascript": "window[\"d0b14476-6e12-11f0-831c-0242ac1c000c\"] = nelement.nelement.element_size.element_size.element_size.nelement.element_size();\n//# sourceURL=js_df6856d1a6",
      "text/plain": [
       "<IPython.core.display.Javascript object>"
      ]
     },
     "metadata": {},
     "output_type": "display_data"
    },
    {
     "data": {
      "application/javascript": "window[\"d0b16f46-6e12-11f0-831c-0242ac1c000c\"] = nelement.nelement.element_size.element_size.element_size.nelement.nelement();\n//# sourceURL=js_7960028bac",
      "text/plain": [
       "<IPython.core.display.Javascript object>"
      ]
     },
     "metadata": {},
     "output_type": "display_data"
    },
    {
     "data": {
      "application/javascript": "window[\"d0b1a3e4-6e12-11f0-831c-0242ac1c000c\"] = window[\"d0b14476-6e12-11f0-831c-0242ac1c000c\"] * window[\"d0b16f46-6e12-11f0-831c-0242ac1c000c\"];\n//# sourceURL=js_77301bcc97",
      "text/plain": [
       "<IPython.core.display.Javascript object>"
      ]
     },
     "metadata": {},
     "output_type": "display_data"
    },
    {
     "data": {
      "application/javascript": "window[\"d0b1cfb8-6e12-11f0-831c-0242ac1c000c\"] = element_size.nelement.element_size.element_size.element_size.element_size.element_size();\n//# sourceURL=js_17d8110beb",
      "text/plain": [
       "<IPython.core.display.Javascript object>"
      ]
     },
     "metadata": {},
     "output_type": "display_data"
    },
    {
     "data": {
      "application/javascript": "window[\"d0b1fa56-6e12-11f0-831c-0242ac1c000c\"] = element_size.nelement.element_size.element_size.element_size.element_size.nelement();\n//# sourceURL=js_85e52708de",
      "text/plain": [
       "<IPython.core.display.Javascript object>"
      ]
     },
     "metadata": {},
     "output_type": "display_data"
    },
    {
     "data": {
      "application/javascript": "window[\"d0b22a12-6e12-11f0-831c-0242ac1c000c\"] = window[\"d0b1cfb8-6e12-11f0-831c-0242ac1c000c\"] * window[\"d0b1fa56-6e12-11f0-831c-0242ac1c000c\"];\n//# sourceURL=js_ec8776971c",
      "text/plain": [
       "<IPython.core.display.Javascript object>"
      ]
     },
     "metadata": {},
     "output_type": "display_data"
    },
    {
     "data": {
      "application/javascript": "window[\"d0b25f14-6e12-11f0-831c-0242ac1c000c\"] = element_size.nelement.element_size.element_size.element_size.nelement.element_size();\n//# sourceURL=js_eb2bfdd590",
      "text/plain": [
       "<IPython.core.display.Javascript object>"
      ]
     },
     "metadata": {},
     "output_type": "display_data"
    },
    {
     "data": {
      "application/javascript": "window[\"d0b28bb0-6e12-11f0-831c-0242ac1c000c\"] = element_size.nelement.element_size.element_size.element_size.nelement.nelement();\n//# sourceURL=js_b9604854cf",
      "text/plain": [
       "<IPython.core.display.Javascript object>"
      ]
     },
     "metadata": {},
     "output_type": "display_data"
    },
    {
     "data": {
      "application/javascript": "window[\"d0b2b55e-6e12-11f0-831c-0242ac1c000c\"] = window[\"d0b25f14-6e12-11f0-831c-0242ac1c000c\"] * window[\"d0b28bb0-6e12-11f0-831c-0242ac1c000c\"];\n//# sourceURL=js_2460f1776e",
      "text/plain": [
       "<IPython.core.display.Javascript object>"
      ]
     },
     "metadata": {},
     "output_type": "display_data"
    },
    {
     "data": {
      "application/javascript": "window[\"d0b2e204-6e12-11f0-831c-0242ac1c000c\"] = google.colab.nelement.nelement.element_size.element_size.element_size.element_size.element_size();\n//# sourceURL=js_7299a7fc85",
      "text/plain": [
       "<IPython.core.display.Javascript object>"
      ]
     },
     "metadata": {},
     "output_type": "display_data"
    },
    {
     "data": {
      "application/javascript": "window[\"d0b30c98-6e12-11f0-831c-0242ac1c000c\"] = google.colab.nelement.nelement.element_size.element_size.element_size.element_size.nelement();\n//# sourceURL=js_cd1f91a4cd",
      "text/plain": [
       "<IPython.core.display.Javascript object>"
      ]
     },
     "metadata": {},
     "output_type": "display_data"
    },
    {
     "data": {
      "application/javascript": "window[\"d0b33b78-6e12-11f0-831c-0242ac1c000c\"] = window[\"d0b2e204-6e12-11f0-831c-0242ac1c000c\"] * window[\"d0b30c98-6e12-11f0-831c-0242ac1c000c\"];\n//# sourceURL=js_705ca27ff6",
      "text/plain": [
       "<IPython.core.display.Javascript object>"
      ]
     },
     "metadata": {},
     "output_type": "display_data"
    },
    {
     "data": {
      "application/javascript": "window[\"d0b3622e-6e12-11f0-831c-0242ac1c000c\"] = google.colab.nelement.nelement.element_size.element_size.element_size.nelement.element_size();\n//# sourceURL=js_918015ace3",
      "text/plain": [
       "<IPython.core.display.Javascript object>"
      ]
     },
     "metadata": {},
     "output_type": "display_data"
    },
    {
     "data": {
      "application/javascript": "window[\"d0b391e0-6e12-11f0-831c-0242ac1c000c\"] = google.colab.nelement.nelement.element_size.element_size.element_size.nelement.nelement();\n//# sourceURL=js_332b11f165",
      "text/plain": [
       "<IPython.core.display.Javascript object>"
      ]
     },
     "metadata": {},
     "output_type": "display_data"
    },
    {
     "data": {
      "application/javascript": "window[\"d0b3ba44-6e12-11f0-831c-0242ac1c000c\"] = window[\"d0b3622e-6e12-11f0-831c-0242ac1c000c\"] * window[\"d0b391e0-6e12-11f0-831c-0242ac1c000c\"];\n//# sourceURL=js_372bafa353",
      "text/plain": [
       "<IPython.core.display.Javascript object>"
      ]
     },
     "metadata": {},
     "output_type": "display_data"
    },
    {
     "data": {
      "application/javascript": "window[\"d0b3ed98-6e12-11f0-831c-0242ac1c000c\"] = google.colab.element_size.nelement.element_size.element_size.element_size.element_size.element_size();\n//# sourceURL=js_2707ba47a6",
      "text/plain": [
       "<IPython.core.display.Javascript object>"
      ]
     },
     "metadata": {},
     "output_type": "display_data"
    },
    {
     "data": {
      "application/javascript": "window[\"d0b413ea-6e12-11f0-831c-0242ac1c000c\"] = google.colab.element_size.nelement.element_size.element_size.element_size.element_size.nelement();\n//# sourceURL=js_69bf8d8edf",
      "text/plain": [
       "<IPython.core.display.Javascript object>"
      ]
     },
     "metadata": {},
     "output_type": "display_data"
    },
    {
     "data": {
      "application/javascript": "window[\"d0b43b22-6e12-11f0-831c-0242ac1c000c\"] = window[\"d0b3ed98-6e12-11f0-831c-0242ac1c000c\"] * window[\"d0b413ea-6e12-11f0-831c-0242ac1c000c\"];\n//# sourceURL=js_f9fb939295",
      "text/plain": [
       "<IPython.core.display.Javascript object>"
      ]
     },
     "metadata": {},
     "output_type": "display_data"
    },
    {
     "data": {
      "application/javascript": "window[\"d0b46214-6e12-11f0-831c-0242ac1c000c\"] = google.colab.element_size.nelement.element_size.element_size.element_size.nelement.element_size();\n//# sourceURL=js_ede392aab1",
      "text/plain": [
       "<IPython.core.display.Javascript object>"
      ]
     },
     "metadata": {},
     "output_type": "display_data"
    },
    {
     "data": {
      "application/javascript": "window[\"d0b488ca-6e12-11f0-831c-0242ac1c000c\"] = google.colab.element_size.nelement.element_size.element_size.element_size.nelement.nelement();\n//# sourceURL=js_4083d78111",
      "text/plain": [
       "<IPython.core.display.Javascript object>"
      ]
     },
     "metadata": {},
     "output_type": "display_data"
    },
    {
     "data": {
      "application/javascript": "window[\"d0b4b070-6e12-11f0-831c-0242ac1c000c\"] = window[\"d0b46214-6e12-11f0-831c-0242ac1c000c\"] * window[\"d0b488ca-6e12-11f0-831c-0242ac1c000c\"];\n//# sourceURL=js_77e6f07ca3",
      "text/plain": [
       "<IPython.core.display.Javascript object>"
      ]
     },
     "metadata": {},
     "output_type": "display_data"
    },
    {
     "data": {
      "application/javascript": "window[\"d0b4d744-6e12-11f0-831c-0242ac1c000c\"] = nelement.element_size.element_size.element_size.element_size.element_size.element_size();\n//# sourceURL=js_d7c0ca950a",
      "text/plain": [
       "<IPython.core.display.Javascript object>"
      ]
     },
     "metadata": {},
     "output_type": "display_data"
    },
    {
     "data": {
      "application/javascript": "window[\"d0b5111e-6e12-11f0-831c-0242ac1c000c\"] = nelement.element_size.element_size.element_size.element_size.element_size.nelement();\n//# sourceURL=js_f91cde9051",
      "text/plain": [
       "<IPython.core.display.Javascript object>"
      ]
     },
     "metadata": {},
     "output_type": "display_data"
    },
    {
     "data": {
      "application/javascript": "window[\"d0b53824-6e12-11f0-831c-0242ac1c000c\"] = window[\"d0b4d744-6e12-11f0-831c-0242ac1c000c\"] * window[\"d0b5111e-6e12-11f0-831c-0242ac1c000c\"];\n//# sourceURL=js_a03494e9e2",
      "text/plain": [
       "<IPython.core.display.Javascript object>"
      ]
     },
     "metadata": {},
     "output_type": "display_data"
    },
    {
     "data": {
      "application/javascript": "window[\"d0b56592-6e12-11f0-831c-0242ac1c000c\"] = nelement.element_size.element_size.element_size.element_size.nelement.element_size();\n//# sourceURL=js_010f15d987",
      "text/plain": [
       "<IPython.core.display.Javascript object>"
      ]
     },
     "metadata": {},
     "output_type": "display_data"
    },
    {
     "data": {
      "application/javascript": "window[\"d0b5924c-6e12-11f0-831c-0242ac1c000c\"] = nelement.element_size.element_size.element_size.element_size.nelement.nelement();\n//# sourceURL=js_b7b88d8973",
      "text/plain": [
       "<IPython.core.display.Javascript object>"
      ]
     },
     "metadata": {},
     "output_type": "display_data"
    },
    {
     "data": {
      "application/javascript": "window[\"d0b5bc90-6e12-11f0-831c-0242ac1c000c\"] = window[\"d0b56592-6e12-11f0-831c-0242ac1c000c\"] * window[\"d0b5924c-6e12-11f0-831c-0242ac1c000c\"];\n//# sourceURL=js_90f8228a80",
      "text/plain": [
       "<IPython.core.display.Javascript object>"
      ]
     },
     "metadata": {},
     "output_type": "display_data"
    },
    {
     "data": {
      "application/javascript": "window[\"d0b5e6e8-6e12-11f0-831c-0242ac1c000c\"] = element_size.element_size.element_size.element_size.element_size.element_size.element_size();\n//# sourceURL=js_5f27c35d56",
      "text/plain": [
       "<IPython.core.display.Javascript object>"
      ]
     },
     "metadata": {},
     "output_type": "display_data"
    },
    {
     "data": {
      "application/javascript": "window[\"d0b6149c-6e12-11f0-831c-0242ac1c000c\"] = element_size.element_size.element_size.element_size.element_size.element_size.nelement();\n//# sourceURL=js_e4a75462b0",
      "text/plain": [
       "<IPython.core.display.Javascript object>"
      ]
     },
     "metadata": {},
     "output_type": "display_data"
    },
    {
     "data": {
      "application/javascript": "window[\"d0b645d4-6e12-11f0-831c-0242ac1c000c\"] = window[\"d0b5e6e8-6e12-11f0-831c-0242ac1c000c\"] * window[\"d0b6149c-6e12-11f0-831c-0242ac1c000c\"];\n//# sourceURL=js_25b1655bb6",
      "text/plain": [
       "<IPython.core.display.Javascript object>"
      ]
     },
     "metadata": {},
     "output_type": "display_data"
    },
    {
     "data": {
      "application/javascript": "window[\"d0b67504-6e12-11f0-831c-0242ac1c000c\"] = element_size.element_size.element_size.element_size.element_size.nelement.element_size();\n//# sourceURL=js_19b748a5f5",
      "text/plain": [
       "<IPython.core.display.Javascript object>"
      ]
     },
     "metadata": {},
     "output_type": "display_data"
    },
    {
     "data": {
      "application/javascript": "window[\"d0b6a006-6e12-11f0-831c-0242ac1c000c\"] = element_size.element_size.element_size.element_size.element_size.nelement.nelement();\n//# sourceURL=js_5d05c70fe8",
      "text/plain": [
       "<IPython.core.display.Javascript object>"
      ]
     },
     "metadata": {},
     "output_type": "display_data"
    },
    {
     "data": {
      "application/javascript": "window[\"d0b6c98c-6e12-11f0-831c-0242ac1c000c\"] = window[\"d0b67504-6e12-11f0-831c-0242ac1c000c\"] * window[\"d0b6a006-6e12-11f0-831c-0242ac1c000c\"];\n//# sourceURL=js_dedd71cf6d",
      "text/plain": [
       "<IPython.core.display.Javascript object>"
      ]
     },
     "metadata": {},
     "output_type": "display_data"
    },
    {
     "data": {
      "application/javascript": "window[\"d0b6f36c-6e12-11f0-831c-0242ac1c000c\"] = google.colab.nelement.element_size.element_size.element_size.element_size.element_size.element_size();\n//# sourceURL=js_1dda667b96",
      "text/plain": [
       "<IPython.core.display.Javascript object>"
      ]
     },
     "metadata": {},
     "output_type": "display_data"
    },
    {
     "data": {
      "application/javascript": "window[\"d0b71d06-6e12-11f0-831c-0242ac1c000c\"] = google.colab.nelement.element_size.element_size.element_size.element_size.element_size.nelement();\n//# sourceURL=js_8f5e2d6e8f",
      "text/plain": [
       "<IPython.core.display.Javascript object>"
      ]
     },
     "metadata": {},
     "output_type": "display_data"
    },
    {
     "data": {
      "application/javascript": "window[\"d0b74704-6e12-11f0-831c-0242ac1c000c\"] = window[\"d0b6f36c-6e12-11f0-831c-0242ac1c000c\"] * window[\"d0b71d06-6e12-11f0-831c-0242ac1c000c\"];\n//# sourceURL=js_5ff8b2b488",
      "text/plain": [
       "<IPython.core.display.Javascript object>"
      ]
     },
     "metadata": {},
     "output_type": "display_data"
    },
    {
     "data": {
      "application/javascript": "window[\"d0b77080-6e12-11f0-831c-0242ac1c000c\"] = google.colab.nelement.element_size.element_size.element_size.element_size.nelement.element_size();\n//# sourceURL=js_990f4d6d47",
      "text/plain": [
       "<IPython.core.display.Javascript object>"
      ]
     },
     "metadata": {},
     "output_type": "display_data"
    },
    {
     "data": {
      "application/javascript": "window[\"d0b79b1e-6e12-11f0-831c-0242ac1c000c\"] = google.colab.nelement.element_size.element_size.element_size.element_size.nelement.nelement();\n//# sourceURL=js_a71ffd4682",
      "text/plain": [
       "<IPython.core.display.Javascript object>"
      ]
     },
     "metadata": {},
     "output_type": "display_data"
    },
    {
     "data": {
      "application/javascript": "window[\"d0b7c54e-6e12-11f0-831c-0242ac1c000c\"] = window[\"d0b77080-6e12-11f0-831c-0242ac1c000c\"] * window[\"d0b79b1e-6e12-11f0-831c-0242ac1c000c\"];\n//# sourceURL=js_74c38b0806",
      "text/plain": [
       "<IPython.core.display.Javascript object>"
      ]
     },
     "metadata": {},
     "output_type": "display_data"
    },
    {
     "data": {
      "application/javascript": "window[\"d0b7f492-6e12-11f0-831c-0242ac1c000c\"] = google.colab.element_size.element_size.element_size.element_size.element_size.element_size.element_size();\n//# sourceURL=js_828533c380",
      "text/plain": [
       "<IPython.core.display.Javascript object>"
      ]
     },
     "metadata": {},
     "output_type": "display_data"
    },
    {
     "data": {
      "application/javascript": "window[\"d0b8267e-6e12-11f0-831c-0242ac1c000c\"] = google.colab.element_size.element_size.element_size.element_size.element_size.element_size.nelement();\n//# sourceURL=js_db8dd074e8",
      "text/plain": [
       "<IPython.core.display.Javascript object>"
      ]
     },
     "metadata": {},
     "output_type": "display_data"
    },
    {
     "data": {
      "application/javascript": "window[\"d0b8502c-6e12-11f0-831c-0242ac1c000c\"] = window[\"d0b7f492-6e12-11f0-831c-0242ac1c000c\"] * window[\"d0b8267e-6e12-11f0-831c-0242ac1c000c\"];\n//# sourceURL=js_d93c1e0ccf",
      "text/plain": [
       "<IPython.core.display.Javascript object>"
      ]
     },
     "metadata": {},
     "output_type": "display_data"
    },
    {
     "data": {
      "application/javascript": "window[\"d0b87aac-6e12-11f0-831c-0242ac1c000c\"] = google.colab.element_size.element_size.element_size.element_size.element_size.nelement.element_size();\n//# sourceURL=js_3c60555bed",
      "text/plain": [
       "<IPython.core.display.Javascript object>"
      ]
     },
     "metadata": {},
     "output_type": "display_data"
    },
    {
     "data": {
      "application/javascript": "window[\"d0b8a69e-6e12-11f0-831c-0242ac1c000c\"] = google.colab.element_size.element_size.element_size.element_size.element_size.nelement.nelement();\n//# sourceURL=js_a9eff090aa",
      "text/plain": [
       "<IPython.core.display.Javascript object>"
      ]
     },
     "metadata": {},
     "output_type": "display_data"
    },
    {
     "data": {
      "application/javascript": "window[\"d0b8d0ec-6e12-11f0-831c-0242ac1c000c\"] = window[\"d0b87aac-6e12-11f0-831c-0242ac1c000c\"] * window[\"d0b8a69e-6e12-11f0-831c-0242ac1c000c\"];\n//# sourceURL=js_02142b0e62",
      "text/plain": [
       "<IPython.core.display.Javascript object>"
      ]
     },
     "metadata": {},
     "output_type": "display_data"
    },
    {
     "data": {
      "text/plain": [
       "0"
      ]
     },
     "execution_count": 37,
     "metadata": {},
     "output_type": "execute_result"
    }
   ],
   "source": [
    "for obj in gc.get_objects():\n",
    "    try:\n",
    "        byte_size = obj.element_size() * obj.nelement()\n",
    "        if torch.is_tensor(obj) and obj.is_cuda and byte_size > 1024**2 and byte_size < 1024**3:\n",
    "            print(f\"Tensor: {type(obj)}, Size: {obj.size()}, Memory: {byte_size / 1024**2:.2f} MB\")\n",
    "            del obj\n",
    "    except:\n",
    "        pass\n",
    "gc.collect()"
   ]
  },
  {
   "cell_type": "code",
   "execution_count": null,
   "metadata": {},
   "outputs": [],
   "source": []
  },
  {
   "cell_type": "code",
   "execution_count": null,
   "metadata": {},
   "outputs": [],
   "source": []
  },
  {
   "cell_type": "code",
   "execution_count": null,
   "metadata": {},
   "outputs": [],
   "source": []
  },
  {
   "cell_type": "code",
   "execution_count": null,
   "metadata": {},
   "outputs": [],
   "source": []
  },
  {
   "cell_type": "code",
   "execution_count": null,
   "metadata": {},
   "outputs": [],
   "source": [
    "def loss_func(pred_outs, gt_outs, lambda_reg, lora_A_list, lora_B_list):\n",
    "    total_loss = 0.0\n",
    "    num_layers = len(gt_outs)\n",
    "\n",
    "    for i in range(num_layers):\n",
    "        # Normalized MSE loss\n",
    "        mse_loss = F.mse_loss(pred_outs[i], gt_outs[i], reduction='sum') / torch.sum(pred_outs[i] ** 2)\n",
    "        \n",
    "        # L2 regularization for LoRA matrices\n",
    "        reg_loss = lambda_reg * (torch.norm(lora_A_list[i], p=2) ** 2 + torch.norm(lora_B_list[i], p=2) ** 2)\n",
    "\n",
    "        total_loss += mse_loss + reg_loss\n",
    "\n",
    "    return total_loss / num_layers  # Averaging loss across layers"
   ]
  }
 ],
 "metadata": {
  "kernelspec": {
   "display_name": "Python 3 (ipykernel)",
   "language": "python",
   "name": "python3"
  },
  "language_info": {
   "codemirror_mode": {
    "name": "ipython",
    "version": 3
   },
   "file_extension": ".py",
   "mimetype": "text/x-python",
   "name": "python",
   "nbconvert_exporter": "python",
   "pygments_lexer": "ipython3",
   "version": "3.11.13"
  }
 },
 "nbformat": 4,
 "nbformat_minor": 2
}
