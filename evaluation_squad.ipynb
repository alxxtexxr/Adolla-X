{
 "cells": [
  {
   "cell_type": "code",
   "execution_count": 1,
   "metadata": {},
   "outputs": [
    {
     "name": "stdout",
     "output_type": "stream",
     "text": [
      "Device: cuda\n"
     ]
    }
   ],
   "source": [
    "import torch\n",
    "from datasets import load_dataset\n",
    "from evaluate import evaluator\n",
    "from pprint import pprint\n",
    "\n",
    "# Set device\n",
    "def get_device():\n",
    "    if torch.cuda.is_available():\n",
    "        return torch.device('cuda')\n",
    "    elif hasattr(torch.backends, 'mps') and torch.backends.mps.is_available():\n",
    "        return torch.device('mps')  # For Apple Silicon\n",
    "    else:\n",
    "        return torch.device('cpu')\n",
    "\n",
    "device = get_device()\n",
    "print(\"Device:\", device)"
   ]
  },
  {
   "cell_type": "code",
   "execution_count": 2,
   "metadata": {},
   "outputs": [
    {
     "data": {
      "application/vnd.jupyter.widget-view+json": {
       "model_id": "e373ae2eff4b45f4951509f2bb27ce6c",
       "version_major": 2,
       "version_minor": 0
      },
      "text/plain": [
       "Loading checkpoint shards:   0%|          | 0/4 [00:00<?, ?it/s]"
      ]
     },
     "metadata": {},
     "output_type": "display_data"
    },
    {
     "name": "stderr",
     "output_type": "stream",
     "text": [
      "Some weights of LlamaForQuestionAnswering were not initialized from the model checkpoint at unsloth/Meta-Llama-3.1-8B and are newly initialized: ['qa_outputs.bias', 'qa_outputs.weight', 'transformer.embed_tokens.weight', 'transformer.layers.0.input_layernorm.weight', 'transformer.layers.0.mlp.down_proj.weight', 'transformer.layers.0.mlp.gate_proj.weight', 'transformer.layers.0.mlp.up_proj.weight', 'transformer.layers.0.post_attention_layernorm.weight', 'transformer.layers.0.self_attn.k_proj.weight', 'transformer.layers.0.self_attn.o_proj.weight', 'transformer.layers.0.self_attn.q_proj.weight', 'transformer.layers.0.self_attn.v_proj.weight', 'transformer.layers.1.input_layernorm.weight', 'transformer.layers.1.mlp.down_proj.weight', 'transformer.layers.1.mlp.gate_proj.weight', 'transformer.layers.1.mlp.up_proj.weight', 'transformer.layers.1.post_attention_layernorm.weight', 'transformer.layers.1.self_attn.k_proj.weight', 'transformer.layers.1.self_attn.o_proj.weight', 'transformer.layers.1.self_attn.q_proj.weight', 'transformer.layers.1.self_attn.v_proj.weight', 'transformer.layers.10.input_layernorm.weight', 'transformer.layers.10.mlp.down_proj.weight', 'transformer.layers.10.mlp.gate_proj.weight', 'transformer.layers.10.mlp.up_proj.weight', 'transformer.layers.10.post_attention_layernorm.weight', 'transformer.layers.10.self_attn.k_proj.weight', 'transformer.layers.10.self_attn.o_proj.weight', 'transformer.layers.10.self_attn.q_proj.weight', 'transformer.layers.10.self_attn.v_proj.weight', 'transformer.layers.11.input_layernorm.weight', 'transformer.layers.11.mlp.down_proj.weight', 'transformer.layers.11.mlp.gate_proj.weight', 'transformer.layers.11.mlp.up_proj.weight', 'transformer.layers.11.post_attention_layernorm.weight', 'transformer.layers.11.self_attn.k_proj.weight', 'transformer.layers.11.self_attn.o_proj.weight', 'transformer.layers.11.self_attn.q_proj.weight', 'transformer.layers.11.self_attn.v_proj.weight', 'transformer.layers.12.input_layernorm.weight', 'transformer.layers.12.mlp.down_proj.weight', 'transformer.layers.12.mlp.gate_proj.weight', 'transformer.layers.12.mlp.up_proj.weight', 'transformer.layers.12.post_attention_layernorm.weight', 'transformer.layers.12.self_attn.k_proj.weight', 'transformer.layers.12.self_attn.o_proj.weight', 'transformer.layers.12.self_attn.q_proj.weight', 'transformer.layers.12.self_attn.v_proj.weight', 'transformer.layers.13.input_layernorm.weight', 'transformer.layers.13.mlp.down_proj.weight', 'transformer.layers.13.mlp.gate_proj.weight', 'transformer.layers.13.mlp.up_proj.weight', 'transformer.layers.13.post_attention_layernorm.weight', 'transformer.layers.13.self_attn.k_proj.weight', 'transformer.layers.13.self_attn.o_proj.weight', 'transformer.layers.13.self_attn.q_proj.weight', 'transformer.layers.13.self_attn.v_proj.weight', 'transformer.layers.14.input_layernorm.weight', 'transformer.layers.14.mlp.down_proj.weight', 'transformer.layers.14.mlp.gate_proj.weight', 'transformer.layers.14.mlp.up_proj.weight', 'transformer.layers.14.post_attention_layernorm.weight', 'transformer.layers.14.self_attn.k_proj.weight', 'transformer.layers.14.self_attn.o_proj.weight', 'transformer.layers.14.self_attn.q_proj.weight', 'transformer.layers.14.self_attn.v_proj.weight', 'transformer.layers.15.input_layernorm.weight', 'transformer.layers.15.mlp.down_proj.weight', 'transformer.layers.15.mlp.gate_proj.weight', 'transformer.layers.15.mlp.up_proj.weight', 'transformer.layers.15.post_attention_layernorm.weight', 'transformer.layers.15.self_attn.k_proj.weight', 'transformer.layers.15.self_attn.o_proj.weight', 'transformer.layers.15.self_attn.q_proj.weight', 'transformer.layers.15.self_attn.v_proj.weight', 'transformer.layers.16.input_layernorm.weight', 'transformer.layers.16.mlp.down_proj.weight', 'transformer.layers.16.mlp.gate_proj.weight', 'transformer.layers.16.mlp.up_proj.weight', 'transformer.layers.16.post_attention_layernorm.weight', 'transformer.layers.16.self_attn.k_proj.weight', 'transformer.layers.16.self_attn.o_proj.weight', 'transformer.layers.16.self_attn.q_proj.weight', 'transformer.layers.16.self_attn.v_proj.weight', 'transformer.layers.17.input_layernorm.weight', 'transformer.layers.17.mlp.down_proj.weight', 'transformer.layers.17.mlp.gate_proj.weight', 'transformer.layers.17.mlp.up_proj.weight', 'transformer.layers.17.post_attention_layernorm.weight', 'transformer.layers.17.self_attn.k_proj.weight', 'transformer.layers.17.self_attn.o_proj.weight', 'transformer.layers.17.self_attn.q_proj.weight', 'transformer.layers.17.self_attn.v_proj.weight', 'transformer.layers.18.input_layernorm.weight', 'transformer.layers.18.mlp.down_proj.weight', 'transformer.layers.18.mlp.gate_proj.weight', 'transformer.layers.18.mlp.up_proj.weight', 'transformer.layers.18.post_attention_layernorm.weight', 'transformer.layers.18.self_attn.k_proj.weight', 'transformer.layers.18.self_attn.o_proj.weight', 'transformer.layers.18.self_attn.q_proj.weight', 'transformer.layers.18.self_attn.v_proj.weight', 'transformer.layers.19.input_layernorm.weight', 'transformer.layers.19.mlp.down_proj.weight', 'transformer.layers.19.mlp.gate_proj.weight', 'transformer.layers.19.mlp.up_proj.weight', 'transformer.layers.19.post_attention_layernorm.weight', 'transformer.layers.19.self_attn.k_proj.weight', 'transformer.layers.19.self_attn.o_proj.weight', 'transformer.layers.19.self_attn.q_proj.weight', 'transformer.layers.19.self_attn.v_proj.weight', 'transformer.layers.2.input_layernorm.weight', 'transformer.layers.2.mlp.down_proj.weight', 'transformer.layers.2.mlp.gate_proj.weight', 'transformer.layers.2.mlp.up_proj.weight', 'transformer.layers.2.post_attention_layernorm.weight', 'transformer.layers.2.self_attn.k_proj.weight', 'transformer.layers.2.self_attn.o_proj.weight', 'transformer.layers.2.self_attn.q_proj.weight', 'transformer.layers.2.self_attn.v_proj.weight', 'transformer.layers.20.input_layernorm.weight', 'transformer.layers.20.mlp.down_proj.weight', 'transformer.layers.20.mlp.gate_proj.weight', 'transformer.layers.20.mlp.up_proj.weight', 'transformer.layers.20.post_attention_layernorm.weight', 'transformer.layers.20.self_attn.k_proj.weight', 'transformer.layers.20.self_attn.o_proj.weight', 'transformer.layers.20.self_attn.q_proj.weight', 'transformer.layers.20.self_attn.v_proj.weight', 'transformer.layers.21.input_layernorm.weight', 'transformer.layers.21.mlp.down_proj.weight', 'transformer.layers.21.mlp.gate_proj.weight', 'transformer.layers.21.mlp.up_proj.weight', 'transformer.layers.21.post_attention_layernorm.weight', 'transformer.layers.21.self_attn.k_proj.weight', 'transformer.layers.21.self_attn.o_proj.weight', 'transformer.layers.21.self_attn.q_proj.weight', 'transformer.layers.21.self_attn.v_proj.weight', 'transformer.layers.22.input_layernorm.weight', 'transformer.layers.22.mlp.down_proj.weight', 'transformer.layers.22.mlp.gate_proj.weight', 'transformer.layers.22.mlp.up_proj.weight', 'transformer.layers.22.post_attention_layernorm.weight', 'transformer.layers.22.self_attn.k_proj.weight', 'transformer.layers.22.self_attn.o_proj.weight', 'transformer.layers.22.self_attn.q_proj.weight', 'transformer.layers.22.self_attn.v_proj.weight', 'transformer.layers.23.input_layernorm.weight', 'transformer.layers.23.mlp.down_proj.weight', 'transformer.layers.23.mlp.gate_proj.weight', 'transformer.layers.23.mlp.up_proj.weight', 'transformer.layers.23.post_attention_layernorm.weight', 'transformer.layers.23.self_attn.k_proj.weight', 'transformer.layers.23.self_attn.o_proj.weight', 'transformer.layers.23.self_attn.q_proj.weight', 'transformer.layers.23.self_attn.v_proj.weight', 'transformer.layers.24.input_layernorm.weight', 'transformer.layers.24.mlp.down_proj.weight', 'transformer.layers.24.mlp.gate_proj.weight', 'transformer.layers.24.mlp.up_proj.weight', 'transformer.layers.24.post_attention_layernorm.weight', 'transformer.layers.24.self_attn.k_proj.weight', 'transformer.layers.24.self_attn.o_proj.weight', 'transformer.layers.24.self_attn.q_proj.weight', 'transformer.layers.24.self_attn.v_proj.weight', 'transformer.layers.25.input_layernorm.weight', 'transformer.layers.25.mlp.down_proj.weight', 'transformer.layers.25.mlp.gate_proj.weight', 'transformer.layers.25.mlp.up_proj.weight', 'transformer.layers.25.post_attention_layernorm.weight', 'transformer.layers.25.self_attn.k_proj.weight', 'transformer.layers.25.self_attn.o_proj.weight', 'transformer.layers.25.self_attn.q_proj.weight', 'transformer.layers.25.self_attn.v_proj.weight', 'transformer.layers.26.input_layernorm.weight', 'transformer.layers.26.mlp.down_proj.weight', 'transformer.layers.26.mlp.gate_proj.weight', 'transformer.layers.26.mlp.up_proj.weight', 'transformer.layers.26.post_attention_layernorm.weight', 'transformer.layers.26.self_attn.k_proj.weight', 'transformer.layers.26.self_attn.o_proj.weight', 'transformer.layers.26.self_attn.q_proj.weight', 'transformer.layers.26.self_attn.v_proj.weight', 'transformer.layers.27.input_layernorm.weight', 'transformer.layers.27.mlp.down_proj.weight', 'transformer.layers.27.mlp.gate_proj.weight', 'transformer.layers.27.mlp.up_proj.weight', 'transformer.layers.27.post_attention_layernorm.weight', 'transformer.layers.27.self_attn.k_proj.weight', 'transformer.layers.27.self_attn.o_proj.weight', 'transformer.layers.27.self_attn.q_proj.weight', 'transformer.layers.27.self_attn.v_proj.weight', 'transformer.layers.28.input_layernorm.weight', 'transformer.layers.28.mlp.down_proj.weight', 'transformer.layers.28.mlp.gate_proj.weight', 'transformer.layers.28.mlp.up_proj.weight', 'transformer.layers.28.post_attention_layernorm.weight', 'transformer.layers.28.self_attn.k_proj.weight', 'transformer.layers.28.self_attn.o_proj.weight', 'transformer.layers.28.self_attn.q_proj.weight', 'transformer.layers.28.self_attn.v_proj.weight', 'transformer.layers.29.input_layernorm.weight', 'transformer.layers.29.mlp.down_proj.weight', 'transformer.layers.29.mlp.gate_proj.weight', 'transformer.layers.29.mlp.up_proj.weight', 'transformer.layers.29.post_attention_layernorm.weight', 'transformer.layers.29.self_attn.k_proj.weight', 'transformer.layers.29.self_attn.o_proj.weight', 'transformer.layers.29.self_attn.q_proj.weight', 'transformer.layers.29.self_attn.v_proj.weight', 'transformer.layers.3.input_layernorm.weight', 'transformer.layers.3.mlp.down_proj.weight', 'transformer.layers.3.mlp.gate_proj.weight', 'transformer.layers.3.mlp.up_proj.weight', 'transformer.layers.3.post_attention_layernorm.weight', 'transformer.layers.3.self_attn.k_proj.weight', 'transformer.layers.3.self_attn.o_proj.weight', 'transformer.layers.3.self_attn.q_proj.weight', 'transformer.layers.3.self_attn.v_proj.weight', 'transformer.layers.30.input_layernorm.weight', 'transformer.layers.30.mlp.down_proj.weight', 'transformer.layers.30.mlp.gate_proj.weight', 'transformer.layers.30.mlp.up_proj.weight', 'transformer.layers.30.post_attention_layernorm.weight', 'transformer.layers.30.self_attn.k_proj.weight', 'transformer.layers.30.self_attn.o_proj.weight', 'transformer.layers.30.self_attn.q_proj.weight', 'transformer.layers.30.self_attn.v_proj.weight', 'transformer.layers.31.input_layernorm.weight', 'transformer.layers.31.mlp.down_proj.weight', 'transformer.layers.31.mlp.gate_proj.weight', 'transformer.layers.31.mlp.up_proj.weight', 'transformer.layers.31.post_attention_layernorm.weight', 'transformer.layers.31.self_attn.k_proj.weight', 'transformer.layers.31.self_attn.o_proj.weight', 'transformer.layers.31.self_attn.q_proj.weight', 'transformer.layers.31.self_attn.v_proj.weight', 'transformer.layers.4.input_layernorm.weight', 'transformer.layers.4.mlp.down_proj.weight', 'transformer.layers.4.mlp.gate_proj.weight', 'transformer.layers.4.mlp.up_proj.weight', 'transformer.layers.4.post_attention_layernorm.weight', 'transformer.layers.4.self_attn.k_proj.weight', 'transformer.layers.4.self_attn.o_proj.weight', 'transformer.layers.4.self_attn.q_proj.weight', 'transformer.layers.4.self_attn.v_proj.weight', 'transformer.layers.5.input_layernorm.weight', 'transformer.layers.5.mlp.down_proj.weight', 'transformer.layers.5.mlp.gate_proj.weight', 'transformer.layers.5.mlp.up_proj.weight', 'transformer.layers.5.post_attention_layernorm.weight', 'transformer.layers.5.self_attn.k_proj.weight', 'transformer.layers.5.self_attn.o_proj.weight', 'transformer.layers.5.self_attn.q_proj.weight', 'transformer.layers.5.self_attn.v_proj.weight', 'transformer.layers.6.input_layernorm.weight', 'transformer.layers.6.mlp.down_proj.weight', 'transformer.layers.6.mlp.gate_proj.weight', 'transformer.layers.6.mlp.up_proj.weight', 'transformer.layers.6.post_attention_layernorm.weight', 'transformer.layers.6.self_attn.k_proj.weight', 'transformer.layers.6.self_attn.o_proj.weight', 'transformer.layers.6.self_attn.q_proj.weight', 'transformer.layers.6.self_attn.v_proj.weight', 'transformer.layers.7.input_layernorm.weight', 'transformer.layers.7.mlp.down_proj.weight', 'transformer.layers.7.mlp.gate_proj.weight', 'transformer.layers.7.mlp.up_proj.weight', 'transformer.layers.7.post_attention_layernorm.weight', 'transformer.layers.7.self_attn.k_proj.weight', 'transformer.layers.7.self_attn.o_proj.weight', 'transformer.layers.7.self_attn.q_proj.weight', 'transformer.layers.7.self_attn.v_proj.weight', 'transformer.layers.8.input_layernorm.weight', 'transformer.layers.8.mlp.down_proj.weight', 'transformer.layers.8.mlp.gate_proj.weight', 'transformer.layers.8.mlp.up_proj.weight', 'transformer.layers.8.post_attention_layernorm.weight', 'transformer.layers.8.self_attn.k_proj.weight', 'transformer.layers.8.self_attn.o_proj.weight', 'transformer.layers.8.self_attn.q_proj.weight', 'transformer.layers.8.self_attn.v_proj.weight', 'transformer.layers.9.input_layernorm.weight', 'transformer.layers.9.mlp.down_proj.weight', 'transformer.layers.9.mlp.gate_proj.weight', 'transformer.layers.9.mlp.up_proj.weight', 'transformer.layers.9.post_attention_layernorm.weight', 'transformer.layers.9.self_attn.k_proj.weight', 'transformer.layers.9.self_attn.o_proj.weight', 'transformer.layers.9.self_attn.q_proj.weight', 'transformer.layers.9.self_attn.v_proj.weight', 'transformer.norm.weight']\n",
      "You should probably TRAIN this model on a down-stream task to be able to use it for predictions and inference.\n",
      "Device set to use cuda:0\n"
     ]
    }
   ],
   "source": [
    "test_size = 1000\n",
    "data = load_dataset('squad', split=f'validation[:{test_size}]')\n",
    "\n",
    "# model = 'distilbert-base-uncased-distilled-squad'\n",
    "model = 'unsloth/Meta-Llama-3.1-8B'\n",
    "\n",
    "task_evaluator = evaluator('question-answering')\n",
    "\n",
    "eval_results = task_evaluator.compute(\n",
    "    model_or_pipeline=model,\n",
    "    data=data,\n",
    "    metric='squad',\n",
    "    strategy='bootstrap',\n",
    "    n_resamples=30,\n",
    "    squad_v2_format=False,  # Whether the dataset follows the format of squad_v2 dataset, where a question may have no answer in the context\n",
    ")"
   ]
  },
  {
   "cell_type": "code",
   "execution_count": 3,
   "metadata": {},
   "outputs": [
    {
     "name": "stdout",
     "output_type": "stream",
     "text": [
      "{'exact_match': {'confidence_interval': (0.1,\n",
      "                                         0.7),\n",
      "                 'standard_error': 0.16832508230603463,\n",
      "                 'score': 0.3},\n",
      " 'f1': {'confidence_interval': (3.4574312388097836,\n",
      "                                4.913074192513453),\n",
      "        'standard_error': 0.4179175251449614,\n",
      "        'score': 4.172294649794647},\n",
      " 'total_time_in_seconds': 52.72567349579185,\n",
      " 'samples_per_second': 18.966092487748156,\n",
      " 'latency_in_seconds': 0.05272567349579186}\n"
     ]
    }
   ],
   "source": [
    "pprint(eval_results, width=50, sort_dicts=False)"
   ]
  }
 ],
 "metadata": {
  "kernelspec": {
   "display_name": "Python 3 (ipykernel)",
   "language": "python",
   "name": "python3"
  },
  "language_info": {
   "codemirror_mode": {
    "name": "ipython",
    "version": 3
   },
   "file_extension": ".py",
   "mimetype": "text/x-python",
   "name": "python",
   "nbconvert_exporter": "python",
   "pygments_lexer": "ipython3",
   "version": "3.10.11"
  }
 },
 "nbformat": 4,
 "nbformat_minor": 4
}
